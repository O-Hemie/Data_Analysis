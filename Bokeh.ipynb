{
 "cells": [
  {
   "cell_type": "markdown",
   "id": "8fc1098d",
   "metadata": {},
   "source": [
    "# Creating Interactive Javascript Powered Visualization Using Bokeh"
   ]
  },
  {
   "cell_type": "code",
   "execution_count": 1,
   "id": "d788ab4d",
   "metadata": {},
   "outputs": [],
   "source": [
    "from bokeh.plotting import figure, show, save, output_file"
   ]
  },
  {
   "cell_type": "code",
   "execution_count": 2,
   "id": "4fdf16c0",
   "metadata": {},
   "outputs": [],
   "source": [
    "from bokeh.models import BoxAnnotation, Title, NumeralTickFormatter, DatetimeTickFormatter, ColumnDataSource,CDSView, IndexFilter, Div, RangeSlider, Spinner\n"
   ]
  },
  {
   "cell_type": "code",
   "execution_count": 3,
   "id": "16bbf4ba",
   "metadata": {},
   "outputs": [],
   "source": [
    "import random"
   ]
  },
  {
   "cell_type": "code",
   "execution_count": 4,
   "id": "77037d0c",
   "metadata": {},
   "outputs": [],
   "source": [
    "import numpy as np"
   ]
  },
  {
   "cell_type": "code",
   "execution_count": 5,
   "id": "2860ad8f",
   "metadata": {},
   "outputs": [],
   "source": [
    "from bokeh.io import curdoc, show, output_notebook, export_png"
   ]
  },
  {
   "cell_type": "code",
   "execution_count": 6,
   "id": "63a83edb",
   "metadata": {},
   "outputs": [],
   "source": [
    "from datetime import datetime, timedelta"
   ]
  },
  {
   "cell_type": "code",
   "execution_count": 7,
   "id": "76467480",
   "metadata": {},
   "outputs": [],
   "source": [
    "from bokeh.models.tools import BoxZoomTool, ResetTool, PanTool, BoxSelectTool, HoverTool"
   ]
  },
  {
   "cell_type": "code",
   "execution_count": 8,
   "id": "46d2edec",
   "metadata": {},
   "outputs": [],
   "source": [
    "from bokeh.palettes import Turbo256\n",
    "from bokeh.transform import linear_cmap"
   ]
  },
  {
   "cell_type": "code",
   "execution_count": 9,
   "id": "29b1dd2d",
   "metadata": {},
   "outputs": [],
   "source": [
    "from bokeh.layouts import row, column, gridplot"
   ]
  },
  {
   "cell_type": "markdown",
   "id": "528d4f56",
   "metadata": {},
   "source": [
    "# Single Line Example"
   ]
  },
  {
   "cell_type": "code",
   "execution_count": 17,
   "id": "0437edf5",
   "metadata": {},
   "outputs": [],
   "source": [
    "x = [1, 2, 3, 4, 5, 6]\n",
    "y = [6, 7, 4, 5, 6, 7]"
   ]
  },
  {
   "cell_type": "code",
   "execution_count": 18,
   "id": "ff081106",
   "metadata": {},
   "outputs": [],
   "source": [
    "p = figure(title='Simple line graph', x_axis_label='x', y_axis_label= 'y')"
   ]
  },
  {
   "cell_type": "code",
   "execution_count": 19,
   "id": "202c1851",
   "metadata": {},
   "outputs": [
    {
     "data": {
      "text/html": [
       "\n",
       "  <div class=\"bk-root\" id=\"0110511f-f8f5-4d31-8b47-dd2d3a376d0c\" data-root-id=\"1290\"></div>\n"
      ]
     },
     "metadata": {},
     "output_type": "display_data"
    },
    {
     "data": {
      "application/javascript": [
       "(function(root) {\n",
       "  function embed_document(root) {\n",
       "  const docs_json = {\"1b3cbfd1-3500-47d1-b3d4-897f31614b1d\":{\"defs\":[],\"roots\":{\"references\":[{\"attributes\":{\"below\":[{\"id\":\"1301\"}],\"center\":[{\"id\":\"1304\"},{\"id\":\"1308\"},{\"id\":\"1339\"}],\"left\":[{\"id\":\"1305\"}],\"renderers\":[{\"id\":\"1327\"}],\"title\":{\"id\":\"1291\"},\"toolbar\":{\"id\":\"1316\"},\"x_range\":{\"id\":\"1293\"},\"x_scale\":{\"id\":\"1297\"},\"y_range\":{\"id\":\"1295\"},\"y_scale\":{\"id\":\"1299\"}},\"id\":\"1290\",\"subtype\":\"Figure\",\"type\":\"Plot\"},{\"attributes\":{\"coordinates\":null,\"group\":null,\"items\":[{\"id\":\"1340\"}]},\"id\":\"1339\",\"type\":\"Legend\"},{\"attributes\":{},\"id\":\"1293\",\"type\":\"DataRange1d\"},{\"attributes\":{},\"id\":\"1295\",\"type\":\"DataRange1d\"},{\"attributes\":{\"axis\":{\"id\":\"1301\"},\"coordinates\":null,\"group\":null,\"ticker\":null},\"id\":\"1304\",\"type\":\"Grid\"},{\"attributes\":{},\"id\":\"1306\",\"type\":\"BasicTicker\"},{\"attributes\":{\"axis_label\":\"y\",\"coordinates\":null,\"formatter\":{\"id\":\"1331\"},\"group\":null,\"major_label_policy\":{\"id\":\"1332\"},\"ticker\":{\"id\":\"1306\"}},\"id\":\"1305\",\"type\":\"LinearAxis\"},{\"attributes\":{},\"id\":\"1299\",\"type\":\"LinearScale\"},{\"attributes\":{\"axis\":{\"id\":\"1305\"},\"coordinates\":null,\"dimension\":1,\"group\":null,\"ticker\":null},\"id\":\"1308\",\"type\":\"Grid\"},{\"attributes\":{},\"id\":\"1334\",\"type\":\"BasicTickFormatter\"},{\"attributes\":{\"coordinates\":null,\"data_source\":{\"id\":\"1323\"},\"glyph\":{\"id\":\"1324\"},\"group\":null,\"hover_glyph\":null,\"muted_glyph\":{\"id\":\"1326\"},\"nonselection_glyph\":{\"id\":\"1325\"},\"view\":{\"id\":\"1328\"}},\"id\":\"1327\",\"type\":\"GlyphRenderer\"},{\"attributes\":{},\"id\":\"1335\",\"type\":\"AllLabels\"},{\"attributes\":{\"coordinates\":null,\"group\":null,\"text\":\"Simple line graph\"},\"id\":\"1291\",\"type\":\"Title\"},{\"attributes\":{},\"id\":\"1331\",\"type\":\"BasicTickFormatter\"},{\"attributes\":{\"bottom_units\":\"screen\",\"coordinates\":null,\"fill_alpha\":0.5,\"fill_color\":\"lightgrey\",\"group\":null,\"left_units\":\"screen\",\"level\":\"overlay\",\"line_alpha\":1.0,\"line_color\":\"black\",\"line_dash\":[4,4],\"line_width\":2,\"right_units\":\"screen\",\"syncable\":false,\"top_units\":\"screen\"},\"id\":\"1315\",\"type\":\"BoxAnnotation\"},{\"attributes\":{},\"id\":\"1302\",\"type\":\"BasicTicker\"},{\"attributes\":{},\"id\":\"1332\",\"type\":\"AllLabels\"},{\"attributes\":{},\"id\":\"1313\",\"type\":\"ResetTool\"},{\"attributes\":{\"source\":{\"id\":\"1323\"}},\"id\":\"1328\",\"type\":\"CDSView\"},{\"attributes\":{\"tools\":[{\"id\":\"1309\"},{\"id\":\"1310\"},{\"id\":\"1311\"},{\"id\":\"1312\"},{\"id\":\"1313\"},{\"id\":\"1314\"}]},\"id\":\"1316\",\"type\":\"Toolbar\"},{\"attributes\":{},\"id\":\"1312\",\"type\":\"SaveTool\"},{\"attributes\":{\"overlay\":{\"id\":\"1315\"}},\"id\":\"1311\",\"type\":\"BoxZoomTool\"},{\"attributes\":{\"label\":{\"value\":\"Temp.\"},\"renderers\":[{\"id\":\"1327\"}]},\"id\":\"1340\",\"type\":\"LegendItem\"},{\"attributes\":{},\"id\":\"1309\",\"type\":\"PanTool\"},{\"attributes\":{},\"id\":\"1314\",\"type\":\"HelpTool\"},{\"attributes\":{\"data\":{\"x\":[1,2,3,4,5,6],\"y\":[6,7,4,5,6,7]},\"selected\":{\"id\":\"1337\"},\"selection_policy\":{\"id\":\"1336\"}},\"id\":\"1323\",\"type\":\"ColumnDataSource\"},{\"attributes\":{\"axis_label\":\"x\",\"coordinates\":null,\"formatter\":{\"id\":\"1334\"},\"group\":null,\"major_label_policy\":{\"id\":\"1335\"},\"ticker\":{\"id\":\"1302\"}},\"id\":\"1301\",\"type\":\"LinearAxis\"},{\"attributes\":{},\"id\":\"1336\",\"type\":\"UnionRenderers\"},{\"attributes\":{},\"id\":\"1310\",\"type\":\"WheelZoomTool\"},{\"attributes\":{},\"id\":\"1297\",\"type\":\"LinearScale\"},{\"attributes\":{\"line_alpha\":0.2,\"line_color\":\"#1f77b4\",\"line_width\":2,\"x\":{\"field\":\"x\"},\"y\":{\"field\":\"y\"}},\"id\":\"1326\",\"type\":\"Line\"},{\"attributes\":{},\"id\":\"1337\",\"type\":\"Selection\"},{\"attributes\":{\"line_alpha\":0.1,\"line_color\":\"#1f77b4\",\"line_width\":2,\"x\":{\"field\":\"x\"},\"y\":{\"field\":\"y\"}},\"id\":\"1325\",\"type\":\"Line\"},{\"attributes\":{\"line_color\":\"#1f77b4\",\"line_width\":2,\"x\":{\"field\":\"x\"},\"y\":{\"field\":\"y\"}},\"id\":\"1324\",\"type\":\"Line\"}],\"root_ids\":[\"1290\"]},\"title\":\"Bokeh Application\",\"version\":\"2.4.3\"}};\n",
       "  const render_items = [{\"docid\":\"1b3cbfd1-3500-47d1-b3d4-897f31614b1d\",\"root_ids\":[\"1290\"],\"roots\":{\"1290\":\"0110511f-f8f5-4d31-8b47-dd2d3a376d0c\"}}];\n",
       "  root.Bokeh.embed.embed_items_notebook(docs_json, render_items);\n",
       "  }\n",
       "  if (root.Bokeh !== undefined) {\n",
       "    embed_document(root);\n",
       "  } else {\n",
       "    let attempts = 0;\n",
       "    const timer = setInterval(function(root) {\n",
       "      if (root.Bokeh !== undefined) {\n",
       "        clearInterval(timer);\n",
       "        embed_document(root);\n",
       "      } else {\n",
       "        attempts++;\n",
       "        if (attempts > 100) {\n",
       "          clearInterval(timer);\n",
       "          console.log(\"Bokeh: ERROR: Unable to run BokehJS code because BokehJS library is missing\");\n",
       "        }\n",
       "      }\n",
       "    }, 10, root)\n",
       "  }\n",
       "})(window);"
      ],
      "application/vnd.bokehjs_exec.v0+json": ""
     },
     "metadata": {
      "application/vnd.bokehjs_exec.v0+json": {
       "id": "1290"
      }
     },
     "output_type": "display_data"
    }
   ],
   "source": [
    "# add a line renderer with legend and line thickness\n",
    "p.line(x, y, legend_label=\"Temp.\", line_width=2)\n",
    "show(p)"
   ]
  },
  {
   "cell_type": "markdown",
   "id": "487cb005",
   "metadata": {},
   "source": [
    "# Multiple Line Example"
   ]
  },
  {
   "cell_type": "code",
   "execution_count": 20,
   "id": "be0a93d9",
   "metadata": {},
   "outputs": [],
   "source": [
    "x = [1, 2, 3, 4, 5, 6]\n",
    "y1 = [2, 4, 6, 5, 8, 7]\n",
    "y2 = [6, 7, 5, 8, 7, 9]\n",
    "y3 = [1, 3, 4, 6, 9, 11]"
   ]
  },
  {
   "cell_type": "code",
   "execution_count": 21,
   "id": "16269a64",
   "metadata": {},
   "outputs": [],
   "source": [
    "# create a new plot with a title and axis labels\n",
    "p = figure(title='Multiple line graph', x_axis_label='x', y_axis_label='y')"
   ]
  },
  {
   "cell_type": "code",
   "execution_count": 22,
   "id": "858c670f",
   "metadata": {},
   "outputs": [
    {
     "data": {
      "text/html": [
       "\n",
       "  <div class=\"bk-root\" id=\"153e6191-70c0-40d9-9947-9087f154fc5c\" data-root-id=\"1412\"></div>\n"
      ]
     },
     "metadata": {},
     "output_type": "display_data"
    },
    {
     "data": {
      "application/javascript": [
       "(function(root) {\n",
       "  function embed_document(root) {\n",
       "  const docs_json = {\"e543446b-e02e-4692-9061-74057b9ed044\":{\"defs\":[],\"roots\":{\"references\":[{\"attributes\":{\"below\":[{\"id\":\"1423\"}],\"center\":[{\"id\":\"1426\"},{\"id\":\"1430\"},{\"id\":\"1461\"}],\"left\":[{\"id\":\"1427\"}],\"renderers\":[{\"id\":\"1449\"},{\"id\":\"1467\"},{\"id\":\"1486\"}],\"title\":{\"id\":\"1413\"},\"toolbar\":{\"id\":\"1438\"},\"x_range\":{\"id\":\"1415\"},\"x_scale\":{\"id\":\"1419\"},\"y_range\":{\"id\":\"1417\"},\"y_scale\":{\"id\":\"1421\"}},\"id\":\"1412\",\"subtype\":\"Figure\",\"type\":\"Plot\"},{\"attributes\":{},\"id\":\"1432\",\"type\":\"WheelZoomTool\"},{\"attributes\":{\"coordinates\":null,\"group\":null,\"items\":[{\"id\":\"1462\"},{\"id\":\"1481\"},{\"id\":\"1502\"}]},\"id\":\"1461\",\"type\":\"Legend\"},{\"attributes\":{\"line_alpha\":0.2,\"line_color\":\"blue\",\"line_width\":2,\"x\":{\"field\":\"x\"},\"y\":{\"field\":\"y\"}},\"id\":\"1448\",\"type\":\"Line\"},{\"attributes\":{},\"id\":\"1415\",\"type\":\"DataRange1d\"},{\"attributes\":{},\"id\":\"1456\",\"type\":\"BasicTickFormatter\"},{\"attributes\":{},\"id\":\"1417\",\"type\":\"DataRange1d\"},{\"attributes\":{},\"id\":\"1457\",\"type\":\"AllLabels\"},{\"attributes\":{},\"id\":\"1421\",\"type\":\"LinearScale\"},{\"attributes\":{},\"id\":\"1428\",\"type\":\"BasicTicker\"},{\"attributes\":{},\"id\":\"1431\",\"type\":\"PanTool\"},{\"attributes\":{\"coordinates\":null,\"group\":null,\"text\":\"Multiple line graph\"},\"id\":\"1413\",\"type\":\"Title\"},{\"attributes\":{\"line_color\":\"green\",\"line_width\":2,\"x\":{\"field\":\"x\"},\"y\":{\"field\":\"y\"}},\"id\":\"1483\",\"type\":\"Line\"},{\"attributes\":{},\"id\":\"1424\",\"type\":\"BasicTicker\"},{\"attributes\":{},\"id\":\"1435\",\"type\":\"ResetTool\"},{\"attributes\":{\"line_alpha\":0.1,\"line_color\":\"blue\",\"line_width\":2,\"x\":{\"field\":\"x\"},\"y\":{\"field\":\"y\"}},\"id\":\"1447\",\"type\":\"Line\"},{\"attributes\":{\"source\":{\"id\":\"1445\"}},\"id\":\"1450\",\"type\":\"CDSView\"},{\"attributes\":{},\"id\":\"1436\",\"type\":\"HelpTool\"},{\"attributes\":{},\"id\":\"1453\",\"type\":\"BasicTickFormatter\"},{\"attributes\":{\"coordinates\":null,\"data_source\":{\"id\":\"1445\"},\"glyph\":{\"id\":\"1446\"},\"group\":null,\"hover_glyph\":null,\"muted_glyph\":{\"id\":\"1448\"},\"nonselection_glyph\":{\"id\":\"1447\"},\"view\":{\"id\":\"1450\"}},\"id\":\"1449\",\"type\":\"GlyphRenderer\"},{\"attributes\":{},\"id\":\"1458\",\"type\":\"UnionRenderers\"},{\"attributes\":{\"data\":{\"x\":[1,2,3,4,5,6],\"y\":[6,7,5,8,7,9]},\"selected\":{\"id\":\"1479\"},\"selection_policy\":{\"id\":\"1478\"}},\"id\":\"1463\",\"type\":\"ColumnDataSource\"},{\"attributes\":{},\"id\":\"1419\",\"type\":\"LinearScale\"},{\"attributes\":{},\"id\":\"1459\",\"type\":\"Selection\"},{\"attributes\":{\"axis_label\":\"x\",\"coordinates\":null,\"formatter\":{\"id\":\"1456\"},\"group\":null,\"major_label_policy\":{\"id\":\"1457\"},\"ticker\":{\"id\":\"1424\"}},\"id\":\"1423\",\"type\":\"LinearAxis\"},{\"attributes\":{\"source\":{\"id\":\"1463\"}},\"id\":\"1468\",\"type\":\"CDSView\"},{\"attributes\":{\"coordinates\":null,\"data_source\":{\"id\":\"1463\"},\"glyph\":{\"id\":\"1464\"},\"group\":null,\"hover_glyph\":null,\"muted_glyph\":{\"id\":\"1466\"},\"nonselection_glyph\":{\"id\":\"1465\"},\"view\":{\"id\":\"1468\"}},\"id\":\"1467\",\"type\":\"GlyphRenderer\"},{\"attributes\":{\"source\":{\"id\":\"1482\"}},\"id\":\"1487\",\"type\":\"CDSView\"},{\"attributes\":{\"coordinates\":null,\"data_source\":{\"id\":\"1482\"},\"glyph\":{\"id\":\"1483\"},\"group\":null,\"hover_glyph\":null,\"muted_glyph\":{\"id\":\"1485\"},\"nonselection_glyph\":{\"id\":\"1484\"},\"view\":{\"id\":\"1487\"}},\"id\":\"1486\",\"type\":\"GlyphRenderer\"},{\"attributes\":{\"axis_label\":\"y\",\"coordinates\":null,\"formatter\":{\"id\":\"1453\"},\"group\":null,\"major_label_policy\":{\"id\":\"1454\"},\"ticker\":{\"id\":\"1428\"}},\"id\":\"1427\",\"type\":\"LinearAxis\"},{\"attributes\":{\"data\":{\"x\":[1,2,3,4,5,6],\"y\":[1,3,4,6,9,11]},\"selected\":{\"id\":\"1500\"},\"selection_policy\":{\"id\":\"1499\"}},\"id\":\"1482\",\"type\":\"ColumnDataSource\"},{\"attributes\":{\"label\":{\"value\":\"Rate\"},\"renderers\":[{\"id\":\"1467\"}]},\"id\":\"1481\",\"type\":\"LegendItem\"},{\"attributes\":{\"label\":{\"value\":\"Objects\"},\"renderers\":[{\"id\":\"1486\"}]},\"id\":\"1502\",\"type\":\"LegendItem\"},{\"attributes\":{\"line_alpha\":0.2,\"line_color\":\"red\",\"line_width\":2,\"x\":{\"field\":\"x\"},\"y\":{\"field\":\"y\"}},\"id\":\"1466\",\"type\":\"Line\"},{\"attributes\":{\"line_alpha\":0.2,\"line_color\":\"green\",\"line_width\":2,\"x\":{\"field\":\"x\"},\"y\":{\"field\":\"y\"}},\"id\":\"1485\",\"type\":\"Line\"},{\"attributes\":{\"line_alpha\":0.1,\"line_color\":\"red\",\"line_width\":2,\"x\":{\"field\":\"x\"},\"y\":{\"field\":\"y\"}},\"id\":\"1465\",\"type\":\"Line\"},{\"attributes\":{\"line_alpha\":0.1,\"line_color\":\"green\",\"line_width\":2,\"x\":{\"field\":\"x\"},\"y\":{\"field\":\"y\"}},\"id\":\"1484\",\"type\":\"Line\"},{\"attributes\":{},\"id\":\"1454\",\"type\":\"AllLabels\"},{\"attributes\":{\"axis\":{\"id\":\"1423\"},\"coordinates\":null,\"group\":null,\"ticker\":null},\"id\":\"1426\",\"type\":\"Grid\"},{\"attributes\":{\"label\":{\"value\":\"Temp.\"},\"renderers\":[{\"id\":\"1449\"}]},\"id\":\"1462\",\"type\":\"LegendItem\"},{\"attributes\":{},\"id\":\"1499\",\"type\":\"UnionRenderers\"},{\"attributes\":{\"tools\":[{\"id\":\"1431\"},{\"id\":\"1432\"},{\"id\":\"1433\"},{\"id\":\"1434\"},{\"id\":\"1435\"},{\"id\":\"1436\"}]},\"id\":\"1438\",\"type\":\"Toolbar\"},{\"attributes\":{\"bottom_units\":\"screen\",\"coordinates\":null,\"fill_alpha\":0.5,\"fill_color\":\"lightgrey\",\"group\":null,\"left_units\":\"screen\",\"level\":\"overlay\",\"line_alpha\":1.0,\"line_color\":\"black\",\"line_dash\":[4,4],\"line_width\":2,\"right_units\":\"screen\",\"syncable\":false,\"top_units\":\"screen\"},\"id\":\"1437\",\"type\":\"BoxAnnotation\"},{\"attributes\":{},\"id\":\"1478\",\"type\":\"UnionRenderers\"},{\"attributes\":{},\"id\":\"1500\",\"type\":\"Selection\"},{\"attributes\":{\"line_color\":\"blue\",\"line_width\":2,\"x\":{\"field\":\"x\"},\"y\":{\"field\":\"y\"}},\"id\":\"1446\",\"type\":\"Line\"},{\"attributes\":{\"axis\":{\"id\":\"1427\"},\"coordinates\":null,\"dimension\":1,\"group\":null,\"ticker\":null},\"id\":\"1430\",\"type\":\"Grid\"},{\"attributes\":{},\"id\":\"1479\",\"type\":\"Selection\"},{\"attributes\":{},\"id\":\"1434\",\"type\":\"SaveTool\"},{\"attributes\":{\"line_color\":\"red\",\"line_width\":2,\"x\":{\"field\":\"x\"},\"y\":{\"field\":\"y\"}},\"id\":\"1464\",\"type\":\"Line\"},{\"attributes\":{\"overlay\":{\"id\":\"1437\"}},\"id\":\"1433\",\"type\":\"BoxZoomTool\"},{\"attributes\":{\"data\":{\"x\":[1,2,3,4,5,6],\"y\":[2,4,6,5,8,7]},\"selected\":{\"id\":\"1459\"},\"selection_policy\":{\"id\":\"1458\"}},\"id\":\"1445\",\"type\":\"ColumnDataSource\"}],\"root_ids\":[\"1412\"]},\"title\":\"Bokeh Application\",\"version\":\"2.4.3\"}};\n",
       "  const render_items = [{\"docid\":\"e543446b-e02e-4692-9061-74057b9ed044\",\"root_ids\":[\"1412\"],\"roots\":{\"1412\":\"153e6191-70c0-40d9-9947-9087f154fc5c\"}}];\n",
       "  root.Bokeh.embed.embed_items_notebook(docs_json, render_items);\n",
       "  }\n",
       "  if (root.Bokeh !== undefined) {\n",
       "    embed_document(root);\n",
       "  } else {\n",
       "    let attempts = 0;\n",
       "    const timer = setInterval(function(root) {\n",
       "      if (root.Bokeh !== undefined) {\n",
       "        clearInterval(timer);\n",
       "        embed_document(root);\n",
       "      } else {\n",
       "        attempts++;\n",
       "        if (attempts > 100) {\n",
       "          clearInterval(timer);\n",
       "          console.log(\"Bokeh: ERROR: Unable to run BokehJS code because BokehJS library is missing\");\n",
       "        }\n",
       "      }\n",
       "    }, 10, root)\n",
       "  }\n",
       "})(window);"
      ],
      "application/vnd.bokehjs_exec.v0+json": ""
     },
     "metadata": {
      "application/vnd.bokehjs_exec.v0+json": {
       "id": "1412"
      }
     },
     "output_type": "display_data"
    }
   ],
   "source": [
    "p.line(x, y1, legend_label=\"Temp.\", color=\"blue\", line_width=2)\n",
    "p.line(x, y2, legend_label=\"Rate\", color=\"red\", line_width=2)\n",
    "p.line(x, y3, legend_label=\"Objects\", color=\"green\", line_width=2)\n",
    "show(p)"
   ]
  },
  {
   "cell_type": "markdown",
   "id": "61ea076d",
   "metadata": {},
   "source": [
    "# Adding Different Glyphs"
   ]
  },
  {
   "cell_type": "code",
   "execution_count": 23,
   "id": "74e776a4",
   "metadata": {},
   "outputs": [
    {
     "data": {
      "text/html": [
       "\n",
       "  <div class=\"bk-root\" id=\"18c9ade5-eb31-46ba-a813-97163dbf1319\" data-root-id=\"1608\"></div>\n"
      ]
     },
     "metadata": {},
     "output_type": "display_data"
    },
    {
     "data": {
      "application/javascript": [
       "(function(root) {\n",
       "  function embed_document(root) {\n",
       "  const docs_json = {\"69990255-16b1-4f43-ac1a-9ecd6fead147\":{\"defs\":[],\"roots\":{\"references\":[{\"attributes\":{\"below\":[{\"id\":\"1619\"}],\"center\":[{\"id\":\"1622\"},{\"id\":\"1626\"},{\"id\":\"1657\"}],\"left\":[{\"id\":\"1623\"}],\"renderers\":[{\"id\":\"1645\"},{\"id\":\"1663\"},{\"id\":\"1682\"}],\"title\":{\"id\":\"1609\"},\"toolbar\":{\"id\":\"1634\"},\"x_range\":{\"id\":\"1611\"},\"x_scale\":{\"id\":\"1615\"},\"y_range\":{\"id\":\"1613\"},\"y_scale\":{\"id\":\"1617\"}},\"id\":\"1608\",\"subtype\":\"Figure\",\"type\":\"Plot\"},{\"attributes\":{},\"id\":\"1624\",\"type\":\"BasicTicker\"},{\"attributes\":{},\"id\":\"1649\",\"type\":\"BasicTickFormatter\"},{\"attributes\":{\"line_alpha\":0.1,\"line_color\":\"orange\",\"line_width\":3,\"x\":{\"field\":\"x\"},\"y\":{\"field\":\"y\"}},\"id\":\"1643\",\"type\":\"Line\"},{\"attributes\":{\"axis\":{\"id\":\"1623\"},\"coordinates\":null,\"dimension\":1,\"group\":null,\"ticker\":null},\"id\":\"1626\",\"type\":\"Grid\"},{\"attributes\":{},\"id\":\"1675\",\"type\":\"Selection\"},{\"attributes\":{},\"id\":\"1653\",\"type\":\"AllLabels\"},{\"attributes\":{\"line_color\":\"orange\",\"line_width\":3,\"x\":{\"field\":\"x\"},\"y\":{\"field\":\"y\"}},\"id\":\"1642\",\"type\":\"Line\"},{\"attributes\":{},\"id\":\"1611\",\"type\":\"DataRange1d\"},{\"attributes\":{\"coordinates\":null,\"data_source\":{\"id\":\"1641\"},\"glyph\":{\"id\":\"1642\"},\"group\":null,\"hover_glyph\":null,\"muted_glyph\":{\"id\":\"1644\"},\"nonselection_glyph\":{\"id\":\"1643\"},\"view\":{\"id\":\"1646\"}},\"id\":\"1645\",\"type\":\"GlyphRenderer\"},{\"attributes\":{\"label\":{\"value\":\"Temp.\"},\"renderers\":[{\"id\":\"1645\"}]},\"id\":\"1658\",\"type\":\"LegendItem\"},{\"attributes\":{},\"id\":\"1632\",\"type\":\"HelpTool\"},{\"attributes\":{\"data\":{\"x\":[1,2,3,4,5],\"y\":[6,7,2,4,5]},\"selected\":{\"id\":\"1655\"},\"selection_policy\":{\"id\":\"1654\"}},\"id\":\"1641\",\"type\":\"ColumnDataSource\"},{\"attributes\":{\"source\":{\"id\":\"1678\"}},\"id\":\"1683\",\"type\":\"CDSView\"},{\"attributes\":{\"data\":{\"top\":[2,3,4,5,6],\"x\":[1,2,3,4,5]},\"selected\":{\"id\":\"1675\"},\"selection_policy\":{\"id\":\"1674\"}},\"id\":\"1659\",\"type\":\"ColumnDataSource\"},{\"attributes\":{\"bottom_units\":\"screen\",\"coordinates\":null,\"fill_alpha\":0.5,\"fill_color\":\"lightgrey\",\"group\":null,\"left_units\":\"screen\",\"level\":\"overlay\",\"line_alpha\":1.0,\"line_color\":\"black\",\"line_dash\":[4,4],\"line_width\":2,\"right_units\":\"screen\",\"syncable\":false,\"top_units\":\"screen\"},\"id\":\"1633\",\"type\":\"BoxAnnotation\"},{\"attributes\":{},\"id\":\"1613\",\"type\":\"DataRange1d\"},{\"attributes\":{},\"id\":\"1617\",\"type\":\"LinearScale\"},{\"attributes\":{\"coordinates\":null,\"group\":null,\"text\":\"Multiple glyphs\"},\"id\":\"1609\",\"type\":\"Title\"},{\"attributes\":{},\"id\":\"1620\",\"type\":\"BasicTicker\"},{\"attributes\":{\"axis\":{\"id\":\"1619\"},\"coordinates\":null,\"group\":null,\"ticker\":null},\"id\":\"1622\",\"type\":\"Grid\"},{\"attributes\":{},\"id\":\"1615\",\"type\":\"LinearScale\"},{\"attributes\":{\"fill_color\":{\"value\":\"purple\"},\"hatch_color\":{\"value\":\"purple\"},\"line_color\":{\"value\":\"purple\"},\"top\":{\"field\":\"top\"},\"width\":{\"value\":0.5},\"x\":{\"field\":\"x\"}},\"id\":\"1660\",\"type\":\"VBar\"},{\"attributes\":{\"tools\":[{\"id\":\"1627\"},{\"id\":\"1628\"},{\"id\":\"1629\"},{\"id\":\"1630\"},{\"id\":\"1631\"},{\"id\":\"1632\"}]},\"id\":\"1634\",\"type\":\"Toolbar\"},{\"attributes\":{\"axis_label\":\"x\",\"coordinates\":null,\"formatter\":{\"id\":\"1652\"},\"group\":null,\"major_label_policy\":{\"id\":\"1653\"},\"ticker\":{\"id\":\"1620\"}},\"id\":\"1619\",\"type\":\"LinearAxis\"},{\"attributes\":{},\"id\":\"1655\",\"type\":\"Selection\"},{\"attributes\":{},\"id\":\"1628\",\"type\":\"WheelZoomTool\"},{\"attributes\":{\"coordinates\":null,\"data_source\":{\"id\":\"1678\"},\"glyph\":{\"id\":\"1679\"},\"group\":null,\"hover_glyph\":null,\"muted_glyph\":{\"id\":\"1681\"},\"nonselection_glyph\":{\"id\":\"1680\"},\"view\":{\"id\":\"1683\"}},\"id\":\"1682\",\"type\":\"GlyphRenderer\"},{\"attributes\":{\"axis_label\":\"y\",\"coordinates\":null,\"formatter\":{\"id\":\"1649\"},\"group\":null,\"major_label_policy\":{\"id\":\"1650\"},\"ticker\":{\"id\":\"1624\"}},\"id\":\"1623\",\"type\":\"LinearAxis\"},{\"attributes\":{\"coordinates\":null,\"data_source\":{\"id\":\"1659\"},\"glyph\":{\"id\":\"1660\"},\"group\":null,\"hover_glyph\":null,\"muted_glyph\":{\"id\":\"1662\"},\"nonselection_glyph\":{\"id\":\"1661\"},\"view\":{\"id\":\"1664\"}},\"id\":\"1663\",\"type\":\"GlyphRenderer\"},{\"attributes\":{\"label\":{\"value\":\"Objects\"},\"renderers\":[{\"id\":\"1682\"}]},\"id\":\"1698\",\"type\":\"LegendItem\"},{\"attributes\":{\"fill_color\":{\"value\":\"black\"},\"size\":{\"value\":16},\"x\":{\"field\":\"x\"},\"y\":{\"field\":\"y\"}},\"id\":\"1679\",\"type\":\"Circle\"},{\"attributes\":{},\"id\":\"1654\",\"type\":\"UnionRenderers\"},{\"attributes\":{\"fill_alpha\":{\"value\":0.2},\"fill_color\":{\"value\":\"purple\"},\"hatch_alpha\":{\"value\":0.2},\"hatch_color\":{\"value\":\"purple\"},\"line_alpha\":{\"value\":0.2},\"line_color\":{\"value\":\"purple\"},\"top\":{\"field\":\"top\"},\"width\":{\"value\":0.5},\"x\":{\"field\":\"x\"}},\"id\":\"1662\",\"type\":\"VBar\"},{\"attributes\":{},\"id\":\"1695\",\"type\":\"UnionRenderers\"},{\"attributes\":{\"line_alpha\":0.2,\"line_color\":\"orange\",\"line_width\":3,\"x\":{\"field\":\"x\"},\"y\":{\"field\":\"y\"}},\"id\":\"1644\",\"type\":\"Line\"},{\"attributes\":{\"source\":{\"id\":\"1641\"}},\"id\":\"1646\",\"type\":\"CDSView\"},{\"attributes\":{\"data\":{\"x\":[1,2,3,4,5],\"y\":[4,5,5,7,2]},\"selected\":{\"id\":\"1696\"},\"selection_policy\":{\"id\":\"1695\"}},\"id\":\"1678\",\"type\":\"ColumnDataSource\"},{\"attributes\":{\"coordinates\":null,\"group\":null,\"items\":[{\"id\":\"1658\"},{\"id\":\"1677\"},{\"id\":\"1698\"}]},\"id\":\"1657\",\"type\":\"Legend\"},{\"attributes\":{\"source\":{\"id\":\"1659\"}},\"id\":\"1664\",\"type\":\"CDSView\"},{\"attributes\":{\"fill_alpha\":{\"value\":0.1},\"fill_color\":{\"value\":\"purple\"},\"hatch_alpha\":{\"value\":0.1},\"hatch_color\":{\"value\":\"purple\"},\"line_alpha\":{\"value\":0.1},\"line_color\":{\"value\":\"purple\"},\"top\":{\"field\":\"top\"},\"width\":{\"value\":0.5},\"x\":{\"field\":\"x\"}},\"id\":\"1661\",\"type\":\"VBar\"},{\"attributes\":{},\"id\":\"1652\",\"type\":\"BasicTickFormatter\"},{\"attributes\":{},\"id\":\"1696\",\"type\":\"Selection\"},{\"attributes\":{\"label\":{\"value\":\"Rate\"},\"renderers\":[{\"id\":\"1663\"}]},\"id\":\"1677\",\"type\":\"LegendItem\"},{\"attributes\":{},\"id\":\"1631\",\"type\":\"ResetTool\"},{\"attributes\":{\"fill_alpha\":{\"value\":0.2},\"fill_color\":{\"value\":\"black\"},\"hatch_alpha\":{\"value\":0.2},\"line_alpha\":{\"value\":0.2},\"size\":{\"value\":16},\"x\":{\"field\":\"x\"},\"y\":{\"field\":\"y\"}},\"id\":\"1681\",\"type\":\"Circle\"},{\"attributes\":{},\"id\":\"1630\",\"type\":\"SaveTool\"},{\"attributes\":{\"overlay\":{\"id\":\"1633\"}},\"id\":\"1629\",\"type\":\"BoxZoomTool\"},{\"attributes\":{},\"id\":\"1627\",\"type\":\"PanTool\"},{\"attributes\":{},\"id\":\"1650\",\"type\":\"AllLabels\"},{\"attributes\":{\"fill_alpha\":{\"value\":0.1},\"fill_color\":{\"value\":\"black\"},\"hatch_alpha\":{\"value\":0.1},\"line_alpha\":{\"value\":0.1},\"size\":{\"value\":16},\"x\":{\"field\":\"x\"},\"y\":{\"field\":\"y\"}},\"id\":\"1680\",\"type\":\"Circle\"},{\"attributes\":{},\"id\":\"1674\",\"type\":\"UnionRenderers\"}],\"root_ids\":[\"1608\"]},\"title\":\"Bokeh Application\",\"version\":\"2.4.3\"}};\n",
       "  const render_items = [{\"docid\":\"69990255-16b1-4f43-ac1a-9ecd6fead147\",\"root_ids\":[\"1608\"],\"roots\":{\"1608\":\"18c9ade5-eb31-46ba-a813-97163dbf1319\"}}];\n",
       "  root.Bokeh.embed.embed_items_notebook(docs_json, render_items);\n",
       "  }\n",
       "  if (root.Bokeh !== undefined) {\n",
       "    embed_document(root);\n",
       "  } else {\n",
       "    let attempts = 0;\n",
       "    const timer = setInterval(function(root) {\n",
       "      if (root.Bokeh !== undefined) {\n",
       "        clearInterval(timer);\n",
       "        embed_document(root);\n",
       "      } else {\n",
       "        attempts++;\n",
       "        if (attempts > 100) {\n",
       "          clearInterval(timer);\n",
       "          console.log(\"Bokeh: ERROR: Unable to run BokehJS code because BokehJS library is missing\");\n",
       "        }\n",
       "      }\n",
       "    }, 10, root)\n",
       "  }\n",
       "})(window);"
      ],
      "application/vnd.bokehjs_exec.v0+json": ""
     },
     "metadata": {
      "application/vnd.bokehjs_exec.v0+json": {
       "id": "1608"
      }
     },
     "output_type": "display_data"
    }
   ],
   "source": [
    "x = [1, 2, 3, 4, 5]\n",
    "y1 = [6, 7, 2, 4, 5]\n",
    "y2 = [2, 3, 4, 5, 6]\n",
    "y3 = [4, 5, 5, 7, 2]\n",
    "\n",
    "# create a new plot with a title and axis labels\n",
    "p = figure(title=\"Multiple glyphs\", x_axis_label=\"x\", y_axis_label=\"y\")\n",
    "\n",
    "# add multiple renderers\n",
    "p.line(x, y1, legend_label=\"Temp.\", color=\"orange\", line_width=3)\n",
    "p.vbar(x=x, top=y2, legend_label=\"Rate\", color=\"purple\", width=0.5, bottom=0)\n",
    "p.circle(x, y3, legend_label=\"Objects\", color=\"black\", size=16)\n",
    "\n",
    "# show the results\n",
    "show(p)"
   ]
  },
  {
   "cell_type": "markdown",
   "id": "e54b6af2",
   "metadata": {},
   "source": [
    "# Glyph Properties"
   ]
  },
  {
   "cell_type": "code",
   "execution_count": 24,
   "id": "e5ed2baa",
   "metadata": {},
   "outputs": [
    {
     "data": {
      "text/html": [
       "\n",
       "  <div class=\"bk-root\" id=\"53d470d1-c925-49f6-b670-f63e3796543e\" data-root-id=\"1818\"></div>\n"
      ]
     },
     "metadata": {},
     "output_type": "display_data"
    },
    {
     "data": {
      "application/javascript": [
       "(function(root) {\n",
       "  function embed_document(root) {\n",
       "  const docs_json = {\"c4156bff-b35f-473c-8bec-feaa3a627b57\":{\"defs\":[],\"roots\":{\"references\":[{\"attributes\":{\"below\":[{\"id\":\"1829\"}],\"center\":[{\"id\":\"1832\"},{\"id\":\"1836\"},{\"id\":\"1867\"}],\"left\":[{\"id\":\"1833\"}],\"renderers\":[{\"id\":\"1855\"}],\"title\":{\"id\":\"1819\"},\"toolbar\":{\"id\":\"1844\"},\"x_range\":{\"id\":\"1821\"},\"x_scale\":{\"id\":\"1825\"},\"y_range\":{\"id\":\"1823\"},\"y_scale\":{\"id\":\"1827\"}},\"id\":\"1818\",\"subtype\":\"Figure\",\"type\":\"Plot\"},{\"attributes\":{\"source\":{\"id\":\"1851\"}},\"id\":\"1856\",\"type\":\"CDSView\"},{\"attributes\":{},\"id\":\"1841\",\"type\":\"ResetTool\"},{\"attributes\":{\"tools\":[{\"id\":\"1837\"},{\"id\":\"1838\"},{\"id\":\"1839\"},{\"id\":\"1840\"},{\"id\":\"1841\"},{\"id\":\"1842\"}]},\"id\":\"1844\",\"type\":\"Toolbar\"},{\"attributes\":{},\"id\":\"1842\",\"type\":\"HelpTool\"},{\"attributes\":{},\"id\":\"1838\",\"type\":\"WheelZoomTool\"},{\"attributes\":{\"fill_alpha\":{\"value\":0.5},\"fill_color\":{\"value\":\"red\"},\"line_color\":{\"value\":\"blue\"},\"size\":{\"value\":60},\"x\":{\"field\":\"x\"},\"y\":{\"field\":\"y\"}},\"id\":\"1852\",\"type\":\"Circle\"},{\"attributes\":{\"overlay\":{\"id\":\"1843\"}},\"id\":\"1839\",\"type\":\"BoxZoomTool\"},{\"attributes\":{},\"id\":\"1840\",\"type\":\"SaveTool\"},{\"attributes\":{\"data\":{\"x\":[1,2,3,4,5],\"y\":[4,5,5,7,2]},\"selected\":{\"id\":\"1865\"},\"selection_policy\":{\"id\":\"1864\"}},\"id\":\"1851\",\"type\":\"ColumnDataSource\"},{\"attributes\":{},\"id\":\"1821\",\"type\":\"DataRange1d\"},{\"attributes\":{},\"id\":\"1865\",\"type\":\"Selection\"},{\"attributes\":{},\"id\":\"1860\",\"type\":\"AllLabels\"},{\"attributes\":{},\"id\":\"1837\",\"type\":\"PanTool\"},{\"attributes\":{\"axis\":{\"id\":\"1829\"},\"coordinates\":null,\"group\":null,\"ticker\":null},\"id\":\"1832\",\"type\":\"Grid\"},{\"attributes\":{\"fill_alpha\":{\"value\":0.1},\"fill_color\":{\"value\":\"red\"},\"hatch_alpha\":{\"value\":0.1},\"line_alpha\":{\"value\":0.1},\"line_color\":{\"value\":\"blue\"},\"size\":{\"value\":60},\"x\":{\"field\":\"x\"},\"y\":{\"field\":\"y\"}},\"id\":\"1853\",\"type\":\"Circle\"},{\"attributes\":{},\"id\":\"1825\",\"type\":\"LinearScale\"},{\"attributes\":{\"axis_label\":\"x\",\"coordinates\":null,\"formatter\":{\"id\":\"1862\"},\"group\":null,\"major_label_policy\":{\"id\":\"1863\"},\"ticker\":{\"id\":\"1830\"}},\"id\":\"1829\",\"type\":\"LinearAxis\"},{\"attributes\":{},\"id\":\"1864\",\"type\":\"UnionRenderers\"},{\"attributes\":{},\"id\":\"1830\",\"type\":\"BasicTicker\"},{\"attributes\":{\"coordinates\":null,\"group\":null,\"text\":\"Glyphs properties\"},\"id\":\"1819\",\"type\":\"Title\"},{\"attributes\":{},\"id\":\"1859\",\"type\":\"BasicTickFormatter\"},{\"attributes\":{},\"id\":\"1862\",\"type\":\"BasicTickFormatter\"},{\"attributes\":{\"bottom_units\":\"screen\",\"coordinates\":null,\"fill_alpha\":0.5,\"fill_color\":\"lightgrey\",\"group\":null,\"left_units\":\"screen\",\"level\":\"overlay\",\"line_alpha\":1.0,\"line_color\":\"black\",\"line_dash\":[4,4],\"line_width\":2,\"right_units\":\"screen\",\"syncable\":false,\"top_units\":\"screen\"},\"id\":\"1843\",\"type\":\"BoxAnnotation\"},{\"attributes\":{},\"id\":\"1863\",\"type\":\"AllLabels\"},{\"attributes\":{\"coordinates\":null,\"group\":null,\"items\":[{\"id\":\"1868\"}]},\"id\":\"1867\",\"type\":\"Legend\"},{\"attributes\":{\"fill_alpha\":{\"value\":0.2},\"fill_color\":{\"value\":\"red\"},\"hatch_alpha\":{\"value\":0.2},\"line_alpha\":{\"value\":0.2},\"line_color\":{\"value\":\"blue\"},\"size\":{\"value\":60},\"x\":{\"field\":\"x\"},\"y\":{\"field\":\"y\"}},\"id\":\"1854\",\"type\":\"Circle\"},{\"attributes\":{\"coordinates\":null,\"data_source\":{\"id\":\"1851\"},\"glyph\":{\"id\":\"1852\"},\"group\":null,\"hover_glyph\":null,\"muted_glyph\":{\"id\":\"1854\"},\"nonselection_glyph\":{\"id\":\"1853\"},\"view\":{\"id\":\"1856\"}},\"id\":\"1855\",\"type\":\"GlyphRenderer\"},{\"attributes\":{},\"id\":\"1834\",\"type\":\"BasicTicker\"},{\"attributes\":{\"axis_label\":\"y\",\"coordinates\":null,\"formatter\":{\"id\":\"1859\"},\"group\":null,\"major_label_policy\":{\"id\":\"1860\"},\"ticker\":{\"id\":\"1834\"}},\"id\":\"1833\",\"type\":\"LinearAxis\"},{\"attributes\":{},\"id\":\"1823\",\"type\":\"DataRange1d\"},{\"attributes\":{\"axis\":{\"id\":\"1833\"},\"coordinates\":null,\"dimension\":1,\"group\":null,\"ticker\":null},\"id\":\"1836\",\"type\":\"Grid\"},{\"attributes\":{\"label\":{\"value\":\"Objects\"},\"renderers\":[{\"id\":\"1855\"}]},\"id\":\"1868\",\"type\":\"LegendItem\"},{\"attributes\":{},\"id\":\"1827\",\"type\":\"LinearScale\"}],\"root_ids\":[\"1818\"]},\"title\":\"Bokeh Application\",\"version\":\"2.4.3\"}};\n",
       "  const render_items = [{\"docid\":\"c4156bff-b35f-473c-8bec-feaa3a627b57\",\"root_ids\":[\"1818\"],\"roots\":{\"1818\":\"53d470d1-c925-49f6-b670-f63e3796543e\"}}];\n",
       "  root.Bokeh.embed.embed_items_notebook(docs_json, render_items);\n",
       "  }\n",
       "  if (root.Bokeh !== undefined) {\n",
       "    embed_document(root);\n",
       "  } else {\n",
       "    let attempts = 0;\n",
       "    const timer = setInterval(function(root) {\n",
       "      if (root.Bokeh !== undefined) {\n",
       "        clearInterval(timer);\n",
       "        embed_document(root);\n",
       "      } else {\n",
       "        attempts++;\n",
       "        if (attempts > 100) {\n",
       "          clearInterval(timer);\n",
       "          console.log(\"Bokeh: ERROR: Unable to run BokehJS code because BokehJS library is missing\");\n",
       "        }\n",
       "      }\n",
       "    }, 10, root)\n",
       "  }\n",
       "})(window);"
      ],
      "application/vnd.bokehjs_exec.v0+json": ""
     },
     "metadata": {
      "application/vnd.bokehjs_exec.v0+json": {
       "id": "1818"
      }
     },
     "output_type": "display_data"
    }
   ],
   "source": [
    "x = [1, 2, 3, 4, 5]\n",
    "y = [4, 5, 5, 7, 2]\n",
    "\n",
    "# create a new plot with a title and axis labels\n",
    "p = figure(title=\"Glyphs properties\", x_axis_label=\"x\", y_axis_label=\"y\")\n",
    "\n",
    "# add circle renderer with additional arguments\n",
    "p.circle(x, y, legend_label=\"Objects\", fill_color=\"red\", fill_alpha=0.5, line_color=\"blue\", size=60,)\n",
    "\n",
    "# show the results\n",
    "show(p)"
   ]
  },
  {
   "cell_type": "markdown",
   "id": "1d3a2eb8",
   "metadata": {},
   "source": [
    "# Alter Existing Glyph"
   ]
  },
  {
   "cell_type": "code",
   "execution_count": 25,
   "id": "d8334f60",
   "metadata": {},
   "outputs": [],
   "source": [
    "circle = p.circle(x, y, legend_label='Objects', fill_color='red', fill_alpha = 0.5, line_color='blue', size= 60)"
   ]
  },
  {
   "cell_type": "code",
   "execution_count": 26,
   "id": "cd70df6d",
   "metadata": {},
   "outputs": [],
   "source": [
    "glyph = circle.glyph\n",
    "glyph.fill_color = \"#554433\""
   ]
  },
  {
   "cell_type": "code",
   "execution_count": 27,
   "id": "400f2373",
   "metadata": {},
   "outputs": [
    {
     "data": {
      "text/html": [
       "\n",
       "  <div class=\"bk-root\" id=\"8f91f1b2-3203-406b-b33f-181fb4dcd04a\" data-root-id=\"2118\"></div>\n"
      ]
     },
     "metadata": {},
     "output_type": "display_data"
    },
    {
     "data": {
      "application/javascript": [
       "(function(root) {\n",
       "  function embed_document(root) {\n",
       "  const docs_json = {\"354b49e7-f506-4f36-812c-2a5900a5959c\":{\"defs\":[],\"roots\":{\"references\":[{\"attributes\":{\"below\":[{\"id\":\"2129\"}],\"center\":[{\"id\":\"2132\"},{\"id\":\"2136\"},{\"id\":\"2167\"}],\"left\":[{\"id\":\"2133\"}],\"renderers\":[{\"id\":\"2155\"}],\"title\":{\"id\":\"2119\"},\"toolbar\":{\"id\":\"2144\"},\"x_range\":{\"id\":\"2121\"},\"x_scale\":{\"id\":\"2125\"},\"y_range\":{\"id\":\"2123\"},\"y_scale\":{\"id\":\"2127\"}},\"id\":\"2118\",\"subtype\":\"Figure\",\"type\":\"Plot\"},{\"attributes\":{},\"id\":\"2162\",\"type\":\"BasicTickFormatter\"},{\"attributes\":{\"source\":{\"id\":\"2151\"}},\"id\":\"2156\",\"type\":\"CDSView\"},{\"attributes\":{\"coordinates\":null,\"group\":null,\"items\":[{\"id\":\"2168\"}]},\"id\":\"2167\",\"type\":\"Legend\"},{\"attributes\":{\"label\":{\"value\":\"Objects\"},\"renderers\":[{\"id\":\"2155\"}]},\"id\":\"2168\",\"type\":\"LegendItem\"},{\"attributes\":{},\"id\":\"2165\",\"type\":\"Selection\"},{\"attributes\":{},\"id\":\"2159\",\"type\":\"BasicTickFormatter\"},{\"attributes\":{\"bottom_units\":\"screen\",\"coordinates\":null,\"fill_alpha\":0.5,\"fill_color\":\"lightgrey\",\"group\":null,\"left_units\":\"screen\",\"level\":\"overlay\",\"line_alpha\":1.0,\"line_color\":\"black\",\"line_dash\":[4,4],\"line_width\":2,\"right_units\":\"screen\",\"syncable\":false,\"top_units\":\"screen\"},\"id\":\"2143\",\"type\":\"BoxAnnotation\"},{\"attributes\":{},\"id\":\"2160\",\"type\":\"AllLabels\"},{\"attributes\":{},\"id\":\"2127\",\"type\":\"LinearScale\"},{\"attributes\":{\"coordinates\":null,\"data_source\":{\"id\":\"2151\"},\"glyph\":{\"id\":\"2152\"},\"group\":null,\"hover_glyph\":null,\"muted_glyph\":{\"id\":\"2154\"},\"nonselection_glyph\":{\"id\":\"2153\"},\"view\":{\"id\":\"2156\"}},\"id\":\"2155\",\"type\":\"GlyphRenderer\"},{\"attributes\":{\"fill_alpha\":{\"value\":0.2},\"fill_color\":{\"value\":\"red\"},\"hatch_alpha\":{\"value\":0.2},\"line_alpha\":{\"value\":0.2},\"line_color\":{\"value\":\"blue\"},\"size\":{\"value\":60},\"x\":{\"field\":\"x\"},\"y\":{\"field\":\"y\"}},\"id\":\"2154\",\"type\":\"Circle\"},{\"attributes\":{\"coordinates\":null,\"group\":null,\"text\":\"Glyphs properties\"},\"id\":\"2119\",\"type\":\"Title\"},{\"attributes\":{\"overlay\":{\"id\":\"2143\"}},\"id\":\"2139\",\"type\":\"BoxZoomTool\"},{\"attributes\":{\"axis_label\":\"x\",\"coordinates\":null,\"formatter\":{\"id\":\"2162\"},\"group\":null,\"major_label_policy\":{\"id\":\"2163\"},\"ticker\":{\"id\":\"2130\"}},\"id\":\"2129\",\"type\":\"LinearAxis\"},{\"attributes\":{\"axis\":{\"id\":\"2129\"},\"coordinates\":null,\"group\":null,\"ticker\":null},\"id\":\"2132\",\"type\":\"Grid\"},{\"attributes\":{},\"id\":\"2140\",\"type\":\"SaveTool\"},{\"attributes\":{},\"id\":\"2130\",\"type\":\"BasicTicker\"},{\"attributes\":{\"fill_alpha\":{\"value\":0.5},\"fill_color\":{\"value\":\"#554433\"},\"line_color\":{\"value\":\"blue\"},\"size\":{\"value\":60},\"x\":{\"field\":\"x\"},\"y\":{\"field\":\"y\"}},\"id\":\"2152\",\"type\":\"Circle\"},{\"attributes\":{\"tools\":[{\"id\":\"2137\"},{\"id\":\"2138\"},{\"id\":\"2139\"},{\"id\":\"2140\"},{\"id\":\"2141\"},{\"id\":\"2142\"}]},\"id\":\"2144\",\"type\":\"Toolbar\"},{\"attributes\":{},\"id\":\"2125\",\"type\":\"LinearScale\"},{\"attributes\":{},\"id\":\"2121\",\"type\":\"DataRange1d\"},{\"attributes\":{\"data\":{\"x\":[1,2,3,4,5],\"y\":[4,5,5,7,2]},\"selected\":{\"id\":\"2165\"},\"selection_policy\":{\"id\":\"2164\"}},\"id\":\"2151\",\"type\":\"ColumnDataSource\"},{\"attributes\":{},\"id\":\"2164\",\"type\":\"UnionRenderers\"},{\"attributes\":{\"axis_label\":\"y\",\"coordinates\":null,\"formatter\":{\"id\":\"2159\"},\"group\":null,\"major_label_policy\":{\"id\":\"2160\"},\"ticker\":{\"id\":\"2134\"}},\"id\":\"2133\",\"type\":\"LinearAxis\"},{\"attributes\":{\"axis\":{\"id\":\"2133\"},\"coordinates\":null,\"dimension\":1,\"group\":null,\"ticker\":null},\"id\":\"2136\",\"type\":\"Grid\"},{\"attributes\":{\"fill_alpha\":{\"value\":0.1},\"fill_color\":{\"value\":\"red\"},\"hatch_alpha\":{\"value\":0.1},\"line_alpha\":{\"value\":0.1},\"line_color\":{\"value\":\"blue\"},\"size\":{\"value\":60},\"x\":{\"field\":\"x\"},\"y\":{\"field\":\"y\"}},\"id\":\"2153\",\"type\":\"Circle\"},{\"attributes\":{},\"id\":\"2134\",\"type\":\"BasicTicker\"},{\"attributes\":{},\"id\":\"2123\",\"type\":\"DataRange1d\"},{\"attributes\":{},\"id\":\"2138\",\"type\":\"WheelZoomTool\"},{\"attributes\":{},\"id\":\"2137\",\"type\":\"PanTool\"},{\"attributes\":{},\"id\":\"2142\",\"type\":\"HelpTool\"},{\"attributes\":{},\"id\":\"2163\",\"type\":\"AllLabels\"},{\"attributes\":{},\"id\":\"2141\",\"type\":\"ResetTool\"}],\"root_ids\":[\"2118\"]},\"title\":\"Bokeh Application\",\"version\":\"2.4.3\"}};\n",
       "  const render_items = [{\"docid\":\"354b49e7-f506-4f36-812c-2a5900a5959c\",\"root_ids\":[\"2118\"],\"roots\":{\"2118\":\"8f91f1b2-3203-406b-b33f-181fb4dcd04a\"}}];\n",
       "  root.Bokeh.embed.embed_items_notebook(docs_json, render_items);\n",
       "  }\n",
       "  if (root.Bokeh !== undefined) {\n",
       "    embed_document(root);\n",
       "  } else {\n",
       "    let attempts = 0;\n",
       "    const timer = setInterval(function(root) {\n",
       "      if (root.Bokeh !== undefined) {\n",
       "        clearInterval(timer);\n",
       "        embed_document(root);\n",
       "      } else {\n",
       "        attempts++;\n",
       "        if (attempts > 100) {\n",
       "          clearInterval(timer);\n",
       "          console.log(\"Bokeh: ERROR: Unable to run BokehJS code because BokehJS library is missing\");\n",
       "        }\n",
       "      }\n",
       "    }, 10, root)\n",
       "  }\n",
       "})(window);"
      ],
      "application/vnd.bokehjs_exec.v0+json": ""
     },
     "metadata": {
      "application/vnd.bokehjs_exec.v0+json": {
       "id": "2118"
      }
     },
     "output_type": "display_data"
    }
   ],
   "source": [
    "x = [1, 2, 3, 4, 5]\n",
    "y = [4, 5, 5, 7, 2]\n",
    "\n",
    "# create a new plot with a title and axis labels\n",
    "p = figure(title=\"Glyphs properties\", x_axis_label=\"x\", y_axis_label=\"y\")\n",
    "\n",
    "# add circle renderer with additional arguments\n",
    "circle= p.circle(x, y, legend_label=\"Objects\", fill_color=\"red\", fill_alpha=0.5, line_color=\"blue\", size=60,)\n",
    "\n",
    "glyph = circle.glyph\n",
    "glyph.fill_color = \"#554433\"\n",
    "# show the results\n",
    "show(p)"
   ]
  },
  {
   "cell_type": "markdown",
   "id": "268aa501",
   "metadata": {},
   "source": [
    " # Adding and Styling Legend"
   ]
  },
  {
   "cell_type": "code",
   "execution_count": 28,
   "id": "c566243f",
   "metadata": {},
   "outputs": [
    {
     "data": {
      "text/html": [
       "\n",
       "  <div class=\"bk-root\" id=\"80c44846-f211-4f98-a6ab-35e9b12fe263\" data-root-id=\"2290\"></div>\n"
      ]
     },
     "metadata": {},
     "output_type": "display_data"
    },
    {
     "data": {
      "application/javascript": [
       "(function(root) {\n",
       "  function embed_document(root) {\n",
       "  const docs_json = {\"ec633c1e-29f8-41f3-a5e6-50adfe0cc57d\":{\"defs\":[],\"roots\":{\"references\":[{\"attributes\":{\"below\":[{\"id\":\"2301\"}],\"center\":[{\"id\":\"2304\"},{\"id\":\"2308\"},{\"id\":\"2339\"}],\"left\":[{\"id\":\"2305\"}],\"renderers\":[{\"id\":\"2327\"},{\"id\":\"2345\"}],\"title\":{\"id\":\"2291\"},\"toolbar\":{\"id\":\"2316\"},\"x_range\":{\"id\":\"2293\"},\"x_scale\":{\"id\":\"2297\"},\"y_range\":{\"id\":\"2295\"},\"y_scale\":{\"id\":\"2299\"}},\"id\":\"2290\",\"subtype\":\"Figure\",\"type\":\"Plot\"},{\"attributes\":{},\"id\":\"2332\",\"type\":\"AllLabels\"},{\"attributes\":{},\"id\":\"2295\",\"type\":\"DataRange1d\"},{\"attributes\":{},\"id\":\"2299\",\"type\":\"LinearScale\"},{\"attributes\":{\"coordinates\":null,\"group\":null,\"text\":\"Legend\"},\"id\":\"2291\",\"type\":\"Title\"},{\"attributes\":{\"coordinates\":null,\"formatter\":{\"id\":\"2331\"},\"group\":null,\"major_label_policy\":{\"id\":\"2332\"},\"ticker\":{\"id\":\"2306\"}},\"id\":\"2305\",\"type\":\"LinearAxis\"},{\"attributes\":{\"line_color\":\"blue\",\"line_width\":2,\"x\":{\"field\":\"x\"},\"y\":{\"field\":\"y\"}},\"id\":\"2324\",\"type\":\"Line\"},{\"attributes\":{\"source\":{\"id\":\"2323\"}},\"id\":\"2328\",\"type\":\"CDSView\"},{\"attributes\":{},\"id\":\"2331\",\"type\":\"BasicTickFormatter\"},{\"attributes\":{},\"id\":\"2302\",\"type\":\"BasicTicker\"},{\"attributes\":{\"axis\":{\"id\":\"2301\"},\"coordinates\":null,\"group\":null,\"ticker\":null},\"id\":\"2304\",\"type\":\"Grid\"},{\"attributes\":{},\"id\":\"2297\",\"type\":\"LinearScale\"},{\"attributes\":{\"background_fill_alpha\":0.2,\"background_fill_color\":\"navy\",\"border_line_alpha\":0.8,\"border_line_color\":\"navy\",\"border_line_width\":3,\"coordinates\":null,\"group\":null,\"items\":[{\"id\":\"2340\"},{\"id\":\"2359\"}],\"label_text_color\":\"#453217\",\"label_text_font\":\"times\",\"label_text_font_style\":\"italic\",\"location\":\"top_left\",\"title\":\"Obervations\"},\"id\":\"2339\",\"type\":\"Legend\"},{\"attributes\":{\"coordinates\":null,\"data_source\":{\"id\":\"2341\"},\"glyph\":{\"id\":\"2342\"},\"group\":null,\"hover_glyph\":null,\"muted_glyph\":{\"id\":\"2344\"},\"nonselection_glyph\":{\"id\":\"2343\"},\"view\":{\"id\":\"2346\"}},\"id\":\"2345\",\"type\":\"GlyphRenderer\"},{\"attributes\":{\"coordinates\":null,\"formatter\":{\"id\":\"2334\"},\"group\":null,\"major_label_policy\":{\"id\":\"2335\"},\"ticker\":{\"id\":\"2302\"}},\"id\":\"2301\",\"type\":\"LinearAxis\"},{\"attributes\":{},\"id\":\"2314\",\"type\":\"HelpTool\"},{\"attributes\":{\"source\":{\"id\":\"2341\"}},\"id\":\"2346\",\"type\":\"CDSView\"},{\"attributes\":{},\"id\":\"2334\",\"type\":\"BasicTickFormatter\"},{\"attributes\":{\"tools\":[{\"id\":\"2309\"},{\"id\":\"2310\"},{\"id\":\"2311\"},{\"id\":\"2312\"},{\"id\":\"2313\"},{\"id\":\"2314\"}]},\"id\":\"2316\",\"type\":\"Toolbar\"},{\"attributes\":{\"fill_alpha\":{\"value\":0.2},\"fill_color\":{\"value\":\"red\"},\"hatch_alpha\":{\"value\":0.2},\"line_alpha\":{\"value\":0.2},\"line_color\":{\"value\":\"blue\"},\"size\":{\"value\":60},\"x\":{\"field\":\"x\"},\"y\":{\"field\":\"y\"}},\"id\":\"2344\",\"type\":\"Circle\"},{\"attributes\":{\"line_alpha\":0.2,\"line_color\":\"blue\",\"line_width\":2,\"x\":{\"field\":\"x\"},\"y\":{\"field\":\"y\"}},\"id\":\"2326\",\"type\":\"Line\"},{\"attributes\":{\"fill_alpha\":{\"value\":0.1},\"fill_color\":{\"value\":\"red\"},\"hatch_alpha\":{\"value\":0.1},\"line_alpha\":{\"value\":0.1},\"line_color\":{\"value\":\"blue\"},\"size\":{\"value\":60},\"x\":{\"field\":\"x\"},\"y\":{\"field\":\"y\"}},\"id\":\"2343\",\"type\":\"Circle\"},{\"attributes\":{\"label\":{\"value\":\"Objects\"},\"renderers\":[{\"id\":\"2345\"}]},\"id\":\"2359\",\"type\":\"LegendItem\"},{\"attributes\":{},\"id\":\"2337\",\"type\":\"Selection\"},{\"attributes\":{},\"id\":\"2335\",\"type\":\"AllLabels\"},{\"attributes\":{\"axis\":{\"id\":\"2305\"},\"coordinates\":null,\"dimension\":1,\"group\":null,\"ticker\":null},\"id\":\"2308\",\"type\":\"Grid\"},{\"attributes\":{},\"id\":\"2356\",\"type\":\"UnionRenderers\"},{\"attributes\":{\"line_alpha\":0.1,\"line_color\":\"blue\",\"line_width\":2,\"x\":{\"field\":\"x\"},\"y\":{\"field\":\"y\"}},\"id\":\"2325\",\"type\":\"Line\"},{\"attributes\":{},\"id\":\"2306\",\"type\":\"BasicTicker\"},{\"attributes\":{\"data\":{\"x\":[1,2,3,4,5],\"y\":[2,3,4,5,6]},\"selected\":{\"id\":\"2357\"},\"selection_policy\":{\"id\":\"2356\"}},\"id\":\"2341\",\"type\":\"ColumnDataSource\"},{\"attributes\":{\"label\":{\"value\":\"Temp.\"},\"renderers\":[{\"id\":\"2327\"}]},\"id\":\"2340\",\"type\":\"LegendItem\"},{\"attributes\":{},\"id\":\"2357\",\"type\":\"Selection\"},{\"attributes\":{},\"id\":\"2310\",\"type\":\"WheelZoomTool\"},{\"attributes\":{\"bottom_units\":\"screen\",\"coordinates\":null,\"fill_alpha\":0.5,\"fill_color\":\"lightgrey\",\"group\":null,\"left_units\":\"screen\",\"level\":\"overlay\",\"line_alpha\":1.0,\"line_color\":\"black\",\"line_dash\":[4,4],\"line_width\":2,\"right_units\":\"screen\",\"syncable\":false,\"top_units\":\"screen\"},\"id\":\"2315\",\"type\":\"BoxAnnotation\"},{\"attributes\":{},\"id\":\"2313\",\"type\":\"ResetTool\"},{\"attributes\":{},\"id\":\"2312\",\"type\":\"SaveTool\"},{\"attributes\":{},\"id\":\"2336\",\"type\":\"UnionRenderers\"},{\"attributes\":{\"overlay\":{\"id\":\"2315\"}},\"id\":\"2311\",\"type\":\"BoxZoomTool\"},{\"attributes\":{},\"id\":\"2309\",\"type\":\"PanTool\"},{\"attributes\":{\"data\":{\"x\":[1,2,3,4,5],\"y\":[4,5,5,7,2]},\"selected\":{\"id\":\"2337\"},\"selection_policy\":{\"id\":\"2336\"}},\"id\":\"2323\",\"type\":\"ColumnDataSource\"},{\"attributes\":{\"fill_alpha\":{\"value\":0.5},\"fill_color\":{\"value\":\"red\"},\"line_color\":{\"value\":\"blue\"},\"size\":{\"value\":60},\"x\":{\"field\":\"x\"},\"y\":{\"field\":\"y\"}},\"id\":\"2342\",\"type\":\"Circle\"},{\"attributes\":{},\"id\":\"2293\",\"type\":\"DataRange1d\"},{\"attributes\":{\"coordinates\":null,\"data_source\":{\"id\":\"2323\"},\"glyph\":{\"id\":\"2324\"},\"group\":null,\"hover_glyph\":null,\"muted_glyph\":{\"id\":\"2326\"},\"nonselection_glyph\":{\"id\":\"2325\"},\"view\":{\"id\":\"2328\"}},\"id\":\"2327\",\"type\":\"GlyphRenderer\"}],\"root_ids\":[\"2290\"]},\"title\":\"Bokeh Application\",\"version\":\"2.4.3\"}};\n",
       "  const render_items = [{\"docid\":\"ec633c1e-29f8-41f3-a5e6-50adfe0cc57d\",\"root_ids\":[\"2290\"],\"roots\":{\"2290\":\"80c44846-f211-4f98-a6ab-35e9b12fe263\"}}];\n",
       "  root.Bokeh.embed.embed_items_notebook(docs_json, render_items);\n",
       "  }\n",
       "  if (root.Bokeh !== undefined) {\n",
       "    embed_document(root);\n",
       "  } else {\n",
       "    let attempts = 0;\n",
       "    const timer = setInterval(function(root) {\n",
       "      if (root.Bokeh !== undefined) {\n",
       "        clearInterval(timer);\n",
       "        embed_document(root);\n",
       "      } else {\n",
       "        attempts++;\n",
       "        if (attempts > 100) {\n",
       "          clearInterval(timer);\n",
       "          console.log(\"Bokeh: ERROR: Unable to run BokehJS code because BokehJS library is missing\");\n",
       "        }\n",
       "      }\n",
       "    }, 10, root)\n",
       "  }\n",
       "})(window);"
      ],
      "application/vnd.bokehjs_exec.v0+json": ""
     },
     "metadata": {
      "application/vnd.bokehjs_exec.v0+json": {
       "id": "2290"
      }
     },
     "output_type": "display_data"
    }
   ],
   "source": [
    "x = [1, 2, 3, 4, 5]\n",
    "y1 = [4, 5, 5, 7, 2]\n",
    "y2 = [2, 3, 4, 5, 6]\n",
    "\n",
    "# create a new plot\n",
    "p = figure(title=\"Legend\")\n",
    "\n",
    "# add circle renderer with legend_label arguments\n",
    "line = p.line(x, y1, legend_label=\"Temp.\", line_color=\"blue\", line_width=2)\n",
    "circle = p.circle(x, y2, legend_label=\"Objects\", fill_color=\"red\", fill_alpha=0.5, line_color=\"blue\", size=60)\n",
    "\n",
    "# display legend in top left corner \n",
    "p.legend.location = \"top_left\"\n",
    "\n",
    "# add a title to your legend\n",
    "p.legend.title = \"Obervations\"\n",
    "\n",
    "# change appearance of legend text\n",
    "p.legend.label_text_font = \"times\"\n",
    "p.legend.label_text_font_style = \"italic\"\n",
    "p.legend.label_text_color = \"#453217\"\n",
    "\n",
    "# change border and background of legend\n",
    "p.legend.border_line_width = 3\n",
    "p.legend.border_line_color = \"navy\"\n",
    "p.legend.border_line_alpha = 0.8\n",
    "p.legend.background_fill_color = \"navy\"\n",
    "p.legend.background_fill_alpha = 0.2\n",
    "\n",
    "# show the results\n",
    "show(p)"
   ]
  },
  {
   "cell_type": "markdown",
   "id": "3648d4e9",
   "metadata": {},
   "source": [
    "# Customize Headlines"
   ]
  },
  {
   "cell_type": "code",
   "execution_count": 29,
   "id": "2209fcb9",
   "metadata": {},
   "outputs": [
    {
     "data": {
      "text/html": [
       "\n",
       "  <div class=\"bk-root\" id=\"fb3f4257-ec36-4fcc-b43a-a13cdc4b3355\" data-root-id=\"2503\"></div>\n"
      ]
     },
     "metadata": {},
     "output_type": "display_data"
    },
    {
     "data": {
      "application/javascript": [
       "(function(root) {\n",
       "  function embed_document(root) {\n",
       "  const docs_json = {\"4ff0e49b-7119-40bf-88d2-67b818af2458\":{\"defs\":[],\"roots\":{\"references\":[{\"attributes\":{\"below\":[{\"id\":\"2514\"}],\"center\":[{\"id\":\"2517\"},{\"id\":\"2521\"},{\"id\":\"2552\"}],\"left\":[{\"id\":\"2518\"}],\"renderers\":[{\"id\":\"2540\"}],\"title\":{\"id\":\"2504\"},\"toolbar\":{\"id\":\"2529\"},\"x_range\":{\"id\":\"2506\"},\"x_scale\":{\"id\":\"2510\"},\"y_range\":{\"id\":\"2508\"},\"y_scale\":{\"id\":\"2512\"}},\"id\":\"2503\",\"subtype\":\"Figure\",\"type\":\"Plot\"},{\"attributes\":{\"axis\":{\"id\":\"2514\"},\"coordinates\":null,\"group\":null,\"ticker\":null},\"id\":\"2517\",\"type\":\"Grid\"},{\"attributes\":{\"coordinates\":null,\"group\":null,\"items\":[{\"id\":\"2553\"}]},\"id\":\"2552\",\"type\":\"Legend\"},{\"attributes\":{},\"id\":\"2544\",\"type\":\"BasicTickFormatter\"},{\"attributes\":{},\"id\":\"2515\",\"type\":\"BasicTicker\"},{\"attributes\":{\"coordinates\":null,\"formatter\":{\"id\":\"2544\"},\"group\":null,\"major_label_policy\":{\"id\":\"2545\"},\"ticker\":{\"id\":\"2519\"}},\"id\":\"2518\",\"type\":\"LinearAxis\"},{\"attributes\":{\"align\":\"right\",\"background_fill_color\":\"navy\",\"coordinates\":null,\"group\":null,\"text\":\"What is the reason\",\"text_color\":\"white\",\"text_font_size\":\"25px\"},\"id\":\"2504\",\"type\":\"Title\"},{\"attributes\":{},\"id\":\"2512\",\"type\":\"LinearScale\"},{\"attributes\":{},\"id\":\"2545\",\"type\":\"AllLabels\"},{\"attributes\":{},\"id\":\"2508\",\"type\":\"DataRange1d\"},{\"attributes\":{},\"id\":\"2523\",\"type\":\"WheelZoomTool\"},{\"attributes\":{\"line_alpha\":0.2,\"line_color\":\"#1f77b4\",\"line_width\":2,\"x\":{\"field\":\"x\"},\"y\":{\"field\":\"y\"}},\"id\":\"2539\",\"type\":\"Line\"},{\"attributes\":{\"tools\":[{\"id\":\"2522\"},{\"id\":\"2523\"},{\"id\":\"2524\"},{\"id\":\"2525\"},{\"id\":\"2526\"},{\"id\":\"2527\"}]},\"id\":\"2529\",\"type\":\"Toolbar\"},{\"attributes\":{\"coordinates\":null,\"data_source\":{\"id\":\"2536\"},\"glyph\":{\"id\":\"2537\"},\"group\":null,\"hover_glyph\":null,\"muted_glyph\":{\"id\":\"2539\"},\"nonselection_glyph\":{\"id\":\"2538\"},\"view\":{\"id\":\"2541\"}},\"id\":\"2540\",\"type\":\"GlyphRenderer\"},{\"attributes\":{},\"id\":\"2550\",\"type\":\"Selection\"},{\"attributes\":{},\"id\":\"2506\",\"type\":\"DataRange1d\"},{\"attributes\":{\"bottom_units\":\"screen\",\"coordinates\":null,\"fill_alpha\":0.5,\"fill_color\":\"lightgrey\",\"group\":null,\"left_units\":\"screen\",\"level\":\"overlay\",\"line_alpha\":1.0,\"line_color\":\"black\",\"line_dash\":[4,4],\"line_width\":2,\"right_units\":\"screen\",\"syncable\":false,\"top_units\":\"screen\"},\"id\":\"2528\",\"type\":\"BoxAnnotation\"},{\"attributes\":{\"line_alpha\":0.1,\"line_color\":\"#1f77b4\",\"line_width\":2,\"x\":{\"field\":\"x\"},\"y\":{\"field\":\"y\"}},\"id\":\"2538\",\"type\":\"Line\"},{\"attributes\":{\"data\":{\"x\":[1,2,3,4,5],\"y\":[6,7,2,4,5]},\"selected\":{\"id\":\"2550\"},\"selection_policy\":{\"id\":\"2549\"}},\"id\":\"2536\",\"type\":\"ColumnDataSource\"},{\"attributes\":{},\"id\":\"2547\",\"type\":\"BasicTickFormatter\"},{\"attributes\":{},\"id\":\"2549\",\"type\":\"UnionRenderers\"},{\"attributes\":{\"overlay\":{\"id\":\"2528\"}},\"id\":\"2524\",\"type\":\"BoxZoomTool\"},{\"attributes\":{},\"id\":\"2526\",\"type\":\"ResetTool\"},{\"attributes\":{},\"id\":\"2525\",\"type\":\"SaveTool\"},{\"attributes\":{},\"id\":\"2522\",\"type\":\"PanTool\"},{\"attributes\":{},\"id\":\"2548\",\"type\":\"AllLabels\"},{\"attributes\":{\"coordinates\":null,\"formatter\":{\"id\":\"2547\"},\"group\":null,\"major_label_policy\":{\"id\":\"2548\"},\"ticker\":{\"id\":\"2515\"}},\"id\":\"2514\",\"type\":\"LinearAxis\"},{\"attributes\":{\"label\":{\"value\":\"Temp.\"},\"renderers\":[{\"id\":\"2540\"}]},\"id\":\"2553\",\"type\":\"LegendItem\"},{\"attributes\":{},\"id\":\"2519\",\"type\":\"BasicTicker\"},{\"attributes\":{\"axis\":{\"id\":\"2518\"},\"coordinates\":null,\"dimension\":1,\"group\":null,\"ticker\":null},\"id\":\"2521\",\"type\":\"Grid\"},{\"attributes\":{\"line_color\":\"#1f77b4\",\"line_width\":2,\"x\":{\"field\":\"x\"},\"y\":{\"field\":\"y\"}},\"id\":\"2537\",\"type\":\"Line\"},{\"attributes\":{},\"id\":\"2527\",\"type\":\"HelpTool\"},{\"attributes\":{},\"id\":\"2510\",\"type\":\"LinearScale\"},{\"attributes\":{\"source\":{\"id\":\"2536\"}},\"id\":\"2541\",\"type\":\"CDSView\"}],\"root_ids\":[\"2503\"]},\"title\":\"Bokeh Application\",\"version\":\"2.4.3\"}};\n",
       "  const render_items = [{\"docid\":\"4ff0e49b-7119-40bf-88d2-67b818af2458\",\"root_ids\":[\"2503\"],\"roots\":{\"2503\":\"fb3f4257-ec36-4fcc-b43a-a13cdc4b3355\"}}];\n",
       "  root.Bokeh.embed.embed_items_notebook(docs_json, render_items);\n",
       "  }\n",
       "  if (root.Bokeh !== undefined) {\n",
       "    embed_document(root);\n",
       "  } else {\n",
       "    let attempts = 0;\n",
       "    const timer = setInterval(function(root) {\n",
       "      if (root.Bokeh !== undefined) {\n",
       "        clearInterval(timer);\n",
       "        embed_document(root);\n",
       "      } else {\n",
       "        attempts++;\n",
       "        if (attempts > 100) {\n",
       "          clearInterval(timer);\n",
       "          console.log(\"Bokeh: ERROR: Unable to run BokehJS code because BokehJS library is missing\");\n",
       "        }\n",
       "      }\n",
       "    }, 10, root)\n",
       "  }\n",
       "})(window);"
      ],
      "application/vnd.bokehjs_exec.v0+json": ""
     },
     "metadata": {
      "application/vnd.bokehjs_exec.v0+json": {
       "id": "2503"
      }
     },
     "output_type": "display_data"
    }
   ],
   "source": [
    "x = [1, 2, 3, 4, 5]\n",
    "y = [6, 7, 2, 4, 5]\n",
    "\n",
    "# create new plot\n",
    "p = figure(title=\"Headline\")\n",
    "\n",
    "# add line renderer with a legend\n",
    "p.line(x, y, legend_label=\"Temp.\", line_width=2)\n",
    "\n",
    "# change headline location to the left\n",
    "p.title_location = \"above\"\n",
    "\n",
    "# change headline text\n",
    "p.title.text = \"What is the reason\"\n",
    "\n",
    "# style the headline\n",
    "p.title.text_font_size = \"25px\"\n",
    "p.title.align = \"right\"\n",
    "p.title.background_fill_color = \"navy\"\n",
    "p.title.text_color = \"white\"\n",
    "\n",
    "# show the results\n",
    "show(p)"
   ]
  },
  {
   "cell_type": "markdown",
   "id": "203c6d62",
   "metadata": {},
   "source": [
    "# Annotation"
   ]
  },
  {
   "cell_type": "code",
   "execution_count": 30,
   "id": "72abe1d9",
   "metadata": {},
   "outputs": [],
   "source": [
    "x = list(range(2,80))\n",
    "y = random.sample(range(0, 100), 78)"
   ]
  },
  {
   "cell_type": "code",
   "execution_count": 31,
   "id": "10045863",
   "metadata": {},
   "outputs": [
    {
     "data": {
      "text/html": [
       "\n",
       "  <div class=\"bk-root\" id=\"9ac8f303-20ee-42ee-b69c-6c2d5435de84\" data-root-id=\"2697\"></div>\n"
      ]
     },
     "metadata": {},
     "output_type": "display_data"
    },
    {
     "data": {
      "application/javascript": [
       "(function(root) {\n",
       "  function embed_document(root) {\n",
       "  const docs_json = {\"11b94eef-a402-4a87-9ecf-0543516e58d1\":{\"defs\":[],\"roots\":{\"references\":[{\"attributes\":{\"below\":[{\"id\":\"2708\"}],\"center\":[{\"id\":\"2711\"},{\"id\":\"2715\"},{\"id\":\"2736\"},{\"id\":\"2737\"},{\"id\":\"2738\"}],\"left\":[{\"id\":\"2712\"}],\"renderers\":[{\"id\":\"2734\"}],\"title\":{\"id\":\"2698\"},\"toolbar\":{\"id\":\"2723\"},\"x_range\":{\"id\":\"2700\"},\"x_scale\":{\"id\":\"2704\"},\"y_range\":{\"id\":\"2702\"},\"y_scale\":{\"id\":\"2706\"}},\"id\":\"2697\",\"subtype\":\"Figure\",\"type\":\"Plot\"},{\"attributes\":{\"overlay\":{\"id\":\"2722\"}},\"id\":\"2718\",\"type\":\"BoxZoomTool\"},{\"attributes\":{},\"id\":\"2716\",\"type\":\"PanTool\"},{\"attributes\":{},\"id\":\"2717\",\"type\":\"WheelZoomTool\"},{\"attributes\":{\"line_alpha\":0.1,\"line_color\":\"#000000\",\"line_width\":2,\"x\":{\"field\":\"x\"},\"y\":{\"field\":\"y\"}},\"id\":\"2732\",\"type\":\"Line\"},{\"attributes\":{\"coordinates\":null,\"group\":null,\"text\":\"Box Annotation\"},\"id\":\"2698\",\"type\":\"Title\"},{\"attributes\":{},\"id\":\"2702\",\"type\":\"DataRange1d\"},{\"attributes\":{},\"id\":\"2834\",\"type\":\"BasicTickFormatter\"},{\"attributes\":{},\"id\":\"2706\",\"type\":\"LinearScale\"},{\"attributes\":{},\"id\":\"2840\",\"type\":\"Selection\"},{\"attributes\":{\"coordinates\":null,\"formatter\":{\"id\":\"2834\"},\"group\":null,\"major_label_policy\":{\"id\":\"2835\"},\"ticker\":{\"id\":\"2713\"}},\"id\":\"2712\",\"type\":\"LinearAxis\"},{\"attributes\":{},\"id\":\"2835\",\"type\":\"AllLabels\"},{\"attributes\":{\"coordinates\":null,\"data_source\":{\"id\":\"2730\"},\"glyph\":{\"id\":\"2731\"},\"group\":null,\"hover_glyph\":null,\"muted_glyph\":{\"id\":\"2733\"},\"nonselection_glyph\":{\"id\":\"2732\"},\"view\":{\"id\":\"2735\"}},\"id\":\"2734\",\"type\":\"GlyphRenderer\"},{\"attributes\":{\"line_alpha\":0.2,\"line_color\":\"#000000\",\"line_width\":2,\"x\":{\"field\":\"x\"},\"y\":{\"field\":\"y\"}},\"id\":\"2733\",\"type\":\"Line\"},{\"attributes\":{},\"id\":\"2713\",\"type\":\"BasicTicker\"},{\"attributes\":{\"coordinates\":null,\"fill_alpha\":0.2,\"fill_color\":\"#FAEBD7\",\"group\":null,\"top\":20},\"id\":\"2736\",\"type\":\"BoxAnnotation\"},{\"attributes\":{\"axis\":{\"id\":\"2712\"},\"coordinates\":null,\"dimension\":1,\"group\":null,\"ticker\":null},\"id\":\"2715\",\"type\":\"Grid\"},{\"attributes\":{},\"id\":\"2839\",\"type\":\"UnionRenderers\"},{\"attributes\":{\"data\":{\"x\":[2,3,4,5,6,7,8,9,10,11,12,13,14,15,16,17,18,19,20,21,22,23,24,25,26,27,28,29,30,31,32,33,34,35,36,37,38,39,40,41,42,43,44,45,46,47,48,49,50,51,52,53,54,55,56,57,58,59,60,61,62,63,64,65,66,67,68,69,70,71,72,73,74,75,76,77,78,79],\"y\":[27,22,63,59,71,1,39,78,61,82,67,42,20,14,38,76,18,10,43,88,95,77,47,48,65,26,92,7,53,70,85,45,60,0,55,15,91,31,56,5,50,34,73,93,12,49,19,3,74,11,72,44,32,81,69,57,94,6,29,58,41,9,79,84,25,36,75,13,37,46,33,97,90,54,35,52,16,17]},\"selected\":{\"id\":\"2840\"},\"selection_policy\":{\"id\":\"2839\"}},\"id\":\"2730\",\"type\":\"ColumnDataSource\"},{\"attributes\":{},\"id\":\"2838\",\"type\":\"AllLabels\"},{\"attributes\":{},\"id\":\"2837\",\"type\":\"BasicTickFormatter\"},{\"attributes\":{},\"id\":\"2709\",\"type\":\"BasicTicker\"},{\"attributes\":{\"axis\":{\"id\":\"2708\"},\"coordinates\":null,\"group\":null,\"ticker\":null},\"id\":\"2711\",\"type\":\"Grid\"},{\"attributes\":{},\"id\":\"2704\",\"type\":\"LinearScale\"},{\"attributes\":{\"coordinates\":null,\"formatter\":{\"id\":\"2837\"},\"group\":null,\"major_label_policy\":{\"id\":\"2838\"},\"ticker\":{\"id\":\"2709\"}},\"id\":\"2708\",\"type\":\"LinearAxis\"},{\"attributes\":{},\"id\":\"2721\",\"type\":\"HelpTool\"},{\"attributes\":{\"tools\":[{\"id\":\"2716\"},{\"id\":\"2717\"},{\"id\":\"2718\"},{\"id\":\"2719\"},{\"id\":\"2720\"},{\"id\":\"2721\"}]},\"id\":\"2723\",\"type\":\"Toolbar\"},{\"attributes\":{\"bottom\":80,\"coordinates\":null,\"fill_alpha\":0.2,\"fill_color\":\"#FAEBD7\",\"group\":null},\"id\":\"2738\",\"type\":\"BoxAnnotation\"},{\"attributes\":{\"line_color\":\"#000000\",\"line_width\":2,\"x\":{\"field\":\"x\"},\"y\":{\"field\":\"y\"}},\"id\":\"2731\",\"type\":\"Line\"},{\"attributes\":{\"bottom\":20,\"coordinates\":null,\"fill_alpha\":0.2,\"fill_color\":\"#7FFFD4\",\"group\":null},\"id\":\"2737\",\"type\":\"BoxAnnotation\"},{\"attributes\":{\"source\":{\"id\":\"2730\"}},\"id\":\"2735\",\"type\":\"CDSView\"},{\"attributes\":{},\"id\":\"2700\",\"type\":\"DataRange1d\"},{\"attributes\":{},\"id\":\"2720\",\"type\":\"ResetTool\"},{\"attributes\":{\"bottom_units\":\"screen\",\"coordinates\":null,\"fill_alpha\":0.5,\"fill_color\":\"lightgrey\",\"group\":null,\"left_units\":\"screen\",\"level\":\"overlay\",\"line_alpha\":1.0,\"line_color\":\"black\",\"line_dash\":[4,4],\"line_width\":2,\"right_units\":\"screen\",\"syncable\":false,\"top_units\":\"screen\"},\"id\":\"2722\",\"type\":\"BoxAnnotation\"},{\"attributes\":{},\"id\":\"2719\",\"type\":\"SaveTool\"}],\"root_ids\":[\"2697\"]},\"title\":\"Bokeh Application\",\"version\":\"2.4.3\"}};\n",
       "  const render_items = [{\"docid\":\"11b94eef-a402-4a87-9ecf-0543516e58d1\",\"root_ids\":[\"2697\"],\"roots\":{\"2697\":\"9ac8f303-20ee-42ee-b69c-6c2d5435de84\"}}];\n",
       "  root.Bokeh.embed.embed_items_notebook(docs_json, render_items);\n",
       "  }\n",
       "  if (root.Bokeh !== undefined) {\n",
       "    embed_document(root);\n",
       "  } else {\n",
       "    let attempts = 0;\n",
       "    const timer = setInterval(function(root) {\n",
       "      if (root.Bokeh !== undefined) {\n",
       "        clearInterval(timer);\n",
       "        embed_document(root);\n",
       "      } else {\n",
       "        attempts++;\n",
       "        if (attempts > 100) {\n",
       "          clearInterval(timer);\n",
       "          console.log(\"Bokeh: ERROR: Unable to run BokehJS code because BokehJS library is missing\");\n",
       "        }\n",
       "      }\n",
       "    }, 10, root)\n",
       "  }\n",
       "})(window);"
      ],
      "application/vnd.bokehjs_exec.v0+json": ""
     },
     "metadata": {
      "application/vnd.bokehjs_exec.v0+json": {
       "id": "2697"
      }
     },
     "output_type": "display_data"
    }
   ],
   "source": [
    "p= figure(title='Box Annotation')\n",
    "# add line renderer\n",
    "line = p.line(x, y, line_color=\"#000000\", line_width=2)\n",
    "\n",
    "# add box annotations\n",
    "low_box = BoxAnnotation(top=20, fill_alpha=0.2, fill_color='#FAEBD7')\n",
    "mid_box = BoxAnnotation(bottom=20, fill_alpha=0.2, fill_color='#7FFFD4')\n",
    "high_box = BoxAnnotation(bottom=80, fill_alpha=0.2, fill_color='#FAEBD7')\n",
    "\n",
    "# add boxes to existing figure\n",
    "p.add_layout(low_box)\n",
    "p.add_layout(mid_box)\n",
    "p.add_layout(high_box)\n",
    "show(p)"
   ]
  },
  {
   "cell_type": "markdown",
   "id": "96b6777b",
   "metadata": {},
   "source": [
    "# Adding Theme"
   ]
  },
  {
   "cell_type": "code",
   "execution_count": 32,
   "id": "5f466b15",
   "metadata": {},
   "outputs": [
    {
     "data": {
      "text/html": [
       "\n",
       "  <div class=\"bk-root\" id=\"8ef32859-e6a7-4111-a688-22a4f9d72a6d\" data-root-id=\"2892\"></div>\n"
      ]
     },
     "metadata": {},
     "output_type": "display_data"
    },
    {
     "data": {
      "application/javascript": [
       "(function(root) {\n",
       "  function embed_document(root) {\n",
       "  const docs_json = {\"f99491e7-8721-45c0-95b5-6884532cc8ab\":{\"defs\":[],\"roots\":{\"references\":[{\"attributes\":{\"background_fill_color\":\"#20262B\",\"below\":[{\"id\":\"2901\"}],\"border_fill_color\":\"#15191C\",\"center\":[{\"id\":\"2904\"},{\"id\":\"2908\"}],\"height\":250,\"left\":[{\"id\":\"2905\"}],\"max_width\":500,\"outline_line_alpha\":0.25,\"outline_line_color\":\"#E0E0E0\",\"renderers\":[{\"id\":\"2927\"}],\"sizing_mode\":\"stretch_width\",\"title\":{\"id\":\"3032\"},\"toolbar\":{\"id\":\"2916\"},\"x_range\":{\"id\":\"2893\"},\"x_scale\":{\"id\":\"2897\"},\"y_range\":{\"id\":\"2895\"},\"y_scale\":{\"id\":\"2899\"}},\"id\":\"2892\",\"subtype\":\"Figure\",\"type\":\"Plot\"},{\"attributes\":{\"tools\":[{\"id\":\"2909\"},{\"id\":\"2910\"},{\"id\":\"2911\"},{\"id\":\"2912\"},{\"id\":\"2913\"},{\"id\":\"2914\"}]},\"id\":\"2916\",\"type\":\"Toolbar\"},{\"attributes\":{\"line_alpha\":0.1,\"line_color\":\"#1f77b4\",\"x\":{\"field\":\"x\"},\"y\":{\"field\":\"y\"}},\"id\":\"2925\",\"type\":\"Line\"},{\"attributes\":{\"line_alpha\":0.2,\"line_color\":\"#1f77b4\",\"x\":{\"field\":\"x\"},\"y\":{\"field\":\"y\"}},\"id\":\"2926\",\"type\":\"Line\"},{\"attributes\":{},\"id\":\"2913\",\"type\":\"ResetTool\"},{\"attributes\":{},\"id\":\"2910\",\"type\":\"WheelZoomTool\"},{\"attributes\":{\"line_color\":\"#1f77b4\",\"x\":{\"field\":\"x\"},\"y\":{\"field\":\"y\"}},\"id\":\"2924\",\"type\":\"Line\"},{\"attributes\":{},\"id\":\"3035\",\"type\":\"BasicTickFormatter\"},{\"attributes\":{},\"id\":\"3039\",\"type\":\"AllLabels\"},{\"attributes\":{\"axis_label_standoff\":10,\"axis_label_text_color\":\"#E0E0E0\",\"axis_label_text_font\":\"Helvetica\",\"axis_label_text_font_size\":\"1.25em\",\"axis_label_text_font_style\":\"normal\",\"axis_line_alpha\":0,\"axis_line_color\":\"#E0E0E0\",\"coordinates\":null,\"formatter\":{\"id\":\"3038\"},\"group\":null,\"major_label_policy\":{\"id\":\"3039\"},\"major_label_text_color\":\"#E0E0E0\",\"major_label_text_font\":\"Helvetica\",\"major_label_text_font_size\":\"1.025em\",\"major_tick_line_alpha\":0,\"major_tick_line_color\":\"#E0E0E0\",\"minor_tick_line_alpha\":0,\"minor_tick_line_color\":\"#E0E0E0\",\"ticker\":{\"id\":\"2902\"}},\"id\":\"2901\",\"type\":\"LinearAxis\"},{\"attributes\":{\"coordinates\":null,\"group\":null,\"text_color\":\"#E0E0E0\",\"text_font\":\"Helvetica\",\"text_font_size\":\"1.15em\"},\"id\":\"3032\",\"type\":\"Title\"},{\"attributes\":{},\"id\":\"2895\",\"type\":\"DataRange1d\"},{\"attributes\":{},\"id\":\"2909\",\"type\":\"PanTool\"},{\"attributes\":{\"source\":{\"id\":\"2923\"}},\"id\":\"2928\",\"type\":\"CDSView\"},{\"attributes\":{},\"id\":\"2897\",\"type\":\"LinearScale\"},{\"attributes\":{\"overlay\":{\"id\":\"2915\"}},\"id\":\"2911\",\"type\":\"BoxZoomTool\"},{\"attributes\":{},\"id\":\"3036\",\"type\":\"AllLabels\"},{\"attributes\":{\"coordinates\":null,\"data_source\":{\"id\":\"2923\"},\"glyph\":{\"id\":\"2924\"},\"group\":null,\"hover_glyph\":null,\"muted_glyph\":{\"id\":\"2926\"},\"nonselection_glyph\":{\"id\":\"2925\"},\"view\":{\"id\":\"2928\"}},\"id\":\"2927\",\"type\":\"GlyphRenderer\"},{\"attributes\":{},\"id\":\"3041\",\"type\":\"Selection\"},{\"attributes\":{},\"id\":\"2914\",\"type\":\"HelpTool\"},{\"attributes\":{\"bottom_units\":\"screen\",\"coordinates\":null,\"fill_alpha\":0.5,\"fill_color\":\"lightgrey\",\"group\":null,\"left_units\":\"screen\",\"level\":\"overlay\",\"line_alpha\":1.0,\"line_color\":\"black\",\"line_dash\":[4,4],\"line_width\":2,\"right_units\":\"screen\",\"syncable\":false,\"top_units\":\"screen\"},\"id\":\"2915\",\"type\":\"BoxAnnotation\"},{\"attributes\":{},\"id\":\"3040\",\"type\":\"UnionRenderers\"},{\"attributes\":{},\"id\":\"2906\",\"type\":\"BasicTicker\"},{\"attributes\":{},\"id\":\"2899\",\"type\":\"LinearScale\"},{\"attributes\":{\"axis\":{\"id\":\"2901\"},\"coordinates\":null,\"grid_line_alpha\":0.25,\"grid_line_color\":\"#E0E0E0\",\"group\":null,\"ticker\":null},\"id\":\"2904\",\"type\":\"Grid\"},{\"attributes\":{\"axis_label_standoff\":10,\"axis_label_text_color\":\"#E0E0E0\",\"axis_label_text_font\":\"Helvetica\",\"axis_label_text_font_size\":\"1.25em\",\"axis_label_text_font_style\":\"normal\",\"axis_line_alpha\":0,\"axis_line_color\":\"#E0E0E0\",\"coordinates\":null,\"formatter\":{\"id\":\"3035\"},\"group\":null,\"major_label_policy\":{\"id\":\"3036\"},\"major_label_text_color\":\"#E0E0E0\",\"major_label_text_font\":\"Helvetica\",\"major_label_text_font_size\":\"1.025em\",\"major_tick_line_alpha\":0,\"major_tick_line_color\":\"#E0E0E0\",\"minor_tick_line_alpha\":0,\"minor_tick_line_color\":\"#E0E0E0\",\"ticker\":{\"id\":\"2906\"}},\"id\":\"2905\",\"type\":\"LinearAxis\"},{\"attributes\":{\"data\":{\"x\":[1,2,3,4,5],\"y\":[4,5,5,7,2]},\"selected\":{\"id\":\"3041\"},\"selection_policy\":{\"id\":\"3040\"}},\"id\":\"2923\",\"type\":\"ColumnDataSource\"},{\"attributes\":{\"axis\":{\"id\":\"2905\"},\"coordinates\":null,\"dimension\":1,\"grid_line_alpha\":0.25,\"grid_line_color\":\"#E0E0E0\",\"group\":null,\"ticker\":null},\"id\":\"2908\",\"type\":\"Grid\"},{\"attributes\":{},\"id\":\"3038\",\"type\":\"BasicTickFormatter\"},{\"attributes\":{},\"id\":\"2893\",\"type\":\"DataRange1d\"},{\"attributes\":{},\"id\":\"2902\",\"type\":\"BasicTicker\"},{\"attributes\":{},\"id\":\"2912\",\"type\":\"SaveTool\"}],\"root_ids\":[\"2892\"]},\"title\":\"Bokeh Application\",\"version\":\"2.4.3\"}};\n",
       "  const render_items = [{\"docid\":\"f99491e7-8721-45c0-95b5-6884532cc8ab\",\"root_ids\":[\"2892\"],\"roots\":{\"2892\":\"8ef32859-e6a7-4111-a688-22a4f9d72a6d\"}}];\n",
       "  root.Bokeh.embed.embed_items_notebook(docs_json, render_items);\n",
       "  }\n",
       "  if (root.Bokeh !== undefined) {\n",
       "    embed_document(root);\n",
       "  } else {\n",
       "    let attempts = 0;\n",
       "    const timer = setInterval(function(root) {\n",
       "      if (root.Bokeh !== undefined) {\n",
       "        clearInterval(timer);\n",
       "        embed_document(root);\n",
       "      } else {\n",
       "        attempts++;\n",
       "        if (attempts > 100) {\n",
       "          clearInterval(timer);\n",
       "          console.log(\"Bokeh: ERROR: Unable to run BokehJS code because BokehJS library is missing\");\n",
       "        }\n",
       "      }\n",
       "    }, 10, root)\n",
       "  }\n",
       "})(window);"
      ],
      "application/vnd.bokehjs_exec.v0+json": ""
     },
     "metadata": {
      "application/vnd.bokehjs_exec.v0+json": {
       "id": "2892"
      }
     },
     "output_type": "display_data"
    }
   ],
   "source": [
    "x = [1, 2, 3, 4, 5]\n",
    "y = [4, 5, 5, 7, 2]\n",
    "\n",
    "# apply theme to current document\n",
    "curdoc().theme = \"dark_minimal\"\n",
    "\n",
    "# create a plot\n",
    "p = figure(sizing_mode=\"stretch_width\", max_width=500, height=250)\n",
    "\n",
    "# add a renderer\n",
    "p.line(x, y)\n",
    "\n",
    "# show the results\n",
    "show(p)"
   ]
  },
  {
   "cell_type": "markdown",
   "id": "39a9c5f2",
   "metadata": {},
   "source": [
    "# Resizing Plot"
   ]
  },
  {
   "cell_type": "code",
   "execution_count": 33,
   "id": "a0555d55",
   "metadata": {},
   "outputs": [
    {
     "data": {
      "text/html": [
       "\n",
       "  <div class=\"bk-root\" id=\"97fe7ff0-be4b-4f43-8d2d-fe964282bee6\" data-root-id=\"3098\"></div>\n"
      ]
     },
     "metadata": {},
     "output_type": "display_data"
    },
    {
     "data": {
      "application/javascript": [
       "(function(root) {\n",
       "  function embed_document(root) {\n",
       "  const docs_json = {\"b60abf31-ac78-4508-b13b-01669ea48b8c\":{\"defs\":[],\"roots\":{\"references\":[{\"attributes\":{\"background_fill_color\":\"#20262B\",\"below\":[{\"id\":\"3109\"}],\"border_fill_color\":\"#15191C\",\"center\":[{\"id\":\"3112\"},{\"id\":\"3116\"}],\"height\":150,\"left\":[{\"id\":\"3113\"}],\"outline_line_alpha\":0.25,\"outline_line_color\":\"#E0E0E0\",\"renderers\":[{\"id\":\"3135\"}],\"title\":{\"id\":\"3099\"},\"toolbar\":{\"id\":\"3124\"},\"width\":450,\"x_range\":{\"id\":\"3101\"},\"x_scale\":{\"id\":\"3105\"},\"y_range\":{\"id\":\"3103\"},\"y_scale\":{\"id\":\"3107\"}},\"id\":\"3098\",\"subtype\":\"Figure\",\"type\":\"Plot\"},{\"attributes\":{\"data\":{\"x\":[1,2,3,4,5],\"y\":[4,5,5,7,2]},\"selected\":{\"id\":\"3259\"},\"selection_policy\":{\"id\":\"3258\"}},\"id\":\"3131\",\"type\":\"ColumnDataSource\"},{\"attributes\":{\"fill_alpha\":{\"value\":0.1},\"fill_color\":{\"value\":\"red\"},\"hatch_alpha\":{\"value\":0.1},\"line_alpha\":{\"value\":0.1},\"line_color\":{\"value\":\"#1f77b4\"},\"size\":{\"value\":15},\"x\":{\"field\":\"x\"},\"y\":{\"field\":\"y\"}},\"id\":\"3133\",\"type\":\"Circle\"},{\"attributes\":{},\"id\":\"3101\",\"type\":\"DataRange1d\"},{\"attributes\":{},\"id\":\"3107\",\"type\":\"LinearScale\"},{\"attributes\":{\"fill_alpha\":{\"value\":0.2},\"fill_color\":{\"value\":\"red\"},\"hatch_alpha\":{\"value\":0.2},\"line_alpha\":{\"value\":0.2},\"line_color\":{\"value\":\"#1f77b4\"},\"size\":{\"value\":15},\"x\":{\"field\":\"x\"},\"y\":{\"field\":\"y\"}},\"id\":\"3134\",\"type\":\"Circle\"},{\"attributes\":{\"axis_label\":\"x\",\"axis_label_standoff\":10,\"axis_label_text_color\":\"#E0E0E0\",\"axis_label_text_font\":\"Helvetica\",\"axis_label_text_font_size\":\"1.25em\",\"axis_label_text_font_style\":\"normal\",\"axis_line_alpha\":0,\"axis_line_color\":\"#E0E0E0\",\"coordinates\":null,\"formatter\":{\"id\":\"3256\"},\"group\":null,\"major_label_policy\":{\"id\":\"3257\"},\"major_label_text_color\":\"#E0E0E0\",\"major_label_text_font\":\"Helvetica\",\"major_label_text_font_size\":\"1.025em\",\"major_tick_line_alpha\":0,\"major_tick_line_color\":\"#E0E0E0\",\"minor_tick_line_alpha\":0,\"minor_tick_line_color\":\"#E0E0E0\",\"ticker\":{\"id\":\"3110\"}},\"id\":\"3109\",\"type\":\"LinearAxis\"},{\"attributes\":{\"tools\":[{\"id\":\"3117\"},{\"id\":\"3118\"},{\"id\":\"3119\"},{\"id\":\"3120\"},{\"id\":\"3121\"},{\"id\":\"3122\"}]},\"id\":\"3124\",\"type\":\"Toolbar\"},{\"attributes\":{\"source\":{\"id\":\"3131\"}},\"id\":\"3136\",\"type\":\"CDSView\"},{\"attributes\":{},\"id\":\"3256\",\"type\":\"BasicTickFormatter\"},{\"attributes\":{\"coordinates\":null,\"group\":null,\"text\":\"Plot sizing\",\"text_color\":\"#E0E0E0\",\"text_font\":\"Helvetica\",\"text_font_size\":\"1.15em\"},\"id\":\"3099\",\"type\":\"Title\"},{\"attributes\":{},\"id\":\"3257\",\"type\":\"AllLabels\"},{\"attributes\":{},\"id\":\"3118\",\"type\":\"WheelZoomTool\"},{\"attributes\":{\"bottom_units\":\"screen\",\"coordinates\":null,\"fill_alpha\":0.5,\"fill_color\":\"lightgrey\",\"group\":null,\"left_units\":\"screen\",\"level\":\"overlay\",\"line_alpha\":1.0,\"line_color\":\"black\",\"line_dash\":[4,4],\"line_width\":2,\"right_units\":\"screen\",\"syncable\":false,\"top_units\":\"screen\"},\"id\":\"3123\",\"type\":\"BoxAnnotation\"},{\"attributes\":{\"coordinates\":null,\"data_source\":{\"id\":\"3131\"},\"glyph\":{\"id\":\"3132\"},\"group\":null,\"hover_glyph\":null,\"muted_glyph\":{\"id\":\"3134\"},\"nonselection_glyph\":{\"id\":\"3133\"},\"view\":{\"id\":\"3136\"}},\"id\":\"3135\",\"type\":\"GlyphRenderer\"},{\"attributes\":{},\"id\":\"3105\",\"type\":\"LinearScale\"},{\"attributes\":{\"fill_color\":{\"value\":\"red\"},\"line_color\":{\"value\":\"#1f77b4\"},\"size\":{\"value\":15},\"x\":{\"field\":\"x\"},\"y\":{\"field\":\"y\"}},\"id\":\"3132\",\"type\":\"Circle\"},{\"attributes\":{\"axis\":{\"id\":\"3109\"},\"coordinates\":null,\"grid_line_alpha\":0.25,\"grid_line_color\":\"#E0E0E0\",\"group\":null,\"ticker\":null},\"id\":\"3112\",\"type\":\"Grid\"},{\"attributes\":{},\"id\":\"3110\",\"type\":\"BasicTicker\"},{\"attributes\":{},\"id\":\"3121\",\"type\":\"ResetTool\"},{\"attributes\":{},\"id\":\"3103\",\"type\":\"DataRange1d\"},{\"attributes\":{},\"id\":\"3120\",\"type\":\"SaveTool\"},{\"attributes\":{\"overlay\":{\"id\":\"3123\"}},\"id\":\"3119\",\"type\":\"BoxZoomTool\"},{\"attributes\":{},\"id\":\"3117\",\"type\":\"PanTool\"},{\"attributes\":{},\"id\":\"3122\",\"type\":\"HelpTool\"},{\"attributes\":{},\"id\":\"3114\",\"type\":\"BasicTicker\"},{\"attributes\":{},\"id\":\"3254\",\"type\":\"AllLabels\"},{\"attributes\":{\"axis\":{\"id\":\"3113\"},\"coordinates\":null,\"dimension\":1,\"grid_line_alpha\":0.25,\"grid_line_color\":\"#E0E0E0\",\"group\":null,\"ticker\":null},\"id\":\"3116\",\"type\":\"Grid\"},{\"attributes\":{\"axis_label\":\"y\",\"axis_label_standoff\":10,\"axis_label_text_color\":\"#E0E0E0\",\"axis_label_text_font\":\"Helvetica\",\"axis_label_text_font_size\":\"1.25em\",\"axis_label_text_font_style\":\"normal\",\"axis_line_alpha\":0,\"axis_line_color\":\"#E0E0E0\",\"coordinates\":null,\"formatter\":{\"id\":\"3253\"},\"group\":null,\"major_label_policy\":{\"id\":\"3254\"},\"major_label_text_color\":\"#E0E0E0\",\"major_label_text_font\":\"Helvetica\",\"major_label_text_font_size\":\"1.025em\",\"major_tick_line_alpha\":0,\"major_tick_line_color\":\"#E0E0E0\",\"minor_tick_line_alpha\":0,\"minor_tick_line_color\":\"#E0E0E0\",\"ticker\":{\"id\":\"3114\"}},\"id\":\"3113\",\"type\":\"LinearAxis\"},{\"attributes\":{},\"id\":\"3253\",\"type\":\"BasicTickFormatter\"},{\"attributes\":{},\"id\":\"3258\",\"type\":\"UnionRenderers\"},{\"attributes\":{},\"id\":\"3259\",\"type\":\"Selection\"}],\"root_ids\":[\"3098\"]},\"title\":\"Bokeh Application\",\"version\":\"2.4.3\"}};\n",
       "  const render_items = [{\"docid\":\"b60abf31-ac78-4508-b13b-01669ea48b8c\",\"root_ids\":[\"3098\"],\"roots\":{\"3098\":\"97fe7ff0-be4b-4f43-8d2d-fe964282bee6\"}}];\n",
       "  root.Bokeh.embed.embed_items_notebook(docs_json, render_items);\n",
       "  }\n",
       "  if (root.Bokeh !== undefined) {\n",
       "    embed_document(root);\n",
       "  } else {\n",
       "    let attempts = 0;\n",
       "    const timer = setInterval(function(root) {\n",
       "      if (root.Bokeh !== undefined) {\n",
       "        clearInterval(timer);\n",
       "        embed_document(root);\n",
       "      } else {\n",
       "        attempts++;\n",
       "        if (attempts > 100) {\n",
       "          clearInterval(timer);\n",
       "          console.log(\"Bokeh: ERROR: Unable to run BokehJS code because BokehJS library is missing\");\n",
       "        }\n",
       "      }\n",
       "    }, 10, root)\n",
       "  }\n",
       "})(window);"
      ],
      "application/vnd.bokehjs_exec.v0+json": ""
     },
     "metadata": {
      "application/vnd.bokehjs_exec.v0+json": {
       "id": "3098"
      }
     },
     "output_type": "display_data"
    }
   ],
   "source": [
    "x = [1, 2, 3, 4, 5]\n",
    "y = [4, 5, 5, 7, 2]\n",
    "\n",
    "# create a new plot with a specific size\n",
    "p = figure(title=\"Plot sizing\", width=350, height=250, x_axis_label=\"x\", y_axis_label=\"y\") \n",
    "\n",
    "# add circle renderer\n",
    "circle = p.circle(x, y, fill_color=\"red\", size=15)\n",
    "\n",
    "#vertical bar renderer\n",
    "#vbar= p.vbar(x=x, top=y, legend_label=\"Graph\", color=\"red\", width=0.5, bottom=0)\n",
    "\n",
    "# change plot size\n",
    "p.width = 450\n",
    "p.height = 150\n",
    "# show the results\n",
    "show(p)\n"
   ]
  },
  {
   "cell_type": "markdown",
   "id": "f27ba9d1",
   "metadata": {},
   "source": [
    "# Responsive Plot Sizing"
   ]
  },
  {
   "cell_type": "code",
   "execution_count": 34,
   "id": "3eca4e66",
   "metadata": {},
   "outputs": [
    {
     "data": {
      "text/html": [
       "\n",
       "  <div class=\"bk-root\" id=\"710f730d-d5e9-42e6-bfb2-64a8af14bee5\" data-root-id=\"3311\"></div>\n"
      ]
     },
     "metadata": {},
     "output_type": "display_data"
    },
    {
     "data": {
      "application/javascript": [
       "(function(root) {\n",
       "  function embed_document(root) {\n",
       "  const docs_json = {\"dc6e288e-ae39-4ce5-84fd-37d9437ff174\":{\"defs\":[],\"roots\":{\"references\":[{\"attributes\":{\"background_fill_color\":\"#20262B\",\"below\":[{\"id\":\"3322\"}],\"border_fill_color\":\"#15191C\",\"center\":[{\"id\":\"3325\"},{\"id\":\"3329\"}],\"height\":250,\"left\":[{\"id\":\"3326\"}],\"outline_line_alpha\":0.25,\"outline_line_color\":\"#E0E0E0\",\"renderers\":[{\"id\":\"3348\"}],\"sizing_mode\":\"stretch_width\",\"title\":{\"id\":\"3312\"},\"toolbar\":{\"id\":\"3337\"},\"x_range\":{\"id\":\"3314\"},\"x_scale\":{\"id\":\"3318\"},\"y_range\":{\"id\":\"3316\"},\"y_scale\":{\"id\":\"3320\"}},\"id\":\"3311\",\"subtype\":\"Figure\",\"type\":\"Plot\"},{\"attributes\":{},\"id\":\"3318\",\"type\":\"LinearScale\"},{\"attributes\":{},\"id\":\"3482\",\"type\":\"Selection\"},{\"attributes\":{\"fill_color\":{\"value\":\"red\"},\"line_color\":{\"value\":\"#1f77b4\"},\"size\":{\"value\":15},\"x\":{\"field\":\"x\"},\"y\":{\"field\":\"y\"}},\"id\":\"3345\",\"type\":\"Circle\"},{\"attributes\":{\"tools\":[{\"id\":\"3330\"},{\"id\":\"3331\"},{\"id\":\"3332\"},{\"id\":\"3333\"},{\"id\":\"3334\"},{\"id\":\"3335\"}]},\"id\":\"3337\",\"type\":\"Toolbar\"},{\"attributes\":{},\"id\":\"3480\",\"type\":\"AllLabels\"},{\"attributes\":{\"data\":{\"x\":[1,2,3,4,5],\"y\":[4,5,5,7,2]},\"selected\":{\"id\":\"3482\"},\"selection_policy\":{\"id\":\"3481\"}},\"id\":\"3344\",\"type\":\"ColumnDataSource\"},{\"attributes\":{},\"id\":\"3314\",\"type\":\"DataRange1d\"},{\"attributes\":{},\"id\":\"3320\",\"type\":\"LinearScale\"},{\"attributes\":{},\"id\":\"3330\",\"type\":\"PanTool\"},{\"attributes\":{},\"id\":\"3479\",\"type\":\"BasicTickFormatter\"},{\"attributes\":{\"bottom_units\":\"screen\",\"coordinates\":null,\"fill_alpha\":0.5,\"fill_color\":\"lightgrey\",\"group\":null,\"left_units\":\"screen\",\"level\":\"overlay\",\"line_alpha\":1.0,\"line_color\":\"black\",\"line_dash\":[4,4],\"line_width\":2,\"right_units\":\"screen\",\"syncable\":false,\"top_units\":\"screen\"},\"id\":\"3336\",\"type\":\"BoxAnnotation\"},{\"attributes\":{},\"id\":\"3323\",\"type\":\"BasicTicker\"},{\"attributes\":{},\"id\":\"3316\",\"type\":\"DataRange1d\"},{\"attributes\":{\"axis_label\":\"x\",\"axis_label_standoff\":10,\"axis_label_text_color\":\"#E0E0E0\",\"axis_label_text_font\":\"Helvetica\",\"axis_label_text_font_size\":\"1.25em\",\"axis_label_text_font_style\":\"normal\",\"axis_line_alpha\":0,\"axis_line_color\":\"#E0E0E0\",\"coordinates\":null,\"formatter\":{\"id\":\"3479\"},\"group\":null,\"major_label_policy\":{\"id\":\"3480\"},\"major_label_text_color\":\"#E0E0E0\",\"major_label_text_font\":\"Helvetica\",\"major_label_text_font_size\":\"1.025em\",\"major_tick_line_alpha\":0,\"major_tick_line_color\":\"#E0E0E0\",\"minor_tick_line_alpha\":0,\"minor_tick_line_color\":\"#E0E0E0\",\"ticker\":{\"id\":\"3323\"}},\"id\":\"3322\",\"type\":\"LinearAxis\"},{\"attributes\":{},\"id\":\"3477\",\"type\":\"AllLabels\"},{\"attributes\":{\"axis\":{\"id\":\"3322\"},\"coordinates\":null,\"grid_line_alpha\":0.25,\"grid_line_color\":\"#E0E0E0\",\"group\":null,\"ticker\":null},\"id\":\"3325\",\"type\":\"Grid\"},{\"attributes\":{},\"id\":\"3333\",\"type\":\"SaveTool\"},{\"attributes\":{},\"id\":\"3476\",\"type\":\"BasicTickFormatter\"},{\"attributes\":{},\"id\":\"3335\",\"type\":\"HelpTool\"},{\"attributes\":{\"axis\":{\"id\":\"3326\"},\"coordinates\":null,\"dimension\":1,\"grid_line_alpha\":0.25,\"grid_line_color\":\"#E0E0E0\",\"group\":null,\"ticker\":null},\"id\":\"3329\",\"type\":\"Grid\"},{\"attributes\":{},\"id\":\"3327\",\"type\":\"BasicTicker\"},{\"attributes\":{},\"id\":\"3331\",\"type\":\"WheelZoomTool\"},{\"attributes\":{\"coordinates\":null,\"data_source\":{\"id\":\"3344\"},\"glyph\":{\"id\":\"3345\"},\"group\":null,\"hover_glyph\":null,\"muted_glyph\":{\"id\":\"3347\"},\"nonselection_glyph\":{\"id\":\"3346\"},\"view\":{\"id\":\"3349\"}},\"id\":\"3348\",\"type\":\"GlyphRenderer\"},{\"attributes\":{\"source\":{\"id\":\"3344\"}},\"id\":\"3349\",\"type\":\"CDSView\"},{\"attributes\":{\"fill_alpha\":{\"value\":0.1},\"fill_color\":{\"value\":\"red\"},\"hatch_alpha\":{\"value\":0.1},\"line_alpha\":{\"value\":0.1},\"line_color\":{\"value\":\"#1f77b4\"},\"size\":{\"value\":15},\"x\":{\"field\":\"x\"},\"y\":{\"field\":\"y\"}},\"id\":\"3346\",\"type\":\"Circle\"},{\"attributes\":{},\"id\":\"3481\",\"type\":\"UnionRenderers\"},{\"attributes\":{\"overlay\":{\"id\":\"3336\"}},\"id\":\"3332\",\"type\":\"BoxZoomTool\"},{\"attributes\":{\"fill_alpha\":{\"value\":0.2},\"fill_color\":{\"value\":\"red\"},\"hatch_alpha\":{\"value\":0.2},\"line_alpha\":{\"value\":0.2},\"line_color\":{\"value\":\"#1f77b4\"},\"size\":{\"value\":15},\"x\":{\"field\":\"x\"},\"y\":{\"field\":\"y\"}},\"id\":\"3347\",\"type\":\"Circle\"},{\"attributes\":{\"axis_label\":\"y\",\"axis_label_standoff\":10,\"axis_label_text_color\":\"#E0E0E0\",\"axis_label_text_font\":\"Helvetica\",\"axis_label_text_font_size\":\"1.25em\",\"axis_label_text_font_style\":\"normal\",\"axis_line_alpha\":0,\"axis_line_color\":\"#E0E0E0\",\"coordinates\":null,\"formatter\":{\"id\":\"3476\"},\"group\":null,\"major_label_policy\":{\"id\":\"3477\"},\"major_label_text_color\":\"#E0E0E0\",\"major_label_text_font\":\"Helvetica\",\"major_label_text_font_size\":\"1.025em\",\"major_tick_line_alpha\":0,\"major_tick_line_color\":\"#E0E0E0\",\"minor_tick_line_alpha\":0,\"minor_tick_line_color\":\"#E0E0E0\",\"ticker\":{\"id\":\"3327\"}},\"id\":\"3326\",\"type\":\"LinearAxis\"},{\"attributes\":{},\"id\":\"3334\",\"type\":\"ResetTool\"},{\"attributes\":{\"coordinates\":null,\"group\":null,\"text\":\"Responsive Plot\",\"text_color\":\"#E0E0E0\",\"text_font\":\"Helvetica\",\"text_font_size\":\"1.15em\"},\"id\":\"3312\",\"type\":\"Title\"}],\"root_ids\":[\"3311\"]},\"title\":\"Bokeh Application\",\"version\":\"2.4.3\"}};\n",
       "  const render_items = [{\"docid\":\"dc6e288e-ae39-4ce5-84fd-37d9437ff174\",\"root_ids\":[\"3311\"],\"roots\":{\"3311\":\"710f730d-d5e9-42e6-bfb2-64a8af14bee5\"}}];\n",
       "  root.Bokeh.embed.embed_items_notebook(docs_json, render_items);\n",
       "  }\n",
       "  if (root.Bokeh !== undefined) {\n",
       "    embed_document(root);\n",
       "  } else {\n",
       "    let attempts = 0;\n",
       "    const timer = setInterval(function(root) {\n",
       "      if (root.Bokeh !== undefined) {\n",
       "        clearInterval(timer);\n",
       "        embed_document(root);\n",
       "      } else {\n",
       "        attempts++;\n",
       "        if (attempts > 100) {\n",
       "          clearInterval(timer);\n",
       "          console.log(\"Bokeh: ERROR: Unable to run BokehJS code because BokehJS library is missing\");\n",
       "        }\n",
       "      }\n",
       "    }, 10, root)\n",
       "  }\n",
       "})(window);"
      ],
      "application/vnd.bokehjs_exec.v0+json": ""
     },
     "metadata": {
      "application/vnd.bokehjs_exec.v0+json": {
       "id": "3311"
      }
     },
     "output_type": "display_data"
    }
   ],
   "source": [
    "x = [1, 2, 3, 4, 5]\n",
    "y = [4, 5, 5, 7, 2]\n",
    "\n",
    "# create a new plot with responsive width\n",
    "p = figure(title=\"Responsive Plot\", sizing_mode=\"stretch_width\", height=250, x_axis_label=\"x\", y_axis_label=\"y\")\n",
    "\n",
    "# add circle renderer\n",
    "circle = p.circle(x, y, fill_color=\"red\", size=15)\n",
    "\n",
    "# show the results\n",
    "show(p)"
   ]
  },
  {
   "cell_type": "markdown",
   "id": "2e4cd185",
   "metadata": {},
   "source": [
    "# Customize Axes"
   ]
  },
  {
   "cell_type": "code",
   "execution_count": 35,
   "id": "b1abcacb",
   "metadata": {},
   "outputs": [
    {
     "data": {
      "text/html": [
       "\n",
       "  <div class=\"bk-root\" id=\"03539ecf-c872-4b5c-99de-73a7edd948b5\" data-root-id=\"3534\"></div>\n"
      ]
     },
     "metadata": {},
     "output_type": "display_data"
    },
    {
     "data": {
      "application/javascript": [
       "(function(root) {\n",
       "  function embed_document(root) {\n",
       "  const docs_json = {\"f50ba356-e523-46f0-bb6a-d1244da62c13\":{\"defs\":[],\"roots\":{\"references\":[{\"attributes\":{\"background_fill_color\":\"#20262B\",\"below\":[{\"id\":\"3545\"}],\"border_fill_color\":\"#15191C\",\"center\":[{\"id\":\"3548\"},{\"id\":\"3552\"}],\"height\":350,\"left\":[{\"id\":\"3549\"}],\"max_width\":500,\"outline_line_alpha\":0.25,\"outline_line_color\":\"#E0E0E0\",\"renderers\":[{\"id\":\"3571\"}],\"sizing_mode\":\"stretch_width\",\"title\":{\"id\":\"3535\"},\"toolbar\":{\"id\":\"3560\"},\"x_range\":{\"id\":\"3537\"},\"x_scale\":{\"id\":\"3541\"},\"y_range\":{\"id\":\"3539\"},\"y_scale\":{\"id\":\"3543\"}},\"id\":\"3534\",\"subtype\":\"Figure\",\"type\":\"Plot\"},{\"attributes\":{\"tools\":[{\"id\":\"3553\"},{\"id\":\"3554\"},{\"id\":\"3555\"},{\"id\":\"3556\"},{\"id\":\"3557\"},{\"id\":\"3558\"}]},\"id\":\"3560\",\"type\":\"Toolbar\"},{\"attributes\":{\"fill_alpha\":{\"value\":0.1},\"fill_color\":{\"value\":\"#1f77b4\"},\"hatch_alpha\":{\"value\":0.1},\"line_alpha\":{\"value\":0.1},\"line_color\":{\"value\":\"#1f77b4\"},\"size\":{\"value\":10},\"x\":{\"field\":\"x\"},\"y\":{\"field\":\"y\"}},\"id\":\"3569\",\"type\":\"Circle\"},{\"attributes\":{\"coordinates\":null,\"data_source\":{\"id\":\"3567\"},\"glyph\":{\"id\":\"3568\"},\"group\":null,\"hover_glyph\":null,\"muted_glyph\":{\"id\":\"3570\"},\"nonselection_glyph\":{\"id\":\"3569\"},\"view\":{\"id\":\"3572\"}},\"id\":\"3571\",\"type\":\"GlyphRenderer\"},{\"attributes\":{\"fill_alpha\":{\"value\":0.2},\"fill_color\":{\"value\":\"#1f77b4\"},\"hatch_alpha\":{\"value\":0.2},\"line_alpha\":{\"value\":0.2},\"line_color\":{\"value\":\"#1f77b4\"},\"size\":{\"value\":10},\"x\":{\"field\":\"x\"},\"y\":{\"field\":\"y\"}},\"id\":\"3570\",\"type\":\"Circle\"},{\"attributes\":{\"bottom_units\":\"screen\",\"coordinates\":null,\"fill_alpha\":0.5,\"fill_color\":\"lightgrey\",\"group\":null,\"left_units\":\"screen\",\"level\":\"overlay\",\"line_alpha\":1.0,\"line_color\":\"black\",\"line_dash\":[4,4],\"line_width\":2,\"right_units\":\"screen\",\"syncable\":false,\"top_units\":\"screen\"},\"id\":\"3559\",\"type\":\"BoxAnnotation\"},{\"attributes\":{},\"id\":\"3712\",\"type\":\"BasicTickFormatter\"},{\"attributes\":{},\"id\":\"3557\",\"type\":\"ResetTool\"},{\"attributes\":{},\"id\":\"3556\",\"type\":\"SaveTool\"},{\"attributes\":{\"overlay\":{\"id\":\"3559\"}},\"id\":\"3555\",\"type\":\"BoxZoomTool\"},{\"attributes\":{},\"id\":\"3714\",\"type\":\"UnionRenderers\"},{\"attributes\":{},\"id\":\"3537\",\"type\":\"DataRange1d\"},{\"attributes\":{},\"id\":\"3715\",\"type\":\"Selection\"},{\"attributes\":{},\"id\":\"3539\",\"type\":\"DataRange1d\"},{\"attributes\":{\"fill_color\":{\"value\":\"#1f77b4\"},\"line_color\":{\"value\":\"#1f77b4\"},\"size\":{\"value\":10},\"x\":{\"field\":\"x\"},\"y\":{\"field\":\"y\"}},\"id\":\"3568\",\"type\":\"Circle\"},{\"attributes\":{},\"id\":\"3541\",\"type\":\"LinearScale\"},{\"attributes\":{\"data\":{\"x\":[1,2,3,4,5],\"y\":[4,5,5,7,2]},\"selected\":{\"id\":\"3715\"},\"selection_policy\":{\"id\":\"3714\"}},\"id\":\"3567\",\"type\":\"ColumnDataSource\"},{\"attributes\":{\"axis_label\":\"Temp\",\"axis_label_standoff\":10,\"axis_label_text_color\":\"#E0E0E0\",\"axis_label_text_font\":\"Helvetica\",\"axis_label_text_font_size\":\"1.25em\",\"axis_label_text_font_style\":\"normal\",\"axis_line_alpha\":0,\"axis_line_color\":\"red\",\"axis_line_width\":3,\"coordinates\":null,\"formatter\":{\"id\":\"3712\"},\"group\":null,\"major_label_policy\":{\"id\":\"3713\"},\"major_label_text_color\":\"#E0E0E0\",\"major_label_text_font\":\"Helvetica\",\"major_label_text_font_size\":\"1.025em\",\"major_tick_line_alpha\":0,\"major_tick_line_color\":\"#E0E0E0\",\"minor_tick_in\":-3,\"minor_tick_line_alpha\":0,\"minor_tick_line_color\":\"#E0E0E0\",\"minor_tick_out\":6,\"ticker\":{\"id\":\"3546\"}},\"id\":\"3545\",\"type\":\"LinearAxis\"},{\"attributes\":{\"axis_label\":\"Pressure\",\"axis_label_standoff\":10,\"axis_label_text_color\":\"#E0E0E0\",\"axis_label_text_font\":\"Helvetica\",\"axis_label_text_font_size\":\"1.25em\",\"axis_label_text_font_style\":\"normal\",\"axis_line_alpha\":0,\"axis_line_color\":\"#E0E0E0\",\"coordinates\":null,\"formatter\":{\"id\":\"3709\"},\"group\":null,\"major_label_orientation\":\"vertical\",\"major_label_policy\":{\"id\":\"3710\"},\"major_label_text_color\":\"orange\",\"major_label_text_font\":\"Helvetica\",\"major_label_text_font_size\":\"1.025em\",\"major_tick_line_alpha\":0,\"major_tick_line_color\":\"#E0E0E0\",\"minor_tick_in\":-3,\"minor_tick_line_alpha\":0,\"minor_tick_line_color\":\"#E0E0E0\",\"minor_tick_out\":6,\"ticker\":{\"id\":\"3550\"}},\"id\":\"3549\",\"type\":\"LinearAxis\"},{\"attributes\":{\"coordinates\":null,\"group\":null,\"text\":\"Customized axes\",\"text_color\":\"#E0E0E0\",\"text_font\":\"Helvetica\",\"text_font_size\":\"1.15em\"},\"id\":\"3535\",\"type\":\"Title\"},{\"attributes\":{},\"id\":\"3558\",\"type\":\"HelpTool\"},{\"attributes\":{},\"id\":\"3546\",\"type\":\"BasicTicker\"},{\"attributes\":{},\"id\":\"3543\",\"type\":\"LinearScale\"},{\"attributes\":{},\"id\":\"3713\",\"type\":\"AllLabels\"},{\"attributes\":{\"axis\":{\"id\":\"3545\"},\"coordinates\":null,\"grid_line_alpha\":0.25,\"grid_line_color\":\"#E0E0E0\",\"group\":null,\"ticker\":null},\"id\":\"3548\",\"type\":\"Grid\"},{\"attributes\":{\"axis\":{\"id\":\"3549\"},\"coordinates\":null,\"dimension\":1,\"grid_line_alpha\":0.25,\"grid_line_color\":\"#E0E0E0\",\"group\":null,\"ticker\":null},\"id\":\"3552\",\"type\":\"Grid\"},{\"attributes\":{},\"id\":\"3550\",\"type\":\"BasicTicker\"},{\"attributes\":{\"source\":{\"id\":\"3567\"}},\"id\":\"3572\",\"type\":\"CDSView\"},{\"attributes\":{},\"id\":\"3710\",\"type\":\"AllLabels\"},{\"attributes\":{},\"id\":\"3554\",\"type\":\"WheelZoomTool\"},{\"attributes\":{},\"id\":\"3553\",\"type\":\"PanTool\"},{\"attributes\":{},\"id\":\"3709\",\"type\":\"BasicTickFormatter\"}],\"root_ids\":[\"3534\"]},\"title\":\"Bokeh Application\",\"version\":\"2.4.3\"}};\n",
       "  const render_items = [{\"docid\":\"f50ba356-e523-46f0-bb6a-d1244da62c13\",\"root_ids\":[\"3534\"],\"roots\":{\"3534\":\"03539ecf-c872-4b5c-99de-73a7edd948b5\"}}];\n",
       "  root.Bokeh.embed.embed_items_notebook(docs_json, render_items);\n",
       "  }\n",
       "  if (root.Bokeh !== undefined) {\n",
       "    embed_document(root);\n",
       "  } else {\n",
       "    let attempts = 0;\n",
       "    const timer = setInterval(function(root) {\n",
       "      if (root.Bokeh !== undefined) {\n",
       "        clearInterval(timer);\n",
       "        embed_document(root);\n",
       "      } else {\n",
       "        attempts++;\n",
       "        if (attempts > 100) {\n",
       "          clearInterval(timer);\n",
       "          console.log(\"Bokeh: ERROR: Unable to run BokehJS code because BokehJS library is missing\");\n",
       "        }\n",
       "      }\n",
       "    }, 10, root)\n",
       "  }\n",
       "})(window);"
      ],
      "application/vnd.bokehjs_exec.v0+json": ""
     },
     "metadata": {
      "application/vnd.bokehjs_exec.v0+json": {
       "id": "3534"
      }
     },
     "output_type": "display_data"
    }
   ],
   "source": [
    "# prepare some data\n",
    "x = [1, 2, 3, 4, 5]\n",
    "y = [4, 5, 5, 7, 2]\n",
    "\n",
    "# create a plot\n",
    "p = figure(\n",
    "    title=\"Customized axes\",\n",
    "    sizing_mode=\"stretch_width\",\n",
    "    max_width=500,\n",
    "    height=350,\n",
    ")\n",
    "\n",
    "# add a renderer\n",
    "p.circle(x, y, size=10)\n",
    "#p.line(x, y, line_width=2)\n",
    "\n",
    "# change some things about the x-axis\n",
    "p.xaxis.axis_label = \"Temp\"\n",
    "p.xaxis.axis_line_width = 3\n",
    "p.xaxis.axis_line_color = \"red\"\n",
    "\n",
    "# change some things about the y-axis\n",
    "p.yaxis.axis_label = \"Pressure\"\n",
    "p.yaxis.major_label_text_color = \"orange\"\n",
    "p.yaxis.major_label_orientation = \"vertical\"\n",
    "\n",
    "# change things on all axes\n",
    "p.axis.minor_tick_in = -3\n",
    "p.axis.minor_tick_out = 6\n",
    "\n",
    "# show the results\n",
    "show(p)"
   ]
  },
  {
   "cell_type": "markdown",
   "id": "d76e9294",
   "metadata": {},
   "source": [
    "# Axis Range"
   ]
  },
  {
   "cell_type": "code",
   "execution_count": 36,
   "id": "a4f59ebb",
   "metadata": {},
   "outputs": [
    {
     "data": {
      "text/html": [
       "\n",
       "  <div class=\"bk-root\" id=\"c40e2862-6561-493c-9c15-a7279c62f8a5\" data-root-id=\"3767\"></div>\n"
      ]
     },
     "metadata": {},
     "output_type": "display_data"
    },
    {
     "data": {
      "application/javascript": [
       "(function(root) {\n",
       "  function embed_document(root) {\n",
       "  const docs_json = {\"03475879-6052-4dd1-b943-5e1e49db27c8\":{\"defs\":[],\"roots\":{\"references\":[{\"attributes\":{\"background_fill_color\":\"#20262B\",\"below\":[{\"id\":\"3778\"}],\"border_fill_color\":\"#15191C\",\"center\":[{\"id\":\"3781\"},{\"id\":\"3785\"}],\"height\":250,\"left\":[{\"id\":\"3782\"}],\"max_width\":500,\"outline_line_alpha\":0.25,\"outline_line_color\":\"#E0E0E0\",\"renderers\":[{\"id\":\"3804\"}],\"sizing_mode\":\"stretch_width\",\"title\":{\"id\":\"3768\"},\"toolbar\":{\"id\":\"3793\"},\"x_range\":{\"id\":\"3770\"},\"x_scale\":{\"id\":\"3774\"},\"y_range\":{\"id\":\"3772\"},\"y_scale\":{\"id\":\"3776\"}},\"id\":\"3767\",\"subtype\":\"Figure\",\"type\":\"Plot\"},{\"attributes\":{\"bottom_units\":\"screen\",\"coordinates\":null,\"fill_alpha\":0.5,\"fill_color\":\"lightgrey\",\"group\":null,\"left_units\":\"screen\",\"level\":\"overlay\",\"line_alpha\":1.0,\"line_color\":\"black\",\"line_dash\":[4,4],\"line_width\":2,\"right_units\":\"screen\",\"syncable\":false,\"top_units\":\"screen\"},\"id\":\"3792\",\"type\":\"BoxAnnotation\"},{\"attributes\":{},\"id\":\"3776\",\"type\":\"LinearScale\"},{\"attributes\":{},\"id\":\"3791\",\"type\":\"HelpTool\"},{\"attributes\":{},\"id\":\"3783\",\"type\":\"BasicTicker\"},{\"attributes\":{\"data\":{\"x\":[1,2,3,4,5],\"y\":[4,5,5,7,2]},\"selected\":{\"id\":\"3958\"},\"selection_policy\":{\"id\":\"3957\"}},\"id\":\"3800\",\"type\":\"ColumnDataSource\"},{\"attributes\":{\"axis\":{\"id\":\"3778\"},\"coordinates\":null,\"grid_line_alpha\":0.25,\"grid_line_color\":\"#E0E0E0\",\"group\":null,\"ticker\":null},\"id\":\"3781\",\"type\":\"Grid\"},{\"attributes\":{\"axis\":{\"id\":\"3782\"},\"coordinates\":null,\"dimension\":1,\"grid_line_alpha\":0.25,\"grid_line_color\":\"#E0E0E0\",\"group\":null,\"ticker\":null},\"id\":\"3785\",\"type\":\"Grid\"},{\"attributes\":{\"overlay\":{\"id\":\"3792\"}},\"id\":\"3788\",\"type\":\"BoxZoomTool\"},{\"attributes\":{},\"id\":\"3787\",\"type\":\"WheelZoomTool\"},{\"attributes\":{},\"id\":\"3786\",\"type\":\"PanTool\"},{\"attributes\":{},\"id\":\"3789\",\"type\":\"SaveTool\"},{\"attributes\":{},\"id\":\"3952\",\"type\":\"BasicTickFormatter\"},{\"attributes\":{},\"id\":\"3790\",\"type\":\"ResetTool\"},{\"attributes\":{},\"id\":\"3953\",\"type\":\"AllLabels\"},{\"attributes\":{\"coordinates\":null,\"group\":null,\"text\":\"Axis Range\",\"text_color\":\"#E0E0E0\",\"text_font\":\"Helvetica\",\"text_font_size\":\"1.15em\"},\"id\":\"3768\",\"type\":\"Title\"},{\"attributes\":{\"axis_label_standoff\":10,\"axis_label_text_color\":\"#E0E0E0\",\"axis_label_text_font\":\"Helvetica\",\"axis_label_text_font_size\":\"1.25em\",\"axis_label_text_font_style\":\"normal\",\"axis_line_alpha\":0,\"axis_line_color\":\"#E0E0E0\",\"coordinates\":null,\"formatter\":{\"id\":\"3955\"},\"group\":null,\"major_label_policy\":{\"id\":\"3956\"},\"major_label_text_color\":\"#E0E0E0\",\"major_label_text_font\":\"Helvetica\",\"major_label_text_font_size\":\"1.025em\",\"major_tick_line_alpha\":0,\"major_tick_line_color\":\"#E0E0E0\",\"minor_tick_line_alpha\":0,\"minor_tick_line_color\":\"#E0E0E0\",\"ticker\":{\"id\":\"3779\"}},\"id\":\"3778\",\"type\":\"LinearAxis\"},{\"attributes\":{},\"id\":\"3955\",\"type\":\"BasicTickFormatter\"},{\"attributes\":{},\"id\":\"3774\",\"type\":\"LinearScale\"},{\"attributes\":{},\"id\":\"3779\",\"type\":\"BasicTicker\"},{\"attributes\":{},\"id\":\"3770\",\"type\":\"DataRange1d\"},{\"attributes\":{},\"id\":\"3956\",\"type\":\"AllLabels\"},{\"attributes\":{\"end\":20},\"id\":\"3772\",\"type\":\"Range1d\"},{\"attributes\":{\"fill_color\":{\"value\":\"#1f77b4\"},\"line_color\":{\"value\":\"#1f77b4\"},\"size\":{\"value\":8},\"x\":{\"field\":\"x\"},\"y\":{\"field\":\"y\"}},\"id\":\"3801\",\"type\":\"Circle\"},{\"attributes\":{\"source\":{\"id\":\"3800\"}},\"id\":\"3805\",\"type\":\"CDSView\"},{\"attributes\":{\"fill_alpha\":{\"value\":0.1},\"fill_color\":{\"value\":\"#1f77b4\"},\"hatch_alpha\":{\"value\":0.1},\"line_alpha\":{\"value\":0.1},\"line_color\":{\"value\":\"#1f77b4\"},\"size\":{\"value\":8},\"x\":{\"field\":\"x\"},\"y\":{\"field\":\"y\"}},\"id\":\"3802\",\"type\":\"Circle\"},{\"attributes\":{\"coordinates\":null,\"data_source\":{\"id\":\"3800\"},\"glyph\":{\"id\":\"3801\"},\"group\":null,\"hover_glyph\":null,\"muted_glyph\":{\"id\":\"3803\"},\"nonselection_glyph\":{\"id\":\"3802\"},\"view\":{\"id\":\"3805\"}},\"id\":\"3804\",\"type\":\"GlyphRenderer\"},{\"attributes\":{},\"id\":\"3957\",\"type\":\"UnionRenderers\"},{\"attributes\":{\"fill_alpha\":{\"value\":0.2},\"fill_color\":{\"value\":\"#1f77b4\"},\"hatch_alpha\":{\"value\":0.2},\"line_alpha\":{\"value\":0.2},\"line_color\":{\"value\":\"#1f77b4\"},\"size\":{\"value\":8},\"x\":{\"field\":\"x\"},\"y\":{\"field\":\"y\"}},\"id\":\"3803\",\"type\":\"Circle\"},{\"attributes\":{\"tools\":[{\"id\":\"3786\"},{\"id\":\"3787\"},{\"id\":\"3788\"},{\"id\":\"3789\"},{\"id\":\"3790\"},{\"id\":\"3791\"}]},\"id\":\"3793\",\"type\":\"Toolbar\"},{\"attributes\":{},\"id\":\"3958\",\"type\":\"Selection\"},{\"attributes\":{\"axis_label_standoff\":10,\"axis_label_text_color\":\"#E0E0E0\",\"axis_label_text_font\":\"Helvetica\",\"axis_label_text_font_size\":\"1.25em\",\"axis_label_text_font_style\":\"normal\",\"axis_line_alpha\":0,\"axis_line_color\":\"#E0E0E0\",\"coordinates\":null,\"formatter\":{\"id\":\"3952\"},\"group\":null,\"major_label_policy\":{\"id\":\"3953\"},\"major_label_text_color\":\"#E0E0E0\",\"major_label_text_font\":\"Helvetica\",\"major_label_text_font_size\":\"1.025em\",\"major_tick_line_alpha\":0,\"major_tick_line_color\":\"#E0E0E0\",\"minor_tick_line_alpha\":0,\"minor_tick_line_color\":\"#E0E0E0\",\"ticker\":{\"id\":\"3783\"}},\"id\":\"3782\",\"type\":\"LinearAxis\"}],\"root_ids\":[\"3767\"]},\"title\":\"Bokeh Application\",\"version\":\"2.4.3\"}};\n",
       "  const render_items = [{\"docid\":\"03475879-6052-4dd1-b943-5e1e49db27c8\",\"root_ids\":[\"3767\"],\"roots\":{\"3767\":\"c40e2862-6561-493c-9c15-a7279c62f8a5\"}}];\n",
       "  root.Bokeh.embed.embed_items_notebook(docs_json, render_items);\n",
       "  }\n",
       "  if (root.Bokeh !== undefined) {\n",
       "    embed_document(root);\n",
       "  } else {\n",
       "    let attempts = 0;\n",
       "    const timer = setInterval(function(root) {\n",
       "      if (root.Bokeh !== undefined) {\n",
       "        clearInterval(timer);\n",
       "        embed_document(root);\n",
       "      } else {\n",
       "        attempts++;\n",
       "        if (attempts > 100) {\n",
       "          clearInterval(timer);\n",
       "          console.log(\"Bokeh: ERROR: Unable to run BokehJS code because BokehJS library is missing\");\n",
       "        }\n",
       "      }\n",
       "    }, 10, root)\n",
       "  }\n",
       "})(window);"
      ],
      "application/vnd.bokehjs_exec.v0+json": ""
     },
     "metadata": {
      "application/vnd.bokehjs_exec.v0+json": {
       "id": "3767"
      }
     },
     "output_type": "display_data"
    }
   ],
   "source": [
    "x = [1, 2, 3, 4, 5]\n",
    "y = [4, 5, 5, 7, 2]\n",
    "\n",
    "# create a new plot with responsive width\n",
    "p = figure(y_range=(0, 20), title=\"Axis Range\", sizing_mode=\"stretch_width\", max_width=500, height=250)\n",
    "\n",
    "# add circle renderer with additional arguments\n",
    "circle = p.circle(x, y, size=8)\n",
    "\n",
    "# show the results\n",
    "show(p)"
   ]
  },
  {
   "cell_type": "markdown",
   "id": "e23eeed7",
   "metadata": {},
   "source": [
    "# Format Axis Ticks"
   ]
  },
  {
   "cell_type": "code",
   "execution_count": 37,
   "id": "89f9ce8e",
   "metadata": {},
   "outputs": [
    {
     "data": {
      "text/html": [
       "\n",
       "  <div class=\"bk-root\" id=\"f6ad851d-6aec-4bdc-b06f-f5f77ce4f2bb\" data-root-id=\"4010\"></div>\n"
      ]
     },
     "metadata": {},
     "output_type": "display_data"
    },
    {
     "data": {
      "application/javascript": [
       "(function(root) {\n",
       "  function embed_document(root) {\n",
       "  const docs_json = {\"33743cc1-aea4-4981-88e7-7a01a9b65172\":{\"defs\":[],\"roots\":{\"references\":[{\"attributes\":{\"background_fill_color\":\"#20262B\",\"below\":[{\"id\":\"4021\"}],\"border_fill_color\":\"#15191C\",\"center\":[{\"id\":\"4024\"},{\"id\":\"4028\"}],\"height\":250,\"left\":[{\"id\":\"4025\"}],\"max_width\":500,\"outline_line_alpha\":0.25,\"outline_line_color\":\"#E0E0E0\",\"renderers\":[{\"id\":\"4049\"},{\"id\":\"4055\"}],\"sizing_mode\":\"stretch_width\",\"title\":{\"id\":\"4011\"},\"toolbar\":{\"id\":\"4036\"},\"x_range\":{\"id\":\"4013\"},\"x_scale\":{\"id\":\"4017\"},\"y_range\":{\"id\":\"4015\"},\"y_scale\":{\"id\":\"4019\"}},\"id\":\"4010\",\"subtype\":\"Figure\",\"type\":\"Plot\"},{\"attributes\":{\"coordinates\":null,\"group\":null,\"text\":\"Tick formatter\",\"text_color\":\"#E0E0E0\",\"text_font\":\"Helvetica\",\"text_font_size\":\"1.15em\"},\"id\":\"4011\",\"type\":\"Title\"},{\"attributes\":{\"bottom_units\":\"screen\",\"coordinates\":null,\"fill_alpha\":0.5,\"fill_color\":\"lightgrey\",\"group\":null,\"left_units\":\"screen\",\"level\":\"overlay\",\"line_alpha\":1.0,\"line_color\":\"black\",\"line_dash\":[4,4],\"line_width\":2,\"right_units\":\"screen\",\"syncable\":false,\"top_units\":\"screen\"},\"id\":\"4035\",\"type\":\"BoxAnnotation\"},{\"attributes\":{\"tools\":[{\"id\":\"4029\"},{\"id\":\"4030\"},{\"id\":\"4031\"},{\"id\":\"4032\"},{\"id\":\"4033\"},{\"id\":\"4034\"}]},\"id\":\"4036\",\"type\":\"Toolbar\"},{\"attributes\":{},\"id\":\"4034\",\"type\":\"HelpTool\"},{\"attributes\":{\"axis_label_standoff\":10,\"axis_label_text_color\":\"#E0E0E0\",\"axis_label_text_font\":\"Helvetica\",\"axis_label_text_font_size\":\"1.25em\",\"axis_label_text_font_style\":\"normal\",\"axis_line_alpha\":0,\"axis_line_color\":\"#E0E0E0\",\"coordinates\":null,\"formatter\":{\"id\":\"4043\"},\"group\":null,\"major_label_policy\":{\"id\":\"4213\"},\"major_label_text_color\":\"#E0E0E0\",\"major_label_text_font\":\"Helvetica\",\"major_label_text_font_size\":\"1.025em\",\"major_tick_line_alpha\":0,\"major_tick_line_color\":\"#E0E0E0\",\"minor_tick_line_alpha\":0,\"minor_tick_line_color\":\"#E0E0E0\",\"ticker\":{\"id\":\"4026\"}},\"id\":\"4025\",\"type\":\"LinearAxis\"},{\"attributes\":{\"fill_color\":{\"value\":\"#1f77b4\"},\"line_color\":{\"value\":\"#1f77b4\"},\"size\":{\"value\":8},\"x\":{\"field\":\"x\"},\"y\":{\"field\":\"y\"}},\"id\":\"4046\",\"type\":\"Circle\"},{\"attributes\":{\"axis_label_standoff\":10,\"axis_label_text_color\":\"#E0E0E0\",\"axis_label_text_font\":\"Helvetica\",\"axis_label_text_font_size\":\"1.25em\",\"axis_label_text_font_style\":\"normal\",\"axis_line_alpha\":0,\"axis_line_color\":\"#E0E0E0\",\"coordinates\":null,\"formatter\":{\"id\":\"4215\"},\"group\":null,\"major_label_policy\":{\"id\":\"4216\"},\"major_label_text_color\":\"#E0E0E0\",\"major_label_text_font\":\"Helvetica\",\"major_label_text_font_size\":\"1.025em\",\"major_tick_line_alpha\":0,\"major_tick_line_color\":\"#E0E0E0\",\"minor_tick_line_alpha\":0,\"minor_tick_line_color\":\"#E0E0E0\",\"ticker\":{\"id\":\"4022\"}},\"id\":\"4021\",\"type\":\"LinearAxis\"},{\"attributes\":{},\"id\":\"4033\",\"type\":\"ResetTool\"},{\"attributes\":{},\"id\":\"4032\",\"type\":\"SaveTool\"},{\"attributes\":{},\"id\":\"4017\",\"type\":\"LinearScale\"},{\"attributes\":{\"fill_alpha\":{\"value\":0.1},\"fill_color\":{\"value\":\"#1f77b4\"},\"hatch_alpha\":{\"value\":0.1},\"line_alpha\":{\"value\":0.1},\"line_color\":{\"value\":\"#1f77b4\"},\"size\":{\"value\":8},\"x\":{\"field\":\"x\"},\"y\":{\"field\":\"y\"}},\"id\":\"4047\",\"type\":\"Circle\"},{\"attributes\":{\"overlay\":{\"id\":\"4035\"}},\"id\":\"4031\",\"type\":\"BoxZoomTool\"},{\"attributes\":{},\"id\":\"4029\",\"type\":\"PanTool\"},{\"attributes\":{},\"id\":\"4030\",\"type\":\"WheelZoomTool\"},{\"attributes\":{},\"id\":\"4218\",\"type\":\"Selection\"},{\"attributes\":{\"data\":{\"x\":[1,2,3,4,5],\"y\":[4,5,5,7,2]},\"selected\":{\"id\":\"4218\"},\"selection_policy\":{\"id\":\"4217\"}},\"id\":\"4045\",\"type\":\"ColumnDataSource\"},{\"attributes\":{\"fill_alpha\":{\"value\":0.2},\"fill_color\":{\"value\":\"#1f77b4\"},\"hatch_alpha\":{\"value\":0.2},\"line_alpha\":{\"value\":0.2},\"line_color\":{\"value\":\"#1f77b4\"},\"size\":{\"value\":8},\"x\":{\"field\":\"x\"},\"y\":{\"field\":\"y\"}},\"id\":\"4048\",\"type\":\"Circle\"},{\"attributes\":{},\"id\":\"4216\",\"type\":\"AllLabels\"},{\"attributes\":{},\"id\":\"4026\",\"type\":\"BasicTicker\"},{\"attributes\":{\"axis\":{\"id\":\"4025\"},\"coordinates\":null,\"dimension\":1,\"grid_line_alpha\":0.25,\"grid_line_color\":\"#E0E0E0\",\"group\":null,\"ticker\":null},\"id\":\"4028\",\"type\":\"Grid\"},{\"attributes\":{\"axis\":{\"id\":\"4021\"},\"coordinates\":null,\"grid_line_alpha\":0.25,\"grid_line_color\":\"#E0E0E0\",\"group\":null,\"ticker\":null},\"id\":\"4024\",\"type\":\"Grid\"},{\"attributes\":{},\"id\":\"4019\",\"type\":\"LinearScale\"},{\"attributes\":{},\"id\":\"4217\",\"type\":\"UnionRenderers\"},{\"attributes\":{},\"id\":\"4022\",\"type\":\"BasicTicker\"},{\"attributes\":{},\"id\":\"4219\",\"type\":\"UnionRenderers\"},{\"attributes\":{},\"id\":\"4220\",\"type\":\"Selection\"},{\"attributes\":{\"line_alpha\":0.1,\"line_color\":\"azure\",\"line_width\":1.5,\"x\":{\"field\":\"x\"},\"y\":{\"field\":\"y\"}},\"id\":\"4053\",\"type\":\"Line\"},{\"attributes\":{\"line_alpha\":0.2,\"line_color\":\"azure\",\"line_width\":1.5,\"x\":{\"field\":\"x\"},\"y\":{\"field\":\"y\"}},\"id\":\"4054\",\"type\":\"Line\"},{\"attributes\":{\"coordinates\":null,\"data_source\":{\"id\":\"4045\"},\"glyph\":{\"id\":\"4046\"},\"group\":null,\"hover_glyph\":null,\"muted_glyph\":{\"id\":\"4048\"},\"nonselection_glyph\":{\"id\":\"4047\"},\"view\":{\"id\":\"4050\"}},\"id\":\"4049\",\"type\":\"GlyphRenderer\"},{\"attributes\":{},\"id\":\"4015\",\"type\":\"DataRange1d\"},{\"attributes\":{\"coordinates\":null,\"data_source\":{\"id\":\"4051\"},\"glyph\":{\"id\":\"4052\"},\"group\":null,\"hover_glyph\":null,\"muted_glyph\":{\"id\":\"4054\"},\"nonselection_glyph\":{\"id\":\"4053\"},\"view\":{\"id\":\"4056\"}},\"id\":\"4055\",\"type\":\"GlyphRenderer\"},{\"attributes\":{},\"id\":\"4215\",\"type\":\"BasicTickFormatter\"},{\"attributes\":{\"source\":{\"id\":\"4045\"}},\"id\":\"4050\",\"type\":\"CDSView\"},{\"attributes\":{},\"id\":\"4213\",\"type\":\"AllLabels\"},{\"attributes\":{\"data\":{\"x\":[1,2,3,4,5],\"y\":[4,5,5,7,2]},\"selected\":{\"id\":\"4220\"},\"selection_policy\":{\"id\":\"4219\"}},\"id\":\"4051\",\"type\":\"ColumnDataSource\"},{\"attributes\":{\"format\":\"$0.00\"},\"id\":\"4043\",\"type\":\"NumeralTickFormatter\"},{\"attributes\":{\"line_color\":\"azure\",\"line_width\":1.5,\"x\":{\"field\":\"x\"},\"y\":{\"field\":\"y\"}},\"id\":\"4052\",\"type\":\"Line\"},{\"attributes\":{\"source\":{\"id\":\"4051\"}},\"id\":\"4056\",\"type\":\"CDSView\"},{\"attributes\":{},\"id\":\"4013\",\"type\":\"DataRange1d\"}],\"root_ids\":[\"4010\"]},\"title\":\"Bokeh Application\",\"version\":\"2.4.3\"}};\n",
       "  const render_items = [{\"docid\":\"33743cc1-aea4-4981-88e7-7a01a9b65172\",\"root_ids\":[\"4010\"],\"roots\":{\"4010\":\"f6ad851d-6aec-4bdc-b06f-f5f77ce4f2bb\"}}];\n",
       "  root.Bokeh.embed.embed_items_notebook(docs_json, render_items);\n",
       "  }\n",
       "  if (root.Bokeh !== undefined) {\n",
       "    embed_document(root);\n",
       "  } else {\n",
       "    let attempts = 0;\n",
       "    const timer = setInterval(function(root) {\n",
       "      if (root.Bokeh !== undefined) {\n",
       "        clearInterval(timer);\n",
       "        embed_document(root);\n",
       "      } else {\n",
       "        attempts++;\n",
       "        if (attempts > 100) {\n",
       "          clearInterval(timer);\n",
       "          console.log(\"Bokeh: ERROR: Unable to run BokehJS code because BokehJS library is missing\");\n",
       "        }\n",
       "      }\n",
       "    }, 10, root)\n",
       "  }\n",
       "})(window);"
      ],
      "application/vnd.bokehjs_exec.v0+json": ""
     },
     "metadata": {
      "application/vnd.bokehjs_exec.v0+json": {
       "id": "4010"
      }
     },
     "output_type": "display_data"
    }
   ],
   "source": [
    "x = [1, 2, 3, 4, 5]\n",
    "y = [4, 5, 5, 7, 2]\n",
    "\n",
    "# create new plot\n",
    "p = figure(title=\"Tick formatter\", sizing_mode=\"stretch_width\", max_width=500, height=250)\n",
    "\n",
    "# format axes ticks\n",
    "p.yaxis[0].formatter = NumeralTickFormatter(format=\"$0.00\")\n",
    "\n",
    "# add renderers\n",
    "p.circle(x, y, size=8)\n",
    "p.line(x, y, color=\"azure\", line_width=1.5)\n",
    "\n",
    "# show the results\n",
    "show(p)"
   ]
  },
  {
   "cell_type": "markdown",
   "id": "5a6712b5",
   "metadata": {},
   "source": [
    "# Logarithm axes"
   ]
  },
  {
   "cell_type": "code",
   "execution_count": 38,
   "id": "cfdf77e9",
   "metadata": {},
   "outputs": [
    {
     "data": {
      "text/html": [
       "\n",
       "  <div class=\"bk-root\" id=\"99136a2e-dff8-4504-bdd5-34557868cbf0\" data-root-id=\"4277\"></div>\n"
      ]
     },
     "metadata": {},
     "output_type": "display_data"
    },
    {
     "data": {
      "application/javascript": [
       "(function(root) {\n",
       "  function embed_document(root) {\n",
       "  const docs_json = {\"85c0b212-6b77-45ad-b74a-e909ee5d436c\":{\"defs\":[],\"roots\":{\"references\":[{\"attributes\":{\"background_fill_color\":\"#20262B\",\"below\":[{\"id\":\"4288\"}],\"border_fill_color\":\"#15191C\",\"center\":[{\"id\":\"4291\"},{\"id\":\"4295\"},{\"id\":\"4326\"}],\"height\":300,\"left\":[{\"id\":\"4292\"}],\"max_width\":500,\"outline_line_alpha\":0.25,\"outline_line_color\":\"#E0E0E0\",\"renderers\":[{\"id\":\"4314\"},{\"id\":\"4332\"},{\"id\":\"4350\"},{\"id\":\"4371\"},{\"id\":\"4394\"},{\"id\":\"4418\"}],\"sizing_mode\":\"stretch_width\",\"title\":{\"id\":\"4278\"},\"toolbar\":{\"id\":\"4303\"},\"x_range\":{\"id\":\"4280\"},\"x_scale\":{\"id\":\"4284\"},\"y_range\":{\"id\":\"4282\"},\"y_scale\":{\"id\":\"4286\"}},\"id\":\"4277\",\"subtype\":\"Figure\",\"type\":\"Plot\"},{\"attributes\":{},\"id\":\"4437\",\"type\":\"UnionRenderers\"},{\"attributes\":{\"data\":{\"x\":[0.1,0.5,1.0,1.5,2.0,2.5,3.0],\"y\":[1.2589254117941673,3.1622776601683795,10.0,31.622776601683793,100.0,316.22776601683796,1000.0]},\"selected\":{\"id\":\"4412\"},\"selection_policy\":{\"id\":\"4411\"}},\"id\":\"4390\",\"type\":\"ColumnDataSource\"},{\"attributes\":{\"label\":{\"value\":\"y=10^x^2\"},\"renderers\":[{\"id\":\"4418\"}]},\"id\":\"4440\",\"type\":\"LegendItem\"},{\"attributes\":{},\"id\":\"4438\",\"type\":\"Selection\"},{\"attributes\":{},\"id\":\"4284\",\"type\":\"LinearScale\"},{\"attributes\":{\"ticker\":null},\"id\":\"4318\",\"type\":\"LogTickFormatter\"},{\"attributes\":{},\"id\":\"4344\",\"type\":\"Selection\"},{\"attributes\":{},\"id\":\"4319\",\"type\":\"AllLabels\"},{\"attributes\":{},\"id\":\"4343\",\"type\":\"UnionRenderers\"},{\"attributes\":{},\"id\":\"4321\",\"type\":\"BasicTickFormatter\"},{\"attributes\":{\"coordinates\":null,\"data_source\":{\"id\":\"4367\"},\"glyph\":{\"id\":\"4368\"},\"group\":null,\"hover_glyph\":null,\"muted_glyph\":{\"id\":\"4370\"},\"nonselection_glyph\":{\"id\":\"4369\"},\"view\":{\"id\":\"4372\"}},\"id\":\"4371\",\"type\":\"GlyphRenderer\"},{\"attributes\":{\"fill_alpha\":{\"value\":0.1},\"fill_color\":{\"value\":\"white\"},\"hatch_alpha\":{\"value\":0.1},\"line_alpha\":{\"value\":0.1},\"line_color\":{\"value\":\"#1f77b4\"},\"size\":{\"value\":8},\"x\":{\"field\":\"x\"},\"y\":{\"field\":\"y\"}},\"id\":\"4330\",\"type\":\"Circle\"},{\"attributes\":{},\"id\":\"4322\",\"type\":\"AllLabels\"},{\"attributes\":{},\"id\":\"4301\",\"type\":\"HelpTool\"},{\"attributes\":{},\"id\":\"4297\",\"type\":\"WheelZoomTool\"},{\"attributes\":{\"fill_color\":{\"value\":\"white\"},\"line_color\":{\"value\":\"#1f77b4\"},\"size\":{\"value\":8},\"x\":{\"field\":\"x\"},\"y\":{\"field\":\"y\"}},\"id\":\"4329\",\"type\":\"Circle\"},{\"attributes\":{\"overlay\":{\"id\":\"4302\"}},\"id\":\"4298\",\"type\":\"BoxZoomTool\"},{\"attributes\":{},\"id\":\"4299\",\"type\":\"SaveTool\"},{\"attributes\":{},\"id\":\"4300\",\"type\":\"ResetTool\"},{\"attributes\":{\"bottom_units\":\"screen\",\"coordinates\":null,\"fill_alpha\":0.5,\"fill_color\":\"lightgrey\",\"group\":null,\"left_units\":\"screen\",\"level\":\"overlay\",\"line_alpha\":1.0,\"line_color\":\"black\",\"line_dash\":[4,4],\"line_width\":2,\"right_units\":\"screen\",\"syncable\":false,\"top_units\":\"screen\"},\"id\":\"4302\",\"type\":\"BoxAnnotation\"},{\"attributes\":{\"source\":{\"id\":\"4310\"}},\"id\":\"4315\",\"type\":\"CDSView\"},{\"attributes\":{\"coordinates\":null,\"data_source\":{\"id\":\"4346\"},\"glyph\":{\"id\":\"4347\"},\"group\":null,\"hover_glyph\":null,\"muted_glyph\":{\"id\":\"4349\"},\"nonselection_glyph\":{\"id\":\"4348\"},\"view\":{\"id\":\"4351\"}},\"id\":\"4350\",\"type\":\"GlyphRenderer\"},{\"attributes\":{\"end\":100000000000,\"start\":0.001},\"id\":\"4282\",\"type\":\"Range1d\"},{\"attributes\":{\"background_fill_alpha\":0.25,\"background_fill_color\":\"#20262B\",\"border_line_alpha\":0,\"coordinates\":null,\"glyph_width\":15,\"group\":null,\"items\":[{\"id\":\"4327\"},{\"id\":\"4366\"},{\"id\":\"4389\"},{\"id\":\"4440\"}],\"label_standoff\":8,\"label_text_color\":\"#E0E0E0\",\"label_text_font\":\"Helvetica\",\"label_text_font_size\":\"1.025em\",\"spacing\":8},\"id\":\"4326\",\"type\":\"Legend\"},{\"attributes\":{\"label\":{\"value\":\"y=x^2\"},\"renderers\":[{\"id\":\"4350\"}]},\"id\":\"4366\",\"type\":\"LegendItem\"},{\"attributes\":{\"line_alpha\":0.2,\"line_color\":\"#1f77b4\",\"line_width\":2,\"x\":{\"field\":\"x\"},\"y\":{\"field\":\"y\"}},\"id\":\"4349\",\"type\":\"Line\"},{\"attributes\":{\"line_alpha\":0.1,\"line_color\":\"#1f77b4\",\"line_width\":2,\"x\":{\"field\":\"x\"},\"y\":{\"field\":\"y\"}},\"id\":\"4348\",\"type\":\"Line\"},{\"attributes\":{},\"id\":\"4364\",\"type\":\"Selection\"},{\"attributes\":{},\"id\":\"4363\",\"type\":\"UnionRenderers\"},{\"attributes\":{},\"id\":\"4324\",\"type\":\"Selection\"},{\"attributes\":{\"source\":{\"id\":\"4346\"}},\"id\":\"4351\",\"type\":\"CDSView\"},{\"attributes\":{\"source\":{\"id\":\"4328\"}},\"id\":\"4333\",\"type\":\"CDSView\"},{\"attributes\":{\"data\":{\"x\":[0.1,0.5,1.0,1.5,2.0,2.5,3.0],\"y\":[0.010000000000000002,0.25,1.0,2.25,4.0,6.25,9.0]},\"selected\":{\"id\":\"4364\"},\"selection_policy\":{\"id\":\"4363\"}},\"id\":\"4346\",\"type\":\"ColumnDataSource\"},{\"attributes\":{\"data\":{\"x\":[0.1,0.5,1.0,1.5,2.0,2.5,3.0],\"y\":[1.2589254117941673,3.1622776601683795,10.0,31.622776601683793,100.0,316.22776601683796,1000.0]},\"selected\":{\"id\":\"4387\"},\"selection_policy\":{\"id\":\"4386\"}},\"id\":\"4367\",\"type\":\"ColumnDataSource\"},{\"attributes\":{\"coordinates\":null,\"data_source\":{\"id\":\"4328\"},\"glyph\":{\"id\":\"4329\"},\"group\":null,\"hover_glyph\":null,\"muted_glyph\":{\"id\":\"4331\"},\"nonselection_glyph\":{\"id\":\"4330\"},\"view\":{\"id\":\"4333\"}},\"id\":\"4332\",\"type\":\"GlyphRenderer\"},{\"attributes\":{\"label\":{\"value\":\"y=x\"},\"renderers\":[{\"id\":\"4314\"},{\"id\":\"4332\"}]},\"id\":\"4327\",\"type\":\"LegendItem\"},{\"attributes\":{\"fill_alpha\":{\"value\":0.2},\"fill_color\":{\"value\":\"white\"},\"hatch_alpha\":{\"value\":0.2},\"line_alpha\":{\"value\":0.2},\"line_color\":{\"value\":\"#1f77b4\"},\"size\":{\"value\":8},\"x\":{\"field\":\"x\"},\"y\":{\"field\":\"y\"}},\"id\":\"4331\",\"type\":\"Circle\"},{\"attributes\":{\"source\":{\"id\":\"4367\"}},\"id\":\"4372\",\"type\":\"CDSView\"},{\"attributes\":{\"line_color\":\"#1f77b4\",\"x\":{\"field\":\"x\"},\"y\":{\"field\":\"y\"}},\"id\":\"4311\",\"type\":\"Line\"},{\"attributes\":{\"line_alpha\":0.1,\"line_color\":\"#1f77b4\",\"x\":{\"field\":\"x\"},\"y\":{\"field\":\"y\"}},\"id\":\"4312\",\"type\":\"Line\"},{\"attributes\":{\"fill_color\":{\"value\":\"red\"},\"line_color\":{\"value\":\"red\"},\"size\":{\"value\":6},\"x\":{\"field\":\"x\"},\"y\":{\"field\":\"y\"}},\"id\":\"4391\",\"type\":\"Circle\"},{\"attributes\":{\"line_alpha\":0.2,\"line_color\":\"#1f77b4\",\"x\":{\"field\":\"x\"},\"y\":{\"field\":\"y\"}},\"id\":\"4313\",\"type\":\"Line\"},{\"attributes\":{\"source\":{\"id\":\"4390\"}},\"id\":\"4395\",\"type\":\"CDSView\"},{\"attributes\":{\"tools\":[{\"id\":\"4296\"},{\"id\":\"4297\"},{\"id\":\"4298\"},{\"id\":\"4299\"},{\"id\":\"4300\"},{\"id\":\"4301\"}]},\"id\":\"4303\",\"type\":\"Toolbar\"},{\"attributes\":{\"line_alpha\":0.2,\"line_color\":\"red\",\"x\":{\"field\":\"x\"},\"y\":{\"field\":\"y\"}},\"id\":\"4370\",\"type\":\"Line\"},{\"attributes\":{\"line_alpha\":0.1,\"line_color\":\"red\",\"x\":{\"field\":\"x\"},\"y\":{\"field\":\"y\"}},\"id\":\"4369\",\"type\":\"Line\"},{\"attributes\":{\"line_color\":\"red\",\"x\":{\"field\":\"x\"},\"y\":{\"field\":\"y\"}},\"id\":\"4368\",\"type\":\"Line\"},{\"attributes\":{\"coordinates\":null,\"data_source\":{\"id\":\"4390\"},\"glyph\":{\"id\":\"4391\"},\"group\":null,\"hover_glyph\":null,\"muted_glyph\":{\"id\":\"4393\"},\"nonselection_glyph\":{\"id\":\"4392\"},\"view\":{\"id\":\"4395\"}},\"id\":\"4394\",\"type\":\"GlyphRenderer\"},{\"attributes\":{\"label\":{\"value\":\"y=10^x\"},\"renderers\":[{\"id\":\"4371\"},{\"id\":\"4394\"}]},\"id\":\"4389\",\"type\":\"LegendItem\"},{\"attributes\":{},\"id\":\"4387\",\"type\":\"Selection\"},{\"attributes\":{\"line_color\":\"#1f77b4\",\"line_width\":2,\"x\":{\"field\":\"x\"},\"y\":{\"field\":\"y\"}},\"id\":\"4347\",\"type\":\"Line\"},{\"attributes\":{\"coordinates\":null,\"data_source\":{\"id\":\"4310\"},\"glyph\":{\"id\":\"4311\"},\"group\":null,\"hover_glyph\":null,\"muted_glyph\":{\"id\":\"4313\"},\"nonselection_glyph\":{\"id\":\"4312\"},\"view\":{\"id\":\"4315\"}},\"id\":\"4314\",\"type\":\"GlyphRenderer\"},{\"attributes\":{},\"id\":\"4286\",\"type\":\"LogScale\"},{\"attributes\":{\"data\":{\"x\":[0.1,0.5,1.0,1.5,2.0,2.5,3.0],\"y\":[0.1,0.5,1.0,1.5,2.0,2.5,3.0]},\"selected\":{\"id\":\"4344\"},\"selection_policy\":{\"id\":\"4343\"}},\"id\":\"4328\",\"type\":\"ColumnDataSource\"},{\"attributes\":{},\"id\":\"4280\",\"type\":\"DataRange1d\"},{\"attributes\":{},\"id\":\"4296\",\"type\":\"PanTool\"},{\"attributes\":{\"coordinates\":null,\"group\":null,\"text\":\"Logarithmic Axis\",\"text_color\":\"#E0E0E0\",\"text_font\":\"Helvetica\",\"text_font_size\":\"1.15em\"},\"id\":\"4278\",\"type\":\"Title\"},{\"attributes\":{\"line_color\":\"orange\",\"line_dash\":[4,4],\"x\":{\"field\":\"x\"},\"y\":{\"field\":\"y\"}},\"id\":\"4415\",\"type\":\"Line\"},{\"attributes\":{},\"id\":\"4323\",\"type\":\"UnionRenderers\"},{\"attributes\":{\"fill_alpha\":{\"value\":0.2},\"fill_color\":{\"value\":\"red\"},\"hatch_alpha\":{\"value\":0.2},\"line_alpha\":{\"value\":0.2},\"line_color\":{\"value\":\"red\"},\"size\":{\"value\":6},\"x\":{\"field\":\"x\"},\"y\":{\"field\":\"y\"}},\"id\":\"4393\",\"type\":\"Circle\"},{\"attributes\":{\"line_alpha\":0.2,\"line_color\":\"orange\",\"line_dash\":[4,4],\"x\":{\"field\":\"x\"},\"y\":{\"field\":\"y\"}},\"id\":\"4417\",\"type\":\"Line\"},{\"attributes\":{\"data\":{\"x\":[0.1,0.5,1.0,1.5,2.0,2.5,3.0],\"y\":[1.023292992280754,1.7782794100389228,10.0,177.82794100389228,10000.0,1778279.410038923,1000000000.0]},\"selected\":{\"id\":\"4438\"},\"selection_policy\":{\"id\":\"4437\"}},\"id\":\"4414\",\"type\":\"ColumnDataSource\"},{\"attributes\":{},\"id\":\"4412\",\"type\":\"Selection\"},{\"attributes\":{\"line_alpha\":0.1,\"line_color\":\"orange\",\"line_dash\":[4,4],\"x\":{\"field\":\"x\"},\"y\":{\"field\":\"y\"}},\"id\":\"4416\",\"type\":\"Line\"},{\"attributes\":{\"fill_alpha\":{\"value\":0.1},\"fill_color\":{\"value\":\"red\"},\"hatch_alpha\":{\"value\":0.1},\"line_alpha\":{\"value\":0.1},\"line_color\":{\"value\":\"red\"},\"size\":{\"value\":6},\"x\":{\"field\":\"x\"},\"y\":{\"field\":\"y\"}},\"id\":\"4392\",\"type\":\"Circle\"},{\"attributes\":{},\"id\":\"4411\",\"type\":\"UnionRenderers\"},{\"attributes\":{},\"id\":\"4289\",\"type\":\"BasicTicker\"},{\"attributes\":{},\"id\":\"4386\",\"type\":\"UnionRenderers\"},{\"attributes\":{\"axis\":{\"id\":\"4288\"},\"coordinates\":null,\"grid_line_alpha\":0.25,\"grid_line_color\":\"#E0E0E0\",\"group\":null,\"ticker\":null},\"id\":\"4291\",\"type\":\"Grid\"},{\"attributes\":{\"axis_label\":\"particles\",\"axis_label_standoff\":10,\"axis_label_text_color\":\"#E0E0E0\",\"axis_label_text_font\":\"Helvetica\",\"axis_label_text_font_size\":\"1.25em\",\"axis_label_text_font_style\":\"normal\",\"axis_line_alpha\":0,\"axis_line_color\":\"#E0E0E0\",\"coordinates\":null,\"formatter\":{\"id\":\"4318\"},\"group\":null,\"major_label_policy\":{\"id\":\"4319\"},\"major_label_text_color\":\"#E0E0E0\",\"major_label_text_font\":\"Helvetica\",\"major_label_text_font_size\":\"1.025em\",\"major_tick_line_alpha\":0,\"major_tick_line_color\":\"#E0E0E0\",\"minor_tick_line_alpha\":0,\"minor_tick_line_color\":\"#E0E0E0\",\"ticker\":{\"id\":\"4293\"}},\"id\":\"4292\",\"type\":\"LogAxis\"},{\"attributes\":{\"axis\":{\"id\":\"4292\"},\"coordinates\":null,\"dimension\":1,\"grid_line_alpha\":0.25,\"grid_line_color\":\"#E0E0E0\",\"group\":null,\"ticker\":null},\"id\":\"4295\",\"type\":\"Grid\"},{\"attributes\":{\"num_minor_ticks\":10},\"id\":\"4293\",\"type\":\"LogTicker\"},{\"attributes\":{\"data\":{\"x\":[0.1,0.5,1.0,1.5,2.0,2.5,3.0],\"y\":[0.1,0.5,1.0,1.5,2.0,2.5,3.0]},\"selected\":{\"id\":\"4324\"},\"selection_policy\":{\"id\":\"4323\"}},\"id\":\"4310\",\"type\":\"ColumnDataSource\"},{\"attributes\":{\"axis_label\":\"sections\",\"axis_label_standoff\":10,\"axis_label_text_color\":\"#E0E0E0\",\"axis_label_text_font\":\"Helvetica\",\"axis_label_text_font_size\":\"1.25em\",\"axis_label_text_font_style\":\"normal\",\"axis_line_alpha\":0,\"axis_line_color\":\"#E0E0E0\",\"coordinates\":null,\"formatter\":{\"id\":\"4321\"},\"group\":null,\"major_label_policy\":{\"id\":\"4322\"},\"major_label_text_color\":\"#E0E0E0\",\"major_label_text_font\":\"Helvetica\",\"major_label_text_font_size\":\"1.025em\",\"major_tick_line_alpha\":0,\"major_tick_line_color\":\"#E0E0E0\",\"minor_tick_line_alpha\":0,\"minor_tick_line_color\":\"#E0E0E0\",\"ticker\":{\"id\":\"4289\"}},\"id\":\"4288\",\"type\":\"LinearAxis\"},{\"attributes\":{\"coordinates\":null,\"data_source\":{\"id\":\"4414\"},\"glyph\":{\"id\":\"4415\"},\"group\":null,\"hover_glyph\":null,\"muted_glyph\":{\"id\":\"4417\"},\"nonselection_glyph\":{\"id\":\"4416\"},\"view\":{\"id\":\"4419\"}},\"id\":\"4418\",\"type\":\"GlyphRenderer\"},{\"attributes\":{\"source\":{\"id\":\"4414\"}},\"id\":\"4419\",\"type\":\"CDSView\"}],\"root_ids\":[\"4277\"]},\"title\":\"Bokeh Application\",\"version\":\"2.4.3\"}};\n",
       "  const render_items = [{\"docid\":\"85c0b212-6b77-45ad-b74a-e909ee5d436c\",\"root_ids\":[\"4277\"],\"roots\":{\"4277\":\"99136a2e-dff8-4504-bdd5-34557868cbf0\"}}];\n",
       "  root.Bokeh.embed.embed_items_notebook(docs_json, render_items);\n",
       "  }\n",
       "  if (root.Bokeh !== undefined) {\n",
       "    embed_document(root);\n",
       "  } else {\n",
       "    let attempts = 0;\n",
       "    const timer = setInterval(function(root) {\n",
       "      if (root.Bokeh !== undefined) {\n",
       "        clearInterval(timer);\n",
       "        embed_document(root);\n",
       "      } else {\n",
       "        attempts++;\n",
       "        if (attempts > 100) {\n",
       "          clearInterval(timer);\n",
       "          console.log(\"Bokeh: ERROR: Unable to run BokehJS code because BokehJS library is missing\");\n",
       "        }\n",
       "      }\n",
       "    }, 10, root)\n",
       "  }\n",
       "})(window);"
      ],
      "application/vnd.bokehjs_exec.v0+json": ""
     },
     "metadata": {
      "application/vnd.bokehjs_exec.v0+json": {
       "id": "4277"
      }
     },
     "output_type": "display_data"
    }
   ],
   "source": [
    "x = [0.1, 0.5, 1.0, 1.5, 2.0, 2.5, 3.0]\n",
    "y0 = [i**2 for i in x]\n",
    "y1 = [10**i for i in x]\n",
    "y2 = [10**(i**2) for i in x]\n",
    "\n",
    "# create a new plot with a logarithmic axis type\n",
    "p = figure(title=\"Logarithmic Axis\", sizing_mode=\"stretch_width\", height=300, max_width=500, y_axis_type=\"log\",\n",
    "           y_range=[0.001, 10 ** 11], x_axis_label=\"sections\", y_axis_label=\"particles\")\n",
    "\n",
    "# add some renderers\n",
    "p.line(x, x, legend_label=\"y=x\")\n",
    "p.circle(x, x, legend_label=\"y=x\", fill_color=\"white\", size=8)\n",
    "p.line(x, y0, legend_label=\"y=x^2\", line_width=2)\n",
    "p.line(x, y1, legend_label=\"y=10^x\", line_color=\"red\")\n",
    "p.circle(x, y1, legend_label=\"y=10^x\", fill_color=\"red\", line_color=\"red\", size=6)\n",
    "p.line(x, y2, legend_label=\"y=10^x^2\", line_color=\"orange\", line_dash=\"4 4\")\n",
    "\n",
    "# show the results\n",
    "show(p)"
   ]
  },
  {
   "cell_type": "markdown",
   "id": "ffca6693",
   "metadata": {},
   "source": [
    "# Datetime axis"
   ]
  },
  {
   "cell_type": "code",
   "execution_count": 39,
   "id": "7373195c",
   "metadata": {},
   "outputs": [
    {
     "data": {
      "text/html": [
       "\n",
       "  <div class=\"bk-root\" id=\"aafa83cc-77c3-4783-a0f9-9a8ebf9f8a12\" data-root-id=\"4726\"></div>\n"
      ]
     },
     "metadata": {},
     "output_type": "display_data"
    },
    {
     "data": {
      "application/javascript": [
       "(function(root) {\n",
       "  function embed_document(root) {\n",
       "  const docs_json = {\"d6582dc1-7168-4dbf-a679-d0b2448617ad\":{\"defs\":[],\"roots\":{\"references\":[{\"attributes\":{\"background_fill_color\":\"#20262B\",\"below\":[{\"id\":\"4737\"}],\"border_fill_color\":\"#15191C\",\"center\":[{\"id\":\"4740\"},{\"id\":\"4744\"}],\"height\":250,\"left\":[{\"id\":\"4741\"}],\"max_width\":500,\"outline_line_alpha\":0.25,\"outline_line_color\":\"#E0E0E0\",\"renderers\":[{\"id\":\"4763\"},{\"id\":\"4769\"}],\"sizing_mode\":\"stretch_width\",\"title\":{\"id\":\"4727\"},\"toolbar\":{\"id\":\"4752\"},\"x_range\":{\"id\":\"4729\"},\"x_scale\":{\"id\":\"4733\"},\"y_range\":{\"id\":\"4731\"},\"y_scale\":{\"id\":\"4735\"}},\"id\":\"4726\",\"subtype\":\"Figure\",\"type\":\"Plot\"},{\"attributes\":{},\"id\":\"4965\",\"type\":\"UnionRenderers\"},{\"attributes\":{\"coordinates\":null,\"data_source\":{\"id\":\"4759\"},\"glyph\":{\"id\":\"4760\"},\"group\":null,\"hover_glyph\":null,\"muted_glyph\":{\"id\":\"4762\"},\"nonselection_glyph\":{\"id\":\"4761\"},\"view\":{\"id\":\"4764\"}},\"id\":\"4763\",\"type\":\"GlyphRenderer\"},{\"attributes\":{},\"id\":\"4731\",\"type\":\"DataRange1d\"},{\"attributes\":{\"days\":[1,8,15,22]},\"id\":\"4975\",\"type\":\"DaysTicker\"},{\"attributes\":{\"months\":[\"%b %Y\"]},\"id\":\"4773\",\"type\":\"DatetimeTickFormatter\"},{\"attributes\":{},\"id\":\"4968\",\"type\":\"Selection\"},{\"attributes\":{},\"id\":\"4966\",\"type\":\"Selection\"},{\"attributes\":{},\"id\":\"4733\",\"type\":\"LinearScale\"},{\"attributes\":{},\"id\":\"4967\",\"type\":\"UnionRenderers\"},{\"attributes\":{\"axis_label_standoff\":10,\"axis_label_text_color\":\"#E0E0E0\",\"axis_label_text_font\":\"Helvetica\",\"axis_label_text_font_size\":\"1.25em\",\"axis_label_text_font_style\":\"normal\",\"axis_line_alpha\":0,\"axis_line_color\":\"#E0E0E0\",\"coordinates\":null,\"formatter\":{\"id\":\"4773\"},\"group\":null,\"major_label_policy\":{\"id\":\"4964\"},\"major_label_text_color\":\"#E0E0E0\",\"major_label_text_font\":\"Helvetica\",\"major_label_text_font_size\":\"1.025em\",\"major_tick_line_alpha\":0,\"major_tick_line_color\":\"#E0E0E0\",\"minor_tick_line_alpha\":0,\"minor_tick_line_color\":\"#E0E0E0\",\"ticker\":{\"id\":\"4738\"}},\"id\":\"4737\",\"type\":\"DatetimeAxis\"},{\"attributes\":{\"fill_alpha\":{\"value\":0.2},\"fill_color\":{\"value\":\"#1f77b4\"},\"hatch_alpha\":{\"value\":0.2},\"line_alpha\":{\"value\":0.2},\"line_color\":{\"value\":\"#1f77b4\"},\"size\":{\"value\":8},\"x\":{\"field\":\"x\"},\"y\":{\"field\":\"y\"}},\"id\":\"4762\",\"type\":\"Circle\"},{\"attributes\":{},\"id\":\"4749\",\"type\":\"ResetTool\"},{\"attributes\":{},\"id\":\"4748\",\"type\":\"SaveTool\"},{\"attributes\":{\"overlay\":{\"id\":\"4751\"}},\"id\":\"4747\",\"type\":\"BoxZoomTool\"},{\"attributes\":{\"months\":[0,6]},\"id\":\"4980\",\"type\":\"MonthsTicker\"},{\"attributes\":{},\"id\":\"4750\",\"type\":\"HelpTool\"},{\"attributes\":{\"coordinates\":null,\"data_source\":{\"id\":\"4765\"},\"glyph\":{\"id\":\"4766\"},\"group\":null,\"hover_glyph\":null,\"muted_glyph\":{\"id\":\"4768\"},\"nonselection_glyph\":{\"id\":\"4767\"},\"view\":{\"id\":\"4770\"}},\"id\":\"4769\",\"type\":\"GlyphRenderer\"},{\"attributes\":{},\"id\":\"4981\",\"type\":\"YearsTicker\"},{\"attributes\":{\"source\":{\"id\":\"4765\"}},\"id\":\"4770\",\"type\":\"CDSView\"},{\"attributes\":{\"line_alpha\":0.2,\"line_color\":\"azure\",\"x\":{\"field\":\"x\"},\"y\":{\"field\":\"y\"}},\"id\":\"4768\",\"type\":\"Line\"},{\"attributes\":{\"base\":24,\"mantissas\":[1,2,4,6,8,12],\"max_interval\":43200000.0,\"min_interval\":3600000.0,\"num_minor_ticks\":0},\"id\":\"4972\",\"type\":\"AdaptiveTicker\"},{\"attributes\":{},\"id\":\"4962\",\"type\":\"AllLabels\"},{\"attributes\":{\"line_alpha\":0.1,\"line_color\":\"azure\",\"x\":{\"field\":\"x\"},\"y\":{\"field\":\"y\"}},\"id\":\"4767\",\"type\":\"Line\"},{\"attributes\":{\"fill_alpha\":{\"value\":0.1},\"fill_color\":{\"value\":\"#1f77b4\"},\"hatch_alpha\":{\"value\":0.1},\"line_alpha\":{\"value\":0.1},\"line_color\":{\"value\":\"#1f77b4\"},\"size\":{\"value\":8},\"x\":{\"field\":\"x\"},\"y\":{\"field\":\"y\"}},\"id\":\"4761\",\"type\":\"Circle\"},{\"attributes\":{\"days\":[1,2,3,4,5,6,7,8,9,10,11,12,13,14,15,16,17,18,19,20,21,22,23,24,25,26,27,28,29,30,31]},\"id\":\"4973\",\"type\":\"DaysTicker\"},{\"attributes\":{\"days\":[1,4,7,10,13,16,19,22,25,28]},\"id\":\"4974\",\"type\":\"DaysTicker\"},{\"attributes\":{\"axis\":{\"id\":\"4741\"},\"coordinates\":null,\"dimension\":1,\"grid_line_alpha\":0.25,\"grid_line_color\":\"#E0E0E0\",\"group\":null,\"ticker\":null},\"id\":\"4744\",\"type\":\"Grid\"},{\"attributes\":{\"source\":{\"id\":\"4759\"}},\"id\":\"4764\",\"type\":\"CDSView\"},{\"attributes\":{\"num_minor_ticks\":5,\"tickers\":[{\"id\":\"4970\"},{\"id\":\"4971\"},{\"id\":\"4972\"},{\"id\":\"4973\"},{\"id\":\"4974\"},{\"id\":\"4975\"},{\"id\":\"4976\"},{\"id\":\"4977\"},{\"id\":\"4978\"},{\"id\":\"4979\"},{\"id\":\"4980\"},{\"id\":\"4981\"}]},\"id\":\"4738\",\"type\":\"DatetimeTicker\"},{\"attributes\":{\"days\":[1,15]},\"id\":\"4976\",\"type\":\"DaysTicker\"},{\"attributes\":{\"months\":[0,4,8]},\"id\":\"4979\",\"type\":\"MonthsTicker\"},{\"attributes\":{\"fill_color\":{\"value\":\"#1f77b4\"},\"line_color\":{\"value\":\"#1f77b4\"},\"size\":{\"value\":8},\"x\":{\"field\":\"x\"},\"y\":{\"field\":\"y\"}},\"id\":\"4760\",\"type\":\"Circle\"},{\"attributes\":{},\"id\":\"4735\",\"type\":\"LinearScale\"},{\"attributes\":{\"axis_label_standoff\":10,\"axis_label_text_color\":\"#E0E0E0\",\"axis_label_text_font\":\"Helvetica\",\"axis_label_text_font_size\":\"1.25em\",\"axis_label_text_font_style\":\"normal\",\"axis_line_alpha\":0,\"axis_line_color\":\"#E0E0E0\",\"coordinates\":null,\"formatter\":{\"id\":\"4771\"},\"group\":null,\"major_label_policy\":{\"id\":\"4962\"},\"major_label_text_color\":\"#E0E0E0\",\"major_label_text_font\":\"Helvetica\",\"major_label_text_font_size\":\"1.025em\",\"major_tick_line_alpha\":0,\"major_tick_line_color\":\"#E0E0E0\",\"minor_tick_line_alpha\":0,\"minor_tick_line_color\":\"#E0E0E0\",\"ticker\":{\"id\":\"4742\"}},\"id\":\"4741\",\"type\":\"LinearAxis\"},{\"attributes\":{\"axis\":{\"id\":\"4737\"},\"coordinates\":null,\"grid_line_alpha\":0.25,\"grid_line_color\":\"#E0E0E0\",\"group\":null,\"ticker\":null},\"id\":\"4740\",\"type\":\"Grid\"},{\"attributes\":{},\"id\":\"4964\",\"type\":\"AllLabels\"},{\"attributes\":{\"tools\":[{\"id\":\"4745\"},{\"id\":\"4746\"},{\"id\":\"4747\"},{\"id\":\"4748\"},{\"id\":\"4749\"},{\"id\":\"4750\"}]},\"id\":\"4752\",\"type\":\"Toolbar\"},{\"attributes\":{},\"id\":\"4742\",\"type\":\"BasicTicker\"},{\"attributes\":{\"bottom_units\":\"screen\",\"coordinates\":null,\"fill_alpha\":0.5,\"fill_color\":\"lightgrey\",\"group\":null,\"left_units\":\"screen\",\"level\":\"overlay\",\"line_alpha\":1.0,\"line_color\":\"black\",\"line_dash\":[4,4],\"line_width\":2,\"right_units\":\"screen\",\"syncable\":false,\"top_units\":\"screen\"},\"id\":\"4751\",\"type\":\"BoxAnnotation\"},{\"attributes\":{\"base\":60,\"mantissas\":[1,2,5,10,15,20,30],\"max_interval\":1800000.0,\"min_interval\":1000.0,\"num_minor_ticks\":0},\"id\":\"4971\",\"type\":\"AdaptiveTicker\"},{\"attributes\":{\"months\":[0,2,4,6,8,10]},\"id\":\"4978\",\"type\":\"MonthsTicker\"},{\"attributes\":{\"mantissas\":[1,2,5],\"max_interval\":500.0,\"num_minor_ticks\":0},\"id\":\"4970\",\"type\":\"AdaptiveTicker\"},{\"attributes\":{\"format\":\"$0.00\"},\"id\":\"4771\",\"type\":\"NumeralTickFormatter\"},{\"attributes\":{\"coordinates\":null,\"group\":null,\"text\":\"datetime axis\",\"text_color\":\"#E0E0E0\",\"text_font\":\"Helvetica\",\"text_font_size\":\"1.15em\"},\"id\":\"4727\",\"type\":\"Title\"},{\"attributes\":{},\"id\":\"4746\",\"type\":\"WheelZoomTool\"},{\"attributes\":{\"data\":{\"x\":[1696847371332.292,1697452171332.292,1698056971332.292,1698661771332.292,1699266571332.292,1699871371332.292,1700476171332.292,1701080971332.292,1701685771332.292,1702290571332.292,1702895371332.292,1703500171332.292,1704104971332.292,1704709771332.292,1705314571332.292,1705919371332.292,1706524171332.292,1707128971332.292,1707733771332.292,1708338571332.292,1708943371332.292,1709548171332.292,1710152971332.292,1710757771332.292,1711362571332.292,1711967371332.292],\"y\":[96,50,26,97,17,89,99,77,40,75,53,44,14,18,55,81,7,1,31,54,51,90,67,15,25,32]},\"selected\":{\"id\":\"4966\"},\"selection_policy\":{\"id\":\"4965\"}},\"id\":\"4759\",\"type\":\"ColumnDataSource\"},{\"attributes\":{\"data\":{\"x\":[1696847371332.292,1697452171332.292,1698056971332.292,1698661771332.292,1699266571332.292,1699871371332.292,1700476171332.292,1701080971332.292,1701685771332.292,1702290571332.292,1702895371332.292,1703500171332.292,1704104971332.292,1704709771332.292,1705314571332.292,1705919371332.292,1706524171332.292,1707128971332.292,1707733771332.292,1708338571332.292,1708943371332.292,1709548171332.292,1710152971332.292,1710757771332.292,1711362571332.292,1711967371332.292],\"y\":[96,50,26,97,17,89,99,77,40,75,53,44,14,18,55,81,7,1,31,54,51,90,67,15,25,32]},\"selected\":{\"id\":\"4968\"},\"selection_policy\":{\"id\":\"4967\"}},\"id\":\"4765\",\"type\":\"ColumnDataSource\"},{\"attributes\":{},\"id\":\"4729\",\"type\":\"DataRange1d\"},{\"attributes\":{\"months\":[0,1,2,3,4,5,6,7,8,9,10,11]},\"id\":\"4977\",\"type\":\"MonthsTicker\"},{\"attributes\":{\"line_color\":\"azure\",\"x\":{\"field\":\"x\"},\"y\":{\"field\":\"y\"}},\"id\":\"4766\",\"type\":\"Line\"},{\"attributes\":{},\"id\":\"4745\",\"type\":\"PanTool\"}],\"root_ids\":[\"4726\"]},\"title\":\"Bokeh Application\",\"version\":\"2.4.3\"}};\n",
       "  const render_items = [{\"docid\":\"d6582dc1-7168-4dbf-a679-d0b2448617ad\",\"root_ids\":[\"4726\"],\"roots\":{\"4726\":\"aafa83cc-77c3-4783-a0f9-9a8ebf9f8a12\"}}];\n",
       "  root.Bokeh.embed.embed_items_notebook(docs_json, render_items);\n",
       "  }\n",
       "  if (root.Bokeh !== undefined) {\n",
       "    embed_document(root);\n",
       "  } else {\n",
       "    let attempts = 0;\n",
       "    const timer = setInterval(function(root) {\n",
       "      if (root.Bokeh !== undefined) {\n",
       "        clearInterval(timer);\n",
       "        embed_document(root);\n",
       "      } else {\n",
       "        attempts++;\n",
       "        if (attempts > 100) {\n",
       "          clearInterval(timer);\n",
       "          console.log(\"Bokeh: ERROR: Unable to run BokehJS code because BokehJS library is missing\");\n",
       "        }\n",
       "      }\n",
       "    }, 10, root)\n",
       "  }\n",
       "})(window);"
      ],
      "application/vnd.bokehjs_exec.v0+json": ""
     },
     "metadata": {
      "application/vnd.bokehjs_exec.v0+json": {
       "id": "4726"
      }
     },
     "output_type": "display_data"
    }
   ],
   "source": [
    "# generate list of dates (today's date in subsequent weeks)\n",
    "dates = [(datetime.now() + timedelta(day * 7)) for day in range(0, 26)]\n",
    "\n",
    "# generate 25 random data points\n",
    "y = random.sample(range(0, 100), 26)\n",
    "\n",
    "# create new plot\n",
    "p = figure(title=\"datetime axis\", x_axis_type=\"datetime\", sizing_mode=\"stretch_width\", max_width=500, height=250)\n",
    "\n",
    "# add renderers\n",
    "p.circle(dates, y, size=8)\n",
    "p.line(dates, y, color=\"azure\", line_width=1)\n",
    "\n",
    "# format axes ticks\n",
    "p.yaxis[0].formatter = NumeralTickFormatter(format=\"$0.00\")\n",
    "p.xaxis[0].formatter = DatetimeTickFormatter(months=\"%b %Y\")\n",
    "\n",
    "# show the results\n",
    "show(p)"
   ]
  },
  {
   "cell_type": "markdown",
   "id": "eabd86f3",
   "metadata": {},
   "source": [
    "# Customize Grid"
   ]
  },
  {
   "cell_type": "code",
   "execution_count": 40,
   "id": "83d09a44",
   "metadata": {},
   "outputs": [
    {
     "data": {
      "text/html": [
       "\n",
       "  <div class=\"bk-root\" id=\"8ae8f99f-ff2b-4146-a378-f61c6983fd9f\" data-root-id=\"5092\"></div>\n"
      ]
     },
     "metadata": {},
     "output_type": "display_data"
    },
    {
     "data": {
      "application/javascript": [
       "(function(root) {\n",
       "  function embed_document(root) {\n",
       "  const docs_json = {\"2eed87ff-ba46-4e65-bb23-210251d1f41d\":{\"defs\":[],\"roots\":{\"references\":[{\"attributes\":{\"background_fill_color\":\"#20262B\",\"below\":[{\"id\":\"5103\"}],\"border_fill_color\":\"#15191C\",\"center\":[{\"id\":\"5106\"},{\"id\":\"5110\"}],\"height\":250,\"left\":[{\"id\":\"5107\"}],\"max_width\":500,\"outline_line_alpha\":0.25,\"outline_line_color\":\"#E0E0E0\",\"renderers\":[{\"id\":\"5129\"}],\"sizing_mode\":\"stretch_width\",\"title\":{\"id\":\"5093\"},\"toolbar\":{\"id\":\"5118\"},\"x_range\":{\"id\":\"5095\"},\"x_scale\":{\"id\":\"5099\"},\"y_range\":{\"id\":\"5097\"},\"y_scale\":{\"id\":\"5101\"}},\"id\":\"5092\",\"subtype\":\"Figure\",\"type\":\"Plot\"},{\"attributes\":{},\"id\":\"5344\",\"type\":\"AllLabels\"},{\"attributes\":{},\"id\":\"5097\",\"type\":\"DataRange1d\"},{\"attributes\":{},\"id\":\"5345\",\"type\":\"UnionRenderers\"},{\"attributes\":{},\"id\":\"5101\",\"type\":\"LinearScale\"},{\"attributes\":{\"line_alpha\":0.1,\"line_color\":\"red\",\"line_width\":2,\"x\":{\"field\":\"x\"},\"y\":{\"field\":\"y\"}},\"id\":\"5127\",\"type\":\"Line\"},{\"attributes\":{\"line_alpha\":0.2,\"line_color\":\"red\",\"line_width\":2,\"x\":{\"field\":\"x\"},\"y\":{\"field\":\"y\"}},\"id\":\"5128\",\"type\":\"Line\"},{\"attributes\":{},\"id\":\"5111\",\"type\":\"PanTool\"},{\"attributes\":{},\"id\":\"5108\",\"type\":\"BasicTicker\"},{\"attributes\":{},\"id\":\"5095\",\"type\":\"DataRange1d\"},{\"attributes\":{\"coordinates\":null,\"data_source\":{\"id\":\"5125\"},\"glyph\":{\"id\":\"5126\"},\"group\":null,\"hover_glyph\":null,\"muted_glyph\":{\"id\":\"5128\"},\"nonselection_glyph\":{\"id\":\"5127\"},\"view\":{\"id\":\"5130\"}},\"id\":\"5129\",\"type\":\"GlyphRenderer\"},{\"attributes\":{\"data\":{\"x\":[1,2,3,4,5],\"y\":[4,5,5,7,2]},\"selected\":{\"id\":\"5346\"},\"selection_policy\":{\"id\":\"5345\"}},\"id\":\"5125\",\"type\":\"ColumnDataSource\"},{\"attributes\":{},\"id\":\"5099\",\"type\":\"LinearScale\"},{\"attributes\":{\"source\":{\"id\":\"5125\"}},\"id\":\"5130\",\"type\":\"CDSView\"},{\"attributes\":{\"tools\":[{\"id\":\"5111\"},{\"id\":\"5112\"},{\"id\":\"5113\"},{\"id\":\"5114\"},{\"id\":\"5115\"},{\"id\":\"5116\"}]},\"id\":\"5118\",\"type\":\"Toolbar\"},{\"attributes\":{},\"id\":\"5343\",\"type\":\"BasicTickFormatter\"},{\"attributes\":{\"axis_label_standoff\":10,\"axis_label_text_color\":\"#E0E0E0\",\"axis_label_text_font\":\"Helvetica\",\"axis_label_text_font_size\":\"1.25em\",\"axis_label_text_font_style\":\"normal\",\"axis_line_alpha\":0,\"axis_line_color\":\"#E0E0E0\",\"coordinates\":null,\"formatter\":{\"id\":\"5340\"},\"group\":null,\"major_label_policy\":{\"id\":\"5341\"},\"major_label_text_color\":\"#E0E0E0\",\"major_label_text_font\":\"Helvetica\",\"major_label_text_font_size\":\"1.025em\",\"major_tick_line_alpha\":0,\"major_tick_line_color\":\"#E0E0E0\",\"minor_tick_line_alpha\":0,\"minor_tick_line_color\":\"#E0E0E0\",\"ticker\":{\"id\":\"5108\"}},\"id\":\"5107\",\"type\":\"LinearAxis\"},{\"attributes\":{},\"id\":\"5341\",\"type\":\"AllLabels\"},{\"attributes\":{},\"id\":\"5104\",\"type\":\"BasicTicker\"},{\"attributes\":{\"axis_label_standoff\":10,\"axis_label_text_color\":\"#E0E0E0\",\"axis_label_text_font\":\"Helvetica\",\"axis_label_text_font_size\":\"1.25em\",\"axis_label_text_font_style\":\"normal\",\"axis_line_alpha\":0,\"axis_line_color\":\"#E0E0E0\",\"coordinates\":null,\"formatter\":{\"id\":\"5343\"},\"group\":null,\"major_label_policy\":{\"id\":\"5344\"},\"major_label_text_color\":\"#E0E0E0\",\"major_label_text_font\":\"Helvetica\",\"major_label_text_font_size\":\"1.025em\",\"major_tick_line_alpha\":0,\"major_tick_line_color\":\"#E0E0E0\",\"minor_tick_line_alpha\":0,\"minor_tick_line_color\":\"#E0E0E0\",\"ticker\":{\"id\":\"5104\"}},\"id\":\"5103\",\"type\":\"LinearAxis\"},{\"attributes\":{},\"id\":\"5340\",\"type\":\"BasicTickFormatter\"},{\"attributes\":{\"coordinates\":null,\"group\":null,\"text\":\"Customized grid lines\",\"text_color\":\"#E0E0E0\",\"text_font\":\"Helvetica\",\"text_font_size\":\"1.15em\"},\"id\":\"5093\",\"type\":\"Title\"},{\"attributes\":{\"axis\":{\"id\":\"5103\"},\"coordinates\":null,\"grid_line_alpha\":0.25,\"grid_line_color\":\"blue\",\"group\":null,\"ticker\":null},\"id\":\"5106\",\"type\":\"Grid\"},{\"attributes\":{},\"id\":\"5346\",\"type\":\"Selection\"},{\"attributes\":{\"line_color\":\"red\",\"line_width\":2,\"x\":{\"field\":\"x\"},\"y\":{\"field\":\"y\"}},\"id\":\"5126\",\"type\":\"Line\"},{\"attributes\":{\"bottom_units\":\"screen\",\"coordinates\":null,\"fill_alpha\":0.5,\"fill_color\":\"lightgrey\",\"group\":null,\"left_units\":\"screen\",\"level\":\"overlay\",\"line_alpha\":1.0,\"line_color\":\"black\",\"line_dash\":[4,4],\"line_width\":2,\"right_units\":\"screen\",\"syncable\":false,\"top_units\":\"screen\"},\"id\":\"5117\",\"type\":\"BoxAnnotation\"},{\"attributes\":{\"axis\":{\"id\":\"5107\"},\"coordinates\":null,\"dimension\":1,\"grid_line_alpha\":0.25,\"grid_line_color\":\"#E0E0E0\",\"grid_line_dash\":[6,4],\"group\":null,\"ticker\":null},\"id\":\"5110\",\"type\":\"Grid\"},{\"attributes\":{},\"id\":\"5112\",\"type\":\"WheelZoomTool\"},{\"attributes\":{},\"id\":\"5116\",\"type\":\"HelpTool\"},{\"attributes\":{\"overlay\":{\"id\":\"5117\"}},\"id\":\"5113\",\"type\":\"BoxZoomTool\"},{\"attributes\":{},\"id\":\"5114\",\"type\":\"SaveTool\"},{\"attributes\":{},\"id\":\"5115\",\"type\":\"ResetTool\"}],\"root_ids\":[\"5092\"]},\"title\":\"Bokeh Application\",\"version\":\"2.4.3\"}};\n",
       "  const render_items = [{\"docid\":\"2eed87ff-ba46-4e65-bb23-210251d1f41d\",\"root_ids\":[\"5092\"],\"roots\":{\"5092\":\"8ae8f99f-ff2b-4146-a378-f61c6983fd9f\"}}];\n",
       "  root.Bokeh.embed.embed_items_notebook(docs_json, render_items);\n",
       "  }\n",
       "  if (root.Bokeh !== undefined) {\n",
       "    embed_document(root);\n",
       "  } else {\n",
       "    let attempts = 0;\n",
       "    const timer = setInterval(function(root) {\n",
       "      if (root.Bokeh !== undefined) {\n",
       "        clearInterval(timer);\n",
       "        embed_document(root);\n",
       "      } else {\n",
       "        attempts++;\n",
       "        if (attempts > 100) {\n",
       "          clearInterval(timer);\n",
       "          console.log(\"Bokeh: ERROR: Unable to run BokehJS code because BokehJS library is missing\");\n",
       "        }\n",
       "      }\n",
       "    }, 10, root)\n",
       "  }\n",
       "})(window);"
      ],
      "application/vnd.bokehjs_exec.v0+json": ""
     },
     "metadata": {
      "application/vnd.bokehjs_exec.v0+json": {
       "id": "5092"
      }
     },
     "output_type": "display_data"
    }
   ],
   "source": [
    "x = [1, 2, 3, 4, 5]\n",
    "y = [4, 5, 5, 7, 2]\n",
    "\n",
    "# create a plot\n",
    "p = figure(title=\"Customized grid lines\", sizing_mode=\"stretch_width\", max_width=500, height=250)\n",
    "\n",
    "# add a renderer\n",
    "p.line(x, y, line_color=\"red\", line_width=2)\n",
    "\n",
    "# change things only on the x-grid\n",
    "p.xgrid.grid_line_color = \"blue\"\n",
    "\n",
    "# change things only on the y-grid\n",
    "p.ygrid.grid_line_alpha = 1\n",
    "p.ygrid.grid_line_dash = [6, 4]\n",
    "\n",
    "# show the results\n",
    "show(p)"
   ]
  },
  {
   "cell_type": "markdown",
   "id": "b508be5d",
   "metadata": {},
   "source": [
    "# Bands and Bounds"
   ]
  },
  {
   "cell_type": "code",
   "execution_count": 41,
   "id": "ac94d9f3",
   "metadata": {},
   "outputs": [
    {
     "data": {
      "text/html": [
       "\n",
       "  <div class=\"bk-root\" id=\"7dcccf7d-1e0e-4b26-8e58-88c6d6389c8b\" data-root-id=\"5398\"></div>\n"
      ]
     },
     "metadata": {},
     "output_type": "display_data"
    },
    {
     "data": {
      "application/javascript": [
       "(function(root) {\n",
       "  function embed_document(root) {\n",
       "  const docs_json = {\"3dea7c6b-cc95-49c1-8a9a-b22782f24783\":{\"defs\":[],\"roots\":{\"references\":[{\"attributes\":{\"background_fill_color\":\"#20262B\",\"below\":[{\"id\":\"5409\"}],\"border_fill_color\":\"#15191C\",\"center\":[{\"id\":\"5412\"},{\"id\":\"5416\"}],\"height\":250,\"left\":[{\"id\":\"5413\"}],\"max_width\":500,\"outline_line_alpha\":0.25,\"outline_line_color\":\"#E0E0E0\",\"renderers\":[{\"id\":\"5435\"}],\"sizing_mode\":\"stretch_width\",\"title\":{\"id\":\"5399\"},\"toolbar\":{\"id\":\"5424\"},\"x_range\":{\"id\":\"5401\"},\"x_scale\":{\"id\":\"5405\"},\"y_range\":{\"id\":\"5403\"},\"y_scale\":{\"id\":\"5407\"}},\"id\":\"5398\",\"subtype\":\"Figure\",\"type\":\"Plot\"},{\"attributes\":{\"source\":{\"id\":\"5431\"}},\"id\":\"5436\",\"type\":\"CDSView\"},{\"attributes\":{\"line_color\":\"green\",\"line_width\":2,\"x\":{\"field\":\"x\"},\"y\":{\"field\":\"y\"}},\"id\":\"5432\",\"type\":\"Line\"},{\"attributes\":{\"line_alpha\":0.2,\"line_color\":\"green\",\"line_width\":2,\"x\":{\"field\":\"x\"},\"y\":{\"field\":\"y\"}},\"id\":\"5434\",\"type\":\"Line\"},{\"attributes\":{},\"id\":\"5401\",\"type\":\"DataRange1d\"},{\"attributes\":{\"bottom_units\":\"screen\",\"coordinates\":null,\"fill_alpha\":0.5,\"fill_color\":\"lightgrey\",\"group\":null,\"left_units\":\"screen\",\"level\":\"overlay\",\"line_alpha\":1.0,\"line_color\":\"black\",\"line_dash\":[4,4],\"line_width\":2,\"right_units\":\"screen\",\"syncable\":false,\"top_units\":\"screen\"},\"id\":\"5423\",\"type\":\"BoxAnnotation\"},{\"attributes\":{},\"id\":\"5660\",\"type\":\"AllLabels\"},{\"attributes\":{},\"id\":\"5421\",\"type\":\"ResetTool\"},{\"attributes\":{},\"id\":\"5420\",\"type\":\"SaveTool\"},{\"attributes\":{\"overlay\":{\"id\":\"5423\"}},\"id\":\"5419\",\"type\":\"BoxZoomTool\"},{\"attributes\":{},\"id\":\"5659\",\"type\":\"BasicTickFormatter\"},{\"attributes\":{},\"id\":\"5417\",\"type\":\"PanTool\"},{\"attributes\":{},\"id\":\"5418\",\"type\":\"WheelZoomTool\"},{\"attributes\":{},\"id\":\"5657\",\"type\":\"AllLabels\"},{\"attributes\":{},\"id\":\"5414\",\"type\":\"BasicTicker\"},{\"attributes\":{\"axis\":{\"id\":\"5413\"},\"band_fill_alpha\":0.1,\"band_fill_color\":\"olive\",\"coordinates\":null,\"dimension\":1,\"grid_line_alpha\":0.25,\"grid_line_color\":\"#E0E0E0\",\"group\":null,\"ticker\":null},\"id\":\"5416\",\"type\":\"Grid\"},{\"attributes\":{},\"id\":\"5656\",\"type\":\"BasicTickFormatter\"},{\"attributes\":{\"axis\":{\"id\":\"5409\"},\"bounds\":[2,4],\"coordinates\":null,\"grid_line_alpha\":0.25,\"grid_line_color\":\"#E0E0E0\",\"group\":null,\"ticker\":null},\"id\":\"5412\",\"type\":\"Grid\"},{\"attributes\":{},\"id\":\"5405\",\"type\":\"LinearScale\"},{\"attributes\":{\"axis_label_standoff\":10,\"axis_label_text_color\":\"#E0E0E0\",\"axis_label_text_font\":\"Helvetica\",\"axis_label_text_font_size\":\"1.25em\",\"axis_label_text_font_style\":\"normal\",\"axis_line_alpha\":0,\"axis_line_color\":\"#E0E0E0\",\"coordinates\":null,\"formatter\":{\"id\":\"5659\"},\"group\":null,\"major_label_policy\":{\"id\":\"5660\"},\"major_label_text_color\":\"#E0E0E0\",\"major_label_text_font\":\"Helvetica\",\"major_label_text_font_size\":\"1.025em\",\"major_tick_line_alpha\":0,\"major_tick_line_color\":\"#E0E0E0\",\"minor_tick_line_alpha\":0,\"minor_tick_line_color\":\"#E0E0E0\",\"ticker\":{\"id\":\"5410\"}},\"id\":\"5409\",\"type\":\"LinearAxis\"},{\"attributes\":{\"axis_label_standoff\":10,\"axis_label_text_color\":\"#E0E0E0\",\"axis_label_text_font\":\"Helvetica\",\"axis_label_text_font_size\":\"1.25em\",\"axis_label_text_font_style\":\"normal\",\"axis_line_alpha\":0,\"axis_line_color\":\"#E0E0E0\",\"coordinates\":null,\"formatter\":{\"id\":\"5656\"},\"group\":null,\"major_label_policy\":{\"id\":\"5657\"},\"major_label_text_color\":\"#E0E0E0\",\"major_label_text_font\":\"Helvetica\",\"major_label_text_font_size\":\"1.025em\",\"major_tick_line_alpha\":0,\"major_tick_line_color\":\"#E0E0E0\",\"minor_tick_line_alpha\":0,\"minor_tick_line_color\":\"#E0E0E0\",\"ticker\":{\"id\":\"5414\"}},\"id\":\"5413\",\"type\":\"LinearAxis\"},{\"attributes\":{\"coordinates\":null,\"group\":null,\"text\":\"Bands and bonds example\",\"text_color\":\"#E0E0E0\",\"text_font\":\"Helvetica\",\"text_font_size\":\"1.15em\"},\"id\":\"5399\",\"type\":\"Title\"},{\"attributes\":{},\"id\":\"5661\",\"type\":\"UnionRenderers\"},{\"attributes\":{\"data\":{\"x\":[1,2,3,4,5],\"y\":[4,5,5,7,2]},\"selected\":{\"id\":\"5662\"},\"selection_policy\":{\"id\":\"5661\"}},\"id\":\"5431\",\"type\":\"ColumnDataSource\"},{\"attributes\":{\"coordinates\":null,\"data_source\":{\"id\":\"5431\"},\"glyph\":{\"id\":\"5432\"},\"group\":null,\"hover_glyph\":null,\"muted_glyph\":{\"id\":\"5434\"},\"nonselection_glyph\":{\"id\":\"5433\"},\"view\":{\"id\":\"5436\"}},\"id\":\"5435\",\"type\":\"GlyphRenderer\"},{\"attributes\":{},\"id\":\"5403\",\"type\":\"DataRange1d\"},{\"attributes\":{},\"id\":\"5662\",\"type\":\"Selection\"},{\"attributes\":{},\"id\":\"5407\",\"type\":\"LinearScale\"},{\"attributes\":{},\"id\":\"5410\",\"type\":\"BasicTicker\"},{\"attributes\":{\"line_alpha\":0.1,\"line_color\":\"green\",\"line_width\":2,\"x\":{\"field\":\"x\"},\"y\":{\"field\":\"y\"}},\"id\":\"5433\",\"type\":\"Line\"},{\"attributes\":{},\"id\":\"5422\",\"type\":\"HelpTool\"},{\"attributes\":{\"tools\":[{\"id\":\"5417\"},{\"id\":\"5418\"},{\"id\":\"5419\"},{\"id\":\"5420\"},{\"id\":\"5421\"},{\"id\":\"5422\"}]},\"id\":\"5424\",\"type\":\"Toolbar\"}],\"root_ids\":[\"5398\"]},\"title\":\"Bokeh Application\",\"version\":\"2.4.3\"}};\n",
       "  const render_items = [{\"docid\":\"3dea7c6b-cc95-49c1-8a9a-b22782f24783\",\"root_ids\":[\"5398\"],\"roots\":{\"5398\":\"7dcccf7d-1e0e-4b26-8e58-88c6d6389c8b\"}}];\n",
       "  root.Bokeh.embed.embed_items_notebook(docs_json, render_items);\n",
       "  }\n",
       "  if (root.Bokeh !== undefined) {\n",
       "    embed_document(root);\n",
       "  } else {\n",
       "    let attempts = 0;\n",
       "    const timer = setInterval(function(root) {\n",
       "      if (root.Bokeh !== undefined) {\n",
       "        clearInterval(timer);\n",
       "        embed_document(root);\n",
       "      } else {\n",
       "        attempts++;\n",
       "        if (attempts > 100) {\n",
       "          clearInterval(timer);\n",
       "          console.log(\"Bokeh: ERROR: Unable to run BokehJS code because BokehJS library is missing\");\n",
       "        }\n",
       "      }\n",
       "    }, 10, root)\n",
       "  }\n",
       "})(window);"
      ],
      "application/vnd.bokehjs_exec.v0+json": ""
     },
     "metadata": {
      "application/vnd.bokehjs_exec.v0+json": {
       "id": "5398"
      }
     },
     "output_type": "display_data"
    }
   ],
   "source": [
    "x = [1, 2, 3, 4, 5]\n",
    "y = [4, 5, 5, 7, 2]\n",
    "\n",
    "# create a plot\n",
    "p = figure(title=\"Bands and bonds example\", sizing_mode=\"stretch_width\", max_width=500, height=250)\n",
    "\n",
    "# add a renderer\n",
    "p.line(x, y, line_color=\"green\", line_width=2)\n",
    "\n",
    "# add bands to the y-grid\n",
    "p.ygrid.band_fill_color = \"olive\"\n",
    "p.ygrid.band_fill_alpha = 0.1\n",
    "\n",
    "# define vertical bounds\n",
    "p.xgrid.bounds = (2, 4)\n",
    "\n",
    "# show the results\n",
    "show(p)\n"
   ]
  },
  {
   "cell_type": "markdown",
   "id": "3dec3e7d",
   "metadata": {},
   "source": [
    "# Background Color"
   ]
  },
  {
   "cell_type": "code",
   "execution_count": 42,
   "id": "751efb9a",
   "metadata": {},
   "outputs": [
    {
     "data": {
      "text/html": [
       "\n",
       "  <div class=\"bk-root\" id=\"064f1ae8-2225-4f29-a73c-d267a73b2078\" data-root-id=\"5714\"></div>\n"
      ]
     },
     "metadata": {},
     "output_type": "display_data"
    },
    {
     "data": {
      "application/javascript": [
       "(function(root) {\n",
       "  function embed_document(root) {\n",
       "  const docs_json = {\"4834538d-ae9d-49b9-a3ab-a247521352ab\":{\"defs\":[],\"roots\":{\"references\":[{\"attributes\":{\"background_fill_color\":\"rgb(234, 255, 255)\",\"below\":[{\"id\":\"5725\"}],\"border_fill_color\":\"rgb(122, 244, 255)\",\"center\":[{\"id\":\"5728\"},{\"id\":\"5732\"}],\"height\":250,\"left\":[{\"id\":\"5729\"}],\"max_width\":500,\"outline_line_alpha\":0.25,\"outline_line_color\":\"rgb(0, 0, 255)\",\"renderers\":[{\"id\":\"5751\"}],\"sizing_mode\":\"stretch_width\",\"title\":{\"id\":\"5715\"},\"toolbar\":{\"id\":\"5740\"},\"x_range\":{\"id\":\"5717\"},\"x_scale\":{\"id\":\"5721\"},\"y_range\":{\"id\":\"5719\"},\"y_scale\":{\"id\":\"5723\"}},\"id\":\"5714\",\"subtype\":\"Figure\",\"type\":\"Plot\"},{\"attributes\":{\"axis\":{\"id\":\"5725\"},\"coordinates\":null,\"grid_line_alpha\":0.25,\"grid_line_color\":\"#E0E0E0\",\"group\":null,\"ticker\":null},\"id\":\"5728\",\"type\":\"Grid\"},{\"attributes\":{},\"id\":\"5983\",\"type\":\"AllLabels\"},{\"attributes\":{},\"id\":\"5723\",\"type\":\"LinearScale\"},{\"attributes\":{},\"id\":\"5982\",\"type\":\"BasicTickFormatter\"},{\"attributes\":{\"coordinates\":null,\"group\":null,\"text\":\"Background colors\",\"text_color\":\"#E0E0E0\",\"text_font\":\"Helvetica\",\"text_font_size\":\"1.15em\"},\"id\":\"5715\",\"type\":\"Title\"},{\"attributes\":{},\"id\":\"5738\",\"type\":\"HelpTool\"},{\"attributes\":{\"coordinates\":null,\"data_source\":{\"id\":\"5747\"},\"glyph\":{\"id\":\"5748\"},\"group\":null,\"hover_glyph\":null,\"muted_glyph\":{\"id\":\"5750\"},\"nonselection_glyph\":{\"id\":\"5749\"},\"view\":{\"id\":\"5752\"}},\"id\":\"5751\",\"type\":\"GlyphRenderer\"},{\"attributes\":{},\"id\":\"5986\",\"type\":\"AllLabels\"},{\"attributes\":{},\"id\":\"5717\",\"type\":\"DataRange1d\"},{\"attributes\":{\"bottom_units\":\"screen\",\"coordinates\":null,\"fill_alpha\":0.5,\"fill_color\":\"lightgrey\",\"group\":null,\"left_units\":\"screen\",\"level\":\"overlay\",\"line_alpha\":1.0,\"line_color\":\"black\",\"line_dash\":[4,4],\"line_width\":2,\"right_units\":\"screen\",\"syncable\":false,\"top_units\":\"screen\"},\"id\":\"5739\",\"type\":\"BoxAnnotation\"},{\"attributes\":{},\"id\":\"5721\",\"type\":\"LinearScale\"},{\"attributes\":{\"source\":{\"id\":\"5747\"}},\"id\":\"5752\",\"type\":\"CDSView\"},{\"attributes\":{},\"id\":\"5726\",\"type\":\"BasicTicker\"},{\"attributes\":{\"axis_label_standoff\":10,\"axis_label_text_color\":\"#E0E0E0\",\"axis_label_text_font\":\"Helvetica\",\"axis_label_text_font_size\":\"1.25em\",\"axis_label_text_font_style\":\"normal\",\"axis_line_alpha\":0,\"axis_line_color\":\"#E0E0E0\",\"coordinates\":null,\"formatter\":{\"id\":\"5982\"},\"group\":null,\"major_label_policy\":{\"id\":\"5983\"},\"major_label_text_color\":\"#E0E0E0\",\"major_label_text_font\":\"Helvetica\",\"major_label_text_font_size\":\"1.025em\",\"major_tick_line_alpha\":0,\"major_tick_line_color\":\"#E0E0E0\",\"minor_tick_line_alpha\":0,\"minor_tick_line_color\":\"#E0E0E0\",\"ticker\":{\"id\":\"5730\"}},\"id\":\"5729\",\"type\":\"LinearAxis\"},{\"attributes\":{\"line_alpha\":0.1,\"line_color\":\"green\",\"line_width\":2,\"x\":{\"field\":\"x\"},\"y\":{\"field\":\"y\"}},\"id\":\"5749\",\"type\":\"Line\"},{\"attributes\":{\"axis_label_standoff\":10,\"axis_label_text_color\":\"#E0E0E0\",\"axis_label_text_font\":\"Helvetica\",\"axis_label_text_font_size\":\"1.25em\",\"axis_label_text_font_style\":\"normal\",\"axis_line_alpha\":0,\"axis_line_color\":\"#E0E0E0\",\"coordinates\":null,\"formatter\":{\"id\":\"5985\"},\"group\":null,\"major_label_policy\":{\"id\":\"5986\"},\"major_label_text_color\":\"#E0E0E0\",\"major_label_text_font\":\"Helvetica\",\"major_label_text_font_size\":\"1.025em\",\"major_tick_line_alpha\":0,\"major_tick_line_color\":\"#E0E0E0\",\"minor_tick_line_alpha\":0,\"minor_tick_line_color\":\"#E0E0E0\",\"ticker\":{\"id\":\"5726\"}},\"id\":\"5725\",\"type\":\"LinearAxis\"},{\"attributes\":{\"data\":{\"x\":[1,2,3,4,5],\"y\":[4,5,5,7,2]},\"selected\":{\"id\":\"5988\"},\"selection_policy\":{\"id\":\"5987\"}},\"id\":\"5747\",\"type\":\"ColumnDataSource\"},{\"attributes\":{\"line_alpha\":0.2,\"line_color\":\"green\",\"line_width\":2,\"x\":{\"field\":\"x\"},\"y\":{\"field\":\"y\"}},\"id\":\"5750\",\"type\":\"Line\"},{\"attributes\":{\"line_color\":\"green\",\"line_width\":2,\"x\":{\"field\":\"x\"},\"y\":{\"field\":\"y\"}},\"id\":\"5748\",\"type\":\"Line\"},{\"attributes\":{},\"id\":\"5737\",\"type\":\"ResetTool\"},{\"attributes\":{},\"id\":\"5987\",\"type\":\"UnionRenderers\"},{\"attributes\":{},\"id\":\"5736\",\"type\":\"SaveTool\"},{\"attributes\":{\"overlay\":{\"id\":\"5739\"}},\"id\":\"5735\",\"type\":\"BoxZoomTool\"},{\"attributes\":{},\"id\":\"5988\",\"type\":\"Selection\"},{\"attributes\":{},\"id\":\"5733\",\"type\":\"PanTool\"},{\"attributes\":{\"tools\":[{\"id\":\"5733\"},{\"id\":\"5734\"},{\"id\":\"5735\"},{\"id\":\"5736\"},{\"id\":\"5737\"},{\"id\":\"5738\"}]},\"id\":\"5740\",\"type\":\"Toolbar\"},{\"attributes\":{},\"id\":\"5734\",\"type\":\"WheelZoomTool\"},{\"attributes\":{},\"id\":\"5985\",\"type\":\"BasicTickFormatter\"},{\"attributes\":{},\"id\":\"5719\",\"type\":\"DataRange1d\"},{\"attributes\":{},\"id\":\"5730\",\"type\":\"BasicTicker\"},{\"attributes\":{\"axis\":{\"id\":\"5729\"},\"coordinates\":null,\"dimension\":1,\"grid_line_alpha\":0.25,\"grid_line_color\":\"#E0E0E0\",\"group\":null,\"ticker\":null},\"id\":\"5732\",\"type\":\"Grid\"}],\"root_ids\":[\"5714\"]},\"title\":\"Bokeh Application\",\"version\":\"2.4.3\"}};\n",
       "  const render_items = [{\"docid\":\"4834538d-ae9d-49b9-a3ab-a247521352ab\",\"root_ids\":[\"5714\"],\"roots\":{\"5714\":\"064f1ae8-2225-4f29-a73c-d267a73b2078\"}}];\n",
       "  root.Bokeh.embed.embed_items_notebook(docs_json, render_items);\n",
       "  }\n",
       "  if (root.Bokeh !== undefined) {\n",
       "    embed_document(root);\n",
       "  } else {\n",
       "    let attempts = 0;\n",
       "    const timer = setInterval(function(root) {\n",
       "      if (root.Bokeh !== undefined) {\n",
       "        clearInterval(timer);\n",
       "        embed_document(root);\n",
       "      } else {\n",
       "        attempts++;\n",
       "        if (attempts > 100) {\n",
       "          clearInterval(timer);\n",
       "          console.log(\"Bokeh: ERROR: Unable to run BokehJS code because BokehJS library is missing\");\n",
       "        }\n",
       "      }\n",
       "    }, 10, root)\n",
       "  }\n",
       "})(window);"
      ],
      "application/vnd.bokehjs_exec.v0+json": ""
     },
     "metadata": {
      "application/vnd.bokehjs_exec.v0+json": {
       "id": "5714"
      }
     },
     "output_type": "display_data"
    }
   ],
   "source": [
    "x = [1, 2, 3, 4, 5]\n",
    "y = [4, 5, 5, 7, 2]\n",
    "\n",
    "# create a plot\n",
    "p = figure(title=\"Background colors\", sizing_mode=\"stretch_width\", max_width=500, height=250)\n",
    "\n",
    "# add a renderer\n",
    "p.line(x, y, line_color=\"green\", line_width=2)\n",
    "\n",
    "# change the fill colors\n",
    "p.background_fill_color = (234, 255, 255)\n",
    "p.border_fill_color = (122, 244, 255)\n",
    "p.outline_line_color = (0, 0, 255)\n",
    "\n",
    "# show the results\n",
    "show(p)"
   ]
  },
  {
   "cell_type": "markdown",
   "id": "7fde12e8",
   "metadata": {},
   "source": [
    "# Positioning Toolbar "
   ]
  },
  {
   "cell_type": "code",
   "execution_count": 43,
   "id": "12f96d7b",
   "metadata": {},
   "outputs": [
    {
     "data": {
      "text/html": [
       "\n",
       "  <div class=\"bk-root\" id=\"5d95edd0-d647-409e-833b-ab8dcd490984\" data-root-id=\"6040\"></div>\n"
      ]
     },
     "metadata": {},
     "output_type": "display_data"
    },
    {
     "data": {
      "application/javascript": [
       "(function(root) {\n",
       "  function embed_document(root) {\n",
       "  const docs_json = {\"406bd99b-86fd-4e80-ac91-689429a3d118\":{\"defs\":[],\"roots\":{\"references\":[{\"attributes\":{\"background_fill_color\":\"rgb(234, 255, 255)\",\"below\":[{\"id\":\"6051\"}],\"border_fill_color\":\"rgb(122, 244, 255)\",\"center\":[{\"id\":\"6054\"},{\"id\":\"6058\"}],\"height\":250,\"left\":[{\"id\":\"6055\"}],\"max_width\":500,\"outline_line_alpha\":0.25,\"outline_line_color\":\"rgb(0, 0, 255)\",\"renderers\":[{\"id\":\"6077\"}],\"sizing_mode\":\"stretch_width\",\"title\":{\"id\":\"6041\"},\"toolbar\":{\"id\":\"6066\"},\"toolbar_location\":\"below\",\"x_range\":{\"id\":\"6043\"},\"x_scale\":{\"id\":\"6047\"},\"y_range\":{\"id\":\"6045\"},\"y_scale\":{\"id\":\"6049\"}},\"id\":\"6040\",\"subtype\":\"Figure\",\"type\":\"Plot\"},{\"attributes\":{\"data\":{\"x\":[1,2,3,4,5],\"y\":[4,5,5,7,2]},\"selected\":{\"id\":\"6324\"},\"selection_policy\":{\"id\":\"6323\"}},\"id\":\"6073\",\"type\":\"ColumnDataSource\"},{\"attributes\":{\"tools\":[{\"id\":\"6059\"},{\"id\":\"6060\"},{\"id\":\"6061\"},{\"id\":\"6062\"},{\"id\":\"6063\"},{\"id\":\"6064\"}]},\"id\":\"6066\",\"type\":\"Toolbar\"},{\"attributes\":{\"coordinates\":null,\"data_source\":{\"id\":\"6073\"},\"glyph\":{\"id\":\"6074\"},\"group\":null,\"hover_glyph\":null,\"muted_glyph\":{\"id\":\"6076\"},\"nonselection_glyph\":{\"id\":\"6075\"},\"view\":{\"id\":\"6078\"}},\"id\":\"6077\",\"type\":\"GlyphRenderer\"},{\"attributes\":{},\"id\":\"6322\",\"type\":\"AllLabels\"},{\"attributes\":{\"bottom_units\":\"screen\",\"coordinates\":null,\"fill_alpha\":0.5,\"fill_color\":\"lightgrey\",\"group\":null,\"left_units\":\"screen\",\"level\":\"overlay\",\"line_alpha\":1.0,\"line_color\":\"black\",\"line_dash\":[4,4],\"line_width\":2,\"right_units\":\"screen\",\"syncable\":false,\"top_units\":\"screen\"},\"id\":\"6065\",\"type\":\"BoxAnnotation\"},{\"attributes\":{},\"id\":\"6321\",\"type\":\"BasicTickFormatter\"},{\"attributes\":{},\"id\":\"6063\",\"type\":\"ResetTool\"},{\"attributes\":{},\"id\":\"6062\",\"type\":\"SaveTool\"},{\"attributes\":{\"overlay\":{\"id\":\"6065\"}},\"id\":\"6061\",\"type\":\"BoxZoomTool\"},{\"attributes\":{\"line_color\":\"green\",\"line_width\":2,\"x\":{\"field\":\"x\"},\"y\":{\"field\":\"y\"}},\"id\":\"6074\",\"type\":\"Line\"},{\"attributes\":{},\"id\":\"6059\",\"type\":\"PanTool\"},{\"attributes\":{},\"id\":\"6060\",\"type\":\"WheelZoomTool\"},{\"attributes\":{},\"id\":\"6319\",\"type\":\"AllLabels\"},{\"attributes\":{},\"id\":\"6056\",\"type\":\"BasicTicker\"},{\"attributes\":{\"axis\":{\"id\":\"6055\"},\"coordinates\":null,\"dimension\":1,\"grid_line_alpha\":0.25,\"grid_line_color\":\"#E0E0E0\",\"group\":null,\"ticker\":null},\"id\":\"6058\",\"type\":\"Grid\"},{\"attributes\":{\"axis\":{\"id\":\"6051\"},\"coordinates\":null,\"grid_line_alpha\":0.25,\"grid_line_color\":\"#E0E0E0\",\"group\":null,\"ticker\":null},\"id\":\"6054\",\"type\":\"Grid\"},{\"attributes\":{},\"id\":\"6318\",\"type\":\"BasicTickFormatter\"},{\"attributes\":{\"source\":{\"id\":\"6073\"}},\"id\":\"6078\",\"type\":\"CDSView\"},{\"attributes\":{},\"id\":\"6043\",\"type\":\"DataRange1d\"},{\"attributes\":{},\"id\":\"6045\",\"type\":\"DataRange1d\"},{\"attributes\":{},\"id\":\"6047\",\"type\":\"LinearScale\"},{\"attributes\":{\"line_alpha\":0.1,\"line_color\":\"green\",\"line_width\":2,\"x\":{\"field\":\"x\"},\"y\":{\"field\":\"y\"}},\"id\":\"6075\",\"type\":\"Line\"},{\"attributes\":{\"axis_label_standoff\":10,\"axis_label_text_color\":\"#E0E0E0\",\"axis_label_text_font\":\"Helvetica\",\"axis_label_text_font_size\":\"1.25em\",\"axis_label_text_font_style\":\"normal\",\"axis_line_alpha\":0,\"axis_line_color\":\"#E0E0E0\",\"coordinates\":null,\"formatter\":{\"id\":\"6321\"},\"group\":null,\"major_label_policy\":{\"id\":\"6322\"},\"major_label_text_color\":\"#E0E0E0\",\"major_label_text_font\":\"Helvetica\",\"major_label_text_font_size\":\"1.025em\",\"major_tick_line_alpha\":0,\"major_tick_line_color\":\"#E0E0E0\",\"minor_tick_line_alpha\":0,\"minor_tick_line_color\":\"#E0E0E0\",\"ticker\":{\"id\":\"6052\"}},\"id\":\"6051\",\"type\":\"LinearAxis\"},{\"attributes\":{\"axis_label_standoff\":10,\"axis_label_text_color\":\"#E0E0E0\",\"axis_label_text_font\":\"Helvetica\",\"axis_label_text_font_size\":\"1.25em\",\"axis_label_text_font_style\":\"normal\",\"axis_line_alpha\":0,\"axis_line_color\":\"#E0E0E0\",\"coordinates\":null,\"formatter\":{\"id\":\"6318\"},\"group\":null,\"major_label_policy\":{\"id\":\"6319\"},\"major_label_text_color\":\"#E0E0E0\",\"major_label_text_font\":\"Helvetica\",\"major_label_text_font_size\":\"1.025em\",\"major_tick_line_alpha\":0,\"major_tick_line_color\":\"#E0E0E0\",\"minor_tick_line_alpha\":0,\"minor_tick_line_color\":\"#E0E0E0\",\"ticker\":{\"id\":\"6056\"}},\"id\":\"6055\",\"type\":\"LinearAxis\"},{\"attributes\":{},\"id\":\"6324\",\"type\":\"Selection\"},{\"attributes\":{\"coordinates\":null,\"group\":null,\"text\":\"Background colors\",\"text_color\":\"#E0E0E0\",\"text_font\":\"Helvetica\",\"text_font_size\":\"1.15em\"},\"id\":\"6041\",\"type\":\"Title\"},{\"attributes\":{},\"id\":\"6064\",\"type\":\"HelpTool\"},{\"attributes\":{},\"id\":\"6052\",\"type\":\"BasicTicker\"},{\"attributes\":{\"line_alpha\":0.2,\"line_color\":\"green\",\"line_width\":2,\"x\":{\"field\":\"x\"},\"y\":{\"field\":\"y\"}},\"id\":\"6076\",\"type\":\"Line\"},{\"attributes\":{},\"id\":\"6049\",\"type\":\"LinearScale\"},{\"attributes\":{},\"id\":\"6323\",\"type\":\"UnionRenderers\"}],\"root_ids\":[\"6040\"]},\"title\":\"Bokeh Application\",\"version\":\"2.4.3\"}};\n",
       "  const render_items = [{\"docid\":\"406bd99b-86fd-4e80-ac91-689429a3d118\",\"root_ids\":[\"6040\"],\"roots\":{\"6040\":\"5d95edd0-d647-409e-833b-ab8dcd490984\"}}];\n",
       "  root.Bokeh.embed.embed_items_notebook(docs_json, render_items);\n",
       "  }\n",
       "  if (root.Bokeh !== undefined) {\n",
       "    embed_document(root);\n",
       "  } else {\n",
       "    let attempts = 0;\n",
       "    const timer = setInterval(function(root) {\n",
       "      if (root.Bokeh !== undefined) {\n",
       "        clearInterval(timer);\n",
       "        embed_document(root);\n",
       "      } else {\n",
       "        attempts++;\n",
       "        if (attempts > 100) {\n",
       "          clearInterval(timer);\n",
       "          console.log(\"Bokeh: ERROR: Unable to run BokehJS code because BokehJS library is missing\");\n",
       "        }\n",
       "      }\n",
       "    }, 10, root)\n",
       "  }\n",
       "})(window);"
      ],
      "application/vnd.bokehjs_exec.v0+json": ""
     },
     "metadata": {
      "application/vnd.bokehjs_exec.v0+json": {
       "id": "6040"
      }
     },
     "output_type": "display_data"
    }
   ],
   "source": [
    "x = [1, 2, 3, 4, 5]\n",
    "y = [4, 5, 5, 7, 2]\n",
    "\n",
    "# create a plot\n",
    "p = figure(title=\"Background colors\", sizing_mode=\"stretch_width\", max_width=500, height=250)\n",
    "p.toolbar_location = \"below\"\n",
    "\n",
    "# add a renderer\n",
    "p.line(x, y, line_color=\"green\", line_width=2)\n",
    "\n",
    "# change the fill colors\n",
    "p.background_fill_color = (234, 255, 255)\n",
    "p.border_fill_color = (122, 244, 255)\n",
    "p.outline_line_color = (0, 0, 255)\n",
    "\n",
    "# show the results\n",
    "show(p)"
   ]
  },
  {
   "cell_type": "markdown",
   "id": "51e15c90",
   "metadata": {},
   "source": [
    "# Deactivating and Hiding Toolbar"
   ]
  },
  {
   "cell_type": "code",
   "execution_count": 44,
   "id": "38a8e21d",
   "metadata": {},
   "outputs": [
    {
     "data": {
      "text/html": [
       "\n",
       "  <div class=\"bk-root\" id=\"a1f44946-3ce3-4de8-86e4-22ff849e06c9\" data-root-id=\"6376\"></div>\n"
      ]
     },
     "metadata": {},
     "output_type": "display_data"
    },
    {
     "data": {
      "application/javascript": [
       "(function(root) {\n",
       "  function embed_document(root) {\n",
       "  const docs_json = {\"c1839837-bfc5-4670-a771-06cef0032911\":{\"defs\":[],\"roots\":{\"references\":[{\"attributes\":{\"background_fill_color\":\"#20262B\",\"below\":[{\"id\":\"6387\"}],\"border_fill_color\":\"#15191C\",\"center\":[{\"id\":\"6390\"},{\"id\":\"6394\"}],\"height\":250,\"left\":[{\"id\":\"6391\"}],\"max_width\":500,\"outline_line_alpha\":0.25,\"outline_line_color\":\"#E0E0E0\",\"renderers\":[{\"id\":\"6414\"}],\"sizing_mode\":\"stretch_width\",\"title\":{\"id\":\"6377\"},\"toolbar\":{\"id\":\"6402\"},\"toolbar_location\":\"above\",\"x_range\":{\"id\":\"6379\"},\"x_scale\":{\"id\":\"6383\"},\"y_range\":{\"id\":\"6381\"},\"y_scale\":{\"id\":\"6385\"}},\"id\":\"6376\",\"subtype\":\"Figure\",\"type\":\"Plot\"},{\"attributes\":{\"source\":{\"id\":\"6410\"}},\"id\":\"6415\",\"type\":\"CDSView\"},{\"attributes\":{\"line_alpha\":0.1,\"line_color\":\"#1f77b4\",\"x\":{\"field\":\"x\"},\"y\":{\"field\":\"y\"}},\"id\":\"6412\",\"type\":\"Line\"},{\"attributes\":{\"coordinates\":null,\"data_source\":{\"id\":\"6410\"},\"glyph\":{\"id\":\"6411\"},\"group\":null,\"hover_glyph\":null,\"muted_glyph\":{\"id\":\"6413\"},\"nonselection_glyph\":{\"id\":\"6412\"},\"view\":{\"id\":\"6415\"}},\"id\":\"6414\",\"type\":\"GlyphRenderer\"},{\"attributes\":{\"bottom_units\":\"screen\",\"coordinates\":null,\"fill_alpha\":0.5,\"fill_color\":\"lightgrey\",\"group\":null,\"left_units\":\"screen\",\"level\":\"overlay\",\"line_alpha\":1.0,\"line_color\":\"black\",\"line_dash\":[4,4],\"line_width\":2,\"right_units\":\"screen\",\"syncable\":false,\"top_units\":\"screen\"},\"id\":\"6401\",\"type\":\"BoxAnnotation\"},{\"attributes\":{\"data\":{\"x\":[1,2,3,4,5],\"y\":[4,5,5,7,2]},\"selected\":{\"id\":\"6671\"},\"selection_policy\":{\"id\":\"6670\"}},\"id\":\"6410\",\"type\":\"ColumnDataSource\"},{\"attributes\":{},\"id\":\"6671\",\"type\":\"Selection\"},{\"attributes\":{},\"id\":\"6399\",\"type\":\"ResetTool\"},{\"attributes\":{},\"id\":\"6398\",\"type\":\"SaveTool\"},{\"attributes\":{\"overlay\":{\"id\":\"6401\"}},\"id\":\"6397\",\"type\":\"BoxZoomTool\"},{\"attributes\":{},\"id\":\"6395\",\"type\":\"PanTool\"},{\"attributes\":{},\"id\":\"6665\",\"type\":\"BasicTickFormatter\"},{\"attributes\":{},\"id\":\"6670\",\"type\":\"UnionRenderers\"},{\"attributes\":{},\"id\":\"6396\",\"type\":\"WheelZoomTool\"},{\"attributes\":{},\"id\":\"6666\",\"type\":\"AllLabels\"},{\"attributes\":{\"axis_label_standoff\":10,\"axis_label_text_color\":\"#E0E0E0\",\"axis_label_text_font\":\"Helvetica\",\"axis_label_text_font_size\":\"1.25em\",\"axis_label_text_font_style\":\"normal\",\"axis_line_alpha\":0,\"axis_line_color\":\"#E0E0E0\",\"coordinates\":null,\"formatter\":{\"id\":\"6665\"},\"group\":null,\"major_label_policy\":{\"id\":\"6666\"},\"major_label_text_color\":\"#E0E0E0\",\"major_label_text_font\":\"Helvetica\",\"major_label_text_font_size\":\"1.025em\",\"major_tick_line_alpha\":0,\"major_tick_line_color\":\"#E0E0E0\",\"minor_tick_line_alpha\":0,\"minor_tick_line_color\":\"#E0E0E0\",\"ticker\":{\"id\":\"6392\"}},\"id\":\"6391\",\"type\":\"LinearAxis\"},{\"attributes\":{\"axis_label_standoff\":10,\"axis_label_text_color\":\"#E0E0E0\",\"axis_label_text_font\":\"Helvetica\",\"axis_label_text_font_size\":\"1.25em\",\"axis_label_text_font_style\":\"normal\",\"axis_line_alpha\":0,\"axis_line_color\":\"#E0E0E0\",\"coordinates\":null,\"formatter\":{\"id\":\"6668\"},\"group\":null,\"major_label_policy\":{\"id\":\"6669\"},\"major_label_text_color\":\"#E0E0E0\",\"major_label_text_font\":\"Helvetica\",\"major_label_text_font_size\":\"1.025em\",\"major_tick_line_alpha\":0,\"major_tick_line_color\":\"#E0E0E0\",\"minor_tick_line_alpha\":0,\"minor_tick_line_color\":\"#E0E0E0\",\"ticker\":{\"id\":\"6388\"}},\"id\":\"6387\",\"type\":\"LinearAxis\"},{\"attributes\":{},\"id\":\"6392\",\"type\":\"BasicTicker\"},{\"attributes\":{},\"id\":\"6379\",\"type\":\"DataRange1d\"},{\"attributes\":{\"axis\":{\"id\":\"6391\"},\"coordinates\":null,\"dimension\":1,\"grid_line_alpha\":0.25,\"grid_line_color\":\"#E0E0E0\",\"group\":null,\"ticker\":null},\"id\":\"6394\",\"type\":\"Grid\"},{\"attributes\":{\"coordinates\":null,\"group\":null,\"text\":\"Toolbar autohide\",\"text_color\":\"#E0E0E0\",\"text_font\":\"Helvetica\",\"text_font_size\":\"1.15em\"},\"id\":\"6377\",\"type\":\"Title\"},{\"attributes\":{},\"id\":\"6381\",\"type\":\"DataRange1d\"},{\"attributes\":{},\"id\":\"6668\",\"type\":\"BasicTickFormatter\"},{\"attributes\":{},\"id\":\"6385\",\"type\":\"LinearScale\"},{\"attributes\":{\"autohide\":true,\"tools\":[{\"id\":\"6395\"},{\"id\":\"6396\"},{\"id\":\"6397\"},{\"id\":\"6398\"},{\"id\":\"6399\"},{\"id\":\"6400\"}]},\"id\":\"6402\",\"type\":\"Toolbar\"},{\"attributes\":{},\"id\":\"6400\",\"type\":\"HelpTool\"},{\"attributes\":{\"axis\":{\"id\":\"6387\"},\"coordinates\":null,\"grid_line_alpha\":0.25,\"grid_line_color\":\"#E0E0E0\",\"group\":null,\"ticker\":null},\"id\":\"6390\",\"type\":\"Grid\"},{\"attributes\":{},\"id\":\"6383\",\"type\":\"LinearScale\"},{\"attributes\":{\"line_color\":\"#1f77b4\",\"x\":{\"field\":\"x\"},\"y\":{\"field\":\"y\"}},\"id\":\"6411\",\"type\":\"Line\"},{\"attributes\":{},\"id\":\"6388\",\"type\":\"BasicTicker\"},{\"attributes\":{},\"id\":\"6669\",\"type\":\"AllLabels\"},{\"attributes\":{\"line_alpha\":0.2,\"line_color\":\"#1f77b4\",\"x\":{\"field\":\"x\"},\"y\":{\"field\":\"y\"}},\"id\":\"6413\",\"type\":\"Line\"}],\"root_ids\":[\"6376\"]},\"title\":\"Bokeh Application\",\"version\":\"2.4.3\"}};\n",
       "  const render_items = [{\"docid\":\"c1839837-bfc5-4670-a771-06cef0032911\",\"root_ids\":[\"6376\"],\"roots\":{\"6376\":\"a1f44946-3ce3-4de8-86e4-22ff849e06c9\"}}];\n",
       "  root.Bokeh.embed.embed_items_notebook(docs_json, render_items);\n",
       "  }\n",
       "  if (root.Bokeh !== undefined) {\n",
       "    embed_document(root);\n",
       "  } else {\n",
       "    let attempts = 0;\n",
       "    const timer = setInterval(function(root) {\n",
       "      if (root.Bokeh !== undefined) {\n",
       "        clearInterval(timer);\n",
       "        embed_document(root);\n",
       "      } else {\n",
       "        attempts++;\n",
       "        if (attempts > 100) {\n",
       "          clearInterval(timer);\n",
       "          console.log(\"Bokeh: ERROR: Unable to run BokehJS code because BokehJS library is missing\");\n",
       "        }\n",
       "      }\n",
       "    }, 10, root)\n",
       "  }\n",
       "})(window);"
      ],
      "application/vnd.bokehjs_exec.v0+json": ""
     },
     "metadata": {
      "application/vnd.bokehjs_exec.v0+json": {
       "id": "6376"
      }
     },
     "output_type": "display_data"
    }
   ],
   "source": [
    "x = [1, 2, 3, 4, 5]\n",
    "y = [4, 5, 5, 7, 2]\n",
    "\n",
    "# create a plot\n",
    "p = figure(title=\"Toolbar autohide\", sizing_mode=\"stretch_width\", max_width=500, height=250)\n",
    "p.toolbar_location= 'above'\n",
    "# activate toolbar autohide\n",
    "p.toolbar.autohide = True\n",
    "\n",
    "# add a renderer\n",
    "p.line(x, y)\n",
    "\n",
    "# show the results\n",
    "show(p)"
   ]
  },
  {
   "cell_type": "markdown",
   "id": "7c30bbe3",
   "metadata": {},
   "source": [
    "# Customize Tools"
   ]
  },
  {
   "cell_type": "code",
   "execution_count": 45,
   "id": "0b36db73",
   "metadata": {},
   "outputs": [
    {
     "data": {
      "text/html": [
       "\n",
       "  <div class=\"bk-root\" id=\"e78d4665-73cf-4c5e-89e9-d6f2366c1e43\" data-root-id=\"6725\"></div>\n"
      ]
     },
     "metadata": {},
     "output_type": "display_data"
    },
    {
     "data": {
      "application/javascript": [
       "(function(root) {\n",
       "  function embed_document(root) {\n",
       "  const docs_json = {\"252f8c03-f0f6-4d33-ae6b-be146045349c\":{\"defs\":[],\"roots\":{\"references\":[{\"attributes\":{\"background_fill_color\":\"#20262B\",\"below\":[{\"id\":\"6736\"}],\"border_fill_color\":\"#15191C\",\"center\":[{\"id\":\"6739\"},{\"id\":\"6743\"}],\"height\":250,\"left\":[{\"id\":\"6740\"}],\"max_width\":500,\"outline_line_alpha\":0.25,\"outline_line_color\":\"#E0E0E0\",\"renderers\":[{\"id\":\"6756\"}],\"sizing_mode\":\"stretch_width\",\"title\":{\"id\":\"6726\"},\"toolbar\":{\"id\":\"6745\"},\"x_range\":{\"id\":\"6728\"},\"x_scale\":{\"id\":\"6732\"},\"y_range\":{\"id\":\"6730\"},\"y_scale\":{\"id\":\"6734\"}},\"id\":\"6725\",\"subtype\":\"Figure\",\"type\":\"Plot\"},{\"attributes\":{\"axis_label_standoff\":10,\"axis_label_text_color\":\"#E0E0E0\",\"axis_label_text_font\":\"Helvetica\",\"axis_label_text_font_size\":\"1.25em\",\"axis_label_text_font_style\":\"normal\",\"axis_line_alpha\":0,\"axis_line_color\":\"#E0E0E0\",\"coordinates\":null,\"formatter\":{\"id\":\"7020\"},\"group\":null,\"major_label_policy\":{\"id\":\"7021\"},\"major_label_text_color\":\"#E0E0E0\",\"major_label_text_font\":\"Helvetica\",\"major_label_text_font_size\":\"1.025em\",\"major_tick_line_alpha\":0,\"major_tick_line_color\":\"#E0E0E0\",\"minor_tick_line_alpha\":0,\"minor_tick_line_color\":\"#E0E0E0\",\"ticker\":{\"id\":\"6737\"}},\"id\":\"6736\",\"type\":\"LinearAxis\"},{\"attributes\":{\"axis_label_standoff\":10,\"axis_label_text_color\":\"#E0E0E0\",\"axis_label_text_font\":\"Helvetica\",\"axis_label_text_font_size\":\"1.25em\",\"axis_label_text_font_style\":\"normal\",\"axis_line_alpha\":0,\"axis_line_color\":\"#E0E0E0\",\"coordinates\":null,\"formatter\":{\"id\":\"7017\"},\"group\":null,\"major_label_policy\":{\"id\":\"7018\"},\"major_label_text_color\":\"#E0E0E0\",\"major_label_text_font\":\"Helvetica\",\"major_label_text_font_size\":\"1.025em\",\"major_tick_line_alpha\":0,\"major_tick_line_color\":\"#E0E0E0\",\"minor_tick_line_alpha\":0,\"minor_tick_line_color\":\"#E0E0E0\",\"ticker\":{\"id\":\"6741\"}},\"id\":\"6740\",\"type\":\"LinearAxis\"},{\"attributes\":{},\"id\":\"7018\",\"type\":\"AllLabels\"},{\"attributes\":{\"coordinates\":null,\"group\":null,\"text\":\"Modifying tools\",\"text_color\":\"#E0E0E0\",\"text_font\":\"Helvetica\",\"text_font_size\":\"1.15em\"},\"id\":\"6726\",\"type\":\"Title\"},{\"attributes\":{},\"id\":\"7017\",\"type\":\"BasicTickFormatter\"},{\"attributes\":{},\"id\":\"7020\",\"type\":\"BasicTickFormatter\"},{\"attributes\":{},\"id\":\"6724\",\"type\":\"ResetTool\"},{\"attributes\":{},\"id\":\"6737\",\"type\":\"BasicTicker\"},{\"attributes\":{},\"id\":\"6734\",\"type\":\"LinearScale\"},{\"attributes\":{},\"id\":\"7021\",\"type\":\"AllLabels\"},{\"attributes\":{\"axis\":{\"id\":\"6736\"},\"coordinates\":null,\"grid_line_alpha\":0.25,\"grid_line_color\":\"#E0E0E0\",\"group\":null,\"ticker\":null},\"id\":\"6739\",\"type\":\"Grid\"},{\"attributes\":{\"fill_alpha\":{\"value\":0.1},\"fill_color\":{\"value\":\"#1f77b4\"},\"hatch_alpha\":{\"value\":0.1},\"line_alpha\":{\"value\":0.1},\"line_color\":{\"value\":\"#1f77b4\"},\"size\":{\"value\":10},\"x\":{\"field\":\"x\"},\"y\":{\"field\":\"y\"}},\"id\":\"6754\",\"type\":\"Circle\"},{\"attributes\":{\"axis\":{\"id\":\"6740\"},\"coordinates\":null,\"dimension\":1,\"grid_line_alpha\":0.25,\"grid_line_color\":\"#E0E0E0\",\"group\":null,\"ticker\":null},\"id\":\"6743\",\"type\":\"Grid\"},{\"attributes\":{\"fill_color\":{\"value\":\"#1f77b4\"},\"line_color\":{\"value\":\"#1f77b4\"},\"size\":{\"value\":10},\"x\":{\"field\":\"x\"},\"y\":{\"field\":\"y\"}},\"id\":\"6753\",\"type\":\"Circle\"},{\"attributes\":{},\"id\":\"6741\",\"type\":\"BasicTicker\"},{\"attributes\":{\"fill_alpha\":{\"value\":0.2},\"fill_color\":{\"value\":\"#1f77b4\"},\"hatch_alpha\":{\"value\":0.2},\"line_alpha\":{\"value\":0.2},\"line_color\":{\"value\":\"#1f77b4\"},\"size\":{\"value\":10},\"x\":{\"field\":\"x\"},\"y\":{\"field\":\"y\"}},\"id\":\"6755\",\"type\":\"Circle\"},{\"attributes\":{\"bottom_units\":\"screen\",\"coordinates\":null,\"fill_alpha\":0.5,\"fill_color\":\"lightgrey\",\"group\":null,\"left_units\":\"screen\",\"level\":\"overlay\",\"line_alpha\":1.0,\"line_color\":\"black\",\"line_dash\":[4,4],\"line_width\":2,\"right_units\":\"screen\",\"syncable\":false,\"top_units\":\"screen\"},\"id\":\"6744\",\"type\":\"BoxAnnotation\"},{\"attributes\":{\"overlay\":{\"id\":\"6744\"}},\"id\":\"6723\",\"type\":\"BoxZoomTool\"},{\"attributes\":{\"dimensions\":\"width\",\"overlay\":{\"id\":\"7025\"}},\"id\":\"6750\",\"type\":\"BoxSelectTool\"},{\"attributes\":{\"source\":{\"id\":\"6752\"}},\"id\":\"6757\",\"type\":\"CDSView\"},{\"attributes\":{},\"id\":\"6730\",\"type\":\"DataRange1d\"},{\"attributes\":{\"dimensions\":\"width\"},\"id\":\"6748\",\"type\":\"PanTool\"},{\"attributes\":{},\"id\":\"7023\",\"type\":\"Selection\"},{\"attributes\":{\"data\":{\"x\":[1,2,3,4,5],\"y\":[4,5,5,7,2]},\"selected\":{\"id\":\"7023\"},\"selection_policy\":{\"id\":\"7022\"}},\"id\":\"6752\",\"type\":\"ColumnDataSource\"},{\"attributes\":{\"bottom_units\":\"screen\",\"coordinates\":null,\"fill_alpha\":0.5,\"fill_color\":\"lightgrey\",\"group\":null,\"left_units\":\"screen\",\"level\":\"overlay\",\"line_alpha\":1.0,\"line_color\":\"black\",\"line_dash\":[4,4],\"line_width\":2,\"right_units\":\"screen\",\"syncable\":false,\"top_units\":\"screen\"},\"id\":\"7025\",\"type\":\"BoxAnnotation\"},{\"attributes\":{},\"id\":\"6728\",\"type\":\"DataRange1d\"},{\"attributes\":{},\"id\":\"7022\",\"type\":\"UnionRenderers\"},{\"attributes\":{\"tools\":[{\"id\":\"6723\"},{\"id\":\"6724\"},{\"id\":\"6748\"},{\"id\":\"6750\"}]},\"id\":\"6745\",\"type\":\"Toolbar\"},{\"attributes\":{\"coordinates\":null,\"data_source\":{\"id\":\"6752\"},\"glyph\":{\"id\":\"6753\"},\"group\":null,\"hover_glyph\":null,\"muted_glyph\":{\"id\":\"6755\"},\"nonselection_glyph\":{\"id\":\"6754\"},\"view\":{\"id\":\"6757\"}},\"id\":\"6756\",\"type\":\"GlyphRenderer\"},{\"attributes\":{},\"id\":\"6732\",\"type\":\"LinearScale\"}],\"root_ids\":[\"6725\"]},\"title\":\"Bokeh Application\",\"version\":\"2.4.3\"}};\n",
       "  const render_items = [{\"docid\":\"252f8c03-f0f6-4d33-ae6b-be146045349c\",\"root_ids\":[\"6725\"],\"roots\":{\"6725\":\"e78d4665-73cf-4c5e-89e9-d6f2366c1e43\"}}];\n",
       "  root.Bokeh.embed.embed_items_notebook(docs_json, render_items);\n",
       "  }\n",
       "  if (root.Bokeh !== undefined) {\n",
       "    embed_document(root);\n",
       "  } else {\n",
       "    let attempts = 0;\n",
       "    const timer = setInterval(function(root) {\n",
       "      if (root.Bokeh !== undefined) {\n",
       "        clearInterval(timer);\n",
       "        embed_document(root);\n",
       "      } else {\n",
       "        attempts++;\n",
       "        if (attempts > 100) {\n",
       "          clearInterval(timer);\n",
       "          console.log(\"Bokeh: ERROR: Unable to run BokehJS code because BokehJS library is missing\");\n",
       "        }\n",
       "      }\n",
       "    }, 10, root)\n",
       "  }\n",
       "})(window);"
      ],
      "application/vnd.bokehjs_exec.v0+json": ""
     },
     "metadata": {
      "application/vnd.bokehjs_exec.v0+json": {
       "id": "6725"
      }
     },
     "output_type": "display_data"
    }
   ],
   "source": [
    "x = [1, 2, 3, 4, 5]\n",
    "y = [4, 5, 5, 7, 2]\n",
    "\n",
    "# create a plot\n",
    "p = figure(title=\"Modifying tools\", tools=[BoxZoomTool(), ResetTool()], sizing_mode=\"stretch_width\", max_width=500, height=250)\n",
    "\n",
    "# add an additional pan tool\n",
    "p.add_tools(PanTool(dimensions=\"width\"))\n",
    "p.add_tools(BoxSelectTool(dimensions=\"width\"))\n",
    "# add a renderer\n",
    "p.circle(x, y, size=10)\n",
    "\n",
    "# show the results\n",
    "show(p)"
   ]
  },
  {
   "cell_type": "markdown",
   "id": "56680176",
   "metadata": {},
   "source": [
    "# Adding Tooltips"
   ]
  },
  {
   "cell_type": "code",
   "execution_count": 46,
   "id": "c99cbf2d",
   "metadata": {},
   "outputs": [
    {
     "data": {
      "text/html": [
       "\n",
       "  <div class=\"bk-root\" id=\"1331f991-a350-4b2d-b3e5-ae995704179d\" data-root-id=\"7082\"></div>\n"
      ]
     },
     "metadata": {},
     "output_type": "display_data"
    },
    {
     "data": {
      "application/javascript": [
       "(function(root) {\n",
       "  function embed_document(root) {\n",
       "  const docs_json = {\"62579bc5-3214-4708-b11b-825427d9ee33\":{\"defs\":[],\"roots\":{\"references\":[{\"attributes\":{\"background_fill_color\":\"#20262B\",\"below\":[{\"id\":\"7091\"}],\"border_fill_color\":\"#15191C\",\"center\":[{\"id\":\"7094\"},{\"id\":\"7098\"}],\"height\":250,\"left\":[{\"id\":\"7095\"}],\"max_width\":500,\"outline_line_alpha\":0.25,\"outline_line_color\":\"#E0E0E0\",\"renderers\":[{\"id\":\"7105\"},{\"id\":\"7111\"}],\"sizing_mode\":\"stretch_width\",\"title\":{\"id\":\"7381\"},\"toolbar\":{\"id\":\"7099\"},\"toolbar_location\":null,\"x_range\":{\"id\":\"7083\"},\"x_scale\":{\"id\":\"7087\"},\"y_range\":{\"id\":\"7085\"},\"y_scale\":{\"id\":\"7089\"}},\"id\":\"7082\",\"subtype\":\"Figure\",\"type\":\"Plot\"},{\"attributes\":{},\"id\":\"7083\",\"type\":\"DataRange1d\"},{\"attributes\":{\"coordinates\":null,\"data_source\":{\"id\":\"7101\"},\"glyph\":{\"id\":\"7102\"},\"group\":null,\"hover_glyph\":null,\"muted_glyph\":{\"id\":\"7104\"},\"nonselection_glyph\":{\"id\":\"7103\"},\"view\":{\"id\":\"7106\"}},\"id\":\"7105\",\"type\":\"GlyphRenderer\"},{\"attributes\":{\"line_color\":\"#1f77b4\",\"line_width\":2,\"x\":{\"field\":\"x\"},\"y\":{\"field\":\"y\"}},\"id\":\"7108\",\"type\":\"Line\"},{\"attributes\":{\"axis_label_standoff\":10,\"axis_label_text_color\":\"#E0E0E0\",\"axis_label_text_font\":\"Helvetica\",\"axis_label_text_font_size\":\"1.25em\",\"axis_label_text_font_style\":\"normal\",\"axis_line_alpha\":0,\"axis_line_color\":\"#E0E0E0\",\"coordinates\":null,\"formatter\":{\"id\":\"7384\"},\"group\":null,\"major_label_policy\":{\"id\":\"7385\"},\"major_label_text_color\":\"#E0E0E0\",\"major_label_text_font\":\"Helvetica\",\"major_label_text_font_size\":\"1.025em\",\"major_tick_line_alpha\":0,\"major_tick_line_color\":\"#E0E0E0\",\"minor_tick_line_alpha\":0,\"minor_tick_line_color\":\"#E0E0E0\",\"ticker\":{\"id\":\"7096\"}},\"id\":\"7095\",\"type\":\"LinearAxis\"},{\"attributes\":{\"data\":{\"x\":[1,2,3,4,5],\"y\":[4,5,5,7,2]},\"selected\":{\"id\":\"7392\"},\"selection_policy\":{\"id\":\"7391\"}},\"id\":\"7107\",\"type\":\"ColumnDataSource\"},{\"attributes\":{},\"id\":\"7089\",\"type\":\"LinearScale\"},{\"attributes\":{},\"id\":\"7391\",\"type\":\"UnionRenderers\"},{\"attributes\":{\"line_alpha\":0.2,\"line_color\":\"#1f77b4\",\"line_width\":2,\"x\":{\"field\":\"x\"},\"y\":{\"field\":\"y\"}},\"id\":\"7110\",\"type\":\"Line\"},{\"attributes\":{\"fill_alpha\":{\"value\":0.2},\"fill_color\":{\"value\":\"#1f77b4\"},\"hatch_alpha\":{\"value\":0.2},\"line_alpha\":{\"value\":0.2},\"line_color\":{\"value\":\"#1f77b4\"},\"size\":{\"value\":10},\"x\":{\"field\":\"x\"},\"y\":{\"field\":\"y\"}},\"id\":\"7104\",\"type\":\"Circle\"},{\"attributes\":{},\"id\":\"7392\",\"type\":\"Selection\"},{\"attributes\":{},\"id\":\"7389\",\"type\":\"UnionRenderers\"},{\"attributes\":{\"callback\":null,\"tooltips\":\"Data point @x has the value @y\"},\"id\":\"7081\",\"type\":\"HoverTool\"},{\"attributes\":{\"source\":{\"id\":\"7101\"}},\"id\":\"7106\",\"type\":\"CDSView\"},{\"attributes\":{\"fill_color\":{\"value\":\"#1f77b4\"},\"line_color\":{\"value\":\"#1f77b4\"},\"size\":{\"value\":10},\"x\":{\"field\":\"x\"},\"y\":{\"field\":\"y\"}},\"id\":\"7102\",\"type\":\"Circle\"},{\"attributes\":{\"coordinates\":null,\"group\":null,\"text_color\":\"#E0E0E0\",\"text_font\":\"Helvetica\",\"text_font_size\":\"1.15em\"},\"id\":\"7381\",\"type\":\"Title\"},{\"attributes\":{\"line_alpha\":0.1,\"line_color\":\"#1f77b4\",\"line_width\":2,\"x\":{\"field\":\"x\"},\"y\":{\"field\":\"y\"}},\"id\":\"7109\",\"type\":\"Line\"},{\"attributes\":{\"tools\":[{\"id\":\"7081\"}]},\"id\":\"7099\",\"type\":\"Toolbar\"},{\"attributes\":{\"data\":{\"x\":[1,2,3,4,5],\"y\":[4,5,5,7,2]},\"selected\":{\"id\":\"7390\"},\"selection_policy\":{\"id\":\"7389\"}},\"id\":\"7101\",\"type\":\"ColumnDataSource\"},{\"attributes\":{\"coordinates\":null,\"data_source\":{\"id\":\"7107\"},\"glyph\":{\"id\":\"7108\"},\"group\":null,\"hover_glyph\":null,\"muted_glyph\":{\"id\":\"7110\"},\"nonselection_glyph\":{\"id\":\"7109\"},\"view\":{\"id\":\"7112\"}},\"id\":\"7111\",\"type\":\"GlyphRenderer\"},{\"attributes\":{},\"id\":\"7096\",\"type\":\"BasicTicker\"},{\"attributes\":{\"fill_alpha\":{\"value\":0.1},\"fill_color\":{\"value\":\"#1f77b4\"},\"hatch_alpha\":{\"value\":0.1},\"line_alpha\":{\"value\":0.1},\"line_color\":{\"value\":\"#1f77b4\"},\"size\":{\"value\":10},\"x\":{\"field\":\"x\"},\"y\":{\"field\":\"y\"}},\"id\":\"7103\",\"type\":\"Circle\"},{\"attributes\":{},\"id\":\"7388\",\"type\":\"AllLabels\"},{\"attributes\":{\"axis\":{\"id\":\"7095\"},\"coordinates\":null,\"dimension\":1,\"grid_line_alpha\":0.25,\"grid_line_color\":\"#E0E0E0\",\"group\":null,\"ticker\":null},\"id\":\"7098\",\"type\":\"Grid\"},{\"attributes\":{\"axis\":{\"id\":\"7091\"},\"coordinates\":null,\"grid_line_alpha\":0.25,\"grid_line_color\":\"#E0E0E0\",\"group\":null,\"ticker\":null},\"id\":\"7094\",\"type\":\"Grid\"},{\"attributes\":{},\"id\":\"7387\",\"type\":\"BasicTickFormatter\"},{\"attributes\":{},\"id\":\"7385\",\"type\":\"AllLabels\"},{\"attributes\":{\"axis_label_standoff\":10,\"axis_label_text_color\":\"#E0E0E0\",\"axis_label_text_font\":\"Helvetica\",\"axis_label_text_font_size\":\"1.25em\",\"axis_label_text_font_style\":\"normal\",\"axis_line_alpha\":0,\"axis_line_color\":\"#E0E0E0\",\"coordinates\":null,\"formatter\":{\"id\":\"7387\"},\"group\":null,\"major_label_policy\":{\"id\":\"7388\"},\"major_label_text_color\":\"#E0E0E0\",\"major_label_text_font\":\"Helvetica\",\"major_label_text_font_size\":\"1.025em\",\"major_tick_line_alpha\":0,\"major_tick_line_color\":\"#E0E0E0\",\"minor_tick_line_alpha\":0,\"minor_tick_line_color\":\"#E0E0E0\",\"ticker\":{\"id\":\"7092\"}},\"id\":\"7091\",\"type\":\"LinearAxis\"},{\"attributes\":{},\"id\":\"7390\",\"type\":\"Selection\"},{\"attributes\":{},\"id\":\"7087\",\"type\":\"LinearScale\"},{\"attributes\":{\"end\":10},\"id\":\"7085\",\"type\":\"Range1d\"},{\"attributes\":{\"source\":{\"id\":\"7107\"}},\"id\":\"7112\",\"type\":\"CDSView\"},{\"attributes\":{},\"id\":\"7092\",\"type\":\"BasicTicker\"},{\"attributes\":{},\"id\":\"7384\",\"type\":\"BasicTickFormatter\"}],\"root_ids\":[\"7082\"]},\"title\":\"Bokeh Application\",\"version\":\"2.4.3\"}};\n",
       "  const render_items = [{\"docid\":\"62579bc5-3214-4708-b11b-825427d9ee33\",\"root_ids\":[\"7082\"],\"roots\":{\"7082\":\"1331f991-a350-4b2d-b3e5-ae995704179d\"}}];\n",
       "  root.Bokeh.embed.embed_items_notebook(docs_json, render_items);\n",
       "  }\n",
       "  if (root.Bokeh !== undefined) {\n",
       "    embed_document(root);\n",
       "  } else {\n",
       "    let attempts = 0;\n",
       "    const timer = setInterval(function(root) {\n",
       "      if (root.Bokeh !== undefined) {\n",
       "        clearInterval(timer);\n",
       "        embed_document(root);\n",
       "      } else {\n",
       "        attempts++;\n",
       "        if (attempts > 100) {\n",
       "          clearInterval(timer);\n",
       "          console.log(\"Bokeh: ERROR: Unable to run BokehJS code because BokehJS library is missing\");\n",
       "        }\n",
       "      }\n",
       "    }, 10, root)\n",
       "  }\n",
       "})(window);"
      ],
      "application/vnd.bokehjs_exec.v0+json": ""
     },
     "metadata": {
      "application/vnd.bokehjs_exec.v0+json": {
       "id": "7082"
      }
     },
     "output_type": "display_data"
    }
   ],
   "source": [
    "x = [1, 2, 3, 4, 5]\n",
    "y = [4, 5, 5, 7, 2]\n",
    "\n",
    "p = figure(y_range=(0, 10), toolbar_location=None, tools=[HoverTool()], tooltips=\"Data point @x has the value @y\",\n",
    "           sizing_mode=\"stretch_width\", max_width=500, height=250)\n",
    "\n",
    "# add renderers\n",
    "p.circle(x, y, size=10)\n",
    "p.line(x, y, line_width=2)\n",
    "\n",
    "# show the results\n",
    "show(p)"
   ]
  },
  {
   "cell_type": "markdown",
   "id": "8eaa8340",
   "metadata": {},
   "source": [
    "# Vectorizing Glyph Properties"
   ]
  },
  {
   "cell_type": "markdown",
   "id": "256222e7",
   "metadata": {},
   "source": [
    "### Vectorizing colors and size"
   ]
  },
  {
   "cell_type": "code",
   "execution_count": 47,
   "id": "fe42d1d6",
   "metadata": {},
   "outputs": [
    {
     "data": {
      "text/html": [
       "\n",
       "  <div class=\"bk-root\" id=\"ebd2361a-7171-4367-add4-2fded816e880\" data-root-id=\"7453\"></div>\n"
      ]
     },
     "metadata": {},
     "output_type": "display_data"
    },
    {
     "data": {
      "application/javascript": [
       "(function(root) {\n",
       "  function embed_document(root) {\n",
       "  const docs_json = {\"edab95a3-0e0d-4577-8c1b-e41595c36ff4\":{\"defs\":[],\"roots\":{\"references\":[{\"attributes\":{\"background_fill_color\":\"#20262B\",\"below\":[{\"id\":\"7464\"}],\"border_fill_color\":\"#15191C\",\"center\":[{\"id\":\"7467\"},{\"id\":\"7471\"}],\"height\":250,\"left\":[{\"id\":\"7468\"}],\"max_width\":500,\"outline_line_alpha\":0.25,\"outline_line_color\":\"#E0E0E0\",\"renderers\":[{\"id\":\"7490\"},{\"id\":\"7496\"}],\"sizing_mode\":\"stretch_width\",\"title\":{\"id\":\"7454\"},\"toolbar\":{\"id\":\"7479\"},\"x_range\":{\"id\":\"7456\"},\"x_scale\":{\"id\":\"7460\"},\"y_range\":{\"id\":\"7458\"},\"y_scale\":{\"id\":\"7462\"}},\"id\":\"7453\",\"subtype\":\"Figure\",\"type\":\"Plot\"},{\"attributes\":{\"fill_alpha\":{\"value\":0.1},\"fill_color\":{\"field\":\"fill_color\"},\"hatch_alpha\":{\"value\":0.1},\"line_alpha\":{\"value\":0.1},\"line_color\":{\"value\":\"red\"},\"size\":{\"value\":15},\"x\":{\"field\":\"x\"},\"y\":{\"field\":\"y\"}},\"id\":\"7494\",\"type\":\"Circle\"},{\"attributes\":{\"source\":{\"id\":\"7492\"}},\"id\":\"7497\",\"type\":\"CDSView\"},{\"attributes\":{\"coordinates\":null,\"data_source\":{\"id\":\"7486\"},\"glyph\":{\"id\":\"7487\"},\"group\":null,\"hover_glyph\":null,\"muted_glyph\":{\"id\":\"7489\"},\"nonselection_glyph\":{\"id\":\"7488\"},\"view\":{\"id\":\"7491\"}},\"id\":\"7490\",\"type\":\"GlyphRenderer\"},{\"attributes\":{\"bottom_units\":\"screen\",\"coordinates\":null,\"fill_alpha\":0.5,\"fill_color\":\"lightgrey\",\"group\":null,\"left_units\":\"screen\",\"level\":\"overlay\",\"line_alpha\":1.0,\"line_color\":\"black\",\"line_dash\":[4,4],\"line_width\":2,\"right_units\":\"screen\",\"syncable\":false,\"top_units\":\"screen\"},\"id\":\"7478\",\"type\":\"BoxAnnotation\"},{\"attributes\":{\"coordinates\":null,\"data_source\":{\"id\":\"7492\"},\"glyph\":{\"id\":\"7493\"},\"group\":null,\"hover_glyph\":null,\"muted_glyph\":{\"id\":\"7495\"},\"nonselection_glyph\":{\"id\":\"7494\"},\"view\":{\"id\":\"7497\"}},\"id\":\"7496\",\"type\":\"GlyphRenderer\"},{\"attributes\":{\"line_alpha\":0.2,\"line_color\":\"blue\",\"x\":{\"field\":\"x\"},\"y\":{\"field\":\"y\"}},\"id\":\"7489\",\"type\":\"Line\"},{\"attributes\":{},\"id\":\"7476\",\"type\":\"ResetTool\"},{\"attributes\":{\"data\":{\"x\":[0,1,2,3,4,5,6,7,8,9,10,11,12,13,14,15,16,17,18,19,20,21,22,23,24,25],\"y\":[54,95,25,71,31,8,94,89,49,46,84,11,20,10,45,0,39,52,37,5,85,14,78,98,67,44]},\"selected\":{\"id\":\"7786\"},\"selection_policy\":{\"id\":\"7785\"}},\"id\":\"7486\",\"type\":\"ColumnDataSource\"},{\"attributes\":{},\"id\":\"7787\",\"type\":\"UnionRenderers\"},{\"attributes\":{},\"id\":\"7477\",\"type\":\"HelpTool\"},{\"attributes\":{\"fill_color\":{\"field\":\"fill_color\"},\"line_color\":{\"value\":\"red\"},\"size\":{\"value\":15},\"x\":{\"field\":\"x\"},\"y\":{\"field\":\"y\"}},\"id\":\"7493\",\"type\":\"Circle\"},{\"attributes\":{},\"id\":\"7462\",\"type\":\"LinearScale\"},{\"attributes\":{\"data\":{\"fill_color\":[\"#ff89ff\",\"#fff2ff\",\"#ff3fff\",\"#ffb5ff\",\"#ff4fff\",\"#ff14ff\",\"#ffefff\",\"#ffe2ff\",\"#ff7cff\",\"#ff75ff\",\"#ffd6ff\",\"#ff1cff\",\"#ff33ff\",\"#ff19ff\",\"#ff72ff\",\"#ff00ff\",\"#ff63ff\",\"#ff84ff\",\"#ff5eff\",\"#ff0cff\",\"#ffd8ff\",\"#ff23ff\",\"#ffc6ff\",\"#fff9ff\",\"#ffaaff\",\"#ff70ff\"],\"x\":[0,1,2,3,4,5,6,7,8,9,10,11,12,13,14,15,16,17,18,19,20,21,22,23,24,25],\"y\":[54,95,25,71,31,8,94,89,49,46,84,11,20,10,45,0,39,52,37,5,85,14,78,98,67,44]},\"selected\":{\"id\":\"7788\"},\"selection_policy\":{\"id\":\"7787\"}},\"id\":\"7492\",\"type\":\"ColumnDataSource\"},{\"attributes\":{},\"id\":\"7783\",\"type\":\"BasicTickFormatter\"},{\"attributes\":{},\"id\":\"7781\",\"type\":\"AllLabels\"},{\"attributes\":{\"axis_label_standoff\":10,\"axis_label_text_color\":\"#E0E0E0\",\"axis_label_text_font\":\"Helvetica\",\"axis_label_text_font_size\":\"1.25em\",\"axis_label_text_font_style\":\"normal\",\"axis_line_alpha\":0,\"axis_line_color\":\"#E0E0E0\",\"coordinates\":null,\"formatter\":{\"id\":\"7780\"},\"group\":null,\"major_label_policy\":{\"id\":\"7781\"},\"major_label_text_color\":\"#E0E0E0\",\"major_label_text_font\":\"Helvetica\",\"major_label_text_font_size\":\"1.025em\",\"major_tick_line_alpha\":0,\"major_tick_line_color\":\"#E0E0E0\",\"minor_tick_line_alpha\":0,\"minor_tick_line_color\":\"#E0E0E0\",\"ticker\":{\"id\":\"7469\"}},\"id\":\"7468\",\"type\":\"LinearAxis\"},{\"attributes\":{\"line_alpha\":0.1,\"line_color\":\"blue\",\"x\":{\"field\":\"x\"},\"y\":{\"field\":\"y\"}},\"id\":\"7488\",\"type\":\"Line\"},{\"attributes\":{\"axis_label_standoff\":10,\"axis_label_text_color\":\"#E0E0E0\",\"axis_label_text_font\":\"Helvetica\",\"axis_label_text_font_size\":\"1.25em\",\"axis_label_text_font_style\":\"normal\",\"axis_line_alpha\":0,\"axis_line_color\":\"#E0E0E0\",\"coordinates\":null,\"formatter\":{\"id\":\"7783\"},\"group\":null,\"major_label_policy\":{\"id\":\"7784\"},\"major_label_text_color\":\"#E0E0E0\",\"major_label_text_font\":\"Helvetica\",\"major_label_text_font_size\":\"1.025em\",\"major_tick_line_alpha\":0,\"major_tick_line_color\":\"#E0E0E0\",\"minor_tick_line_alpha\":0,\"minor_tick_line_color\":\"#E0E0E0\",\"ticker\":{\"id\":\"7465\"}},\"id\":\"7464\",\"type\":\"LinearAxis\"},{\"attributes\":{\"axis\":{\"id\":\"7468\"},\"coordinates\":null,\"dimension\":1,\"grid_line_alpha\":0.25,\"grid_line_color\":\"#E0E0E0\",\"group\":null,\"ticker\":null},\"id\":\"7471\",\"type\":\"Grid\"},{\"attributes\":{},\"id\":\"7780\",\"type\":\"BasicTickFormatter\"},{\"attributes\":{},\"id\":\"7475\",\"type\":\"SaveTool\"},{\"attributes\":{},\"id\":\"7469\",\"type\":\"BasicTicker\"},{\"attributes\":{},\"id\":\"7786\",\"type\":\"Selection\"},{\"attributes\":{\"overlay\":{\"id\":\"7478\"}},\"id\":\"7474\",\"type\":\"BoxZoomTool\"},{\"attributes\":{\"coordinates\":null,\"group\":null,\"text\":\"Vectorized colors\",\"text_color\":\"#E0E0E0\",\"text_font\":\"Helvetica\",\"text_font_size\":\"1.15em\"},\"id\":\"7454\",\"type\":\"Title\"},{\"attributes\":{\"axis\":{\"id\":\"7464\"},\"coordinates\":null,\"grid_line_alpha\":0.25,\"grid_line_color\":\"#E0E0E0\",\"group\":null,\"ticker\":null},\"id\":\"7467\",\"type\":\"Grid\"},{\"attributes\":{},\"id\":\"7785\",\"type\":\"UnionRenderers\"},{\"attributes\":{},\"id\":\"7465\",\"type\":\"BasicTicker\"},{\"attributes\":{},\"id\":\"7458\",\"type\":\"DataRange1d\"},{\"attributes\":{\"line_color\":\"blue\",\"x\":{\"field\":\"x\"},\"y\":{\"field\":\"y\"}},\"id\":\"7487\",\"type\":\"Line\"},{\"attributes\":{},\"id\":\"7788\",\"type\":\"Selection\"},{\"attributes\":{\"source\":{\"id\":\"7486\"}},\"id\":\"7491\",\"type\":\"CDSView\"},{\"attributes\":{},\"id\":\"7472\",\"type\":\"PanTool\"},{\"attributes\":{\"tools\":[{\"id\":\"7472\"},{\"id\":\"7473\"},{\"id\":\"7474\"},{\"id\":\"7475\"},{\"id\":\"7476\"},{\"id\":\"7477\"}]},\"id\":\"7479\",\"type\":\"Toolbar\"},{\"attributes\":{},\"id\":\"7460\",\"type\":\"LinearScale\"},{\"attributes\":{},\"id\":\"7473\",\"type\":\"WheelZoomTool\"},{\"attributes\":{},\"id\":\"7784\",\"type\":\"AllLabels\"},{\"attributes\":{\"fill_alpha\":{\"value\":0.2},\"fill_color\":{\"field\":\"fill_color\"},\"hatch_alpha\":{\"value\":0.2},\"line_alpha\":{\"value\":0.2},\"line_color\":{\"value\":\"red\"},\"size\":{\"value\":15},\"x\":{\"field\":\"x\"},\"y\":{\"field\":\"y\"}},\"id\":\"7495\",\"type\":\"Circle\"},{\"attributes\":{},\"id\":\"7456\",\"type\":\"DataRange1d\"}],\"root_ids\":[\"7453\"]},\"title\":\"Bokeh Application\",\"version\":\"2.4.3\"}};\n",
       "  const render_items = [{\"docid\":\"edab95a3-0e0d-4577-8c1b-e41595c36ff4\",\"root_ids\":[\"7453\"],\"roots\":{\"7453\":\"ebd2361a-7171-4367-add4-2fded816e880\"}}];\n",
       "  root.Bokeh.embed.embed_items_notebook(docs_json, render_items);\n",
       "  }\n",
       "  if (root.Bokeh !== undefined) {\n",
       "    embed_document(root);\n",
       "  } else {\n",
       "    let attempts = 0;\n",
       "    const timer = setInterval(function(root) {\n",
       "      if (root.Bokeh !== undefined) {\n",
       "        clearInterval(timer);\n",
       "        embed_document(root);\n",
       "      } else {\n",
       "        attempts++;\n",
       "        if (attempts > 100) {\n",
       "          clearInterval(timer);\n",
       "          console.log(\"Bokeh: ERROR: Unable to run BokehJS code because BokehJS library is missing\");\n",
       "        }\n",
       "      }\n",
       "    }, 10, root)\n",
       "  }\n",
       "})(window);"
      ],
      "application/vnd.bokehjs_exec.v0+json": ""
     },
     "metadata": {
      "application/vnd.bokehjs_exec.v0+json": {
       "id": "7453"
      }
     },
     "output_type": "display_data"
    }
   ],
   "source": [
    "# generate some data (1-10 for x, random values for y) the number of values for x and y must be the same\n",
    "x = list(range(0, 26))\n",
    "y = random.sample(range(0, 100), 26)\n",
    "\n",
    "# generate list of rgb hex colors in relation to y\n",
    "colors = [f\"#{255:02x}{int((value * 255) / 100):02x}{255:02x}\" for value in y]\n",
    "\n",
    "# create new plot\n",
    "p = figure(title=\"Vectorized colors\", sizing_mode=\"stretch_width\", max_width=500,height=250) \n",
    "\n",
    "# add circle and line renderers\n",
    "line = p.line(x, y, line_color=\"blue\", line_width=1)\n",
    "circle = p.circle(x, y, fill_color=colors, line_color=\"red\", size=15)\n",
    "\n",
    "# show the results\n",
    "show(p)"
   ]
  },
  {
   "cell_type": "code",
   "execution_count": 48,
   "id": "59398baf",
   "metadata": {},
   "outputs": [
    {
     "data": {
      "text/html": [
       "\n",
       "  <div class=\"bk-root\" id=\"9079f3df-3df9-4bc4-924a-daabcba26292\" data-root-id=\"7850\"></div>\n"
      ]
     },
     "metadata": {},
     "output_type": "display_data"
    },
    {
     "data": {
      "application/javascript": [
       "(function(root) {\n",
       "  function embed_document(root) {\n",
       "  const docs_json = {\"8f339c44-5513-4a94-b53a-4a2318ee6a35\":{\"defs\":[],\"roots\":{\"references\":[{\"attributes\":{\"background_fill_color\":\"#20262B\",\"below\":[{\"id\":\"7861\"}],\"border_fill_color\":\"#15191C\",\"center\":[{\"id\":\"7864\"},{\"id\":\"7868\"}],\"height\":250,\"left\":[{\"id\":\"7865\"}],\"max_width\":500,\"outline_line_alpha\":0.25,\"outline_line_color\":\"#E0E0E0\",\"renderers\":[{\"id\":\"7887\"}],\"sizing_mode\":\"stretch_width\",\"title\":{\"id\":\"7851\"},\"toolbar\":{\"id\":\"7876\"},\"x_range\":{\"id\":\"7853\"},\"x_scale\":{\"id\":\"7857\"},\"y_range\":{\"id\":\"7855\"},\"y_scale\":{\"id\":\"7859\"}},\"id\":\"7850\",\"subtype\":\"Figure\",\"type\":\"Plot\"},{\"attributes\":{},\"id\":\"8186\",\"type\":\"BasicTickFormatter\"},{\"attributes\":{\"source\":{\"id\":\"7883\"}},\"id\":\"7888\",\"type\":\"CDSView\"},{\"attributes\":{},\"id\":\"8188\",\"type\":\"UnionRenderers\"},{\"attributes\":{\"axis\":{\"id\":\"7865\"},\"coordinates\":null,\"dimension\":1,\"grid_line_alpha\":0.25,\"grid_line_color\":\"#E0E0E0\",\"group\":null,\"ticker\":null},\"id\":\"7868\",\"type\":\"Grid\"},{\"attributes\":{},\"id\":\"7857\",\"type\":\"LinearScale\"},{\"attributes\":{\"axis_label_standoff\":10,\"axis_label_text_color\":\"#E0E0E0\",\"axis_label_text_font\":\"Helvetica\",\"axis_label_text_font_size\":\"1.25em\",\"axis_label_text_font_style\":\"normal\",\"axis_line_alpha\":0,\"axis_line_color\":\"#E0E0E0\",\"coordinates\":null,\"formatter\":{\"id\":\"8183\"},\"group\":null,\"major_label_policy\":{\"id\":\"8184\"},\"major_label_text_color\":\"#E0E0E0\",\"major_label_text_font\":\"Helvetica\",\"major_label_text_font_size\":\"1.025em\",\"major_tick_line_alpha\":0,\"major_tick_line_color\":\"#E0E0E0\",\"minor_tick_line_alpha\":0,\"minor_tick_line_color\":\"#E0E0E0\",\"ticker\":{\"id\":\"7866\"}},\"id\":\"7865\",\"type\":\"LinearAxis\"},{\"attributes\":{\"bottom_units\":\"screen\",\"coordinates\":null,\"fill_alpha\":0.5,\"fill_color\":\"lightgrey\",\"group\":null,\"left_units\":\"screen\",\"level\":\"overlay\",\"line_alpha\":1.0,\"line_color\":\"black\",\"line_dash\":[4,4],\"line_width\":2,\"right_units\":\"screen\",\"syncable\":false,\"top_units\":\"screen\"},\"id\":\"7875\",\"type\":\"BoxAnnotation\"},{\"attributes\":{},\"id\":\"7874\",\"type\":\"HelpTool\"},{\"attributes\":{\"overlay\":{\"id\":\"7875\"}},\"id\":\"7871\",\"type\":\"BoxZoomTool\"},{\"attributes\":{},\"id\":\"7862\",\"type\":\"BasicTicker\"},{\"attributes\":{},\"id\":\"8187\",\"type\":\"AllLabels\"},{\"attributes\":{},\"id\":\"7869\",\"type\":\"PanTool\"},{\"attributes\":{},\"id\":\"7855\",\"type\":\"DataRange1d\"},{\"attributes\":{},\"id\":\"7853\",\"type\":\"DataRange1d\"},{\"attributes\":{\"tools\":[{\"id\":\"7869\"},{\"id\":\"7870\"},{\"id\":\"7871\"},{\"id\":\"7872\"},{\"id\":\"7873\"},{\"id\":\"7874\"}]},\"id\":\"7876\",\"type\":\"Toolbar\"},{\"attributes\":{},\"id\":\"7870\",\"type\":\"WheelZoomTool\"},{\"attributes\":{},\"id\":\"7859\",\"type\":\"LinearScale\"},{\"attributes\":{},\"id\":\"7873\",\"type\":\"ResetTool\"},{\"attributes\":{\"coordinates\":null,\"group\":null,\"text\":\"Vectorized colors and radii\",\"text_color\":\"#E0E0E0\",\"text_font\":\"Helvetica\",\"text_font_size\":\"1.15em\"},\"id\":\"7851\",\"type\":\"Title\"},{\"attributes\":{},\"id\":\"7866\",\"type\":\"BasicTicker\"},{\"attributes\":{},\"id\":\"8183\",\"type\":\"BasicTickFormatter\"},{\"attributes\":{\"axis_label_standoff\":10,\"axis_label_text_color\":\"#E0E0E0\",\"axis_label_text_font\":\"Helvetica\",\"axis_label_text_font_size\":\"1.25em\",\"axis_label_text_font_style\":\"normal\",\"axis_line_alpha\":0,\"axis_line_color\":\"#E0E0E0\",\"coordinates\":null,\"formatter\":{\"id\":\"8186\"},\"group\":null,\"major_label_policy\":{\"id\":\"8187\"},\"major_label_text_color\":\"#E0E0E0\",\"major_label_text_font\":\"Helvetica\",\"major_label_text_font_size\":\"1.025em\",\"major_tick_line_alpha\":0,\"major_tick_line_color\":\"#E0E0E0\",\"minor_tick_line_alpha\":0,\"minor_tick_line_color\":\"#E0E0E0\",\"ticker\":{\"id\":\"7862\"}},\"id\":\"7861\",\"type\":\"LinearAxis\"},{\"attributes\":{},\"id\":\"7872\",\"type\":\"SaveTool\"},{\"attributes\":{},\"id\":\"8184\",\"type\":\"AllLabels\"},{\"attributes\":{\"fill_alpha\":{\"value\":0.6},\"fill_color\":{\"field\":\"fill_color\"},\"line_color\":{\"value\":\"darkgrey\"},\"radius\":{\"field\":\"radius\"},\"x\":{\"field\":\"x\"},\"y\":{\"field\":\"y\"}},\"id\":\"7884\",\"type\":\"Circle\"},{\"attributes\":{\"axis\":{\"id\":\"7861\"},\"coordinates\":null,\"grid_line_alpha\":0.25,\"grid_line_color\":\"#E0E0E0\",\"group\":null,\"ticker\":null},\"id\":\"7864\",\"type\":\"Grid\"},{\"attributes\":{\"fill_alpha\":{\"value\":0.2},\"fill_color\":{\"field\":\"fill_color\"},\"hatch_alpha\":{\"value\":0.2},\"line_alpha\":{\"value\":0.2},\"line_color\":{\"value\":\"darkgrey\"},\"radius\":{\"field\":\"radius\"},\"x\":{\"field\":\"x\"},\"y\":{\"field\":\"y\"}},\"id\":\"7886\",\"type\":\"Circle\"},{\"attributes\":{\"data\":{\"fill_color\":[\"#ff21ff\",\"#ff18ff\",\"#ff6fff\",\"#ff68ff\",\"#ffe0ff\",\"#ff1eff\",\"#ff84ff\",\"#ff29ff\",\"#ff76ff\",\"#ff74ff\",\"#ffefff\",\"#ff11ff\",\"#ffdeff\",\"#ff0eff\",\"#ffe5ff\",\"#ffdeff\",\"#ff20ff\",\"#ff54ff\",\"#ffbcff\",\"#ff24ff\",\"#ff4bff\",\"#ff4cff\",\"#ffe9ff\",\"#ff31ff\",\"#ff99ff\",\"#ff6aff\",\"#ff3bff\",\"#ff94ff\",\"#ff02ff\",\"#ff0cff\",\"#fff9ff\",\"#ff17ff\",\"#ff0bff\",\"#ff8eff\",\"#fffcff\",\"#ff5fff\",\"#ffbaff\",\"#ff07ff\",\"#ff87ff\",\"#ffe2ff\",\"#ffd1ff\",\"#ff4eff\",\"#ffb9ff\",\"#ff01ff\",\"#ff12ff\",\"#ff0aff\",\"#ff34ff\",\"#ff49ff\",\"#ff9bff\",\"#ff5cff\",\"#ff48ff\",\"#ffb3ff\",\"#ffc6ff\",\"#ffe9ff\",\"#ffe3ff\",\"#ff46ff\",\"#ffadff\",\"#ff1bff\",\"#ff49ff\",\"#ffc3ff\",\"#ff28ff\",\"#ffc4ff\",\"#ffdaff\",\"#ff1aff\",\"#ff66ff\",\"#ff94ff\",\"#ff79ff\",\"#ff0eff\",\"#ff49ff\",\"#ffedff\",\"#ff52ff\",\"#ffccff\",\"#ff38ff\",\"#ffeeff\",\"#ff60ff\",\"#ff1eff\",\"#ff3aff\",\"#fff5ff\",\"#fff4ff\",\"#ffc1ff\",\"#ffebff\",\"#ff54ff\",\"#ffe3ff\",\"#ffa1ff\",\"#ffc0ff\",\"#fffcff\",\"#ff54ff\",\"#ff2cff\",\"#ff83ff\",\"#ffb9ff\",\"#ffa0ff\",\"#ffdfff\",\"#ffa0ff\",\"#ff99ff\",\"#ff24ff\",\"#ff59ff\",\"#ff39ff\",\"#ffddff\",\"#ff36ff\",\"#ff37ff\",\"#ffbcff\",\"#ff06ff\",\"#ff8bff\",\"#ffeaff\",\"#ffddff\",\"#ff36ff\",\"#ffc1ff\",\"#ff96ff\",\"#ff5cff\",\"#ffb0ff\",\"#ffafff\",\"#ffb5ff\",\"#ff98ff\",\"#fff2ff\",\"#ff70ff\",\"#ff02ff\",\"#fffbff\",\"#ff8bff\",\"#ff64ff\",\"#ff41ff\",\"#ff2eff\",\"#ffb0ff\",\"#ff8dff\",\"#ffb7ff\",\"#ffa8ff\",\"#fffaff\",\"#ff2fff\",\"#ffcaff\",\"#ffa1ff\",\"#ff6aff\",\"#ff18ff\",\"#ff99ff\",\"#ff6aff\",\"#fff1ff\",\"#ff45ff\",\"#ff46ff\",\"#ff3bff\",\"#ff73ff\",\"#ffbbff\",\"#ffb5ff\",\"#ff49ff\",\"#ffebff\",\"#ff48ff\",\"#ff38ff\",\"#ff5eff\",\"#ffd0ff\",\"#ffbbff\",\"#ffa1ff\",\"#fffeff\",\"#fffbff\",\"#fff3ff\",\"#ff93ff\",\"#ff1bff\",\"#ff89ff\",\"#ffebff\",\"#ffadff\",\"#ffd4ff\",\"#ff7bff\",\"#ff24ff\",\"#ffaeff\",\"#ff3eff\",\"#ff1fff\",\"#fffcff\",\"#ff52ff\",\"#ffcdff\",\"#ffacff\",\"#ffc4ff\",\"#ffb3ff\",\"#fff5ff\",\"#ff56ff\",\"#ff56ff\",\"#ff6dff\",\"#ff31ff\",\"#ff0fff\",\"#ffc0ff\",\"#ff6eff\",\"#ff76ff\",\"#ff69ff\",\"#ff95ff\",\"#ff4dff\",\"#ff61ff\",\"#ff76ff\",\"#ff6fff\",\"#ffefff\",\"#ffa6ff\",\"#ff43ff\",\"#ff19ff\",\"#ffbaff\",\"#ff4dff\",\"#ff42ff\",\"#ffd9ff\",\"#ffcbff\",\"#ff0eff\",\"#ff19ff\",\"#ffbeff\",\"#ffc9ff\",\"#ff09ff\",\"#ffcdff\",\"#ffdeff\",\"#ffd9ff\",\"#ffd7ff\",\"#ff3cff\",\"#ff3fff\",\"#ff02ff\",\"#ff14ff\",\"#fffdff\",\"#ffacff\",\"#ff56ff\",\"#ff14ff\",\"#ff54ff\",\"#ffecff\",\"#ff0aff\",\"#ffeeff\",\"#ff6cff\",\"#ff33ff\",\"#ff55ff\",\"#ff77ff\",\"#ff79ff\",\"#ffe4ff\",\"#ff56ff\",\"#ffbbff\",\"#ffc1ff\",\"#ff04ff\",\"#ff5bff\",\"#ff1fff\",\"#ffdeff\",\"#ffb3ff\",\"#ff27ff\",\"#ff0dff\",\"#ff81ff\",\"#ffa7ff\",\"#ffaeff\",\"#ffaeff\",\"#ff2eff\",\"#ff3eff\",\"#fff3ff\",\"#ff93ff\",\"#ff79ff\",\"#ffe7ff\",\"#ff28ff\",\"#ffc0ff\",\"#ffd0ff\",\"#ffa5ff\",\"#ff05ff\",\"#ffafff\",\"#ff00ff\",\"#ff30ff\",\"#ff59ff\",\"#fffaff\",\"#ffa3ff\",\"#ff96ff\",\"#ff17ff\",\"#ff7aff\",\"#ffb2ff\",\"#ff41ff\",\"#ffb4ff\",\"#ffe9ff\",\"#ff4eff\",\"#ff9aff\",\"#ff08ff\",\"#ff1aff\",\"#ffc2ff\",\"#ff2fff\",\"#ff3dff\",\"#ff6aff\",\"#ff10ff\",\"#ff19ff\",\"#ff71ff\",\"#ff5aff\",\"#ff4aff\",\"#ffb6ff\",\"#ff5dff\",\"#ff7bff\",\"#ff78ff\",\"#ff40ff\",\"#ff94ff\",\"#ff81ff\",\"#ff23ff\",\"#ffcaff\",\"#ff33ff\",\"#ffc2ff\",\"#ffcdff\",\"#ff5eff\",\"#ffd2ff\",\"#ff58ff\",\"#ff75ff\",\"#ff15ff\",\"#ff7aff\",\"#ffebff\",\"#ff4cff\",\"#ff46ff\",\"#ffc4ff\",\"#ff5dff\",\"#ff4bff\",\"#ff85ff\",\"#ff6aff\",\"#ff7aff\",\"#ff34ff\",\"#ffdeff\",\"#ff0eff\",\"#fff3ff\",\"#ffe2ff\",\"#ff9aff\",\"#ffbaff\",\"#ffd5ff\",\"#fffbff\",\"#fff6ff\",\"#ff3cff\",\"#ff57ff\",\"#ff4cff\",\"#fff1ff\",\"#ffefff\",\"#ff29ff\",\"#ffd8ff\",\"#ff1cff\",\"#ffc8ff\",\"#ff69ff\",\"#fffdff\",\"#ffe8ff\",\"#ff5dff\",\"#ffa7ff\",\"#ff64ff\",\"#ff62ff\",\"#ffdbff\",\"#fffeff\",\"#ff2fff\",\"#ff81ff\",\"#ff4aff\",\"#ffe3ff\",\"#ff95ff\",\"#fff8ff\",\"#ff11ff\",\"#ff82ff\",\"#ff2dff\",\"#ff18ff\",\"#ff95ff\",\"#ff0fff\",\"#ff91ff\",\"#ff89ff\",\"#ff13ff\",\"#ff9bff\",\"#ff17ff\",\"#ffa8ff\",\"#ffb9ff\",\"#ff07ff\",\"#ff24ff\",\"#ffdbff\",\"#ff4dff\",\"#ff5bff\",\"#ff61ff\",\"#ff34ff\",\"#ff9fff\",\"#ffc3ff\",\"#ff38ff\",\"#ff68ff\",\"#ff3fff\",\"#ff36ff\",\"#ffa9ff\",\"#ff25ff\",\"#ff25ff\",\"#ff96ff\",\"#ff6fff\",\"#ff8aff\",\"#ffcaff\",\"#ff9eff\",\"#ffbaff\",\"#ff2dff\",\"#ffceff\",\"#ffe1ff\",\"#ff3aff\",\"#ffccff\",\"#ffeeff\",\"#ffbeff\",\"#ffb0ff\",\"#ffaeff\",\"#ff8eff\",\"#ffb4ff\",\"#fff3ff\",\"#ff39ff\",\"#ffa3ff\",\"#ffc5ff\",\"#ff0aff\",\"#ff41ff\",\"#ffb0ff\",\"#ff5dff\",\"#ff25ff\",\"#ff09ff\",\"#ff01ff\",\"#ff9bff\",\"#ff28ff\",\"#ffbeff\",\"#ff63ff\",\"#ffecff\",\"#ff53ff\",\"#ff22ff\",\"#ffa9ff\",\"#ffeeff\",\"#ffddff\",\"#ff6eff\",\"#ffb6ff\",\"#ffd6ff\",\"#ffa5ff\",\"#ff55ff\",\"#ff41ff\",\"#ff28ff\",\"#ff72ff\",\"#ff45ff\",\"#ff2fff\",\"#ff39ff\",\"#ff04ff\",\"#ffa6ff\",\"#ffd7ff\",\"#ff70ff\",\"#ff6cff\",\"#ff2bff\",\"#ff1eff\",\"#ff1dff\",\"#ffeeff\",\"#ff71ff\",\"#ffa8ff\",\"#ff25ff\",\"#ff8aff\",\"#ff70ff\",\"#ff8dff\",\"#ff23ff\",\"#ff7fff\",\"#ffd1ff\",\"#ffdeff\",\"#ff46ff\",\"#ff5eff\",\"#ffabff\",\"#ff9cff\",\"#ff09ff\",\"#ff87ff\",\"#ff11ff\",\"#ff3aff\",\"#ff94ff\",\"#ffe6ff\",\"#ffd7ff\",\"#ff6dff\",\"#ff7cff\",\"#ffd4ff\",\"#ffafff\",\"#ffd2ff\",\"#ff91ff\",\"#ff26ff\",\"#ffacff\",\"#ff3cff\",\"#ff63ff\",\"#ff8aff\",\"#fff5ff\",\"#ff9eff\",\"#ff0aff\",\"#ff50ff\",\"#ff0fff\",\"#ff6eff\",\"#fffeff\",\"#ff7aff\",\"#ff87ff\",\"#ff9bff\",\"#ff54ff\",\"#ff1eff\",\"#fffaff\",\"#ff8aff\",\"#ffb0ff\",\"#ff7eff\",\"#ffcbff\",\"#ffd2ff\",\"#ff25ff\",\"#ffe9ff\",\"#ffdbff\",\"#ff37ff\",\"#fffeff\",\"#ff8cff\",\"#ff01ff\",\"#ff35ff\",\"#ff9dff\",\"#ff37ff\",\"#ff28ff\",\"#ff6cff\",\"#ff0cff\",\"#ffa3ff\",\"#ff41ff\",\"#ff45ff\",\"#ffeaff\",\"#ffeaff\",\"#ffb1ff\",\"#ff42ff\",\"#ff03ff\",\"#ff7aff\",\"#ff84ff\",\"#fff8ff\",\"#ff62ff\",\"#ff1dff\",\"#ff78ff\",\"#ff92ff\",\"#ff01ff\",\"#ff94ff\",\"#ffb5ff\",\"#ffa7ff\",\"#ff65ff\",\"#ff24ff\",\"#ff55ff\",\"#ffc9ff\",\"#ffd4ff\",\"#ff61ff\",\"#ff92ff\",\"#ff68ff\",\"#ff2bff\",\"#ffa8ff\",\"#ff6dff\",\"#ff6aff\",\"#ff47ff\",\"#ffb1ff\",\"#ffbcff\",\"#ff04ff\",\"#ff4cff\",\"#ff95ff\",\"#ff27ff\",\"#ff74ff\",\"#ff0fff\",\"#ff9dff\",\"#ff34ff\",\"#ff2bff\",\"#ff30ff\",\"#ff11ff\",\"#ff3cff\",\"#ff8cff\",\"#ff91ff\",\"#ffd9ff\",\"#ff91ff\",\"#ffe0ff\",\"#ffb4ff\",\"#ffa2ff\",\"#ff1bff\",\"#ff97ff\",\"#ff75ff\",\"#ffa9ff\",\"#ff24ff\",\"#ff18ff\",\"#ff06ff\",\"#ff12ff\",\"#ffdbff\",\"#ff26ff\",\"#ff01ff\",\"#ff7aff\",\"#ffc0ff\",\"#ff69ff\",\"#ff86ff\",\"#ff9eff\",\"#ffaeff\",\"#ff01ff\",\"#ffe6ff\",\"#ffe4ff\",\"#ff49ff\",\"#ff4eff\",\"#ff3bff\",\"#ff4cff\",\"#ff29ff\",\"#ff2fff\",\"#ffc6ff\",\"#ffbdff\",\"#ffe5ff\",\"#ff25ff\",\"#ff71ff\",\"#fff7ff\",\"#ffd9ff\",\"#ff60ff\",\"#ff79ff\",\"#ff8eff\",\"#ff03ff\",\"#ff3bff\",\"#ff89ff\",\"#ff05ff\",\"#ffd5ff\",\"#ff31ff\",\"#ffc5ff\",\"#ff21ff\",\"#ffcdff\",\"#ff1bff\",\"#ff03ff\",\"#fff4ff\",\"#ffa1ff\",\"#ffe5ff\",\"#ffc7ff\",\"#ff18ff\",\"#ff65ff\",\"#fff0ff\",\"#ff66ff\",\"#ffd9ff\",\"#fffaff\",\"#ff51ff\",\"#ffd9ff\",\"#ffe1ff\",\"#ff21ff\",\"#fffdff\",\"#ff38ff\",\"#ff69ff\",\"#ffb3ff\",\"#ffe4ff\",\"#ff8eff\",\"#ff16ff\",\"#ff8cff\",\"#ff20ff\",\"#ff9bff\",\"#ff22ff\",\"#ff51ff\",\"#ffa7ff\",\"#ffb1ff\",\"#ff95ff\",\"#ff9aff\",\"#ff3cff\",\"#ffb0ff\",\"#ff5aff\",\"#ffa3ff\",\"#fff2ff\",\"#ffb5ff\",\"#ff69ff\",\"#fff7ff\",\"#ff23ff\",\"#ffdbff\",\"#ffc9ff\",\"#ff3cff\",\"#ff28ff\",\"#ff83ff\",\"#ff10ff\",\"#ff13ff\",\"#fffeff\",\"#ffa0ff\",\"#ffdcff\",\"#ff6eff\",\"#ff95ff\",\"#ff07ff\",\"#ffd7ff\",\"#fffaff\",\"#ffb5ff\",\"#ffcdff\",\"#ffd9ff\",\"#ff99ff\",\"#ff0aff\",\"#ff05ff\",\"#ff69ff\",\"#ffccff\",\"#ff6aff\",\"#ff33ff\",\"#ffcfff\",\"#ff9bff\",\"#ff24ff\",\"#ff9bff\",\"#ff22ff\",\"#ff82ff\",\"#ff6dff\",\"#fff1ff\",\"#ffb4ff\",\"#ff7cff\",\"#ff91ff\",\"#ff19ff\",\"#ffbaff\",\"#ff67ff\",\"#ff39ff\",\"#ffcbff\",\"#ff0cff\",\"#ff7eff\",\"#ffd7ff\",\"#ffc4ff\",\"#ff9aff\",\"#ff6aff\",\"#ff3dff\",\"#ffb7ff\",\"#ff11ff\",\"#ff99ff\",\"#ffa1ff\",\"#ff12ff\",\"#ff47ff\",\"#ff0eff\",\"#fffcff\",\"#ffd8ff\",\"#ff82ff\",\"#ff14ff\",\"#ff7bff\",\"#ffc6ff\",\"#ffd1ff\",\"#ffa0ff\",\"#ff79ff\",\"#fff6ff\",\"#ff7aff\",\"#ff5eff\",\"#fffaff\",\"#ff3bff\",\"#ff6aff\",\"#ffbaff\",\"#ffd5ff\",\"#ff68ff\",\"#ffc4ff\",\"#ffd0ff\",\"#ff96ff\",\"#ff73ff\",\"#ff7bff\",\"#ff84ff\",\"#ffdcff\",\"#ffccff\",\"#ff97ff\",\"#ff45ff\",\"#ff54ff\",\"#ff60ff\",\"#ff5bff\",\"#ff57ff\",\"#fff4ff\",\"#ff84ff\",\"#ff95ff\",\"#ff6fff\",\"#ff3eff\",\"#ff9dff\",\"#fffdff\",\"#ff69ff\",\"#ff9dff\",\"#ff25ff\",\"#ff12ff\",\"#ff29ff\",\"#ffc6ff\",\"#ff87ff\",\"#ff67ff\",\"#ff0aff\",\"#ffa7ff\",\"#ffe3ff\",\"#ff23ff\",\"#ff89ff\",\"#ff0cff\",\"#ffc0ff\",\"#ffbaff\",\"#ff8cff\",\"#ff19ff\",\"#ff33ff\",\"#ff14ff\",\"#ff97ff\",\"#ff9bff\",\"#ff8aff\",\"#ff3dff\",\"#ff40ff\",\"#ff9eff\",\"#ff4aff\",\"#ff14ff\",\"#ff3bff\",\"#ffcdff\",\"#ff51ff\",\"#ff83ff\",\"#ffc3ff\",\"#ff75ff\",\"#ffd2ff\",\"#ff0fff\",\"#ff94ff\",\"#ff10ff\",\"#fff2ff\",\"#ffc4ff\",\"#ffc9ff\",\"#ff22ff\",\"#ff46ff\",\"#ff0bff\",\"#fff7ff\",\"#ffe4ff\",\"#ff25ff\",\"#ff85ff\",\"#ff7fff\",\"#ffcdff\",\"#ff25ff\",\"#ffc7ff\",\"#ff5bff\",\"#ff4dff\",\"#ff02ff\",\"#ff74ff\",\"#ff0fff\",\"#ffbcff\",\"#ff3eff\",\"#ff2bff\",\"#ffccff\",\"#ff2fff\",\"#ff45ff\",\"#ffedff\",\"#ff98ff\",\"#ff20ff\",\"#ffe0ff\",\"#ff72ff\",\"#ffb6ff\",\"#fff3ff\",\"#ffe7ff\",\"#ff48ff\",\"#ff88ff\",\"#ff52ff\",\"#ffbfff\",\"#ff0aff\",\"#ff49ff\",\"#fffdff\",\"#ffe9ff\",\"#ff01ff\",\"#ff77ff\",\"#ff95ff\",\"#ff84ff\",\"#ff46ff\",\"#ffb1ff\",\"#ff73ff\",\"#ff71ff\",\"#ff60ff\",\"#ffb4ff\",\"#ff1dff\",\"#ff2fff\",\"#ff2fff\",\"#ff82ff\",\"#ff51ff\",\"#ff5fff\",\"#ffc9ff\",\"#ffbeff\",\"#ff90ff\",\"#ff94ff\",\"#ffa3ff\",\"#ff07ff\",\"#ffe9ff\",\"#ffabff\",\"#ff98ff\",\"#ff19ff\",\"#ff28ff\",\"#ffc4ff\",\"#ff83ff\",\"#ffbcff\",\"#ffdeff\",\"#ffeeff\",\"#ff9dff\",\"#ff0cff\",\"#ff8dff\",\"#ffb2ff\",\"#fffbff\",\"#ff71ff\",\"#ffb2ff\",\"#ff88ff\",\"#ff68ff\",\"#ff24ff\",\"#ff67ff\",\"#ff7aff\",\"#ff70ff\",\"#ff08ff\",\"#ffcfff\",\"#ff62ff\",\"#ff85ff\",\"#ffa1ff\",\"#ff0cff\",\"#ff0cff\",\"#ff4eff\",\"#ff2aff\",\"#ff02ff\",\"#ff60ff\",\"#ffa2ff\",\"#ff7eff\",\"#ff81ff\",\"#ff99ff\",\"#ffaaff\",\"#ff36ff\",\"#ff59ff\",\"#ffcdff\",\"#ff63ff\",\"#fffeff\",\"#ffe9ff\",\"#ffcdff\",\"#ff15ff\",\"#ff61ff\",\"#ffb0ff\",\"#ff34ff\",\"#ffe7ff\",\"#ff94ff\",\"#ffc7ff\",\"#ffadff\",\"#ff69ff\",\"#ff31ff\",\"#ffc8ff\",\"#ff59ff\",\"#ffc6ff\",\"#ffb7ff\",\"#ffa6ff\",\"#ffa8ff\",\"#ffd6ff\",\"#ff5cff\",\"#ff49ff\",\"#ff22ff\",\"#ff83ff\",\"#ff39ff\",\"#ff8fff\",\"#ffbaff\",\"#ff74ff\",\"#ffcaff\",\"#ff8fff\",\"#ff6fff\",\"#ff3dff\",\"#ff06ff\",\"#ff03ff\",\"#ffadff\",\"#ff4fff\",\"#ffeeff\",\"#ffe6ff\",\"#ffe7ff\",\"#ffaeff\",\"#ff75ff\",\"#ff81ff\",\"#ffd0ff\",\"#ffc4ff\",\"#ff1eff\",\"#ffa1ff\",\"#ff50ff\",\"#ff75ff\",\"#fffeff\",\"#ffebff\",\"#ff9fff\",\"#fff4ff\",\"#ff3dff\",\"#ff2dff\",\"#ff7cff\",\"#ff31ff\",\"#ff7aff\",\"#ff14ff\",\"#ff79ff\",\"#ff88ff\",\"#ff60ff\",\"#ff31ff\",\"#fffbff\",\"#ffd5ff\",\"#ff1bff\",\"#ff7dff\",\"#ff73ff\",\"#ffa7ff\",\"#ff20ff\",\"#ff14ff\",\"#ffe2ff\",\"#ffa8ff\",\"#ff39ff\",\"#ffedff\",\"#ffd9ff\",\"#ff6cff\",\"#ff81ff\",\"#ffbdff\",\"#ff03ff\",\"#ff6fff\",\"#ff3fff\",\"#ff4dff\",\"#ff24ff\",\"#ff3eff\",\"#ff98ff\",\"#ff86ff\",\"#ff58ff\",\"#ffa7ff\",\"#ffbcff\",\"#ff29ff\",\"#ffbdff\",\"#ff98ff\",\"#ff54ff\",\"#ff3fff\",\"#ffcbff\",\"#ff06ff\",\"#ff2cff\",\"#ffb9ff\",\"#fff9ff\",\"#fffcff\",\"#ffeeff\",\"#ff1dff\",\"#ffe7ff\",\"#ffb6ff\",\"#ffc0ff\",\"#ffcbff\",\"#ffc2ff\",\"#ff30ff\",\"#ff07ff\",\"#ff61ff\",\"#ff9eff\",\"#ff5cff\",\"#ff96ff\",\"#ffd5ff\",\"#ff6aff\",\"#ffd2ff\",\"#ffc3ff\",\"#ffd5ff\",\"#fff7ff\",\"#ffbbff\",\"#ff8eff\",\"#ff0aff\",\"#ffe7ff\",\"#ff8dff\",\"#ffc5ff\",\"#ffe9ff\",\"#ff20ff\",\"#ff9aff\",\"#ff29ff\",\"#ff96ff\",\"#ffccff\",\"#ff8fff\",\"#ffa8ff\",\"#ffefff\",\"#ffe4ff\",\"#ff06ff\",\"#ff38ff\",\"#ff05ff\",\"#ffc1ff\",\"#ffa9ff\",\"#fff3ff\",\"#ff41ff\"],\"radius\":{\"__ndarray__\":\"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\",\"dtype\":\"float64\",\"order\":\"little\",\"shape\":[1000]},\"x\":{\"__ndarray__\":\"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\",\"dtype\":\"float64\",\"order\":\"little\",\"shape\":[1000]},\"y\":{\"__ndarray__\":\"//kxE68bKkDmwfva2HEjQGKuXyGC8EVAlj64fN2GRECiBddVnvdVQJXhocUDFShAyWnyjwgMSkD5MxVOkl8wQEaqDHw+NkdA33H9a+DqRkB9UehyJW9XQNA+TuUG8RpAWAv2k+jQVUCASgbXWM0WQCe+6JxLfFZAuCIP2+jNVUAw7teXljEpQLJw+v0djUBA/cf9F2iDUkCcIYP87awsQMFag1mSuz1AKPnqgOgBPkBfDnxJg9hWQMZhdovARDNANxQKQoUhTkDas9Tv9vFEQHDlBCGSfTdAf2LDgwwuTUC8iUnBP4vrP9Rro5BnoBNAiwnB+jaBWECQduEbaZMiQLCsHnbo4RFAwMBTDW4JTEAZ8d3HmbpYQL01erZCzEJAShyxh3FEUkCHQmFJbMUIQHO1Oc65fEpAAeECjYQ2VkCABg9ajX9UQFEsBMgw3D5Aej066CYpUkDQyvHWfp3hPz4Z0UGo2BxANpK4KythEEBYMqyieJM0QEQD0qW7tjxAQ1/IVBN7TkDiyK2uUyFCQP14svd/VTxAXIUJraaMUUAYc8RXuHNTQHRgbIS67FZAAI1GlVlaVkBEPPzCPrk7QECxCfquCVFAg/S13ilFJUBUXInCzqw8QC8W6AL0NlNAHQlyM7YKMEDp8mpTrjdTQAQGzo2EdVVAOMbmFlUgJUD6XOpxwCpEQHzK2HJsIk1AkAoho3nGR0A6CGsPQzIWQG84uXq25TxAB8Dk1JxEV0AF5ts0rhtAQDGAaW80EVRADzPuDXpENkAC+w8GDWtXQCJNQi222EJA6CelN1GKJ0BwrDAWIMI2QF7S0RaTHFhAPyCWiAXyV0AIW4OdTwBTQCaP/8HHE1dAt7Vyqs+eQEAS1sUnDlpWQDJoou3fuU9AYgFCO2DWUkCUVbvZZb5YQNwJKDszf0BAkQESKxmRMUAFOU4o1stJQF5kkVFvNVJA63QpHEp/T0CdmuoDQelVQBR/ZLczY09Ah77lBY4tTkAbbmzqiqUsQAYZAV5yoEFAs34Z/5uwNkDNtX1oTbVVQCZNYVkLczVAPaVshvDJNUCnVimk+3VSQDFlj92AuANAmJpwx01rS0BXL2ACjf9WQM81AKDXvFVA9j3KxkM1NUCLct/67fNSQIkE3feAck1AKYNDXlofQkDS4qOYSFlRQFk/cs2TK1FAIuvJaBTVUUDEI+F4b9BNQISYQcM+y1dAbwJec/4lRkDkkp+KNpDvP6H4+ZgtoVhAjpuGshFGS0CLU4YlB6pDQN5t+vGMjDlAOrXt/Qs+MkAY+RrnR1dRQNLvjIOMzUtAmPuG+vnxUUCiPcq91XhQQC4Qmnldj1hAuHeZ8gW1MkAYotRdE+ZTQEQ1I2W+lE9AHitX3cP4REBbOTT/FoUjQC6DQYpFIU5AvQW7P1rlRECaAK2zmqdXQEScvn4OQTtAwD3yojWWO0BAO1rksVY3QCHaGeketEZAOR82NVprUkC6fiHeU9NRQAwaSfVzvDxAZXx2AUcKV0D6otWa4Iw8QAtFKV9qVzZAUWUNRlR+QkBIIM8ko3xUQPgRzxgnaFJACTBugYyUT0ByeK21gfxYQP9YQQW+pFhAbLQITHzlV0CDlHnez+lMQLqii20DaSVAuk3k7eYBS0B4qz264xhXQJng/mHeCFFA7SKP2L3VVEDO/w5RKCRIQAJfiCSoVSxA3kWmyvgiUUDg26Hwwl84QNsh5ROJqihAE/JJS93AWEA8PaxnTBpAQH3y44SfKVRA1iGfvA3jUED9kIbkeU5TQFyPps+xkFFAMXhYz74IWEDlMY4ar/dAQHmOAjLJ+UBAGWliBRKORUD251EYUpQzQE3mwqXrqxdAPyfPL43nUkBTlGrR9JhFQBtZzbNcTkdAl1V/6x/FRECHMnyr3ldNQPHiLl1IOj5ATuf7DxkxQ0DiFCQkok5HQMBilu3M9UVAQZgTXvtwV0C5KNe7VE1QQMyqOuwOZzpAxCsqhChKJED6FEp98kNSQEYTkvJGQj5ANWMaNCIrOkCX+upd8U5VQLL06wCr7VNAcpdmJtbHFkCAzFmkcy8kQJHCTBVHqlJAxzl6Ds3LU0CJ87G27ckMQChfBGdQL1RAUtinZ3zFVUBViP7ZslxVQPqt1dJpHVVA+Lmhp2W7N0Djq+VHT/g4QEj5+l0vh+0/C1JmY7ZiIEBDhYLVzeFYQF4XeBgc5FBAqs7+WS34QEBCMB3Ro5UfQEs3t4lNhUBA/3Ky81Y7V0D4N0xBH6IQQFUPzgzyW1dAAO5XgBBFRUCldVnTV040QMOPu/R8wkBARp2ZEK9/R0Aqa+SchttHQCTmgwqZalZAWP/lxkT2QEDL+2Oo4GFSQCS5SYxj9FJAvr969hph/D/Zy4O3tOpBQOg8P+8t7yhAHhP5+XjPVUD9VWuB45RRQC2M4KeqKi9AQ8FJZ2SzFEBveI0nNHxJQJGHKpXtX1BAKs2J+ecSUUAKfoSs7iBRQPIkh45WIjJAZmitAjpdOECiye0Mt+RXQBwrgl9i9ExAplLMfwrdR0A08I6xlLtWQFTYAeoszS9AMBSg/rTeUkDoQIFRWnJUQEz/EIbhOFBAxZWBnJXbAEDIkmWGKj1RQICwe4yaq6w/3OHbSpwiM0DPw0wYZppBQNbfYgWYjlhAftB61x4KUEAZtOVc55JNQPJQ2RERSSJAZXAut3HtR0ABWU9YJHZRQEM+yTmIozlAadzrn2S9UUCYBMiNOepWQIGTwhVhqD5AR7EboExcTkDdv71K7VcKQKqrSvJMpSRAY4WSYF8UU0BbPjwziMIyQKjxMngX/jdAiB1IGq/OREBLZPdXHlAaQDBHK5lI0iNAMfFFWylNRkCsypZH4dZBQJowlY6vST1AS0q+3LjdUUAVVAPPMlFCQEsdi/AZKUhAbQyDkESgR0ATzLeA0yg5QEXMSkBiD01ARb2WdWltSUA6Aw2+WrcrQKFftGJC4VNAWFwQ0SIMNECF7Ucc8ghTQJn8GTniMFRAXszgMoKHQkA47J3EjJhUQO/oHKGIYUFArpP7ea3/RkCX7x/eEaMgQMaHj+lPFUhA11eU74QMV0CYuufP0dI9QO+CVNXSwTtApx1Ti409U0B9l+eZUEhCQL18X1WRvj1A1925mDQkSkDuwV8otclEQBBz2DI3AkhAmf5uZjGzNECOqcVsjc5VQCbV9h+ppBZAv/0VbajmV0CCrqeKkypWQLb4an2oU05Aram0FFpTUkAE/am4DudUQDsoP8rzsVhA89Luu3khWEACS/CIa5w3QKLK7Kw5FUFACslqyXojPkBMsv6jbLlXQDoeZC5phVdABBo7UcIlMEBBuW1pwC1VQGf1a5g2GyZAsVT9WrShU0BgfpTBwKFEQI+9YANG11hAN5fevIfOVkD9RpDIFEpCQIGhDAKYblBAllwaJODGQ0Ak97/5k2JDQP54chp8i1VAPf1hSJn3WEDXv005E8AyQDnrsiU9fUlAZivLrzQZPUA7V5SJxk9WQCRY78eBXU1A3S9dpAJYWECWVH+pDmUbQC42+cAboUlAzpARQfr7MUC3zzIaPRQjQNArP/alYU1AciuKpDqOF0BpmrxTHZZMQHhrGd6W5kpANhivbaP5HUCaNWX4lIZOQL6YSuRzZSJA9MOnX/SPUEDlcBQ2FTpSQLUSpyMwRAdAXwI7fTqFLEAoW9ejhIVVQOAvR0u+aj5ACTvMgMvuQUCGQiJQEQ5DQB3ne2xCkTRAYwIQqaNOT0Cc6mmMfyZTQB3dNBuEHzZAo3OAVddxRECXUAzcAQI5QL4XBBgZjzVAGEwMEbejUEBJQFTDr7UtQDxpuxUobS1AcfdQtwOBTUAFE21yUspFQH69QC6gJ0tAHnOd1vbUU0DPoJNDigJPQLiD+tTQQVJALWjeYM7eMUDA4IYFvzhUQAVKJ9sRGVZA8jgi7woUN0D3oc7FtQ9UQHK3zSqoaFdAuFSs+FyjUkC7LFXYVk9RQM4bh3CcElFA90BOei7vS0BELjANS65RQAyibewy01dAEcYtRF1vNkAAq4X6cAhQQJTId0huUVNAhsUlrgkVEEC8V9r1kMY5QC/dUnLgVFFA0OaSJCJnQkB3aNTLbQgtQNL+1Ko2Mg5A8Ie/bvYQ5j8fHSsYNIhOQLGtDg6exS9AES2LchWyUkBCfCB+RHRDQC+z0s+2J1dA91SAu2ZcQECKkTJ48GsrQCtitu34nVBAEMR2g3JeV0CLoU7Ol8BVQPq0CWNAtEVAgeZ7ODHcUUBmiMOv0w1VQJ5uLAS/MVBAzxdNmxHFQEALQ7ZKQ9U5QOsBSCvH3C9A6yWNyUyJRkDsCM/Rgks7QDV1MLu6mzJA7XrL8cxrNkBSZS92fjL/P2BcL0NJVlBAYlhnkroZVUC4B+8t1B5GQNf58DEvMEVA+ZwhXkX6MEBi/6uv0oknQMo8KK4nPydAnLe9J0VcV0D28eomPDJGQAFtnqVfflBAOZvvLXQXLUBnSkMiRjtLQI9+JE5hE0ZAlZeQMOvNS0C9OHEptcIrQJ5jShipFUlAR393HxB+VEDKQoRNwsdVQIUapp/gfTtAliurFPqAQkA92AFp88ZQQPg9NBHtnk5AS4439bkIDkDMsYGMOYpKQBx2R2+wShtA/U1cWUf4NkAWupJ8zzVNQJeiUHYSnFZAEIBsWN0hVUBbH1fbY2BFQNtcipJPYUhAXcpfXqbWVEBZH5y2jjRRQCpbITZfmFRAAq/E2JJ6TEDS6ph0ORkuQMYNdZFb3lBAzIJF1U2TN0BJeXPZ4nhDQG9PgruNKktA6yb6NjUIWECx6L9eQgpPQBHmn8OKZA9AzR5qIRKzP0CGCwHxjHAYQNZ10CGwlEVAyJfDa6v8WEAMzPBq4P1HQAaVvArtmEpAUYhT1ThoTkDjgaQ1GqBAQDYGfDNlCShA/ei/MZ6RWEALXgLdFSdLQHYeI5IZTFFAo5eZki3iSEACKrAZK/FTQPJX9+NEm1RA5rRGJ0y9LUC72B+6mOdWQLEdig+rkFVAfTbWi+GpNUCOrk5vi+lYQG+TPsipoUtA0JdZLCeH3T/EaBXcWRU1QFmJqu6b6E5AwWQEtdiuNUBng04EF3IvQD4hSAVGWUVAPK4Z7aoUE0D/ypANWAdQQGo+5raYxTlAV33mdmMUO0CLhqaDkQJXQMOZPRpfA1dAtZtmt9pmUUAIjRKcEgk6QMJEKo5bpfc/oLFcdo8ASEBk102myPRJQLirOfhDZ1hAbDEK3uc+Q0CqLOaelGQnQHIL9Lmfq0dA2aRgWkCoTEBw2q97+8bcP6qty54jN01Axrd9I1HBUUAYU0yEaHFQQP7mMoz2zUNAGqcTCXO6LEDAijVKNcZAQJF+aiEswlNARo23Cl/gVEALYQVU2SNDQGnzC7/zy0xAwcR2JCRqREBzJ24YvSoxQKPGKAx2jFBADdSQAEiPRUCPmThFvu1EQMt4vhqpIzxAoK6mLiZyUUD+2qVE+4RSQIDChN8jYv4/l4I+ruHrPUC9Zm14BDhNQO4KcL3f1i5AM9YjxHDXRkD7lOPVftgYQAawr+m79U5A5rjfmjaeNEC6jB513ioxQOluoopaJjNAWt+2BHcgG0APB0RwrLU3QOgYt9oJgEtAo4o/JaZ+TEBbIqdII05VQBFyokJcgkxAZlUNws8DVkBOckmLdrRRQKH/WZ37xU9AgWzKW9NYJUDB8EriMspNQI4JfrQ/DkdA6bzR986oUEAerTcOhp8sQLrmkIaZQiNAqoyrt4tvBUCYldTVK+ccQPbfaB4mhVVA+cYC5mTULUBYx9/E927mP0GDvtGpGUhAZcQ2fgbnUkBxus1szKhEQG5vqzHZd0pAx26JFDsUT0Aa14hP+iNRQNhdERLL790/iasYJGiPVkAsUIfsl2BWQI1m9wGGuTxASAIW973oPkDN/psQmEc3QIzFFtdjDD5A6NeJ8c5pMECw55q0/rUyQMm8eriJeFNAMSk1CDGUUkANbQBwQnRWQHRsPuUEEy1AlOvobHczRkDR8h+N6T1YQOe/iDvZSVVApRu6dnLrQkD/1WAn+OFHQDINQyjyA0xAAqVaRRAh9D9mfAqeWFM3QHldoh823kpA7ssjeAQvAkDHrmGz6vRUQHKAg4vgkDNAEg1fJy9lU0AhCXPctJQqQOXQK/JNJFRAAeEaON6tJUBOIS3HEPz2P6Dke1je7FdAQApCQJuYT0ATKsPORYpWQGAzbEP/hFNALPvNmzbZIkB7WMQxV/ZDQJMj50PQmFdADyBtS8ccREDtSnVIg0lVQKKOJhQ3iFhAbs8VJNHkP0BR9lBC6VNVQHiKCStJD1ZAarLaapsCKkDgyPVJHORYQIy7MxpmJTZArgKSqxueREDQOv4yuaFRQCoGVOPVY1ZAZWtTEBHhS0DqtodZrbQhQLERqJvopEtAf5nM+eqEKUCBnvE+V2pOQM6C6etScStAJU5T/2bNP0DpBa1BOXRQQK92i7s8b1FA1bISVCQ6TUA5Sjw4xE5OQIro2NTNnzdAmeJ7xzZLUUCytM9y5bdBQNXfdCZXBVBAA+SWHBnJV0D5TO3En85RQGZlI+wroERAou7j0M1NWEBlMrWf79YrQDZIXySgeFVAy9063uy7U0BQGKNzapE3QP6OyUEqzi9A2FEH60iwSUCgv4pBh2UZQLRFIBeTzh5AXQj34sX/WEDUH2Qz/JBPQFhjkrOcn1VAs+M3zYS7RUCtnkxyz2BNQMYjZHZgrwdA0AiqDosoVUCfhq2oNINYQKEj5ZroyFFAzlttAaIxVEAkAWqiJUhVQHAwNlNkF05AS9UcRTEEEUCBzT3FcHgAQIUW3kFKl0RA7LXeq2QKVEB3ZawK//JEQPDzrLdyEjRAYW2PdiNeVEA3LJwpKndOQLqaPSZnaSxAoYsqTvFoTkBLFZqhMvIqQG37VP30g0lAdkpK7pyGRUCypBbrUqZXQFOZ28OluVFAV5w8E4F/SECDm+LR94RMQHwZqXLdySNARHrMUwNIUkDhlaWzeGJEQH0vTOv5kTZAr7xAjA73U0BMY8uuPZwTQMEMbdjT2EhAH3ncBxoaVUD2VKHhLT5TQAH09qY2Vk5A6paLMk/3RECE4qNmRE44QMraf2YQ9lFA3KuI2nF7G0CZtTlECxhOQHI63hUZq09AkogSy321HUBgrGbGhO87QKCCTn5JGxdAnNc5Yk/JWEAfdcUZqz5VQK+EHj9DjElAeBSeEgWbH0DRKR+fhTVIQPuaVsdHdVNAQjTR0amDVECYwewOPGBPQPMi1OxP3EdA0cEVJHsyWEBUDTfaTvZHQAleNO6fnEJAlRH5aiSSWEA0keeSF1A3QCOX6JQ95kRAnYx6L+s/UkDAzXCATvVUQL89RJfZh0RAWkeRi8NMU0AO5lq0lXJUQFvo+zbjeU1Akho2jLu9RkC3s9XBQyZIQLw13JxrC0pApWuxxQCjVUCttuzuEANUQGEkGU1Vrk1AkumiYCVXO0Cp9sqkZIFAQAAIHipg7UJATIjHue/3QUBIVDuU1CxBQKE1J9Mv9FdALIz0pCv/SUC+Fs6gx2hNQCd/szr64EVAujag8pZQOED0j/vUQfhOQHoUZK6x31hAKEA1QUeqREB4GhIoxOJOQJ4L/m/Fqi1AqCnVTeKZHUCpVu8kjGkwQL9cNcUogVNAK+QHMNOJSkDTiaQ1aDtEQIwh3dFMhBBAsCfd/ilvUEAG8iah3ktWQP7sPH2IGyxA4qkPHwMMS0B6GzBt60wUQNa6x1RG5VJACfQjIiFIUkCfeFII/XZLQM5lQ/i7MCRAKNAJ7nwrNEBfHte6o1QgQBEXaqtas01AYJIHWPB1TkDZIQU4AC1LQCmeDcn9TDhAia/IBBZgOUCOtJcSSRJPQMzmH8LMID1A5xvuD0DbH0CHTS4ns343QOV8puapK1RA2wkQf5nWP0BuqaKEwM1JQHMKbgRKNFNAnLMC4MUMR0CeNp80661UQHqEDsxZ7BdAw4YeNmkITUDesz4LF0YaQMA1vAS5wVdAzcXHE1ZAU0AO5G2xyrpTQBQUvuHdJCtAo9268z/AO0AOT/gVrEcRQKmgeR/RTFhAt3T9qbJxVkD8ArEcu1otQL8INmvBQkpA1TNzkV0PSUDm6z/bqBxUQOI+0BOxry1Amkm624eCU0CY2r3JnelBQHMezdzCkT5A6ERz3k038D9UYgqjEeBGQK77x2bb2hhAnky/lBx5UkCG8IvyLpk4QHAR3kiIJTFA49IMUBQGVECgggs+vnwyQC4cGT5AEDtAxgmRonpKV0C7fiqlrttNQKpfjjOKVClAbZwzD8r+VUCnqOhHfWtGQEPIJ/zX6FFAvXM/MlHoV0CxxumEsadWQE7X6IPTdDxAVH1bGWXJSkDilYlEmitAQKqUwPb3uVJASHcGFQGREED3KC6HCfA8QCyCIXC11FhAKCvHeSLpVkCcUDJzU9/iPwUxOVJAYEdApDeornRnTUCbY96GxftJQBeyH95OzztAdzkle6RjUUD6FAdS4Y5GQE40Hn5QMkZAI9epsnDrQkA4CYeDwq5RQMnLCGVDZSdATLRgApicMkA9IUP+dq0yQAtRDuSFoUlA4iov2bsTQEC5OduIG8RCQK0VA1R+zFNAJWdMyGKoUkD6gR1Z7GVMQFoRzzZuE01AVjptVpYPUECxk+MGnroIQHNZHnCf5FZAOJ6cWiLVUEDA/yLFgupNQAep62IREiRAzwcUxT5hL0CEKT3MjTdTQLNIJEbG1ElAnXPvRtFyUkAO4hs5EM9VQH7j0C9KZldAwhfX98b2TkAAcO7Y8AYUQCoF7Um4wUtAkCgZoeF6UUBTcnUDi6dYQPGGQkiZWEZArXzkLn+EUUBGEaoISrpKQGsQXNnklURA6pUNTKRZLED17MEX+U1EQNQsTVy0GkhAfA/Jlz8gRkBE4vtbyEgLQOmLiW3aUFRAPoK/5RloQ0AV0L1lnSpKQNXQm50tm09Aoim6DrmhE0DjqGRWt7YTQEjGcnWGpD5AX9Kdnk+XMEAYsXKUFS7uP2++Vp0l50JAMvszz0HyT0AMT2l7VbZIQC7RgXNreUlAQ6RzpREMTkBbURkOh8FQQOOa+FdKOjVA8RW+Ri+BQUDfm0pYYDBUQFJ/kugPiUNAtNrqWWX+WEAq4UoVMO1WQGocY0znIlRAjBRAl1ccIUDmUUX5mwZDQBtyd+jCS1FANjxsB8SZNEBY/Qvk8KdWQCzpdkM7JE1A0QQsCYqbU0CedPnnLf9QQEvfPloax0RAl6hQUwJEM0AlpRr73a5TQMgYToJun0FAePiccOJ/U0CjF7alrwdSQAMwEIEUXlBAn1SP2SiMUEDov2wcigNVQGXCw2ytHUJASKooBV34PECtRoaTnkYrQKSOQH3Xx0lAg1E7q/VaNkAITtjadjNMQGIXy79HP1JAx7nnRtLKRkC9laWAgeFTQPuGBO0KNkxAzfebd23NRUDZYOO6dQI4QNHPRp/ycgNA9rtPedh6+D97z96zNgxRQGtP1TekLD9AuD1d6DBoV0A8o+eQrqNWQI56kL0evVZAJKsCCyUiUUAMtH+vhgdHQFcDLOB0a0lAz2Lg/DNuVEB1Q2mgLENTQLSAO/DyRChArvjtxayhT0CwxAeSw78/QG3CkfIPF0dAOWsDaDr/WEDaU9sIeR5XQLWcuLX/OE9AgQtL/8P5V0AKbWg03TI4QKdpl4lQvjFAIhNwlxxxSEB1Gg0qV3YzQBQyoJX7F0hAJvQj8oGfH0DS3UP3mbxHQJkw3+RwvUpAzeeUb8ngQkBOeMHq1l0zQLcHvF3GqFhAQmR5e57wVEBkjYPq3EMlQHzH3nQAmEhA0p2eqnG7RkCGkqJud2hQQJYJD851hilAveqkKkmiH0B6ReEptj5WQHlt6Az7hlBANnqSDkmsNkAkbCr3y0lXQLmM0tpdUlVAFy/5iv5FRUB7WJ2/T3BJQE2AitN5nVJA0qUwU2dK9j8i4jyL/OxFQPy22ooW7jhAhPGk3Y+FPkC0n0ZjZa0sQPsqqn28mjhASXjHkGvYTUDuIMjwSHhKQHwAQ6NXZkFA4lySXVF2UEAeDFakI39SQKJrRYihRzBA/iSADTmWUkAjlZds381NQGxVjGtEnkBA+eHVh+nvOED1Fh9LKPBTQMJPJ2/rSARA+7bQIYtPMUBXzGeJpDBSQPoUV/1LalhAUJ8NhsfGWEDkLIBw0mxXQJVXaPWjHSdAfjfD8nyqVkAa3SLPVdxRQAyyk25g1lJAUiNeUWv1U0CKXIrDhg5TQIKJ594XCzNAL1YR5BP2BkAhHD66GAxDQMl3OrhBI09AJW9wBs4rQkBrjEpDBHBNQHHyxhyj+VRAU3kToprvREBrQDqo3ZxUQGEwzpWfIFNAfHIqsTrtVEAQCtFHMklYQFHjbIhIVlJAMQOb+enpS0AzVYidJwoRQPWThEuoslZAUc37naPFS0CrwevxB2NTQFzcxcFZ41ZAPtnZqn1PKUD9+6vAFkxOQCLdW4kzHjBADG44TPNuTUBbGThCIhNUQKr/mKuBGkxARwSqt66GUEDJNdIy7HZXQJm0WyouZVZAAnpfiYyjBUAUv/G3jDE2QAr2r6nKhwJAHleLI/L7UkCt3KeV/qJQQFt+cvVb3VdAmF0egBaQOUA=\",\"dtype\":\"float64\",\"order\":\"little\",\"shape\":[1000]}},\"selected\":{\"id\":\"8189\"},\"selection_policy\":{\"id\":\"8188\"}},\"id\":\"7883\",\"type\":\"ColumnDataSource\"},{\"attributes\":{\"fill_alpha\":{\"value\":0.1},\"fill_color\":{\"field\":\"fill_color\"},\"hatch_alpha\":{\"value\":0.1},\"line_alpha\":{\"value\":0.1},\"line_color\":{\"value\":\"darkgrey\"},\"radius\":{\"field\":\"radius\"},\"x\":{\"field\":\"x\"},\"y\":{\"field\":\"y\"}},\"id\":\"7885\",\"type\":\"Circle\"},{\"attributes\":{},\"id\":\"8189\",\"type\":\"Selection\"},{\"attributes\":{\"coordinates\":null,\"data_source\":{\"id\":\"7883\"},\"glyph\":{\"id\":\"7884\"},\"group\":null,\"hover_glyph\":null,\"muted_glyph\":{\"id\":\"7886\"},\"nonselection_glyph\":{\"id\":\"7885\"},\"view\":{\"id\":\"7888\"}},\"id\":\"7887\",\"type\":\"GlyphRenderer\"}],\"root_ids\":[\"7850\"]},\"title\":\"Bokeh Application\",\"version\":\"2.4.3\"}};\n",
       "  const render_items = [{\"docid\":\"8f339c44-5513-4a94-b53a-4a2318ee6a35\",\"root_ids\":[\"7850\"],\"roots\":{\"7850\":\"9079f3df-3df9-4bc4-924a-daabcba26292\"}}];\n",
       "  root.Bokeh.embed.embed_items_notebook(docs_json, render_items);\n",
       "  }\n",
       "  if (root.Bokeh !== undefined) {\n",
       "    embed_document(root);\n",
       "  } else {\n",
       "    let attempts = 0;\n",
       "    const timer = setInterval(function(root) {\n",
       "      if (root.Bokeh !== undefined) {\n",
       "        clearInterval(timer);\n",
       "        embed_document(root);\n",
       "      } else {\n",
       "        attempts++;\n",
       "        if (attempts > 100) {\n",
       "          clearInterval(timer);\n",
       "          console.log(\"Bokeh: ERROR: Unable to run BokehJS code because BokehJS library is missing\");\n",
       "        }\n",
       "      }\n",
       "    }, 10, root)\n",
       "  }\n",
       "})(window);"
      ],
      "application/vnd.bokehjs_exec.v0+json": ""
     },
     "metadata": {
      "application/vnd.bokehjs_exec.v0+json": {
       "id": "7850"
      }
     },
     "output_type": "display_data"
    }
   ],
   "source": [
    "# generate some data\n",
    "N = 1000\n",
    "x = np.random.random(size=N) * 100\n",
    "y = np.random.random(size=N) * 100\n",
    "\n",
    "# generate radii and colors based on data\n",
    "radii = y / 100 * 2\n",
    "colors = [f\"#{255:02x}{int((value * 255) / 100):02x}{255:02x}\" for value in y]\n",
    "\n",
    "# create a new plot with a specific size\n",
    "p = figure(title=\"Vectorized colors and radii\", sizing_mode=\"stretch_width\", max_width=500, height=250)\n",
    "\n",
    "# add circle renderer\n",
    "p.circle(x, y, radius=radii, fill_color= colors, fill_alpha=0.6, line_color='darkgrey')\n",
    "\n",
    "show(p)"
   ]
  },
  {
   "cell_type": "markdown",
   "id": "20554d09",
   "metadata": {},
   "source": [
    "# Color mapping with palettes"
   ]
  },
  {
   "cell_type": "code",
   "execution_count": 49,
   "id": "97b95650",
   "metadata": {},
   "outputs": [
    {
     "data": {
      "text/html": [
       "\n",
       "  <div class=\"bk-root\" id=\"bb4a29f8-2074-47a7-8876-702bb0424c4d\" data-root-id=\"8242\"></div>\n"
      ]
     },
     "metadata": {},
     "output_type": "display_data"
    },
    {
     "data": {
      "application/javascript": [
       "(function(root) {\n",
       "  function embed_document(root) {\n",
       "  const docs_json = {\"7aa8b761-f2eb-47ac-a2e2-8d878d11ccf8\":{\"defs\":[],\"roots\":{\"references\":[{\"attributes\":{\"background_fill_color\":\"#20262B\",\"below\":[{\"id\":\"8251\"}],\"border_fill_color\":\"#15191C\",\"center\":[{\"id\":\"8254\"},{\"id\":\"8258\"}],\"height\":250,\"left\":[{\"id\":\"8255\"}],\"outline_line_alpha\":0.25,\"outline_line_color\":\"#E0E0E0\",\"renderers\":[{\"id\":\"8277\"}],\"title\":{\"id\":\"8581\"},\"toolbar\":{\"id\":\"8266\"},\"width\":500,\"x_range\":{\"id\":\"8243\"},\"x_scale\":{\"id\":\"8247\"},\"y_range\":{\"id\":\"8245\"},\"y_scale\":{\"id\":\"8249\"}},\"id\":\"8242\",\"subtype\":\"Figure\",\"type\":\"Plot\"},{\"attributes\":{\"coordinates\":null,\"data_source\":{\"id\":\"8273\"},\"glyph\":{\"id\":\"8274\"},\"group\":null,\"hover_glyph\":null,\"muted_glyph\":{\"id\":\"8276\"},\"nonselection_glyph\":{\"id\":\"8275\"},\"view\":{\"id\":\"8278\"}},\"id\":\"8277\",\"type\":\"GlyphRenderer\"},{\"attributes\":{\"axis_label_standoff\":10,\"axis_label_text_color\":\"#E0E0E0\",\"axis_label_text_font\":\"Helvetica\",\"axis_label_text_font_size\":\"1.25em\",\"axis_label_text_font_style\":\"normal\",\"axis_line_alpha\":0,\"axis_line_color\":\"#E0E0E0\",\"coordinates\":null,\"formatter\":{\"id\":\"8584\"},\"group\":null,\"major_label_policy\":{\"id\":\"8585\"},\"major_label_text_color\":\"#E0E0E0\",\"major_label_text_font\":\"Helvetica\",\"major_label_text_font_size\":\"1.025em\",\"major_tick_line_alpha\":0,\"major_tick_line_color\":\"#E0E0E0\",\"minor_tick_line_alpha\":0,\"minor_tick_line_color\":\"#E0E0E0\",\"ticker\":{\"id\":\"8256\"}},\"id\":\"8255\",\"type\":\"LinearAxis\"},{\"attributes\":{},\"id\":\"8587\",\"type\":\"BasicTickFormatter\"},{\"attributes\":{\"data\":{\"x\":[-32,-31,-30,-29,-28,-27,-26,-25,-24,-23,-22,-21,-20,-19,-18,-17,-16,-15,-14,-13,-12,-11,-10,-9,-8,-7,-6,-5,-4,-3,-2,-1,0,1,2,3,4,5,6,7,8,9,10,11,12,13,14,15,16,17,18,19,20,21,22,23,24,25,26,27,28,29,30,31,32],\"y\":[1024,961,900,841,784,729,676,625,576,529,484,441,400,361,324,289,256,225,196,169,144,121,100,81,64,49,36,25,16,9,4,1,0,1,4,9,16,25,36,49,64,81,100,121,144,169,196,225,256,289,324,361,400,441,484,529,576,625,676,729,784,841,900,961,1024]},\"selected\":{\"id\":\"8590\"},\"selection_policy\":{\"id\":\"8589\"}},\"id\":\"8273\",\"type\":\"ColumnDataSource\"},{\"attributes\":{},\"id\":\"8588\",\"type\":\"AllLabels\"},{\"attributes\":{},\"id\":\"8589\",\"type\":\"UnionRenderers\"},{\"attributes\":{},\"id\":\"8259\",\"type\":\"PanTool\"},{\"attributes\":{\"coordinates\":null,\"group\":null,\"text_color\":\"#E0E0E0\",\"text_font\":\"Helvetica\",\"text_font_size\":\"1.15em\"},\"id\":\"8581\",\"type\":\"Title\"},{\"attributes\":{},\"id\":\"8262\",\"type\":\"SaveTool\"},{\"attributes\":{},\"id\":\"8256\",\"type\":\"BasicTicker\"},{\"attributes\":{},\"id\":\"8590\",\"type\":\"Selection\"},{\"attributes\":{},\"id\":\"8264\",\"type\":\"HelpTool\"},{\"attributes\":{},\"id\":\"8585\",\"type\":\"AllLabels\"},{\"attributes\":{\"fill_color\":{\"field\":\"y\",\"transform\":{\"id\":\"8241\"}},\"hatch_color\":{\"field\":\"y\",\"transform\":{\"id\":\"8241\"}},\"line_color\":{\"field\":\"y\",\"transform\":{\"id\":\"8241\"}},\"size\":{\"value\":10},\"x\":{\"field\":\"x\"},\"y\":{\"field\":\"y\"}},\"id\":\"8274\",\"type\":\"Circle\"},{\"attributes\":{\"fill_alpha\":{\"value\":0.1},\"fill_color\":{\"field\":\"y\",\"transform\":{\"id\":\"8241\"}},\"hatch_alpha\":{\"value\":0.1},\"hatch_color\":{\"field\":\"y\",\"transform\":{\"id\":\"8241\"}},\"line_alpha\":{\"value\":0.1},\"line_color\":{\"field\":\"y\",\"transform\":{\"id\":\"8241\"}},\"size\":{\"value\":10},\"x\":{\"field\":\"x\"},\"y\":{\"field\":\"y\"}},\"id\":\"8275\",\"type\":\"Circle\"},{\"attributes\":{\"overlay\":{\"id\":\"8265\"}},\"id\":\"8261\",\"type\":\"BoxZoomTool\"},{\"attributes\":{\"high\":1024,\"low\":0,\"palette\":[\"#30123b\",\"#311542\",\"#32184a\",\"#341b51\",\"#351e58\",\"#36215f\",\"#372365\",\"#38266c\",\"#392972\",\"#3a2c79\",\"#3b2f7f\",\"#3c3285\",\"#3c358b\",\"#3d3791\",\"#3e3a96\",\"#3f3d9c\",\"#4040a1\",\"#4043a6\",\"#4145ab\",\"#4148b0\",\"#424bb5\",\"#434eba\",\"#4350be\",\"#4353c2\",\"#4456c7\",\"#4458cb\",\"#455bce\",\"#455ed2\",\"#4560d6\",\"#4563d9\",\"#4666dd\",\"#4668e0\",\"#466be3\",\"#466de6\",\"#4670e8\",\"#4673eb\",\"#4675ed\",\"#4678f0\",\"#467af2\",\"#467df4\",\"#467ff6\",\"#4682f8\",\"#4584f9\",\"#4587fb\",\"#4589fc\",\"#448cfd\",\"#438efd\",\"#4291fe\",\"#4193fe\",\"#4096fe\",\"#3f98fe\",\"#3e9bfe\",\"#3c9dfd\",\"#3ba0fc\",\"#39a2fc\",\"#38a5fb\",\"#36a8f9\",\"#34aaf8\",\"#33acf6\",\"#31aff5\",\"#2fb1f3\",\"#2db4f1\",\"#2bb6ef\",\"#2ab9ed\",\"#28bbeb\",\"#26bde9\",\"#25c0e6\",\"#23c2e4\",\"#21c4e1\",\"#20c6df\",\"#1ec9dc\",\"#1dcbda\",\"#1ccdd7\",\"#1bcfd4\",\"#1ad1d2\",\"#19d3cf\",\"#18d5cc\",\"#18d7ca\",\"#17d9c7\",\"#17dac4\",\"#17dcc2\",\"#17debf\",\"#18e0bd\",\"#18e1ba\",\"#19e3b8\",\"#1ae4b6\",\"#1be5b4\",\"#1de7b1\",\"#1ee8af\",\"#20e9ac\",\"#22eba9\",\"#24eca6\",\"#27eda3\",\"#29eea0\",\"#2cef9d\",\"#2ff09a\",\"#32f197\",\"#35f394\",\"#38f491\",\"#3bf48d\",\"#3ff58a\",\"#42f687\",\"#46f783\",\"#4af880\",\"#4df97c\",\"#51f979\",\"#55fa76\",\"#59fb72\",\"#5dfb6f\",\"#61fc6c\",\"#65fc68\",\"#69fd65\",\"#6dfd62\",\"#71fd5f\",\"#74fe5c\",\"#78fe59\",\"#7cfe56\",\"#80fe53\",\"#84fe50\",\"#87fe4d\",\"#8bfe4b\",\"#8efe48\",\"#92fe46\",\"#95fe44\",\"#98fe42\",\"#9bfd40\",\"#9efd3e\",\"#a1fc3d\",\"#a4fc3b\",\"#a6fb3a\",\"#a9fb39\",\"#acfa37\",\"#aef937\",\"#b1f836\",\"#b3f835\",\"#b6f735\",\"#b9f534\",\"#bbf434\",\"#bef334\",\"#c0f233\",\"#c3f133\",\"#c5ef33\",\"#c8ee33\",\"#caed33\",\"#cdeb34\",\"#cfea34\",\"#d1e834\",\"#d4e735\",\"#d6e535\",\"#d8e335\",\"#dae236\",\"#dde036\",\"#dfde36\",\"#e1dc37\",\"#e3da37\",\"#e5d838\",\"#e7d738\",\"#e8d538\",\"#ead339\",\"#ecd139\",\"#edcf39\",\"#efcd39\",\"#f0cb3a\",\"#f2c83a\",\"#f3c63a\",\"#f4c43a\",\"#f6c23a\",\"#f7c039\",\"#f8be39\",\"#f9bc39\",\"#f9ba38\",\"#fab737\",\"#fbb537\",\"#fbb336\",\"#fcb035\",\"#fcae34\",\"#fdab33\",\"#fda932\",\"#fda631\",\"#fda330\",\"#fea12f\",\"#fe9e2e\",\"#fe9b2d\",\"#fe982c\",\"#fd952b\",\"#fd9229\",\"#fd8f28\",\"#fd8c27\",\"#fc8926\",\"#fc8624\",\"#fb8323\",\"#fb8022\",\"#fa7d20\",\"#fa7a1f\",\"#f9771e\",\"#f8741c\",\"#f7711b\",\"#f76e1a\",\"#f66b18\",\"#f56817\",\"#f46516\",\"#f36315\",\"#f26014\",\"#f15d13\",\"#ef5a11\",\"#ee5810\",\"#ed550f\",\"#ec520e\",\"#ea500d\",\"#e94d0d\",\"#e84b0c\",\"#e6490b\",\"#e5460a\",\"#e3440a\",\"#e24209\",\"#e04008\",\"#de3e08\",\"#dd3c07\",\"#db3a07\",\"#d93806\",\"#d73606\",\"#d63405\",\"#d43205\",\"#d23005\",\"#d02f04\",\"#ce2d04\",\"#cb2b03\",\"#c92903\",\"#c72803\",\"#c52602\",\"#c32402\",\"#c02302\",\"#be2102\",\"#bb1f01\",\"#b91e01\",\"#b61c01\",\"#b41b01\",\"#b11901\",\"#ae1801\",\"#ac1601\",\"#a91501\",\"#a61401\",\"#a31201\",\"#a01101\",\"#9d1001\",\"#9a0e01\",\"#970d01\",\"#940c01\",\"#910b01\",\"#8e0a01\",\"#8b0901\",\"#870801\",\"#840701\",\"#810602\",\"#7d0502\",\"#7a0402\"]},\"id\":\"8241\",\"type\":\"LinearColorMapper\"},{\"attributes\":{\"bottom_units\":\"screen\",\"coordinates\":null,\"fill_alpha\":0.5,\"fill_color\":\"lightgrey\",\"group\":null,\"left_units\":\"screen\",\"level\":\"overlay\",\"line_alpha\":1.0,\"line_color\":\"black\",\"line_dash\":[4,4],\"line_width\":2,\"right_units\":\"screen\",\"syncable\":false,\"top_units\":\"screen\"},\"id\":\"8265\",\"type\":\"BoxAnnotation\"},{\"attributes\":{\"tools\":[{\"id\":\"8259\"},{\"id\":\"8260\"},{\"id\":\"8261\"},{\"id\":\"8262\"},{\"id\":\"8263\"},{\"id\":\"8264\"}]},\"id\":\"8266\",\"type\":\"Toolbar\"},{\"attributes\":{},\"id\":\"8263\",\"type\":\"ResetTool\"},{\"attributes\":{\"fill_alpha\":{\"value\":0.2},\"fill_color\":{\"field\":\"y\",\"transform\":{\"id\":\"8241\"}},\"hatch_alpha\":{\"value\":0.2},\"hatch_color\":{\"field\":\"y\",\"transform\":{\"id\":\"8241\"}},\"line_alpha\":{\"value\":0.2},\"line_color\":{\"field\":\"y\",\"transform\":{\"id\":\"8241\"}},\"size\":{\"value\":10},\"x\":{\"field\":\"x\"},\"y\":{\"field\":\"y\"}},\"id\":\"8276\",\"type\":\"Circle\"},{\"attributes\":{\"axis\":{\"id\":\"8255\"},\"coordinates\":null,\"dimension\":1,\"grid_line_alpha\":0.25,\"grid_line_color\":\"#E0E0E0\",\"group\":null,\"ticker\":null},\"id\":\"8258\",\"type\":\"Grid\"},{\"attributes\":{\"axis\":{\"id\":\"8251\"},\"coordinates\":null,\"grid_line_alpha\":0.25,\"grid_line_color\":\"#E0E0E0\",\"group\":null,\"ticker\":null},\"id\":\"8254\",\"type\":\"Grid\"},{\"attributes\":{},\"id\":\"8584\",\"type\":\"BasicTickFormatter\"},{\"attributes\":{},\"id\":\"8252\",\"type\":\"BasicTicker\"},{\"attributes\":{},\"id\":\"8260\",\"type\":\"WheelZoomTool\"},{\"attributes\":{},\"id\":\"8245\",\"type\":\"DataRange1d\"},{\"attributes\":{},\"id\":\"8247\",\"type\":\"LinearScale\"},{\"attributes\":{\"axis_label_standoff\":10,\"axis_label_text_color\":\"#E0E0E0\",\"axis_label_text_font\":\"Helvetica\",\"axis_label_text_font_size\":\"1.25em\",\"axis_label_text_font_style\":\"normal\",\"axis_line_alpha\":0,\"axis_line_color\":\"#E0E0E0\",\"coordinates\":null,\"formatter\":{\"id\":\"8587\"},\"group\":null,\"major_label_policy\":{\"id\":\"8588\"},\"major_label_text_color\":\"#E0E0E0\",\"major_label_text_font\":\"Helvetica\",\"major_label_text_font_size\":\"1.025em\",\"major_tick_line_alpha\":0,\"major_tick_line_color\":\"#E0E0E0\",\"minor_tick_line_alpha\":0,\"minor_tick_line_color\":\"#E0E0E0\",\"ticker\":{\"id\":\"8252\"}},\"id\":\"8251\",\"type\":\"LinearAxis\"},{\"attributes\":{},\"id\":\"8243\",\"type\":\"DataRange1d\"},{\"attributes\":{},\"id\":\"8249\",\"type\":\"LinearScale\"},{\"attributes\":{\"source\":{\"id\":\"8273\"}},\"id\":\"8278\",\"type\":\"CDSView\"}],\"root_ids\":[\"8242\"]},\"title\":\"Bokeh Application\",\"version\":\"2.4.3\"}};\n",
       "  const render_items = [{\"docid\":\"7aa8b761-f2eb-47ac-a2e2-8d878d11ccf8\",\"root_ids\":[\"8242\"],\"roots\":{\"8242\":\"bb4a29f8-2074-47a7-8876-702bb0424c4d\"}}];\n",
       "  root.Bokeh.embed.embed_items_notebook(docs_json, render_items);\n",
       "  }\n",
       "  if (root.Bokeh !== undefined) {\n",
       "    embed_document(root);\n",
       "  } else {\n",
       "    let attempts = 0;\n",
       "    const timer = setInterval(function(root) {\n",
       "      if (root.Bokeh !== undefined) {\n",
       "        clearInterval(timer);\n",
       "        embed_document(root);\n",
       "      } else {\n",
       "        attempts++;\n",
       "        if (attempts > 100) {\n",
       "          clearInterval(timer);\n",
       "          console.log(\"Bokeh: ERROR: Unable to run BokehJS code because BokehJS library is missing\");\n",
       "        }\n",
       "      }\n",
       "    }, 10, root)\n",
       "  }\n",
       "})(window);"
      ],
      "application/vnd.bokehjs_exec.v0+json": ""
     },
     "metadata": {
      "application/vnd.bokehjs_exec.v0+json": {
       "id": "8242"
      }
     },
     "output_type": "display_data"
    }
   ],
   "source": [
    "# generate data\n",
    "x = list(range(-32, 33))\n",
    "y = [i**2 for i in x]\n",
    "\n",
    "# create linear color mapper\n",
    "mapper = linear_cmap(field_name=\"y\", palette=Turbo256, low=min(y), high=max(y))\n",
    "\n",
    "# create plot\n",
    "p = figure(width=500, height=250)\n",
    "\n",
    "# create circle renderer with color mapper\n",
    "p.circle(x, y, color=mapper, size=10)\n",
    "\n",
    "show(p)"
   ]
  },
  {
   "cell_type": "markdown",
   "id": "53547e15",
   "metadata": {},
   "source": [
    "# Combining Plots"
   ]
  },
  {
   "cell_type": "code",
   "execution_count": 50,
   "id": "8fe882e3",
   "metadata": {},
   "outputs": [
    {
     "data": {
      "text/html": [
       "\n",
       "  <div class=\"bk-root\" id=\"41c3e26a-e8a4-428e-b032-0ccd687c5e4b\" data-root-id=\"8758\"></div>\n"
      ]
     },
     "metadata": {},
     "output_type": "display_data"
    },
    {
     "data": {
      "application/javascript": [
       "(function(root) {\n",
       "  function embed_document(root) {\n",
       "  const docs_json = {\"64b76dbc-9dd0-4d47-967d-b47c2e393747\":{\"defs\":[],\"roots\":{\"references\":[{\"attributes\":{\"children\":[{\"id\":\"8647\"},{\"id\":\"8684\"},{\"id\":\"8721\"}]},\"id\":\"8758\",\"type\":\"Row\"},{\"attributes\":{},\"id\":\"8726\",\"type\":\"LinearScale\"},{\"attributes\":{},\"id\":\"8743\",\"type\":\"HelpTool\"},{\"attributes\":{},\"id\":\"8731\",\"type\":\"BasicTicker\"},{\"attributes\":{\"axis\":{\"id\":\"8730\"},\"coordinates\":null,\"grid_line_alpha\":0.25,\"grid_line_color\":\"#E0E0E0\",\"group\":null,\"ticker\":null},\"id\":\"8733\",\"type\":\"Grid\"},{\"attributes\":{\"tools\":[{\"id\":\"8738\"},{\"id\":\"8739\"},{\"id\":\"8740\"},{\"id\":\"8741\"},{\"id\":\"8742\"},{\"id\":\"8743\"}]},\"id\":\"8745\",\"type\":\"Toolbar\"},{\"attributes\":{\"source\":{\"id\":\"8715\"}},\"id\":\"8720\",\"type\":\"CDSView\"},{\"attributes\":{\"axis\":{\"id\":\"8734\"},\"coordinates\":null,\"dimension\":1,\"grid_line_alpha\":0.25,\"grid_line_color\":\"#E0E0E0\",\"group\":null,\"ticker\":null},\"id\":\"8737\",\"type\":\"Grid\"},{\"attributes\":{},\"id\":\"8735\",\"type\":\"BasicTicker\"},{\"attributes\":{},\"id\":\"8739\",\"type\":\"WheelZoomTool\"},{\"attributes\":{},\"id\":\"8738\",\"type\":\"PanTool\"},{\"attributes\":{\"overlay\":{\"id\":\"8744\"}},\"id\":\"8740\",\"type\":\"BoxZoomTool\"},{\"attributes\":{},\"id\":\"8741\",\"type\":\"SaveTool\"},{\"attributes\":{},\"id\":\"8742\",\"type\":\"ResetTool\"},{\"attributes\":{},\"id\":\"8650\",\"type\":\"DataRange1d\"},{\"attributes\":{},\"id\":\"9091\",\"type\":\"BasicTickFormatter\"},{\"attributes\":{\"background_fill_color\":\"#fafafa\",\"below\":[{\"id\":\"8693\"}],\"border_fill_color\":\"#15191C\",\"center\":[{\"id\":\"8696\"},{\"id\":\"8700\"}],\"height\":250,\"left\":[{\"id\":\"8697\"}],\"outline_line_alpha\":0.25,\"outline_line_color\":\"#E0E0E0\",\"renderers\":[{\"id\":\"8719\"}],\"title\":{\"id\":\"9074\"},\"toolbar\":{\"id\":\"8708\"},\"width\":250,\"x_range\":{\"id\":\"8685\"},\"x_scale\":{\"id\":\"8689\"},\"y_range\":{\"id\":\"8687\"},\"y_scale\":{\"id\":\"8691\"}},\"id\":\"8684\",\"subtype\":\"Figure\",\"type\":\"Plot\"},{\"attributes\":{},\"id\":\"8691\",\"type\":\"LinearScale\"},{\"attributes\":{},\"id\":\"9092\",\"type\":\"AllLabels\"},{\"attributes\":{},\"id\":\"8706\",\"type\":\"HelpTool\"},{\"attributes\":{},\"id\":\"9094\",\"type\":\"BasicTickFormatter\"},{\"attributes\":{},\"id\":\"8701\",\"type\":\"PanTool\"},{\"attributes\":{},\"id\":\"8702\",\"type\":\"WheelZoomTool\"},{\"attributes\":{},\"id\":\"9095\",\"type\":\"AllLabels\"},{\"attributes\":{\"coordinates\":null,\"group\":null,\"text_color\":\"#E0E0E0\",\"text_font\":\"Helvetica\",\"text_font_size\":\"1.15em\"},\"id\":\"9074\",\"type\":\"Title\"},{\"attributes\":{},\"id\":\"8704\",\"type\":\"SaveTool\"},{\"attributes\":{\"overlay\":{\"id\":\"8707\"}},\"id\":\"8703\",\"type\":\"BoxZoomTool\"},{\"attributes\":{},\"id\":\"8705\",\"type\":\"ResetTool\"},{\"attributes\":{\"coordinates\":null,\"group\":null,\"text_color\":\"#E0E0E0\",\"text_font\":\"Helvetica\",\"text_font_size\":\"1.15em\"},\"id\":\"9076\",\"type\":\"Title\"},{\"attributes\":{\"bottom_units\":\"screen\",\"coordinates\":null,\"fill_alpha\":0.5,\"fill_color\":\"lightgrey\",\"group\":null,\"left_units\":\"screen\",\"level\":\"overlay\",\"line_alpha\":1.0,\"line_color\":\"black\",\"line_dash\":[4,4],\"line_width\":2,\"right_units\":\"screen\",\"syncable\":false,\"top_units\":\"screen\"},\"id\":\"8744\",\"type\":\"BoxAnnotation\"},{\"attributes\":{\"coordinates\":null,\"data_source\":{\"id\":\"8715\"},\"glyph\":{\"id\":\"8716\"},\"group\":null,\"hover_glyph\":null,\"muted_glyph\":{\"id\":\"8718\"},\"nonselection_glyph\":{\"id\":\"8717\"},\"view\":{\"id\":\"8720\"}},\"id\":\"8719\",\"type\":\"GlyphRenderer\"},{\"attributes\":{},\"id\":\"9096\",\"type\":\"UnionRenderers\"},{\"attributes\":{\"axis_label_standoff\":10,\"axis_label_text_color\":\"#E0E0E0\",\"axis_label_text_font\":\"Helvetica\",\"axis_label_text_font_size\":\"1.25em\",\"axis_label_text_font_style\":\"normal\",\"axis_line_alpha\":0,\"axis_line_color\":\"#E0E0E0\",\"coordinates\":null,\"formatter\":{\"id\":\"9088\"},\"group\":null,\"major_label_policy\":{\"id\":\"9089\"},\"major_label_text_color\":\"#E0E0E0\",\"major_label_text_font\":\"Helvetica\",\"major_label_text_font_size\":\"1.025em\",\"major_tick_line_alpha\":0,\"major_tick_line_color\":\"#E0E0E0\",\"minor_tick_line_alpha\":0,\"minor_tick_line_color\":\"#E0E0E0\",\"ticker\":{\"id\":\"8694\"}},\"id\":\"8693\",\"type\":\"LinearAxis\"},{\"attributes\":{\"source\":{\"id\":\"8678\"}},\"id\":\"8683\",\"type\":\"CDSView\"},{\"attributes\":{\"coordinates\":null,\"data_source\":{\"id\":\"8678\"},\"glyph\":{\"id\":\"8679\"},\"group\":null,\"hover_glyph\":null,\"muted_glyph\":{\"id\":\"8681\"},\"nonselection_glyph\":{\"id\":\"8680\"},\"view\":{\"id\":\"8683\"}},\"id\":\"8682\",\"type\":\"GlyphRenderer\"},{\"attributes\":{},\"id\":\"9097\",\"type\":\"Selection\"},{\"attributes\":{\"bottom_units\":\"screen\",\"coordinates\":null,\"fill_alpha\":0.5,\"fill_color\":\"lightgrey\",\"group\":null,\"left_units\":\"screen\",\"level\":\"overlay\",\"line_alpha\":1.0,\"line_color\":\"black\",\"line_dash\":[4,4],\"line_width\":2,\"right_units\":\"screen\",\"syncable\":false,\"top_units\":\"screen\"},\"id\":\"8707\",\"type\":\"BoxAnnotation\"},{\"attributes\":{},\"id\":\"8685\",\"type\":\"DataRange1d\"},{\"attributes\":{},\"id\":\"8694\",\"type\":\"BasicTicker\"},{\"attributes\":{},\"id\":\"8654\",\"type\":\"LinearScale\"},{\"attributes\":{\"axis\":{\"id\":\"8697\"},\"coordinates\":null,\"dimension\":1,\"grid_line_alpha\":0.25,\"grid_line_color\":\"#E0E0E0\",\"group\":null,\"ticker\":null},\"id\":\"8700\",\"type\":\"Grid\"},{\"attributes\":{\"axis_label_standoff\":10,\"axis_label_text_color\":\"#E0E0E0\",\"axis_label_text_font\":\"Helvetica\",\"axis_label_text_font_size\":\"1.25em\",\"axis_label_text_font_style\":\"normal\",\"axis_line_alpha\":0,\"axis_line_color\":\"#E0E0E0\",\"coordinates\":null,\"formatter\":{\"id\":\"9082\"},\"group\":null,\"major_label_policy\":{\"id\":\"9083\"},\"major_label_text_color\":\"#E0E0E0\",\"major_label_text_font\":\"Helvetica\",\"major_label_text_font_size\":\"1.025em\",\"major_tick_line_alpha\":0,\"major_tick_line_color\":\"#E0E0E0\",\"minor_tick_line_alpha\":0,\"minor_tick_line_color\":\"#E0E0E0\",\"ticker\":{\"id\":\"8657\"}},\"id\":\"8656\",\"type\":\"LinearAxis\"},{\"attributes\":{\"axis_label_standoff\":10,\"axis_label_text_color\":\"#E0E0E0\",\"axis_label_text_font\":\"Helvetica\",\"axis_label_text_font_size\":\"1.25em\",\"axis_label_text_font_style\":\"normal\",\"axis_line_alpha\":0,\"axis_line_color\":\"#E0E0E0\",\"coordinates\":null,\"formatter\":{\"id\":\"9079\"},\"group\":null,\"major_label_policy\":{\"id\":\"9080\"},\"major_label_text_color\":\"#E0E0E0\",\"major_label_text_font\":\"Helvetica\",\"major_label_text_font_size\":\"1.025em\",\"major_tick_line_alpha\":0,\"major_tick_line_color\":\"#E0E0E0\",\"minor_tick_line_alpha\":0,\"minor_tick_line_color\":\"#E0E0E0\",\"ticker\":{\"id\":\"8661\"}},\"id\":\"8660\",\"type\":\"LinearAxis\"},{\"attributes\":{\"coordinates\":null,\"data_source\":{\"id\":\"8752\"},\"glyph\":{\"id\":\"8753\"},\"group\":null,\"hover_glyph\":null,\"muted_glyph\":{\"id\":\"8755\"},\"nonselection_glyph\":{\"id\":\"8754\"},\"view\":{\"id\":\"8757\"}},\"id\":\"8756\",\"type\":\"GlyphRenderer\"},{\"attributes\":{},\"id\":\"8652\",\"type\":\"LinearScale\"},{\"attributes\":{\"data\":{\"x\":[0,1,2,3,4,5,6,7,8,9,10],\"y\":[10,9,8,7,6,5,4,3,2,1,0]},\"selected\":{\"id\":\"9100\"},\"selection_policy\":{\"id\":\"9099\"}},\"id\":\"8715\",\"type\":\"ColumnDataSource\"},{\"attributes\":{},\"id\":\"8669\",\"type\":\"HelpTool\"},{\"attributes\":{},\"id\":\"8657\",\"type\":\"BasicTicker\"},{\"attributes\":{\"axis\":{\"id\":\"8656\"},\"coordinates\":null,\"grid_line_alpha\":0.25,\"grid_line_color\":\"#E0E0E0\",\"group\":null,\"ticker\":null},\"id\":\"8659\",\"type\":\"Grid\"},{\"attributes\":{},\"id\":\"8689\",\"type\":\"LinearScale\"},{\"attributes\":{\"axis_label_standoff\":10,\"axis_label_text_color\":\"#E0E0E0\",\"axis_label_text_font\":\"Helvetica\",\"axis_label_text_font_size\":\"1.25em\",\"axis_label_text_font_style\":\"normal\",\"axis_line_alpha\":0,\"axis_line_color\":\"#E0E0E0\",\"coordinates\":null,\"formatter\":{\"id\":\"9085\"},\"group\":null,\"major_label_policy\":{\"id\":\"9086\"},\"major_label_text_color\":\"#E0E0E0\",\"major_label_text_font\":\"Helvetica\",\"major_label_text_font_size\":\"1.025em\",\"major_tick_line_alpha\":0,\"major_tick_line_color\":\"#E0E0E0\",\"minor_tick_line_alpha\":0,\"minor_tick_line_color\":\"#E0E0E0\",\"ticker\":{\"id\":\"8698\"}},\"id\":\"8697\",\"type\":\"LinearAxis\"},{\"attributes\":{\"fill_alpha\":{\"value\":0.1},\"fill_color\":{\"value\":\"#5D3954\"},\"hatch_alpha\":{\"value\":0.1},\"hatch_color\":{\"value\":\"#5D3954\"},\"line_alpha\":{\"value\":0.1},\"line_color\":{\"value\":\"#5D3954\"},\"marker\":{\"value\":\"square\"},\"size\":{\"value\":12},\"x\":{\"field\":\"x\"},\"y\":{\"field\":\"y\"}},\"id\":\"8754\",\"type\":\"Scatter\"},{\"attributes\":{\"data\":{\"x\":[0,1,2,3,4,5,6,7,8,9,10],\"y\":[5,4,3,2,1,0,1,2,3,4,5]},\"selected\":{\"id\":\"9103\"},\"selection_policy\":{\"id\":\"9102\"}},\"id\":\"8752\",\"type\":\"ColumnDataSource\"},{\"attributes\":{\"coordinates\":null,\"group\":null,\"text_color\":\"#E0E0E0\",\"text_font\":\"Helvetica\",\"text_font_size\":\"1.15em\"},\"id\":\"9072\",\"type\":\"Title\"},{\"attributes\":{},\"id\":\"8722\",\"type\":\"DataRange1d\"},{\"attributes\":{\"axis\":{\"id\":\"8693\"},\"coordinates\":null,\"grid_line_alpha\":0.25,\"grid_line_color\":\"#E0E0E0\",\"group\":null,\"ticker\":null},\"id\":\"8696\",\"type\":\"Grid\"},{\"attributes\":{},\"id\":\"8698\",\"type\":\"BasicTicker\"},{\"attributes\":{\"source\":{\"id\":\"8752\"}},\"id\":\"8757\",\"type\":\"CDSView\"},{\"attributes\":{\"background_fill_color\":\"#fafafa\",\"below\":[{\"id\":\"8730\"}],\"border_fill_color\":\"#15191C\",\"center\":[{\"id\":\"8733\"},{\"id\":\"8737\"}],\"height\":250,\"left\":[{\"id\":\"8734\"}],\"outline_line_alpha\":0.25,\"outline_line_color\":\"#E0E0E0\",\"renderers\":[{\"id\":\"8756\"}],\"title\":{\"id\":\"9076\"},\"toolbar\":{\"id\":\"8745\"},\"width\":250,\"x_range\":{\"id\":\"8722\"},\"x_scale\":{\"id\":\"8726\"},\"y_range\":{\"id\":\"8724\"},\"y_scale\":{\"id\":\"8728\"}},\"id\":\"8721\",\"subtype\":\"Figure\",\"type\":\"Plot\"},{\"attributes\":{},\"id\":\"8724\",\"type\":\"DataRange1d\"},{\"attributes\":{\"fill_alpha\":{\"value\":0.1},\"fill_color\":{\"value\":\"#2E2D88\"},\"hatch_alpha\":{\"value\":0.1},\"hatch_color\":{\"value\":\"#2E2D88\"},\"line_alpha\":{\"value\":0.1},\"line_color\":{\"value\":\"#2E2D88\"},\"marker\":{\"value\":\"triangle\"},\"size\":{\"value\":12},\"x\":{\"field\":\"x\"},\"y\":{\"field\":\"y\"}},\"id\":\"8717\",\"type\":\"Scatter\"},{\"attributes\":{},\"id\":\"8728\",\"type\":\"LinearScale\"},{\"attributes\":{\"fill_alpha\":{\"value\":0.8},\"fill_color\":{\"value\":\"#5D3954\"},\"hatch_alpha\":{\"value\":0.8},\"hatch_color\":{\"value\":\"#5D3954\"},\"line_alpha\":{\"value\":0.8},\"line_color\":{\"value\":\"#5D3954\"},\"marker\":{\"value\":\"square\"},\"size\":{\"value\":12},\"x\":{\"field\":\"x\"},\"y\":{\"field\":\"y\"}},\"id\":\"8753\",\"type\":\"Scatter\"},{\"attributes\":{\"axis_label_standoff\":10,\"axis_label_text_color\":\"#E0E0E0\",\"axis_label_text_font\":\"Helvetica\",\"axis_label_text_font_size\":\"1.25em\",\"axis_label_text_font_style\":\"normal\",\"axis_line_alpha\":0,\"axis_line_color\":\"#E0E0E0\",\"coordinates\":null,\"formatter\":{\"id\":\"9094\"},\"group\":null,\"major_label_policy\":{\"id\":\"9095\"},\"major_label_text_color\":\"#E0E0E0\",\"major_label_text_font\":\"Helvetica\",\"major_label_text_font_size\":\"1.025em\",\"major_tick_line_alpha\":0,\"major_tick_line_color\":\"#E0E0E0\",\"minor_tick_line_alpha\":0,\"minor_tick_line_color\":\"#E0E0E0\",\"ticker\":{\"id\":\"8731\"}},\"id\":\"8730\",\"type\":\"LinearAxis\"},{\"attributes\":{\"tools\":[{\"id\":\"8701\"},{\"id\":\"8702\"},{\"id\":\"8703\"},{\"id\":\"8704\"},{\"id\":\"8705\"},{\"id\":\"8706\"}]},\"id\":\"8708\",\"type\":\"Toolbar\"},{\"attributes\":{\"axis_label_standoff\":10,\"axis_label_text_color\":\"#E0E0E0\",\"axis_label_text_font\":\"Helvetica\",\"axis_label_text_font_size\":\"1.25em\",\"axis_label_text_font_style\":\"normal\",\"axis_line_alpha\":0,\"axis_line_color\":\"#E0E0E0\",\"coordinates\":null,\"formatter\":{\"id\":\"9091\"},\"group\":null,\"major_label_policy\":{\"id\":\"9092\"},\"major_label_text_color\":\"#E0E0E0\",\"major_label_text_font\":\"Helvetica\",\"major_label_text_font_size\":\"1.025em\",\"major_tick_line_alpha\":0,\"major_tick_line_color\":\"#E0E0E0\",\"minor_tick_line_alpha\":0,\"minor_tick_line_color\":\"#E0E0E0\",\"ticker\":{\"id\":\"8735\"}},\"id\":\"8734\",\"type\":\"LinearAxis\"},{\"attributes\":{},\"id\":\"9099\",\"type\":\"UnionRenderers\"},{\"attributes\":{},\"id\":\"9100\",\"type\":\"Selection\"},{\"attributes\":{\"axis\":{\"id\":\"8660\"},\"coordinates\":null,\"dimension\":1,\"grid_line_alpha\":0.25,\"grid_line_color\":\"#E0E0E0\",\"group\":null,\"ticker\":null},\"id\":\"8663\",\"type\":\"Grid\"},{\"attributes\":{},\"id\":\"8661\",\"type\":\"BasicTicker\"},{\"attributes\":{},\"id\":\"8665\",\"type\":\"WheelZoomTool\"},{\"attributes\":{},\"id\":\"8664\",\"type\":\"PanTool\"},{\"attributes\":{\"overlay\":{\"id\":\"8670\"}},\"id\":\"8666\",\"type\":\"BoxZoomTool\"},{\"attributes\":{},\"id\":\"8667\",\"type\":\"SaveTool\"},{\"attributes\":{},\"id\":\"8668\",\"type\":\"ResetTool\"},{\"attributes\":{},\"id\":\"9083\",\"type\":\"AllLabels\"},{\"attributes\":{\"bottom_units\":\"screen\",\"coordinates\":null,\"fill_alpha\":0.5,\"fill_color\":\"lightgrey\",\"group\":null,\"left_units\":\"screen\",\"level\":\"overlay\",\"line_alpha\":1.0,\"line_color\":\"black\",\"line_dash\":[4,4],\"line_width\":2,\"right_units\":\"screen\",\"syncable\":false,\"top_units\":\"screen\"},\"id\":\"8670\",\"type\":\"BoxAnnotation\"},{\"attributes\":{\"fill_alpha\":{\"value\":0.2},\"fill_color\":{\"value\":\"#F56FA1\"},\"hatch_alpha\":{\"value\":0.2},\"hatch_color\":{\"value\":\"#F56FA1\"},\"line_alpha\":{\"value\":0.2},\"line_color\":{\"value\":\"#F56FA1\"},\"size\":{\"value\":12},\"x\":{\"field\":\"x\"},\"y\":{\"field\":\"y\"}},\"id\":\"8681\",\"type\":\"Circle\"},{\"attributes\":{\"fill_alpha\":{\"value\":0.2},\"fill_color\":{\"value\":\"#5D3954\"},\"hatch_alpha\":{\"value\":0.2},\"hatch_color\":{\"value\":\"#5D3954\"},\"line_alpha\":{\"value\":0.2},\"line_color\":{\"value\":\"#5D3954\"},\"marker\":{\"value\":\"square\"},\"size\":{\"value\":12},\"x\":{\"field\":\"x\"},\"y\":{\"field\":\"y\"}},\"id\":\"8755\",\"type\":\"Scatter\"},{\"attributes\":{},\"id\":\"8648\",\"type\":\"DataRange1d\"},{\"attributes\":{\"fill_alpha\":{\"value\":0.8},\"fill_color\":{\"value\":\"#2E2D88\"},\"hatch_alpha\":{\"value\":0.8},\"hatch_color\":{\"value\":\"#2E2D88\"},\"line_alpha\":{\"value\":0.8},\"line_color\":{\"value\":\"#2E2D88\"},\"marker\":{\"value\":\"triangle\"},\"size\":{\"value\":12},\"x\":{\"field\":\"x\"},\"y\":{\"field\":\"y\"}},\"id\":\"8716\",\"type\":\"Scatter\"},{\"attributes\":{\"fill_alpha\":{\"value\":0.1},\"fill_color\":{\"value\":\"#F56FA1\"},\"hatch_alpha\":{\"value\":0.1},\"hatch_color\":{\"value\":\"#F56FA1\"},\"line_alpha\":{\"value\":0.1},\"line_color\":{\"value\":\"#F56FA1\"},\"size\":{\"value\":12},\"x\":{\"field\":\"x\"},\"y\":{\"field\":\"y\"}},\"id\":\"8680\",\"type\":\"Circle\"},{\"attributes\":{},\"id\":\"9102\",\"type\":\"UnionRenderers\"},{\"attributes\":{},\"id\":\"9082\",\"type\":\"BasicTickFormatter\"},{\"attributes\":{\"background_fill_color\":\"#fafafa\",\"below\":[{\"id\":\"8656\"}],\"border_fill_color\":\"#15191C\",\"center\":[{\"id\":\"8659\"},{\"id\":\"8663\"}],\"height\":250,\"left\":[{\"id\":\"8660\"}],\"outline_line_alpha\":0.25,\"outline_line_color\":\"#E0E0E0\",\"renderers\":[{\"id\":\"8682\"}],\"title\":{\"id\":\"9072\"},\"toolbar\":{\"id\":\"8671\"},\"width\":250,\"x_range\":{\"id\":\"8648\"},\"x_scale\":{\"id\":\"8652\"},\"y_range\":{\"id\":\"8650\"},\"y_scale\":{\"id\":\"8654\"}},\"id\":\"8647\",\"subtype\":\"Figure\",\"type\":\"Plot\"},{\"attributes\":{\"data\":{\"x\":[0,1,2,3,4,5,6,7,8,9,10],\"y\":[0,1,2,3,4,5,6,7,8,9,10]},\"selected\":{\"id\":\"9097\"},\"selection_policy\":{\"id\":\"9096\"}},\"id\":\"8678\",\"type\":\"ColumnDataSource\"},{\"attributes\":{},\"id\":\"9103\",\"type\":\"Selection\"},{\"attributes\":{\"fill_alpha\":{\"value\":0.8},\"fill_color\":{\"value\":\"#F56FA1\"},\"hatch_alpha\":{\"value\":0.8},\"hatch_color\":{\"value\":\"#F56FA1\"},\"line_alpha\":{\"value\":0.8},\"line_color\":{\"value\":\"#F56FA1\"},\"size\":{\"value\":12},\"x\":{\"field\":\"x\"},\"y\":{\"field\":\"y\"}},\"id\":\"8679\",\"type\":\"Circle\"},{\"attributes\":{},\"id\":\"9079\",\"type\":\"BasicTickFormatter\"},{\"attributes\":{},\"id\":\"9080\",\"type\":\"AllLabels\"},{\"attributes\":{},\"id\":\"8687\",\"type\":\"DataRange1d\"},{\"attributes\":{\"fill_alpha\":{\"value\":0.2},\"fill_color\":{\"value\":\"#2E2D88\"},\"hatch_alpha\":{\"value\":0.2},\"hatch_color\":{\"value\":\"#2E2D88\"},\"line_alpha\":{\"value\":0.2},\"line_color\":{\"value\":\"#2E2D88\"},\"marker\":{\"value\":\"triangle\"},\"size\":{\"value\":12},\"x\":{\"field\":\"x\"},\"y\":{\"field\":\"y\"}},\"id\":\"8718\",\"type\":\"Scatter\"},{\"attributes\":{},\"id\":\"9085\",\"type\":\"BasicTickFormatter\"},{\"attributes\":{},\"id\":\"9086\",\"type\":\"AllLabels\"},{\"attributes\":{},\"id\":\"9088\",\"type\":\"BasicTickFormatter\"},{\"attributes\":{},\"id\":\"9089\",\"type\":\"AllLabels\"},{\"attributes\":{\"tools\":[{\"id\":\"8664\"},{\"id\":\"8665\"},{\"id\":\"8666\"},{\"id\":\"8667\"},{\"id\":\"8668\"},{\"id\":\"8669\"}]},\"id\":\"8671\",\"type\":\"Toolbar\"}],\"root_ids\":[\"8758\"]},\"title\":\"Bokeh Application\",\"version\":\"2.4.3\"}};\n",
       "  const render_items = [{\"docid\":\"64b76dbc-9dd0-4d47-967d-b47c2e393747\",\"root_ids\":[\"8758\"],\"roots\":{\"8758\":\"41c3e26a-e8a4-428e-b032-0ccd687c5e4b\"}}];\n",
       "  root.Bokeh.embed.embed_items_notebook(docs_json, render_items);\n",
       "  }\n",
       "  if (root.Bokeh !== undefined) {\n",
       "    embed_document(root);\n",
       "  } else {\n",
       "    let attempts = 0;\n",
       "    const timer = setInterval(function(root) {\n",
       "      if (root.Bokeh !== undefined) {\n",
       "        clearInterval(timer);\n",
       "        embed_document(root);\n",
       "      } else {\n",
       "        attempts++;\n",
       "        if (attempts > 100) {\n",
       "          clearInterval(timer);\n",
       "          console.log(\"Bokeh: ERROR: Unable to run BokehJS code because BokehJS library is missing\");\n",
       "        }\n",
       "      }\n",
       "    }, 10, root)\n",
       "  }\n",
       "})(window);"
      ],
      "application/vnd.bokehjs_exec.v0+json": ""
     },
     "metadata": {
      "application/vnd.bokehjs_exec.v0+json": {
       "id": "8758"
      }
     },
     "output_type": "display_data"
    },
    {
     "data": {
      "text/html": [
       "\n",
       "  <div class=\"bk-root\" id=\"89289af4-65ee-4184-8c28-1e6d9586bb43\" data-root-id=\"9270\"></div>\n"
      ]
     },
     "metadata": {},
     "output_type": "display_data"
    },
    {
     "data": {
      "application/javascript": [
       "(function(root) {\n",
       "  function embed_document(root) {\n",
       "  const docs_json = {\"86f22390-7d89-499c-b6d6-c01dfc586175\":{\"defs\":[],\"roots\":{\"references\":[{\"attributes\":{\"children\":[{\"id\":\"8647\"},{\"id\":\"8684\"},{\"id\":\"8721\"}]},\"id\":\"9270\",\"type\":\"Column\"},{\"attributes\":{},\"id\":\"8726\",\"type\":\"LinearScale\"},{\"attributes\":{},\"id\":\"8743\",\"type\":\"HelpTool\"},{\"attributes\":{},\"id\":\"8731\",\"type\":\"BasicTicker\"},{\"attributes\":{\"axis\":{\"id\":\"8730\"},\"coordinates\":null,\"grid_line_alpha\":0.25,\"grid_line_color\":\"#E0E0E0\",\"group\":null,\"ticker\":null},\"id\":\"8733\",\"type\":\"Grid\"},{\"attributes\":{\"tools\":[{\"id\":\"8738\"},{\"id\":\"8739\"},{\"id\":\"8740\"},{\"id\":\"8741\"},{\"id\":\"8742\"},{\"id\":\"8743\"}]},\"id\":\"8745\",\"type\":\"Toolbar\"},{\"attributes\":{\"source\":{\"id\":\"8715\"}},\"id\":\"8720\",\"type\":\"CDSView\"},{\"attributes\":{\"axis\":{\"id\":\"8734\"},\"coordinates\":null,\"dimension\":1,\"grid_line_alpha\":0.25,\"grid_line_color\":\"#E0E0E0\",\"group\":null,\"ticker\":null},\"id\":\"8737\",\"type\":\"Grid\"},{\"attributes\":{},\"id\":\"8735\",\"type\":\"BasicTicker\"},{\"attributes\":{},\"id\":\"8739\",\"type\":\"WheelZoomTool\"},{\"attributes\":{},\"id\":\"8738\",\"type\":\"PanTool\"},{\"attributes\":{\"overlay\":{\"id\":\"8744\"}},\"id\":\"8740\",\"type\":\"BoxZoomTool\"},{\"attributes\":{},\"id\":\"8741\",\"type\":\"SaveTool\"},{\"attributes\":{},\"id\":\"8742\",\"type\":\"ResetTool\"},{\"attributes\":{},\"id\":\"8650\",\"type\":\"DataRange1d\"},{\"attributes\":{},\"id\":\"9091\",\"type\":\"BasicTickFormatter\"},{\"attributes\":{\"background_fill_color\":\"#fafafa\",\"below\":[{\"id\":\"8693\"}],\"border_fill_color\":\"#15191C\",\"center\":[{\"id\":\"8696\"},{\"id\":\"8700\"}],\"height\":250,\"left\":[{\"id\":\"8697\"}],\"outline_line_alpha\":0.25,\"outline_line_color\":\"#E0E0E0\",\"renderers\":[{\"id\":\"8719\"}],\"title\":{\"id\":\"9074\"},\"toolbar\":{\"id\":\"8708\"},\"width\":250,\"x_range\":{\"id\":\"8685\"},\"x_scale\":{\"id\":\"8689\"},\"y_range\":{\"id\":\"8687\"},\"y_scale\":{\"id\":\"8691\"}},\"id\":\"8684\",\"subtype\":\"Figure\",\"type\":\"Plot\"},{\"attributes\":{},\"id\":\"8691\",\"type\":\"LinearScale\"},{\"attributes\":{},\"id\":\"9092\",\"type\":\"AllLabels\"},{\"attributes\":{},\"id\":\"8706\",\"type\":\"HelpTool\"},{\"attributes\":{},\"id\":\"9094\",\"type\":\"BasicTickFormatter\"},{\"attributes\":{},\"id\":\"8701\",\"type\":\"PanTool\"},{\"attributes\":{},\"id\":\"8702\",\"type\":\"WheelZoomTool\"},{\"attributes\":{},\"id\":\"9095\",\"type\":\"AllLabels\"},{\"attributes\":{\"coordinates\":null,\"group\":null,\"text_color\":\"#E0E0E0\",\"text_font\":\"Helvetica\",\"text_font_size\":\"1.15em\"},\"id\":\"9074\",\"type\":\"Title\"},{\"attributes\":{},\"id\":\"8704\",\"type\":\"SaveTool\"},{\"attributes\":{\"overlay\":{\"id\":\"8707\"}},\"id\":\"8703\",\"type\":\"BoxZoomTool\"},{\"attributes\":{},\"id\":\"8705\",\"type\":\"ResetTool\"},{\"attributes\":{\"coordinates\":null,\"group\":null,\"text_color\":\"#E0E0E0\",\"text_font\":\"Helvetica\",\"text_font_size\":\"1.15em\"},\"id\":\"9076\",\"type\":\"Title\"},{\"attributes\":{\"bottom_units\":\"screen\",\"coordinates\":null,\"fill_alpha\":0.5,\"fill_color\":\"lightgrey\",\"group\":null,\"left_units\":\"screen\",\"level\":\"overlay\",\"line_alpha\":1.0,\"line_color\":\"black\",\"line_dash\":[4,4],\"line_width\":2,\"right_units\":\"screen\",\"syncable\":false,\"top_units\":\"screen\"},\"id\":\"8744\",\"type\":\"BoxAnnotation\"},{\"attributes\":{\"coordinates\":null,\"data_source\":{\"id\":\"8715\"},\"glyph\":{\"id\":\"8716\"},\"group\":null,\"hover_glyph\":null,\"muted_glyph\":{\"id\":\"8718\"},\"nonselection_glyph\":{\"id\":\"8717\"},\"view\":{\"id\":\"8720\"}},\"id\":\"8719\",\"type\":\"GlyphRenderer\"},{\"attributes\":{},\"id\":\"9096\",\"type\":\"UnionRenderers\"},{\"attributes\":{\"axis_label_standoff\":10,\"axis_label_text_color\":\"#E0E0E0\",\"axis_label_text_font\":\"Helvetica\",\"axis_label_text_font_size\":\"1.25em\",\"axis_label_text_font_style\":\"normal\",\"axis_line_alpha\":0,\"axis_line_color\":\"#E0E0E0\",\"coordinates\":null,\"formatter\":{\"id\":\"9088\"},\"group\":null,\"major_label_policy\":{\"id\":\"9089\"},\"major_label_text_color\":\"#E0E0E0\",\"major_label_text_font\":\"Helvetica\",\"major_label_text_font_size\":\"1.025em\",\"major_tick_line_alpha\":0,\"major_tick_line_color\":\"#E0E0E0\",\"minor_tick_line_alpha\":0,\"minor_tick_line_color\":\"#E0E0E0\",\"ticker\":{\"id\":\"8694\"}},\"id\":\"8693\",\"type\":\"LinearAxis\"},{\"attributes\":{\"source\":{\"id\":\"8678\"}},\"id\":\"8683\",\"type\":\"CDSView\"},{\"attributes\":{\"coordinates\":null,\"data_source\":{\"id\":\"8678\"},\"glyph\":{\"id\":\"8679\"},\"group\":null,\"hover_glyph\":null,\"muted_glyph\":{\"id\":\"8681\"},\"nonselection_glyph\":{\"id\":\"8680\"},\"view\":{\"id\":\"8683\"}},\"id\":\"8682\",\"type\":\"GlyphRenderer\"},{\"attributes\":{},\"id\":\"9097\",\"type\":\"Selection\"},{\"attributes\":{\"bottom_units\":\"screen\",\"coordinates\":null,\"fill_alpha\":0.5,\"fill_color\":\"lightgrey\",\"group\":null,\"left_units\":\"screen\",\"level\":\"overlay\",\"line_alpha\":1.0,\"line_color\":\"black\",\"line_dash\":[4,4],\"line_width\":2,\"right_units\":\"screen\",\"syncable\":false,\"top_units\":\"screen\"},\"id\":\"8707\",\"type\":\"BoxAnnotation\"},{\"attributes\":{},\"id\":\"8685\",\"type\":\"DataRange1d\"},{\"attributes\":{},\"id\":\"8694\",\"type\":\"BasicTicker\"},{\"attributes\":{},\"id\":\"8654\",\"type\":\"LinearScale\"},{\"attributes\":{\"axis\":{\"id\":\"8697\"},\"coordinates\":null,\"dimension\":1,\"grid_line_alpha\":0.25,\"grid_line_color\":\"#E0E0E0\",\"group\":null,\"ticker\":null},\"id\":\"8700\",\"type\":\"Grid\"},{\"attributes\":{\"axis_label_standoff\":10,\"axis_label_text_color\":\"#E0E0E0\",\"axis_label_text_font\":\"Helvetica\",\"axis_label_text_font_size\":\"1.25em\",\"axis_label_text_font_style\":\"normal\",\"axis_line_alpha\":0,\"axis_line_color\":\"#E0E0E0\",\"coordinates\":null,\"formatter\":{\"id\":\"9082\"},\"group\":null,\"major_label_policy\":{\"id\":\"9083\"},\"major_label_text_color\":\"#E0E0E0\",\"major_label_text_font\":\"Helvetica\",\"major_label_text_font_size\":\"1.025em\",\"major_tick_line_alpha\":0,\"major_tick_line_color\":\"#E0E0E0\",\"minor_tick_line_alpha\":0,\"minor_tick_line_color\":\"#E0E0E0\",\"ticker\":{\"id\":\"8657\"}},\"id\":\"8656\",\"type\":\"LinearAxis\"},{\"attributes\":{\"axis_label_standoff\":10,\"axis_label_text_color\":\"#E0E0E0\",\"axis_label_text_font\":\"Helvetica\",\"axis_label_text_font_size\":\"1.25em\",\"axis_label_text_font_style\":\"normal\",\"axis_line_alpha\":0,\"axis_line_color\":\"#E0E0E0\",\"coordinates\":null,\"formatter\":{\"id\":\"9079\"},\"group\":null,\"major_label_policy\":{\"id\":\"9080\"},\"major_label_text_color\":\"#E0E0E0\",\"major_label_text_font\":\"Helvetica\",\"major_label_text_font_size\":\"1.025em\",\"major_tick_line_alpha\":0,\"major_tick_line_color\":\"#E0E0E0\",\"minor_tick_line_alpha\":0,\"minor_tick_line_color\":\"#E0E0E0\",\"ticker\":{\"id\":\"8661\"}},\"id\":\"8660\",\"type\":\"LinearAxis\"},{\"attributes\":{\"coordinates\":null,\"data_source\":{\"id\":\"8752\"},\"glyph\":{\"id\":\"8753\"},\"group\":null,\"hover_glyph\":null,\"muted_glyph\":{\"id\":\"8755\"},\"nonselection_glyph\":{\"id\":\"8754\"},\"view\":{\"id\":\"8757\"}},\"id\":\"8756\",\"type\":\"GlyphRenderer\"},{\"attributes\":{},\"id\":\"8652\",\"type\":\"LinearScale\"},{\"attributes\":{\"data\":{\"x\":[0,1,2,3,4,5,6,7,8,9,10],\"y\":[10,9,8,7,6,5,4,3,2,1,0]},\"selected\":{\"id\":\"9100\"},\"selection_policy\":{\"id\":\"9099\"}},\"id\":\"8715\",\"type\":\"ColumnDataSource\"},{\"attributes\":{},\"id\":\"8669\",\"type\":\"HelpTool\"},{\"attributes\":{},\"id\":\"8657\",\"type\":\"BasicTicker\"},{\"attributes\":{\"axis\":{\"id\":\"8656\"},\"coordinates\":null,\"grid_line_alpha\":0.25,\"grid_line_color\":\"#E0E0E0\",\"group\":null,\"ticker\":null},\"id\":\"8659\",\"type\":\"Grid\"},{\"attributes\":{},\"id\":\"8689\",\"type\":\"LinearScale\"},{\"attributes\":{\"axis_label_standoff\":10,\"axis_label_text_color\":\"#E0E0E0\",\"axis_label_text_font\":\"Helvetica\",\"axis_label_text_font_size\":\"1.25em\",\"axis_label_text_font_style\":\"normal\",\"axis_line_alpha\":0,\"axis_line_color\":\"#E0E0E0\",\"coordinates\":null,\"formatter\":{\"id\":\"9085\"},\"group\":null,\"major_label_policy\":{\"id\":\"9086\"},\"major_label_text_color\":\"#E0E0E0\",\"major_label_text_font\":\"Helvetica\",\"major_label_text_font_size\":\"1.025em\",\"major_tick_line_alpha\":0,\"major_tick_line_color\":\"#E0E0E0\",\"minor_tick_line_alpha\":0,\"minor_tick_line_color\":\"#E0E0E0\",\"ticker\":{\"id\":\"8698\"}},\"id\":\"8697\",\"type\":\"LinearAxis\"},{\"attributes\":{\"fill_alpha\":{\"value\":0.1},\"fill_color\":{\"value\":\"#5D3954\"},\"hatch_alpha\":{\"value\":0.1},\"hatch_color\":{\"value\":\"#5D3954\"},\"line_alpha\":{\"value\":0.1},\"line_color\":{\"value\":\"#5D3954\"},\"marker\":{\"value\":\"square\"},\"size\":{\"value\":12},\"x\":{\"field\":\"x\"},\"y\":{\"field\":\"y\"}},\"id\":\"8754\",\"type\":\"Scatter\"},{\"attributes\":{\"data\":{\"x\":[0,1,2,3,4,5,6,7,8,9,10],\"y\":[5,4,3,2,1,0,1,2,3,4,5]},\"selected\":{\"id\":\"9103\"},\"selection_policy\":{\"id\":\"9102\"}},\"id\":\"8752\",\"type\":\"ColumnDataSource\"},{\"attributes\":{\"coordinates\":null,\"group\":null,\"text_color\":\"#E0E0E0\",\"text_font\":\"Helvetica\",\"text_font_size\":\"1.15em\"},\"id\":\"9072\",\"type\":\"Title\"},{\"attributes\":{},\"id\":\"8722\",\"type\":\"DataRange1d\"},{\"attributes\":{\"axis\":{\"id\":\"8693\"},\"coordinates\":null,\"grid_line_alpha\":0.25,\"grid_line_color\":\"#E0E0E0\",\"group\":null,\"ticker\":null},\"id\":\"8696\",\"type\":\"Grid\"},{\"attributes\":{},\"id\":\"8698\",\"type\":\"BasicTicker\"},{\"attributes\":{\"source\":{\"id\":\"8752\"}},\"id\":\"8757\",\"type\":\"CDSView\"},{\"attributes\":{\"background_fill_color\":\"#fafafa\",\"below\":[{\"id\":\"8730\"}],\"border_fill_color\":\"#15191C\",\"center\":[{\"id\":\"8733\"},{\"id\":\"8737\"}],\"height\":250,\"left\":[{\"id\":\"8734\"}],\"outline_line_alpha\":0.25,\"outline_line_color\":\"#E0E0E0\",\"renderers\":[{\"id\":\"8756\"}],\"title\":{\"id\":\"9076\"},\"toolbar\":{\"id\":\"8745\"},\"width\":250,\"x_range\":{\"id\":\"8722\"},\"x_scale\":{\"id\":\"8726\"},\"y_range\":{\"id\":\"8724\"},\"y_scale\":{\"id\":\"8728\"}},\"id\":\"8721\",\"subtype\":\"Figure\",\"type\":\"Plot\"},{\"attributes\":{},\"id\":\"8724\",\"type\":\"DataRange1d\"},{\"attributes\":{\"fill_alpha\":{\"value\":0.1},\"fill_color\":{\"value\":\"#2E2D88\"},\"hatch_alpha\":{\"value\":0.1},\"hatch_color\":{\"value\":\"#2E2D88\"},\"line_alpha\":{\"value\":0.1},\"line_color\":{\"value\":\"#2E2D88\"},\"marker\":{\"value\":\"triangle\"},\"size\":{\"value\":12},\"x\":{\"field\":\"x\"},\"y\":{\"field\":\"y\"}},\"id\":\"8717\",\"type\":\"Scatter\"},{\"attributes\":{},\"id\":\"8728\",\"type\":\"LinearScale\"},{\"attributes\":{\"fill_alpha\":{\"value\":0.8},\"fill_color\":{\"value\":\"#5D3954\"},\"hatch_alpha\":{\"value\":0.8},\"hatch_color\":{\"value\":\"#5D3954\"},\"line_alpha\":{\"value\":0.8},\"line_color\":{\"value\":\"#5D3954\"},\"marker\":{\"value\":\"square\"},\"size\":{\"value\":12},\"x\":{\"field\":\"x\"},\"y\":{\"field\":\"y\"}},\"id\":\"8753\",\"type\":\"Scatter\"},{\"attributes\":{\"axis_label_standoff\":10,\"axis_label_text_color\":\"#E0E0E0\",\"axis_label_text_font\":\"Helvetica\",\"axis_label_text_font_size\":\"1.25em\",\"axis_label_text_font_style\":\"normal\",\"axis_line_alpha\":0,\"axis_line_color\":\"#E0E0E0\",\"coordinates\":null,\"formatter\":{\"id\":\"9094\"},\"group\":null,\"major_label_policy\":{\"id\":\"9095\"},\"major_label_text_color\":\"#E0E0E0\",\"major_label_text_font\":\"Helvetica\",\"major_label_text_font_size\":\"1.025em\",\"major_tick_line_alpha\":0,\"major_tick_line_color\":\"#E0E0E0\",\"minor_tick_line_alpha\":0,\"minor_tick_line_color\":\"#E0E0E0\",\"ticker\":{\"id\":\"8731\"}},\"id\":\"8730\",\"type\":\"LinearAxis\"},{\"attributes\":{\"tools\":[{\"id\":\"8701\"},{\"id\":\"8702\"},{\"id\":\"8703\"},{\"id\":\"8704\"},{\"id\":\"8705\"},{\"id\":\"8706\"}]},\"id\":\"8708\",\"type\":\"Toolbar\"},{\"attributes\":{\"axis_label_standoff\":10,\"axis_label_text_color\":\"#E0E0E0\",\"axis_label_text_font\":\"Helvetica\",\"axis_label_text_font_size\":\"1.25em\",\"axis_label_text_font_style\":\"normal\",\"axis_line_alpha\":0,\"axis_line_color\":\"#E0E0E0\",\"coordinates\":null,\"formatter\":{\"id\":\"9091\"},\"group\":null,\"major_label_policy\":{\"id\":\"9092\"},\"major_label_text_color\":\"#E0E0E0\",\"major_label_text_font\":\"Helvetica\",\"major_label_text_font_size\":\"1.025em\",\"major_tick_line_alpha\":0,\"major_tick_line_color\":\"#E0E0E0\",\"minor_tick_line_alpha\":0,\"minor_tick_line_color\":\"#E0E0E0\",\"ticker\":{\"id\":\"8735\"}},\"id\":\"8734\",\"type\":\"LinearAxis\"},{\"attributes\":{},\"id\":\"9099\",\"type\":\"UnionRenderers\"},{\"attributes\":{},\"id\":\"9100\",\"type\":\"Selection\"},{\"attributes\":{\"axis\":{\"id\":\"8660\"},\"coordinates\":null,\"dimension\":1,\"grid_line_alpha\":0.25,\"grid_line_color\":\"#E0E0E0\",\"group\":null,\"ticker\":null},\"id\":\"8663\",\"type\":\"Grid\"},{\"attributes\":{},\"id\":\"8661\",\"type\":\"BasicTicker\"},{\"attributes\":{},\"id\":\"8665\",\"type\":\"WheelZoomTool\"},{\"attributes\":{},\"id\":\"8664\",\"type\":\"PanTool\"},{\"attributes\":{\"overlay\":{\"id\":\"8670\"}},\"id\":\"8666\",\"type\":\"BoxZoomTool\"},{\"attributes\":{},\"id\":\"8667\",\"type\":\"SaveTool\"},{\"attributes\":{},\"id\":\"8668\",\"type\":\"ResetTool\"},{\"attributes\":{},\"id\":\"9083\",\"type\":\"AllLabels\"},{\"attributes\":{\"bottom_units\":\"screen\",\"coordinates\":null,\"fill_alpha\":0.5,\"fill_color\":\"lightgrey\",\"group\":null,\"left_units\":\"screen\",\"level\":\"overlay\",\"line_alpha\":1.0,\"line_color\":\"black\",\"line_dash\":[4,4],\"line_width\":2,\"right_units\":\"screen\",\"syncable\":false,\"top_units\":\"screen\"},\"id\":\"8670\",\"type\":\"BoxAnnotation\"},{\"attributes\":{\"fill_alpha\":{\"value\":0.2},\"fill_color\":{\"value\":\"#F56FA1\"},\"hatch_alpha\":{\"value\":0.2},\"hatch_color\":{\"value\":\"#F56FA1\"},\"line_alpha\":{\"value\":0.2},\"line_color\":{\"value\":\"#F56FA1\"},\"size\":{\"value\":12},\"x\":{\"field\":\"x\"},\"y\":{\"field\":\"y\"}},\"id\":\"8681\",\"type\":\"Circle\"},{\"attributes\":{\"fill_alpha\":{\"value\":0.2},\"fill_color\":{\"value\":\"#5D3954\"},\"hatch_alpha\":{\"value\":0.2},\"hatch_color\":{\"value\":\"#5D3954\"},\"line_alpha\":{\"value\":0.2},\"line_color\":{\"value\":\"#5D3954\"},\"marker\":{\"value\":\"square\"},\"size\":{\"value\":12},\"x\":{\"field\":\"x\"},\"y\":{\"field\":\"y\"}},\"id\":\"8755\",\"type\":\"Scatter\"},{\"attributes\":{},\"id\":\"8648\",\"type\":\"DataRange1d\"},{\"attributes\":{\"fill_alpha\":{\"value\":0.8},\"fill_color\":{\"value\":\"#2E2D88\"},\"hatch_alpha\":{\"value\":0.8},\"hatch_color\":{\"value\":\"#2E2D88\"},\"line_alpha\":{\"value\":0.8},\"line_color\":{\"value\":\"#2E2D88\"},\"marker\":{\"value\":\"triangle\"},\"size\":{\"value\":12},\"x\":{\"field\":\"x\"},\"y\":{\"field\":\"y\"}},\"id\":\"8716\",\"type\":\"Scatter\"},{\"attributes\":{\"fill_alpha\":{\"value\":0.1},\"fill_color\":{\"value\":\"#F56FA1\"},\"hatch_alpha\":{\"value\":0.1},\"hatch_color\":{\"value\":\"#F56FA1\"},\"line_alpha\":{\"value\":0.1},\"line_color\":{\"value\":\"#F56FA1\"},\"size\":{\"value\":12},\"x\":{\"field\":\"x\"},\"y\":{\"field\":\"y\"}},\"id\":\"8680\",\"type\":\"Circle\"},{\"attributes\":{},\"id\":\"9102\",\"type\":\"UnionRenderers\"},{\"attributes\":{},\"id\":\"9082\",\"type\":\"BasicTickFormatter\"},{\"attributes\":{\"background_fill_color\":\"#fafafa\",\"below\":[{\"id\":\"8656\"}],\"border_fill_color\":\"#15191C\",\"center\":[{\"id\":\"8659\"},{\"id\":\"8663\"}],\"height\":250,\"left\":[{\"id\":\"8660\"}],\"outline_line_alpha\":0.25,\"outline_line_color\":\"#E0E0E0\",\"renderers\":[{\"id\":\"8682\"}],\"title\":{\"id\":\"9072\"},\"toolbar\":{\"id\":\"8671\"},\"width\":250,\"x_range\":{\"id\":\"8648\"},\"x_scale\":{\"id\":\"8652\"},\"y_range\":{\"id\":\"8650\"},\"y_scale\":{\"id\":\"8654\"}},\"id\":\"8647\",\"subtype\":\"Figure\",\"type\":\"Plot\"},{\"attributes\":{\"data\":{\"x\":[0,1,2,3,4,5,6,7,8,9,10],\"y\":[0,1,2,3,4,5,6,7,8,9,10]},\"selected\":{\"id\":\"9097\"},\"selection_policy\":{\"id\":\"9096\"}},\"id\":\"8678\",\"type\":\"ColumnDataSource\"},{\"attributes\":{},\"id\":\"9103\",\"type\":\"Selection\"},{\"attributes\":{\"fill_alpha\":{\"value\":0.8},\"fill_color\":{\"value\":\"#F56FA1\"},\"hatch_alpha\":{\"value\":0.8},\"hatch_color\":{\"value\":\"#F56FA1\"},\"line_alpha\":{\"value\":0.8},\"line_color\":{\"value\":\"#F56FA1\"},\"size\":{\"value\":12},\"x\":{\"field\":\"x\"},\"y\":{\"field\":\"y\"}},\"id\":\"8679\",\"type\":\"Circle\"},{\"attributes\":{},\"id\":\"9079\",\"type\":\"BasicTickFormatter\"},{\"attributes\":{},\"id\":\"9080\",\"type\":\"AllLabels\"},{\"attributes\":{},\"id\":\"8687\",\"type\":\"DataRange1d\"},{\"attributes\":{\"fill_alpha\":{\"value\":0.2},\"fill_color\":{\"value\":\"#2E2D88\"},\"hatch_alpha\":{\"value\":0.2},\"hatch_color\":{\"value\":\"#2E2D88\"},\"line_alpha\":{\"value\":0.2},\"line_color\":{\"value\":\"#2E2D88\"},\"marker\":{\"value\":\"triangle\"},\"size\":{\"value\":12},\"x\":{\"field\":\"x\"},\"y\":{\"field\":\"y\"}},\"id\":\"8718\",\"type\":\"Scatter\"},{\"attributes\":{},\"id\":\"9085\",\"type\":\"BasicTickFormatter\"},{\"attributes\":{},\"id\":\"9086\",\"type\":\"AllLabels\"},{\"attributes\":{},\"id\":\"9088\",\"type\":\"BasicTickFormatter\"},{\"attributes\":{},\"id\":\"9089\",\"type\":\"AllLabels\"},{\"attributes\":{\"tools\":[{\"id\":\"8664\"},{\"id\":\"8665\"},{\"id\":\"8666\"},{\"id\":\"8667\"},{\"id\":\"8668\"},{\"id\":\"8669\"}]},\"id\":\"8671\",\"type\":\"Toolbar\"}],\"root_ids\":[\"9270\"]},\"title\":\"Bokeh Application\",\"version\":\"2.4.3\"}};\n",
       "  const render_items = [{\"docid\":\"86f22390-7d89-499c-b6d6-c01dfc586175\",\"root_ids\":[\"9270\"],\"roots\":{\"9270\":\"89289af4-65ee-4184-8c28-1e6d9586bb43\"}}];\n",
       "  root.Bokeh.embed.embed_items_notebook(docs_json, render_items);\n",
       "  }\n",
       "  if (root.Bokeh !== undefined) {\n",
       "    embed_document(root);\n",
       "  } else {\n",
       "    let attempts = 0;\n",
       "    const timer = setInterval(function(root) {\n",
       "      if (root.Bokeh !== undefined) {\n",
       "        clearInterval(timer);\n",
       "        embed_document(root);\n",
       "      } else {\n",
       "        attempts++;\n",
       "        if (attempts > 100) {\n",
       "          clearInterval(timer);\n",
       "          console.log(\"Bokeh: ERROR: Unable to run BokehJS code because BokehJS library is missing\");\n",
       "        }\n",
       "      }\n",
       "    }, 10, root)\n",
       "  }\n",
       "})(window);"
      ],
      "application/vnd.bokehjs_exec.v0+json": ""
     },
     "metadata": {
      "application/vnd.bokehjs_exec.v0+json": {
       "id": "9270"
      }
     },
     "output_type": "display_data"
    },
    {
     "data": {
      "text/html": [
       "\n",
       "  <div class=\"bk-root\" id=\"d44e22ab-873c-403b-a2f8-1bf1f558eeba\" data-root-id=\"9854\"></div>\n"
      ]
     },
     "metadata": {},
     "output_type": "display_data"
    },
    {
     "data": {
      "application/javascript": [
       "(function(root) {\n",
       "  function embed_document(root) {\n",
       "  const docs_json = {\"b7938edd-c0d5-492d-99af-5f19b17a78b2\":{\"defs\":[],\"roots\":{\"references\":[{\"attributes\":{\"children\":[{\"id\":\"9853\"},{\"id\":\"9851\"}]},\"id\":\"9854\",\"type\":\"Column\"},{\"attributes\":{},\"id\":\"8726\",\"type\":\"LinearScale\"},{\"attributes\":{},\"id\":\"8743\",\"type\":\"HelpTool\"},{\"attributes\":{},\"id\":\"8731\",\"type\":\"BasicTicker\"},{\"attributes\":{\"axis\":{\"id\":\"8730\"},\"coordinates\":null,\"grid_line_alpha\":0.25,\"grid_line_color\":\"#E0E0E0\",\"group\":null,\"ticker\":null},\"id\":\"8733\",\"type\":\"Grid\"},{\"attributes\":{\"tools\":[{\"id\":\"8738\"},{\"id\":\"8739\"},{\"id\":\"8740\"},{\"id\":\"8741\"},{\"id\":\"8742\"},{\"id\":\"8743\"}]},\"id\":\"8745\",\"type\":\"Toolbar\"},{\"attributes\":{\"source\":{\"id\":\"8715\"}},\"id\":\"8720\",\"type\":\"CDSView\"},{\"attributes\":{\"axis\":{\"id\":\"8734\"},\"coordinates\":null,\"dimension\":1,\"grid_line_alpha\":0.25,\"grid_line_color\":\"#E0E0E0\",\"group\":null,\"ticker\":null},\"id\":\"8737\",\"type\":\"Grid\"},{\"attributes\":{},\"id\":\"8735\",\"type\":\"BasicTicker\"},{\"attributes\":{},\"id\":\"8739\",\"type\":\"WheelZoomTool\"},{\"attributes\":{},\"id\":\"8738\",\"type\":\"PanTool\"},{\"attributes\":{\"overlay\":{\"id\":\"8744\"}},\"id\":\"8740\",\"type\":\"BoxZoomTool\"},{\"attributes\":{},\"id\":\"8741\",\"type\":\"SaveTool\"},{\"attributes\":{},\"id\":\"8742\",\"type\":\"ResetTool\"},{\"attributes\":{},\"id\":\"8650\",\"type\":\"DataRange1d\"},{\"attributes\":{},\"id\":\"9091\",\"type\":\"BasicTickFormatter\"},{\"attributes\":{\"background_fill_color\":\"#fafafa\",\"below\":[{\"id\":\"8693\"}],\"border_fill_color\":\"#15191C\",\"center\":[{\"id\":\"8696\"},{\"id\":\"8700\"}],\"height\":250,\"left\":[{\"id\":\"8697\"}],\"outline_line_alpha\":0.25,\"outline_line_color\":\"#E0E0E0\",\"renderers\":[{\"id\":\"8719\"}],\"title\":{\"id\":\"9074\"},\"toolbar\":{\"id\":\"8708\"},\"toolbar_location\":null,\"width\":250,\"x_range\":{\"id\":\"8685\"},\"x_scale\":{\"id\":\"8689\"},\"y_range\":{\"id\":\"8687\"},\"y_scale\":{\"id\":\"8691\"}},\"id\":\"8684\",\"subtype\":\"Figure\",\"type\":\"Plot\"},{\"attributes\":{},\"id\":\"8691\",\"type\":\"LinearScale\"},{\"attributes\":{\"toolbars\":[{\"id\":\"8671\"},{\"id\":\"8708\"},{\"id\":\"8745\"}],\"tools\":[{\"id\":\"8664\"},{\"id\":\"8665\"},{\"id\":\"8666\"},{\"id\":\"8667\"},{\"id\":\"8668\"},{\"id\":\"8669\"},{\"id\":\"8701\"},{\"id\":\"8702\"},{\"id\":\"8703\"},{\"id\":\"8704\"},{\"id\":\"8705\"},{\"id\":\"8706\"},{\"id\":\"8738\"},{\"id\":\"8739\"},{\"id\":\"8740\"},{\"id\":\"8741\"},{\"id\":\"8742\"},{\"id\":\"8743\"}]},\"id\":\"9852\",\"type\":\"ProxyToolbar\"},{\"attributes\":{},\"id\":\"9092\",\"type\":\"AllLabels\"},{\"attributes\":{},\"id\":\"8706\",\"type\":\"HelpTool\"},{\"attributes\":{},\"id\":\"9094\",\"type\":\"BasicTickFormatter\"},{\"attributes\":{},\"id\":\"8701\",\"type\":\"PanTool\"},{\"attributes\":{},\"id\":\"8702\",\"type\":\"WheelZoomTool\"},{\"attributes\":{\"toolbar\":{\"id\":\"9852\"},\"toolbar_location\":\"above\"},\"id\":\"9853\",\"type\":\"ToolbarBox\"},{\"attributes\":{},\"id\":\"9095\",\"type\":\"AllLabels\"},{\"attributes\":{\"coordinates\":null,\"group\":null,\"text_color\":\"#E0E0E0\",\"text_font\":\"Helvetica\",\"text_font_size\":\"1.15em\"},\"id\":\"9074\",\"type\":\"Title\"},{\"attributes\":{},\"id\":\"8704\",\"type\":\"SaveTool\"},{\"attributes\":{\"overlay\":{\"id\":\"8707\"}},\"id\":\"8703\",\"type\":\"BoxZoomTool\"},{\"attributes\":{},\"id\":\"8705\",\"type\":\"ResetTool\"},{\"attributes\":{\"coordinates\":null,\"group\":null,\"text_color\":\"#E0E0E0\",\"text_font\":\"Helvetica\",\"text_font_size\":\"1.15em\"},\"id\":\"9076\",\"type\":\"Title\"},{\"attributes\":{\"bottom_units\":\"screen\",\"coordinates\":null,\"fill_alpha\":0.5,\"fill_color\":\"lightgrey\",\"group\":null,\"left_units\":\"screen\",\"level\":\"overlay\",\"line_alpha\":1.0,\"line_color\":\"black\",\"line_dash\":[4,4],\"line_width\":2,\"right_units\":\"screen\",\"syncable\":false,\"top_units\":\"screen\"},\"id\":\"8744\",\"type\":\"BoxAnnotation\"},{\"attributes\":{\"coordinates\":null,\"data_source\":{\"id\":\"8715\"},\"glyph\":{\"id\":\"8716\"},\"group\":null,\"hover_glyph\":null,\"muted_glyph\":{\"id\":\"8718\"},\"nonselection_glyph\":{\"id\":\"8717\"},\"view\":{\"id\":\"8720\"}},\"id\":\"8719\",\"type\":\"GlyphRenderer\"},{\"attributes\":{},\"id\":\"9096\",\"type\":\"UnionRenderers\"},{\"attributes\":{\"axis_label_standoff\":10,\"axis_label_text_color\":\"#E0E0E0\",\"axis_label_text_font\":\"Helvetica\",\"axis_label_text_font_size\":\"1.25em\",\"axis_label_text_font_style\":\"normal\",\"axis_line_alpha\":0,\"axis_line_color\":\"#E0E0E0\",\"coordinates\":null,\"formatter\":{\"id\":\"9088\"},\"group\":null,\"major_label_policy\":{\"id\":\"9089\"},\"major_label_text_color\":\"#E0E0E0\",\"major_label_text_font\":\"Helvetica\",\"major_label_text_font_size\":\"1.025em\",\"major_tick_line_alpha\":0,\"major_tick_line_color\":\"#E0E0E0\",\"minor_tick_line_alpha\":0,\"minor_tick_line_color\":\"#E0E0E0\",\"ticker\":{\"id\":\"8694\"}},\"id\":\"8693\",\"type\":\"LinearAxis\"},{\"attributes\":{\"source\":{\"id\":\"8678\"}},\"id\":\"8683\",\"type\":\"CDSView\"},{\"attributes\":{\"coordinates\":null,\"data_source\":{\"id\":\"8678\"},\"glyph\":{\"id\":\"8679\"},\"group\":null,\"hover_glyph\":null,\"muted_glyph\":{\"id\":\"8681\"},\"nonselection_glyph\":{\"id\":\"8680\"},\"view\":{\"id\":\"8683\"}},\"id\":\"8682\",\"type\":\"GlyphRenderer\"},{\"attributes\":{},\"id\":\"9097\",\"type\":\"Selection\"},{\"attributes\":{\"bottom_units\":\"screen\",\"coordinates\":null,\"fill_alpha\":0.5,\"fill_color\":\"lightgrey\",\"group\":null,\"left_units\":\"screen\",\"level\":\"overlay\",\"line_alpha\":1.0,\"line_color\":\"black\",\"line_dash\":[4,4],\"line_width\":2,\"right_units\":\"screen\",\"syncable\":false,\"top_units\":\"screen\"},\"id\":\"8707\",\"type\":\"BoxAnnotation\"},{\"attributes\":{},\"id\":\"8685\",\"type\":\"DataRange1d\"},{\"attributes\":{},\"id\":\"8694\",\"type\":\"BasicTicker\"},{\"attributes\":{\"axis\":{\"id\":\"8697\"},\"coordinates\":null,\"dimension\":1,\"grid_line_alpha\":0.25,\"grid_line_color\":\"#E0E0E0\",\"group\":null,\"ticker\":null},\"id\":\"8700\",\"type\":\"Grid\"},{\"attributes\":{},\"id\":\"8654\",\"type\":\"LinearScale\"},{\"attributes\":{\"axis_label_standoff\":10,\"axis_label_text_color\":\"#E0E0E0\",\"axis_label_text_font\":\"Helvetica\",\"axis_label_text_font_size\":\"1.25em\",\"axis_label_text_font_style\":\"normal\",\"axis_line_alpha\":0,\"axis_line_color\":\"#E0E0E0\",\"coordinates\":null,\"formatter\":{\"id\":\"9082\"},\"group\":null,\"major_label_policy\":{\"id\":\"9083\"},\"major_label_text_color\":\"#E0E0E0\",\"major_label_text_font\":\"Helvetica\",\"major_label_text_font_size\":\"1.025em\",\"major_tick_line_alpha\":0,\"major_tick_line_color\":\"#E0E0E0\",\"minor_tick_line_alpha\":0,\"minor_tick_line_color\":\"#E0E0E0\",\"ticker\":{\"id\":\"8657\"}},\"id\":\"8656\",\"type\":\"LinearAxis\"},{\"attributes\":{\"axis_label_standoff\":10,\"axis_label_text_color\":\"#E0E0E0\",\"axis_label_text_font\":\"Helvetica\",\"axis_label_text_font_size\":\"1.25em\",\"axis_label_text_font_style\":\"normal\",\"axis_line_alpha\":0,\"axis_line_color\":\"#E0E0E0\",\"coordinates\":null,\"formatter\":{\"id\":\"9079\"},\"group\":null,\"major_label_policy\":{\"id\":\"9080\"},\"major_label_text_color\":\"#E0E0E0\",\"major_label_text_font\":\"Helvetica\",\"major_label_text_font_size\":\"1.025em\",\"major_tick_line_alpha\":0,\"major_tick_line_color\":\"#E0E0E0\",\"minor_tick_line_alpha\":0,\"minor_tick_line_color\":\"#E0E0E0\",\"ticker\":{\"id\":\"8661\"}},\"id\":\"8660\",\"type\":\"LinearAxis\"},{\"attributes\":{\"coordinates\":null,\"data_source\":{\"id\":\"8752\"},\"glyph\":{\"id\":\"8753\"},\"group\":null,\"hover_glyph\":null,\"muted_glyph\":{\"id\":\"8755\"},\"nonselection_glyph\":{\"id\":\"8754\"},\"view\":{\"id\":\"8757\"}},\"id\":\"8756\",\"type\":\"GlyphRenderer\"},{\"attributes\":{},\"id\":\"8652\",\"type\":\"LinearScale\"},{\"attributes\":{\"data\":{\"x\":[0,1,2,3,4,5,6,7,8,9,10],\"y\":[10,9,8,7,6,5,4,3,2,1,0]},\"selected\":{\"id\":\"9100\"},\"selection_policy\":{\"id\":\"9099\"}},\"id\":\"8715\",\"type\":\"ColumnDataSource\"},{\"attributes\":{},\"id\":\"8669\",\"type\":\"HelpTool\"},{\"attributes\":{},\"id\":\"8657\",\"type\":\"BasicTicker\"},{\"attributes\":{\"axis\":{\"id\":\"8656\"},\"coordinates\":null,\"grid_line_alpha\":0.25,\"grid_line_color\":\"#E0E0E0\",\"group\":null,\"ticker\":null},\"id\":\"8659\",\"type\":\"Grid\"},{\"attributes\":{},\"id\":\"8689\",\"type\":\"LinearScale\"},{\"attributes\":{\"axis_label_standoff\":10,\"axis_label_text_color\":\"#E0E0E0\",\"axis_label_text_font\":\"Helvetica\",\"axis_label_text_font_size\":\"1.25em\",\"axis_label_text_font_style\":\"normal\",\"axis_line_alpha\":0,\"axis_line_color\":\"#E0E0E0\",\"coordinates\":null,\"formatter\":{\"id\":\"9085\"},\"group\":null,\"major_label_policy\":{\"id\":\"9086\"},\"major_label_text_color\":\"#E0E0E0\",\"major_label_text_font\":\"Helvetica\",\"major_label_text_font_size\":\"1.025em\",\"major_tick_line_alpha\":0,\"major_tick_line_color\":\"#E0E0E0\",\"minor_tick_line_alpha\":0,\"minor_tick_line_color\":\"#E0E0E0\",\"ticker\":{\"id\":\"8698\"}},\"id\":\"8697\",\"type\":\"LinearAxis\"},{\"attributes\":{\"fill_alpha\":{\"value\":0.1},\"fill_color\":{\"value\":\"#5D3954\"},\"hatch_alpha\":{\"value\":0.1},\"hatch_color\":{\"value\":\"#5D3954\"},\"line_alpha\":{\"value\":0.1},\"line_color\":{\"value\":\"#5D3954\"},\"marker\":{\"value\":\"square\"},\"size\":{\"value\":12},\"x\":{\"field\":\"x\"},\"y\":{\"field\":\"y\"}},\"id\":\"8754\",\"type\":\"Scatter\"},{\"attributes\":{\"data\":{\"x\":[0,1,2,3,4,5,6,7,8,9,10],\"y\":[5,4,3,2,1,0,1,2,3,4,5]},\"selected\":{\"id\":\"9103\"},\"selection_policy\":{\"id\":\"9102\"}},\"id\":\"8752\",\"type\":\"ColumnDataSource\"},{\"attributes\":{\"coordinates\":null,\"group\":null,\"text_color\":\"#E0E0E0\",\"text_font\":\"Helvetica\",\"text_font_size\":\"1.15em\"},\"id\":\"9072\",\"type\":\"Title\"},{\"attributes\":{},\"id\":\"8722\",\"type\":\"DataRange1d\"},{\"attributes\":{\"axis\":{\"id\":\"8693\"},\"coordinates\":null,\"grid_line_alpha\":0.25,\"grid_line_color\":\"#E0E0E0\",\"group\":null,\"ticker\":null},\"id\":\"8696\",\"type\":\"Grid\"},{\"attributes\":{},\"id\":\"8698\",\"type\":\"BasicTicker\"},{\"attributes\":{\"source\":{\"id\":\"8752\"}},\"id\":\"8757\",\"type\":\"CDSView\"},{\"attributes\":{\"background_fill_color\":\"#fafafa\",\"below\":[{\"id\":\"8730\"}],\"border_fill_color\":\"#15191C\",\"center\":[{\"id\":\"8733\"},{\"id\":\"8737\"}],\"height\":250,\"left\":[{\"id\":\"8734\"}],\"outline_line_alpha\":0.25,\"outline_line_color\":\"#E0E0E0\",\"renderers\":[{\"id\":\"8756\"}],\"title\":{\"id\":\"9076\"},\"toolbar\":{\"id\":\"8745\"},\"toolbar_location\":null,\"width\":250,\"x_range\":{\"id\":\"8722\"},\"x_scale\":{\"id\":\"8726\"},\"y_range\":{\"id\":\"8724\"},\"y_scale\":{\"id\":\"8728\"}},\"id\":\"8721\",\"subtype\":\"Figure\",\"type\":\"Plot\"},{\"attributes\":{},\"id\":\"8724\",\"type\":\"DataRange1d\"},{\"attributes\":{\"fill_alpha\":{\"value\":0.1},\"fill_color\":{\"value\":\"#2E2D88\"},\"hatch_alpha\":{\"value\":0.1},\"hatch_color\":{\"value\":\"#2E2D88\"},\"line_alpha\":{\"value\":0.1},\"line_color\":{\"value\":\"#2E2D88\"},\"marker\":{\"value\":\"triangle\"},\"size\":{\"value\":12},\"x\":{\"field\":\"x\"},\"y\":{\"field\":\"y\"}},\"id\":\"8717\",\"type\":\"Scatter\"},{\"attributes\":{},\"id\":\"8728\",\"type\":\"LinearScale\"},{\"attributes\":{\"fill_alpha\":{\"value\":0.8},\"fill_color\":{\"value\":\"#5D3954\"},\"hatch_alpha\":{\"value\":0.8},\"hatch_color\":{\"value\":\"#5D3954\"},\"line_alpha\":{\"value\":0.8},\"line_color\":{\"value\":\"#5D3954\"},\"marker\":{\"value\":\"square\"},\"size\":{\"value\":12},\"x\":{\"field\":\"x\"},\"y\":{\"field\":\"y\"}},\"id\":\"8753\",\"type\":\"Scatter\"},{\"attributes\":{\"axis_label_standoff\":10,\"axis_label_text_color\":\"#E0E0E0\",\"axis_label_text_font\":\"Helvetica\",\"axis_label_text_font_size\":\"1.25em\",\"axis_label_text_font_style\":\"normal\",\"axis_line_alpha\":0,\"axis_line_color\":\"#E0E0E0\",\"coordinates\":null,\"formatter\":{\"id\":\"9094\"},\"group\":null,\"major_label_policy\":{\"id\":\"9095\"},\"major_label_text_color\":\"#E0E0E0\",\"major_label_text_font\":\"Helvetica\",\"major_label_text_font_size\":\"1.025em\",\"major_tick_line_alpha\":0,\"major_tick_line_color\":\"#E0E0E0\",\"minor_tick_line_alpha\":0,\"minor_tick_line_color\":\"#E0E0E0\",\"ticker\":{\"id\":\"8731\"}},\"id\":\"8730\",\"type\":\"LinearAxis\"},{\"attributes\":{\"tools\":[{\"id\":\"8701\"},{\"id\":\"8702\"},{\"id\":\"8703\"},{\"id\":\"8704\"},{\"id\":\"8705\"},{\"id\":\"8706\"}]},\"id\":\"8708\",\"type\":\"Toolbar\"},{\"attributes\":{\"axis_label_standoff\":10,\"axis_label_text_color\":\"#E0E0E0\",\"axis_label_text_font\":\"Helvetica\",\"axis_label_text_font_size\":\"1.25em\",\"axis_label_text_font_style\":\"normal\",\"axis_line_alpha\":0,\"axis_line_color\":\"#E0E0E0\",\"coordinates\":null,\"formatter\":{\"id\":\"9091\"},\"group\":null,\"major_label_policy\":{\"id\":\"9092\"},\"major_label_text_color\":\"#E0E0E0\",\"major_label_text_font\":\"Helvetica\",\"major_label_text_font_size\":\"1.025em\",\"major_tick_line_alpha\":0,\"major_tick_line_color\":\"#E0E0E0\",\"minor_tick_line_alpha\":0,\"minor_tick_line_color\":\"#E0E0E0\",\"ticker\":{\"id\":\"8735\"}},\"id\":\"8734\",\"type\":\"LinearAxis\"},{\"attributes\":{},\"id\":\"9099\",\"type\":\"UnionRenderers\"},{\"attributes\":{},\"id\":\"9100\",\"type\":\"Selection\"},{\"attributes\":{\"axis\":{\"id\":\"8660\"},\"coordinates\":null,\"dimension\":1,\"grid_line_alpha\":0.25,\"grid_line_color\":\"#E0E0E0\",\"group\":null,\"ticker\":null},\"id\":\"8663\",\"type\":\"Grid\"},{\"attributes\":{},\"id\":\"8661\",\"type\":\"BasicTicker\"},{\"attributes\":{},\"id\":\"8665\",\"type\":\"WheelZoomTool\"},{\"attributes\":{},\"id\":\"8664\",\"type\":\"PanTool\"},{\"attributes\":{\"overlay\":{\"id\":\"8670\"}},\"id\":\"8666\",\"type\":\"BoxZoomTool\"},{\"attributes\":{},\"id\":\"8667\",\"type\":\"SaveTool\"},{\"attributes\":{},\"id\":\"8668\",\"type\":\"ResetTool\"},{\"attributes\":{},\"id\":\"9083\",\"type\":\"AllLabels\"},{\"attributes\":{\"bottom_units\":\"screen\",\"coordinates\":null,\"fill_alpha\":0.5,\"fill_color\":\"lightgrey\",\"group\":null,\"left_units\":\"screen\",\"level\":\"overlay\",\"line_alpha\":1.0,\"line_color\":\"black\",\"line_dash\":[4,4],\"line_width\":2,\"right_units\":\"screen\",\"syncable\":false,\"top_units\":\"screen\"},\"id\":\"8670\",\"type\":\"BoxAnnotation\"},{\"attributes\":{\"fill_alpha\":{\"value\":0.2},\"fill_color\":{\"value\":\"#F56FA1\"},\"hatch_alpha\":{\"value\":0.2},\"hatch_color\":{\"value\":\"#F56FA1\"},\"line_alpha\":{\"value\":0.2},\"line_color\":{\"value\":\"#F56FA1\"},\"size\":{\"value\":12},\"x\":{\"field\":\"x\"},\"y\":{\"field\":\"y\"}},\"id\":\"8681\",\"type\":\"Circle\"},{\"attributes\":{\"fill_alpha\":{\"value\":0.2},\"fill_color\":{\"value\":\"#5D3954\"},\"hatch_alpha\":{\"value\":0.2},\"hatch_color\":{\"value\":\"#5D3954\"},\"line_alpha\":{\"value\":0.2},\"line_color\":{\"value\":\"#5D3954\"},\"marker\":{\"value\":\"square\"},\"size\":{\"value\":12},\"x\":{\"field\":\"x\"},\"y\":{\"field\":\"y\"}},\"id\":\"8755\",\"type\":\"Scatter\"},{\"attributes\":{},\"id\":\"8648\",\"type\":\"DataRange1d\"},{\"attributes\":{\"fill_alpha\":{\"value\":0.8},\"fill_color\":{\"value\":\"#2E2D88\"},\"hatch_alpha\":{\"value\":0.8},\"hatch_color\":{\"value\":\"#2E2D88\"},\"line_alpha\":{\"value\":0.8},\"line_color\":{\"value\":\"#2E2D88\"},\"marker\":{\"value\":\"triangle\"},\"size\":{\"value\":12},\"x\":{\"field\":\"x\"},\"y\":{\"field\":\"y\"}},\"id\":\"8716\",\"type\":\"Scatter\"},{\"attributes\":{\"fill_alpha\":{\"value\":0.1},\"fill_color\":{\"value\":\"#F56FA1\"},\"hatch_alpha\":{\"value\":0.1},\"hatch_color\":{\"value\":\"#F56FA1\"},\"line_alpha\":{\"value\":0.1},\"line_color\":{\"value\":\"#F56FA1\"},\"size\":{\"value\":12},\"x\":{\"field\":\"x\"},\"y\":{\"field\":\"y\"}},\"id\":\"8680\",\"type\":\"Circle\"},{\"attributes\":{},\"id\":\"9102\",\"type\":\"UnionRenderers\"},{\"attributes\":{},\"id\":\"9082\",\"type\":\"BasicTickFormatter\"},{\"attributes\":{\"background_fill_color\":\"#fafafa\",\"below\":[{\"id\":\"8656\"}],\"border_fill_color\":\"#15191C\",\"center\":[{\"id\":\"8659\"},{\"id\":\"8663\"}],\"height\":250,\"left\":[{\"id\":\"8660\"}],\"outline_line_alpha\":0.25,\"outline_line_color\":\"#E0E0E0\",\"renderers\":[{\"id\":\"8682\"}],\"title\":{\"id\":\"9072\"},\"toolbar\":{\"id\":\"8671\"},\"toolbar_location\":null,\"width\":250,\"x_range\":{\"id\":\"8648\"},\"x_scale\":{\"id\":\"8652\"},\"y_range\":{\"id\":\"8650\"},\"y_scale\":{\"id\":\"8654\"}},\"id\":\"8647\",\"subtype\":\"Figure\",\"type\":\"Plot\"},{\"attributes\":{\"data\":{\"x\":[0,1,2,3,4,5,6,7,8,9,10],\"y\":[0,1,2,3,4,5,6,7,8,9,10]},\"selected\":{\"id\":\"9097\"},\"selection_policy\":{\"id\":\"9096\"}},\"id\":\"8678\",\"type\":\"ColumnDataSource\"},{\"attributes\":{},\"id\":\"9103\",\"type\":\"Selection\"},{\"attributes\":{\"fill_alpha\":{\"value\":0.8},\"fill_color\":{\"value\":\"#F56FA1\"},\"hatch_alpha\":{\"value\":0.8},\"hatch_color\":{\"value\":\"#F56FA1\"},\"line_alpha\":{\"value\":0.8},\"line_color\":{\"value\":\"#F56FA1\"},\"size\":{\"value\":12},\"x\":{\"field\":\"x\"},\"y\":{\"field\":\"y\"}},\"id\":\"8679\",\"type\":\"Circle\"},{\"attributes\":{},\"id\":\"9079\",\"type\":\"BasicTickFormatter\"},{\"attributes\":{},\"id\":\"9080\",\"type\":\"AllLabels\"},{\"attributes\":{\"children\":[[{\"id\":\"8647\"},0,0],[{\"id\":\"8684\"},0,1],[{\"id\":\"8721\"},0,2]]},\"id\":\"9851\",\"type\":\"GridBox\"},{\"attributes\":{},\"id\":\"8687\",\"type\":\"DataRange1d\"},{\"attributes\":{\"fill_alpha\":{\"value\":0.2},\"fill_color\":{\"value\":\"#2E2D88\"},\"hatch_alpha\":{\"value\":0.2},\"hatch_color\":{\"value\":\"#2E2D88\"},\"line_alpha\":{\"value\":0.2},\"line_color\":{\"value\":\"#2E2D88\"},\"marker\":{\"value\":\"triangle\"},\"size\":{\"value\":12},\"x\":{\"field\":\"x\"},\"y\":{\"field\":\"y\"}},\"id\":\"8718\",\"type\":\"Scatter\"},{\"attributes\":{},\"id\":\"9085\",\"type\":\"BasicTickFormatter\"},{\"attributes\":{},\"id\":\"9086\",\"type\":\"AllLabels\"},{\"attributes\":{},\"id\":\"9088\",\"type\":\"BasicTickFormatter\"},{\"attributes\":{},\"id\":\"9089\",\"type\":\"AllLabels\"},{\"attributes\":{\"tools\":[{\"id\":\"8664\"},{\"id\":\"8665\"},{\"id\":\"8666\"},{\"id\":\"8667\"},{\"id\":\"8668\"},{\"id\":\"8669\"}]},\"id\":\"8671\",\"type\":\"Toolbar\"}],\"root_ids\":[\"9854\"]},\"title\":\"Bokeh Application\",\"version\":\"2.4.3\"}};\n",
       "  const render_items = [{\"docid\":\"b7938edd-c0d5-492d-99af-5f19b17a78b2\",\"root_ids\":[\"9854\"],\"roots\":{\"9854\":\"d44e22ab-873c-403b-a2f8-1bf1f558eeba\"}}];\n",
       "  root.Bokeh.embed.embed_items_notebook(docs_json, render_items);\n",
       "  }\n",
       "  if (root.Bokeh !== undefined) {\n",
       "    embed_document(root);\n",
       "  } else {\n",
       "    let attempts = 0;\n",
       "    const timer = setInterval(function(root) {\n",
       "      if (root.Bokeh !== undefined) {\n",
       "        clearInterval(timer);\n",
       "        embed_document(root);\n",
       "      } else {\n",
       "        attempts++;\n",
       "        if (attempts > 100) {\n",
       "          clearInterval(timer);\n",
       "          console.log(\"Bokeh: ERROR: Unable to run BokehJS code because BokehJS library is missing\");\n",
       "        }\n",
       "      }\n",
       "    }, 10, root)\n",
       "  }\n",
       "})(window);"
      ],
      "application/vnd.bokehjs_exec.v0+json": ""
     },
     "metadata": {
      "application/vnd.bokehjs_exec.v0+json": {
       "id": "9854"
      }
     },
     "output_type": "display_data"
    }
   ],
   "source": [
    "# prepare some data\n",
    "x = list(range(11))\n",
    "y0 = x\n",
    "y1 = [10 - i for i in x]\n",
    "y2 = [abs(i - 5) for i in x]\n",
    "\n",
    "# create three plots with one renderer each\n",
    "s1 = figure(width=250, height=250, background_fill_color=\"#fafafa\")\n",
    "s1.circle(x, y0, size=12, color=\"#F56FA1\", alpha=0.8)\n",
    "\n",
    "s2 = figure(width=250, height=250, background_fill_color=\"#fafafa\")\n",
    "s2.triangle(x, y1, size=12, color=\"#2E2D88\", alpha=0.8)\n",
    "\n",
    "s3 = figure(width=250, height=250, background_fill_color=\"#fafafa\")\n",
    "s3.square(x, y2, size=12, color=\"#5D3954\", alpha=0.8)\n",
    "\n",
    "# put the results in a row, column, gridplot and show\n",
    "show(row(s1, s2, s3))\n",
    "show(column(s1, s2, s3))\n",
    "show(gridplot([[s1,s2,s3]]))"
   ]
  },
  {
   "cell_type": "markdown",
   "id": "cedb928d",
   "metadata": {},
   "source": [
    "# Defining sizing behaviour"
   ]
  },
  {
   "cell_type": "code",
   "execution_count": 51,
   "id": "7861c373",
   "metadata": {},
   "outputs": [
    {
     "data": {
      "text/html": [
       "\n",
       "  <div class=\"bk-root\" id=\"0e1f07d3-05e4-42d6-931c-201370cd572e\" data-root-id=\"10543\"></div>\n"
      ]
     },
     "metadata": {},
     "output_type": "display_data"
    },
    {
     "data": {
      "application/javascript": [
       "(function(root) {\n",
       "  function embed_document(root) {\n",
       "  const docs_json = {\"cc1dd865-c834-4976-ad9f-0543edb70e15\":{\"defs\":[],\"roots\":{\"references\":[{\"attributes\":{\"children\":[{\"id\":\"10432\"},{\"id\":\"10469\"},{\"id\":\"10506\"}],\"sizing_mode\":\"scale_width\"},\"id\":\"10543\",\"type\":\"Row\"},{\"attributes\":{\"fill_alpha\":{\"value\":0.1},\"fill_color\":{\"value\":\"red\"},\"hatch_alpha\":{\"value\":0.1},\"hatch_color\":{\"value\":\"red\"},\"line_alpha\":{\"value\":0.1},\"line_color\":{\"value\":\"red\"},\"size\":{\"value\":12},\"x\":{\"field\":\"x\"},\"y\":{\"field\":\"y\"}},\"id\":\"10465\",\"type\":\"Circle\"},{\"attributes\":{\"axis\":{\"id\":\"10519\"},\"coordinates\":null,\"dimension\":1,\"grid_line_alpha\":0.25,\"grid_line_color\":\"#E0E0E0\",\"group\":null,\"ticker\":null},\"id\":\"10522\",\"type\":\"Grid\"},{\"attributes\":{},\"id\":\"10520\",\"type\":\"BasicTicker\"},{\"attributes\":{},\"id\":\"10975\",\"type\":\"BasicTickFormatter\"},{\"attributes\":{},\"id\":\"10527\",\"type\":\"ResetTool\"},{\"attributes\":{},\"id\":\"10976\",\"type\":\"AllLabels\"},{\"attributes\":{},\"id\":\"10526\",\"type\":\"SaveTool\"},{\"attributes\":{},\"id\":\"10523\",\"type\":\"PanTool\"},{\"attributes\":{},\"id\":\"10978\",\"type\":\"BasicTickFormatter\"},{\"attributes\":{\"coordinates\":null,\"data_source\":{\"id\":\"10463\"},\"glyph\":{\"id\":\"10464\"},\"group\":null,\"hover_glyph\":null,\"muted_glyph\":{\"id\":\"10466\"},\"nonselection_glyph\":{\"id\":\"10465\"},\"view\":{\"id\":\"10468\"}},\"id\":\"10467\",\"type\":\"GlyphRenderer\"},{\"attributes\":{},\"id\":\"10979\",\"type\":\"AllLabels\"},{\"attributes\":{\"overlay\":{\"id\":\"10529\"}},\"id\":\"10525\",\"type\":\"BoxZoomTool\"},{\"attributes\":{\"axis_label_standoff\":10,\"axis_label_text_color\":\"#E0E0E0\",\"axis_label_text_font\":\"Helvetica\",\"axis_label_text_font_size\":\"1.25em\",\"axis_label_text_font_style\":\"normal\",\"axis_line_alpha\":0,\"axis_line_color\":\"#E0E0E0\",\"coordinates\":null,\"formatter\":{\"id\":\"10978\"},\"group\":null,\"major_label_policy\":{\"id\":\"10979\"},\"major_label_text_color\":\"#E0E0E0\",\"major_label_text_font\":\"Helvetica\",\"major_label_text_font_size\":\"1.025em\",\"major_tick_line_alpha\":0,\"major_tick_line_color\":\"#E0E0E0\",\"minor_tick_line_alpha\":0,\"minor_tick_line_color\":\"#E0E0E0\",\"ticker\":{\"id\":\"10516\"}},\"id\":\"10515\",\"type\":\"LinearAxis\"},{\"attributes\":{},\"id\":\"10446\",\"type\":\"BasicTicker\"},{\"attributes\":{\"axis\":{\"id\":\"10445\"},\"coordinates\":null,\"dimension\":1,\"grid_line_alpha\":0.25,\"grid_line_color\":\"#E0E0E0\",\"group\":null,\"ticker\":null},\"id\":\"10448\",\"type\":\"Grid\"},{\"attributes\":{\"bottom_units\":\"screen\",\"coordinates\":null,\"fill_alpha\":0.5,\"fill_color\":\"lightgrey\",\"group\":null,\"left_units\":\"screen\",\"level\":\"overlay\",\"line_alpha\":1.0,\"line_color\":\"black\",\"line_dash\":[4,4],\"line_width\":2,\"right_units\":\"screen\",\"syncable\":false,\"top_units\":\"screen\"},\"id\":\"10529\",\"type\":\"BoxAnnotation\"},{\"attributes\":{},\"id\":\"10470\",\"type\":\"DataRange1d\"},{\"attributes\":{},\"id\":\"10524\",\"type\":\"WheelZoomTool\"},{\"attributes\":{},\"id\":\"10980\",\"type\":\"UnionRenderers\"},{\"attributes\":{\"fill_alpha\":{\"value\":0.8},\"fill_color\":{\"value\":\"blue\"},\"hatch_alpha\":{\"value\":0.8},\"hatch_color\":{\"value\":\"blue\"},\"line_alpha\":{\"value\":0.8},\"line_color\":{\"value\":\"blue\"},\"marker\":{\"value\":\"square\"},\"size\":{\"value\":12},\"x\":{\"field\":\"x\"},\"y\":{\"field\":\"y\"}},\"id\":\"10538\",\"type\":\"Scatter\"},{\"attributes\":{},\"id\":\"10981\",\"type\":\"Selection\"},{\"attributes\":{\"bottom_units\":\"screen\",\"coordinates\":null,\"fill_alpha\":0.5,\"fill_color\":\"lightgrey\",\"group\":null,\"left_units\":\"screen\",\"level\":\"overlay\",\"line_alpha\":1.0,\"line_color\":\"black\",\"line_dash\":[4,4],\"line_width\":2,\"right_units\":\"screen\",\"syncable\":false,\"top_units\":\"screen\"},\"id\":\"10492\",\"type\":\"BoxAnnotation\"},{\"attributes\":{\"fill_alpha\":{\"value\":0.8},\"fill_color\":{\"value\":\"red\"},\"hatch_alpha\":{\"value\":0.8},\"hatch_color\":{\"value\":\"red\"},\"line_alpha\":{\"value\":0.8},\"line_color\":{\"value\":\"red\"},\"size\":{\"value\":12},\"x\":{\"field\":\"x\"},\"y\":{\"field\":\"y\"}},\"id\":\"10464\",\"type\":\"Circle\"},{\"attributes\":{\"axis_label_standoff\":10,\"axis_label_text_color\":\"#E0E0E0\",\"axis_label_text_font\":\"Helvetica\",\"axis_label_text_font_size\":\"1.25em\",\"axis_label_text_font_style\":\"normal\",\"axis_line_alpha\":0,\"axis_line_color\":\"#E0E0E0\",\"coordinates\":null,\"formatter\":{\"id\":\"10966\"},\"group\":null,\"major_label_policy\":{\"id\":\"10967\"},\"major_label_text_color\":\"#E0E0E0\",\"major_label_text_font\":\"Helvetica\",\"major_label_text_font_size\":\"1.025em\",\"major_tick_line_alpha\":0,\"major_tick_line_color\":\"#E0E0E0\",\"minor_tick_line_alpha\":0,\"minor_tick_line_color\":\"#E0E0E0\",\"ticker\":{\"id\":\"10442\"}},\"id\":\"10441\",\"type\":\"LinearAxis\"},{\"attributes\":{},\"id\":\"10439\",\"type\":\"LinearScale\"},{\"attributes\":{},\"id\":\"10453\",\"type\":\"ResetTool\"},{\"attributes\":{},\"id\":\"10452\",\"type\":\"SaveTool\"},{\"attributes\":{\"overlay\":{\"id\":\"10455\"}},\"id\":\"10451\",\"type\":\"BoxZoomTool\"},{\"attributes\":{},\"id\":\"10449\",\"type\":\"PanTool\"},{\"attributes\":{},\"id\":\"10437\",\"type\":\"LinearScale\"},{\"attributes\":{\"source\":{\"id\":\"10463\"}},\"id\":\"10468\",\"type\":\"CDSView\"},{\"attributes\":{\"axis_label_standoff\":10,\"axis_label_text_color\":\"#E0E0E0\",\"axis_label_text_font\":\"Helvetica\",\"axis_label_text_font_size\":\"1.25em\",\"axis_label_text_font_style\":\"normal\",\"axis_line_alpha\":0,\"axis_line_color\":\"#E0E0E0\",\"coordinates\":null,\"formatter\":{\"id\":\"10972\"},\"group\":null,\"major_label_policy\":{\"id\":\"10973\"},\"major_label_text_color\":\"#E0E0E0\",\"major_label_text_font\":\"Helvetica\",\"major_label_text_font_size\":\"1.025em\",\"major_tick_line_alpha\":0,\"major_tick_line_color\":\"#E0E0E0\",\"minor_tick_line_alpha\":0,\"minor_tick_line_color\":\"#E0E0E0\",\"ticker\":{\"id\":\"10479\"}},\"id\":\"10478\",\"type\":\"LinearAxis\"},{\"attributes\":{\"axis_label_standoff\":10,\"axis_label_text_color\":\"#E0E0E0\",\"axis_label_text_font\":\"Helvetica\",\"axis_label_text_font_size\":\"1.25em\",\"axis_label_text_font_style\":\"normal\",\"axis_line_alpha\":0,\"axis_line_color\":\"#E0E0E0\",\"coordinates\":null,\"formatter\":{\"id\":\"10963\"},\"group\":null,\"major_label_policy\":{\"id\":\"10964\"},\"major_label_text_color\":\"#E0E0E0\",\"major_label_text_font\":\"Helvetica\",\"major_label_text_font_size\":\"1.025em\",\"major_tick_line_alpha\":0,\"major_tick_line_color\":\"#E0E0E0\",\"minor_tick_line_alpha\":0,\"minor_tick_line_color\":\"#E0E0E0\",\"ticker\":{\"id\":\"10446\"}},\"id\":\"10445\",\"type\":\"LinearAxis\"},{\"attributes\":{\"bottom_units\":\"screen\",\"coordinates\":null,\"fill_alpha\":0.5,\"fill_color\":\"lightgrey\",\"group\":null,\"left_units\":\"screen\",\"level\":\"overlay\",\"line_alpha\":1.0,\"line_color\":\"black\",\"line_dash\":[4,4],\"line_width\":2,\"right_units\":\"screen\",\"syncable\":false,\"top_units\":\"screen\"},\"id\":\"10455\",\"type\":\"BoxAnnotation\"},{\"attributes\":{\"tools\":[{\"id\":\"10486\"},{\"id\":\"10487\"},{\"id\":\"10488\"},{\"id\":\"10489\"},{\"id\":\"10490\"},{\"id\":\"10491\"}]},\"id\":\"10493\",\"type\":\"Toolbar\"},{\"attributes\":{},\"id\":\"10479\",\"type\":\"BasicTicker\"},{\"attributes\":{},\"id\":\"10513\",\"type\":\"LinearScale\"},{\"attributes\":{\"axis_label_standoff\":10,\"axis_label_text_color\":\"#E0E0E0\",\"axis_label_text_font\":\"Helvetica\",\"axis_label_text_font_size\":\"1.25em\",\"axis_label_text_font_style\":\"normal\",\"axis_line_alpha\":0,\"axis_line_color\":\"#E0E0E0\",\"coordinates\":null,\"formatter\":{\"id\":\"10969\"},\"group\":null,\"major_label_policy\":{\"id\":\"10970\"},\"major_label_text_color\":\"#E0E0E0\",\"major_label_text_font\":\"Helvetica\",\"major_label_text_font_size\":\"1.025em\",\"major_tick_line_alpha\":0,\"major_tick_line_color\":\"#E0E0E0\",\"minor_tick_line_alpha\":0,\"minor_tick_line_color\":\"#E0E0E0\",\"ticker\":{\"id\":\"10483\"}},\"id\":\"10482\",\"type\":\"LinearAxis\"},{\"attributes\":{},\"id\":\"10509\",\"type\":\"DataRange1d\"},{\"attributes\":{\"source\":{\"id\":\"10537\"}},\"id\":\"10542\",\"type\":\"CDSView\"},{\"attributes\":{\"fill_alpha\":{\"value\":0.2},\"fill_color\":{\"value\":\"green\"},\"hatch_alpha\":{\"value\":0.2},\"hatch_color\":{\"value\":\"green\"},\"line_alpha\":{\"value\":0.2},\"line_color\":{\"value\":\"green\"},\"marker\":{\"value\":\"triangle\"},\"size\":{\"value\":12},\"x\":{\"field\":\"x\"},\"y\":{\"field\":\"y\"}},\"id\":\"10503\",\"type\":\"Scatter\"},{\"attributes\":{},\"id\":\"10507\",\"type\":\"DataRange1d\"},{\"attributes\":{},\"id\":\"10450\",\"type\":\"WheelZoomTool\"},{\"attributes\":{\"tools\":[{\"id\":\"10523\"},{\"id\":\"10524\"},{\"id\":\"10525\"},{\"id\":\"10526\"},{\"id\":\"10527\"},{\"id\":\"10528\"}]},\"id\":\"10530\",\"type\":\"Toolbar\"},{\"attributes\":{},\"id\":\"10433\",\"type\":\"DataRange1d\"},{\"attributes\":{},\"id\":\"10454\",\"type\":\"HelpTool\"},{\"attributes\":{},\"id\":\"10474\",\"type\":\"LinearScale\"},{\"attributes\":{\"fill_alpha\":{\"value\":0.8},\"fill_color\":{\"value\":\"green\"},\"hatch_alpha\":{\"value\":0.8},\"hatch_color\":{\"value\":\"green\"},\"line_alpha\":{\"value\":0.8},\"line_color\":{\"value\":\"green\"},\"marker\":{\"value\":\"triangle\"},\"size\":{\"value\":12},\"x\":{\"field\":\"x\"},\"y\":{\"field\":\"y\"}},\"id\":\"10501\",\"type\":\"Scatter\"},{\"attributes\":{},\"id\":\"10983\",\"type\":\"UnionRenderers\"},{\"attributes\":{},\"id\":\"10491\",\"type\":\"HelpTool\"},{\"attributes\":{},\"id\":\"10967\",\"type\":\"AllLabels\"},{\"attributes\":{},\"id\":\"10490\",\"type\":\"ResetTool\"},{\"attributes\":{\"fill_alpha\":{\"value\":0.2},\"fill_color\":{\"value\":\"blue\"},\"hatch_alpha\":{\"value\":0.2},\"hatch_color\":{\"value\":\"blue\"},\"line_alpha\":{\"value\":0.2},\"line_color\":{\"value\":\"blue\"},\"marker\":{\"value\":\"square\"},\"size\":{\"value\":12},\"x\":{\"field\":\"x\"},\"y\":{\"field\":\"y\"}},\"id\":\"10540\",\"type\":\"Scatter\"},{\"attributes\":{},\"id\":\"10984\",\"type\":\"Selection\"},{\"attributes\":{},\"id\":\"10489\",\"type\":\"SaveTool\"},{\"attributes\":{\"fill_alpha\":{\"value\":0.1},\"fill_color\":{\"value\":\"blue\"},\"hatch_alpha\":{\"value\":0.1},\"hatch_color\":{\"value\":\"blue\"},\"line_alpha\":{\"value\":0.1},\"line_color\":{\"value\":\"blue\"},\"marker\":{\"value\":\"square\"},\"size\":{\"value\":12},\"x\":{\"field\":\"x\"},\"y\":{\"field\":\"y\"}},\"id\":\"10539\",\"type\":\"Scatter\"},{\"attributes\":{\"overlay\":{\"id\":\"10492\"}},\"id\":\"10488\",\"type\":\"BoxZoomTool\"},{\"attributes\":{},\"id\":\"10486\",\"type\":\"PanTool\"},{\"attributes\":{\"background_fill_color\":\"#fafafa\",\"below\":[{\"id\":\"10478\"}],\"border_fill_color\":\"#15191C\",\"center\":[{\"id\":\"10481\"},{\"id\":\"10485\"}],\"height\":250,\"left\":[{\"id\":\"10482\"}],\"outline_line_alpha\":0.25,\"outline_line_color\":\"#E0E0E0\",\"renderers\":[{\"id\":\"10504\"}],\"sizing_mode\":\"scale_width\",\"title\":{\"id\":\"10958\"},\"toolbar\":{\"id\":\"10493\"},\"width\":250,\"x_range\":{\"id\":\"10470\"},\"x_scale\":{\"id\":\"10474\"},\"y_range\":{\"id\":\"10472\"},\"y_scale\":{\"id\":\"10476\"}},\"id\":\"10469\",\"subtype\":\"Figure\",\"type\":\"Plot\"},{\"attributes\":{},\"id\":\"10487\",\"type\":\"WheelZoomTool\"},{\"attributes\":{},\"id\":\"10435\",\"type\":\"DataRange1d\"},{\"attributes\":{},\"id\":\"10966\",\"type\":\"BasicTickFormatter\"},{\"attributes\":{},\"id\":\"10483\",\"type\":\"BasicTicker\"},{\"attributes\":{\"axis\":{\"id\":\"10482\"},\"coordinates\":null,\"dimension\":1,\"grid_line_alpha\":0.25,\"grid_line_color\":\"#E0E0E0\",\"group\":null,\"ticker\":null},\"id\":\"10485\",\"type\":\"Grid\"},{\"attributes\":{\"axis\":{\"id\":\"10478\"},\"coordinates\":null,\"grid_line_alpha\":0.25,\"grid_line_color\":\"#E0E0E0\",\"group\":null,\"ticker\":null},\"id\":\"10481\",\"type\":\"Grid\"},{\"attributes\":{},\"id\":\"10964\",\"type\":\"AllLabels\"},{\"attributes\":{},\"id\":\"10963\",\"type\":\"BasicTickFormatter\"},{\"attributes\":{\"coordinates\":null,\"group\":null,\"text_color\":\"#E0E0E0\",\"text_font\":\"Helvetica\",\"text_font_size\":\"1.15em\"},\"id\":\"10960\",\"type\":\"Title\"},{\"attributes\":{\"coordinates\":null,\"group\":null,\"text_color\":\"#E0E0E0\",\"text_font\":\"Helvetica\",\"text_font_size\":\"1.15em\"},\"id\":\"10956\",\"type\":\"Title\"},{\"attributes\":{},\"id\":\"10442\",\"type\":\"BasicTicker\"},{\"attributes\":{},\"id\":\"10986\",\"type\":\"UnionRenderers\"},{\"attributes\":{},\"id\":\"10987\",\"type\":\"Selection\"},{\"attributes\":{\"background_fill_color\":\"#fafafa\",\"below\":[{\"id\":\"10441\"}],\"border_fill_color\":\"#15191C\",\"center\":[{\"id\":\"10444\"},{\"id\":\"10448\"}],\"height\":250,\"left\":[{\"id\":\"10445\"}],\"outline_line_alpha\":0.25,\"outline_line_color\":\"#E0E0E0\",\"renderers\":[{\"id\":\"10467\"}],\"sizing_mode\":\"scale_width\",\"title\":{\"id\":\"10956\"},\"toolbar\":{\"id\":\"10456\"},\"width\":250,\"x_range\":{\"id\":\"10433\"},\"x_scale\":{\"id\":\"10437\"},\"y_range\":{\"id\":\"10435\"},\"y_scale\":{\"id\":\"10439\"}},\"id\":\"10432\",\"subtype\":\"Figure\",\"type\":\"Plot\"},{\"attributes\":{\"coordinates\":null,\"data_source\":{\"id\":\"10537\"},\"glyph\":{\"id\":\"10538\"},\"group\":null,\"hover_glyph\":null,\"muted_glyph\":{\"id\":\"10540\"},\"nonselection_glyph\":{\"id\":\"10539\"},\"view\":{\"id\":\"10542\"}},\"id\":\"10541\",\"type\":\"GlyphRenderer\"},{\"attributes\":{\"fill_alpha\":{\"value\":0.1},\"fill_color\":{\"value\":\"green\"},\"hatch_alpha\":{\"value\":0.1},\"hatch_color\":{\"value\":\"green\"},\"line_alpha\":{\"value\":0.1},\"line_color\":{\"value\":\"green\"},\"marker\":{\"value\":\"triangle\"},\"size\":{\"value\":12},\"x\":{\"field\":\"x\"},\"y\":{\"field\":\"y\"}},\"id\":\"10502\",\"type\":\"Scatter\"},{\"attributes\":{\"coordinates\":null,\"data_source\":{\"id\":\"10500\"},\"glyph\":{\"id\":\"10501\"},\"group\":null,\"hover_glyph\":null,\"muted_glyph\":{\"id\":\"10503\"},\"nonselection_glyph\":{\"id\":\"10502\"},\"view\":{\"id\":\"10505\"}},\"id\":\"10504\",\"type\":\"GlyphRenderer\"},{\"attributes\":{},\"id\":\"10969\",\"type\":\"BasicTickFormatter\"},{\"attributes\":{\"coordinates\":null,\"group\":null,\"text_color\":\"#E0E0E0\",\"text_font\":\"Helvetica\",\"text_font_size\":\"1.15em\"},\"id\":\"10958\",\"type\":\"Title\"},{\"attributes\":{},\"id\":\"10970\",\"type\":\"AllLabels\"},{\"attributes\":{},\"id\":\"10476\",\"type\":\"LinearScale\"},{\"attributes\":{},\"id\":\"10472\",\"type\":\"DataRange1d\"},{\"attributes\":{\"source\":{\"id\":\"10500\"}},\"id\":\"10505\",\"type\":\"CDSView\"},{\"attributes\":{},\"id\":\"10972\",\"type\":\"BasicTickFormatter\"},{\"attributes\":{\"axis\":{\"id\":\"10441\"},\"coordinates\":null,\"grid_line_alpha\":0.25,\"grid_line_color\":\"#E0E0E0\",\"group\":null,\"ticker\":null},\"id\":\"10444\",\"type\":\"Grid\"},{\"attributes\":{\"data\":{\"x\":[0,1,2,3,4,5,6,7,8,9,10],\"y\":[5,4,3,2,1,0,1,2,3,4,5]},\"selected\":{\"id\":\"10987\"},\"selection_policy\":{\"id\":\"10986\"}},\"id\":\"10537\",\"type\":\"ColumnDataSource\"},{\"attributes\":{\"data\":{\"x\":[0,1,2,3,4,5,6,7,8,9,10],\"y\":[10,9,8,7,6,5,4,3,2,1,0]},\"selected\":{\"id\":\"10984\"},\"selection_policy\":{\"id\":\"10983\"}},\"id\":\"10500\",\"type\":\"ColumnDataSource\"},{\"attributes\":{\"fill_alpha\":{\"value\":0.2},\"fill_color\":{\"value\":\"red\"},\"hatch_alpha\":{\"value\":0.2},\"hatch_color\":{\"value\":\"red\"},\"line_alpha\":{\"value\":0.2},\"line_color\":{\"value\":\"red\"},\"size\":{\"value\":12},\"x\":{\"field\":\"x\"},\"y\":{\"field\":\"y\"}},\"id\":\"10466\",\"type\":\"Circle\"},{\"attributes\":{},\"id\":\"10973\",\"type\":\"AllLabels\"},{\"attributes\":{\"tools\":[{\"id\":\"10449\"},{\"id\":\"10450\"},{\"id\":\"10451\"},{\"id\":\"10452\"},{\"id\":\"10453\"},{\"id\":\"10454\"}]},\"id\":\"10456\",\"type\":\"Toolbar\"},{\"attributes\":{\"background_fill_color\":\"#fafafa\",\"below\":[{\"id\":\"10515\"}],\"border_fill_color\":\"#15191C\",\"center\":[{\"id\":\"10518\"},{\"id\":\"10522\"}],\"height\":250,\"left\":[{\"id\":\"10519\"}],\"outline_line_alpha\":0.25,\"outline_line_color\":\"#E0E0E0\",\"renderers\":[{\"id\":\"10541\"}],\"sizing_mode\":\"scale_width\",\"title\":{\"id\":\"10960\"},\"toolbar\":{\"id\":\"10530\"},\"width\":250,\"x_range\":{\"id\":\"10507\"},\"x_scale\":{\"id\":\"10511\"},\"y_range\":{\"id\":\"10509\"},\"y_scale\":{\"id\":\"10513\"}},\"id\":\"10506\",\"subtype\":\"Figure\",\"type\":\"Plot\"},{\"attributes\":{\"data\":{\"x\":[0,1,2,3,4,5,6,7,8,9,10],\"y\":[0,1,2,3,4,5,6,7,8,9,10]},\"selected\":{\"id\":\"10981\"},\"selection_policy\":{\"id\":\"10980\"}},\"id\":\"10463\",\"type\":\"ColumnDataSource\"},{\"attributes\":{},\"id\":\"10516\",\"type\":\"BasicTicker\"},{\"attributes\":{},\"id\":\"10528\",\"type\":\"HelpTool\"},{\"attributes\":{},\"id\":\"10511\",\"type\":\"LinearScale\"},{\"attributes\":{\"axis_label_standoff\":10,\"axis_label_text_color\":\"#E0E0E0\",\"axis_label_text_font\":\"Helvetica\",\"axis_label_text_font_size\":\"1.25em\",\"axis_label_text_font_style\":\"normal\",\"axis_line_alpha\":0,\"axis_line_color\":\"#E0E0E0\",\"coordinates\":null,\"formatter\":{\"id\":\"10975\"},\"group\":null,\"major_label_policy\":{\"id\":\"10976\"},\"major_label_text_color\":\"#E0E0E0\",\"major_label_text_font\":\"Helvetica\",\"major_label_text_font_size\":\"1.025em\",\"major_tick_line_alpha\":0,\"major_tick_line_color\":\"#E0E0E0\",\"minor_tick_line_alpha\":0,\"minor_tick_line_color\":\"#E0E0E0\",\"ticker\":{\"id\":\"10520\"}},\"id\":\"10519\",\"type\":\"LinearAxis\"},{\"attributes\":{\"axis\":{\"id\":\"10515\"},\"coordinates\":null,\"grid_line_alpha\":0.25,\"grid_line_color\":\"#E0E0E0\",\"group\":null,\"ticker\":null},\"id\":\"10518\",\"type\":\"Grid\"}],\"root_ids\":[\"10543\"]},\"title\":\"Bokeh Application\",\"version\":\"2.4.3\"}};\n",
       "  const render_items = [{\"docid\":\"cc1dd865-c834-4976-ad9f-0543edb70e15\",\"root_ids\":[\"10543\"],\"roots\":{\"10543\":\"0e1f07d3-05e4-42d6-931c-201370cd572e\"}}];\n",
       "  root.Bokeh.embed.embed_items_notebook(docs_json, render_items);\n",
       "  }\n",
       "  if (root.Bokeh !== undefined) {\n",
       "    embed_document(root);\n",
       "  } else {\n",
       "    let attempts = 0;\n",
       "    const timer = setInterval(function(root) {\n",
       "      if (root.Bokeh !== undefined) {\n",
       "        clearInterval(timer);\n",
       "        embed_document(root);\n",
       "      } else {\n",
       "        attempts++;\n",
       "        if (attempts > 100) {\n",
       "          clearInterval(timer);\n",
       "          console.log(\"Bokeh: ERROR: Unable to run BokehJS code because BokehJS library is missing\");\n",
       "        }\n",
       "      }\n",
       "    }, 10, root)\n",
       "  }\n",
       "})(window);"
      ],
      "application/vnd.bokehjs_exec.v0+json": ""
     },
     "metadata": {
      "application/vnd.bokehjs_exec.v0+json": {
       "id": "10543"
      }
     },
     "output_type": "display_data"
    }
   ],
   "source": [
    "# prepare some data\n",
    "x = list(range(11))\n",
    "y0 = x\n",
    "y1 = [10 - i for i in x]\n",
    "y2 = [abs(i - 5) for i in x]\n",
    "\n",
    "# create three plots with one renderer each\n",
    "s1 = figure(width=250, height=250, background_fill_color=\"#fafafa\")\n",
    "s1.circle(x, y0, size=12, color=\"red\", alpha=0.8)\n",
    "\n",
    "s2 = figure(width=250, height=250, background_fill_color=\"#fafafa\")\n",
    "s2.triangle(x, y1, size=12, color=\"green\", alpha=0.8)\n",
    "\n",
    "s3 = figure(width=250, height=250, background_fill_color=\"#fafafa\")\n",
    "s3.square(x, y2, size=12, color=\"blue\", alpha=0.8)\n",
    "\n",
    "# put the results in a row that automatically adjusts\n",
    "# to the browser window's width\n",
    "show(row(children=[s1, s2, s3], sizing_mode=\"scale_width\"))"
   ]
  },
  {
   "cell_type": "markdown",
   "id": "4a9c2734",
   "metadata": {},
   "source": [
    "# Creating a standalone HTML file"
   ]
  },
  {
   "cell_type": "code",
   "execution_count": 52,
   "id": "d74c260c",
   "metadata": {},
   "outputs": [
    {
     "data": {
      "text/plain": [
       "'C:\\\\Users\\\\ITProdigies\\\\Documents\\\\standalone_filename.html'"
      ]
     },
     "execution_count": 52,
     "metadata": {},
     "output_type": "execute_result"
    }
   ],
   "source": [
    "# prepare some data\n",
    "x = [1, 2, 3, 4, 5]\n",
    "y = [4, 5, 5, 7, 2]\n",
    "\n",
    "# set output to static HTML file\n",
    "output_file(filename=\"standalone_filename.html\", title=\"Static HTML file\")\n",
    "\n",
    "# create a new plot with a specific size\n",
    "p = figure(sizing_mode=\"stretch_width\", max_width=500, height=250)\n",
    "\n",
    "# add a circle renderer\n",
    "circle = p.circle(x, y, fill_color=\"red\", size=15)\n",
    "\n",
    "# save the results to a file\n",
    "save(p)"
   ]
  },
  {
   "cell_type": "markdown",
   "id": "10c4ec17",
   "metadata": {},
   "source": [
    "# Displaying in Jupyter notebook"
   ]
  },
  {
   "cell_type": "code",
   "execution_count": 13,
   "id": "f8eb15d6",
   "metadata": {},
   "outputs": [],
   "source": [
    "N = 4000\n",
    "x = np.random.random(size=N)*100\n",
    "y = np.random.random(size=N)*100\n",
    "radii = np.random.random(size=N)*1.5\n",
    "colors = ['#%02x%02x%02x' % (int(r), int(g), 150) for r, g in zip(np.floor(50+2*x), np.floor(30+2*y))]"
   ]
  },
  {
   "cell_type": "code",
   "execution_count": 14,
   "id": "67a9ee45",
   "metadata": {},
   "outputs": [
    {
     "data": {
      "text/html": [
       "<div class=\"bk-root\">\n",
       "        <a href=\"https://bokeh.org\" target=\"_blank\" class=\"bk-logo bk-logo-small bk-logo-notebook\"></a>\n",
       "        <span id=\"1184\">Loading BokehJS ...</span>\n",
       "    </div>\n"
      ]
     },
     "metadata": {},
     "output_type": "display_data"
    },
    {
     "data": {
      "application/javascript": [
       "(function(root) {\n",
       "  function now() {\n",
       "    return new Date();\n",
       "  }\n",
       "\n",
       "  const force = true;\n",
       "\n",
       "  if (typeof root._bokeh_onload_callbacks === \"undefined\" || force === true) {\n",
       "    root._bokeh_onload_callbacks = [];\n",
       "    root._bokeh_is_loading = undefined;\n",
       "  }\n",
       "\n",
       "const JS_MIME_TYPE = 'application/javascript';\n",
       "  const HTML_MIME_TYPE = 'text/html';\n",
       "  const EXEC_MIME_TYPE = 'application/vnd.bokehjs_exec.v0+json';\n",
       "  const CLASS_NAME = 'output_bokeh rendered_html';\n",
       "\n",
       "  /**\n",
       "   * Render data to the DOM node\n",
       "   */\n",
       "  function render(props, node) {\n",
       "    const script = document.createElement(\"script\");\n",
       "    node.appendChild(script);\n",
       "  }\n",
       "\n",
       "  /**\n",
       "   * Handle when an output is cleared or removed\n",
       "   */\n",
       "  function handleClearOutput(event, handle) {\n",
       "    const cell = handle.cell;\n",
       "\n",
       "    const id = cell.output_area._bokeh_element_id;\n",
       "    const server_id = cell.output_area._bokeh_server_id;\n",
       "    // Clean up Bokeh references\n",
       "    if (id != null && id in Bokeh.index) {\n",
       "      Bokeh.index[id].model.document.clear();\n",
       "      delete Bokeh.index[id];\n",
       "    }\n",
       "\n",
       "    if (server_id !== undefined) {\n",
       "      // Clean up Bokeh references\n",
       "      const cmd_clean = \"from bokeh.io.state import curstate; print(curstate().uuid_to_server['\" + server_id + \"'].get_sessions()[0].document.roots[0]._id)\";\n",
       "      cell.notebook.kernel.execute(cmd_clean, {\n",
       "        iopub: {\n",
       "          output: function(msg) {\n",
       "            const id = msg.content.text.trim();\n",
       "            if (id in Bokeh.index) {\n",
       "              Bokeh.index[id].model.document.clear();\n",
       "              delete Bokeh.index[id];\n",
       "            }\n",
       "          }\n",
       "        }\n",
       "      });\n",
       "      // Destroy server and session\n",
       "      const cmd_destroy = \"import bokeh.io.notebook as ion; ion.destroy_server('\" + server_id + \"')\";\n",
       "      cell.notebook.kernel.execute(cmd_destroy);\n",
       "    }\n",
       "  }\n",
       "\n",
       "  /**\n",
       "   * Handle when a new output is added\n",
       "   */\n",
       "  function handleAddOutput(event, handle) {\n",
       "    const output_area = handle.output_area;\n",
       "    const output = handle.output;\n",
       "\n",
       "    // limit handleAddOutput to display_data with EXEC_MIME_TYPE content only\n",
       "    if ((output.output_type != \"display_data\") || (!Object.prototype.hasOwnProperty.call(output.data, EXEC_MIME_TYPE))) {\n",
       "      return\n",
       "    }\n",
       "\n",
       "    const toinsert = output_area.element.find(\".\" + CLASS_NAME.split(' ')[0]);\n",
       "\n",
       "    if (output.metadata[EXEC_MIME_TYPE][\"id\"] !== undefined) {\n",
       "      toinsert[toinsert.length - 1].firstChild.textContent = output.data[JS_MIME_TYPE];\n",
       "      // store reference to embed id on output_area\n",
       "      output_area._bokeh_element_id = output.metadata[EXEC_MIME_TYPE][\"id\"];\n",
       "    }\n",
       "    if (output.metadata[EXEC_MIME_TYPE][\"server_id\"] !== undefined) {\n",
       "      const bk_div = document.createElement(\"div\");\n",
       "      bk_div.innerHTML = output.data[HTML_MIME_TYPE];\n",
       "      const script_attrs = bk_div.children[0].attributes;\n",
       "      for (let i = 0; i < script_attrs.length; i++) {\n",
       "        toinsert[toinsert.length - 1].firstChild.setAttribute(script_attrs[i].name, script_attrs[i].value);\n",
       "        toinsert[toinsert.length - 1].firstChild.textContent = bk_div.children[0].textContent\n",
       "      }\n",
       "      // store reference to server id on output_area\n",
       "      output_area._bokeh_server_id = output.metadata[EXEC_MIME_TYPE][\"server_id\"];\n",
       "    }\n",
       "  }\n",
       "\n",
       "  function register_renderer(events, OutputArea) {\n",
       "\n",
       "    function append_mime(data, metadata, element) {\n",
       "      // create a DOM node to render to\n",
       "      const toinsert = this.create_output_subarea(\n",
       "        metadata,\n",
       "        CLASS_NAME,\n",
       "        EXEC_MIME_TYPE\n",
       "      );\n",
       "      this.keyboard_manager.register_events(toinsert);\n",
       "      // Render to node\n",
       "      const props = {data: data, metadata: metadata[EXEC_MIME_TYPE]};\n",
       "      render(props, toinsert[toinsert.length - 1]);\n",
       "      element.append(toinsert);\n",
       "      return toinsert\n",
       "    }\n",
       "\n",
       "    /* Handle when an output is cleared or removed */\n",
       "    events.on('clear_output.CodeCell', handleClearOutput);\n",
       "    events.on('delete.Cell', handleClearOutput);\n",
       "\n",
       "    /* Handle when a new output is added */\n",
       "    events.on('output_added.OutputArea', handleAddOutput);\n",
       "\n",
       "    /**\n",
       "     * Register the mime type and append_mime function with output_area\n",
       "     */\n",
       "    OutputArea.prototype.register_mime_type(EXEC_MIME_TYPE, append_mime, {\n",
       "      /* Is output safe? */\n",
       "      safe: true,\n",
       "      /* Index of renderer in `output_area.display_order` */\n",
       "      index: 0\n",
       "    });\n",
       "  }\n",
       "\n",
       "  // register the mime type if in Jupyter Notebook environment and previously unregistered\n",
       "  if (root.Jupyter !== undefined) {\n",
       "    const events = require('base/js/events');\n",
       "    const OutputArea = require('notebook/js/outputarea').OutputArea;\n",
       "\n",
       "    if (OutputArea.prototype.mime_types().indexOf(EXEC_MIME_TYPE) == -1) {\n",
       "      register_renderer(events, OutputArea);\n",
       "    }\n",
       "  }\n",
       "  if (typeof (root._bokeh_timeout) === \"undefined\" || force === true) {\n",
       "    root._bokeh_timeout = Date.now() + 5000;\n",
       "    root._bokeh_failed_load = false;\n",
       "  }\n",
       "\n",
       "  const NB_LOAD_WARNING = {'data': {'text/html':\n",
       "     \"<div style='background-color: #fdd'>\\n\"+\n",
       "     \"<p>\\n\"+\n",
       "     \"BokehJS does not appear to have successfully loaded. If loading BokehJS from CDN, this \\n\"+\n",
       "     \"may be due to a slow or bad network connection. Possible fixes:\\n\"+\n",
       "     \"</p>\\n\"+\n",
       "     \"<ul>\\n\"+\n",
       "     \"<li>re-rerun `output_notebook()` to attempt to load from CDN again, or</li>\\n\"+\n",
       "     \"<li>use INLINE resources instead, as so:</li>\\n\"+\n",
       "     \"</ul>\\n\"+\n",
       "     \"<code>\\n\"+\n",
       "     \"from bokeh.resources import INLINE\\n\"+\n",
       "     \"output_notebook(resources=INLINE)\\n\"+\n",
       "     \"</code>\\n\"+\n",
       "     \"</div>\"}};\n",
       "\n",
       "  function display_loaded() {\n",
       "    const el = document.getElementById(\"1184\");\n",
       "    if (el != null) {\n",
       "      el.textContent = \"BokehJS is loading...\";\n",
       "    }\n",
       "    if (root.Bokeh !== undefined) {\n",
       "      if (el != null) {\n",
       "        el.textContent = \"BokehJS \" + root.Bokeh.version + \" successfully loaded.\";\n",
       "      }\n",
       "    } else if (Date.now() < root._bokeh_timeout) {\n",
       "      setTimeout(display_loaded, 100)\n",
       "    }\n",
       "  }\n",
       "\n",
       "  function run_callbacks() {\n",
       "    try {\n",
       "      root._bokeh_onload_callbacks.forEach(function(callback) {\n",
       "        if (callback != null)\n",
       "          callback();\n",
       "      });\n",
       "    } finally {\n",
       "      delete root._bokeh_onload_callbacks\n",
       "    }\n",
       "    console.debug(\"Bokeh: all callbacks have finished\");\n",
       "  }\n",
       "\n",
       "  function load_libs(css_urls, js_urls, callback) {\n",
       "    if (css_urls == null) css_urls = [];\n",
       "    if (js_urls == null) js_urls = [];\n",
       "\n",
       "    root._bokeh_onload_callbacks.push(callback);\n",
       "    if (root._bokeh_is_loading > 0) {\n",
       "      console.debug(\"Bokeh: BokehJS is being loaded, scheduling callback at\", now());\n",
       "      return null;\n",
       "    }\n",
       "    if (js_urls == null || js_urls.length === 0) {\n",
       "      run_callbacks();\n",
       "      return null;\n",
       "    }\n",
       "    console.debug(\"Bokeh: BokehJS not loaded, scheduling load and callback at\", now());\n",
       "    root._bokeh_is_loading = css_urls.length + js_urls.length;\n",
       "\n",
       "    function on_load() {\n",
       "      root._bokeh_is_loading--;\n",
       "      if (root._bokeh_is_loading === 0) {\n",
       "        console.debug(\"Bokeh: all BokehJS libraries/stylesheets loaded\");\n",
       "        run_callbacks()\n",
       "      }\n",
       "    }\n",
       "\n",
       "    function on_error(url) {\n",
       "      console.error(\"failed to load \" + url);\n",
       "    }\n",
       "\n",
       "    for (let i = 0; i < css_urls.length; i++) {\n",
       "      const url = css_urls[i];\n",
       "      const element = document.createElement(\"link\");\n",
       "      element.onload = on_load;\n",
       "      element.onerror = on_error.bind(null, url);\n",
       "      element.rel = \"stylesheet\";\n",
       "      element.type = \"text/css\";\n",
       "      element.href = url;\n",
       "      console.debug(\"Bokeh: injecting link tag for BokehJS stylesheet: \", url);\n",
       "      document.body.appendChild(element);\n",
       "    }\n",
       "\n",
       "    for (let i = 0; i < js_urls.length; i++) {\n",
       "      const url = js_urls[i];\n",
       "      const element = document.createElement('script');\n",
       "      element.onload = on_load;\n",
       "      element.onerror = on_error.bind(null, url);\n",
       "      element.async = false;\n",
       "      element.src = url;\n",
       "      console.debug(\"Bokeh: injecting script tag for BokehJS library: \", url);\n",
       "      document.head.appendChild(element);\n",
       "    }\n",
       "  };\n",
       "\n",
       "  function inject_raw_css(css) {\n",
       "    const element = document.createElement(\"style\");\n",
       "    element.appendChild(document.createTextNode(css));\n",
       "    document.body.appendChild(element);\n",
       "  }\n",
       "\n",
       "  const js_urls = [\"https://cdn.bokeh.org/bokeh/release/bokeh-2.4.3.min.js\", \"https://cdn.bokeh.org/bokeh/release/bokeh-gl-2.4.3.min.js\", \"https://cdn.bokeh.org/bokeh/release/bokeh-widgets-2.4.3.min.js\", \"https://cdn.bokeh.org/bokeh/release/bokeh-tables-2.4.3.min.js\", \"https://cdn.bokeh.org/bokeh/release/bokeh-mathjax-2.4.3.min.js\"];\n",
       "  const css_urls = [];\n",
       "\n",
       "  const inline_js = [    function(Bokeh) {\n",
       "      Bokeh.set_log_level(\"info\");\n",
       "    },\n",
       "function(Bokeh) {\n",
       "    }\n",
       "  ];\n",
       "\n",
       "  function run_inline_js() {\n",
       "    if (root.Bokeh !== undefined || force === true) {\n",
       "          for (let i = 0; i < inline_js.length; i++) {\n",
       "      inline_js[i].call(root, root.Bokeh);\n",
       "    }\n",
       "if (force === true) {\n",
       "        display_loaded();\n",
       "      }} else if (Date.now() < root._bokeh_timeout) {\n",
       "      setTimeout(run_inline_js, 100);\n",
       "    } else if (!root._bokeh_failed_load) {\n",
       "      console.log(\"Bokeh: BokehJS failed to load within specified timeout.\");\n",
       "      root._bokeh_failed_load = true;\n",
       "    } else if (force !== true) {\n",
       "      const cell = $(document.getElementById(\"1184\")).parents('.cell').data().cell;\n",
       "      cell.output_area.append_execute_result(NB_LOAD_WARNING)\n",
       "    }\n",
       "  }\n",
       "\n",
       "  if (root._bokeh_is_loading === 0) {\n",
       "    console.debug(\"Bokeh: BokehJS loaded, going straight to plotting\");\n",
       "    run_inline_js();\n",
       "  } else {\n",
       "    load_libs(css_urls, js_urls, function() {\n",
       "      console.debug(\"Bokeh: BokehJS plotting callback run at\", now());\n",
       "      run_inline_js();\n",
       "    });\n",
       "  }\n",
       "}(window));"
      ],
      "application/vnd.bokehjs_load.v0+json": "(function(root) {\n  function now() {\n    return new Date();\n  }\n\n  const force = true;\n\n  if (typeof root._bokeh_onload_callbacks === \"undefined\" || force === true) {\n    root._bokeh_onload_callbacks = [];\n    root._bokeh_is_loading = undefined;\n  }\n\n\n  if (typeof (root._bokeh_timeout) === \"undefined\" || force === true) {\n    root._bokeh_timeout = Date.now() + 5000;\n    root._bokeh_failed_load = false;\n  }\n\n  const NB_LOAD_WARNING = {'data': {'text/html':\n     \"<div style='background-color: #fdd'>\\n\"+\n     \"<p>\\n\"+\n     \"BokehJS does not appear to have successfully loaded. If loading BokehJS from CDN, this \\n\"+\n     \"may be due to a slow or bad network connection. Possible fixes:\\n\"+\n     \"</p>\\n\"+\n     \"<ul>\\n\"+\n     \"<li>re-rerun `output_notebook()` to attempt to load from CDN again, or</li>\\n\"+\n     \"<li>use INLINE resources instead, as so:</li>\\n\"+\n     \"</ul>\\n\"+\n     \"<code>\\n\"+\n     \"from bokeh.resources import INLINE\\n\"+\n     \"output_notebook(resources=INLINE)\\n\"+\n     \"</code>\\n\"+\n     \"</div>\"}};\n\n  function display_loaded() {\n    const el = document.getElementById(\"1184\");\n    if (el != null) {\n      el.textContent = \"BokehJS is loading...\";\n    }\n    if (root.Bokeh !== undefined) {\n      if (el != null) {\n        el.textContent = \"BokehJS \" + root.Bokeh.version + \" successfully loaded.\";\n      }\n    } else if (Date.now() < root._bokeh_timeout) {\n      setTimeout(display_loaded, 100)\n    }\n  }\n\n  function run_callbacks() {\n    try {\n      root._bokeh_onload_callbacks.forEach(function(callback) {\n        if (callback != null)\n          callback();\n      });\n    } finally {\n      delete root._bokeh_onload_callbacks\n    }\n    console.debug(\"Bokeh: all callbacks have finished\");\n  }\n\n  function load_libs(css_urls, js_urls, callback) {\n    if (css_urls == null) css_urls = [];\n    if (js_urls == null) js_urls = [];\n\n    root._bokeh_onload_callbacks.push(callback);\n    if (root._bokeh_is_loading > 0) {\n      console.debug(\"Bokeh: BokehJS is being loaded, scheduling callback at\", now());\n      return null;\n    }\n    if (js_urls == null || js_urls.length === 0) {\n      run_callbacks();\n      return null;\n    }\n    console.debug(\"Bokeh: BokehJS not loaded, scheduling load and callback at\", now());\n    root._bokeh_is_loading = css_urls.length + js_urls.length;\n\n    function on_load() {\n      root._bokeh_is_loading--;\n      if (root._bokeh_is_loading === 0) {\n        console.debug(\"Bokeh: all BokehJS libraries/stylesheets loaded\");\n        run_callbacks()\n      }\n    }\n\n    function on_error(url) {\n      console.error(\"failed to load \" + url);\n    }\n\n    for (let i = 0; i < css_urls.length; i++) {\n      const url = css_urls[i];\n      const element = document.createElement(\"link\");\n      element.onload = on_load;\n      element.onerror = on_error.bind(null, url);\n      element.rel = \"stylesheet\";\n      element.type = \"text/css\";\n      element.href = url;\n      console.debug(\"Bokeh: injecting link tag for BokehJS stylesheet: \", url);\n      document.body.appendChild(element);\n    }\n\n    for (let i = 0; i < js_urls.length; i++) {\n      const url = js_urls[i];\n      const element = document.createElement('script');\n      element.onload = on_load;\n      element.onerror = on_error.bind(null, url);\n      element.async = false;\n      element.src = url;\n      console.debug(\"Bokeh: injecting script tag for BokehJS library: \", url);\n      document.head.appendChild(element);\n    }\n  };\n\n  function inject_raw_css(css) {\n    const element = document.createElement(\"style\");\n    element.appendChild(document.createTextNode(css));\n    document.body.appendChild(element);\n  }\n\n  const js_urls = [\"https://cdn.bokeh.org/bokeh/release/bokeh-2.4.3.min.js\", \"https://cdn.bokeh.org/bokeh/release/bokeh-gl-2.4.3.min.js\", \"https://cdn.bokeh.org/bokeh/release/bokeh-widgets-2.4.3.min.js\", \"https://cdn.bokeh.org/bokeh/release/bokeh-tables-2.4.3.min.js\", \"https://cdn.bokeh.org/bokeh/release/bokeh-mathjax-2.4.3.min.js\"];\n  const css_urls = [];\n\n  const inline_js = [    function(Bokeh) {\n      Bokeh.set_log_level(\"info\");\n    },\nfunction(Bokeh) {\n    }\n  ];\n\n  function run_inline_js() {\n    if (root.Bokeh !== undefined || force === true) {\n          for (let i = 0; i < inline_js.length; i++) {\n      inline_js[i].call(root, root.Bokeh);\n    }\nif (force === true) {\n        display_loaded();\n      }} else if (Date.now() < root._bokeh_timeout) {\n      setTimeout(run_inline_js, 100);\n    } else if (!root._bokeh_failed_load) {\n      console.log(\"Bokeh: BokehJS failed to load within specified timeout.\");\n      root._bokeh_failed_load = true;\n    } else if (force !== true) {\n      const cell = $(document.getElementById(\"1184\")).parents('.cell').data().cell;\n      cell.output_area.append_execute_result(NB_LOAD_WARNING)\n    }\n  }\n\n  if (root._bokeh_is_loading === 0) {\n    console.debug(\"Bokeh: BokehJS loaded, going straight to plotting\");\n    run_inline_js();\n  } else {\n    load_libs(css_urls, js_urls, function() {\n      console.debug(\"Bokeh: BokehJS plotting callback run at\", now());\n      run_inline_js();\n    });\n  }\n}(window));"
     },
     "metadata": {},
     "output_type": "display_data"
    }
   ],
   "source": [
    "output_notebook()"
   ]
  },
  {
   "cell_type": "code",
   "execution_count": 15,
   "id": "f23ad704",
   "metadata": {},
   "outputs": [
    {
     "data": {
      "text/html": [
       "<div style=\"display: table;\"><div style=\"display: table-row;\"><div style=\"display: table-cell;\"><b title=\"bokeh.models.renderers.GlyphRenderer\">GlyphRenderer</b>(</div><div style=\"display: table-cell;\">id&nbsp;=&nbsp;'1220', <span id=\"1223\" style=\"cursor: pointer;\">&hellip;)</span></div></div><div class=\"1222\" style=\"display: none;\"><div style=\"display: table-cell;\"></div><div style=\"display: table-cell;\">coordinates&nbsp;=&nbsp;None,</div></div><div class=\"1222\" style=\"display: none;\"><div style=\"display: table-cell;\"></div><div style=\"display: table-cell;\">data_source&nbsp;=&nbsp;ColumnDataSource(id='1216', ...),</div></div><div class=\"1222\" style=\"display: none;\"><div style=\"display: table-cell;\"></div><div style=\"display: table-cell;\">glyph&nbsp;=&nbsp;Circle(id='1217', ...),</div></div><div class=\"1222\" style=\"display: none;\"><div style=\"display: table-cell;\"></div><div style=\"display: table-cell;\">group&nbsp;=&nbsp;None,</div></div><div class=\"1222\" style=\"display: none;\"><div style=\"display: table-cell;\"></div><div style=\"display: table-cell;\">hover_glyph&nbsp;=&nbsp;None,</div></div><div class=\"1222\" style=\"display: none;\"><div style=\"display: table-cell;\"></div><div style=\"display: table-cell;\">js_event_callbacks&nbsp;=&nbsp;{},</div></div><div class=\"1222\" style=\"display: none;\"><div style=\"display: table-cell;\"></div><div style=\"display: table-cell;\">js_property_callbacks&nbsp;=&nbsp;{},</div></div><div class=\"1222\" style=\"display: none;\"><div style=\"display: table-cell;\"></div><div style=\"display: table-cell;\">level&nbsp;=&nbsp;'glyph',</div></div><div class=\"1222\" style=\"display: none;\"><div style=\"display: table-cell;\"></div><div style=\"display: table-cell;\">muted&nbsp;=&nbsp;False,</div></div><div class=\"1222\" style=\"display: none;\"><div style=\"display: table-cell;\"></div><div style=\"display: table-cell;\">muted_glyph&nbsp;=&nbsp;Circle(id='1219', ...),</div></div><div class=\"1222\" style=\"display: none;\"><div style=\"display: table-cell;\"></div><div style=\"display: table-cell;\">name&nbsp;=&nbsp;None,</div></div><div class=\"1222\" style=\"display: none;\"><div style=\"display: table-cell;\"></div><div style=\"display: table-cell;\">nonselection_glyph&nbsp;=&nbsp;Circle(id='1218', ...),</div></div><div class=\"1222\" style=\"display: none;\"><div style=\"display: table-cell;\"></div><div style=\"display: table-cell;\">selection_glyph&nbsp;=&nbsp;'auto',</div></div><div class=\"1222\" style=\"display: none;\"><div style=\"display: table-cell;\"></div><div style=\"display: table-cell;\">subscribed_events&nbsp;=&nbsp;[],</div></div><div class=\"1222\" style=\"display: none;\"><div style=\"display: table-cell;\"></div><div style=\"display: table-cell;\">syncable&nbsp;=&nbsp;True,</div></div><div class=\"1222\" style=\"display: none;\"><div style=\"display: table-cell;\"></div><div style=\"display: table-cell;\">tags&nbsp;=&nbsp;[],</div></div><div class=\"1222\" style=\"display: none;\"><div style=\"display: table-cell;\"></div><div style=\"display: table-cell;\">view&nbsp;=&nbsp;CDSView(id='1221', ...),</div></div><div class=\"1222\" style=\"display: none;\"><div style=\"display: table-cell;\"></div><div style=\"display: table-cell;\">visible&nbsp;=&nbsp;True,</div></div><div class=\"1222\" style=\"display: none;\"><div style=\"display: table-cell;\"></div><div style=\"display: table-cell;\">x_range_name&nbsp;=&nbsp;'default',</div></div><div class=\"1222\" style=\"display: none;\"><div style=\"display: table-cell;\"></div><div style=\"display: table-cell;\">y_range_name&nbsp;=&nbsp;'default')</div></div></div>\n",
       "<script>\n",
       "(function() {\n",
       "  let expanded = false;\n",
       "  const ellipsis = document.getElementById(\"1223\");\n",
       "  ellipsis.addEventListener(\"click\", function() {\n",
       "    const rows = document.getElementsByClassName(\"1222\");\n",
       "    for (let i = 0; i < rows.length; i++) {\n",
       "      const el = rows[i];\n",
       "      el.style.display = expanded ? \"none\" : \"table-row\";\n",
       "    }\n",
       "    ellipsis.innerHTML = expanded ? \"&hellip;)\" : \"&lsaquo;&lsaquo;&lsaquo;\";\n",
       "    expanded = !expanded;\n",
       "  });\n",
       "})();\n",
       "</script>\n"
      ],
      "text/plain": [
       "GlyphRenderer(id='1220', ...)"
      ]
     },
     "execution_count": 15,
     "metadata": {},
     "output_type": "execute_result"
    }
   ],
   "source": [
    "p = figure()\n",
    "p.circle(x, y, radius=radii, fill_color= colors, fill_alpha=0.6, line_color=None)"
   ]
  },
  {
   "cell_type": "code",
   "execution_count": 16,
   "id": "32d299b3",
   "metadata": {},
   "outputs": [
    {
     "data": {
      "text/html": [
       "\n",
       "  <div class=\"bk-root\" id=\"a8e6ff1a-05b7-4df8-baa3-c8921b1be1a1\" data-root-id=\"1185\"></div>\n"
      ]
     },
     "metadata": {},
     "output_type": "display_data"
    },
    {
     "data": {
      "application/javascript": [
       "(function(root) {\n",
       "  function embed_document(root) {\n",
       "  const docs_json = {\"e9d77346-13d1-420e-81b6-ebfdd32b5849\":{\"defs\":[],\"roots\":{\"references\":[{\"attributes\":{\"below\":[{\"id\":\"1194\"}],\"center\":[{\"id\":\"1197\"},{\"id\":\"1201\"}],\"left\":[{\"id\":\"1198\"}],\"renderers\":[{\"id\":\"1220\"}],\"title\":{\"id\":\"1224\"},\"toolbar\":{\"id\":\"1209\"},\"x_range\":{\"id\":\"1186\"},\"x_scale\":{\"id\":\"1190\"},\"y_range\":{\"id\":\"1188\"},\"y_scale\":{\"id\":\"1192\"}},\"id\":\"1185\",\"subtype\":\"Figure\",\"type\":\"Plot\"},{\"attributes\":{},\"id\":\"1188\",\"type\":\"DataRange1d\"},{\"attributes\":{},\"id\":\"1230\",\"type\":\"BasicTickFormatter\"},{\"attributes\":{\"data\":{\"fill_color\":[\"#6e2396\",\"#efa696\",\"#f58f96\",\"#7c8696\",\"#6ab896\",\"#8ec896\",\"#494196\",\"#393196\",\"#322b96\",\"#84e096\",\"#5aa296\",\"#ed8196\",\"#947096\",\"#c8c596\",\"#637296\",\"#9ee196\",\"#689196\",\"#9d3496\",\"#809796\",\"#a58a96\",\"#a98d96\",\"#c05c96\",\"#647596\",\"#4a3196\",\"#b3b596\",\"#bd7996\",\"#e9d196\",\"#d36c96\",\"#95a096\",\"#93e196\",\"#91b396\",\"#dc4296\",\"#52ad96\",\"#c55096\",\"#358296\",\"#f43a96\",\"#648b96\",\"#a34d96\",\"#a24896\",\"#ef4496\",\"#e3b196\",\"#44a996\",\"#93a296\",\"#8a9896\",\"#706796\",\"#4bb396\",\"#9b2c96\",\"#8e6096\",\"#667996\",\"#8e5196\",\"#bda596\",\"#3f9196\",\"#382496\",\"#3de496\",\"#4f9596\",\"#6cde96\",\"#9f9e96\",\"#f06496\",\"#323a96\",\"#ea3b96\",\"#ea3896\",\"#f75d96\",\"#63da96\",\"#96dd96\",\"#7abb96\",\"#5f9d96\",\"#cade96\",\"#d94b96\",\"#6b3196\",\"#ae5c96\",\"#6d3f96\",\"#d4bc96\",\"#f49e96\",\"#5a3e96\",\"#759796\",\"#642d96\",\"#c18596\",\"#895596\",\"#e5e096\",\"#d68b96\",\"#c26296\",\"#61d996\",\"#322896\",\"#a69896\",\"#e4a896\",\"#377f96\",\"#d59f96\",\"#4db796\",\"#5c6d96\",\"#eac396\",\"#a22696\",\"#9eb596\",\"#cfd496\",\"#375b96\",\"#499296\",\"#e2cc96\",\"#a6b296\",\"#829196\",\"#b4b196\",\"#ef9c96\",\"#c7a496\",\"#5a8796\",\"#a5ae96\",\"#c62696\",\"#f82496\",\"#8d5696\",\"#b66d96\",\"#c43196\",\"#387b96\",\"#cece96\",\"#d24c96\",\"#9d7096\",\"#7aaa96\",\"#cfa996\",\"#526996\",\"#58de96\",\"#993596\",\"#7bae96\",\"#f65996\",\"#bfb096\",\"#f73496\",\"#bea496\",\"#4f6b96\",\"#e55c96\",\"#958c96\",\"#903b96\",\"#3d3496\",\"#90cb96\",\"#799696\",\"#ed3596\",\"#adaa96\",\"#5adf96\",\"#ded396\",\"#965e96\",\"#64a896\",\"#6e5896\",\"#b6cb96\",\"#972d96\",\"#a8a296\",\"#eccf96\",\"#a62996\",\"#66b096\",\"#56cf96\",\"#6a7896\",\"#542d96\",\"#bf5896\",\"#c78196\",\"#698196\",\"#6ac996\",\"#38b096\",\"#4a4996\",\"#a84f96\",\"#9f7696\",\"#3bbb96\",\"#4b5f96\",\"#458296\",\"#7c4b96\",\"#96b796\",\"#f1c096\",\"#cd2196\",\"#e5c096\",\"#d37d96\",\"#6d6496\",\"#7f9196\",\"#61a196\",\"#a8bd96\",\"#81b496\",\"#609096\",\"#a55f96\",\"#3ed096\",\"#6ba896\",\"#5a3396\",\"#d1a996\",\"#5e3f96\",\"#e5df96\",\"#e5d196\",\"#76d896\",\"#378996\",\"#e73096\",\"#53da96\",\"#d86896\",\"#a5a296\",\"#ef2c96\",\"#a26596\",\"#71ce96\",\"#e0cc96\",\"#449296\",\"#4a6096\",\"#ae3f96\",\"#8c7296\",\"#6e3096\",\"#5f7e96\",\"#749196\",\"#bbda96\",\"#551f96\",\"#a9a296\",\"#9faf96\",\"#caa396\",\"#45e496\",\"#f7d196\",\"#a03796\",\"#c45596\",\"#972096\",\"#90af96\",\"#c92096\",\"#c77d96\",\"#347296\",\"#847c96\",\"#8d7896\",\"#8e1e96\",\"#b83c96\",\"#833996\",\"#976b96\",\"#88de96\",\"#536f96\",\"#e6b296\",\"#f23b96\",\"#6fdc96\",\"#df2996\",\"#b38396\",\"#3e3f96\",\"#3ddc96\",\"#615396\",\"#80aa96\",\"#52aa96\",\"#d98396\",\"#e88e96\",\"#399896\",\"#c1b996\",\"#7a2f96\",\"#c22e96\",\"#9b5296\",\"#7a7296\",\"#9ed896\",\"#945c96\",\"#dfcd96\",\"#488d96\",\"#9f9596\",\"#c89a96\",\"#502596\",\"#59e496\",\"#cdb196\",\"#3fe096\",\"#f33296\",\"#7a5996\",\"#9a7f96\",\"#729796\",\"#ea3696\",\"#658196\",\"#a08696\",\"#5a6896\",\"#955796\",\"#4fd396\",\"#9abc96\",\"#e76996\",\"#5aa796\",\"#332696\",\"#a57996\",\"#aee296\",\"#8ab296\",\"#859f96\",\"#63a396\",\"#ec3f96\",\"#7ab996\",\"#374196\",\"#f02396\",\"#9e4e96\",\"#ae6d96\",\"#562796\",\"#d7cf96\",\"#ed6996\",\"#5aaf96\",\"#cee496\",\"#d0c896\",\"#b2c796\",\"#427296\",\"#7fcf96\",\"#802d96\",\"#583796\",\"#7eb696\",\"#4c5296\",\"#946696\",\"#39b696\",\"#c16596\",\"#5eb196\",\"#bad796\",\"#ce6696\",\"#f77e96\",\"#517e96\",\"#bd3a96\",\"#cc5296\",\"#a9e196\",\"#8e8696\",\"#609696\",\"#a4be96\",\"#e25596\",\"#90d596\",\"#77a696\",\"#afdf96\",\"#d55296\",\"#abd796\",\"#3b5696\",\"#5c5a96\",\"#b85196\",\"#8d2e96\",\"#d1c996\",\"#885c96\",\"#ac4496\",\"#385196\",\"#ab4e96\",\"#4f7f96\",\"#977c96\",\"#572896\",\"#98d896\",\"#b1a396\",\"#4e8096\",\"#74d996\",\"#a77796\",\"#676d96\",\"#3f2396\",\"#9a3d96\",\"#a3d896\",\"#aadc96\",\"#524796\",\"#f8b696\",\"#b4c796\",\"#58a596\",\"#4a9196\",\"#5ac896\",\"#3f4096\",\"#7c7396\",\"#356f96\",\"#516096\",\"#647396\",\"#b27996\",\"#a15d96\",\"#c77996\",\"#50c696\",\"#cf3096\",\"#40ae96\",\"#dc6296\",\"#edcf96\",\"#7b2696\",\"#9e4b96\",\"#8be596\",\"#9d8796\",\"#cfad96\",\"#c5b796\",\"#9ac596\",\"#a8b496\",\"#bc2b96\",\"#e17096\",\"#cca896\",\"#8ab796\",\"#939296\",\"#f32596\",\"#4edb96\",\"#54bd96\",\"#a11f96\",\"#777b96\",\"#663a96\",\"#904396\",\"#72a396\",\"#de7096\",\"#619196\",\"#a68396\",\"#b49a96\",\"#355a96\",\"#348c96\",\"#abd896\",\"#7b9e96\",\"#773596\",\"#4ab096\",\"#5c8696\",\"#af8f96\",\"#89b296\",\"#594496\",\"#645996\",\"#677096\",\"#e2c496\",\"#b4ab96\",\"#873796\",\"#a9d096\",\"#6adf96\",\"#a27d96\",\"#6a3d96\",\"#93a596\",\"#329c96\",\"#74c996\",\"#9d8a96\",\"#ca8596\",\"#60cb96\",\"#ee6596\",\"#6e4a96\",\"#b26596\",\"#e65296\",\"#96cb96\",\"#658996\",\"#3ba896\",\"#d77496\",\"#e8e096\",\"#9f9396\",\"#595096\",\"#9e7b96\",\"#6a4b96\",\"#686696\",\"#9e8896\",\"#876196\",\"#a88296\",\"#64d296\",\"#997696\",\"#844896\",\"#cba996\",\"#c67396\",\"#8bb796\",\"#e26996\",\"#a3bf96\",\"#db5896\",\"#bb5396\",\"#946896\",\"#e85396\",\"#375896\",\"#8d3296\",\"#9b7396\",\"#b42e96\",\"#f3b296\",\"#82a296\",\"#afb796\",\"#e89496\",\"#c23696\",\"#c0e596\",\"#8b7e96\",\"#e7d296\",\"#b23c96\",\"#913196\",\"#a1c096\",\"#638a96\",\"#e0a296\",\"#5e3296\",\"#852396\",\"#b6c896\",\"#5b3396\",\"#ba4d96\",\"#7b2096\",\"#b1cb96\",\"#402196\",\"#ad4896\",\"#b58696\",\"#91c296\",\"#3aa296\",\"#d28596\",\"#69ae96\",\"#9d5896\",\"#6b5096\",\"#5c5996\",\"#a8ac96\",\"#327196\",\"#dd6c96\",\"#e51f96\",\"#45d096\",\"#d32896\",\"#af4d96\",\"#554696\",\"#442296\",\"#474696\",\"#9bca96\",\"#d87d96\",\"#f54f96\",\"#942896\",\"#98b096\",\"#35bc96\",\"#4ec896\",\"#4e4d96\",\"#c4d596\",\"#56be96\",\"#879d96\",\"#be7c96\",\"#749196\",\"#475b96\",\"#538896\",\"#5b5396\",\"#6f2f96\",\"#337996\",\"#c35e96\",\"#e57596\",\"#88dc96\",\"#f04896\",\"#cf7a96\",\"#576996\",\"#6ccc96\",\"#89bc96\",\"#cd9b96\",\"#aa9a96\",\"#989b96\",\"#86b896\",\"#65a196\",\"#8d3996\",\"#dbc996\",\"#d54f96\",\"#3ab796\",\"#8edb96\",\"#b36c96\",\"#72ab96\",\"#c33b96\",\"#3b4396\",\"#762796\",\"#9cac96\",\"#5cc696\",\"#f6de96\",\"#9a8296\",\"#eb8696\",\"#783896\",\"#f2a396\",\"#bc5c96\",\"#be8096\",\"#bd2796\",\"#9ca596\",\"#7aa696\",\"#858996\",\"#804396\",\"#646c96\",\"#93ae96\",\"#e46096\",\"#b53096\",\"#a0b496\",\"#e48b96\",\"#e7d496\",\"#347f96\",\"#cb3196\",\"#785496\",\"#9a2b96\",\"#9be196\",\"#5b4596\",\"#b37b96\",\"#b0e596\",\"#5f5696\",\"#f22596\",\"#d65996\",\"#997596\",\"#a41e96\",\"#e7c096\",\"#6f4e96\",\"#f88696\",\"#b15296\",\"#46cc96\",\"#db7196\",\"#c18d96\",\"#be2296\",\"#366b96\",\"#aa2196\",\"#33bd96\",\"#f74996\",\"#6a2c96\",\"#5d8e96\",\"#e48c96\",\"#8d2096\",\"#899296\",\"#9ab296\",\"#b04b96\",\"#8c8e96\",\"#9a6796\",\"#af4a96\",\"#b6be96\",\"#d19596\",\"#835696\",\"#6d5396\",\"#4f9196\",\"#bbdb96\",\"#8d6496\",\"#c45b96\",\"#de3596\",\"#dfa596\",\"#a34296\",\"#8ad396\",\"#61ae96\",\"#565496\",\"#353496\",\"#4a8396\",\"#593b96\",\"#82a896\",\"#556496\",\"#5c2b96\",\"#bc3096\",\"#9b5b96\",\"#a97696\",\"#5da496\",\"#bbe596\",\"#a77196\",\"#49b196\",\"#32a696\",\"#3dc696\",\"#7ead96\",\"#944496\",\"#544196\",\"#a6d596\",\"#77b896\",\"#cfb096\",\"#d7d996\",\"#e67896\",\"#bd9d96\",\"#48d296\",\"#87b196\",\"#ea5d96\",\"#7c4c96\",\"#7d7296\",\"#7c7896\",\"#aed196\",\"#d13596\",\"#94af96\",\"#432c96\",\"#c2ce96\",\"#7c6796\",\"#44c496\",\"#b55e96\",\"#5f3b96\",\"#34e496\",\"#364296\",\"#337f96\",\"#56b796\",\"#f48496\",\"#829996\",\"#64d696\",\"#8f7396\",\"#a95596\",\"#bf6396\",\"#84cd96\",\"#8ebd96\",\"#b0c796\",\"#477d96\",\"#aa7e96\",\"#e85696\",\"#857996\",\"#ef1e96\",\"#799096\",\"#b91f96\",\"#8f3696\",\"#62c096\",\"#749e96\",\"#812196\",\"#d7d696\",\"#ec3c96\",\"#845596\",\"#3eb696\",\"#4a5e96\",\"#469f96\",\"#c17996\",\"#4dd296\",\"#c77d96\",\"#ca4296\",\"#4be096\",\"#995596\",\"#b7b996\",\"#922496\",\"#463996\",\"#675696\",\"#ec6d96\",\"#515d96\",\"#d91e96\",\"#a8b296\",\"#399b96\",\"#965096\",\"#755996\",\"#427a96\",\"#673596\",\"#4cb296\",\"#bcc696\",\"#454496\",\"#f94e96\",\"#62bd96\",\"#3b7d96\",\"#445b96\",\"#a1c296\",\"#3a7a96\",\"#8d3c96\",\"#adad96\",\"#c5b096\",\"#a97d96\",\"#8fa796\",\"#5d4396\",\"#51b696\",\"#4c8a96\",\"#787b96\",\"#42c996\",\"#9b3896\",\"#bc2f96\",\"#908b96\",\"#a64096\",\"#ba4d96\",\"#e22096\",\"#949796\",\"#ebd396\",\"#a75696\",\"#dc4b96\",\"#5ac196\",\"#ed4596\",\"#a6c596\",\"#c93996\",\"#576096\",\"#92bc96\",\"#f4d396\",\"#ce8c96\",\"#502096\",\"#af5d96\",\"#941e96\",\"#681e96\",\"#d1d396\",\"#3c7b96\",\"#a4c996\",\"#d88b96\",\"#6d7e96\",\"#ad1e96\",\"#8ca096\",\"#c57196\",\"#395b96\",\"#cb7d96\",\"#da7396\",\"#372d96\",\"#688896\",\"#476f96\",\"#9eb196\",\"#ca5496\",\"#e26296\",\"#8e2396\",\"#f97596\",\"#a8d396\",\"#7bc196\",\"#37ae96\",\"#4dc696\",\"#ad3c96\",\"#c65396\",\"#547596\",\"#59d096\",\"#eb8296\",\"#39d196\",\"#aa9496\",\"#5f9096\",\"#ae8996\",\"#e76596\",\"#8e5f96\",\"#9dbe96\",\"#7f6a96\",\"#51d496\",\"#7b2396\",\"#cd7896\",\"#78ce96\",\"#e85d96\",\"#869396\",\"#c35096\",\"#4d9096\",\"#c7a296\",\"#91e096\",\"#f69896\",\"#3b7b96\",\"#33be96\",\"#e23596\",\"#daa596\",\"#dd2096\",\"#bbe496\",\"#74cb96\",\"#57c996\",\"#627a96\",\"#69ca96\",\"#f59e96\",\"#4d4d96\",\"#5fe296\",\"#6d2096\",\"#528096\",\"#355896\",\"#68e596\",\"#9bce96\",\"#f17596\",\"#735596\",\"#476d96\",\"#734496\",\"#9f5896\",\"#da5496\",\"#e7d896\",\"#efd396\",\"#354f96\",\"#e95196\",\"#6d6596\",\"#b6ce96\",\"#f7b196\",\"#9c3396\",\"#ba9a96\",\"#5f8d96\",\"#5fc196\",\"#985796\",\"#84cd96\",\"#6b5b96\",\"#374996\",\"#59d796\",\"#4b7096\",\"#7c6896\",\"#65b896\",\"#56c396\",\"#dbac96\",\"#8cc396\",\"#f65b96\",\"#d9b496\",\"#da3c96\",\"#5f5296\",\"#53c796\",\"#685096\",\"#51c396\",\"#ec9c96\",\"#6d4796\",\"#ba9596\",\"#c9ba96\",\"#51c696\",\"#5b6c96\",\"#389296\",\"#6add96\",\"#6d4a96\",\"#c89396\",\"#e36796\",\"#e2b496\",\"#787e96\",\"#46a396\",\"#cb9396\",\"#45bb96\",\"#e9c896\",\"#da3596\",\"#4a9296\",\"#c13e96\",\"#b79896\",\"#a6c196\",\"#d89796\",\"#cf7d96\",\"#e55d96\",\"#d22a96\",\"#ac8696\",\"#627096\",\"#c74696\",\"#4d3896\",\"#74af96\",\"#688996\",\"#c86796\",\"#398796\",\"#eb8c96\",\"#994a96\",\"#aea096\",\"#e0b396\",\"#bed196\",\"#6c4f96\",\"#c26596\",\"#96b396\",\"#7eb296\",\"#4da296\",\"#913296\",\"#3c4a96\",\"#d06b96\",\"#6dd996\",\"#814796\",\"#c94a96\",\"#d6d996\",\"#a13a96\",\"#455396\",\"#d4c796\",\"#f26996\",\"#e54996\",\"#7b4f96\",\"#d3ce96\",\"#37a596\",\"#973296\",\"#f95696\",\"#bccb96\",\"#743996\",\"#9a7596\",\"#515496\",\"#7f1e96\",\"#e34796\",\"#4d6996\",\"#3ae596\",\"#cc3c96\",\"#deac96\",\"#3a5e96\",\"#37c496\",\"#dee496\",\"#f7c796\",\"#6ad996\",\"#c09896\",\"#58cc96\",\"#d43896\",\"#5dbd96\",\"#c77896\",\"#582996\",\"#477796\",\"#e82096\",\"#8e6a96\",\"#65e196\",\"#35b096\",\"#6fd196\",\"#f8b196\",\"#c9db96\",\"#35b296\",\"#746496\",\"#ea3796\",\"#bb7396\",\"#5b9c96\",\"#752696\",\"#ae8396\",\"#f5c696\",\"#ddb096\",\"#33d196\",\"#82e096\",\"#485f96\",\"#81ae96\",\"#5b2d96\",\"#8c5c96\",\"#9b2a96\",\"#c0c896\",\"#697096\",\"#636796\",\"#3d3396\",\"#e73496\",\"#6c8896\",\"#82c596\",\"#3c3396\",\"#8f2696\",\"#c26296\",\"#47a296\",\"#de4196\",\"#5ad296\",\"#b3b496\",\"#ea3096\",\"#32bf96\",\"#9c9796\",\"#b9b896\",\"#54d296\",\"#e22996\",\"#3f3196\",\"#5a5496\",\"#4ba796\",\"#e6b596\",\"#f8a796\",\"#a9b896\",\"#ee6396\",\"#502a96\",\"#9e6396\",\"#c96f96\",\"#38e296\",\"#5a4896\",\"#4bbd96\",\"#7a6496\",\"#dc6596\",\"#77c496\",\"#cd5c96\",\"#8c3796\",\"#8b2b96\",\"#9f3996\",\"#4eda96\",\"#a14296\",\"#339b96\",\"#f05096\",\"#ab9f96\",\"#992e96\",\"#468a96\",\"#bb8c96\",\"#cd3d96\",\"#697396\",\"#6b7096\",\"#db9396\",\"#61ce96\",\"#c42496\",\"#677096\",\"#f58796\",\"#3fb396\",\"#92d196\",\"#3cb296\",\"#4b5396\",\"#79d096\",\"#e92196\",\"#74b296\",\"#a83796\",\"#f0d996\",\"#c1a296\",\"#52b496\",\"#f43396\",\"#6a6e96\",\"#4dc596\",\"#928a96\",\"#523a96\",\"#f1e196\",\"#e7de96\",\"#335196\",\"#8edb96\",\"#3c9296\",\"#34b996\",\"#a6cb96\",\"#b1c396\",\"#d67396\",\"#c88896\",\"#e43a96\",\"#bfdc96\",\"#659e96\",\"#3c1f96\",\"#64b596\",\"#c3cc96\",\"#e47396\",\"#40dd96\",\"#eeb596\",\"#8a2096\",\"#39b096\",\"#df3e96\",\"#d6a196\",\"#3f3096\",\"#935796\",\"#67a196\",\"#d27596\",\"#f4ba96\",\"#7f8596\",\"#ecd496\",\"#a39396\",\"#b7ad96\",\"#aa3b96\",\"#a42b96\",\"#60c696\",\"#9c4c96\",\"#46c896\",\"#9c4296\",\"#51c396\",\"#e57096\",\"#3a3296\",\"#d6ac96\",\"#58df96\",\"#f4d196\",\"#3a8196\",\"#bcc196\",\"#f9d996\",\"#d75896\",\"#c77696\",\"#ad8c96\",\"#ed9c96\",\"#40bc96\",\"#364596\",\"#f94396\",\"#a67c96\",\"#378996\",\"#9be296\",\"#c87e96\",\"#a54596\",\"#403d96\",\"#b48c96\",\"#b0ab96\",\"#618e96\",\"#4b3096\",\"#f57d96\",\"#432696\",\"#96c896\",\"#6ad696\",\"#6fb396\",\"#a93196\",\"#f6db96\",\"#79cb96\",\"#e45f96\",\"#403996\",\"#767696\",\"#d29596\",\"#edbb96\",\"#8ad896\",\"#a9b196\",\"#5aa096\",\"#f51e96\",\"#776396\",\"#985b96\",\"#a1ae96\",\"#c9db96\",\"#89b396\",\"#42dd96\",\"#c73f96\",\"#6d2d96\",\"#4dbe96\",\"#bfdc96\",\"#e78e96\",\"#43a896\",\"#deb396\",\"#8f9696\",\"#434a96\",\"#578596\",\"#839896\",\"#a9c196\",\"#836696\",\"#4f6596\",\"#ece296\",\"#9c3b96\",\"#399196\",\"#b98396\",\"#cf3c96\",\"#4c7496\",\"#7ed996\",\"#809796\",\"#966096\",\"#6c4596\",\"#f22196\",\"#8d8396\",\"#75ae96\",\"#f4ae96\",\"#707996\",\"#c16796\",\"#398996\",\"#b56796\",\"#e86196\",\"#c94d96\",\"#ac4596\",\"#694a96\",\"#f13c96\",\"#b74a96\",\"#44d896\",\"#8da296\",\"#36bd96\",\"#c63f96\",\"#c33f96\",\"#4d1f96\",\"#7de196\",\"#d1d096\",\"#482b96\",\"#c17096\",\"#667196\",\"#545296\",\"#894196\",\"#72a396\",\"#3ac196\",\"#424c96\",\"#56da96\",\"#c26896\",\"#cb7296\",\"#ce5f96\",\"#5ca996\",\"#6d3896\",\"#82e496\",\"#8f8796\",\"#898196\",\"#9db396\",\"#5cc496\",\"#375e96\",\"#64d696\",\"#f66e96\",\"#a32396\",\"#6f4096\",\"#9c7896\",\"#714f96\",\"#da4996\",\"#d5d296\",\"#5d5596\",\"#3e9496\",\"#623296\",\"#5ec596\",\"#87bf96\",\"#479c96\",\"#7b3296\",\"#361f96\",\"#d7a896\",\"#f88e96\",\"#ae7096\",\"#9fe196\",\"#d8a296\",\"#69e096\",\"#6a6296\",\"#e45396\",\"#a7ab96\",\"#dc3796\",\"#d7d996\",\"#a4b296\",\"#7e5096\",\"#72c896\",\"#82cd96\",\"#a33a96\",\"#cf2d96\",\"#ea8e96\",\"#6a2196\",\"#956e96\",\"#a7a396\",\"#6bd296\",\"#b0db96\",\"#a33e96\",\"#57b496\",\"#348696\",\"#86b496\",\"#9f8196\",\"#4b5a96\",\"#e6a196\",\"#656996\",\"#9e4596\",\"#e44296\",\"#baad96\",\"#7cc196\",\"#ece296\",\"#757396\",\"#6f9396\",\"#eb3e96\",\"#d8db96\",\"#4d9e96\",\"#be3a96\",\"#9a5b96\",\"#69e596\",\"#4fb196\",\"#67af96\",\"#a24196\",\"#90df96\",\"#777896\",\"#dc5a96\",\"#6bb596\",\"#746b96\",\"#5d4896\",\"#ed9f96\",\"#d86796\",\"#bd9796\",\"#d4d196\",\"#759296\",\"#87b596\",\"#377396\",\"#82a796\",\"#a52a96\",\"#4a6696\",\"#eb6296\",\"#9dde96\",\"#c02896\",\"#6f2c96\",\"#74d196\",\"#f4ad96\",\"#f79696\",\"#47c096\",\"#5d7196\",\"#d9d196\",\"#473196\",\"#67ae96\",\"#904b96\",\"#e67096\",\"#f73996\",\"#8fd396\",\"#714296\",\"#67df96\",\"#7e7996\",\"#866296\",\"#bac996\",\"#64d396\",\"#c2e196\",\"#bf8c96\",\"#558896\",\"#aac096\",\"#a6d996\",\"#7f6896\",\"#4ada96\",\"#ea4696\",\"#d98496\",\"#4c9696\",\"#a47596\",\"#326e96\",\"#efa696\",\"#382a96\",\"#ec8296\",\"#c6dc96\",\"#c79796\",\"#375396\",\"#967496\",\"#6f7396\",\"#79b296\",\"#f04a96\",\"#8fbd96\",\"#49ce96\",\"#9f5796\",\"#39ad96\",\"#614496\",\"#5ea396\",\"#bdcb96\",\"#cf7b96\",\"#ed6696\",\"#eec196\",\"#6c8896\",\"#5fa396\",\"#4dbe96\",\"#463496\",\"#79c996\",\"#405a96\",\"#7d2896\",\"#3bd696\",\"#473a96\",\"#34ab96\",\"#6e3996\",\"#3f3b96\",\"#ed2896\",\"#ab8296\",\"#383d96\",\"#b67696\",\"#f29e96\",\"#66a996\",\"#602696\",\"#d1b296\",\"#c41f96\",\"#569c96\",\"#ae9a96\",\"#f34896\",\"#d57c96\",\"#eb7596\",\"#d34d96\",\"#3ee196\",\"#8a4496\",\"#ca9296\",\"#529296\",\"#f0b796\",\"#a6d296\",\"#62e296\",\"#8c5a96\",\"#ba6e96\",\"#bbd896\",\"#c72896\",\"#ce2596\",\"#74a996\",\"#f0cd96\",\"#a89a96\",\"#849a96\",\"#c8a796\",\"#d85696\",\"#973596\",\"#e8cd96\",\"#eaa996\",\"#376696\",\"#8b3796\",\"#37be96\",\"#e46896\",\"#ecab96\",\"#605b96\",\"#a2aa96\",\"#e34b96\",\"#3c7f96\",\"#a63b96\",\"#4d3296\",\"#b4cd96\",\"#836b96\",\"#e2c196\",\"#774e96\",\"#3a2996\",\"#9a8b96\",\"#5fa296\",\"#4cda96\",\"#bb4096\",\"#657c96\",\"#7d6396\",\"#b84f96\",\"#f57b96\",\"#5fd596\",\"#9ab296\",\"#77c596\",\"#7bbb96\",\"#5c6b96\",\"#addb96\",\"#6eae96\",\"#c0de96\",\"#bd6a96\",\"#78aa96\",\"#88e296\",\"#323496\",\"#dcc796\",\"#f6a696\",\"#d32e96\",\"#a02c96\",\"#5b2296\",\"#e3d996\",\"#3c7e96\",\"#456496\",\"#93c196\",\"#ea8896\",\"#462496\",\"#cb2c96\",\"#4bd896\",\"#a6cc96\",\"#5b9096\",\"#4f8496\",\"#884596\",\"#406c96\",\"#a95c96\",\"#f08196\",\"#ba8896\",\"#aad896\",\"#e4d696\",\"#48bc96\",\"#eecf96\",\"#5c4f96\",\"#654c96\",\"#f16096\",\"#a04996\",\"#cbca96\",\"#327696\",\"#86c896\",\"#b7dc96\",\"#e6d196\",\"#7b7396\",\"#6b1e96\",\"#a17196\",\"#bc4196\",\"#8de096\",\"#422896\",\"#f14f96\",\"#cd4596\",\"#607f96\",\"#5d2c96\",\"#39c896\",\"#9c9896\",\"#b17f96\",\"#45b696\",\"#9f4896\",\"#c86996\",\"#6a1f96\",\"#4ee396\",\"#ae5c96\",\"#483c96\",\"#c0c296\",\"#78a596\",\"#436f96\",\"#d03696\",\"#b46796\",\"#f16796\",\"#5a7696\",\"#d28896\",\"#e63c96\",\"#d74596\",\"#b94a96\",\"#e14a96\",\"#75e596\",\"#cd2c96\",\"#4d2296\",\"#b5a296\",\"#cdb296\",\"#8c2496\",\"#e05896\",\"#3abc96\",\"#f9bb96\",\"#674496\",\"#335d96\",\"#f64796\",\"#8b9296\",\"#a62796\",\"#3fa396\",\"#6a9e96\",\"#8acf96\",\"#ae8e96\",\"#eae196\",\"#ec4896\",\"#adbe96\",\"#9ed396\",\"#577396\",\"#482096\",\"#903c96\",\"#45d096\",\"#f0a696\",\"#bb4f96\",\"#f2a696\",\"#63a396\",\"#743b96\",\"#b68596\",\"#6f5396\",\"#d88e96\",\"#5c2e96\",\"#3ab496\",\"#e05f96\",\"#3d6c96\",\"#4f2996\",\"#d86696\",\"#3fa396\",\"#b84996\",\"#348996\",\"#7d5996\",\"#52a496\",\"#c48c96\",\"#f5e396\",\"#656096\",\"#8d5296\",\"#454c96\",\"#c56596\",\"#a6c396\",\"#43b696\",\"#57bf96\",\"#ea5496\",\"#8d9f96\",\"#4ac996\",\"#c2c996\",\"#536696\",\"#a76c96\",\"#a5b896\",\"#39d796\",\"#84e496\",\"#b83b96\",\"#81c296\",\"#719f96\",\"#b4d896\",\"#36cc96\",\"#662796\",\"#362096\",\"#445d96\",\"#b36a96\",\"#a12f96\",\"#679b96\",\"#819696\",\"#ce2a96\",\"#b59096\",\"#d77996\",\"#a3d896\",\"#6e5996\",\"#ed5396\",\"#dda096\",\"#c9ad96\",\"#cdae96\",\"#b16796\",\"#dfd096\",\"#81b796\",\"#c95596\",\"#c1e196\",\"#d22296\",\"#ba8b96\",\"#f26596\",\"#72a696\",\"#72af96\",\"#d1bf96\",\"#ed4896\",\"#a82e96\",\"#613196\",\"#f72696\",\"#f02096\",\"#9c7f96\",\"#794d96\",\"#664396\",\"#a77396\",\"#5de296\",\"#ab8496\",\"#57e196\",\"#db9696\",\"#346296\",\"#54e496\",\"#d7c696\",\"#725896\",\"#9dcb96\",\"#bcde96\",\"#643896\",\"#ae4496\",\"#dc7196\",\"#c45f96\",\"#37c996\",\"#785696\",\"#7d4c96\",\"#7fb796\",\"#513b96\",\"#cd2796\",\"#ce2396\",\"#5e7a96\",\"#dab196\",\"#33e196\",\"#461e96\",\"#963296\",\"#81c296\",\"#c92c96\",\"#778b96\",\"#7b4096\",\"#ae3496\",\"#885096\",\"#859a96\",\"#5c6b96\",\"#d85496\",\"#c7ab96\",\"#6a5696\",\"#a3d396\",\"#f57496\",\"#9c2b96\",\"#518196\",\"#de8a96\",\"#4a2b96\",\"#bd8d96\",\"#b76596\",\"#953096\",\"#f99096\",\"#7b6196\",\"#a52a96\",\"#742c96\",\"#9b8d96\",\"#ea5196\",\"#aed596\",\"#3d6e96\",\"#b0e496\",\"#f47196\",\"#8fae96\",\"#5b7396\",\"#916a96\",\"#644896\",\"#9fd396\",\"#e64e96\",\"#b18c96\",\"#3b3b96\",\"#4fa696\",\"#763996\",\"#badd96\",\"#4b6196\",\"#55d796\",\"#5e4a96\",\"#c03a96\",\"#6c6896\",\"#9d4a96\",\"#be4c96\",\"#39cc96\",\"#7cb196\",\"#ae2b96\",\"#98df96\",\"#7c2796\",\"#756b96\",\"#abb396\",\"#4be196\",\"#c14396\",\"#a85496\",\"#597296\",\"#3ba596\",\"#81cb96\",\"#447d96\",\"#c25b96\",\"#9c6a96\",\"#d8bc96\",\"#6b5396\",\"#d22896\",\"#a59996\",\"#d17f96\",\"#c6c896\",\"#829d96\",\"#957396\",\"#c2c996\",\"#3ad996\",\"#ded296\",\"#c7bf96\",\"#44d596\",\"#e0de96\",\"#f79196\",\"#8e5096\",\"#bad996\",\"#687096\",\"#3e9f96\",\"#548596\",\"#dd5996\",\"#86b996\",\"#4c2596\",\"#555d96\",\"#e63896\",\"#438a96\",\"#f2dd96\",\"#79b096\",\"#766696\",\"#485c96\",\"#3b2a96\",\"#979096\",\"#a11f96\",\"#928396\",\"#dea796\",\"#627396\",\"#4e7696\",\"#8e2c96\",\"#b7aa96\",\"#96b696\",\"#723396\",\"#829f96\",\"#f03f96\",\"#cfd796\",\"#d59696\",\"#95a096\",\"#d22696\",\"#90b996\",\"#b72596\",\"#95ca96\",\"#f1d396\",\"#844d96\",\"#88d296\",\"#7f6e96\",\"#8a8396\",\"#7c4e96\",\"#d59096\",\"#bb2296\",\"#b4a196\",\"#9b7f96\",\"#d56a96\",\"#c07d96\",\"#757496\",\"#d1a996\",\"#dbb996\",\"#d07196\",\"#b79f96\",\"#854f96\",\"#565b96\",\"#5e3496\",\"#533f96\",\"#b6c196\",\"#612c96\",\"#587696\",\"#346496\",\"#a1e096\",\"#59ae96\",\"#bdab96\",\"#6c4196\",\"#5ec596\",\"#68cc96\",\"#5a6196\",\"#d9dd96\",\"#563d96\",\"#497896\",\"#646796\",\"#cea596\",\"#b8bb96\",\"#579d96\",\"#a66696\",\"#c1c396\",\"#e52496\",\"#79bd96\",\"#c08796\",\"#32c696\",\"#34e296\",\"#5fa696\",\"#c23196\",\"#6cc396\",\"#503896\",\"#87bd96\",\"#e83a96\",\"#668096\",\"#89b396\",\"#c7a696\",\"#3a6496\",\"#f75296\",\"#e0b596\",\"#e18b96\",\"#a3c196\",\"#5e5c96\",\"#86cf96\",\"#607896\",\"#ecab96\",\"#a88596\",\"#df9c96\",\"#e51e96\",\"#a4a496\",\"#836a96\",\"#b79f96\",\"#50c696\",\"#bc3f96\",\"#cd9d96\",\"#4f4a96\",\"#8b4c96\",\"#b68596\",\"#698796\",\"#43b096\",\"#4db596\",\"#8e9d96\",\"#7a4c96\",\"#ad2a96\",\"#999696\",\"#80de96\",\"#408c96\",\"#c5ac96\",\"#97d696\",\"#f13196\",\"#d0ad96\",\"#90e496\",\"#747f96\",\"#3f7996\",\"#b79296\",\"#69b696\",\"#8ee296\",\"#55b996\",\"#6ac896\",\"#468696\",\"#a79796\",\"#c2ae96\",\"#9c9796\",\"#e6be96\",\"#3fdc96\",\"#9b2096\",\"#43a096\",\"#59d596\",\"#b97b96\",\"#3a8496\",\"#4bc596\",\"#4d6296\",\"#973396\",\"#7ea396\",\"#84e096\",\"#552696\",\"#ad2796\",\"#c45796\",\"#7f7596\",\"#f42996\",\"#e5d796\",\"#6e7c96\",\"#9b2696\",\"#a9dd96\",\"#6e7296\",\"#a94296\",\"#b13296\",\"#e5de96\",\"#367c96\",\"#e85b96\",\"#bc9296\",\"#dfb796\",\"#cbca96\",\"#766e96\",\"#32cd96\",\"#7a7c96\",\"#d2ce96\",\"#5b7696\",\"#d9af96\",\"#de5b96\",\"#7cb196\",\"#67ac96\",\"#ba5596\",\"#ef5d96\",\"#5ab996\",\"#dbc596\",\"#5a9096\",\"#db8d96\",\"#a17096\",\"#55c596\",\"#56e096\",\"#6d6896\",\"#4d2d96\",\"#c6d496\",\"#9c7b96\",\"#b54096\",\"#6a3396\",\"#c03c96\",\"#4c5796\",\"#d35d96\",\"#6d5096\",\"#528a96\",\"#943296\",\"#b12e96\",\"#448b96\",\"#a1d996\",\"#52ab96\",\"#a7b196\",\"#6f2196\",\"#974296\",\"#703296\",\"#8aa296\",\"#cec296\",\"#b5a196\",\"#5dca96\",\"#d6a896\",\"#704096\",\"#bf8796\",\"#9d3296\",\"#424c96\",\"#ef7a96\",\"#91c996\",\"#a76296\",\"#363796\",\"#aa8e96\",\"#949496\",\"#b09f96\",\"#d24596\",\"#7a8796\",\"#bdd396\",\"#f7ae96\",\"#dca696\",\"#cc7196\",\"#c79596\",\"#9e8b96\",\"#379c96\",\"#683a96\",\"#c92296\",\"#82c396\",\"#417096\",\"#6cc196\",\"#a87e96\",\"#60a596\",\"#36ac96\",\"#d5dd96\",\"#387a96\",\"#398a96\",\"#695b96\",\"#993396\",\"#4e8596\",\"#452696\",\"#8eac96\",\"#71bc96\",\"#796596\",\"#7fd896\",\"#90b496\",\"#d2ac96\",\"#d89596\",\"#b4c096\",\"#af9496\",\"#716496\",\"#bb8b96\",\"#a88796\",\"#75e596\",\"#f44196\",\"#c4c796\",\"#7fb696\",\"#e95f96\",\"#b7c996\",\"#4bcb96\",\"#4d7e96\",\"#817096\",\"#3bd396\",\"#c92596\",\"#ac7796\",\"#6baa96\",\"#e1cc96\",\"#b53496\",\"#d82a96\",\"#ef5696\",\"#e58796\",\"#f12b96\",\"#805a96\",\"#bed296\",\"#724b96\",\"#4ec896\",\"#998e96\",\"#3fa396\",\"#60a296\",\"#392096\",\"#edbd96\",\"#c7b796\",\"#883c96\",\"#564396\",\"#43be96\",\"#b13196\",\"#c53b96\",\"#892096\",\"#a22b96\",\"#f8c996\",\"#53ae96\",\"#b34d96\",\"#a06796\",\"#cba396\",\"#ee7296\",\"#593996\",\"#ce9196\",\"#efc696\",\"#36cb96\",\"#a16b96\",\"#b32d96\",\"#aace96\",\"#ea3f96\",\"#617d96\",\"#3e8196\",\"#5dc596\",\"#842596\",\"#aed196\",\"#9ee596\",\"#d2d496\",\"#777a96\",\"#642096\",\"#938e96\",\"#f62896\",\"#57dc96\",\"#96d596\",\"#d94a96\",\"#633b96\",\"#92de96\",\"#50be96\",\"#3bdd96\",\"#605f96\",\"#b79a96\",\"#bd9296\",\"#a3ca96\",\"#464196\",\"#39ae96\",\"#9d8196\",\"#62d896\",\"#a85196\",\"#ccb996\",\"#56e596\",\"#c06196\",\"#684996\",\"#3f6d96\",\"#55a196\",\"#888f96\",\"#5b3996\",\"#dbbd96\",\"#aec496\",\"#a29f96\",\"#adbf96\",\"#7a5296\",\"#f96896\",\"#36d096\",\"#6e8f96\",\"#f74096\",\"#59b996\",\"#bc6f96\",\"#58cf96\",\"#5d9196\",\"#3b5c96\",\"#cd4096\",\"#43ac96\",\"#4dbf96\",\"#f82596\",\"#52d296\",\"#69cb96\",\"#68db96\",\"#865696\",\"#e1e096\",\"#394696\",\"#704196\",\"#b33696\",\"#c72296\",\"#f6ba96\",\"#52b996\",\"#6ac296\",\"#c05496\",\"#6f9596\",\"#cb5796\",\"#b33096\",\"#6e8f96\",\"#79ba96\",\"#7d5b96\",\"#cf6096\",\"#f93096\",\"#705d96\",\"#809c96\",\"#54a096\",\"#4e2d96\",\"#9cba96\",\"#3fc996\",\"#be3196\",\"#ea3896\",\"#aedc96\",\"#6a8c96\",\"#d78796\",\"#a78f96\",\"#5e6296\",\"#4fb696\",\"#7abb96\",\"#903396\",\"#512796\",\"#cd8b96\",\"#387096\",\"#d16b96\",\"#8d7a96\",\"#a17d96\",\"#a58896\",\"#c18096\",\"#9f4e96\",\"#81aa96\",\"#f09396\",\"#9ec396\",\"#ab6796\",\"#70cd96\",\"#378296\",\"#dfdf96\",\"#bb6d96\",\"#b08c96\",\"#f2e396\",\"#dcb196\",\"#875a96\",\"#d64696\",\"#ba5596\",\"#5f1f96\",\"#859896\",\"#8fac96\",\"#cfa396\",\"#582c96\",\"#80d396\",\"#831e96\",\"#b98496\",\"#704d96\",\"#35d896\",\"#447a96\",\"#3ab296\",\"#f6d696\",\"#464796\",\"#e47996\",\"#5d8a96\",\"#54d396\",\"#32d896\",\"#585996\",\"#6c1e96\",\"#7b5996\",\"#c0df96\",\"#602796\",\"#573296\",\"#b01e96\",\"#56be96\",\"#5d6e96\",\"#bc4396\",\"#dcda96\",\"#ce6a96\",\"#3d6f96\",\"#ea3a96\",\"#f4ae96\",\"#8d6b96\",\"#c5e596\",\"#a4c296\",\"#b34896\",\"#b26c96\",\"#b28796\",\"#df7896\",\"#de5c96\",\"#8f3696\",\"#7a4b96\",\"#717396\",\"#f47196\",\"#933b96\",\"#f2c996\",\"#733a96\",\"#44d896\",\"#d25e96\",\"#f8bc96\",\"#6ae496\",\"#bb8496\",\"#796b96\",\"#ad7496\",\"#7a8396\",\"#423996\",\"#9c2696\",\"#cb7596\",\"#e44296\",\"#3b6b96\",\"#c1d196\",\"#519d96\",\"#e48996\",\"#53af96\",\"#cfab96\",\"#556b96\",\"#5ebd96\",\"#887a96\",\"#8aa096\",\"#cc8596\",\"#5b2e96\",\"#ab5696\",\"#39ca96\",\"#925696\",\"#406296\",\"#d2d596\",\"#dd4d96\",\"#5c3796\",\"#bd9896\",\"#c48f96\",\"#3bcc96\",\"#f7e496\",\"#6c7896\",\"#935a96\",\"#f39996\",\"#c16c96\",\"#51da96\",\"#a0b696\",\"#5dd396\",\"#b96696\",\"#745d96\",\"#bc4596\",\"#b83996\",\"#da8596\",\"#915b96\",\"#b13896\",\"#e87496\",\"#446a96\",\"#703596\",\"#3fba96\",\"#c96996\",\"#88a296\",\"#dc4396\",\"#718f96\",\"#642c96\",\"#522b96\",\"#81dc96\",\"#d15496\",\"#e97796\",\"#9e6796\",\"#599796\",\"#81e096\",\"#bd8396\",\"#939c96\",\"#6c4396\",\"#426296\",\"#599596\",\"#a87896\",\"#c18396\",\"#cfcb96\",\"#665196\",\"#a1d596\",\"#cfbd96\",\"#db7e96\",\"#993096\",\"#aaba96\",\"#a49996\",\"#e06596\",\"#8b5596\",\"#8dc396\",\"#749396\",\"#b18396\",\"#d89496\",\"#ec9c96\",\"#c48896\",\"#abb096\",\"#92d396\",\"#7bcb96\",\"#f39196\",\"#5ba896\",\"#544b96\",\"#a58e96\",\"#73cd96\",\"#d44e96\",\"#adaf96\",\"#c42396\",\"#8f7a96\",\"#854196\",\"#4f5e96\",\"#d15996\",\"#a9c296\",\"#333d96\",\"#b09a96\",\"#6d8b96\",\"#aa5896\",\"#86c796\",\"#9a6796\",\"#a48496\",\"#aca396\",\"#da5396\",\"#4c8996\",\"#3a3596\",\"#dca096\",\"#3c7896\",\"#736396\",\"#5a9196\",\"#4d4696\",\"#b2aa96\",\"#ec9e96\",\"#3ac696\",\"#ac2696\",\"#909f96\",\"#e96396\",\"#be8196\",\"#427496\",\"#b62096\",\"#88c796\",\"#35aa96\",\"#71a896\",\"#398196\",\"#f5cf96\",\"#a3b396\",\"#b45996\",\"#d07d96\",\"#899d96\",\"#de9b96\",\"#f99b96\",\"#f55096\",\"#71b996\",\"#74d596\",\"#7ec296\",\"#9db096\",\"#da2e96\",\"#404696\",\"#764d96\",\"#b5b596\",\"#43aa96\",\"#99aa96\",\"#34ca96\",\"#7f2e96\",\"#bfba96\",\"#437a96\",\"#7ece96\",\"#45b196\",\"#9fe096\",\"#3bd396\",\"#39a996\",\"#bdbe96\",\"#3e3e96\",\"#f36a96\",\"#40b796\",\"#8c6c96\",\"#d9c196\",\"#9d4296\",\"#b84696\",\"#ee7696\",\"#8ed896\",\"#543796\",\"#ea8996\",\"#a68a96\",\"#e92c96\",\"#94a596\",\"#e0cd96\",\"#f06596\",\"#81ce96\",\"#62cd96\",\"#43c196\",\"#d47196\",\"#6fbf96\",\"#58af96\",\"#e24a96\",\"#925e96\",\"#834396\",\"#57b296\",\"#a34996\",\"#d48a96\",\"#5d5196\",\"#989e96\",\"#c2bb96\",\"#352296\",\"#4c2896\",\"#aaa596\",\"#6c9896\",\"#8d3696\",\"#795096\",\"#b4d996\",\"#dd2d96\",\"#833596\",\"#815296\",\"#f34096\",\"#36b496\",\"#948996\",\"#ad4b96\",\"#597996\",\"#ca2196\",\"#4a2796\",\"#95d796\",\"#e9c496\",\"#8bad96\",\"#769d96\",\"#725a96\",\"#cd7f96\",\"#9f2296\",\"#727996\",\"#d95f96\",\"#c17c96\",\"#3dd496\",\"#a28e96\",\"#69ba96\",\"#69be96\",\"#508496\",\"#883596\",\"#af5496\",\"#5d9896\",\"#856c96\",\"#e76c96\",\"#506096\",\"#774e96\",\"#7cb096\",\"#c35e96\",\"#dd5996\",\"#ec8b96\",\"#c88a96\",\"#5e5b96\",\"#86ca96\",\"#c84096\",\"#a2a496\",\"#49c996\",\"#cab196\",\"#557496\",\"#c69096\",\"#f48a96\",\"#e4e096\",\"#72bf96\",\"#a03c96\",\"#576f96\",\"#437996\",\"#583a96\",\"#a89696\",\"#9a2b96\",\"#905796\",\"#676c96\",\"#b96d96\",\"#899496\",\"#9b4096\",\"#973696\",\"#51c696\",\"#f56996\",\"#6d8a96\",\"#6a8a96\",\"#5b3b96\",\"#c1d896\",\"#e6d296\",\"#612c96\",\"#b06596\",\"#5e9796\",\"#cf9896\",\"#5edf96\",\"#647596\",\"#334996\",\"#754c96\",\"#7c3396\",\"#e35396\",\"#369196\",\"#f83c96\",\"#a0c996\",\"#c35296\",\"#f9be96\",\"#bc5596\",\"#b4d896\",\"#cda996\",\"#8d9c96\",\"#6a3496\",\"#a6d396\",\"#cc3b96\",\"#bad096\",\"#6fa196\",\"#d86c96\",\"#774396\",\"#d0c796\",\"#aa8f96\",\"#da7796\",\"#9b7a96\",\"#889f96\",\"#3acf96\",\"#3a2e96\",\"#abcb96\",\"#c66296\",\"#8bbe96\",\"#9e2c96\",\"#5c7196\",\"#9e2c96\",\"#b97596\",\"#4b1e96\",\"#635d96\",\"#e38b96\",\"#8f5696\",\"#48cd96\",\"#e72896\",\"#95ce96\",\"#c49196\",\"#51c096\",\"#484996\",\"#4abd96\",\"#f1e296\",\"#543996\",\"#9d8696\",\"#e36e96\",\"#f53896\",\"#b79696\",\"#4dde96\",\"#502596\",\"#ae6a96\",\"#885296\",\"#595c96\",\"#60e096\",\"#613d96\",\"#3b9296\",\"#d2b396\",\"#b67c96\",\"#93d896\",\"#c14096\",\"#cbe596\",\"#d3bd96\",\"#692396\",\"#5d4b96\",\"#545496\",\"#d69196\",\"#844a96\",\"#7b7c96\",\"#62e296\",\"#4eca96\",\"#c05496\",\"#8d9296\",\"#c33396\",\"#654796\",\"#d58d96\",\"#99c896\",\"#e86296\",\"#492e96\",\"#462496\",\"#7ad696\",\"#cd3d96\",\"#868696\",\"#a3bb96\",\"#87ba96\",\"#35c996\",\"#c12496\",\"#60ca96\",\"#d8e096\",\"#3fbb96\",\"#69d496\",\"#789e96\",\"#955f96\",\"#544f96\",\"#de3d96\",\"#77a596\",\"#90bd96\",\"#653d96\",\"#80ac96\",\"#a88c96\",\"#f28196\",\"#85df96\",\"#b46496\",\"#7d9596\",\"#aadd96\",\"#f29196\",\"#402196\",\"#508d96\",\"#d5a396\",\"#4ec996\",\"#bfdc96\",\"#68b296\",\"#617d96\",\"#6f6896\",\"#452796\",\"#328996\",\"#84a796\",\"#644696\",\"#ba4b96\",\"#684196\",\"#d7e296\",\"#989496\",\"#905496\",\"#f79396\",\"#ca4196\",\"#b42796\",\"#bb9c96\",\"#aa5a96\",\"#592b96\",\"#458196\",\"#6d6896\",\"#732a96\",\"#7e4596\",\"#794196\",\"#cf9e96\",\"#a68d96\",\"#99c096\",\"#a76a96\",\"#8bd996\",\"#e37e96\",\"#f9d196\",\"#aba496\",\"#442996\",\"#cbe096\",\"#a29496\",\"#d9c496\",\"#eb5e96\",\"#523796\",\"#ddc496\",\"#a76b96\",\"#834196\",\"#40d296\",\"#e8ac96\",\"#7d7596\",\"#4a5696\",\"#395b96\",\"#e67796\",\"#8ea696\",\"#77ce96\",\"#9aaf96\",\"#848c96\",\"#966196\",\"#d42296\",\"#b47196\",\"#4fc596\",\"#a66f96\",\"#9fc996\",\"#5b4f96\",\"#526c96\",\"#66bc96\",\"#f0c996\",\"#cf2b96\",\"#a88196\",\"#3e9d96\",\"#c6b296\",\"#9a3a96\",\"#58b596\",\"#552c96\",\"#899396\",\"#b95296\",\"#612896\",\"#6add96\",\"#8c8f96\",\"#ca8696\",\"#34a396\",\"#54bf96\",\"#75b296\",\"#442896\",\"#49a996\",\"#33a296\",\"#bd4096\",\"#5c9696\",\"#edad96\",\"#586896\",\"#f84d96\",\"#563396\",\"#be9696\",\"#afe496\",\"#b49b96\",\"#dee096\",\"#40cd96\",\"#882896\",\"#759a96\",\"#487596\",\"#aa3996\",\"#a69b96\",\"#f8e196\",\"#662f96\",\"#d3be96\",\"#91d696\",\"#de4f96\",\"#3f8396\",\"#a7bf96\",\"#b06296\",\"#8c5896\",\"#69a896\",\"#75d696\",\"#4f6896\",\"#6b4e96\",\"#be5d96\",\"#3cc996\",\"#dfb896\",\"#86c296\",\"#8e9296\",\"#d83b96\",\"#9c1e96\",\"#6a8396\",\"#974996\",\"#9e5b96\",\"#3ccb96\",\"#818296\",\"#6b1f96\",\"#4ead96\",\"#d05996\",\"#43d796\",\"#4c4d96\",\"#c63496\",\"#32d996\",\"#e13f96\",\"#c4a596\",\"#a7b696\",\"#454796\",\"#f86e96\",\"#a54696\",\"#e38c96\",\"#e49b96\",\"#466f96\",\"#829896\",\"#945e96\",\"#91b296\",\"#f0bf96\",\"#b28396\",\"#b4c496\",\"#5e5496\",\"#ea4296\",\"#bd2c96\",\"#46ba96\",\"#8daa96\",\"#869796\",\"#793896\",\"#349396\",\"#359c96\",\"#7a7596\",\"#491f96\",\"#a35096\",\"#3a4696\",\"#a7ae96\",\"#36b596\",\"#38d596\",\"#7fe596\",\"#a6d996\",\"#d1bf96\",\"#9e3c96\",\"#362796\",\"#ec2896\",\"#917b96\",\"#58a996\",\"#605f96\",\"#b47f96\",\"#b77e96\",\"#443396\",\"#7cbc96\",\"#d92196\",\"#6dd596\",\"#3ec996\",\"#c75396\",\"#ca4496\",\"#eb2c96\",\"#de4a96\",\"#de6c96\",\"#d3c296\",\"#6c4696\",\"#b38196\",\"#924c96\",\"#c9df96\",\"#77ae96\",\"#919d96\",\"#9da196\",\"#783896\",\"#41c596\",\"#b9c796\",\"#84af96\",\"#f96596\",\"#9c3496\",\"#823e96\",\"#805796\",\"#9b9f96\",\"#c0e196\",\"#382e96\",\"#f3d396\",\"#444e96\",\"#c72896\",\"#72cc96\",\"#80da96\",\"#72d296\",\"#ab6b96\",\"#a68096\",\"#e28a96\",\"#bd5b96\",\"#778796\",\"#32d496\",\"#9cb296\",\"#c1cd96\",\"#3fb796\",\"#462196\",\"#438296\",\"#f6d096\",\"#c65c96\",\"#ca9796\",\"#e3d096\",\"#8c6196\",\"#344496\",\"#e54e96\",\"#ec6596\",\"#f5e596\",\"#d82f96\",\"#779b96\",\"#518696\",\"#3d9e96\",\"#748096\",\"#36b196\",\"#b0de96\",\"#593b96\",\"#ead196\",\"#7d5296\",\"#5d4696\",\"#d3d596\",\"#afaa96\",\"#f2ac96\",\"#594296\",\"#494c96\",\"#8c6f96\",\"#abc796\",\"#dd6496\",\"#da7b96\",\"#b2b996\",\"#6c8796\",\"#659796\",\"#583396\",\"#727396\",\"#f0c796\",\"#d27e96\",\"#822a96\",\"#62c096\",\"#46ba96\",\"#d3bb96\",\"#624296\",\"#5ad596\",\"#3dae96\",\"#be3d96\",\"#325696\",\"#34d596\",\"#e4a596\",\"#9e4096\",\"#a99d96\",\"#e9d396\",\"#522896\",\"#c13296\",\"#994396\",\"#98d196\",\"#9aa496\",\"#a43396\",\"#724f96\",\"#b09396\",\"#b67d96\",\"#d1dd96\",\"#3e5796\",\"#92cc96\",\"#d6a496\",\"#c8a496\",\"#f39b96\",\"#de9896\",\"#de9e96\",\"#c24996\",\"#82ca96\",\"#41da96\",\"#494896\",\"#adb196\",\"#68b396\",\"#61b496\",\"#639e96\",\"#e82996\",\"#62ad96\",\"#c24596\",\"#5d5496\",\"#775596\",\"#bc5996\",\"#93c596\",\"#d0b496\",\"#897b96\",\"#7eaa96\",\"#f23c96\",\"#d6db96\",\"#a0b096\",\"#a7b496\",\"#b7a796\",\"#616d96\",\"#d08f96\",\"#b1bf96\",\"#3aa296\",\"#473f96\",\"#bc4496\",\"#c37496\",\"#7e6f96\",\"#429196\",\"#c77f96\",\"#75a196\",\"#969696\",\"#37d096\",\"#41ae96\",\"#9ab996\",\"#99a796\",\"#c16496\",\"#bc2696\",\"#eb9496\",\"#d37096\",\"#67cc96\",\"#58d396\",\"#803b96\",\"#622596\",\"#9fdd96\",\"#bf6b96\",\"#478e96\",\"#f9ce96\",\"#e1cd96\",\"#eb7696\",\"#76da96\",\"#888c96\",\"#9d2d96\",\"#95a596\",\"#f38496\",\"#753996\",\"#9bc596\",\"#dcd496\",\"#f55a96\",\"#3e9196\",\"#bdcf96\",\"#cb6596\",\"#76bb96\",\"#d85496\",\"#3e9496\",\"#885896\",\"#357a96\",\"#79db96\",\"#935796\",\"#77ae96\",\"#406596\",\"#b23296\",\"#33aa96\",\"#738b96\",\"#359896\",\"#d18196\",\"#369896\",\"#463c96\",\"#f37b96\",\"#e18e96\",\"#632796\",\"#b33c96\",\"#6be096\",\"#db9896\",\"#8ae196\",\"#6e7c96\",\"#f66196\",\"#989596\",\"#4d1e96\",\"#96aa96\",\"#b01f96\",\"#8cda96\",\"#61d096\",\"#49be96\",\"#9f8196\",\"#ec6296\",\"#82d596\",\"#ca9196\",\"#ba5c96\",\"#53d196\",\"#715b96\",\"#51cb96\",\"#644496\",\"#dc6896\",\"#534c96\",\"#bbd196\",\"#afe296\",\"#b69696\",\"#9e5396\",\"#5eb196\",\"#e33496\",\"#bdaf96\",\"#863496\",\"#ce5696\",\"#808696\",\"#678e96\",\"#bcd796\",\"#9c3196\",\"#3de196\",\"#37c396\",\"#a56e96\",\"#f38496\",\"#b98196\",\"#b39296\",\"#dfd696\",\"#efc396\",\"#32be96\",\"#6d3e96\",\"#ba1e96\",\"#527996\",\"#b14596\",\"#458596\",\"#405996\",\"#bb6396\",\"#898196\",\"#47de96\",\"#ba2996\",\"#336896\",\"#c12196\",\"#339296\",\"#ef2396\",\"#833f96\",\"#55a496\",\"#b14f96\",\"#923d96\",\"#e95796\",\"#a56096\",\"#468796\",\"#cf3e96\",\"#365996\",\"#7b4196\",\"#663c96\",\"#383896\",\"#897d96\",\"#9ace96\",\"#a03996\",\"#774d96\",\"#4c9596\",\"#66dc96\",\"#537096\",\"#a35e96\",\"#354396\",\"#e02396\",\"#ded296\",\"#e17996\",\"#5fbf96\",\"#774996\",\"#39cf96\",\"#ec6d96\",\"#d25c96\",\"#cd5b96\",\"#e77c96\",\"#837896\",\"#9fe396\",\"#dabf96\",\"#496296\",\"#e7b296\",\"#802a96\",\"#7ccc96\",\"#56ab96\",\"#f09696\",\"#56ba96\",\"#35e396\",\"#526896\",\"#374a96\",\"#cccf96\",\"#d13a96\",\"#5bdd96\",\"#cf5496\",\"#cca796\",\"#e78796\",\"#3ba596\",\"#a93896\",\"#69b296\",\"#4c5696\",\"#efaf96\",\"#666196\",\"#734d96\",\"#c38f96\",\"#71b396\",\"#f62296\",\"#43a796\",\"#33d096\",\"#91a196\",\"#a4d696\",\"#638496\",\"#d02596\",\"#dc2d96\",\"#c68c96\",\"#baa896\",\"#4a8396\",\"#d19d96\",\"#844b96\",\"#e2b896\",\"#e76a96\",\"#e5d496\",\"#b0b096\",\"#cece96\",\"#3c5f96\",\"#55d096\",\"#c11f96\",\"#bdc596\",\"#e59996\",\"#75e596\",\"#847b96\",\"#f13196\",\"#4f6996\",\"#b54e96\",\"#5d9296\",\"#8fdb96\",\"#847196\",\"#916596\",\"#bd2e96\",\"#7da796\",\"#88c696\",\"#3a7b96\",\"#88d196\",\"#acc996\",\"#4ce496\",\"#bf4696\",\"#3ec896\",\"#f49d96\",\"#949896\",\"#699296\",\"#9fce96\",\"#6a4d96\",\"#c43896\",\"#a65296\",\"#e25096\",\"#635796\",\"#acc996\",\"#446496\",\"#c55996\",\"#986696\",\"#b22496\",\"#332d96\",\"#423096\",\"#a36b96\",\"#a1cb96\",\"#a38e96\",\"#e06896\",\"#d82b96\",\"#822b96\",\"#5fb696\",\"#442c96\",\"#834796\",\"#cea996\",\"#c46b96\",\"#ab5996\",\"#384a96\",\"#ed8896\",\"#9f6896\",\"#a56496\",\"#b86996\",\"#e32d96\",\"#746d96\",\"#422596\",\"#71bd96\",\"#9e8296\",\"#4b7d96\",\"#e13396\",\"#f19296\",\"#b35e96\",\"#4b3996\",\"#e84296\",\"#905096\",\"#e0b696\",\"#de8796\",\"#362a96\",\"#ad9996\",\"#71d496\",\"#9c4a96\",\"#b36796\",\"#9d9196\",\"#c7de96\",\"#8b8296\",\"#48d496\",\"#a23a96\",\"#bb7c96\",\"#f97996\",\"#d82c96\",\"#d25b96\",\"#7ba596\",\"#984b96\",\"#344f96\",\"#8d7696\",\"#55e396\",\"#434e96\",\"#923f96\",\"#5a7e96\",\"#d52b96\",\"#d58296\",\"#ab7696\",\"#d8ad96\",\"#76e596\",\"#afde96\",\"#b68196\",\"#697a96\",\"#d53696\",\"#b48196\",\"#68dc96\",\"#c8d896\",\"#5d7896\",\"#3d2496\",\"#728796\",\"#62b196\",\"#b3a196\",\"#8d6896\",\"#4fe196\",\"#3b7596\",\"#46c396\",\"#973796\",\"#bfc396\",\"#822596\",\"#b06e96\",\"#393796\",\"#726596\",\"#e25196\",\"#4a7496\",\"#54c996\",\"#58d296\",\"#873596\",\"#d33296\",\"#ae7b96\",\"#cb3c96\",\"#8d9296\",\"#3f4296\",\"#b2a496\",\"#3c2096\",\"#5f5996\",\"#c64096\",\"#89dd96\",\"#4ebc96\",\"#f17d96\",\"#f5e296\",\"#502696\",\"#713b96\",\"#db9796\",\"#86d696\",\"#b39c96\",\"#3d8696\",\"#448a96\",\"#d35c96\",\"#bda996\",\"#e88a96\",\"#424496\",\"#a5d696\",\"#64c796\",\"#7ed096\",\"#464396\",\"#c02b96\",\"#cc8196\",\"#cb2596\",\"#32aa96\",\"#698c96\",\"#a06c96\",\"#e87096\",\"#f16b96\",\"#51cb96\",\"#3ea796\",\"#e8b796\",\"#67a796\",\"#6e6196\",\"#8c9696\",\"#652f96\",\"#43dc96\",\"#b4c296\",\"#eed196\",\"#603396\",\"#532b96\",\"#9e4096\",\"#469d96\",\"#a8d096\",\"#cb3296\",\"#c33596\",\"#b1d096\",\"#9b4c96\",\"#6f8d96\",\"#577896\",\"#523f96\",\"#538096\",\"#6b9496\",\"#d55c96\",\"#496f96\",\"#5a2296\",\"#4d2396\",\"#964b96\",\"#f2de96\",\"#84d496\",\"#7e5896\",\"#837f96\",\"#6f6d96\",\"#dcba96\",\"#bde096\",\"#724596\",\"#e94a96\",\"#c32e96\",\"#67d096\",\"#b96c96\",\"#ac8996\",\"#ef2296\",\"#d6bc96\",\"#88d996\",\"#f8aa96\",\"#b1e396\",\"#938796\",\"#a33896\",\"#6d9796\",\"#b9dd96\",\"#ebbf96\",\"#639596\",\"#809b96\",\"#701f96\",\"#665f96\",\"#f77596\",\"#a48696\",\"#7d7496\",\"#a1c196\",\"#e05496\",\"#f4e496\",\"#efaa96\",\"#f76196\",\"#b52296\",\"#c84b96\",\"#6b7c96\",\"#69be96\",\"#86cb96\",\"#716d96\",\"#ec7b96\",\"#885896\",\"#45ca96\",\"#aac096\",\"#c3e496\",\"#a17796\",\"#e5c596\",\"#617396\",\"#425696\",\"#a23396\",\"#853f96\",\"#bc7696\",\"#a8c096\",\"#3da796\",\"#a96596\",\"#382a96\",\"#6fdc96\",\"#5b4896\",\"#69d296\",\"#865196\",\"#d2be96\",\"#c18196\",\"#758b96\",\"#ceba96\",\"#909296\",\"#9b4c96\",\"#6ad796\",\"#f92d96\",\"#c55496\",\"#d5c796\",\"#478b96\",\"#e09696\",\"#b57d96\",\"#df9c96\",\"#ece396\",\"#ed7696\",\"#3f9196\",\"#598996\",\"#aa2f96\",\"#cdcb96\",\"#f04f96\",\"#b2d996\",\"#892796\",\"#c39396\",\"#ca4e96\",\"#42e596\",\"#7aa596\",\"#4b2596\",\"#a0e296\",\"#d7df96\",\"#5fb696\",\"#443c96\",\"#5ae196\",\"#919b96\",\"#f93596\",\"#90bf96\",\"#b37796\",\"#7b4496\",\"#859d96\",\"#b24196\",\"#48e196\",\"#7b1e96\",\"#cc2696\",\"#6e4996\",\"#d3ca96\",\"#3ee296\",\"#53bb96\",\"#f13596\",\"#359596\",\"#bf9296\",\"#c24b96\",\"#9e7896\",\"#9b6f96\",\"#968596\",\"#42d296\",\"#dca696\",\"#567996\",\"#d86d96\",\"#7f1e96\",\"#ac2396\",\"#f7bc96\",\"#329b96\",\"#9e6396\",\"#a3d196\",\"#824196\",\"#796e96\",\"#563896\",\"#db9296\",\"#699296\",\"#9c4f96\",\"#322e96\",\"#a9bf96\",\"#c2de96\",\"#b4b596\",\"#604096\",\"#8b4296\",\"#337196\",\"#57bb96\",\"#a7b696\",\"#9c9596\",\"#f2c796\",\"#f84896\",\"#5b5f96\",\"#efc696\",\"#646796\",\"#602e96\",\"#3c5d96\",\"#c3b996\",\"#df3896\",\"#37b796\",\"#cf6e96\",\"#c55596\",\"#e75196\",\"#c02c96\",\"#5ebd96\",\"#9c5a96\",\"#838b96\",\"#f49296\",\"#813196\",\"#dc6996\",\"#f8ac96\",\"#6d3296\",\"#c3b796\",\"#797896\",\"#949996\",\"#de7396\",\"#372196\",\"#74c496\",\"#d34396\",\"#f76096\",\"#772296\",\"#567f96\",\"#6e9196\",\"#f2b996\",\"#b53a96\",\"#6c4996\",\"#c2bb96\",\"#b58e96\",\"#7cc096\",\"#c8b596\",\"#387d96\",\"#f7b396\",\"#8f7396\",\"#e92f96\",\"#e3c796\",\"#ca9c96\",\"#da1f96\",\"#e0a196\",\"#f05896\",\"#f05996\",\"#a1e396\",\"#82b296\",\"#f66896\",\"#885196\",\"#f4ae96\",\"#c7b896\",\"#da5596\",\"#f23b96\",\"#62c796\",\"#b1a696\",\"#4ec296\",\"#bda996\",\"#ba3696\",\"#974796\",\"#72a496\",\"#677e96\",\"#ec7596\",\"#52bd96\",\"#37d396\",\"#98cd96\",\"#a7b596\",\"#d72b96\",\"#5ab296\",\"#695696\",\"#5b9296\",\"#705996\",\"#5a8196\",\"#70da96\",\"#f8bf96\",\"#5ec396\",\"#821f96\",\"#b3a196\",\"#ab3496\",\"#b9c296\",\"#523c96\",\"#d5b196\",\"#ee9a96\",\"#662a96\",\"#e98396\",\"#bc5796\",\"#d15e96\",\"#848b96\",\"#ef9a96\",\"#f7ca96\",\"#dbbd96\",\"#96c296\",\"#3f6d96\",\"#3dd396\",\"#accc96\",\"#5f5596\",\"#8b7c96\",\"#5c7996\",\"#be4596\",\"#e56796\",\"#3bd296\",\"#a2ae96\",\"#7d7296\",\"#392796\",\"#6e5e96\",\"#f1c596\",\"#a07196\",\"#882496\",\"#7f8b96\",\"#6cb596\",\"#3d6196\",\"#f03c96\",\"#831f96\",\"#a7ce96\",\"#ecbd96\",\"#577896\",\"#e74796\",\"#442b96\",\"#cd9a96\",\"#8bc296\",\"#d4d096\",\"#d9a896\",\"#c8a096\",\"#92c596\",\"#c29496\",\"#f77396\",\"#82d996\",\"#65bf96\",\"#b24196\",\"#628696\",\"#d32c96\",\"#5bd996\",\"#657696\",\"#4cab96\",\"#a93f96\",\"#f92096\",\"#f65a96\",\"#549d96\",\"#b85796\",\"#866b96\",\"#776396\",\"#a42b96\",\"#d4e496\",\"#f8d196\",\"#c93996\",\"#c95996\",\"#eb1f96\",\"#be8b96\",\"#722b96\",\"#8dd796\",\"#e02d96\",\"#ea8796\",\"#427a96\",\"#ac3296\",\"#8b7796\",\"#eee296\",\"#9e3696\",\"#579496\",\"#903d96\",\"#ac2796\",\"#e56996\",\"#a68e96\",\"#482d96\",\"#425b96\",\"#4c3d96\",\"#9a3096\",\"#e3ba96\",\"#7fe096\",\"#cf6c96\",\"#7cd496\",\"#ca3896\",\"#97a696\",\"#e32196\",\"#d6c196\",\"#9b9996\",\"#62b896\",\"#457096\",\"#f6ac96\",\"#cfdd96\",\"#9dbc96\",\"#589a96\",\"#98ab96\",\"#392796\",\"#9e7e96\",\"#d8c696\",\"#a9a696\",\"#4c8396\",\"#742296\",\"#e21e96\",\"#6a6296\",\"#35c196\",\"#b53696\",\"#467b96\",\"#802496\",\"#65c396\",\"#494496\",\"#949296\",\"#aa4696\",\"#81d796\",\"#a44496\",\"#329596\",\"#35da96\",\"#aacc96\",\"#89d796\",\"#a8a096\",\"#a77196\",\"#854c96\",\"#924c96\",\"#48a496\",\"#bc6296\",\"#9f7e96\",\"#503f96\",\"#aaa196\",\"#a1d796\",\"#f34096\",\"#98e596\",\"#337496\",\"#3c7396\",\"#74a596\",\"#cc6496\",\"#ac8196\",\"#4b5396\",\"#b06796\",\"#f69c96\",\"#9baf96\",\"#363496\",\"#562c96\",\"#b2d996\",\"#eab196\",\"#c5cd96\",\"#9a7696\",\"#e37096\",\"#e18a96\",\"#70df96\",\"#c4ad96\",\"#d54d96\",\"#814196\",\"#878196\",\"#5bb596\",\"#972496\",\"#c23896\",\"#b09a96\",\"#3d5196\",\"#3c9996\",\"#4dc996\",\"#6a6096\",\"#f63c96\",\"#85d396\",\"#ca3296\",\"#91d196\",\"#cb8696\",\"#4e4596\",\"#a99f96\",\"#b8a396\",\"#e6c596\",\"#c14496\",\"#425d96\",\"#e32a96\",\"#427196\",\"#7b8296\",\"#3a6a96\",\"#a46596\",\"#699696\",\"#a7c396\",\"#548a96\",\"#59e596\",\"#38b296\",\"#333596\",\"#9a6d96\",\"#4c9a96\",\"#79c196\",\"#982396\",\"#b2b996\",\"#4d4e96\",\"#897d96\",\"#e34096\",\"#e7b496\",\"#364a96\",\"#43dd96\",\"#927e96\",\"#6e7996\",\"#b0c596\",\"#99c396\",\"#ca8d96\",\"#ef4a96\",\"#8a6696\",\"#92ba96\",\"#c58096\",\"#e96896\",\"#81da96\",\"#f97f96\",\"#6acb96\",\"#e46d96\",\"#55ca96\",\"#adad96\",\"#3c2796\",\"#9bc496\",\"#6a7496\",\"#7d4896\",\"#b92296\",\"#586496\",\"#f5b696\",\"#54d096\",\"#3adf96\",\"#c37896\",\"#a92f96\",\"#4dce96\",\"#58a496\",\"#a5a196\",\"#e0c296\",\"#758f96\",\"#92e396\",\"#c9b296\",\"#c1d896\",\"#b96896\",\"#98bd96\",\"#87d096\",\"#627996\",\"#b3cd96\",\"#ebb996\",\"#bd9796\",\"#5f6f96\",\"#896196\",\"#394f96\",\"#4b7c96\",\"#d02c96\",\"#85e096\",\"#475396\",\"#35be96\",\"#614996\",\"#33e096\",\"#a86d96\",\"#d24d96\",\"#a77e96\",\"#6ddb96\",\"#369396\",\"#842a96\",\"#83d996\",\"#977596\",\"#d73296\",\"#367f96\",\"#f0c696\",\"#f27e96\",\"#53a096\",\"#952e96\",\"#b0ab96\",\"#974296\",\"#c88a96\",\"#833096\",\"#8aad96\",\"#929496\",\"#35df96\",\"#f53a96\",\"#999b96\",\"#a82d96\",\"#f55496\",\"#5db896\",\"#868f96\",\"#c14d96\",\"#78af96\",\"#925d96\",\"#c29d96\",\"#e54596\",\"#afd696\",\"#f6be96\",\"#852c96\",\"#d7b996\",\"#544a96\",\"#c69796\",\"#82d796\",\"#4ae196\",\"#8ce496\",\"#8baf96\",\"#69c896\",\"#ab4996\",\"#cdd396\",\"#5e8b96\",\"#f2a496\",\"#c46f96\",\"#df4a96\",\"#364396\",\"#81a296\",\"#c34996\",\"#bc9c96\",\"#ae9f96\",\"#43d096\",\"#4c9396\",\"#989696\",\"#456296\",\"#9dc996\",\"#768a96\",\"#bc1e96\",\"#573396\",\"#639096\",\"#f41e96\",\"#c77e96\",\"#59c696\",\"#727996\",\"#97b796\",\"#a86e96\",\"#909896\",\"#cf8496\",\"#d5cb96\",\"#b64896\",\"#56e396\",\"#638e96\",\"#98cc96\",\"#94d096\",\"#cbe396\",\"#55ae96\",\"#785e96\",\"#656296\",\"#bf6896\",\"#be6b96\",\"#b2c396\",\"#ac5196\",\"#839b96\",\"#f43d96\",\"#602296\",\"#b2a096\",\"#4d6196\",\"#a5ad96\",\"#3d6b96\",\"#7a5296\",\"#b37396\",\"#d34796\",\"#866b96\",\"#588596\",\"#3aa896\",\"#9d3f96\",\"#de5096\",\"#84a196\",\"#d13996\",\"#35c896\",\"#edd896\",\"#721e96\",\"#ea2096\",\"#467d96\",\"#d4b796\",\"#ec9396\",\"#355d96\",\"#51da96\",\"#825c96\",\"#8f5a96\",\"#8ad496\",\"#d74496\",\"#b16696\",\"#441f96\",\"#3ac896\",\"#698496\",\"#c5b996\",\"#ba4296\",\"#e3c496\",\"#bce096\",\"#c59196\",\"#a52296\",\"#c5b496\",\"#d13796\",\"#e12c96\",\"#582f96\",\"#c4c996\",\"#c71e96\",\"#9c5696\",\"#705396\",\"#a2a096\",\"#e4be96\",\"#b79096\",\"#453d96\",\"#413196\",\"#8bdc96\",\"#65c796\",\"#365f96\",\"#4cd596\",\"#c52596\",\"#6dbc96\",\"#42be96\",\"#73d596\",\"#749596\",\"#93ba96\",\"#8fd396\",\"#432e96\",\"#3b7196\",\"#3dd396\",\"#ca8d96\",\"#37ce96\",\"#c1a296\",\"#d95496\",\"#972896\",\"#57b896\",\"#37df96\",\"#a7c996\",\"#60aa96\",\"#945d96\",\"#5b2196\",\"#98e096\",\"#c01e96\",\"#685496\",\"#45cb96\",\"#d74496\",\"#3fb296\",\"#8bcf96\",\"#6b1e96\",\"#81b596\",\"#a6ad96\",\"#711f96\",\"#468396\",\"#bdd796\",\"#477696\",\"#a52e96\",\"#6ec496\",\"#b7ab96\",\"#977796\",\"#652796\",\"#3c3a96\",\"#52a196\",\"#b1e596\",\"#7a3f96\",\"#4c3c96\",\"#524a96\",\"#f8a396\",\"#e08996\",\"#5a7396\",\"#bf8496\",\"#496796\",\"#f67396\",\"#4ec896\",\"#8fbb96\",\"#773f96\",\"#5c7a96\",\"#84d296\",\"#de6e96\",\"#8dc996\",\"#86d596\",\"#d14696\",\"#f06e96\",\"#ce4496\",\"#538896\",\"#f06d96\",\"#819e96\",\"#b5cd96\",\"#33df96\",\"#623196\",\"#d39c96\",\"#60bf96\",\"#91ac96\",\"#3f1e96\",\"#bfd596\",\"#a3b796\",\"#c09c96\",\"#421e96\",\"#dcb796\",\"#866296\",\"#92a796\",\"#546d96\",\"#e68396\",\"#7f8796\",\"#9ab696\",\"#4aa196\",\"#f71f96\",\"#a09796\",\"#f39196\",\"#c66096\",\"#399496\",\"#4b3a96\",\"#f0d896\",\"#b6d296\",\"#bcd896\",\"#f5b596\",\"#f6cf96\",\"#ebad96\",\"#5fd696\",\"#595696\",\"#b89f96\",\"#b2ae96\",\"#748d96\",\"#73a696\",\"#d7ba96\",\"#701e96\",\"#556796\",\"#92c696\",\"#7c4296\",\"#375b96\",\"#c79696\",\"#dcb296\",\"#6ed896\",\"#327396\",\"#60d996\",\"#9e5e96\",\"#f9bb96\",\"#929296\",\"#c77d96\",\"#473c96\",\"#d55d96\",\"#acd096\",\"#40b796\",\"#f56b96\",\"#9f3396\",\"#454c96\",\"#4d6a96\",\"#9f4e96\",\"#a35596\",\"#efd696\",\"#8e4496\",\"#e89296\",\"#c79f96\",\"#a2e296\",\"#e89096\",\"#359b96\",\"#442196\",\"#5b3596\",\"#85c196\",\"#47b696\",\"#5fbd96\",\"#f2d096\",\"#ab6496\",\"#f95996\",\"#b77996\",\"#f36296\",\"#a74396\",\"#9a5596\",\"#dd8b96\",\"#f72296\",\"#a82b96\",\"#ac3b96\",\"#706e96\",\"#928596\",\"#9d2296\",\"#bd8e96\",\"#9ca496\",\"#975e96\",\"#d02696\",\"#d42a96\",\"#e2d996\",\"#dfd896\",\"#3f6b96\",\"#cd8e96\",\"#f2bc96\",\"#3fb996\",\"#f83496\",\"#8d4696\",\"#80e396\",\"#70a496\",\"#594696\",\"#59a196\",\"#babb96\",\"#9cc796\",\"#7dad96\",\"#7b4496\",\"#d43296\",\"#574696\",\"#825e96\",\"#c33d96\",\"#8ea996\",\"#e0e296\",\"#9a3796\",\"#74b696\",\"#d54196\",\"#b95696\",\"#ced896\",\"#973396\",\"#eac996\",\"#d28496\",\"#69aa96\",\"#466196\",\"#6c6396\",\"#bd8b96\",\"#dd5896\",\"#888f96\",\"#b1c196\",\"#9f6b96\",\"#9cba96\",\"#c04396\",\"#e25e96\",\"#6e3a96\",\"#58cd96\",\"#478c96\",\"#f49396\",\"#56e296\",\"#40e396\",\"#c48996\",\"#a88696\",\"#f3c896\",\"#8d7996\"],\"radius\":{\"__ndarray__\":\"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\",\"dtype\":\"float64\",\"order\":\"little\",\"shape\":[4000]},\"x\":{\"__ndarray__\":\"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\",\"dtype\":\"float64\",\"order\":\"little\",\"shape\":[4000]},\"y\":{\"__ndarray__\":\"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\",\"dtype\":\"float64\",\"order\":\"little\",\"shape\":[4000]}},\"selected\":{\"id\":\"1233\"},\"selection_policy\":{\"id\":\"1232\"}},\"id\":\"1216\",\"type\":\"ColumnDataSource\"},{\"attributes\":{},\"id\":\"1228\",\"type\":\"AllLabels\"},{\"attributes\":{},\"id\":\"1190\",\"type\":\"LinearScale\"},{\"attributes\":{},\"id\":\"1207\",\"type\":\"HelpTool\"},{\"attributes\":{\"fill_alpha\":{\"value\":0.2},\"fill_color\":{\"field\":\"fill_color\"},\"hatch_alpha\":{\"value\":0.2},\"line_alpha\":{\"value\":0.2},\"line_color\":{\"value\":null},\"radius\":{\"field\":\"radius\"},\"x\":{\"field\":\"x\"},\"y\":{\"field\":\"y\"}},\"id\":\"1219\",\"type\":\"Circle\"},{\"attributes\":{\"bottom_units\":\"screen\",\"coordinates\":null,\"fill_alpha\":0.5,\"fill_color\":\"lightgrey\",\"group\":null,\"left_units\":\"screen\",\"level\":\"overlay\",\"line_alpha\":1.0,\"line_color\":\"black\",\"line_dash\":[4,4],\"line_width\":2,\"right_units\":\"screen\",\"syncable\":false,\"top_units\":\"screen\"},\"id\":\"1208\",\"type\":\"BoxAnnotation\"},{\"attributes\":{},\"id\":\"1233\",\"type\":\"Selection\"},{\"attributes\":{\"fill_alpha\":{\"value\":0.6},\"fill_color\":{\"field\":\"fill_color\"},\"line_color\":{\"value\":null},\"radius\":{\"field\":\"radius\"},\"x\":{\"field\":\"x\"},\"y\":{\"field\":\"y\"}},\"id\":\"1217\",\"type\":\"Circle\"},{\"attributes\":{\"fill_alpha\":{\"value\":0.1},\"fill_color\":{\"field\":\"fill_color\"},\"hatch_alpha\":{\"value\":0.1},\"line_alpha\":{\"value\":0.1},\"line_color\":{\"value\":null},\"radius\":{\"field\":\"radius\"},\"x\":{\"field\":\"x\"},\"y\":{\"field\":\"y\"}},\"id\":\"1218\",\"type\":\"Circle\"},{\"attributes\":{\"axis\":{\"id\":\"1198\"},\"coordinates\":null,\"dimension\":1,\"group\":null,\"ticker\":null},\"id\":\"1201\",\"type\":\"Grid\"},{\"attributes\":{},\"id\":\"1192\",\"type\":\"LinearScale\"},{\"attributes\":{\"source\":{\"id\":\"1216\"}},\"id\":\"1221\",\"type\":\"CDSView\"},{\"attributes\":{\"tools\":[{\"id\":\"1202\"},{\"id\":\"1203\"},{\"id\":\"1204\"},{\"id\":\"1205\"},{\"id\":\"1206\"},{\"id\":\"1207\"}]},\"id\":\"1209\",\"type\":\"Toolbar\"},{\"attributes\":{\"axis\":{\"id\":\"1194\"},\"coordinates\":null,\"group\":null,\"ticker\":null},\"id\":\"1197\",\"type\":\"Grid\"},{\"attributes\":{\"coordinates\":null,\"formatter\":{\"id\":\"1227\"},\"group\":null,\"major_label_policy\":{\"id\":\"1228\"},\"ticker\":{\"id\":\"1199\"}},\"id\":\"1198\",\"type\":\"LinearAxis\"},{\"attributes\":{\"coordinates\":null,\"formatter\":{\"id\":\"1230\"},\"group\":null,\"major_label_policy\":{\"id\":\"1231\"},\"ticker\":{\"id\":\"1195\"}},\"id\":\"1194\",\"type\":\"LinearAxis\"},{\"attributes\":{},\"id\":\"1195\",\"type\":\"BasicTicker\"},{\"attributes\":{\"coordinates\":null,\"data_source\":{\"id\":\"1216\"},\"glyph\":{\"id\":\"1217\"},\"group\":null,\"hover_glyph\":null,\"muted_glyph\":{\"id\":\"1219\"},\"nonselection_glyph\":{\"id\":\"1218\"},\"view\":{\"id\":\"1221\"}},\"id\":\"1220\",\"type\":\"GlyphRenderer\"},{\"attributes\":{},\"id\":\"1202\",\"type\":\"PanTool\"},{\"attributes\":{},\"id\":\"1203\",\"type\":\"WheelZoomTool\"},{\"attributes\":{},\"id\":\"1231\",\"type\":\"AllLabels\"},{\"attributes\":{\"overlay\":{\"id\":\"1208\"}},\"id\":\"1204\",\"type\":\"BoxZoomTool\"},{\"attributes\":{},\"id\":\"1232\",\"type\":\"UnionRenderers\"},{\"attributes\":{},\"id\":\"1206\",\"type\":\"ResetTool\"},{\"attributes\":{},\"id\":\"1227\",\"type\":\"BasicTickFormatter\"},{\"attributes\":{},\"id\":\"1199\",\"type\":\"BasicTicker\"},{\"attributes\":{\"coordinates\":null,\"group\":null},\"id\":\"1224\",\"type\":\"Title\"},{\"attributes\":{},\"id\":\"1205\",\"type\":\"SaveTool\"},{\"attributes\":{},\"id\":\"1186\",\"type\":\"DataRange1d\"}],\"root_ids\":[\"1185\"]},\"title\":\"Bokeh Application\",\"version\":\"2.4.3\"}};\n",
       "  const render_items = [{\"docid\":\"e9d77346-13d1-420e-81b6-ebfdd32b5849\",\"root_ids\":[\"1185\"],\"roots\":{\"1185\":\"a8e6ff1a-05b7-4df8-baa3-c8921b1be1a1\"}}];\n",
       "  root.Bokeh.embed.embed_items_notebook(docs_json, render_items);\n",
       "  }\n",
       "  if (root.Bokeh !== undefined) {\n",
       "    embed_document(root);\n",
       "  } else {\n",
       "    let attempts = 0;\n",
       "    const timer = setInterval(function(root) {\n",
       "      if (root.Bokeh !== undefined) {\n",
       "        clearInterval(timer);\n",
       "        embed_document(root);\n",
       "      } else {\n",
       "        attempts++;\n",
       "        if (attempts > 100) {\n",
       "          clearInterval(timer);\n",
       "          console.log(\"Bokeh: ERROR: Unable to run BokehJS code because BokehJS library is missing\");\n",
       "        }\n",
       "      }\n",
       "    }, 10, root)\n",
       "  }\n",
       "})(window);"
      ],
      "application/vnd.bokehjs_exec.v0+json": ""
     },
     "metadata": {
      "application/vnd.bokehjs_exec.v0+json": {
       "id": "1185"
      }
     },
     "output_type": "display_data"
    }
   ],
   "source": [
    "show(p)"
   ]
  },
  {
   "cell_type": "code",
   "execution_count": 53,
   "id": "3204bd27",
   "metadata": {},
   "outputs": [
    {
     "data": {
      "text/plain": [
       "'C:\\\\Users\\\\ITProdigies\\\\Documents\\\\plot.png'"
      ]
     },
     "execution_count": 53,
     "metadata": {},
     "output_type": "execute_result"
    }
   ],
   "source": [
    "x = [1, 2, 3, 4, 5]\n",
    "y = [4, 5, 5, 7, 2]\n",
    "\n",
    "# create a new plot with fixed dimensions\n",
    "p = figure(width=350, height=250)\n",
    "\n",
    "# add a circle renderer\n",
    "circle = p.circle(x, y, fill_color=\"red\", size=15)\n",
    "\n",
    "# save the results to a file\n",
    "export_png(p, filename=\"plot.png\")"
   ]
  },
  {
   "cell_type": "markdown",
   "id": "44655061",
   "metadata": {},
   "source": [
    "# Column data source"
   ]
  },
  {
   "cell_type": "code",
   "execution_count": 54,
   "id": "d15e6679",
   "metadata": {},
   "outputs": [
    {
     "data": {
      "text/html": [
       "\n",
       "  <div class=\"bk-root\" id=\"32115069-22ba-4c8d-8f0d-0d920cc30cf0\" data-root-id=\"11528\"></div>\n"
      ]
     },
     "metadata": {},
     "output_type": "display_data"
    },
    {
     "data": {
      "application/javascript": [
       "(function(root) {\n",
       "  function embed_document(root) {\n",
       "  const docs_json = {\"e5a9ec7b-eae7-425f-b65d-29c7d93f562e\":{\"defs\":[],\"roots\":{\"references\":[{\"attributes\":{\"background_fill_color\":\"#20262B\",\"below\":[{\"id\":\"11537\"}],\"border_fill_color\":\"#15191C\",\"center\":[{\"id\":\"11540\"},{\"id\":\"11544\"}],\"height\":250,\"left\":[{\"id\":\"11541\"}],\"outline_line_alpha\":0.25,\"outline_line_color\":\"#E0E0E0\",\"renderers\":[{\"id\":\"11563\"}],\"title\":{\"id\":\"12010\"},\"toolbar\":{\"id\":\"11552\"},\"x_range\":{\"id\":\"11529\"},\"x_scale\":{\"id\":\"11533\"},\"y_range\":{\"id\":\"11531\"},\"y_scale\":{\"id\":\"11535\"}},\"id\":\"11528\",\"subtype\":\"Figure\",\"type\":\"Plot\"},{\"attributes\":{\"fill_color\":{\"value\":\"#1f77b4\"},\"line_color\":{\"value\":\"#1f77b4\"},\"size\":{\"value\":20},\"x\":{\"field\":\"x_values\"},\"y\":{\"field\":\"y_values\"}},\"id\":\"11560\",\"type\":\"Circle\"},{\"attributes\":{},\"id\":\"12013\",\"type\":\"BasicTickFormatter\"},{\"attributes\":{\"axis\":{\"id\":\"11537\"},\"coordinates\":null,\"grid_line_alpha\":0.25,\"grid_line_color\":\"#E0E0E0\",\"group\":null,\"ticker\":null},\"id\":\"11540\",\"type\":\"Grid\"},{\"attributes\":{},\"id\":\"12018\",\"type\":\"UnionRenderers\"},{\"attributes\":{},\"id\":\"12017\",\"type\":\"AllLabels\"},{\"attributes\":{},\"id\":\"11538\",\"type\":\"BasicTicker\"},{\"attributes\":{},\"id\":\"11550\",\"type\":\"HelpTool\"},{\"attributes\":{},\"id\":\"11533\",\"type\":\"LinearScale\"},{\"attributes\":{\"fill_alpha\":{\"value\":0.1},\"fill_color\":{\"value\":\"#1f77b4\"},\"hatch_alpha\":{\"value\":0.1},\"line_alpha\":{\"value\":0.1},\"line_color\":{\"value\":\"#1f77b4\"},\"size\":{\"value\":20},\"x\":{\"field\":\"x_values\"},\"y\":{\"field\":\"y_values\"}},\"id\":\"11561\",\"type\":\"Circle\"},{\"attributes\":{},\"id\":\"12016\",\"type\":\"BasicTickFormatter\"},{\"attributes\":{},\"id\":\"12019\",\"type\":\"Selection\"},{\"attributes\":{\"axis_label_standoff\":10,\"axis_label_text_color\":\"#E0E0E0\",\"axis_label_text_font\":\"Helvetica\",\"axis_label_text_font_size\":\"1.25em\",\"axis_label_text_font_style\":\"normal\",\"axis_line_alpha\":0,\"axis_line_color\":\"#E0E0E0\",\"coordinates\":null,\"formatter\":{\"id\":\"12016\"},\"group\":null,\"major_label_policy\":{\"id\":\"12017\"},\"major_label_text_color\":\"#E0E0E0\",\"major_label_text_font\":\"Helvetica\",\"major_label_text_font_size\":\"1.025em\",\"major_tick_line_alpha\":0,\"major_tick_line_color\":\"#E0E0E0\",\"minor_tick_line_alpha\":0,\"minor_tick_line_color\":\"#E0E0E0\",\"ticker\":{\"id\":\"11538\"}},\"id\":\"11537\",\"type\":\"LinearAxis\"},{\"attributes\":{},\"id\":\"12014\",\"type\":\"AllLabels\"},{\"attributes\":{\"coordinates\":null,\"data_source\":{\"id\":\"11527\"},\"glyph\":{\"id\":\"11560\"},\"group\":null,\"hover_glyph\":null,\"muted_glyph\":{\"id\":\"11562\"},\"nonselection_glyph\":{\"id\":\"11561\"},\"view\":{\"id\":\"11564\"}},\"id\":\"11563\",\"type\":\"GlyphRenderer\"},{\"attributes\":{\"coordinates\":null,\"group\":null,\"text_color\":\"#E0E0E0\",\"text_font\":\"Helvetica\",\"text_font_size\":\"1.15em\"},\"id\":\"12010\",\"type\":\"Title\"},{\"attributes\":{},\"id\":\"11531\",\"type\":\"DataRange1d\"},{\"attributes\":{\"bottom_units\":\"screen\",\"coordinates\":null,\"fill_alpha\":0.5,\"fill_color\":\"lightgrey\",\"group\":null,\"left_units\":\"screen\",\"level\":\"overlay\",\"line_alpha\":1.0,\"line_color\":\"black\",\"line_dash\":[4,4],\"line_width\":2,\"right_units\":\"screen\",\"syncable\":false,\"top_units\":\"screen\"},\"id\":\"11551\",\"type\":\"BoxAnnotation\"},{\"attributes\":{\"fill_alpha\":{\"value\":0.2},\"fill_color\":{\"value\":\"#1f77b4\"},\"hatch_alpha\":{\"value\":0.2},\"line_alpha\":{\"value\":0.2},\"line_color\":{\"value\":\"#1f77b4\"},\"size\":{\"value\":20},\"x\":{\"field\":\"x_values\"},\"y\":{\"field\":\"y_values\"}},\"id\":\"11562\",\"type\":\"Circle\"},{\"attributes\":{},\"id\":\"11535\",\"type\":\"LinearScale\"},{\"attributes\":{\"tools\":[{\"id\":\"11545\"},{\"id\":\"11546\"},{\"id\":\"11547\"},{\"id\":\"11548\"},{\"id\":\"11549\"},{\"id\":\"11550\"}]},\"id\":\"11552\",\"type\":\"Toolbar\"},{\"attributes\":{},\"id\":\"11549\",\"type\":\"ResetTool\"},{\"attributes\":{\"data\":{\"x_values\":[1,2,3,4,5],\"y_values\":[6,7,2,3,6]},\"selected\":{\"id\":\"12019\"},\"selection_policy\":{\"id\":\"12018\"}},\"id\":\"11527\",\"type\":\"ColumnDataSource\"},{\"attributes\":{},\"id\":\"11548\",\"type\":\"SaveTool\"},{\"attributes\":{\"source\":{\"id\":\"11527\"}},\"id\":\"11564\",\"type\":\"CDSView\"},{\"attributes\":{\"overlay\":{\"id\":\"11551\"}},\"id\":\"11547\",\"type\":\"BoxZoomTool\"},{\"attributes\":{},\"id\":\"11545\",\"type\":\"PanTool\"},{\"attributes\":{\"axis_label_standoff\":10,\"axis_label_text_color\":\"#E0E0E0\",\"axis_label_text_font\":\"Helvetica\",\"axis_label_text_font_size\":\"1.25em\",\"axis_label_text_font_style\":\"normal\",\"axis_line_alpha\":0,\"axis_line_color\":\"#E0E0E0\",\"coordinates\":null,\"formatter\":{\"id\":\"12013\"},\"group\":null,\"major_label_policy\":{\"id\":\"12014\"},\"major_label_text_color\":\"#E0E0E0\",\"major_label_text_font\":\"Helvetica\",\"major_label_text_font_size\":\"1.025em\",\"major_tick_line_alpha\":0,\"major_tick_line_color\":\"#E0E0E0\",\"minor_tick_line_alpha\":0,\"minor_tick_line_color\":\"#E0E0E0\",\"ticker\":{\"id\":\"11542\"}},\"id\":\"11541\",\"type\":\"LinearAxis\"},{\"attributes\":{},\"id\":\"11546\",\"type\":\"WheelZoomTool\"},{\"attributes\":{},\"id\":\"11542\",\"type\":\"BasicTicker\"},{\"attributes\":{},\"id\":\"11529\",\"type\":\"DataRange1d\"},{\"attributes\":{\"axis\":{\"id\":\"11541\"},\"coordinates\":null,\"dimension\":1,\"grid_line_alpha\":0.25,\"grid_line_color\":\"#E0E0E0\",\"group\":null,\"ticker\":null},\"id\":\"11544\",\"type\":\"Grid\"}],\"root_ids\":[\"11528\"]},\"title\":\"Bokeh Application\",\"version\":\"2.4.3\"}};\n",
       "  const render_items = [{\"docid\":\"e5a9ec7b-eae7-425f-b65d-29c7d93f562e\",\"root_ids\":[\"11528\"],\"roots\":{\"11528\":\"32115069-22ba-4c8d-8f0d-0d920cc30cf0\"}}];\n",
       "  root.Bokeh.embed.embed_items_notebook(docs_json, render_items);\n",
       "  }\n",
       "  if (root.Bokeh !== undefined) {\n",
       "    embed_document(root);\n",
       "  } else {\n",
       "    let attempts = 0;\n",
       "    const timer = setInterval(function(root) {\n",
       "      if (root.Bokeh !== undefined) {\n",
       "        clearInterval(timer);\n",
       "        embed_document(root);\n",
       "      } else {\n",
       "        attempts++;\n",
       "        if (attempts > 100) {\n",
       "          clearInterval(timer);\n",
       "          console.log(\"Bokeh: ERROR: Unable to run BokehJS code because BokehJS library is missing\");\n",
       "        }\n",
       "      }\n",
       "    }, 10, root)\n",
       "  }\n",
       "})(window);"
      ],
      "application/vnd.bokehjs_exec.v0+json": ""
     },
     "metadata": {
      "application/vnd.bokehjs_exec.v0+json": {
       "id": "11528"
      }
     },
     "output_type": "display_data"
    }
   ],
   "source": [
    "# create dict as basis for ColumnDataSource\n",
    "data = {'x_values': [1, 2, 3, 4, 5],\n",
    "        'y_values': [6, 7, 2, 3, 6]}\n",
    "\n",
    "# create ColumnDataSource based on dict\n",
    "source = ColumnDataSource(data=data)\n",
    "\n",
    "# create a plot and renderer with ColumnDataSource data\n",
    "p = figure(height=250)\n",
    "p.circle(x='x_values', y='y_values', size=20, source=source)\n",
    "show(p)"
   ]
  },
  {
   "cell_type": "code",
   "execution_count": 55,
   "id": "ff02408d",
   "metadata": {},
   "outputs": [
    {
     "data": {
      "text/html": [
       "\n",
       "  <div class=\"bk-root\" id=\"01aa2303-be4b-42b2-9e07-6753bb1ba9a2\" data-root-id=\"12324\"></div>\n"
      ]
     },
     "metadata": {},
     "output_type": "display_data"
    },
    {
     "data": {
      "application/javascript": [
       "(function(root) {\n",
       "  function embed_document(root) {\n",
       "  const docs_json = {\"83386cfc-702b-4f94-9855-395dd7959265\":{\"defs\":[],\"roots\":{\"references\":[{\"attributes\":{\"children\":[{\"id\":\"12323\"},{\"id\":\"12321\"}]},\"id\":\"12324\",\"type\":\"Column\"},{\"attributes\":{},\"id\":\"12303\",\"type\":\"BasicTickFormatter\"},{\"attributes\":{\"toolbars\":[{\"id\":\"12255\"},{\"id\":\"12287\"}],\"tools\":[{\"id\":\"12251\"},{\"id\":\"12252\"},{\"id\":\"12253\"},{\"id\":\"12283\"},{\"id\":\"12284\"},{\"id\":\"12285\"}]},\"id\":\"12322\",\"type\":\"ProxyToolbar\"},{\"attributes\":{},\"id\":\"12269\",\"type\":\"DataRange1d\"},{\"attributes\":{},\"id\":\"12304\",\"type\":\"AllLabels\"},{\"attributes\":{\"tools\":[{\"id\":\"12251\"},{\"id\":\"12252\"},{\"id\":\"12253\"}]},\"id\":\"12255\",\"type\":\"Toolbar\"},{\"attributes\":{\"fill_alpha\":{\"value\":0.1},\"fill_color\":{\"value\":\"#1f77b4\"},\"hatch_alpha\":{\"value\":0.1},\"line_alpha\":{\"value\":0.1},\"line_color\":{\"value\":\"#1f77b4\"},\"size\":{\"value\":10},\"x\":{\"field\":\"x\"},\"y\":{\"field\":\"y\"}},\"id\":\"12293\",\"type\":\"Circle\"},{\"attributes\":{\"axis_label_standoff\":10,\"axis_label_text_color\":\"#E0E0E0\",\"axis_label_text_font\":\"Helvetica\",\"axis_label_text_font_size\":\"1.25em\",\"axis_label_text_font_style\":\"normal\",\"axis_line_alpha\":0,\"axis_line_color\":\"#E0E0E0\",\"coordinates\":null,\"formatter\":{\"id\":\"12312\"},\"group\":null,\"major_label_policy\":{\"id\":\"12313\"},\"major_label_text_color\":\"#E0E0E0\",\"major_label_text_font\":\"Helvetica\",\"major_label_text_font_size\":\"1.025em\",\"major_tick_line_alpha\":0,\"major_tick_line_color\":\"#E0E0E0\",\"minor_tick_line_alpha\":0,\"minor_tick_line_color\":\"#E0E0E0\",\"ticker\":{\"id\":\"12280\"}},\"id\":\"12279\",\"type\":\"LinearAxis\"},{\"attributes\":{},\"id\":\"12312\",\"type\":\"BasicTickFormatter\"},{\"attributes\":{\"overlay\":{\"id\":\"12286\"}},\"id\":\"12283\",\"type\":\"BoxSelectTool\"},{\"attributes\":{\"callback\":null},\"id\":\"12284\",\"type\":\"HoverTool\"},{\"attributes\":{},\"id\":\"12248\",\"type\":\"BasicTicker\"},{\"attributes\":{\"coordinates\":null,\"group\":null,\"text_color\":\"#E0E0E0\",\"text_font\":\"Helvetica\",\"text_font_size\":\"1.15em\"},\"id\":\"12297\",\"type\":\"Title\"},{\"attributes\":{},\"id\":\"12285\",\"type\":\"ResetTool\"},{\"attributes\":{\"axis\":{\"id\":\"12247\"},\"coordinates\":null,\"dimension\":1,\"grid_line_alpha\":0.25,\"grid_line_color\":\"#E0E0E0\",\"group\":null,\"ticker\":null},\"id\":\"12250\",\"type\":\"Grid\"},{\"attributes\":{},\"id\":\"12313\",\"type\":\"AllLabels\"},{\"attributes\":{\"tools\":[{\"id\":\"12283\"},{\"id\":\"12284\"},{\"id\":\"12285\"}]},\"id\":\"12287\",\"type\":\"Toolbar\"},{\"attributes\":{\"bottom_units\":\"screen\",\"coordinates\":null,\"fill_alpha\":0.5,\"fill_color\":\"lightgrey\",\"group\":null,\"left_units\":\"screen\",\"level\":\"overlay\",\"line_alpha\":1.0,\"line_color\":\"black\",\"line_dash\":[4,4],\"line_width\":2,\"right_units\":\"screen\",\"syncable\":false,\"top_units\":\"screen\"},\"id\":\"12254\",\"type\":\"BoxAnnotation\"},{\"attributes\":{},\"id\":\"12271\",\"type\":\"LinearScale\"},{\"attributes\":{},\"id\":\"12300\",\"type\":\"BasicTickFormatter\"},{\"attributes\":{\"axis_label_standoff\":10,\"axis_label_text_color\":\"#E0E0E0\",\"axis_label_text_font\":\"Helvetica\",\"axis_label_text_font_size\":\"1.25em\",\"axis_label_text_font_style\":\"normal\",\"axis_line_alpha\":0,\"axis_line_color\":\"#E0E0E0\",\"coordinates\":null,\"formatter\":{\"id\":\"12315\"},\"group\":null,\"major_label_policy\":{\"id\":\"12316\"},\"major_label_text_color\":\"#E0E0E0\",\"major_label_text_font\":\"Helvetica\",\"major_label_text_font_size\":\"1.025em\",\"major_tick_line_alpha\":0,\"major_tick_line_color\":\"#E0E0E0\",\"minor_tick_line_alpha\":0,\"minor_tick_line_color\":\"#E0E0E0\",\"ticker\":{\"id\":\"12276\"}},\"id\":\"12275\",\"type\":\"LinearAxis\"},{\"attributes\":{},\"id\":\"12315\",\"type\":\"BasicTickFormatter\"},{\"attributes\":{\"axis\":{\"id\":\"12243\"},\"coordinates\":null,\"grid_line_alpha\":0.25,\"grid_line_color\":\"#E0E0E0\",\"group\":null,\"ticker\":null},\"id\":\"12246\",\"type\":\"Grid\"},{\"attributes\":{\"fill_color\":{\"value\":\"red\"},\"hatch_color\":{\"value\":\"red\"},\"line_color\":{\"value\":\"red\"},\"size\":{\"value\":10},\"x\":{\"field\":\"x\"},\"y\":{\"field\":\"y\"}},\"id\":\"12262\",\"type\":\"Circle\"},{\"attributes\":{\"fill_alpha\":{\"value\":0.2},\"fill_color\":{\"value\":\"#1f77b4\"},\"hatch_alpha\":{\"value\":0.2},\"line_alpha\":{\"value\":0.2},\"line_color\":{\"value\":\"#1f77b4\"},\"size\":{\"value\":10},\"x\":{\"field\":\"x\"},\"y\":{\"field\":\"y\"}},\"id\":\"12295\",\"type\":\"Circle\"},{\"attributes\":{},\"id\":\"12244\",\"type\":\"BasicTicker\"},{\"attributes\":{},\"id\":\"12316\",\"type\":\"AllLabels\"},{\"attributes\":{\"overlay\":{\"id\":\"12254\"}},\"id\":\"12251\",\"type\":\"BoxSelectTool\"},{\"attributes\":{\"coordinates\":null,\"data_source\":{\"id\":\"12231\"},\"glyph\":{\"id\":\"12292\"},\"group\":null,\"hover_glyph\":{\"id\":\"12294\"},\"muted_glyph\":{\"id\":\"12295\"},\"nonselection_glyph\":{\"id\":\"12293\"},\"view\":{\"id\":\"12233\"}},\"id\":\"12296\",\"type\":\"GlyphRenderer\"},{\"attributes\":{},\"id\":\"12241\",\"type\":\"LinearScale\"},{\"attributes\":{},\"id\":\"12237\",\"type\":\"DataRange1d\"},{\"attributes\":{\"fill_alpha\":{\"value\":0.2},\"fill_color\":{\"value\":\"#1f77b4\"},\"hatch_alpha\":{\"value\":0.2},\"line_alpha\":{\"value\":0.2},\"line_color\":{\"value\":\"#1f77b4\"},\"size\":{\"value\":10},\"x\":{\"field\":\"x\"},\"y\":{\"field\":\"y\"}},\"id\":\"12263\",\"type\":\"Circle\"},{\"attributes\":{\"filters\":[{\"id\":\"12232\"}],\"source\":{\"id\":\"12231\"}},\"id\":\"12233\",\"type\":\"CDSView\"},{\"attributes\":{\"axis_label_standoff\":10,\"axis_label_text_color\":\"#E0E0E0\",\"axis_label_text_font\":\"Helvetica\",\"axis_label_text_font_size\":\"1.25em\",\"axis_label_text_font_style\":\"normal\",\"axis_line_alpha\":0,\"axis_line_color\":\"#E0E0E0\",\"coordinates\":null,\"formatter\":{\"id\":\"12303\"},\"group\":null,\"major_label_policy\":{\"id\":\"12304\"},\"major_label_text_color\":\"#E0E0E0\",\"major_label_text_font\":\"Helvetica\",\"major_label_text_font_size\":\"1.025em\",\"major_tick_line_alpha\":0,\"major_tick_line_color\":\"#E0E0E0\",\"minor_tick_line_alpha\":0,\"minor_tick_line_color\":\"#E0E0E0\",\"ticker\":{\"id\":\"12244\"}},\"id\":\"12243\",\"type\":\"LinearAxis\"},{\"attributes\":{\"source\":{\"id\":\"12231\"}},\"id\":\"12265\",\"type\":\"CDSView\"},{\"attributes\":{},\"id\":\"12235\",\"type\":\"DataRange1d\"},{\"attributes\":{\"coordinates\":null,\"data_source\":{\"id\":\"12231\"},\"glyph\":{\"id\":\"12260\"},\"group\":null,\"hover_glyph\":{\"id\":\"12262\"},\"muted_glyph\":{\"id\":\"12263\"},\"nonselection_glyph\":{\"id\":\"12261\"},\"view\":{\"id\":\"12265\"}},\"id\":\"12264\",\"type\":\"GlyphRenderer\"},{\"attributes\":{\"background_fill_color\":\"#20262B\",\"below\":[{\"id\":\"12275\"}],\"border_fill_color\":\"#15191C\",\"center\":[{\"id\":\"12278\"},{\"id\":\"12282\"}],\"height\":300,\"left\":[{\"id\":\"12279\"}],\"outline_line_alpha\":0.25,\"outline_line_color\":\"#E0E0E0\",\"renderers\":[{\"id\":\"12296\"}],\"title\":{\"id\":\"12309\"},\"toolbar\":{\"id\":\"12287\"},\"toolbar_location\":null,\"width\":300,\"x_range\":{\"id\":\"12267\"},\"x_scale\":{\"id\":\"12271\"},\"y_range\":{\"id\":\"12269\"},\"y_scale\":{\"id\":\"12273\"}},\"id\":\"12266\",\"subtype\":\"Figure\",\"type\":\"Plot\"},{\"attributes\":{},\"id\":\"12267\",\"type\":\"DataRange1d\"},{\"attributes\":{\"coordinates\":null,\"group\":null,\"text_color\":\"#E0E0E0\",\"text_font\":\"Helvetica\",\"text_font_size\":\"1.15em\"},\"id\":\"12309\",\"type\":\"Title\"},{\"attributes\":{},\"id\":\"12305\",\"type\":\"UnionRenderers\"},{\"attributes\":{\"axis_label_standoff\":10,\"axis_label_text_color\":\"#E0E0E0\",\"axis_label_text_font\":\"Helvetica\",\"axis_label_text_font_size\":\"1.25em\",\"axis_label_text_font_style\":\"normal\",\"axis_line_alpha\":0,\"axis_line_color\":\"#E0E0E0\",\"coordinates\":null,\"formatter\":{\"id\":\"12300\"},\"group\":null,\"major_label_policy\":{\"id\":\"12301\"},\"major_label_text_color\":\"#E0E0E0\",\"major_label_text_font\":\"Helvetica\",\"major_label_text_font_size\":\"1.025em\",\"major_tick_line_alpha\":0,\"major_tick_line_color\":\"#E0E0E0\",\"minor_tick_line_alpha\":0,\"minor_tick_line_color\":\"#E0E0E0\",\"ticker\":{\"id\":\"12248\"}},\"id\":\"12247\",\"type\":\"LinearAxis\"},{\"attributes\":{\"data\":{\"x\":[1,2,3,4,5],\"y\":[1,2,3,4,5]},\"selected\":{\"id\":\"12306\"},\"selection_policy\":{\"id\":\"12305\"}},\"id\":\"12231\",\"type\":\"ColumnDataSource\"},{\"attributes\":{\"indices\":[0,2,4]},\"id\":\"12232\",\"type\":\"IndexFilter\"},{\"attributes\":{\"children\":[[{\"id\":\"12234\"},0,0],[{\"id\":\"12266\"},0,1]]},\"id\":\"12321\",\"type\":\"GridBox\"},{\"attributes\":{},\"id\":\"12273\",\"type\":\"LinearScale\"},{\"attributes\":{\"fill_color\":{\"value\":\"red\"},\"hatch_color\":{\"value\":\"red\"},\"line_color\":{\"value\":\"red\"},\"size\":{\"value\":10},\"x\":{\"field\":\"x\"},\"y\":{\"field\":\"y\"}},\"id\":\"12294\",\"type\":\"Circle\"},{\"attributes\":{},\"id\":\"12239\",\"type\":\"LinearScale\"},{\"attributes\":{\"toolbar\":{\"id\":\"12322\"},\"toolbar_location\":\"above\"},\"id\":\"12323\",\"type\":\"ToolbarBox\"},{\"attributes\":{\"background_fill_color\":\"#20262B\",\"below\":[{\"id\":\"12243\"}],\"border_fill_color\":\"#15191C\",\"center\":[{\"id\":\"12246\"},{\"id\":\"12250\"}],\"height\":300,\"left\":[{\"id\":\"12247\"}],\"outline_line_alpha\":0.25,\"outline_line_color\":\"#E0E0E0\",\"renderers\":[{\"id\":\"12264\"}],\"title\":{\"id\":\"12297\"},\"toolbar\":{\"id\":\"12255\"},\"toolbar_location\":null,\"width\":300,\"x_range\":{\"id\":\"12235\"},\"x_scale\":{\"id\":\"12239\"},\"y_range\":{\"id\":\"12237\"},\"y_scale\":{\"id\":\"12241\"}},\"id\":\"12234\",\"subtype\":\"Figure\",\"type\":\"Plot\"},{\"attributes\":{},\"id\":\"12253\",\"type\":\"ResetTool\"},{\"attributes\":{\"bottom_units\":\"screen\",\"coordinates\":null,\"fill_alpha\":0.5,\"fill_color\":\"lightgrey\",\"group\":null,\"left_units\":\"screen\",\"level\":\"overlay\",\"line_alpha\":1.0,\"line_color\":\"black\",\"line_dash\":[4,4],\"line_width\":2,\"right_units\":\"screen\",\"syncable\":false,\"top_units\":\"screen\"},\"id\":\"12286\",\"type\":\"BoxAnnotation\"},{\"attributes\":{\"axis\":{\"id\":\"12275\"},\"coordinates\":null,\"grid_line_alpha\":0.25,\"grid_line_color\":\"#E0E0E0\",\"group\":null,\"ticker\":null},\"id\":\"12278\",\"type\":\"Grid\"},{\"attributes\":{\"fill_color\":{\"value\":\"#1f77b4\"},\"line_color\":{\"value\":\"#1f77b4\"},\"size\":{\"value\":10},\"x\":{\"field\":\"x\"},\"y\":{\"field\":\"y\"}},\"id\":\"12292\",\"type\":\"Circle\"},{\"attributes\":{\"fill_alpha\":{\"value\":0.1},\"fill_color\":{\"value\":\"#1f77b4\"},\"hatch_alpha\":{\"value\":0.1},\"line_alpha\":{\"value\":0.1},\"line_color\":{\"value\":\"#1f77b4\"},\"size\":{\"value\":10},\"x\":{\"field\":\"x\"},\"y\":{\"field\":\"y\"}},\"id\":\"12261\",\"type\":\"Circle\"},{\"attributes\":{},\"id\":\"12276\",\"type\":\"BasicTicker\"},{\"attributes\":{},\"id\":\"12306\",\"type\":\"Selection\"},{\"attributes\":{\"fill_color\":{\"value\":\"#1f77b4\"},\"line_color\":{\"value\":\"#1f77b4\"},\"size\":{\"value\":10},\"x\":{\"field\":\"x\"},\"y\":{\"field\":\"y\"}},\"id\":\"12260\",\"type\":\"Circle\"},{\"attributes\":{\"callback\":null},\"id\":\"12252\",\"type\":\"HoverTool\"},{\"attributes\":{\"axis\":{\"id\":\"12279\"},\"coordinates\":null,\"dimension\":1,\"grid_line_alpha\":0.25,\"grid_line_color\":\"#E0E0E0\",\"group\":null,\"ticker\":null},\"id\":\"12282\",\"type\":\"Grid\"},{\"attributes\":{},\"id\":\"12280\",\"type\":\"BasicTicker\"},{\"attributes\":{},\"id\":\"12301\",\"type\":\"AllLabels\"}],\"root_ids\":[\"12324\"]},\"title\":\"Bokeh Application\",\"version\":\"2.4.3\"}};\n",
       "  const render_items = [{\"docid\":\"83386cfc-702b-4f94-9855-395dd7959265\",\"root_ids\":[\"12324\"],\"roots\":{\"12324\":\"01aa2303-be4b-42b2-9e07-6753bb1ba9a2\"}}];\n",
       "  root.Bokeh.embed.embed_items_notebook(docs_json, render_items);\n",
       "  }\n",
       "  if (root.Bokeh !== undefined) {\n",
       "    embed_document(root);\n",
       "  } else {\n",
       "    let attempts = 0;\n",
       "    const timer = setInterval(function(root) {\n",
       "      if (root.Bokeh !== undefined) {\n",
       "        clearInterval(timer);\n",
       "        embed_document(root);\n",
       "      } else {\n",
       "        attempts++;\n",
       "        if (attempts > 100) {\n",
       "          clearInterval(timer);\n",
       "          console.log(\"Bokeh: ERROR: Unable to run BokehJS code because BokehJS library is missing\");\n",
       "        }\n",
       "      }\n",
       "    }, 10, root)\n",
       "  }\n",
       "})(window);"
      ],
      "application/vnd.bokehjs_exec.v0+json": ""
     },
     "metadata": {
      "application/vnd.bokehjs_exec.v0+json": {
       "id": "12324"
      }
     },
     "output_type": "display_data"
    }
   ],
   "source": [
    "# Create ColumnDataSource from a dict\n",
    "source = ColumnDataSource(data=dict(x=[1, 2, 3, 4, 5], y=[1, 2, 3, 4, 5]))\n",
    "\n",
    "# Create a view using an IndexFilter with the index positions [0, 2, 4]\n",
    "view = CDSView(source=source, filters=[IndexFilter([0, 2, 4])])\n",
    "\n",
    "# Setup tools\n",
    "tools = [\"box_select\", \"hover\", \"reset\"]\n",
    "\n",
    "# Create a first plot with all data in the ColumnDataSource\n",
    "p = figure(height=300, width=300, tools=tools)\n",
    "p.circle(x=\"x\", y=\"y\", size=10, hover_color=\"red\", source=source)\n",
    "\n",
    "# Create a second plot with a subset of ColumnDataSource, based on the view\n",
    "p_filtered = figure(height=300, width=300, tools=tools)\n",
    "p_filtered.circle(x=\"x\", y=\"y\", size=10, hover_color=\"red\", source=source, view=view)\n",
    "\n",
    "# Show both plots next to each other in a gridplot layout\n",
    "show(gridplot([[p, p_filtered]]))"
   ]
  },
  {
   "cell_type": "markdown",
   "id": "b0af4f79",
   "metadata": {},
   "source": [
    "# Using Widgets"
   ]
  },
  {
   "cell_type": "code",
   "execution_count": 56,
   "id": "60fc79c1",
   "metadata": {},
   "outputs": [],
   "source": [
    "x = [1, 2, 3, 4, 5, 6, 7, 8, 9, 10]\n",
    "y = [4, 5, 5, 7, 2, 6, 4, 9, 1, 3]\n",
    "\n",
    "p = figure(x_range=(1,9), width=500, height=250)\n",
    "points = p.circle(x=x, y=y, size=30, fill_color=\"#FFD300\")\n",
    "div = Div(\n",
    "    text=\"\"\"\n",
    "        <p>Select the circle's size using this control element:</p>\n",
    "        \"\"\",\n",
    "    width=200,\n",
    "    height=30,\n",
    ")\n",
    "spinner = Spinner(\n",
    "    title=\"Circle size\",  # a string to display above the widget\n",
    "    low=0,  # the lowest possible number to pick\n",
    "    high=60,  # the highest possible number to pick\n",
    "    step=2,  # the increments by which the number can be adjusted\n",
    "    value=points.glyph.size,  # the initial value to display in the widget\n",
    "    width=200,  #  the width of the widget in pixels\n",
    ")"
   ]
  },
  {
   "cell_type": "code",
   "execution_count": 57,
   "id": "503d797c",
   "metadata": {},
   "outputs": [],
   "source": [
    "spinner.js_link(\"value\", points.glyph, \"size\")"
   ]
  },
  {
   "cell_type": "code",
   "execution_count": 58,
   "id": "5c734954",
   "metadata": {},
   "outputs": [],
   "source": [
    "range_slider = RangeSlider(\n",
    "    title=\"Adjust x-axis range\", # a title to display above the slider\n",
    "    start=0,  # set the minimum value for the slider\n",
    "    end=10,  # set the maximum value for the slider\n",
    "    step=1,  # increments for the slider\n",
    "    value=(p.x_range.start, p.x_range.end),  # initial values for slider\n",
    ")"
   ]
  },
  {
   "cell_type": "code",
   "execution_count": 59,
   "id": "b8198fa7",
   "metadata": {},
   "outputs": [],
   "source": [
    "range_slider.js_link(\"value\", p.x_range, \"start\", attr_selector=0)\n",
    "range_slider.js_link(\"value\", p.x_range, \"end\", attr_selector=1)"
   ]
  },
  {
   "cell_type": "code",
   "execution_count": 60,
   "id": "87651101",
   "metadata": {},
   "outputs": [
    {
     "data": {
      "text/html": [
       "\n",
       "  <div class=\"bk-root\" id=\"78642d61-3da6-4879-b542-528aacb6a69c\" data-root-id=\"13225\"></div>\n"
      ]
     },
     "metadata": {},
     "output_type": "display_data"
    },
    {
     "data": {
      "application/javascript": [
       "(function(root) {\n",
       "  function embed_document(root) {\n",
       "  const docs_json = {\"0d93bd29-6d6e-4284-8b0d-9aa97df0d70c\":{\"defs\":[],\"roots\":{\"references\":[{\"attributes\":{\"children\":[{\"id\":\"13219\"},{\"id\":\"13220\"},{\"id\":\"13222\"},{\"id\":\"13182\"}]},\"id\":\"13225\",\"type\":\"Column\"},{\"attributes\":{\"args\":{\"other\":{\"id\":\"13214\"}},\"code\":\"other.size = this.value\"},\"id\":\"13221\",\"type\":\"CustomJS\"},{\"attributes\":{},\"id\":\"13709\",\"type\":\"AllLabels\"},{\"attributes\":{\"coordinates\":null,\"data_source\":{\"id\":\"13213\"},\"glyph\":{\"id\":\"13214\"},\"group\":null,\"hover_glyph\":null,\"muted_glyph\":{\"id\":\"13216\"},\"nonselection_glyph\":{\"id\":\"13215\"},\"view\":{\"id\":\"13218\"}},\"id\":\"13217\",\"type\":\"GlyphRenderer\"},{\"attributes\":{\"fill_alpha\":{\"value\":0.2},\"fill_color\":{\"value\":\"#FFD300\"},\"hatch_alpha\":{\"value\":0.2},\"line_alpha\":{\"value\":0.2},\"line_color\":{\"value\":\"#1f77b4\"},\"size\":{\"value\":30},\"x\":{\"field\":\"x\"},\"y\":{\"field\":\"y\"}},\"id\":\"13216\",\"type\":\"Circle\"},{\"attributes\":{\"source\":{\"id\":\"13213\"}},\"id\":\"13218\",\"type\":\"CDSView\"},{\"attributes\":{\"high\":60,\"js_property_callbacks\":{\"change:value\":[{\"id\":\"13221\"}]},\"low\":0,\"step\":2,\"title\":\"Circle size\",\"value\":30,\"value_throttled\":30,\"width\":200},\"id\":\"13220\",\"type\":\"Spinner\"},{\"attributes\":{\"fill_color\":{\"value\":\"#FFD300\"},\"line_color\":{\"value\":\"#1f77b4\"},\"size\":{\"value\":30},\"x\":{\"field\":\"x\"},\"y\":{\"field\":\"y\"}},\"id\":\"13214\",\"type\":\"Circle\"},{\"attributes\":{\"background_fill_color\":\"#20262B\",\"below\":[{\"id\":\"13191\"}],\"border_fill_color\":\"#15191C\",\"center\":[{\"id\":\"13194\"},{\"id\":\"13198\"}],\"height\":250,\"left\":[{\"id\":\"13195\"}],\"outline_line_alpha\":0.25,\"outline_line_color\":\"#E0E0E0\",\"renderers\":[{\"id\":\"13217\"}],\"title\":{\"id\":\"13702\"},\"toolbar\":{\"id\":\"13206\"},\"width\":500,\"x_range\":{\"id\":\"13183\"},\"x_scale\":{\"id\":\"13187\"},\"y_range\":{\"id\":\"13185\"},\"y_scale\":{\"id\":\"13189\"}},\"id\":\"13182\",\"subtype\":\"Figure\",\"type\":\"Plot\"},{\"attributes\":{\"height\":30,\"text\":\"\\n        <p>Select the circle's size using this control element:</p>\\n        \",\"width\":200},\"id\":\"13219\",\"type\":\"Div\"},{\"attributes\":{\"data\":{\"x\":[1,2,3,4,5,6,7,8,9,10],\"y\":[4,5,5,7,2,6,4,9,1,3]},\"selected\":{\"id\":\"13711\"},\"selection_policy\":{\"id\":\"13710\"}},\"id\":\"13213\",\"type\":\"ColumnDataSource\"},{\"attributes\":{\"end\":9,\"start\":1},\"id\":\"13183\",\"type\":\"Range1d\"},{\"attributes\":{\"fill_alpha\":{\"value\":0.1},\"fill_color\":{\"value\":\"#FFD300\"},\"hatch_alpha\":{\"value\":0.1},\"line_alpha\":{\"value\":0.1},\"line_color\":{\"value\":\"#1f77b4\"},\"size\":{\"value\":30},\"x\":{\"field\":\"x\"},\"y\":{\"field\":\"y\"}},\"id\":\"13215\",\"type\":\"Circle\"},{\"attributes\":{\"args\":{\"other\":{\"id\":\"13183\"}},\"code\":\"other.end = this.value[1]\"},\"id\":\"13224\",\"type\":\"CustomJS\"},{\"attributes\":{},\"id\":\"13189\",\"type\":\"LinearScale\"},{\"attributes\":{\"axis_label_standoff\":10,\"axis_label_text_color\":\"#E0E0E0\",\"axis_label_text_font\":\"Helvetica\",\"axis_label_text_font_size\":\"1.25em\",\"axis_label_text_font_style\":\"normal\",\"axis_line_alpha\":0,\"axis_line_color\":\"#E0E0E0\",\"coordinates\":null,\"formatter\":{\"id\":\"13705\"},\"group\":null,\"major_label_policy\":{\"id\":\"13706\"},\"major_label_text_color\":\"#E0E0E0\",\"major_label_text_font\":\"Helvetica\",\"major_label_text_font_size\":\"1.025em\",\"major_tick_line_alpha\":0,\"major_tick_line_color\":\"#E0E0E0\",\"minor_tick_line_alpha\":0,\"minor_tick_line_color\":\"#E0E0E0\",\"ticker\":{\"id\":\"13196\"}},\"id\":\"13195\",\"type\":\"LinearAxis\"},{\"attributes\":{\"axis_label_standoff\":10,\"axis_label_text_color\":\"#E0E0E0\",\"axis_label_text_font\":\"Helvetica\",\"axis_label_text_font_size\":\"1.25em\",\"axis_label_text_font_style\":\"normal\",\"axis_line_alpha\":0,\"axis_line_color\":\"#E0E0E0\",\"coordinates\":null,\"formatter\":{\"id\":\"13708\"},\"group\":null,\"major_label_policy\":{\"id\":\"13709\"},\"major_label_text_color\":\"#E0E0E0\",\"major_label_text_font\":\"Helvetica\",\"major_label_text_font_size\":\"1.025em\",\"major_tick_line_alpha\":0,\"major_tick_line_color\":\"#E0E0E0\",\"minor_tick_line_alpha\":0,\"minor_tick_line_color\":\"#E0E0E0\",\"ticker\":{\"id\":\"13192\"}},\"id\":\"13191\",\"type\":\"LinearAxis\"},{\"attributes\":{},\"id\":\"13185\",\"type\":\"DataRange1d\"},{\"attributes\":{},\"id\":\"13710\",\"type\":\"UnionRenderers\"},{\"attributes\":{},\"id\":\"13187\",\"type\":\"LinearScale\"},{\"attributes\":{\"end\":10,\"js_property_callbacks\":{\"change:value\":[{\"id\":\"13223\"},{\"id\":\"13224\"}]},\"start\":0,\"title\":\"Adjust x-axis range\",\"value\":[1,9]},\"id\":\"13222\",\"type\":\"RangeSlider\"},{\"attributes\":{},\"id\":\"13192\",\"type\":\"BasicTicker\"},{\"attributes\":{},\"id\":\"13706\",\"type\":\"AllLabels\"},{\"attributes\":{\"axis\":{\"id\":\"13191\"},\"coordinates\":null,\"grid_line_alpha\":0.25,\"grid_line_color\":\"#E0E0E0\",\"group\":null,\"ticker\":null},\"id\":\"13194\",\"type\":\"Grid\"},{\"attributes\":{\"args\":{\"other\":{\"id\":\"13183\"}},\"code\":\"other.start = this.value[0]\"},\"id\":\"13223\",\"type\":\"CustomJS\"},{\"attributes\":{},\"id\":\"13202\",\"type\":\"SaveTool\"},{\"attributes\":{},\"id\":\"13708\",\"type\":\"BasicTickFormatter\"},{\"attributes\":{},\"id\":\"13705\",\"type\":\"BasicTickFormatter\"},{\"attributes\":{\"axis\":{\"id\":\"13195\"},\"coordinates\":null,\"dimension\":1,\"grid_line_alpha\":0.25,\"grid_line_color\":\"#E0E0E0\",\"group\":null,\"ticker\":null},\"id\":\"13198\",\"type\":\"Grid\"},{\"attributes\":{},\"id\":\"13196\",\"type\":\"BasicTicker\"},{\"attributes\":{},\"id\":\"13711\",\"type\":\"Selection\"},{\"attributes\":{},\"id\":\"13199\",\"type\":\"PanTool\"},{\"attributes\":{},\"id\":\"13200\",\"type\":\"WheelZoomTool\"},{\"attributes\":{\"tools\":[{\"id\":\"13199\"},{\"id\":\"13200\"},{\"id\":\"13201\"},{\"id\":\"13202\"},{\"id\":\"13203\"},{\"id\":\"13204\"}]},\"id\":\"13206\",\"type\":\"Toolbar\"},{\"attributes\":{\"bottom_units\":\"screen\",\"coordinates\":null,\"fill_alpha\":0.5,\"fill_color\":\"lightgrey\",\"group\":null,\"left_units\":\"screen\",\"level\":\"overlay\",\"line_alpha\":1.0,\"line_color\":\"black\",\"line_dash\":[4,4],\"line_width\":2,\"right_units\":\"screen\",\"syncable\":false,\"top_units\":\"screen\"},\"id\":\"13205\",\"type\":\"BoxAnnotation\"},{\"attributes\":{\"coordinates\":null,\"group\":null,\"text_color\":\"#E0E0E0\",\"text_font\":\"Helvetica\",\"text_font_size\":\"1.15em\"},\"id\":\"13702\",\"type\":\"Title\"},{\"attributes\":{},\"id\":\"13203\",\"type\":\"ResetTool\"},{\"attributes\":{\"overlay\":{\"id\":\"13205\"}},\"id\":\"13201\",\"type\":\"BoxZoomTool\"},{\"attributes\":{},\"id\":\"13204\",\"type\":\"HelpTool\"}],\"root_ids\":[\"13225\"]},\"title\":\"Bokeh Application\",\"version\":\"2.4.3\"}};\n",
       "  const render_items = [{\"docid\":\"0d93bd29-6d6e-4284-8b0d-9aa97df0d70c\",\"root_ids\":[\"13225\"],\"roots\":{\"13225\":\"78642d61-3da6-4879-b542-528aacb6a69c\"}}];\n",
       "  root.Bokeh.embed.embed_items_notebook(docs_json, render_items);\n",
       "  }\n",
       "  if (root.Bokeh !== undefined) {\n",
       "    embed_document(root);\n",
       "  } else {\n",
       "    let attempts = 0;\n",
       "    const timer = setInterval(function(root) {\n",
       "      if (root.Bokeh !== undefined) {\n",
       "        clearInterval(timer);\n",
       "        embed_document(root);\n",
       "      } else {\n",
       "        attempts++;\n",
       "        if (attempts > 100) {\n",
       "          clearInterval(timer);\n",
       "          console.log(\"Bokeh: ERROR: Unable to run BokehJS code because BokehJS library is missing\");\n",
       "        }\n",
       "      }\n",
       "    }, 10, root)\n",
       "  }\n",
       "})(window);"
      ],
      "application/vnd.bokehjs_exec.v0+json": ""
     },
     "metadata": {
      "application/vnd.bokehjs_exec.v0+json": {
       "id": "13225"
      }
     },
     "output_type": "display_data"
    }
   ],
   "source": [
    "layout = column(\n",
    "    div, spinner,\n",
    "    range_slider,\n",
    "    p,\n",
    ")\n",
    "\n",
    "show(layout)"
   ]
  }
 ],
 "metadata": {
  "kernelspec": {
   "display_name": "Python 3 (ipykernel)",
   "language": "python",
   "name": "python3"
  },
  "language_info": {
   "codemirror_mode": {
    "name": "ipython",
    "version": 3
   },
   "file_extension": ".py",
   "mimetype": "text/x-python",
   "name": "python",
   "nbconvert_exporter": "python",
   "pygments_lexer": "ipython3",
   "version": "3.10.9"
  }
 },
 "nbformat": 4,
 "nbformat_minor": 5
}
