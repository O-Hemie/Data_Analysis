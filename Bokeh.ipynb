{
 "cells": [
  {
   "cell_type": "markdown",
   "id": "8fc1098d",
   "metadata": {},
   "source": [
    "# Creating Interactive Javascript Powered Visualization Using Bokeh"
   ]
  },
  {
   "cell_type": "code",
   "execution_count": 1,
   "id": "d788ab4d",
   "metadata": {},
   "outputs": [],
   "source": [
    "from bokeh.plotting import figure, show, save, output_file"
   ]
  },
  {
   "cell_type": "code",
   "execution_count": 2,
   "id": "4fdf16c0",
   "metadata": {},
   "outputs": [],
   "source": [
    "from bokeh.models import BoxAnnotation, Title, NumeralTickFormatter, DatetimeTickFormatter, ColumnDataSource,CDSView, IndexFilter, Div, RangeSlider, Spinner\n"
   ]
  },
  {
   "cell_type": "code",
   "execution_count": 3,
   "id": "16bbf4ba",
   "metadata": {},
   "outputs": [],
   "source": [
    "import random"
   ]
  },
  {
   "cell_type": "code",
   "execution_count": 4,
   "id": "77037d0c",
   "metadata": {},
   "outputs": [],
   "source": [
    "import numpy as np"
   ]
  },
  {
   "cell_type": "code",
   "execution_count": 5,
   "id": "2860ad8f",
   "metadata": {},
   "outputs": [],
   "source": [
    "from bokeh.io import curdoc, show, output_notebook, export_png"
   ]
  },
  {
   "cell_type": "code",
   "execution_count": 6,
   "id": "63a83edb",
   "metadata": {},
   "outputs": [],
   "source": [
    "from datetime import datetime, timedelta"
   ]
  },
  {
   "cell_type": "code",
   "execution_count": 7,
   "id": "76467480",
   "metadata": {},
   "outputs": [],
   "source": [
    "from bokeh.models.tools import BoxZoomTool, ResetTool, PanTool, BoxSelectTool, HoverTool"
   ]
  },
  {
   "cell_type": "code",
   "execution_count": 8,
   "id": "46d2edec",
   "metadata": {},
   "outputs": [],
   "source": [
    "from bokeh.palettes import Turbo256\n",
    "from bokeh.transform import linear_cmap"
   ]
  },
  {
   "cell_type": "code",
   "execution_count": 9,
   "id": "29b1dd2d",
   "metadata": {},
   "outputs": [],
   "source": [
    "from bokeh.layouts import row, column, gridplot"
   ]
  },
  {
   "cell_type": "markdown",
   "id": "42607f22",
   "metadata": {},
   "source": [
    "# To View in Jupter Notebook"
   ]
  },
  {
   "cell_type": "code",
   "execution_count": 10,
   "id": "da92f078",
   "metadata": {},
   "outputs": [
    {
     "data": {
      "text/html": [
       "<div class=\"bk-root\">\n",
       "        <a href=\"https://bokeh.org\" target=\"_blank\" class=\"bk-logo bk-logo-small bk-logo-notebook\"></a>\n",
       "        <span id=\"1002\">Loading BokehJS ...</span>\n",
       "    </div>\n"
      ]
     },
     "metadata": {},
     "output_type": "display_data"
    },
    {
     "data": {
      "application/javascript": [
       "(function(root) {\n",
       "  function now() {\n",
       "    return new Date();\n",
       "  }\n",
       "\n",
       "  const force = true;\n",
       "\n",
       "  if (typeof root._bokeh_onload_callbacks === \"undefined\" || force === true) {\n",
       "    root._bokeh_onload_callbacks = [];\n",
       "    root._bokeh_is_loading = undefined;\n",
       "  }\n",
       "\n",
       "const JS_MIME_TYPE = 'application/javascript';\n",
       "  const HTML_MIME_TYPE = 'text/html';\n",
       "  const EXEC_MIME_TYPE = 'application/vnd.bokehjs_exec.v0+json';\n",
       "  const CLASS_NAME = 'output_bokeh rendered_html';\n",
       "\n",
       "  /**\n",
       "   * Render data to the DOM node\n",
       "   */\n",
       "  function render(props, node) {\n",
       "    const script = document.createElement(\"script\");\n",
       "    node.appendChild(script);\n",
       "  }\n",
       "\n",
       "  /**\n",
       "   * Handle when an output is cleared or removed\n",
       "   */\n",
       "  function handleClearOutput(event, handle) {\n",
       "    const cell = handle.cell;\n",
       "\n",
       "    const id = cell.output_area._bokeh_element_id;\n",
       "    const server_id = cell.output_area._bokeh_server_id;\n",
       "    // Clean up Bokeh references\n",
       "    if (id != null && id in Bokeh.index) {\n",
       "      Bokeh.index[id].model.document.clear();\n",
       "      delete Bokeh.index[id];\n",
       "    }\n",
       "\n",
       "    if (server_id !== undefined) {\n",
       "      // Clean up Bokeh references\n",
       "      const cmd_clean = \"from bokeh.io.state import curstate; print(curstate().uuid_to_server['\" + server_id + \"'].get_sessions()[0].document.roots[0]._id)\";\n",
       "      cell.notebook.kernel.execute(cmd_clean, {\n",
       "        iopub: {\n",
       "          output: function(msg) {\n",
       "            const id = msg.content.text.trim();\n",
       "            if (id in Bokeh.index) {\n",
       "              Bokeh.index[id].model.document.clear();\n",
       "              delete Bokeh.index[id];\n",
       "            }\n",
       "          }\n",
       "        }\n",
       "      });\n",
       "      // Destroy server and session\n",
       "      const cmd_destroy = \"import bokeh.io.notebook as ion; ion.destroy_server('\" + server_id + \"')\";\n",
       "      cell.notebook.kernel.execute(cmd_destroy);\n",
       "    }\n",
       "  }\n",
       "\n",
       "  /**\n",
       "   * Handle when a new output is added\n",
       "   */\n",
       "  function handleAddOutput(event, handle) {\n",
       "    const output_area = handle.output_area;\n",
       "    const output = handle.output;\n",
       "\n",
       "    // limit handleAddOutput to display_data with EXEC_MIME_TYPE content only\n",
       "    if ((output.output_type != \"display_data\") || (!Object.prototype.hasOwnProperty.call(output.data, EXEC_MIME_TYPE))) {\n",
       "      return\n",
       "    }\n",
       "\n",
       "    const toinsert = output_area.element.find(\".\" + CLASS_NAME.split(' ')[0]);\n",
       "\n",
       "    if (output.metadata[EXEC_MIME_TYPE][\"id\"] !== undefined) {\n",
       "      toinsert[toinsert.length - 1].firstChild.textContent = output.data[JS_MIME_TYPE];\n",
       "      // store reference to embed id on output_area\n",
       "      output_area._bokeh_element_id = output.metadata[EXEC_MIME_TYPE][\"id\"];\n",
       "    }\n",
       "    if (output.metadata[EXEC_MIME_TYPE][\"server_id\"] !== undefined) {\n",
       "      const bk_div = document.createElement(\"div\");\n",
       "      bk_div.innerHTML = output.data[HTML_MIME_TYPE];\n",
       "      const script_attrs = bk_div.children[0].attributes;\n",
       "      for (let i = 0; i < script_attrs.length; i++) {\n",
       "        toinsert[toinsert.length - 1].firstChild.setAttribute(script_attrs[i].name, script_attrs[i].value);\n",
       "        toinsert[toinsert.length - 1].firstChild.textContent = bk_div.children[0].textContent\n",
       "      }\n",
       "      // store reference to server id on output_area\n",
       "      output_area._bokeh_server_id = output.metadata[EXEC_MIME_TYPE][\"server_id\"];\n",
       "    }\n",
       "  }\n",
       "\n",
       "  function register_renderer(events, OutputArea) {\n",
       "\n",
       "    function append_mime(data, metadata, element) {\n",
       "      // create a DOM node to render to\n",
       "      const toinsert = this.create_output_subarea(\n",
       "        metadata,\n",
       "        CLASS_NAME,\n",
       "        EXEC_MIME_TYPE\n",
       "      );\n",
       "      this.keyboard_manager.register_events(toinsert);\n",
       "      // Render to node\n",
       "      const props = {data: data, metadata: metadata[EXEC_MIME_TYPE]};\n",
       "      render(props, toinsert[toinsert.length - 1]);\n",
       "      element.append(toinsert);\n",
       "      return toinsert\n",
       "    }\n",
       "\n",
       "    /* Handle when an output is cleared or removed */\n",
       "    events.on('clear_output.CodeCell', handleClearOutput);\n",
       "    events.on('delete.Cell', handleClearOutput);\n",
       "\n",
       "    /* Handle when a new output is added */\n",
       "    events.on('output_added.OutputArea', handleAddOutput);\n",
       "\n",
       "    /**\n",
       "     * Register the mime type and append_mime function with output_area\n",
       "     */\n",
       "    OutputArea.prototype.register_mime_type(EXEC_MIME_TYPE, append_mime, {\n",
       "      /* Is output safe? */\n",
       "      safe: true,\n",
       "      /* Index of renderer in `output_area.display_order` */\n",
       "      index: 0\n",
       "    });\n",
       "  }\n",
       "\n",
       "  // register the mime type if in Jupyter Notebook environment and previously unregistered\n",
       "  if (root.Jupyter !== undefined) {\n",
       "    const events = require('base/js/events');\n",
       "    const OutputArea = require('notebook/js/outputarea').OutputArea;\n",
       "\n",
       "    if (OutputArea.prototype.mime_types().indexOf(EXEC_MIME_TYPE) == -1) {\n",
       "      register_renderer(events, OutputArea);\n",
       "    }\n",
       "  }\n",
       "  if (typeof (root._bokeh_timeout) === \"undefined\" || force === true) {\n",
       "    root._bokeh_timeout = Date.now() + 5000;\n",
       "    root._bokeh_failed_load = false;\n",
       "  }\n",
       "\n",
       "  const NB_LOAD_WARNING = {'data': {'text/html':\n",
       "     \"<div style='background-color: #fdd'>\\n\"+\n",
       "     \"<p>\\n\"+\n",
       "     \"BokehJS does not appear to have successfully loaded. If loading BokehJS from CDN, this \\n\"+\n",
       "     \"may be due to a slow or bad network connection. Possible fixes:\\n\"+\n",
       "     \"</p>\\n\"+\n",
       "     \"<ul>\\n\"+\n",
       "     \"<li>re-rerun `output_notebook()` to attempt to load from CDN again, or</li>\\n\"+\n",
       "     \"<li>use INLINE resources instead, as so:</li>\\n\"+\n",
       "     \"</ul>\\n\"+\n",
       "     \"<code>\\n\"+\n",
       "     \"from bokeh.resources import INLINE\\n\"+\n",
       "     \"output_notebook(resources=INLINE)\\n\"+\n",
       "     \"</code>\\n\"+\n",
       "     \"</div>\"}};\n",
       "\n",
       "  function display_loaded() {\n",
       "    const el = document.getElementById(\"1002\");\n",
       "    if (el != null) {\n",
       "      el.textContent = \"BokehJS is loading...\";\n",
       "    }\n",
       "    if (root.Bokeh !== undefined) {\n",
       "      if (el != null) {\n",
       "        el.textContent = \"BokehJS \" + root.Bokeh.version + \" successfully loaded.\";\n",
       "      }\n",
       "    } else if (Date.now() < root._bokeh_timeout) {\n",
       "      setTimeout(display_loaded, 100)\n",
       "    }\n",
       "  }\n",
       "\n",
       "  function run_callbacks() {\n",
       "    try {\n",
       "      root._bokeh_onload_callbacks.forEach(function(callback) {\n",
       "        if (callback != null)\n",
       "          callback();\n",
       "      });\n",
       "    } finally {\n",
       "      delete root._bokeh_onload_callbacks\n",
       "    }\n",
       "    console.debug(\"Bokeh: all callbacks have finished\");\n",
       "  }\n",
       "\n",
       "  function load_libs(css_urls, js_urls, callback) {\n",
       "    if (css_urls == null) css_urls = [];\n",
       "    if (js_urls == null) js_urls = [];\n",
       "\n",
       "    root._bokeh_onload_callbacks.push(callback);\n",
       "    if (root._bokeh_is_loading > 0) {\n",
       "      console.debug(\"Bokeh: BokehJS is being loaded, scheduling callback at\", now());\n",
       "      return null;\n",
       "    }\n",
       "    if (js_urls == null || js_urls.length === 0) {\n",
       "      run_callbacks();\n",
       "      return null;\n",
       "    }\n",
       "    console.debug(\"Bokeh: BokehJS not loaded, scheduling load and callback at\", now());\n",
       "    root._bokeh_is_loading = css_urls.length + js_urls.length;\n",
       "\n",
       "    function on_load() {\n",
       "      root._bokeh_is_loading--;\n",
       "      if (root._bokeh_is_loading === 0) {\n",
       "        console.debug(\"Bokeh: all BokehJS libraries/stylesheets loaded\");\n",
       "        run_callbacks()\n",
       "      }\n",
       "    }\n",
       "\n",
       "    function on_error(url) {\n",
       "      console.error(\"failed to load \" + url);\n",
       "    }\n",
       "\n",
       "    for (let i = 0; i < css_urls.length; i++) {\n",
       "      const url = css_urls[i];\n",
       "      const element = document.createElement(\"link\");\n",
       "      element.onload = on_load;\n",
       "      element.onerror = on_error.bind(null, url);\n",
       "      element.rel = \"stylesheet\";\n",
       "      element.type = \"text/css\";\n",
       "      element.href = url;\n",
       "      console.debug(\"Bokeh: injecting link tag for BokehJS stylesheet: \", url);\n",
       "      document.body.appendChild(element);\n",
       "    }\n",
       "\n",
       "    for (let i = 0; i < js_urls.length; i++) {\n",
       "      const url = js_urls[i];\n",
       "      const element = document.createElement('script');\n",
       "      element.onload = on_load;\n",
       "      element.onerror = on_error.bind(null, url);\n",
       "      element.async = false;\n",
       "      element.src = url;\n",
       "      console.debug(\"Bokeh: injecting script tag for BokehJS library: \", url);\n",
       "      document.head.appendChild(element);\n",
       "    }\n",
       "  };\n",
       "\n",
       "  function inject_raw_css(css) {\n",
       "    const element = document.createElement(\"style\");\n",
       "    element.appendChild(document.createTextNode(css));\n",
       "    document.body.appendChild(element);\n",
       "  }\n",
       "\n",
       "  const js_urls = [\"https://cdn.bokeh.org/bokeh/release/bokeh-2.4.3.min.js\", \"https://cdn.bokeh.org/bokeh/release/bokeh-gl-2.4.3.min.js\", \"https://cdn.bokeh.org/bokeh/release/bokeh-widgets-2.4.3.min.js\", \"https://cdn.bokeh.org/bokeh/release/bokeh-tables-2.4.3.min.js\", \"https://cdn.bokeh.org/bokeh/release/bokeh-mathjax-2.4.3.min.js\"];\n",
       "  const css_urls = [];\n",
       "\n",
       "  const inline_js = [    function(Bokeh) {\n",
       "      Bokeh.set_log_level(\"info\");\n",
       "    },\n",
       "function(Bokeh) {\n",
       "    }\n",
       "  ];\n",
       "\n",
       "  function run_inline_js() {\n",
       "    if (root.Bokeh !== undefined || force === true) {\n",
       "          for (let i = 0; i < inline_js.length; i++) {\n",
       "      inline_js[i].call(root, root.Bokeh);\n",
       "    }\n",
       "if (force === true) {\n",
       "        display_loaded();\n",
       "      }} else if (Date.now() < root._bokeh_timeout) {\n",
       "      setTimeout(run_inline_js, 100);\n",
       "    } else if (!root._bokeh_failed_load) {\n",
       "      console.log(\"Bokeh: BokehJS failed to load within specified timeout.\");\n",
       "      root._bokeh_failed_load = true;\n",
       "    } else if (force !== true) {\n",
       "      const cell = $(document.getElementById(\"1002\")).parents('.cell').data().cell;\n",
       "      cell.output_area.append_execute_result(NB_LOAD_WARNING)\n",
       "    }\n",
       "  }\n",
       "\n",
       "  if (root._bokeh_is_loading === 0) {\n",
       "    console.debug(\"Bokeh: BokehJS loaded, going straight to plotting\");\n",
       "    run_inline_js();\n",
       "  } else {\n",
       "    load_libs(css_urls, js_urls, function() {\n",
       "      console.debug(\"Bokeh: BokehJS plotting callback run at\", now());\n",
       "      run_inline_js();\n",
       "    });\n",
       "  }\n",
       "}(window));"
      ],
      "application/vnd.bokehjs_load.v0+json": "(function(root) {\n  function now() {\n    return new Date();\n  }\n\n  const force = true;\n\n  if (typeof root._bokeh_onload_callbacks === \"undefined\" || force === true) {\n    root._bokeh_onload_callbacks = [];\n    root._bokeh_is_loading = undefined;\n  }\n\n\n  if (typeof (root._bokeh_timeout) === \"undefined\" || force === true) {\n    root._bokeh_timeout = Date.now() + 5000;\n    root._bokeh_failed_load = false;\n  }\n\n  const NB_LOAD_WARNING = {'data': {'text/html':\n     \"<div style='background-color: #fdd'>\\n\"+\n     \"<p>\\n\"+\n     \"BokehJS does not appear to have successfully loaded. If loading BokehJS from CDN, this \\n\"+\n     \"may be due to a slow or bad network connection. Possible fixes:\\n\"+\n     \"</p>\\n\"+\n     \"<ul>\\n\"+\n     \"<li>re-rerun `output_notebook()` to attempt to load from CDN again, or</li>\\n\"+\n     \"<li>use INLINE resources instead, as so:</li>\\n\"+\n     \"</ul>\\n\"+\n     \"<code>\\n\"+\n     \"from bokeh.resources import INLINE\\n\"+\n     \"output_notebook(resources=INLINE)\\n\"+\n     \"</code>\\n\"+\n     \"</div>\"}};\n\n  function display_loaded() {\n    const el = document.getElementById(\"1002\");\n    if (el != null) {\n      el.textContent = \"BokehJS is loading...\";\n    }\n    if (root.Bokeh !== undefined) {\n      if (el != null) {\n        el.textContent = \"BokehJS \" + root.Bokeh.version + \" successfully loaded.\";\n      }\n    } else if (Date.now() < root._bokeh_timeout) {\n      setTimeout(display_loaded, 100)\n    }\n  }\n\n  function run_callbacks() {\n    try {\n      root._bokeh_onload_callbacks.forEach(function(callback) {\n        if (callback != null)\n          callback();\n      });\n    } finally {\n      delete root._bokeh_onload_callbacks\n    }\n    console.debug(\"Bokeh: all callbacks have finished\");\n  }\n\n  function load_libs(css_urls, js_urls, callback) {\n    if (css_urls == null) css_urls = [];\n    if (js_urls == null) js_urls = [];\n\n    root._bokeh_onload_callbacks.push(callback);\n    if (root._bokeh_is_loading > 0) {\n      console.debug(\"Bokeh: BokehJS is being loaded, scheduling callback at\", now());\n      return null;\n    }\n    if (js_urls == null || js_urls.length === 0) {\n      run_callbacks();\n      return null;\n    }\n    console.debug(\"Bokeh: BokehJS not loaded, scheduling load and callback at\", now());\n    root._bokeh_is_loading = css_urls.length + js_urls.length;\n\n    function on_load() {\n      root._bokeh_is_loading--;\n      if (root._bokeh_is_loading === 0) {\n        console.debug(\"Bokeh: all BokehJS libraries/stylesheets loaded\");\n        run_callbacks()\n      }\n    }\n\n    function on_error(url) {\n      console.error(\"failed to load \" + url);\n    }\n\n    for (let i = 0; i < css_urls.length; i++) {\n      const url = css_urls[i];\n      const element = document.createElement(\"link\");\n      element.onload = on_load;\n      element.onerror = on_error.bind(null, url);\n      element.rel = \"stylesheet\";\n      element.type = \"text/css\";\n      element.href = url;\n      console.debug(\"Bokeh: injecting link tag for BokehJS stylesheet: \", url);\n      document.body.appendChild(element);\n    }\n\n    for (let i = 0; i < js_urls.length; i++) {\n      const url = js_urls[i];\n      const element = document.createElement('script');\n      element.onload = on_load;\n      element.onerror = on_error.bind(null, url);\n      element.async = false;\n      element.src = url;\n      console.debug(\"Bokeh: injecting script tag for BokehJS library: \", url);\n      document.head.appendChild(element);\n    }\n  };\n\n  function inject_raw_css(css) {\n    const element = document.createElement(\"style\");\n    element.appendChild(document.createTextNode(css));\n    document.body.appendChild(element);\n  }\n\n  const js_urls = [\"https://cdn.bokeh.org/bokeh/release/bokeh-2.4.3.min.js\", \"https://cdn.bokeh.org/bokeh/release/bokeh-gl-2.4.3.min.js\", \"https://cdn.bokeh.org/bokeh/release/bokeh-widgets-2.4.3.min.js\", \"https://cdn.bokeh.org/bokeh/release/bokeh-tables-2.4.3.min.js\", \"https://cdn.bokeh.org/bokeh/release/bokeh-mathjax-2.4.3.min.js\"];\n  const css_urls = [];\n\n  const inline_js = [    function(Bokeh) {\n      Bokeh.set_log_level(\"info\");\n    },\nfunction(Bokeh) {\n    }\n  ];\n\n  function run_inline_js() {\n    if (root.Bokeh !== undefined || force === true) {\n          for (let i = 0; i < inline_js.length; i++) {\n      inline_js[i].call(root, root.Bokeh);\n    }\nif (force === true) {\n        display_loaded();\n      }} else if (Date.now() < root._bokeh_timeout) {\n      setTimeout(run_inline_js, 100);\n    } else if (!root._bokeh_failed_load) {\n      console.log(\"Bokeh: BokehJS failed to load within specified timeout.\");\n      root._bokeh_failed_load = true;\n    } else if (force !== true) {\n      const cell = $(document.getElementById(\"1002\")).parents('.cell').data().cell;\n      cell.output_area.append_execute_result(NB_LOAD_WARNING)\n    }\n  }\n\n  if (root._bokeh_is_loading === 0) {\n    console.debug(\"Bokeh: BokehJS loaded, going straight to plotting\");\n    run_inline_js();\n  } else {\n    load_libs(css_urls, js_urls, function() {\n      console.debug(\"Bokeh: BokehJS plotting callback run at\", now());\n      run_inline_js();\n    });\n  }\n}(window));"
     },
     "metadata": {},
     "output_type": "display_data"
    }
   ],
   "source": [
    "output_notebook()"
   ]
  },
  {
   "cell_type": "markdown",
   "id": "528d4f56",
   "metadata": {},
   "source": [
    "# Single Line Example"
   ]
  },
  {
   "cell_type": "code",
   "execution_count": 11,
   "id": "0437edf5",
   "metadata": {},
   "outputs": [],
   "source": [
    "x = [1, 2, 3, 4, 5, 6]\n",
    "y = [6, 7, 4, 5, 6, 7]"
   ]
  },
  {
   "cell_type": "code",
   "execution_count": 12,
   "id": "ff081106",
   "metadata": {},
   "outputs": [],
   "source": [
    "p = figure(title='Simple line graph', x_axis_label='x', y_axis_label= 'y')"
   ]
  },
  {
   "cell_type": "code",
   "execution_count": 13,
   "id": "202c1851",
   "metadata": {},
   "outputs": [
    {
     "data": {
      "text/html": [
       "\n",
       "  <div class=\"bk-root\" id=\"ce862801-2c82-4be5-9ccc-0c0be6dcec59\" data-root-id=\"1003\"></div>\n"
      ]
     },
     "metadata": {},
     "output_type": "display_data"
    },
    {
     "data": {
      "application/javascript": [
       "(function(root) {\n",
       "  function embed_document(root) {\n",
       "  const docs_json = {\"4e06665b-a31d-4a9d-924b-f4842b729fbb\":{\"defs\":[],\"roots\":{\"references\":[{\"attributes\":{\"below\":[{\"id\":\"1014\"}],\"center\":[{\"id\":\"1017\"},{\"id\":\"1021\"},{\"id\":\"1052\"}],\"left\":[{\"id\":\"1018\"}],\"renderers\":[{\"id\":\"1040\"}],\"title\":{\"id\":\"1004\"},\"toolbar\":{\"id\":\"1029\"},\"x_range\":{\"id\":\"1006\"},\"x_scale\":{\"id\":\"1010\"},\"y_range\":{\"id\":\"1008\"},\"y_scale\":{\"id\":\"1012\"}},\"id\":\"1003\",\"subtype\":\"Figure\",\"type\":\"Plot\"},{\"attributes\":{},\"id\":\"1022\",\"type\":\"PanTool\"},{\"attributes\":{\"line_alpha\":0.2,\"line_color\":\"#1f77b4\",\"line_width\":2,\"x\":{\"field\":\"x\"},\"y\":{\"field\":\"y\"}},\"id\":\"1039\",\"type\":\"Line\"},{\"attributes\":{\"overlay\":{\"id\":\"1028\"}},\"id\":\"1024\",\"type\":\"BoxZoomTool\"},{\"attributes\":{\"source\":{\"id\":\"1036\"}},\"id\":\"1041\",\"type\":\"CDSView\"},{\"attributes\":{},\"id\":\"1023\",\"type\":\"WheelZoomTool\"},{\"attributes\":{},\"id\":\"1010\",\"type\":\"LinearScale\"},{\"attributes\":{\"bottom_units\":\"screen\",\"coordinates\":null,\"fill_alpha\":0.5,\"fill_color\":\"lightgrey\",\"group\":null,\"left_units\":\"screen\",\"level\":\"overlay\",\"line_alpha\":1.0,\"line_color\":\"black\",\"line_dash\":[4,4],\"line_width\":2,\"right_units\":\"screen\",\"syncable\":false,\"top_units\":\"screen\"},\"id\":\"1028\",\"type\":\"BoxAnnotation\"},{\"attributes\":{\"coordinates\":null,\"group\":null,\"text\":\"Simple line graph\"},\"id\":\"1004\",\"type\":\"Title\"},{\"attributes\":{\"axis\":{\"id\":\"1014\"},\"coordinates\":null,\"group\":null,\"ticker\":null},\"id\":\"1017\",\"type\":\"Grid\"},{\"attributes\":{\"data\":{\"x\":[1,2,3,4,5,6],\"y\":[6,7,4,5,6,7]},\"selected\":{\"id\":\"1050\"},\"selection_policy\":{\"id\":\"1049\"}},\"id\":\"1036\",\"type\":\"ColumnDataSource\"},{\"attributes\":{},\"id\":\"1015\",\"type\":\"BasicTicker\"},{\"attributes\":{},\"id\":\"1026\",\"type\":\"ResetTool\"},{\"attributes\":{\"coordinates\":null,\"group\":null,\"items\":[{\"id\":\"1053\"}]},\"id\":\"1052\",\"type\":\"Legend\"},{\"attributes\":{},\"id\":\"1019\",\"type\":\"BasicTicker\"},{\"attributes\":{\"label\":{\"value\":\"Temp.\"},\"renderers\":[{\"id\":\"1040\"}]},\"id\":\"1053\",\"type\":\"LegendItem\"},{\"attributes\":{},\"id\":\"1050\",\"type\":\"Selection\"},{\"attributes\":{\"axis_label\":\"x\",\"coordinates\":null,\"formatter\":{\"id\":\"1047\"},\"group\":null,\"major_label_policy\":{\"id\":\"1048\"},\"ticker\":{\"id\":\"1015\"}},\"id\":\"1014\",\"type\":\"LinearAxis\"},{\"attributes\":{},\"id\":\"1044\",\"type\":\"BasicTickFormatter\"},{\"attributes\":{\"line_alpha\":0.1,\"line_color\":\"#1f77b4\",\"line_width\":2,\"x\":{\"field\":\"x\"},\"y\":{\"field\":\"y\"}},\"id\":\"1038\",\"type\":\"Line\"},{\"attributes\":{},\"id\":\"1006\",\"type\":\"DataRange1d\"},{\"attributes\":{},\"id\":\"1008\",\"type\":\"DataRange1d\"},{\"attributes\":{},\"id\":\"1048\",\"type\":\"AllLabels\"},{\"attributes\":{\"axis\":{\"id\":\"1018\"},\"coordinates\":null,\"dimension\":1,\"group\":null,\"ticker\":null},\"id\":\"1021\",\"type\":\"Grid\"},{\"attributes\":{},\"id\":\"1012\",\"type\":\"LinearScale\"},{\"attributes\":{},\"id\":\"1049\",\"type\":\"UnionRenderers\"},{\"attributes\":{\"line_color\":\"#1f77b4\",\"line_width\":2,\"x\":{\"field\":\"x\"},\"y\":{\"field\":\"y\"}},\"id\":\"1037\",\"type\":\"Line\"},{\"attributes\":{},\"id\":\"1027\",\"type\":\"HelpTool\"},{\"attributes\":{\"axis_label\":\"y\",\"coordinates\":null,\"formatter\":{\"id\":\"1044\"},\"group\":null,\"major_label_policy\":{\"id\":\"1045\"},\"ticker\":{\"id\":\"1019\"}},\"id\":\"1018\",\"type\":\"LinearAxis\"},{\"attributes\":{},\"id\":\"1047\",\"type\":\"BasicTickFormatter\"},{\"attributes\":{\"coordinates\":null,\"data_source\":{\"id\":\"1036\"},\"glyph\":{\"id\":\"1037\"},\"group\":null,\"hover_glyph\":null,\"muted_glyph\":{\"id\":\"1039\"},\"nonselection_glyph\":{\"id\":\"1038\"},\"view\":{\"id\":\"1041\"}},\"id\":\"1040\",\"type\":\"GlyphRenderer\"},{\"attributes\":{},\"id\":\"1045\",\"type\":\"AllLabels\"},{\"attributes\":{},\"id\":\"1025\",\"type\":\"SaveTool\"},{\"attributes\":{\"tools\":[{\"id\":\"1022\"},{\"id\":\"1023\"},{\"id\":\"1024\"},{\"id\":\"1025\"},{\"id\":\"1026\"},{\"id\":\"1027\"}]},\"id\":\"1029\",\"type\":\"Toolbar\"}],\"root_ids\":[\"1003\"]},\"title\":\"Bokeh Application\",\"version\":\"2.4.3\"}};\n",
       "  const render_items = [{\"docid\":\"4e06665b-a31d-4a9d-924b-f4842b729fbb\",\"root_ids\":[\"1003\"],\"roots\":{\"1003\":\"ce862801-2c82-4be5-9ccc-0c0be6dcec59\"}}];\n",
       "  root.Bokeh.embed.embed_items_notebook(docs_json, render_items);\n",
       "  }\n",
       "  if (root.Bokeh !== undefined) {\n",
       "    embed_document(root);\n",
       "  } else {\n",
       "    let attempts = 0;\n",
       "    const timer = setInterval(function(root) {\n",
       "      if (root.Bokeh !== undefined) {\n",
       "        clearInterval(timer);\n",
       "        embed_document(root);\n",
       "      } else {\n",
       "        attempts++;\n",
       "        if (attempts > 100) {\n",
       "          clearInterval(timer);\n",
       "          console.log(\"Bokeh: ERROR: Unable to run BokehJS code because BokehJS library is missing\");\n",
       "        }\n",
       "      }\n",
       "    }, 10, root)\n",
       "  }\n",
       "})(window);"
      ],
      "application/vnd.bokehjs_exec.v0+json": ""
     },
     "metadata": {
      "application/vnd.bokehjs_exec.v0+json": {
       "id": "1003"
      }
     },
     "output_type": "display_data"
    }
   ],
   "source": [
    "# add a line renderer with legend and line thickness\n",
    "p.line(x, y, legend_label=\"Temp.\", line_width=2)\n",
    "show(p)"
   ]
  },
  {
   "cell_type": "markdown",
   "id": "487cb005",
   "metadata": {},
   "source": [
    "# Multiple Line Example"
   ]
  },
  {
   "cell_type": "code",
   "execution_count": 14,
   "id": "be0a93d9",
   "metadata": {},
   "outputs": [],
   "source": [
    "x = [1, 2, 3, 4, 5, 6]\n",
    "y1 = [2, 4, 6, 5, 8, 7]\n",
    "y2 = [6, 7, 5, 8, 7, 9]\n",
    "y3 = [1, 3, 4, 6, 9, 11]"
   ]
  },
  {
   "cell_type": "code",
   "execution_count": 15,
   "id": "16269a64",
   "metadata": {},
   "outputs": [],
   "source": [
    "# create a new plot with a title and axis labels\n",
    "p = figure(title='Multiple line graph', x_axis_label='x', y_axis_label='y')"
   ]
  },
  {
   "cell_type": "code",
   "execution_count": 16,
   "id": "858c670f",
   "metadata": {},
   "outputs": [
    {
     "data": {
      "text/html": [
       "\n",
       "  <div class=\"bk-root\" id=\"ff5caa9e-ec76-444d-87bb-fc3505ec3114\" data-root-id=\"1114\"></div>\n"
      ]
     },
     "metadata": {},
     "output_type": "display_data"
    },
    {
     "data": {
      "application/javascript": [
       "(function(root) {\n",
       "  function embed_document(root) {\n",
       "  const docs_json = {\"58c32c85-9f5f-4965-922c-d381fa63924a\":{\"defs\":[],\"roots\":{\"references\":[{\"attributes\":{\"below\":[{\"id\":\"1125\"}],\"center\":[{\"id\":\"1128\"},{\"id\":\"1132\"},{\"id\":\"1163\"}],\"left\":[{\"id\":\"1129\"}],\"renderers\":[{\"id\":\"1151\"},{\"id\":\"1169\"},{\"id\":\"1188\"}],\"title\":{\"id\":\"1115\"},\"toolbar\":{\"id\":\"1140\"},\"x_range\":{\"id\":\"1117\"},\"x_scale\":{\"id\":\"1121\"},\"y_range\":{\"id\":\"1119\"},\"y_scale\":{\"id\":\"1123\"}},\"id\":\"1114\",\"subtype\":\"Figure\",\"type\":\"Plot\"},{\"attributes\":{},\"id\":\"1123\",\"type\":\"LinearScale\"},{\"attributes\":{\"bottom_units\":\"screen\",\"coordinates\":null,\"fill_alpha\":0.5,\"fill_color\":\"lightgrey\",\"group\":null,\"left_units\":\"screen\",\"level\":\"overlay\",\"line_alpha\":1.0,\"line_color\":\"black\",\"line_dash\":[4,4],\"line_width\":2,\"right_units\":\"screen\",\"syncable\":false,\"top_units\":\"screen\"},\"id\":\"1139\",\"type\":\"BoxAnnotation\"},{\"attributes\":{\"coordinates\":null,\"group\":null,\"text\":\"Multiple line graph\"},\"id\":\"1115\",\"type\":\"Title\"},{\"attributes\":{\"coordinates\":null,\"data_source\":{\"id\":\"1147\"},\"glyph\":{\"id\":\"1148\"},\"group\":null,\"hover_glyph\":null,\"muted_glyph\":{\"id\":\"1150\"},\"nonselection_glyph\":{\"id\":\"1149\"},\"view\":{\"id\":\"1152\"}},\"id\":\"1151\",\"type\":\"GlyphRenderer\"},{\"attributes\":{},\"id\":\"1121\",\"type\":\"LinearScale\"},{\"attributes\":{\"line_alpha\":0.1,\"line_color\":\"red\",\"line_width\":2,\"x\":{\"field\":\"x\"},\"y\":{\"field\":\"y\"}},\"id\":\"1167\",\"type\":\"Line\"},{\"attributes\":{\"line_alpha\":0.1,\"line_color\":\"blue\",\"line_width\":2,\"x\":{\"field\":\"x\"},\"y\":{\"field\":\"y\"}},\"id\":\"1149\",\"type\":\"Line\"},{\"attributes\":{\"line_alpha\":0.2,\"line_color\":\"red\",\"line_width\":2,\"x\":{\"field\":\"x\"},\"y\":{\"field\":\"y\"}},\"id\":\"1168\",\"type\":\"Line\"},{\"attributes\":{\"axis_label\":\"y\",\"coordinates\":null,\"formatter\":{\"id\":\"1155\"},\"group\":null,\"major_label_policy\":{\"id\":\"1156\"},\"ticker\":{\"id\":\"1130\"}},\"id\":\"1129\",\"type\":\"LinearAxis\"},{\"attributes\":{},\"id\":\"1133\",\"type\":\"PanTool\"},{\"attributes\":{\"label\":{\"value\":\"Rate\"},\"renderers\":[{\"id\":\"1169\"}]},\"id\":\"1183\",\"type\":\"LegendItem\"},{\"attributes\":{\"data\":{\"x\":[1,2,3,4,5,6],\"y\":[1,3,4,6,9,11]},\"selected\":{\"id\":\"1202\"},\"selection_policy\":{\"id\":\"1201\"}},\"id\":\"1184\",\"type\":\"ColumnDataSource\"},{\"attributes\":{},\"id\":\"1137\",\"type\":\"ResetTool\"},{\"attributes\":{\"axis_label\":\"x\",\"coordinates\":null,\"formatter\":{\"id\":\"1158\"},\"group\":null,\"major_label_policy\":{\"id\":\"1159\"},\"ticker\":{\"id\":\"1126\"}},\"id\":\"1125\",\"type\":\"LinearAxis\"},{\"attributes\":{},\"id\":\"1117\",\"type\":\"DataRange1d\"},{\"attributes\":{},\"id\":\"1158\",\"type\":\"BasicTickFormatter\"},{\"attributes\":{\"coordinates\":null,\"group\":null,\"items\":[{\"id\":\"1164\"},{\"id\":\"1183\"},{\"id\":\"1204\"}]},\"id\":\"1163\",\"type\":\"Legend\"},{\"attributes\":{\"line_alpha\":0.2,\"line_color\":\"blue\",\"line_width\":2,\"x\":{\"field\":\"x\"},\"y\":{\"field\":\"y\"}},\"id\":\"1150\",\"type\":\"Line\"},{\"attributes\":{\"line_color\":\"green\",\"line_width\":2,\"x\":{\"field\":\"x\"},\"y\":{\"field\":\"y\"}},\"id\":\"1185\",\"type\":\"Line\"},{\"attributes\":{\"coordinates\":null,\"data_source\":{\"id\":\"1165\"},\"glyph\":{\"id\":\"1166\"},\"group\":null,\"hover_glyph\":null,\"muted_glyph\":{\"id\":\"1168\"},\"nonselection_glyph\":{\"id\":\"1167\"},\"view\":{\"id\":\"1170\"}},\"id\":\"1169\",\"type\":\"GlyphRenderer\"},{\"attributes\":{\"overlay\":{\"id\":\"1139\"}},\"id\":\"1135\",\"type\":\"BoxZoomTool\"},{\"attributes\":{},\"id\":\"1126\",\"type\":\"BasicTicker\"},{\"attributes\":{},\"id\":\"1159\",\"type\":\"AllLabels\"},{\"attributes\":{\"label\":{\"value\":\"Temp.\"},\"renderers\":[{\"id\":\"1151\"}]},\"id\":\"1164\",\"type\":\"LegendItem\"},{\"attributes\":{\"label\":{\"value\":\"Objects\"},\"renderers\":[{\"id\":\"1188\"}]},\"id\":\"1204\",\"type\":\"LegendItem\"},{\"attributes\":{},\"id\":\"1180\",\"type\":\"UnionRenderers\"},{\"attributes\":{},\"id\":\"1134\",\"type\":\"WheelZoomTool\"},{\"attributes\":{\"coordinates\":null,\"data_source\":{\"id\":\"1184\"},\"glyph\":{\"id\":\"1185\"},\"group\":null,\"hover_glyph\":null,\"muted_glyph\":{\"id\":\"1187\"},\"nonselection_glyph\":{\"id\":\"1186\"},\"view\":{\"id\":\"1189\"}},\"id\":\"1188\",\"type\":\"GlyphRenderer\"},{\"attributes\":{},\"id\":\"1160\",\"type\":\"UnionRenderers\"},{\"attributes\":{\"axis\":{\"id\":\"1125\"},\"coordinates\":null,\"group\":null,\"ticker\":null},\"id\":\"1128\",\"type\":\"Grid\"},{\"attributes\":{},\"id\":\"1136\",\"type\":\"SaveTool\"},{\"attributes\":{},\"id\":\"1155\",\"type\":\"BasicTickFormatter\"},{\"attributes\":{\"line_color\":\"red\",\"line_width\":2,\"x\":{\"field\":\"x\"},\"y\":{\"field\":\"y\"}},\"id\":\"1166\",\"type\":\"Line\"},{\"attributes\":{\"source\":{\"id\":\"1184\"}},\"id\":\"1189\",\"type\":\"CDSView\"},{\"attributes\":{\"tools\":[{\"id\":\"1133\"},{\"id\":\"1134\"},{\"id\":\"1135\"},{\"id\":\"1136\"},{\"id\":\"1137\"},{\"id\":\"1138\"}]},\"id\":\"1140\",\"type\":\"Toolbar\"},{\"attributes\":{\"data\":{\"x\":[1,2,3,4,5,6],\"y\":[6,7,5,8,7,9]},\"selected\":{\"id\":\"1181\"},\"selection_policy\":{\"id\":\"1180\"}},\"id\":\"1165\",\"type\":\"ColumnDataSource\"},{\"attributes\":{},\"id\":\"1161\",\"type\":\"Selection\"},{\"attributes\":{\"line_alpha\":0.2,\"line_color\":\"green\",\"line_width\":2,\"x\":{\"field\":\"x\"},\"y\":{\"field\":\"y\"}},\"id\":\"1187\",\"type\":\"Line\"},{\"attributes\":{\"line_color\":\"blue\",\"line_width\":2,\"x\":{\"field\":\"x\"},\"y\":{\"field\":\"y\"}},\"id\":\"1148\",\"type\":\"Line\"},{\"attributes\":{\"line_alpha\":0.1,\"line_color\":\"green\",\"line_width\":2,\"x\":{\"field\":\"x\"},\"y\":{\"field\":\"y\"}},\"id\":\"1186\",\"type\":\"Line\"},{\"attributes\":{},\"id\":\"1201\",\"type\":\"UnionRenderers\"},{\"attributes\":{\"axis\":{\"id\":\"1129\"},\"coordinates\":null,\"dimension\":1,\"group\":null,\"ticker\":null},\"id\":\"1132\",\"type\":\"Grid\"},{\"attributes\":{},\"id\":\"1119\",\"type\":\"DataRange1d\"},{\"attributes\":{},\"id\":\"1181\",\"type\":\"Selection\"},{\"attributes\":{},\"id\":\"1202\",\"type\":\"Selection\"},{\"attributes\":{\"data\":{\"x\":[1,2,3,4,5,6],\"y\":[2,4,6,5,8,7]},\"selected\":{\"id\":\"1161\"},\"selection_policy\":{\"id\":\"1160\"}},\"id\":\"1147\",\"type\":\"ColumnDataSource\"},{\"attributes\":{},\"id\":\"1130\",\"type\":\"BasicTicker\"},{\"attributes\":{},\"id\":\"1138\",\"type\":\"HelpTool\"},{\"attributes\":{},\"id\":\"1156\",\"type\":\"AllLabels\"},{\"attributes\":{\"source\":{\"id\":\"1147\"}},\"id\":\"1152\",\"type\":\"CDSView\"},{\"attributes\":{\"source\":{\"id\":\"1165\"}},\"id\":\"1170\",\"type\":\"CDSView\"}],\"root_ids\":[\"1114\"]},\"title\":\"Bokeh Application\",\"version\":\"2.4.3\"}};\n",
       "  const render_items = [{\"docid\":\"58c32c85-9f5f-4965-922c-d381fa63924a\",\"root_ids\":[\"1114\"],\"roots\":{\"1114\":\"ff5caa9e-ec76-444d-87bb-fc3505ec3114\"}}];\n",
       "  root.Bokeh.embed.embed_items_notebook(docs_json, render_items);\n",
       "  }\n",
       "  if (root.Bokeh !== undefined) {\n",
       "    embed_document(root);\n",
       "  } else {\n",
       "    let attempts = 0;\n",
       "    const timer = setInterval(function(root) {\n",
       "      if (root.Bokeh !== undefined) {\n",
       "        clearInterval(timer);\n",
       "        embed_document(root);\n",
       "      } else {\n",
       "        attempts++;\n",
       "        if (attempts > 100) {\n",
       "          clearInterval(timer);\n",
       "          console.log(\"Bokeh: ERROR: Unable to run BokehJS code because BokehJS library is missing\");\n",
       "        }\n",
       "      }\n",
       "    }, 10, root)\n",
       "  }\n",
       "})(window);"
      ],
      "application/vnd.bokehjs_exec.v0+json": ""
     },
     "metadata": {
      "application/vnd.bokehjs_exec.v0+json": {
       "id": "1114"
      }
     },
     "output_type": "display_data"
    }
   ],
   "source": [
    "p.line(x, y1, legend_label=\"Temp.\", color=\"blue\", line_width=2)\n",
    "p.line(x, y2, legend_label=\"Rate\", color=\"red\", line_width=2)\n",
    "p.line(x, y3, legend_label=\"Objects\", color=\"green\", line_width=2)\n",
    "show(p)"
   ]
  },
  {
   "cell_type": "markdown",
   "id": "61ea076d",
   "metadata": {},
   "source": [
    "# Adding Different Glyphs"
   ]
  },
  {
   "cell_type": "code",
   "execution_count": 17,
   "id": "74e776a4",
   "metadata": {},
   "outputs": [
    {
     "data": {
      "text/html": [
       "\n",
       "  <div class=\"bk-root\" id=\"4cfac7a3-40f4-4121-b6e7-79b8b2a7ba5d\" data-root-id=\"1299\"></div>\n"
      ]
     },
     "metadata": {},
     "output_type": "display_data"
    },
    {
     "data": {
      "application/javascript": [
       "(function(root) {\n",
       "  function embed_document(root) {\n",
       "  const docs_json = {\"5fbfd310-7e5a-4e1e-ba73-a8852d290a6e\":{\"defs\":[],\"roots\":{\"references\":[{\"attributes\":{\"below\":[{\"id\":\"1310\"}],\"center\":[{\"id\":\"1313\"},{\"id\":\"1317\"},{\"id\":\"1348\"}],\"left\":[{\"id\":\"1314\"}],\"renderers\":[{\"id\":\"1336\"},{\"id\":\"1354\"},{\"id\":\"1373\"}],\"title\":{\"id\":\"1300\"},\"toolbar\":{\"id\":\"1325\"},\"x_range\":{\"id\":\"1302\"},\"x_scale\":{\"id\":\"1306\"},\"y_range\":{\"id\":\"1304\"},\"y_scale\":{\"id\":\"1308\"}},\"id\":\"1299\",\"subtype\":\"Figure\",\"type\":\"Plot\"},{\"attributes\":{\"axis\":{\"id\":\"1314\"},\"coordinates\":null,\"dimension\":1,\"group\":null,\"ticker\":null},\"id\":\"1317\",\"type\":\"Grid\"},{\"attributes\":{},\"id\":\"1315\",\"type\":\"BasicTicker\"},{\"attributes\":{\"bottom_units\":\"screen\",\"coordinates\":null,\"fill_alpha\":0.5,\"fill_color\":\"lightgrey\",\"group\":null,\"left_units\":\"screen\",\"level\":\"overlay\",\"line_alpha\":1.0,\"line_color\":\"black\",\"line_dash\":[4,4],\"line_width\":2,\"right_units\":\"screen\",\"syncable\":false,\"top_units\":\"screen\"},\"id\":\"1324\",\"type\":\"BoxAnnotation\"},{\"attributes\":{\"fill_color\":{\"value\":\"black\"},\"size\":{\"value\":16},\"x\":{\"field\":\"x\"},\"y\":{\"field\":\"y\"}},\"id\":\"1370\",\"type\":\"Circle\"},{\"attributes\":{},\"id\":\"1344\",\"type\":\"AllLabels\"},{\"attributes\":{},\"id\":\"1322\",\"type\":\"ResetTool\"},{\"attributes\":{\"coordinates\":null,\"data_source\":{\"id\":\"1332\"},\"glyph\":{\"id\":\"1333\"},\"group\":null,\"hover_glyph\":null,\"muted_glyph\":{\"id\":\"1335\"},\"nonselection_glyph\":{\"id\":\"1334\"},\"view\":{\"id\":\"1337\"}},\"id\":\"1336\",\"type\":\"GlyphRenderer\"},{\"attributes\":{\"data\":{\"x\":[1,2,3,4,5],\"y\":[4,5,5,7,2]},\"selected\":{\"id\":\"1387\"},\"selection_policy\":{\"id\":\"1386\"}},\"id\":\"1369\",\"type\":\"ColumnDataSource\"},{\"attributes\":{},\"id\":\"1321\",\"type\":\"SaveTool\"},{\"attributes\":{\"source\":{\"id\":\"1350\"}},\"id\":\"1355\",\"type\":\"CDSView\"},{\"attributes\":{\"overlay\":{\"id\":\"1324\"}},\"id\":\"1320\",\"type\":\"BoxZoomTool\"},{\"attributes\":{\"fill_alpha\":{\"value\":0.2},\"fill_color\":{\"value\":\"purple\"},\"hatch_alpha\":{\"value\":0.2},\"hatch_color\":{\"value\":\"purple\"},\"line_alpha\":{\"value\":0.2},\"line_color\":{\"value\":\"purple\"},\"top\":{\"field\":\"top\"},\"width\":{\"value\":0.5},\"x\":{\"field\":\"x\"}},\"id\":\"1353\",\"type\":\"VBar\"},{\"attributes\":{},\"id\":\"1318\",\"type\":\"PanTool\"},{\"attributes\":{\"fill_alpha\":{\"value\":0.1},\"fill_color\":{\"value\":\"purple\"},\"hatch_alpha\":{\"value\":0.1},\"hatch_color\":{\"value\":\"purple\"},\"line_alpha\":{\"value\":0.1},\"line_color\":{\"value\":\"purple\"},\"top\":{\"field\":\"top\"},\"width\":{\"value\":0.5},\"x\":{\"field\":\"x\"}},\"id\":\"1352\",\"type\":\"VBar\"},{\"attributes\":{},\"id\":\"1323\",\"type\":\"HelpTool\"},{\"attributes\":{\"label\":{\"value\":\"Rate\"},\"renderers\":[{\"id\":\"1354\"}]},\"id\":\"1368\",\"type\":\"LegendItem\"},{\"attributes\":{},\"id\":\"1341\",\"type\":\"AllLabels\"},{\"attributes\":{\"coordinates\":null,\"group\":null,\"items\":[{\"id\":\"1349\"},{\"id\":\"1368\"},{\"id\":\"1389\"}]},\"id\":\"1348\",\"type\":\"Legend\"},{\"attributes\":{\"label\":{\"value\":\"Objects\"},\"renderers\":[{\"id\":\"1373\"}]},\"id\":\"1389\",\"type\":\"LegendItem\"},{\"attributes\":{\"source\":{\"id\":\"1369\"}},\"id\":\"1374\",\"type\":\"CDSView\"},{\"attributes\":{},\"id\":\"1365\",\"type\":\"UnionRenderers\"},{\"attributes\":{\"tools\":[{\"id\":\"1318\"},{\"id\":\"1319\"},{\"id\":\"1320\"},{\"id\":\"1321\"},{\"id\":\"1322\"},{\"id\":\"1323\"}]},\"id\":\"1325\",\"type\":\"Toolbar\"},{\"attributes\":{\"label\":{\"value\":\"Temp.\"},\"renderers\":[{\"id\":\"1336\"}]},\"id\":\"1349\",\"type\":\"LegendItem\"},{\"attributes\":{\"fill_color\":{\"value\":\"purple\"},\"hatch_color\":{\"value\":\"purple\"},\"line_color\":{\"value\":\"purple\"},\"top\":{\"field\":\"top\"},\"width\":{\"value\":0.5},\"x\":{\"field\":\"x\"}},\"id\":\"1351\",\"type\":\"VBar\"},{\"attributes\":{},\"id\":\"1343\",\"type\":\"BasicTickFormatter\"},{\"attributes\":{},\"id\":\"1387\",\"type\":\"Selection\"},{\"attributes\":{},\"id\":\"1366\",\"type\":\"Selection\"},{\"attributes\":{\"coordinates\":null,\"data_source\":{\"id\":\"1369\"},\"glyph\":{\"id\":\"1370\"},\"group\":null,\"hover_glyph\":null,\"muted_glyph\":{\"id\":\"1372\"},\"nonselection_glyph\":{\"id\":\"1371\"},\"view\":{\"id\":\"1374\"}},\"id\":\"1373\",\"type\":\"GlyphRenderer\"},{\"attributes\":{\"fill_alpha\":{\"value\":0.1},\"fill_color\":{\"value\":\"black\"},\"hatch_alpha\":{\"value\":0.1},\"line_alpha\":{\"value\":0.1},\"size\":{\"value\":16},\"x\":{\"field\":\"x\"},\"y\":{\"field\":\"y\"}},\"id\":\"1371\",\"type\":\"Circle\"},{\"attributes\":{\"line_color\":\"orange\",\"line_width\":3,\"x\":{\"field\":\"x\"},\"y\":{\"field\":\"y\"}},\"id\":\"1333\",\"type\":\"Line\"},{\"attributes\":{},\"id\":\"1340\",\"type\":\"BasicTickFormatter\"},{\"attributes\":{},\"id\":\"1302\",\"type\":\"DataRange1d\"},{\"attributes\":{\"source\":{\"id\":\"1332\"}},\"id\":\"1337\",\"type\":\"CDSView\"},{\"attributes\":{},\"id\":\"1386\",\"type\":\"UnionRenderers\"},{\"attributes\":{\"line_alpha\":0.1,\"line_color\":\"orange\",\"line_width\":3,\"x\":{\"field\":\"x\"},\"y\":{\"field\":\"y\"}},\"id\":\"1334\",\"type\":\"Line\"},{\"attributes\":{\"data\":{\"x\":[1,2,3,4,5],\"y\":[6,7,2,4,5]},\"selected\":{\"id\":\"1346\"},\"selection_policy\":{\"id\":\"1345\"}},\"id\":\"1332\",\"type\":\"ColumnDataSource\"},{\"attributes\":{\"data\":{\"top\":[2,3,4,5,6],\"x\":[1,2,3,4,5]},\"selected\":{\"id\":\"1366\"},\"selection_policy\":{\"id\":\"1365\"}},\"id\":\"1350\",\"type\":\"ColumnDataSource\"},{\"attributes\":{\"fill_alpha\":{\"value\":0.2},\"fill_color\":{\"value\":\"black\"},\"hatch_alpha\":{\"value\":0.2},\"line_alpha\":{\"value\":0.2},\"size\":{\"value\":16},\"x\":{\"field\":\"x\"},\"y\":{\"field\":\"y\"}},\"id\":\"1372\",\"type\":\"Circle\"},{\"attributes\":{},\"id\":\"1304\",\"type\":\"DataRange1d\"},{\"attributes\":{},\"id\":\"1308\",\"type\":\"LinearScale\"},{\"attributes\":{\"coordinates\":null,\"group\":null,\"text\":\"Multiple glyphs\"},\"id\":\"1300\",\"type\":\"Title\"},{\"attributes\":{},\"id\":\"1345\",\"type\":\"UnionRenderers\"},{\"attributes\":{},\"id\":\"1311\",\"type\":\"BasicTicker\"},{\"attributes\":{\"axis\":{\"id\":\"1310\"},\"coordinates\":null,\"group\":null,\"ticker\":null},\"id\":\"1313\",\"type\":\"Grid\"},{\"attributes\":{},\"id\":\"1306\",\"type\":\"LinearScale\"},{\"attributes\":{\"line_alpha\":0.2,\"line_color\":\"orange\",\"line_width\":3,\"x\":{\"field\":\"x\"},\"y\":{\"field\":\"y\"}},\"id\":\"1335\",\"type\":\"Line\"},{\"attributes\":{\"axis_label\":\"x\",\"coordinates\":null,\"formatter\":{\"id\":\"1343\"},\"group\":null,\"major_label_policy\":{\"id\":\"1344\"},\"ticker\":{\"id\":\"1311\"}},\"id\":\"1310\",\"type\":\"LinearAxis\"},{\"attributes\":{},\"id\":\"1319\",\"type\":\"WheelZoomTool\"},{\"attributes\":{},\"id\":\"1346\",\"type\":\"Selection\"},{\"attributes\":{\"coordinates\":null,\"data_source\":{\"id\":\"1350\"},\"glyph\":{\"id\":\"1351\"},\"group\":null,\"hover_glyph\":null,\"muted_glyph\":{\"id\":\"1353\"},\"nonselection_glyph\":{\"id\":\"1352\"},\"view\":{\"id\":\"1355\"}},\"id\":\"1354\",\"type\":\"GlyphRenderer\"},{\"attributes\":{\"axis_label\":\"y\",\"coordinates\":null,\"formatter\":{\"id\":\"1340\"},\"group\":null,\"major_label_policy\":{\"id\":\"1341\"},\"ticker\":{\"id\":\"1315\"}},\"id\":\"1314\",\"type\":\"LinearAxis\"}],\"root_ids\":[\"1299\"]},\"title\":\"Bokeh Application\",\"version\":\"2.4.3\"}};\n",
       "  const render_items = [{\"docid\":\"5fbfd310-7e5a-4e1e-ba73-a8852d290a6e\",\"root_ids\":[\"1299\"],\"roots\":{\"1299\":\"4cfac7a3-40f4-4121-b6e7-79b8b2a7ba5d\"}}];\n",
       "  root.Bokeh.embed.embed_items_notebook(docs_json, render_items);\n",
       "  }\n",
       "  if (root.Bokeh !== undefined) {\n",
       "    embed_document(root);\n",
       "  } else {\n",
       "    let attempts = 0;\n",
       "    const timer = setInterval(function(root) {\n",
       "      if (root.Bokeh !== undefined) {\n",
       "        clearInterval(timer);\n",
       "        embed_document(root);\n",
       "      } else {\n",
       "        attempts++;\n",
       "        if (attempts > 100) {\n",
       "          clearInterval(timer);\n",
       "          console.log(\"Bokeh: ERROR: Unable to run BokehJS code because BokehJS library is missing\");\n",
       "        }\n",
       "      }\n",
       "    }, 10, root)\n",
       "  }\n",
       "})(window);"
      ],
      "application/vnd.bokehjs_exec.v0+json": ""
     },
     "metadata": {
      "application/vnd.bokehjs_exec.v0+json": {
       "id": "1299"
      }
     },
     "output_type": "display_data"
    }
   ],
   "source": [
    "x = [1, 2, 3, 4, 5]\n",
    "y1 = [6, 7, 2, 4, 5]\n",
    "y2 = [2, 3, 4, 5, 6]\n",
    "y3 = [4, 5, 5, 7, 2]\n",
    "\n",
    "# create a new plot with a title and axis labels\n",
    "p = figure(title=\"Multiple glyphs\", x_axis_label=\"x\", y_axis_label=\"y\")\n",
    "\n",
    "# add multiple renderers\n",
    "p.line(x, y1, legend_label=\"Temp.\", color=\"orange\", line_width=3)\n",
    "p.vbar(x=x, top=y2, legend_label=\"Rate\", color=\"purple\", width=0.5, bottom=0)\n",
    "p.circle(x, y3, legend_label=\"Objects\", color=\"black\", size=16)\n",
    "\n",
    "# show the results\n",
    "show(p)"
   ]
  },
  {
   "cell_type": "markdown",
   "id": "e54b6af2",
   "metadata": {},
   "source": [
    "# Glyph Properties"
   ]
  },
  {
   "cell_type": "code",
   "execution_count": 18,
   "id": "e5ed2baa",
   "metadata": {},
   "outputs": [
    {
     "data": {
      "text/html": [
       "\n",
       "  <div class=\"bk-root\" id=\"b7614989-9909-4acd-a863-d94ba2d4b833\" data-root-id=\"1498\"></div>\n"
      ]
     },
     "metadata": {},
     "output_type": "display_data"
    },
    {
     "data": {
      "application/javascript": [
       "(function(root) {\n",
       "  function embed_document(root) {\n",
       "  const docs_json = {\"07e0a8f1-be37-4acd-a537-e1bb15cb93b4\":{\"defs\":[],\"roots\":{\"references\":[{\"attributes\":{\"below\":[{\"id\":\"1509\"}],\"center\":[{\"id\":\"1512\"},{\"id\":\"1516\"},{\"id\":\"1547\"}],\"left\":[{\"id\":\"1513\"}],\"renderers\":[{\"id\":\"1535\"}],\"title\":{\"id\":\"1499\"},\"toolbar\":{\"id\":\"1524\"},\"x_range\":{\"id\":\"1501\"},\"x_scale\":{\"id\":\"1505\"},\"y_range\":{\"id\":\"1503\"},\"y_scale\":{\"id\":\"1507\"}},\"id\":\"1498\",\"subtype\":\"Figure\",\"type\":\"Plot\"},{\"attributes\":{\"axis\":{\"id\":\"1513\"},\"coordinates\":null,\"dimension\":1,\"group\":null,\"ticker\":null},\"id\":\"1516\",\"type\":\"Grid\"},{\"attributes\":{},\"id\":\"1507\",\"type\":\"LinearScale\"},{\"attributes\":{},\"id\":\"1544\",\"type\":\"UnionRenderers\"},{\"attributes\":{},\"id\":\"1518\",\"type\":\"WheelZoomTool\"},{\"attributes\":{\"axis_label\":\"x\",\"coordinates\":null,\"formatter\":{\"id\":\"1542\"},\"group\":null,\"major_label_policy\":{\"id\":\"1543\"},\"ticker\":{\"id\":\"1510\"}},\"id\":\"1509\",\"type\":\"LinearAxis\"},{\"attributes\":{\"axis\":{\"id\":\"1509\"},\"coordinates\":null,\"group\":null,\"ticker\":null},\"id\":\"1512\",\"type\":\"Grid\"},{\"attributes\":{},\"id\":\"1505\",\"type\":\"LinearScale\"},{\"attributes\":{\"axis_label\":\"y\",\"coordinates\":null,\"formatter\":{\"id\":\"1539\"},\"group\":null,\"major_label_policy\":{\"id\":\"1540\"},\"ticker\":{\"id\":\"1514\"}},\"id\":\"1513\",\"type\":\"LinearAxis\"},{\"attributes\":{},\"id\":\"1501\",\"type\":\"DataRange1d\"},{\"attributes\":{\"coordinates\":null,\"group\":null,\"text\":\"Glyphs properties\"},\"id\":\"1499\",\"type\":\"Title\"},{\"attributes\":{\"fill_alpha\":{\"value\":0.5},\"fill_color\":{\"value\":\"red\"},\"line_color\":{\"value\":\"blue\"},\"size\":{\"value\":60},\"x\":{\"field\":\"x\"},\"y\":{\"field\":\"y\"}},\"id\":\"1532\",\"type\":\"Circle\"},{\"attributes\":{},\"id\":\"1543\",\"type\":\"AllLabels\"},{\"attributes\":{},\"id\":\"1521\",\"type\":\"ResetTool\"},{\"attributes\":{\"data\":{\"x\":[1,2,3,4,5],\"y\":[4,5,5,7,2]},\"selected\":{\"id\":\"1545\"},\"selection_policy\":{\"id\":\"1544\"}},\"id\":\"1531\",\"type\":\"ColumnDataSource\"},{\"attributes\":{\"overlay\":{\"id\":\"1523\"}},\"id\":\"1519\",\"type\":\"BoxZoomTool\"},{\"attributes\":{},\"id\":\"1503\",\"type\":\"DataRange1d\"},{\"attributes\":{},\"id\":\"1514\",\"type\":\"BasicTicker\"},{\"attributes\":{\"fill_alpha\":{\"value\":0.1},\"fill_color\":{\"value\":\"red\"},\"hatch_alpha\":{\"value\":0.1},\"line_alpha\":{\"value\":0.1},\"line_color\":{\"value\":\"blue\"},\"size\":{\"value\":60},\"x\":{\"field\":\"x\"},\"y\":{\"field\":\"y\"}},\"id\":\"1533\",\"type\":\"Circle\"},{\"attributes\":{\"bottom_units\":\"screen\",\"coordinates\":null,\"fill_alpha\":0.5,\"fill_color\":\"lightgrey\",\"group\":null,\"left_units\":\"screen\",\"level\":\"overlay\",\"line_alpha\":1.0,\"line_color\":\"black\",\"line_dash\":[4,4],\"line_width\":2,\"right_units\":\"screen\",\"syncable\":false,\"top_units\":\"screen\"},\"id\":\"1523\",\"type\":\"BoxAnnotation\"},{\"attributes\":{\"label\":{\"value\":\"Objects\"},\"renderers\":[{\"id\":\"1535\"}]},\"id\":\"1548\",\"type\":\"LegendItem\"},{\"attributes\":{\"coordinates\":null,\"data_source\":{\"id\":\"1531\"},\"glyph\":{\"id\":\"1532\"},\"group\":null,\"hover_glyph\":null,\"muted_glyph\":{\"id\":\"1534\"},\"nonselection_glyph\":{\"id\":\"1533\"},\"view\":{\"id\":\"1536\"}},\"id\":\"1535\",\"type\":\"GlyphRenderer\"},{\"attributes\":{\"coordinates\":null,\"group\":null,\"items\":[{\"id\":\"1548\"}]},\"id\":\"1547\",\"type\":\"Legend\"},{\"attributes\":{\"source\":{\"id\":\"1531\"}},\"id\":\"1536\",\"type\":\"CDSView\"},{\"attributes\":{\"fill_alpha\":{\"value\":0.2},\"fill_color\":{\"value\":\"red\"},\"hatch_alpha\":{\"value\":0.2},\"line_alpha\":{\"value\":0.2},\"line_color\":{\"value\":\"blue\"},\"size\":{\"value\":60},\"x\":{\"field\":\"x\"},\"y\":{\"field\":\"y\"}},\"id\":\"1534\",\"type\":\"Circle\"},{\"attributes\":{},\"id\":\"1520\",\"type\":\"SaveTool\"},{\"attributes\":{},\"id\":\"1542\",\"type\":\"BasicTickFormatter\"},{\"attributes\":{},\"id\":\"1522\",\"type\":\"HelpTool\"},{\"attributes\":{},\"id\":\"1540\",\"type\":\"AllLabels\"},{\"attributes\":{},\"id\":\"1510\",\"type\":\"BasicTicker\"},{\"attributes\":{},\"id\":\"1517\",\"type\":\"PanTool\"},{\"attributes\":{},\"id\":\"1539\",\"type\":\"BasicTickFormatter\"},{\"attributes\":{\"tools\":[{\"id\":\"1517\"},{\"id\":\"1518\"},{\"id\":\"1519\"},{\"id\":\"1520\"},{\"id\":\"1521\"},{\"id\":\"1522\"}]},\"id\":\"1524\",\"type\":\"Toolbar\"},{\"attributes\":{},\"id\":\"1545\",\"type\":\"Selection\"}],\"root_ids\":[\"1498\"]},\"title\":\"Bokeh Application\",\"version\":\"2.4.3\"}};\n",
       "  const render_items = [{\"docid\":\"07e0a8f1-be37-4acd-a537-e1bb15cb93b4\",\"root_ids\":[\"1498\"],\"roots\":{\"1498\":\"b7614989-9909-4acd-a863-d94ba2d4b833\"}}];\n",
       "  root.Bokeh.embed.embed_items_notebook(docs_json, render_items);\n",
       "  }\n",
       "  if (root.Bokeh !== undefined) {\n",
       "    embed_document(root);\n",
       "  } else {\n",
       "    let attempts = 0;\n",
       "    const timer = setInterval(function(root) {\n",
       "      if (root.Bokeh !== undefined) {\n",
       "        clearInterval(timer);\n",
       "        embed_document(root);\n",
       "      } else {\n",
       "        attempts++;\n",
       "        if (attempts > 100) {\n",
       "          clearInterval(timer);\n",
       "          console.log(\"Bokeh: ERROR: Unable to run BokehJS code because BokehJS library is missing\");\n",
       "        }\n",
       "      }\n",
       "    }, 10, root)\n",
       "  }\n",
       "})(window);"
      ],
      "application/vnd.bokehjs_exec.v0+json": ""
     },
     "metadata": {
      "application/vnd.bokehjs_exec.v0+json": {
       "id": "1498"
      }
     },
     "output_type": "display_data"
    }
   ],
   "source": [
    "x = [1, 2, 3, 4, 5]\n",
    "y = [4, 5, 5, 7, 2]\n",
    "\n",
    "# create a new plot with a title and axis labels\n",
    "p = figure(title=\"Glyphs properties\", x_axis_label=\"x\", y_axis_label=\"y\")\n",
    "\n",
    "# add circle renderer with additional arguments\n",
    "p.circle(x, y, legend_label=\"Objects\", fill_color=\"red\", fill_alpha=0.5, line_color=\"blue\", size=60,)\n",
    "\n",
    "# show the results\n",
    "show(p)"
   ]
  },
  {
   "cell_type": "markdown",
   "id": "1d3a2eb8",
   "metadata": {},
   "source": [
    "# Alter Existing Glyph"
   ]
  },
  {
   "cell_type": "code",
   "execution_count": 19,
   "id": "d8334f60",
   "metadata": {},
   "outputs": [],
   "source": [
    "circle = p.circle(x, y, legend_label='Objects', fill_color='red', fill_alpha = 0.5, line_color='blue', size= 60)"
   ]
  },
  {
   "cell_type": "code",
   "execution_count": 20,
   "id": "cd70df6d",
   "metadata": {},
   "outputs": [],
   "source": [
    "glyph = circle.glyph\n",
    "glyph.fill_color = \"#554433\""
   ]
  },
  {
   "cell_type": "code",
   "execution_count": 21,
   "id": "400f2373",
   "metadata": {},
   "outputs": [
    {
     "data": {
      "text/html": [
       "\n",
       "  <div class=\"bk-root\" id=\"1febb5e5-7f48-426d-a16b-a6a4883b5482\" data-root-id=\"1765\"></div>\n"
      ]
     },
     "metadata": {},
     "output_type": "display_data"
    },
    {
     "data": {
      "application/javascript": [
       "(function(root) {\n",
       "  function embed_document(root) {\n",
       "  const docs_json = {\"b391c764-54bc-4e22-8c54-c0489f2882a8\":{\"defs\":[],\"roots\":{\"references\":[{\"attributes\":{\"below\":[{\"id\":\"1776\"}],\"center\":[{\"id\":\"1779\"},{\"id\":\"1783\"},{\"id\":\"1814\"}],\"left\":[{\"id\":\"1780\"}],\"renderers\":[{\"id\":\"1802\"}],\"title\":{\"id\":\"1766\"},\"toolbar\":{\"id\":\"1791\"},\"x_range\":{\"id\":\"1768\"},\"x_scale\":{\"id\":\"1772\"},\"y_range\":{\"id\":\"1770\"},\"y_scale\":{\"id\":\"1774\"}},\"id\":\"1765\",\"subtype\":\"Figure\",\"type\":\"Plot\"},{\"attributes\":{},\"id\":\"1812\",\"type\":\"Selection\"},{\"attributes\":{\"data\":{\"x\":[1,2,3,4,5],\"y\":[4,5,5,7,2]},\"selected\":{\"id\":\"1812\"},\"selection_policy\":{\"id\":\"1811\"}},\"id\":\"1798\",\"type\":\"ColumnDataSource\"},{\"attributes\":{\"label\":{\"value\":\"Objects\"},\"renderers\":[{\"id\":\"1802\"}]},\"id\":\"1815\",\"type\":\"LegendItem\"},{\"attributes\":{\"source\":{\"id\":\"1798\"}},\"id\":\"1803\",\"type\":\"CDSView\"},{\"attributes\":{},\"id\":\"1788\",\"type\":\"ResetTool\"},{\"attributes\":{},\"id\":\"1787\",\"type\":\"SaveTool\"},{\"attributes\":{\"overlay\":{\"id\":\"1790\"}},\"id\":\"1786\",\"type\":\"BoxZoomTool\"},{\"attributes\":{},\"id\":\"1784\",\"type\":\"PanTool\"},{\"attributes\":{},\"id\":\"1789\",\"type\":\"HelpTool\"},{\"attributes\":{\"coordinates\":null,\"group\":null,\"items\":[{\"id\":\"1815\"}]},\"id\":\"1814\",\"type\":\"Legend\"},{\"attributes\":{},\"id\":\"1781\",\"type\":\"BasicTicker\"},{\"attributes\":{\"fill_alpha\":{\"value\":0.1},\"fill_color\":{\"value\":\"red\"},\"hatch_alpha\":{\"value\":0.1},\"line_alpha\":{\"value\":0.1},\"line_color\":{\"value\":\"blue\"},\"size\":{\"value\":60},\"x\":{\"field\":\"x\"},\"y\":{\"field\":\"y\"}},\"id\":\"1800\",\"type\":\"Circle\"},{\"attributes\":{\"axis\":{\"id\":\"1780\"},\"coordinates\":null,\"dimension\":1,\"group\":null,\"ticker\":null},\"id\":\"1783\",\"type\":\"Grid\"},{\"attributes\":{\"axis_label\":\"y\",\"coordinates\":null,\"formatter\":{\"id\":\"1806\"},\"group\":null,\"major_label_policy\":{\"id\":\"1807\"},\"ticker\":{\"id\":\"1781\"}},\"id\":\"1780\",\"type\":\"LinearAxis\"},{\"attributes\":{\"fill_alpha\":{\"value\":0.2},\"fill_color\":{\"value\":\"red\"},\"hatch_alpha\":{\"value\":0.2},\"line_alpha\":{\"value\":0.2},\"line_color\":{\"value\":\"blue\"},\"size\":{\"value\":60},\"x\":{\"field\":\"x\"},\"y\":{\"field\":\"y\"}},\"id\":\"1801\",\"type\":\"Circle\"},{\"attributes\":{\"coordinates\":null,\"data_source\":{\"id\":\"1798\"},\"glyph\":{\"id\":\"1799\"},\"group\":null,\"hover_glyph\":null,\"muted_glyph\":{\"id\":\"1801\"},\"nonselection_glyph\":{\"id\":\"1800\"},\"view\":{\"id\":\"1803\"}},\"id\":\"1802\",\"type\":\"GlyphRenderer\"},{\"attributes\":{},\"id\":\"1785\",\"type\":\"WheelZoomTool\"},{\"attributes\":{\"bottom_units\":\"screen\",\"coordinates\":null,\"fill_alpha\":0.5,\"fill_color\":\"lightgrey\",\"group\":null,\"left_units\":\"screen\",\"level\":\"overlay\",\"line_alpha\":1.0,\"line_color\":\"black\",\"line_dash\":[4,4],\"line_width\":2,\"right_units\":\"screen\",\"syncable\":false,\"top_units\":\"screen\"},\"id\":\"1790\",\"type\":\"BoxAnnotation\"},{\"attributes\":{},\"id\":\"1811\",\"type\":\"UnionRenderers\"},{\"attributes\":{\"fill_alpha\":{\"value\":0.5},\"fill_color\":{\"value\":\"#554433\"},\"line_color\":{\"value\":\"blue\"},\"size\":{\"value\":60},\"x\":{\"field\":\"x\"},\"y\":{\"field\":\"y\"}},\"id\":\"1799\",\"type\":\"Circle\"},{\"attributes\":{},\"id\":\"1810\",\"type\":\"AllLabels\"},{\"attributes\":{},\"id\":\"1807\",\"type\":\"AllLabels\"},{\"attributes\":{},\"id\":\"1768\",\"type\":\"DataRange1d\"},{\"attributes\":{},\"id\":\"1809\",\"type\":\"BasicTickFormatter\"},{\"attributes\":{\"coordinates\":null,\"group\":null,\"text\":\"Glyphs properties\"},\"id\":\"1766\",\"type\":\"Title\"},{\"attributes\":{},\"id\":\"1774\",\"type\":\"LinearScale\"},{\"attributes\":{},\"id\":\"1770\",\"type\":\"DataRange1d\"},{\"attributes\":{},\"id\":\"1806\",\"type\":\"BasicTickFormatter\"},{\"attributes\":{\"axis\":{\"id\":\"1776\"},\"coordinates\":null,\"group\":null,\"ticker\":null},\"id\":\"1779\",\"type\":\"Grid\"},{\"attributes\":{},\"id\":\"1772\",\"type\":\"LinearScale\"},{\"attributes\":{\"tools\":[{\"id\":\"1784\"},{\"id\":\"1785\"},{\"id\":\"1786\"},{\"id\":\"1787\"},{\"id\":\"1788\"},{\"id\":\"1789\"}]},\"id\":\"1791\",\"type\":\"Toolbar\"},{\"attributes\":{\"axis_label\":\"x\",\"coordinates\":null,\"formatter\":{\"id\":\"1809\"},\"group\":null,\"major_label_policy\":{\"id\":\"1810\"},\"ticker\":{\"id\":\"1777\"}},\"id\":\"1776\",\"type\":\"LinearAxis\"},{\"attributes\":{},\"id\":\"1777\",\"type\":\"BasicTicker\"}],\"root_ids\":[\"1765\"]},\"title\":\"Bokeh Application\",\"version\":\"2.4.3\"}};\n",
       "  const render_items = [{\"docid\":\"b391c764-54bc-4e22-8c54-c0489f2882a8\",\"root_ids\":[\"1765\"],\"roots\":{\"1765\":\"1febb5e5-7f48-426d-a16b-a6a4883b5482\"}}];\n",
       "  root.Bokeh.embed.embed_items_notebook(docs_json, render_items);\n",
       "  }\n",
       "  if (root.Bokeh !== undefined) {\n",
       "    embed_document(root);\n",
       "  } else {\n",
       "    let attempts = 0;\n",
       "    const timer = setInterval(function(root) {\n",
       "      if (root.Bokeh !== undefined) {\n",
       "        clearInterval(timer);\n",
       "        embed_document(root);\n",
       "      } else {\n",
       "        attempts++;\n",
       "        if (attempts > 100) {\n",
       "          clearInterval(timer);\n",
       "          console.log(\"Bokeh: ERROR: Unable to run BokehJS code because BokehJS library is missing\");\n",
       "        }\n",
       "      }\n",
       "    }, 10, root)\n",
       "  }\n",
       "})(window);"
      ],
      "application/vnd.bokehjs_exec.v0+json": ""
     },
     "metadata": {
      "application/vnd.bokehjs_exec.v0+json": {
       "id": "1765"
      }
     },
     "output_type": "display_data"
    }
   ],
   "source": [
    "x = [1, 2, 3, 4, 5]\n",
    "y = [4, 5, 5, 7, 2]\n",
    "\n",
    "# create a new plot with a title and axis labels\n",
    "p = figure(title=\"Glyphs properties\", x_axis_label=\"x\", y_axis_label=\"y\")\n",
    "\n",
    "# add circle renderer with additional arguments\n",
    "circle= p.circle(x, y, legend_label=\"Objects\", fill_color=\"red\", fill_alpha=0.5, line_color=\"blue\", size=60,)\n",
    "\n",
    "glyph = circle.glyph\n",
    "glyph.fill_color = \"#554433\"\n",
    "# show the results\n",
    "show(p)"
   ]
  },
  {
   "cell_type": "markdown",
   "id": "268aa501",
   "metadata": {},
   "source": [
    " # Adding and Styling Legend"
   ]
  },
  {
   "cell_type": "code",
   "execution_count": 22,
   "id": "c566243f",
   "metadata": {},
   "outputs": [
    {
     "data": {
      "text/html": [
       "\n",
       "  <div class=\"bk-root\" id=\"03de8e19-ad1e-42f2-9ca3-46bf1bb053a6\" data-root-id=\"1926\"></div>\n"
      ]
     },
     "metadata": {},
     "output_type": "display_data"
    },
    {
     "data": {
      "application/javascript": [
       "(function(root) {\n",
       "  function embed_document(root) {\n",
       "  const docs_json = {\"2bc6cb70-4604-4153-9030-ddd84dd7fe0a\":{\"defs\":[],\"roots\":{\"references\":[{\"attributes\":{\"below\":[{\"id\":\"1937\"}],\"center\":[{\"id\":\"1940\"},{\"id\":\"1944\"},{\"id\":\"1975\"}],\"left\":[{\"id\":\"1941\"}],\"renderers\":[{\"id\":\"1963\"},{\"id\":\"1981\"}],\"title\":{\"id\":\"1927\"},\"toolbar\":{\"id\":\"1952\"},\"x_range\":{\"id\":\"1929\"},\"x_scale\":{\"id\":\"1933\"},\"y_range\":{\"id\":\"1931\"},\"y_scale\":{\"id\":\"1935\"}},\"id\":\"1926\",\"subtype\":\"Figure\",\"type\":\"Plot\"},{\"attributes\":{},\"id\":\"1935\",\"type\":\"LinearScale\"},{\"attributes\":{\"coordinates\":null,\"group\":null,\"text\":\"Legend\"},\"id\":\"1927\",\"type\":\"Title\"},{\"attributes\":{\"coordinates\":null,\"formatter\":{\"id\":\"1967\"},\"group\":null,\"major_label_policy\":{\"id\":\"1968\"},\"ticker\":{\"id\":\"1942\"}},\"id\":\"1941\",\"type\":\"LinearAxis\"},{\"attributes\":{},\"id\":\"1938\",\"type\":\"BasicTicker\"},{\"attributes\":{\"line_alpha\":0.2,\"line_color\":\"blue\",\"line_width\":2,\"x\":{\"field\":\"x\"},\"y\":{\"field\":\"y\"}},\"id\":\"1962\",\"type\":\"Line\"},{\"attributes\":{},\"id\":\"1967\",\"type\":\"BasicTickFormatter\"},{\"attributes\":{\"axis\":{\"id\":\"1937\"},\"coordinates\":null,\"group\":null,\"ticker\":null},\"id\":\"1940\",\"type\":\"Grid\"},{\"attributes\":{},\"id\":\"1933\",\"type\":\"LinearScale\"},{\"attributes\":{\"fill_alpha\":{\"value\":0.5},\"fill_color\":{\"value\":\"red\"},\"line_color\":{\"value\":\"blue\"},\"size\":{\"value\":60},\"x\":{\"field\":\"x\"},\"y\":{\"field\":\"y\"}},\"id\":\"1978\",\"type\":\"Circle\"},{\"attributes\":{\"coordinates\":null,\"formatter\":{\"id\":\"1970\"},\"group\":null,\"major_label_policy\":{\"id\":\"1971\"},\"ticker\":{\"id\":\"1938\"}},\"id\":\"1937\",\"type\":\"LinearAxis\"},{\"attributes\":{},\"id\":\"1950\",\"type\":\"HelpTool\"},{\"attributes\":{\"coordinates\":null,\"data_source\":{\"id\":\"1977\"},\"glyph\":{\"id\":\"1978\"},\"group\":null,\"hover_glyph\":null,\"muted_glyph\":{\"id\":\"1980\"},\"nonselection_glyph\":{\"id\":\"1979\"},\"view\":{\"id\":\"1982\"}},\"id\":\"1981\",\"type\":\"GlyphRenderer\"},{\"attributes\":{\"label\":{\"value\":\"Temp.\"},\"renderers\":[{\"id\":\"1963\"}]},\"id\":\"1976\",\"type\":\"LegendItem\"},{\"attributes\":{\"bottom_units\":\"screen\",\"coordinates\":null,\"fill_alpha\":0.5,\"fill_color\":\"lightgrey\",\"group\":null,\"left_units\":\"screen\",\"level\":\"overlay\",\"line_alpha\":1.0,\"line_color\":\"black\",\"line_dash\":[4,4],\"line_width\":2,\"right_units\":\"screen\",\"syncable\":false,\"top_units\":\"screen\"},\"id\":\"1951\",\"type\":\"BoxAnnotation\"},{\"attributes\":{\"data\":{\"x\":[1,2,3,4,5],\"y\":[4,5,5,7,2]},\"selected\":{\"id\":\"1973\"},\"selection_policy\":{\"id\":\"1972\"}},\"id\":\"1959\",\"type\":\"ColumnDataSource\"},{\"attributes\":{\"axis\":{\"id\":\"1941\"},\"coordinates\":null,\"dimension\":1,\"group\":null,\"ticker\":null},\"id\":\"1944\",\"type\":\"Grid\"},{\"attributes\":{\"label\":{\"value\":\"Objects\"},\"renderers\":[{\"id\":\"1981\"}]},\"id\":\"1995\",\"type\":\"LegendItem\"},{\"attributes\":{},\"id\":\"1942\",\"type\":\"BasicTicker\"},{\"attributes\":{\"data\":{\"x\":[1,2,3,4,5],\"y\":[2,3,4,5,6]},\"selected\":{\"id\":\"1993\"},\"selection_policy\":{\"id\":\"1992\"}},\"id\":\"1977\",\"type\":\"ColumnDataSource\"},{\"attributes\":{},\"id\":\"1946\",\"type\":\"WheelZoomTool\"},{\"attributes\":{},\"id\":\"1945\",\"type\":\"PanTool\"},{\"attributes\":{\"overlay\":{\"id\":\"1951\"}},\"id\":\"1947\",\"type\":\"BoxZoomTool\"},{\"attributes\":{},\"id\":\"1992\",\"type\":\"UnionRenderers\"},{\"attributes\":{\"fill_alpha\":{\"value\":0.2},\"fill_color\":{\"value\":\"red\"},\"hatch_alpha\":{\"value\":0.2},\"line_alpha\":{\"value\":0.2},\"line_color\":{\"value\":\"blue\"},\"size\":{\"value\":60},\"x\":{\"field\":\"x\"},\"y\":{\"field\":\"y\"}},\"id\":\"1980\",\"type\":\"Circle\"},{\"attributes\":{},\"id\":\"1948\",\"type\":\"SaveTool\"},{\"attributes\":{\"fill_alpha\":{\"value\":0.1},\"fill_color\":{\"value\":\"red\"},\"hatch_alpha\":{\"value\":0.1},\"line_alpha\":{\"value\":0.1},\"line_color\":{\"value\":\"blue\"},\"size\":{\"value\":60},\"x\":{\"field\":\"x\"},\"y\":{\"field\":\"y\"}},\"id\":\"1979\",\"type\":\"Circle\"},{\"attributes\":{},\"id\":\"1949\",\"type\":\"ResetTool\"},{\"attributes\":{\"source\":{\"id\":\"1977\"}},\"id\":\"1982\",\"type\":\"CDSView\"},{\"attributes\":{},\"id\":\"1972\",\"type\":\"UnionRenderers\"},{\"attributes\":{},\"id\":\"1971\",\"type\":\"AllLabels\"},{\"attributes\":{\"line_color\":\"blue\",\"line_width\":2,\"x\":{\"field\":\"x\"},\"y\":{\"field\":\"y\"}},\"id\":\"1960\",\"type\":\"Line\"},{\"attributes\":{},\"id\":\"1993\",\"type\":\"Selection\"},{\"attributes\":{\"background_fill_alpha\":0.2,\"background_fill_color\":\"navy\",\"border_line_alpha\":0.8,\"border_line_color\":\"navy\",\"border_line_width\":3,\"coordinates\":null,\"group\":null,\"items\":[{\"id\":\"1976\"},{\"id\":\"1995\"}],\"label_text_color\":\"#453217\",\"label_text_font\":\"times\",\"label_text_font_style\":\"italic\",\"location\":\"top_left\",\"title\":\"Obervations\"},\"id\":\"1975\",\"type\":\"Legend\"},{\"attributes\":{\"line_alpha\":0.1,\"line_color\":\"blue\",\"line_width\":2,\"x\":{\"field\":\"x\"},\"y\":{\"field\":\"y\"}},\"id\":\"1961\",\"type\":\"Line\"},{\"attributes\":{\"coordinates\":null,\"data_source\":{\"id\":\"1959\"},\"glyph\":{\"id\":\"1960\"},\"group\":null,\"hover_glyph\":null,\"muted_glyph\":{\"id\":\"1962\"},\"nonselection_glyph\":{\"id\":\"1961\"},\"view\":{\"id\":\"1964\"}},\"id\":\"1963\",\"type\":\"GlyphRenderer\"},{\"attributes\":{},\"id\":\"1973\",\"type\":\"Selection\"},{\"attributes\":{\"tools\":[{\"id\":\"1945\"},{\"id\":\"1946\"},{\"id\":\"1947\"},{\"id\":\"1948\"},{\"id\":\"1949\"},{\"id\":\"1950\"}]},\"id\":\"1952\",\"type\":\"Toolbar\"},{\"attributes\":{},\"id\":\"1929\",\"type\":\"DataRange1d\"},{\"attributes\":{},\"id\":\"1968\",\"type\":\"AllLabels\"},{\"attributes\":{\"source\":{\"id\":\"1959\"}},\"id\":\"1964\",\"type\":\"CDSView\"},{\"attributes\":{},\"id\":\"1970\",\"type\":\"BasicTickFormatter\"},{\"attributes\":{},\"id\":\"1931\",\"type\":\"DataRange1d\"}],\"root_ids\":[\"1926\"]},\"title\":\"Bokeh Application\",\"version\":\"2.4.3\"}};\n",
       "  const render_items = [{\"docid\":\"2bc6cb70-4604-4153-9030-ddd84dd7fe0a\",\"root_ids\":[\"1926\"],\"roots\":{\"1926\":\"03de8e19-ad1e-42f2-9ca3-46bf1bb053a6\"}}];\n",
       "  root.Bokeh.embed.embed_items_notebook(docs_json, render_items);\n",
       "  }\n",
       "  if (root.Bokeh !== undefined) {\n",
       "    embed_document(root);\n",
       "  } else {\n",
       "    let attempts = 0;\n",
       "    const timer = setInterval(function(root) {\n",
       "      if (root.Bokeh !== undefined) {\n",
       "        clearInterval(timer);\n",
       "        embed_document(root);\n",
       "      } else {\n",
       "        attempts++;\n",
       "        if (attempts > 100) {\n",
       "          clearInterval(timer);\n",
       "          console.log(\"Bokeh: ERROR: Unable to run BokehJS code because BokehJS library is missing\");\n",
       "        }\n",
       "      }\n",
       "    }, 10, root)\n",
       "  }\n",
       "})(window);"
      ],
      "application/vnd.bokehjs_exec.v0+json": ""
     },
     "metadata": {
      "application/vnd.bokehjs_exec.v0+json": {
       "id": "1926"
      }
     },
     "output_type": "display_data"
    }
   ],
   "source": [
    "x = [1, 2, 3, 4, 5]\n",
    "y1 = [4, 5, 5, 7, 2]\n",
    "y2 = [2, 3, 4, 5, 6]\n",
    "\n",
    "# create a new plot\n",
    "p = figure(title=\"Legend\")\n",
    "\n",
    "# add circle renderer with legend_label arguments\n",
    "line = p.line(x, y1, legend_label=\"Temp.\", line_color=\"blue\", line_width=2)\n",
    "circle = p.circle(x, y2, legend_label=\"Objects\", fill_color=\"red\", fill_alpha=0.5, line_color=\"blue\", size=60)\n",
    "\n",
    "# display legend in top left corner \n",
    "p.legend.location = \"top_left\"\n",
    "\n",
    "# add a title to your legend\n",
    "p.legend.title = \"Obervations\"\n",
    "\n",
    "# change appearance of legend text\n",
    "p.legend.label_text_font = \"times\"\n",
    "p.legend.label_text_font_style = \"italic\"\n",
    "p.legend.label_text_color = \"#453217\"\n",
    "\n",
    "# change border and background of legend\n",
    "p.legend.border_line_width = 3\n",
    "p.legend.border_line_color = \"navy\"\n",
    "p.legend.border_line_alpha = 0.8\n",
    "p.legend.background_fill_color = \"navy\"\n",
    "p.legend.background_fill_alpha = 0.2\n",
    "\n",
    "# show the results\n",
    "show(p)"
   ]
  },
  {
   "cell_type": "markdown",
   "id": "3648d4e9",
   "metadata": {},
   "source": [
    "# Customize Headlines"
   ]
  },
  {
   "cell_type": "code",
   "execution_count": 23,
   "id": "2209fcb9",
   "metadata": {},
   "outputs": [
    {
     "data": {
      "text/html": [
       "\n",
       "  <div class=\"bk-root\" id=\"122bacac-6502-4b9c-93bb-a37357f2a0cd\" data-root-id=\"2128\"></div>\n"
      ]
     },
     "metadata": {},
     "output_type": "display_data"
    },
    {
     "data": {
      "application/javascript": [
       "(function(root) {\n",
       "  function embed_document(root) {\n",
       "  const docs_json = {\"ff9b9481-70bc-4818-adb1-de65ee8bce79\":{\"defs\":[],\"roots\":{\"references\":[{\"attributes\":{\"below\":[{\"id\":\"2139\"}],\"center\":[{\"id\":\"2142\"},{\"id\":\"2146\"},{\"id\":\"2177\"}],\"left\":[{\"id\":\"2143\"}],\"renderers\":[{\"id\":\"2165\"}],\"title\":{\"id\":\"2129\"},\"toolbar\":{\"id\":\"2154\"},\"x_range\":{\"id\":\"2131\"},\"x_scale\":{\"id\":\"2135\"},\"y_range\":{\"id\":\"2133\"},\"y_scale\":{\"id\":\"2137\"}},\"id\":\"2128\",\"subtype\":\"Figure\",\"type\":\"Plot\"},{\"attributes\":{\"coordinates\":null,\"group\":null,\"items\":[{\"id\":\"2178\"}]},\"id\":\"2177\",\"type\":\"Legend\"},{\"attributes\":{\"data\":{\"x\":[1,2,3,4,5],\"y\":[6,7,2,4,5]},\"selected\":{\"id\":\"2175\"},\"selection_policy\":{\"id\":\"2174\"}},\"id\":\"2161\",\"type\":\"ColumnDataSource\"},{\"attributes\":{},\"id\":\"2131\",\"type\":\"DataRange1d\"},{\"attributes\":{},\"id\":\"2150\",\"type\":\"SaveTool\"},{\"attributes\":{\"source\":{\"id\":\"2161\"}},\"id\":\"2166\",\"type\":\"CDSView\"},{\"attributes\":{},\"id\":\"2170\",\"type\":\"AllLabels\"},{\"attributes\":{\"overlay\":{\"id\":\"2153\"}},\"id\":\"2149\",\"type\":\"BoxZoomTool\"},{\"attributes\":{\"label\":{\"value\":\"Temp.\"},\"renderers\":[{\"id\":\"2165\"}]},\"id\":\"2178\",\"type\":\"LegendItem\"},{\"attributes\":{\"coordinates\":null,\"data_source\":{\"id\":\"2161\"},\"glyph\":{\"id\":\"2162\"},\"group\":null,\"hover_glyph\":null,\"muted_glyph\":{\"id\":\"2164\"},\"nonselection_glyph\":{\"id\":\"2163\"},\"view\":{\"id\":\"2166\"}},\"id\":\"2165\",\"type\":\"GlyphRenderer\"},{\"attributes\":{\"axis\":{\"id\":\"2143\"},\"coordinates\":null,\"dimension\":1,\"group\":null,\"ticker\":null},\"id\":\"2146\",\"type\":\"Grid\"},{\"attributes\":{},\"id\":\"2169\",\"type\":\"BasicTickFormatter\"},{\"attributes\":{},\"id\":\"2144\",\"type\":\"BasicTicker\"},{\"attributes\":{},\"id\":\"2173\",\"type\":\"AllLabels\"},{\"attributes\":{},\"id\":\"2147\",\"type\":\"PanTool\"},{\"attributes\":{},\"id\":\"2148\",\"type\":\"WheelZoomTool\"},{\"attributes\":{},\"id\":\"2151\",\"type\":\"ResetTool\"},{\"attributes\":{\"line_alpha\":0.2,\"line_color\":\"#1f77b4\",\"line_width\":2,\"x\":{\"field\":\"x\"},\"y\":{\"field\":\"y\"}},\"id\":\"2164\",\"type\":\"Line\"},{\"attributes\":{\"line_alpha\":0.1,\"line_color\":\"#1f77b4\",\"line_width\":2,\"x\":{\"field\":\"x\"},\"y\":{\"field\":\"y\"}},\"id\":\"2163\",\"type\":\"Line\"},{\"attributes\":{\"line_color\":\"#1f77b4\",\"line_width\":2,\"x\":{\"field\":\"x\"},\"y\":{\"field\":\"y\"}},\"id\":\"2162\",\"type\":\"Line\"},{\"attributes\":{},\"id\":\"2174\",\"type\":\"UnionRenderers\"},{\"attributes\":{},\"id\":\"2172\",\"type\":\"BasicTickFormatter\"},{\"attributes\":{},\"id\":\"2175\",\"type\":\"Selection\"},{\"attributes\":{\"tools\":[{\"id\":\"2147\"},{\"id\":\"2148\"},{\"id\":\"2149\"},{\"id\":\"2150\"},{\"id\":\"2151\"},{\"id\":\"2152\"}]},\"id\":\"2154\",\"type\":\"Toolbar\"},{\"attributes\":{},\"id\":\"2152\",\"type\":\"HelpTool\"},{\"attributes\":{\"bottom_units\":\"screen\",\"coordinates\":null,\"fill_alpha\":0.5,\"fill_color\":\"lightgrey\",\"group\":null,\"left_units\":\"screen\",\"level\":\"overlay\",\"line_alpha\":1.0,\"line_color\":\"black\",\"line_dash\":[4,4],\"line_width\":2,\"right_units\":\"screen\",\"syncable\":false,\"top_units\":\"screen\"},\"id\":\"2153\",\"type\":\"BoxAnnotation\"},{\"attributes\":{\"coordinates\":null,\"formatter\":{\"id\":\"2172\"},\"group\":null,\"major_label_policy\":{\"id\":\"2173\"},\"ticker\":{\"id\":\"2140\"}},\"id\":\"2139\",\"type\":\"LinearAxis\"},{\"attributes\":{},\"id\":\"2135\",\"type\":\"LinearScale\"},{\"attributes\":{\"axis\":{\"id\":\"2139\"},\"coordinates\":null,\"group\":null,\"ticker\":null},\"id\":\"2142\",\"type\":\"Grid\"},{\"attributes\":{},\"id\":\"2140\",\"type\":\"BasicTicker\"},{\"attributes\":{\"coordinates\":null,\"formatter\":{\"id\":\"2169\"},\"group\":null,\"major_label_policy\":{\"id\":\"2170\"},\"ticker\":{\"id\":\"2144\"}},\"id\":\"2143\",\"type\":\"LinearAxis\"},{\"attributes\":{\"align\":\"right\",\"background_fill_color\":\"navy\",\"coordinates\":null,\"group\":null,\"text\":\"What is the reason\",\"text_color\":\"white\",\"text_font_size\":\"25px\"},\"id\":\"2129\",\"type\":\"Title\"},{\"attributes\":{},\"id\":\"2137\",\"type\":\"LinearScale\"},{\"attributes\":{},\"id\":\"2133\",\"type\":\"DataRange1d\"}],\"root_ids\":[\"2128\"]},\"title\":\"Bokeh Application\",\"version\":\"2.4.3\"}};\n",
       "  const render_items = [{\"docid\":\"ff9b9481-70bc-4818-adb1-de65ee8bce79\",\"root_ids\":[\"2128\"],\"roots\":{\"2128\":\"122bacac-6502-4b9c-93bb-a37357f2a0cd\"}}];\n",
       "  root.Bokeh.embed.embed_items_notebook(docs_json, render_items);\n",
       "  }\n",
       "  if (root.Bokeh !== undefined) {\n",
       "    embed_document(root);\n",
       "  } else {\n",
       "    let attempts = 0;\n",
       "    const timer = setInterval(function(root) {\n",
       "      if (root.Bokeh !== undefined) {\n",
       "        clearInterval(timer);\n",
       "        embed_document(root);\n",
       "      } else {\n",
       "        attempts++;\n",
       "        if (attempts > 100) {\n",
       "          clearInterval(timer);\n",
       "          console.log(\"Bokeh: ERROR: Unable to run BokehJS code because BokehJS library is missing\");\n",
       "        }\n",
       "      }\n",
       "    }, 10, root)\n",
       "  }\n",
       "})(window);"
      ],
      "application/vnd.bokehjs_exec.v0+json": ""
     },
     "metadata": {
      "application/vnd.bokehjs_exec.v0+json": {
       "id": "2128"
      }
     },
     "output_type": "display_data"
    }
   ],
   "source": [
    "x = [1, 2, 3, 4, 5]\n",
    "y = [6, 7, 2, 4, 5]\n",
    "\n",
    "# create new plot\n",
    "p = figure(title=\"Headline\")\n",
    "\n",
    "# add line renderer with a legend\n",
    "p.line(x, y, legend_label=\"Temp.\", line_width=2)\n",
    "\n",
    "# change headline location to the left\n",
    "p.title_location = \"above\"\n",
    "\n",
    "# change headline text\n",
    "p.title.text = \"What is the reason\"\n",
    "\n",
    "# style the headline\n",
    "p.title.text_font_size = \"25px\"\n",
    "p.title.align = \"right\"\n",
    "p.title.background_fill_color = \"navy\"\n",
    "p.title.text_color = \"white\"\n",
    "\n",
    "# show the results\n",
    "show(p)"
   ]
  },
  {
   "cell_type": "markdown",
   "id": "203c6d62",
   "metadata": {},
   "source": [
    "# Annotation"
   ]
  },
  {
   "cell_type": "code",
   "execution_count": 24,
   "id": "72abe1d9",
   "metadata": {},
   "outputs": [],
   "source": [
    "x = list(range(2,80))\n",
    "y = random.sample(range(0, 100), 78)"
   ]
  },
  {
   "cell_type": "code",
   "execution_count": 25,
   "id": "10045863",
   "metadata": {},
   "outputs": [
    {
     "data": {
      "text/html": [
       "\n",
       "  <div class=\"bk-root\" id=\"798cf1af-2536-47fa-a9a3-d9031d8c6f52\" data-root-id=\"2311\"></div>\n"
      ]
     },
     "metadata": {},
     "output_type": "display_data"
    },
    {
     "data": {
      "application/javascript": [
       "(function(root) {\n",
       "  function embed_document(root) {\n",
       "  const docs_json = {\"9c69a4e9-1c40-4c48-b569-b99feca11661\":{\"defs\":[],\"roots\":{\"references\":[{\"attributes\":{\"below\":[{\"id\":\"2322\"}],\"center\":[{\"id\":\"2325\"},{\"id\":\"2329\"},{\"id\":\"2350\"},{\"id\":\"2351\"},{\"id\":\"2352\"}],\"left\":[{\"id\":\"2326\"}],\"renderers\":[{\"id\":\"2348\"}],\"title\":{\"id\":\"2312\"},\"toolbar\":{\"id\":\"2337\"},\"x_range\":{\"id\":\"2314\"},\"x_scale\":{\"id\":\"2318\"},\"y_range\":{\"id\":\"2316\"},\"y_scale\":{\"id\":\"2320\"}},\"id\":\"2311\",\"subtype\":\"Figure\",\"type\":\"Plot\"},{\"attributes\":{\"coordinates\":null,\"group\":null,\"text\":\"Box Annotation\"},\"id\":\"2312\",\"type\":\"Title\"},{\"attributes\":{},\"id\":\"2333\",\"type\":\"SaveTool\"},{\"attributes\":{\"coordinates\":null,\"formatter\":{\"id\":\"2437\"},\"group\":null,\"major_label_policy\":{\"id\":\"2438\"},\"ticker\":{\"id\":\"2327\"}},\"id\":\"2326\",\"type\":\"LinearAxis\"},{\"attributes\":{},\"id\":\"2441\",\"type\":\"AllLabels\"},{\"attributes\":{},\"id\":\"2323\",\"type\":\"BasicTicker\"},{\"attributes\":{},\"id\":\"2334\",\"type\":\"ResetTool\"},{\"attributes\":{\"overlay\":{\"id\":\"2336\"}},\"id\":\"2332\",\"type\":\"BoxZoomTool\"},{\"attributes\":{},\"id\":\"2330\",\"type\":\"PanTool\"},{\"attributes\":{\"line_alpha\":0.2,\"line_color\":\"#000000\",\"line_width\":2,\"x\":{\"field\":\"x\"},\"y\":{\"field\":\"y\"}},\"id\":\"2347\",\"type\":\"Line\"},{\"attributes\":{},\"id\":\"2440\",\"type\":\"BasicTickFormatter\"},{\"attributes\":{},\"id\":\"2331\",\"type\":\"WheelZoomTool\"},{\"attributes\":{\"tools\":[{\"id\":\"2330\"},{\"id\":\"2331\"},{\"id\":\"2332\"},{\"id\":\"2333\"},{\"id\":\"2334\"},{\"id\":\"2335\"}]},\"id\":\"2337\",\"type\":\"Toolbar\"},{\"attributes\":{\"source\":{\"id\":\"2344\"}},\"id\":\"2349\",\"type\":\"CDSView\"},{\"attributes\":{\"axis\":{\"id\":\"2326\"},\"coordinates\":null,\"dimension\":1,\"group\":null,\"ticker\":null},\"id\":\"2329\",\"type\":\"Grid\"},{\"attributes\":{},\"id\":\"2438\",\"type\":\"AllLabels\"},{\"attributes\":{},\"id\":\"2327\",\"type\":\"BasicTicker\"},{\"attributes\":{\"bottom_units\":\"screen\",\"coordinates\":null,\"fill_alpha\":0.5,\"fill_color\":\"lightgrey\",\"group\":null,\"left_units\":\"screen\",\"level\":\"overlay\",\"line_alpha\":1.0,\"line_color\":\"black\",\"line_dash\":[4,4],\"line_width\":2,\"right_units\":\"screen\",\"syncable\":false,\"top_units\":\"screen\"},\"id\":\"2336\",\"type\":\"BoxAnnotation\"},{\"attributes\":{\"line_color\":\"#000000\",\"line_width\":2,\"x\":{\"field\":\"x\"},\"y\":{\"field\":\"y\"}},\"id\":\"2345\",\"type\":\"Line\"},{\"attributes\":{},\"id\":\"2442\",\"type\":\"UnionRenderers\"},{\"attributes\":{\"data\":{\"x\":[2,3,4,5,6,7,8,9,10,11,12,13,14,15,16,17,18,19,20,21,22,23,24,25,26,27,28,29,30,31,32,33,34,35,36,37,38,39,40,41,42,43,44,45,46,47,48,49,50,51,52,53,54,55,56,57,58,59,60,61,62,63,64,65,66,67,68,69,70,71,72,73,74,75,76,77,78,79],\"y\":[77,67,9,19,68,17,78,3,64,34,92,30,39,49,48,66,0,57,22,94,62,88,40,83,26,86,16,55,31,52,53,44,42,23,38,98,1,5,65,50,35,96,76,25,58,95,56,29,72,21,45,37,97,12,10,7,61,8,74,80,59,79,73,60,63,15,6,4,89,69,32,91,84,51,11,70,85,43]},\"selected\":{\"id\":\"2443\"},\"selection_policy\":{\"id\":\"2442\"}},\"id\":\"2344\",\"type\":\"ColumnDataSource\"},{\"attributes\":{\"coordinates\":null,\"data_source\":{\"id\":\"2344\"},\"glyph\":{\"id\":\"2345\"},\"group\":null,\"hover_glyph\":null,\"muted_glyph\":{\"id\":\"2347\"},\"nonselection_glyph\":{\"id\":\"2346\"},\"view\":{\"id\":\"2349\"}},\"id\":\"2348\",\"type\":\"GlyphRenderer\"},{\"attributes\":{},\"id\":\"2437\",\"type\":\"BasicTickFormatter\"},{\"attributes\":{},\"id\":\"2335\",\"type\":\"HelpTool\"},{\"attributes\":{\"coordinates\":null,\"formatter\":{\"id\":\"2440\"},\"group\":null,\"major_label_policy\":{\"id\":\"2441\"},\"ticker\":{\"id\":\"2323\"}},\"id\":\"2322\",\"type\":\"LinearAxis\"},{\"attributes\":{},\"id\":\"2318\",\"type\":\"LinearScale\"},{\"attributes\":{\"axis\":{\"id\":\"2322\"},\"coordinates\":null,\"group\":null,\"ticker\":null},\"id\":\"2325\",\"type\":\"Grid\"},{\"attributes\":{\"coordinates\":null,\"fill_alpha\":0.2,\"fill_color\":\"#FAEBD7\",\"group\":null,\"top\":20},\"id\":\"2350\",\"type\":\"BoxAnnotation\"},{\"attributes\":{\"bottom\":20,\"coordinates\":null,\"fill_alpha\":0.2,\"fill_color\":\"#7FFFD4\",\"group\":null},\"id\":\"2351\",\"type\":\"BoxAnnotation\"},{\"attributes\":{\"bottom\":80,\"coordinates\":null,\"fill_alpha\":0.2,\"fill_color\":\"#FAEBD7\",\"group\":null},\"id\":\"2352\",\"type\":\"BoxAnnotation\"},{\"attributes\":{},\"id\":\"2314\",\"type\":\"DataRange1d\"},{\"attributes\":{\"line_alpha\":0.1,\"line_color\":\"#000000\",\"line_width\":2,\"x\":{\"field\":\"x\"},\"y\":{\"field\":\"y\"}},\"id\":\"2346\",\"type\":\"Line\"},{\"attributes\":{},\"id\":\"2316\",\"type\":\"DataRange1d\"},{\"attributes\":{},\"id\":\"2443\",\"type\":\"Selection\"},{\"attributes\":{},\"id\":\"2320\",\"type\":\"LinearScale\"}],\"root_ids\":[\"2311\"]},\"title\":\"Bokeh Application\",\"version\":\"2.4.3\"}};\n",
       "  const render_items = [{\"docid\":\"9c69a4e9-1c40-4c48-b569-b99feca11661\",\"root_ids\":[\"2311\"],\"roots\":{\"2311\":\"798cf1af-2536-47fa-a9a3-d9031d8c6f52\"}}];\n",
       "  root.Bokeh.embed.embed_items_notebook(docs_json, render_items);\n",
       "  }\n",
       "  if (root.Bokeh !== undefined) {\n",
       "    embed_document(root);\n",
       "  } else {\n",
       "    let attempts = 0;\n",
       "    const timer = setInterval(function(root) {\n",
       "      if (root.Bokeh !== undefined) {\n",
       "        clearInterval(timer);\n",
       "        embed_document(root);\n",
       "      } else {\n",
       "        attempts++;\n",
       "        if (attempts > 100) {\n",
       "          clearInterval(timer);\n",
       "          console.log(\"Bokeh: ERROR: Unable to run BokehJS code because BokehJS library is missing\");\n",
       "        }\n",
       "      }\n",
       "    }, 10, root)\n",
       "  }\n",
       "})(window);"
      ],
      "application/vnd.bokehjs_exec.v0+json": ""
     },
     "metadata": {
      "application/vnd.bokehjs_exec.v0+json": {
       "id": "2311"
      }
     },
     "output_type": "display_data"
    }
   ],
   "source": [
    "p= figure(title='Box Annotation')\n",
    "# add line renderer\n",
    "line = p.line(x, y, line_color=\"#000000\", line_width=2)\n",
    "\n",
    "# add box annotations\n",
    "low_box = BoxAnnotation(top=20, fill_alpha=0.2, fill_color='#FAEBD7')\n",
    "mid_box = BoxAnnotation(bottom=20, fill_alpha=0.2, fill_color='#7FFFD4')\n",
    "high_box = BoxAnnotation(bottom=80, fill_alpha=0.2, fill_color='#FAEBD7')\n",
    "\n",
    "# add boxes to existing figure\n",
    "p.add_layout(low_box)\n",
    "p.add_layout(mid_box)\n",
    "p.add_layout(high_box)\n",
    "show(p)"
   ]
  },
  {
   "cell_type": "markdown",
   "id": "96b6777b",
   "metadata": {},
   "source": [
    "# Adding Theme"
   ]
  },
  {
   "cell_type": "code",
   "execution_count": 26,
   "id": "5f466b15",
   "metadata": {},
   "outputs": [
    {
     "data": {
      "text/html": [
       "\n",
       "  <div class=\"bk-root\" id=\"612df849-4c20-45b4-bc69-4048acfc8100\" data-root-id=\"2495\"></div>\n"
      ]
     },
     "metadata": {},
     "output_type": "display_data"
    },
    {
     "data": {
      "application/javascript": [
       "(function(root) {\n",
       "  function embed_document(root) {\n",
       "  const docs_json = {\"1136aeda-f6d0-46df-b73a-0aa74e058568\":{\"defs\":[],\"roots\":{\"references\":[{\"attributes\":{\"background_fill_color\":\"#20262B\",\"below\":[{\"id\":\"2504\"}],\"border_fill_color\":\"#15191C\",\"center\":[{\"id\":\"2507\"},{\"id\":\"2511\"}],\"height\":250,\"left\":[{\"id\":\"2508\"}],\"max_width\":500,\"outline_line_alpha\":0.25,\"outline_line_color\":\"#E0E0E0\",\"renderers\":[{\"id\":\"2530\"}],\"sizing_mode\":\"stretch_width\",\"title\":{\"id\":\"2624\"},\"toolbar\":{\"id\":\"2519\"},\"x_range\":{\"id\":\"2496\"},\"x_scale\":{\"id\":\"2500\"},\"y_range\":{\"id\":\"2498\"},\"y_scale\":{\"id\":\"2502\"}},\"id\":\"2495\",\"subtype\":\"Figure\",\"type\":\"Plot\"},{\"attributes\":{},\"id\":\"2502\",\"type\":\"LinearScale\"},{\"attributes\":{},\"id\":\"2516\",\"type\":\"ResetTool\"},{\"attributes\":{},\"id\":\"2515\",\"type\":\"SaveTool\"},{\"attributes\":{\"axis_label_standoff\":10,\"axis_label_text_color\":\"#E0E0E0\",\"axis_label_text_font\":\"Helvetica\",\"axis_label_text_font_size\":\"1.25em\",\"axis_label_text_font_style\":\"normal\",\"axis_line_alpha\":0,\"axis_line_color\":\"#E0E0E0\",\"coordinates\":null,\"formatter\":{\"id\":\"2630\"},\"group\":null,\"major_label_policy\":{\"id\":\"2631\"},\"major_label_text_color\":\"#E0E0E0\",\"major_label_text_font\":\"Helvetica\",\"major_label_text_font_size\":\"1.025em\",\"major_tick_line_alpha\":0,\"major_tick_line_color\":\"#E0E0E0\",\"minor_tick_line_alpha\":0,\"minor_tick_line_color\":\"#E0E0E0\",\"ticker\":{\"id\":\"2505\"}},\"id\":\"2504\",\"type\":\"LinearAxis\"},{\"attributes\":{\"overlay\":{\"id\":\"2518\"}},\"id\":\"2514\",\"type\":\"BoxZoomTool\"},{\"attributes\":{},\"id\":\"2512\",\"type\":\"PanTool\"},{\"attributes\":{},\"id\":\"2500\",\"type\":\"LinearScale\"},{\"attributes\":{},\"id\":\"2633\",\"type\":\"Selection\"},{\"attributes\":{},\"id\":\"2513\",\"type\":\"WheelZoomTool\"},{\"attributes\":{\"data\":{\"x\":[1,2,3,4,5],\"y\":[4,5,5,7,2]},\"selected\":{\"id\":\"2633\"},\"selection_policy\":{\"id\":\"2632\"}},\"id\":\"2526\",\"type\":\"ColumnDataSource\"},{\"attributes\":{},\"id\":\"2498\",\"type\":\"DataRange1d\"},{\"attributes\":{\"coordinates\":null,\"data_source\":{\"id\":\"2526\"},\"glyph\":{\"id\":\"2527\"},\"group\":null,\"hover_glyph\":null,\"muted_glyph\":{\"id\":\"2529\"},\"nonselection_glyph\":{\"id\":\"2528\"},\"view\":{\"id\":\"2531\"}},\"id\":\"2530\",\"type\":\"GlyphRenderer\"},{\"attributes\":{\"coordinates\":null,\"group\":null,\"text_color\":\"#E0E0E0\",\"text_font\":\"Helvetica\",\"text_font_size\":\"1.15em\"},\"id\":\"2624\",\"type\":\"Title\"},{\"attributes\":{\"line_alpha\":0.1,\"line_color\":\"#1f77b4\",\"x\":{\"field\":\"x\"},\"y\":{\"field\":\"y\"}},\"id\":\"2528\",\"type\":\"Line\"},{\"attributes\":{\"line_color\":\"#1f77b4\",\"x\":{\"field\":\"x\"},\"y\":{\"field\":\"y\"}},\"id\":\"2527\",\"type\":\"Line\"},{\"attributes\":{\"axis\":{\"id\":\"2508\"},\"coordinates\":null,\"dimension\":1,\"grid_line_alpha\":0.25,\"grid_line_color\":\"#E0E0E0\",\"group\":null,\"ticker\":null},\"id\":\"2511\",\"type\":\"Grid\"},{\"attributes\":{},\"id\":\"2631\",\"type\":\"AllLabels\"},{\"attributes\":{},\"id\":\"2509\",\"type\":\"BasicTicker\"},{\"attributes\":{},\"id\":\"2630\",\"type\":\"BasicTickFormatter\"},{\"attributes\":{},\"id\":\"2517\",\"type\":\"HelpTool\"},{\"attributes\":{\"axis\":{\"id\":\"2504\"},\"coordinates\":null,\"grid_line_alpha\":0.25,\"grid_line_color\":\"#E0E0E0\",\"group\":null,\"ticker\":null},\"id\":\"2507\",\"type\":\"Grid\"},{\"attributes\":{},\"id\":\"2505\",\"type\":\"BasicTicker\"},{\"attributes\":{\"source\":{\"id\":\"2526\"}},\"id\":\"2531\",\"type\":\"CDSView\"},{\"attributes\":{},\"id\":\"2628\",\"type\":\"AllLabels\"},{\"attributes\":{\"tools\":[{\"id\":\"2512\"},{\"id\":\"2513\"},{\"id\":\"2514\"},{\"id\":\"2515\"},{\"id\":\"2516\"},{\"id\":\"2517\"}]},\"id\":\"2519\",\"type\":\"Toolbar\"},{\"attributes\":{\"axis_label_standoff\":10,\"axis_label_text_color\":\"#E0E0E0\",\"axis_label_text_font\":\"Helvetica\",\"axis_label_text_font_size\":\"1.25em\",\"axis_label_text_font_style\":\"normal\",\"axis_line_alpha\":0,\"axis_line_color\":\"#E0E0E0\",\"coordinates\":null,\"formatter\":{\"id\":\"2627\"},\"group\":null,\"major_label_policy\":{\"id\":\"2628\"},\"major_label_text_color\":\"#E0E0E0\",\"major_label_text_font\":\"Helvetica\",\"major_label_text_font_size\":\"1.025em\",\"major_tick_line_alpha\":0,\"major_tick_line_color\":\"#E0E0E0\",\"minor_tick_line_alpha\":0,\"minor_tick_line_color\":\"#E0E0E0\",\"ticker\":{\"id\":\"2509\"}},\"id\":\"2508\",\"type\":\"LinearAxis\"},{\"attributes\":{},\"id\":\"2632\",\"type\":\"UnionRenderers\"},{\"attributes\":{\"bottom_units\":\"screen\",\"coordinates\":null,\"fill_alpha\":0.5,\"fill_color\":\"lightgrey\",\"group\":null,\"left_units\":\"screen\",\"level\":\"overlay\",\"line_alpha\":1.0,\"line_color\":\"black\",\"line_dash\":[4,4],\"line_width\":2,\"right_units\":\"screen\",\"syncable\":false,\"top_units\":\"screen\"},\"id\":\"2518\",\"type\":\"BoxAnnotation\"},{\"attributes\":{\"line_alpha\":0.2,\"line_color\":\"#1f77b4\",\"x\":{\"field\":\"x\"},\"y\":{\"field\":\"y\"}},\"id\":\"2529\",\"type\":\"Line\"},{\"attributes\":{},\"id\":\"2627\",\"type\":\"BasicTickFormatter\"},{\"attributes\":{},\"id\":\"2496\",\"type\":\"DataRange1d\"}],\"root_ids\":[\"2495\"]},\"title\":\"Bokeh Application\",\"version\":\"2.4.3\"}};\n",
       "  const render_items = [{\"docid\":\"1136aeda-f6d0-46df-b73a-0aa74e058568\",\"root_ids\":[\"2495\"],\"roots\":{\"2495\":\"612df849-4c20-45b4-bc69-4048acfc8100\"}}];\n",
       "  root.Bokeh.embed.embed_items_notebook(docs_json, render_items);\n",
       "  }\n",
       "  if (root.Bokeh !== undefined) {\n",
       "    embed_document(root);\n",
       "  } else {\n",
       "    let attempts = 0;\n",
       "    const timer = setInterval(function(root) {\n",
       "      if (root.Bokeh !== undefined) {\n",
       "        clearInterval(timer);\n",
       "        embed_document(root);\n",
       "      } else {\n",
       "        attempts++;\n",
       "        if (attempts > 100) {\n",
       "          clearInterval(timer);\n",
       "          console.log(\"Bokeh: ERROR: Unable to run BokehJS code because BokehJS library is missing\");\n",
       "        }\n",
       "      }\n",
       "    }, 10, root)\n",
       "  }\n",
       "})(window);"
      ],
      "application/vnd.bokehjs_exec.v0+json": ""
     },
     "metadata": {
      "application/vnd.bokehjs_exec.v0+json": {
       "id": "2495"
      }
     },
     "output_type": "display_data"
    }
   ],
   "source": [
    "x = [1, 2, 3, 4, 5]\n",
    "y = [4, 5, 5, 7, 2]\n",
    "\n",
    "# apply theme to current document\n",
    "curdoc().theme = \"dark_minimal\"\n",
    "\n",
    "# create a plot\n",
    "p = figure(sizing_mode=\"stretch_width\", max_width=500, height=250)\n",
    "\n",
    "# add a renderer\n",
    "p.line(x, y)\n",
    "\n",
    "# show the results\n",
    "show(p)"
   ]
  },
  {
   "cell_type": "markdown",
   "id": "39a9c5f2",
   "metadata": {},
   "source": [
    "# Resizing Plot"
   ]
  },
  {
   "cell_type": "code",
   "execution_count": 27,
   "id": "a0555d55",
   "metadata": {},
   "outputs": [
    {
     "data": {
      "text/html": [
       "\n",
       "  <div class=\"bk-root\" id=\"a0dd2e60-24c7-4ba3-b191-d60ae6af0564\" data-root-id=\"2690\"></div>\n"
      ]
     },
     "metadata": {},
     "output_type": "display_data"
    },
    {
     "data": {
      "application/javascript": [
       "(function(root) {\n",
       "  function embed_document(root) {\n",
       "  const docs_json = {\"fa25efef-2659-40e5-8fca-e2395801a08a\":{\"defs\":[],\"roots\":{\"references\":[{\"attributes\":{\"background_fill_color\":\"#20262B\",\"below\":[{\"id\":\"2701\"}],\"border_fill_color\":\"#15191C\",\"center\":[{\"id\":\"2704\"},{\"id\":\"2708\"}],\"height\":150,\"left\":[{\"id\":\"2705\"}],\"outline_line_alpha\":0.25,\"outline_line_color\":\"#E0E0E0\",\"renderers\":[{\"id\":\"2727\"}],\"title\":{\"id\":\"2691\"},\"toolbar\":{\"id\":\"2716\"},\"width\":450,\"x_range\":{\"id\":\"2693\"},\"x_scale\":{\"id\":\"2697\"},\"y_range\":{\"id\":\"2695\"},\"y_scale\":{\"id\":\"2699\"}},\"id\":\"2690\",\"subtype\":\"Figure\",\"type\":\"Plot\"},{\"attributes\":{\"coordinates\":null,\"group\":null,\"text\":\"Plot sizing\",\"text_color\":\"#E0E0E0\",\"text_font\":\"Helvetica\",\"text_font_size\":\"1.15em\"},\"id\":\"2691\",\"type\":\"Title\"},{\"attributes\":{},\"id\":\"2699\",\"type\":\"LinearScale\"},{\"attributes\":{\"fill_alpha\":{\"value\":0.1},\"fill_color\":{\"value\":\"red\"},\"hatch_alpha\":{\"value\":0.1},\"line_alpha\":{\"value\":0.1},\"line_color\":{\"value\":\"#1f77b4\"},\"size\":{\"value\":15},\"x\":{\"field\":\"x\"},\"y\":{\"field\":\"y\"}},\"id\":\"2725\",\"type\":\"Circle\"},{\"attributes\":{\"source\":{\"id\":\"2723\"}},\"id\":\"2728\",\"type\":\"CDSView\"},{\"attributes\":{},\"id\":\"2697\",\"type\":\"LinearScale\"},{\"attributes\":{\"axis\":{\"id\":\"2701\"},\"coordinates\":null,\"grid_line_alpha\":0.25,\"grid_line_color\":\"#E0E0E0\",\"group\":null,\"ticker\":null},\"id\":\"2704\",\"type\":\"Grid\"},{\"attributes\":{},\"id\":\"2702\",\"type\":\"BasicTicker\"},{\"attributes\":{},\"id\":\"2834\",\"type\":\"BasicTickFormatter\"},{\"attributes\":{},\"id\":\"2695\",\"type\":\"DataRange1d\"},{\"attributes\":{\"fill_color\":{\"value\":\"red\"},\"line_color\":{\"value\":\"#1f77b4\"},\"size\":{\"value\":15},\"x\":{\"field\":\"x\"},\"y\":{\"field\":\"y\"}},\"id\":\"2724\",\"type\":\"Circle\"},{\"attributes\":{},\"id\":\"2835\",\"type\":\"AllLabels\"},{\"attributes\":{\"data\":{\"x\":[1,2,3,4,5],\"y\":[4,5,5,7,2]},\"selected\":{\"id\":\"2840\"},\"selection_policy\":{\"id\":\"2839\"}},\"id\":\"2723\",\"type\":\"ColumnDataSource\"},{\"attributes\":{},\"id\":\"2693\",\"type\":\"DataRange1d\"},{\"attributes\":{\"coordinates\":null,\"data_source\":{\"id\":\"2723\"},\"glyph\":{\"id\":\"2724\"},\"group\":null,\"hover_glyph\":null,\"muted_glyph\":{\"id\":\"2726\"},\"nonselection_glyph\":{\"id\":\"2725\"},\"view\":{\"id\":\"2728\"}},\"id\":\"2727\",\"type\":\"GlyphRenderer\"},{\"attributes\":{\"axis_label\":\"x\",\"axis_label_standoff\":10,\"axis_label_text_color\":\"#E0E0E0\",\"axis_label_text_font\":\"Helvetica\",\"axis_label_text_font_size\":\"1.25em\",\"axis_label_text_font_style\":\"normal\",\"axis_line_alpha\":0,\"axis_line_color\":\"#E0E0E0\",\"coordinates\":null,\"formatter\":{\"id\":\"2837\"},\"group\":null,\"major_label_policy\":{\"id\":\"2838\"},\"major_label_text_color\":\"#E0E0E0\",\"major_label_text_font\":\"Helvetica\",\"major_label_text_font_size\":\"1.025em\",\"major_tick_line_alpha\":0,\"major_tick_line_color\":\"#E0E0E0\",\"minor_tick_line_alpha\":0,\"minor_tick_line_color\":\"#E0E0E0\",\"ticker\":{\"id\":\"2702\"}},\"id\":\"2701\",\"type\":\"LinearAxis\"},{\"attributes\":{\"fill_alpha\":{\"value\":0.2},\"fill_color\":{\"value\":\"red\"},\"hatch_alpha\":{\"value\":0.2},\"line_alpha\":{\"value\":0.2},\"line_color\":{\"value\":\"#1f77b4\"},\"size\":{\"value\":15},\"x\":{\"field\":\"x\"},\"y\":{\"field\":\"y\"}},\"id\":\"2726\",\"type\":\"Circle\"},{\"attributes\":{\"bottom_units\":\"screen\",\"coordinates\":null,\"fill_alpha\":0.5,\"fill_color\":\"lightgrey\",\"group\":null,\"left_units\":\"screen\",\"level\":\"overlay\",\"line_alpha\":1.0,\"line_color\":\"black\",\"line_dash\":[4,4],\"line_width\":2,\"right_units\":\"screen\",\"syncable\":false,\"top_units\":\"screen\"},\"id\":\"2715\",\"type\":\"BoxAnnotation\"},{\"attributes\":{},\"id\":\"2840\",\"type\":\"Selection\"},{\"attributes\":{},\"id\":\"2710\",\"type\":\"WheelZoomTool\"},{\"attributes\":{},\"id\":\"2713\",\"type\":\"ResetTool\"},{\"attributes\":{},\"id\":\"2712\",\"type\":\"SaveTool\"},{\"attributes\":{\"overlay\":{\"id\":\"2715\"}},\"id\":\"2711\",\"type\":\"BoxZoomTool\"},{\"attributes\":{},\"id\":\"2839\",\"type\":\"UnionRenderers\"},{\"attributes\":{},\"id\":\"2709\",\"type\":\"PanTool\"},{\"attributes\":{},\"id\":\"2714\",\"type\":\"HelpTool\"},{\"attributes\":{\"tools\":[{\"id\":\"2709\"},{\"id\":\"2710\"},{\"id\":\"2711\"},{\"id\":\"2712\"},{\"id\":\"2713\"},{\"id\":\"2714\"}]},\"id\":\"2716\",\"type\":\"Toolbar\"},{\"attributes\":{},\"id\":\"2706\",\"type\":\"BasicTicker\"},{\"attributes\":{\"axis\":{\"id\":\"2705\"},\"coordinates\":null,\"dimension\":1,\"grid_line_alpha\":0.25,\"grid_line_color\":\"#E0E0E0\",\"group\":null,\"ticker\":null},\"id\":\"2708\",\"type\":\"Grid\"},{\"attributes\":{\"axis_label\":\"y\",\"axis_label_standoff\":10,\"axis_label_text_color\":\"#E0E0E0\",\"axis_label_text_font\":\"Helvetica\",\"axis_label_text_font_size\":\"1.25em\",\"axis_label_text_font_style\":\"normal\",\"axis_line_alpha\":0,\"axis_line_color\":\"#E0E0E0\",\"coordinates\":null,\"formatter\":{\"id\":\"2834\"},\"group\":null,\"major_label_policy\":{\"id\":\"2835\"},\"major_label_text_color\":\"#E0E0E0\",\"major_label_text_font\":\"Helvetica\",\"major_label_text_font_size\":\"1.025em\",\"major_tick_line_alpha\":0,\"major_tick_line_color\":\"#E0E0E0\",\"minor_tick_line_alpha\":0,\"minor_tick_line_color\":\"#E0E0E0\",\"ticker\":{\"id\":\"2706\"}},\"id\":\"2705\",\"type\":\"LinearAxis\"},{\"attributes\":{},\"id\":\"2838\",\"type\":\"AllLabels\"},{\"attributes\":{},\"id\":\"2837\",\"type\":\"BasicTickFormatter\"}],\"root_ids\":[\"2690\"]},\"title\":\"Bokeh Application\",\"version\":\"2.4.3\"}};\n",
       "  const render_items = [{\"docid\":\"fa25efef-2659-40e5-8fca-e2395801a08a\",\"root_ids\":[\"2690\"],\"roots\":{\"2690\":\"a0dd2e60-24c7-4ba3-b191-d60ae6af0564\"}}];\n",
       "  root.Bokeh.embed.embed_items_notebook(docs_json, render_items);\n",
       "  }\n",
       "  if (root.Bokeh !== undefined) {\n",
       "    embed_document(root);\n",
       "  } else {\n",
       "    let attempts = 0;\n",
       "    const timer = setInterval(function(root) {\n",
       "      if (root.Bokeh !== undefined) {\n",
       "        clearInterval(timer);\n",
       "        embed_document(root);\n",
       "      } else {\n",
       "        attempts++;\n",
       "        if (attempts > 100) {\n",
       "          clearInterval(timer);\n",
       "          console.log(\"Bokeh: ERROR: Unable to run BokehJS code because BokehJS library is missing\");\n",
       "        }\n",
       "      }\n",
       "    }, 10, root)\n",
       "  }\n",
       "})(window);"
      ],
      "application/vnd.bokehjs_exec.v0+json": ""
     },
     "metadata": {
      "application/vnd.bokehjs_exec.v0+json": {
       "id": "2690"
      }
     },
     "output_type": "display_data"
    }
   ],
   "source": [
    "x = [1, 2, 3, 4, 5]\n",
    "y = [4, 5, 5, 7, 2]\n",
    "\n",
    "# create a new plot with a specific size\n",
    "p = figure(title=\"Plot sizing\", width=350, height=250, x_axis_label=\"x\", y_axis_label=\"y\") \n",
    "\n",
    "# add circle renderer\n",
    "circle = p.circle(x, y, fill_color=\"red\", size=15)\n",
    "\n",
    "#vertical bar renderer\n",
    "#vbar= p.vbar(x=x, top=y, legend_label=\"Graph\", color=\"red\", width=0.5, bottom=0)\n",
    "\n",
    "# change plot size\n",
    "p.width = 450\n",
    "p.height = 150\n",
    "# show the results\n",
    "show(p)\n"
   ]
  },
  {
   "cell_type": "markdown",
   "id": "f27ba9d1",
   "metadata": {},
   "source": [
    "# Responsive Plot Sizing"
   ]
  },
  {
   "cell_type": "code",
   "execution_count": 28,
   "id": "3eca4e66",
   "metadata": {},
   "outputs": [
    {
     "data": {
      "text/html": [
       "\n",
       "  <div class=\"bk-root\" id=\"54b1acee-e703-4237-b1d7-209a882e3a83\" data-root-id=\"2892\"></div>\n"
      ]
     },
     "metadata": {},
     "output_type": "display_data"
    },
    {
     "data": {
      "application/javascript": [
       "(function(root) {\n",
       "  function embed_document(root) {\n",
       "  const docs_json = {\"e92771f6-6e06-4ede-8ff5-a2de50c98e4f\":{\"defs\":[],\"roots\":{\"references\":[{\"attributes\":{\"background_fill_color\":\"#20262B\",\"below\":[{\"id\":\"2903\"}],\"border_fill_color\":\"#15191C\",\"center\":[{\"id\":\"2906\"},{\"id\":\"2910\"}],\"height\":250,\"left\":[{\"id\":\"2907\"}],\"outline_line_alpha\":0.25,\"outline_line_color\":\"#E0E0E0\",\"renderers\":[{\"id\":\"2929\"}],\"sizing_mode\":\"stretch_width\",\"title\":{\"id\":\"2893\"},\"toolbar\":{\"id\":\"2918\"},\"x_range\":{\"id\":\"2895\"},\"x_scale\":{\"id\":\"2899\"},\"y_range\":{\"id\":\"2897\"},\"y_scale\":{\"id\":\"2901\"}},\"id\":\"2892\",\"subtype\":\"Figure\",\"type\":\"Plot\"},{\"attributes\":{},\"id\":\"3050\",\"type\":\"AllLabels\"},{\"attributes\":{},\"id\":\"3047\",\"type\":\"AllLabels\"},{\"attributes\":{\"coordinates\":null,\"group\":null,\"text\":\"Responsive Plot\",\"text_color\":\"#E0E0E0\",\"text_font\":\"Helvetica\",\"text_font_size\":\"1.15em\"},\"id\":\"2893\",\"type\":\"Title\"},{\"attributes\":{\"fill_color\":{\"value\":\"red\"},\"line_color\":{\"value\":\"#1f77b4\"},\"size\":{\"value\":15},\"x\":{\"field\":\"x\"},\"y\":{\"field\":\"y\"}},\"id\":\"2926\",\"type\":\"Circle\"},{\"attributes\":{},\"id\":\"2899\",\"type\":\"LinearScale\"},{\"attributes\":{\"fill_alpha\":{\"value\":0.2},\"fill_color\":{\"value\":\"red\"},\"hatch_alpha\":{\"value\":0.2},\"line_alpha\":{\"value\":0.2},\"line_color\":{\"value\":\"#1f77b4\"},\"size\":{\"value\":15},\"x\":{\"field\":\"x\"},\"y\":{\"field\":\"y\"}},\"id\":\"2928\",\"type\":\"Circle\"},{\"attributes\":{},\"id\":\"2897\",\"type\":\"DataRange1d\"},{\"attributes\":{},\"id\":\"2901\",\"type\":\"LinearScale\"},{\"attributes\":{\"bottom_units\":\"screen\",\"coordinates\":null,\"fill_alpha\":0.5,\"fill_color\":\"lightgrey\",\"group\":null,\"left_units\":\"screen\",\"level\":\"overlay\",\"line_alpha\":1.0,\"line_color\":\"black\",\"line_dash\":[4,4],\"line_width\":2,\"right_units\":\"screen\",\"syncable\":false,\"top_units\":\"screen\"},\"id\":\"2917\",\"type\":\"BoxAnnotation\"},{\"attributes\":{\"axis\":{\"id\":\"2903\"},\"coordinates\":null,\"grid_line_alpha\":0.25,\"grid_line_color\":\"#E0E0E0\",\"group\":null,\"ticker\":null},\"id\":\"2906\",\"type\":\"Grid\"},{\"attributes\":{},\"id\":\"2904\",\"type\":\"BasicTicker\"},{\"attributes\":{},\"id\":\"3052\",\"type\":\"Selection\"},{\"attributes\":{\"coordinates\":null,\"data_source\":{\"id\":\"2925\"},\"glyph\":{\"id\":\"2926\"},\"group\":null,\"hover_glyph\":null,\"muted_glyph\":{\"id\":\"2928\"},\"nonselection_glyph\":{\"id\":\"2927\"},\"view\":{\"id\":\"2930\"}},\"id\":\"2929\",\"type\":\"GlyphRenderer\"},{\"attributes\":{},\"id\":\"3051\",\"type\":\"UnionRenderers\"},{\"attributes\":{},\"id\":\"2915\",\"type\":\"ResetTool\"},{\"attributes\":{},\"id\":\"3046\",\"type\":\"BasicTickFormatter\"},{\"attributes\":{},\"id\":\"2914\",\"type\":\"SaveTool\"},{\"attributes\":{\"overlay\":{\"id\":\"2917\"}},\"id\":\"2913\",\"type\":\"BoxZoomTool\"},{\"attributes\":{},\"id\":\"2911\",\"type\":\"PanTool\"},{\"attributes\":{},\"id\":\"2916\",\"type\":\"HelpTool\"},{\"attributes\":{\"tools\":[{\"id\":\"2911\"},{\"id\":\"2912\"},{\"id\":\"2913\"},{\"id\":\"2914\"},{\"id\":\"2915\"},{\"id\":\"2916\"}]},\"id\":\"2918\",\"type\":\"Toolbar\"},{\"attributes\":{},\"id\":\"3049\",\"type\":\"BasicTickFormatter\"},{\"attributes\":{\"fill_alpha\":{\"value\":0.1},\"fill_color\":{\"value\":\"red\"},\"hatch_alpha\":{\"value\":0.1},\"line_alpha\":{\"value\":0.1},\"line_color\":{\"value\":\"#1f77b4\"},\"size\":{\"value\":15},\"x\":{\"field\":\"x\"},\"y\":{\"field\":\"y\"}},\"id\":\"2927\",\"type\":\"Circle\"},{\"attributes\":{\"source\":{\"id\":\"2925\"}},\"id\":\"2930\",\"type\":\"CDSView\"},{\"attributes\":{\"data\":{\"x\":[1,2,3,4,5],\"y\":[4,5,5,7,2]},\"selected\":{\"id\":\"3052\"},\"selection_policy\":{\"id\":\"3051\"}},\"id\":\"2925\",\"type\":\"ColumnDataSource\"},{\"attributes\":{},\"id\":\"2895\",\"type\":\"DataRange1d\"},{\"attributes\":{\"axis_label\":\"x\",\"axis_label_standoff\":10,\"axis_label_text_color\":\"#E0E0E0\",\"axis_label_text_font\":\"Helvetica\",\"axis_label_text_font_size\":\"1.25em\",\"axis_label_text_font_style\":\"normal\",\"axis_line_alpha\":0,\"axis_line_color\":\"#E0E0E0\",\"coordinates\":null,\"formatter\":{\"id\":\"3049\"},\"group\":null,\"major_label_policy\":{\"id\":\"3050\"},\"major_label_text_color\":\"#E0E0E0\",\"major_label_text_font\":\"Helvetica\",\"major_label_text_font_size\":\"1.025em\",\"major_tick_line_alpha\":0,\"major_tick_line_color\":\"#E0E0E0\",\"minor_tick_line_alpha\":0,\"minor_tick_line_color\":\"#E0E0E0\",\"ticker\":{\"id\":\"2904\"}},\"id\":\"2903\",\"type\":\"LinearAxis\"},{\"attributes\":{},\"id\":\"2908\",\"type\":\"BasicTicker\"},{\"attributes\":{\"axis\":{\"id\":\"2907\"},\"coordinates\":null,\"dimension\":1,\"grid_line_alpha\":0.25,\"grid_line_color\":\"#E0E0E0\",\"group\":null,\"ticker\":null},\"id\":\"2910\",\"type\":\"Grid\"},{\"attributes\":{},\"id\":\"2912\",\"type\":\"WheelZoomTool\"},{\"attributes\":{\"axis_label\":\"y\",\"axis_label_standoff\":10,\"axis_label_text_color\":\"#E0E0E0\",\"axis_label_text_font\":\"Helvetica\",\"axis_label_text_font_size\":\"1.25em\",\"axis_label_text_font_style\":\"normal\",\"axis_line_alpha\":0,\"axis_line_color\":\"#E0E0E0\",\"coordinates\":null,\"formatter\":{\"id\":\"3046\"},\"group\":null,\"major_label_policy\":{\"id\":\"3047\"},\"major_label_text_color\":\"#E0E0E0\",\"major_label_text_font\":\"Helvetica\",\"major_label_text_font_size\":\"1.025em\",\"major_tick_line_alpha\":0,\"major_tick_line_color\":\"#E0E0E0\",\"minor_tick_line_alpha\":0,\"minor_tick_line_color\":\"#E0E0E0\",\"ticker\":{\"id\":\"2908\"}},\"id\":\"2907\",\"type\":\"LinearAxis\"}],\"root_ids\":[\"2892\"]},\"title\":\"Bokeh Application\",\"version\":\"2.4.3\"}};\n",
       "  const render_items = [{\"docid\":\"e92771f6-6e06-4ede-8ff5-a2de50c98e4f\",\"root_ids\":[\"2892\"],\"roots\":{\"2892\":\"54b1acee-e703-4237-b1d7-209a882e3a83\"}}];\n",
       "  root.Bokeh.embed.embed_items_notebook(docs_json, render_items);\n",
       "  }\n",
       "  if (root.Bokeh !== undefined) {\n",
       "    embed_document(root);\n",
       "  } else {\n",
       "    let attempts = 0;\n",
       "    const timer = setInterval(function(root) {\n",
       "      if (root.Bokeh !== undefined) {\n",
       "        clearInterval(timer);\n",
       "        embed_document(root);\n",
       "      } else {\n",
       "        attempts++;\n",
       "        if (attempts > 100) {\n",
       "          clearInterval(timer);\n",
       "          console.log(\"Bokeh: ERROR: Unable to run BokehJS code because BokehJS library is missing\");\n",
       "        }\n",
       "      }\n",
       "    }, 10, root)\n",
       "  }\n",
       "})(window);"
      ],
      "application/vnd.bokehjs_exec.v0+json": ""
     },
     "metadata": {
      "application/vnd.bokehjs_exec.v0+json": {
       "id": "2892"
      }
     },
     "output_type": "display_data"
    }
   ],
   "source": [
    "x = [1, 2, 3, 4, 5]\n",
    "y = [4, 5, 5, 7, 2]\n",
    "\n",
    "# create a new plot with responsive width\n",
    "p = figure(title=\"Responsive Plot\", sizing_mode=\"stretch_width\", height=250, x_axis_label=\"x\", y_axis_label=\"y\")\n",
    "\n",
    "# add circle renderer\n",
    "circle = p.circle(x, y, fill_color=\"red\", size=15)\n",
    "\n",
    "# show the results\n",
    "show(p)"
   ]
  },
  {
   "cell_type": "markdown",
   "id": "2e4cd185",
   "metadata": {},
   "source": [
    "# Customize Axes"
   ]
  },
  {
   "cell_type": "code",
   "execution_count": 29,
   "id": "b1abcacb",
   "metadata": {},
   "outputs": [
    {
     "data": {
      "text/html": [
       "\n",
       "  <div class=\"bk-root\" id=\"779477c8-2f74-4d2f-b474-046babf27680\" data-root-id=\"3104\"></div>\n"
      ]
     },
     "metadata": {},
     "output_type": "display_data"
    },
    {
     "data": {
      "application/javascript": [
       "(function(root) {\n",
       "  function embed_document(root) {\n",
       "  const docs_json = {\"087af29b-0e15-41db-a7b9-c0d192ae3680\":{\"defs\":[],\"roots\":{\"references\":[{\"attributes\":{\"background_fill_color\":\"#20262B\",\"below\":[{\"id\":\"3115\"}],\"border_fill_color\":\"#15191C\",\"center\":[{\"id\":\"3118\"},{\"id\":\"3122\"}],\"height\":350,\"left\":[{\"id\":\"3119\"}],\"max_width\":500,\"outline_line_alpha\":0.25,\"outline_line_color\":\"#E0E0E0\",\"renderers\":[{\"id\":\"3141\"}],\"sizing_mode\":\"stretch_width\",\"title\":{\"id\":\"3105\"},\"toolbar\":{\"id\":\"3130\"},\"x_range\":{\"id\":\"3107\"},\"x_scale\":{\"id\":\"3111\"},\"y_range\":{\"id\":\"3109\"},\"y_scale\":{\"id\":\"3113\"}},\"id\":\"3104\",\"subtype\":\"Figure\",\"type\":\"Plot\"},{\"attributes\":{},\"id\":\"3109\",\"type\":\"DataRange1d\"},{\"attributes\":{},\"id\":\"3111\",\"type\":\"LinearScale\"},{\"attributes\":{\"coordinates\":null,\"data_source\":{\"id\":\"3137\"},\"glyph\":{\"id\":\"3138\"},\"group\":null,\"hover_glyph\":null,\"muted_glyph\":{\"id\":\"3140\"},\"nonselection_glyph\":{\"id\":\"3139\"},\"view\":{\"id\":\"3142\"}},\"id\":\"3141\",\"type\":\"GlyphRenderer\"},{\"attributes\":{\"axis_label\":\"Temp\",\"axis_label_standoff\":10,\"axis_label_text_color\":\"#E0E0E0\",\"axis_label_text_font\":\"Helvetica\",\"axis_label_text_font_size\":\"1.25em\",\"axis_label_text_font_style\":\"normal\",\"axis_line_alpha\":0,\"axis_line_color\":\"red\",\"axis_line_width\":3,\"coordinates\":null,\"formatter\":{\"id\":\"3271\"},\"group\":null,\"major_label_policy\":{\"id\":\"3272\"},\"major_label_text_color\":\"#E0E0E0\",\"major_label_text_font\":\"Helvetica\",\"major_label_text_font_size\":\"1.025em\",\"major_tick_line_alpha\":0,\"major_tick_line_color\":\"#E0E0E0\",\"minor_tick_in\":-3,\"minor_tick_line_alpha\":0,\"minor_tick_line_color\":\"#E0E0E0\",\"minor_tick_out\":6,\"ticker\":{\"id\":\"3116\"}},\"id\":\"3115\",\"type\":\"LinearAxis\"},{\"attributes\":{\"axis_label\":\"Pressure\",\"axis_label_standoff\":10,\"axis_label_text_color\":\"#E0E0E0\",\"axis_label_text_font\":\"Helvetica\",\"axis_label_text_font_size\":\"1.25em\",\"axis_label_text_font_style\":\"normal\",\"axis_line_alpha\":0,\"axis_line_color\":\"#E0E0E0\",\"coordinates\":null,\"formatter\":{\"id\":\"3268\"},\"group\":null,\"major_label_orientation\":\"vertical\",\"major_label_policy\":{\"id\":\"3269\"},\"major_label_text_color\":\"orange\",\"major_label_text_font\":\"Helvetica\",\"major_label_text_font_size\":\"1.025em\",\"major_tick_line_alpha\":0,\"major_tick_line_color\":\"#E0E0E0\",\"minor_tick_in\":-3,\"minor_tick_line_alpha\":0,\"minor_tick_line_color\":\"#E0E0E0\",\"minor_tick_out\":6,\"ticker\":{\"id\":\"3120\"}},\"id\":\"3119\",\"type\":\"LinearAxis\"},{\"attributes\":{\"coordinates\":null,\"group\":null,\"text\":\"Customized axes\",\"text_color\":\"#E0E0E0\",\"text_font\":\"Helvetica\",\"text_font_size\":\"1.15em\"},\"id\":\"3105\",\"type\":\"Title\"},{\"attributes\":{},\"id\":\"3128\",\"type\":\"HelpTool\"},{\"attributes\":{},\"id\":\"3272\",\"type\":\"AllLabels\"},{\"attributes\":{},\"id\":\"3116\",\"type\":\"BasicTicker\"},{\"attributes\":{},\"id\":\"3113\",\"type\":\"LinearScale\"},{\"attributes\":{\"axis\":{\"id\":\"3115\"},\"coordinates\":null,\"grid_line_alpha\":0.25,\"grid_line_color\":\"#E0E0E0\",\"group\":null,\"ticker\":null},\"id\":\"3118\",\"type\":\"Grid\"},{\"attributes\":{\"axis\":{\"id\":\"3119\"},\"coordinates\":null,\"dimension\":1,\"grid_line_alpha\":0.25,\"grid_line_color\":\"#E0E0E0\",\"group\":null,\"ticker\":null},\"id\":\"3122\",\"type\":\"Grid\"},{\"attributes\":{},\"id\":\"3120\",\"type\":\"BasicTicker\"},{\"attributes\":{},\"id\":\"3124\",\"type\":\"WheelZoomTool\"},{\"attributes\":{},\"id\":\"3123\",\"type\":\"PanTool\"},{\"attributes\":{\"overlay\":{\"id\":\"3129\"}},\"id\":\"3125\",\"type\":\"BoxZoomTool\"},{\"attributes\":{\"fill_alpha\":{\"value\":0.1},\"fill_color\":{\"value\":\"#1f77b4\"},\"hatch_alpha\":{\"value\":0.1},\"line_alpha\":{\"value\":0.1},\"line_color\":{\"value\":\"#1f77b4\"},\"size\":{\"value\":10},\"x\":{\"field\":\"x\"},\"y\":{\"field\":\"y\"}},\"id\":\"3139\",\"type\":\"Circle\"},{\"attributes\":{},\"id\":\"3273\",\"type\":\"UnionRenderers\"},{\"attributes\":{\"tools\":[{\"id\":\"3123\"},{\"id\":\"3124\"},{\"id\":\"3125\"},{\"id\":\"3126\"},{\"id\":\"3127\"},{\"id\":\"3128\"}]},\"id\":\"3130\",\"type\":\"Toolbar\"},{\"attributes\":{\"bottom_units\":\"screen\",\"coordinates\":null,\"fill_alpha\":0.5,\"fill_color\":\"lightgrey\",\"group\":null,\"left_units\":\"screen\",\"level\":\"overlay\",\"line_alpha\":1.0,\"line_color\":\"black\",\"line_dash\":[4,4],\"line_width\":2,\"right_units\":\"screen\",\"syncable\":false,\"top_units\":\"screen\"},\"id\":\"3129\",\"type\":\"BoxAnnotation\"},{\"attributes\":{},\"id\":\"3274\",\"type\":\"Selection\"},{\"attributes\":{\"data\":{\"x\":[1,2,3,4,5],\"y\":[4,5,5,7,2]},\"selected\":{\"id\":\"3274\"},\"selection_policy\":{\"id\":\"3273\"}},\"id\":\"3137\",\"type\":\"ColumnDataSource\"},{\"attributes\":{\"fill_color\":{\"value\":\"#1f77b4\"},\"line_color\":{\"value\":\"#1f77b4\"},\"size\":{\"value\":10},\"x\":{\"field\":\"x\"},\"y\":{\"field\":\"y\"}},\"id\":\"3138\",\"type\":\"Circle\"},{\"attributes\":{},\"id\":\"3127\",\"type\":\"ResetTool\"},{\"attributes\":{},\"id\":\"3126\",\"type\":\"SaveTool\"},{\"attributes\":{},\"id\":\"3107\",\"type\":\"DataRange1d\"},{\"attributes\":{\"fill_alpha\":{\"value\":0.2},\"fill_color\":{\"value\":\"#1f77b4\"},\"hatch_alpha\":{\"value\":0.2},\"line_alpha\":{\"value\":0.2},\"line_color\":{\"value\":\"#1f77b4\"},\"size\":{\"value\":10},\"x\":{\"field\":\"x\"},\"y\":{\"field\":\"y\"}},\"id\":\"3140\",\"type\":\"Circle\"},{\"attributes\":{},\"id\":\"3269\",\"type\":\"AllLabels\"},{\"attributes\":{},\"id\":\"3268\",\"type\":\"BasicTickFormatter\"},{\"attributes\":{\"source\":{\"id\":\"3137\"}},\"id\":\"3142\",\"type\":\"CDSView\"},{\"attributes\":{},\"id\":\"3271\",\"type\":\"BasicTickFormatter\"}],\"root_ids\":[\"3104\"]},\"title\":\"Bokeh Application\",\"version\":\"2.4.3\"}};\n",
       "  const render_items = [{\"docid\":\"087af29b-0e15-41db-a7b9-c0d192ae3680\",\"root_ids\":[\"3104\"],\"roots\":{\"3104\":\"779477c8-2f74-4d2f-b474-046babf27680\"}}];\n",
       "  root.Bokeh.embed.embed_items_notebook(docs_json, render_items);\n",
       "  }\n",
       "  if (root.Bokeh !== undefined) {\n",
       "    embed_document(root);\n",
       "  } else {\n",
       "    let attempts = 0;\n",
       "    const timer = setInterval(function(root) {\n",
       "      if (root.Bokeh !== undefined) {\n",
       "        clearInterval(timer);\n",
       "        embed_document(root);\n",
       "      } else {\n",
       "        attempts++;\n",
       "        if (attempts > 100) {\n",
       "          clearInterval(timer);\n",
       "          console.log(\"Bokeh: ERROR: Unable to run BokehJS code because BokehJS library is missing\");\n",
       "        }\n",
       "      }\n",
       "    }, 10, root)\n",
       "  }\n",
       "})(window);"
      ],
      "application/vnd.bokehjs_exec.v0+json": ""
     },
     "metadata": {
      "application/vnd.bokehjs_exec.v0+json": {
       "id": "3104"
      }
     },
     "output_type": "display_data"
    }
   ],
   "source": [
    "# prepare some data\n",
    "x = [1, 2, 3, 4, 5]\n",
    "y = [4, 5, 5, 7, 2]\n",
    "\n",
    "# create a plot\n",
    "p = figure(\n",
    "    title=\"Customized axes\",\n",
    "    sizing_mode=\"stretch_width\",\n",
    "    max_width=500,\n",
    "    height=350,\n",
    ")\n",
    "\n",
    "# add a renderer\n",
    "p.circle(x, y, size=10)\n",
    "#p.line(x, y, line_width=2)\n",
    "\n",
    "# change some things about the x-axis\n",
    "p.xaxis.axis_label = \"Temp\"\n",
    "p.xaxis.axis_line_width = 3\n",
    "p.xaxis.axis_line_color = \"red\"\n",
    "\n",
    "# change some things about the y-axis\n",
    "p.yaxis.axis_label = \"Pressure\"\n",
    "p.yaxis.major_label_text_color = \"orange\"\n",
    "p.yaxis.major_label_orientation = \"vertical\"\n",
    "\n",
    "# change things on all axes\n",
    "p.axis.minor_tick_in = -3\n",
    "p.axis.minor_tick_out = 6\n",
    "\n",
    "# show the results\n",
    "show(p)"
   ]
  },
  {
   "cell_type": "markdown",
   "id": "d76e9294",
   "metadata": {},
   "source": [
    "# Axis Range"
   ]
  },
  {
   "cell_type": "code",
   "execution_count": 30,
   "id": "a4f59ebb",
   "metadata": {},
   "outputs": [
    {
     "data": {
      "text/html": [
       "\n",
       "  <div class=\"bk-root\" id=\"75122125-99ca-4eff-9ed9-59d822c0ace7\" data-root-id=\"3326\"></div>\n"
      ]
     },
     "metadata": {},
     "output_type": "display_data"
    },
    {
     "data": {
      "application/javascript": [
       "(function(root) {\n",
       "  function embed_document(root) {\n",
       "  const docs_json = {\"316e7330-9356-4045-bbdf-00bc73e0b9cc\":{\"defs\":[],\"roots\":{\"references\":[{\"attributes\":{\"background_fill_color\":\"#20262B\",\"below\":[{\"id\":\"3337\"}],\"border_fill_color\":\"#15191C\",\"center\":[{\"id\":\"3340\"},{\"id\":\"3344\"}],\"height\":250,\"left\":[{\"id\":\"3341\"}],\"max_width\":500,\"outline_line_alpha\":0.25,\"outline_line_color\":\"#E0E0E0\",\"renderers\":[{\"id\":\"3363\"}],\"sizing_mode\":\"stretch_width\",\"title\":{\"id\":\"3327\"},\"toolbar\":{\"id\":\"3352\"},\"x_range\":{\"id\":\"3329\"},\"x_scale\":{\"id\":\"3333\"},\"y_range\":{\"id\":\"3331\"},\"y_scale\":{\"id\":\"3335\"}},\"id\":\"3326\",\"subtype\":\"Figure\",\"type\":\"Plot\"},{\"attributes\":{\"axis_label_standoff\":10,\"axis_label_text_color\":\"#E0E0E0\",\"axis_label_text_font\":\"Helvetica\",\"axis_label_text_font_size\":\"1.25em\",\"axis_label_text_font_style\":\"normal\",\"axis_line_alpha\":0,\"axis_line_color\":\"#E0E0E0\",\"coordinates\":null,\"formatter\":{\"id\":\"3500\"},\"group\":null,\"major_label_policy\":{\"id\":\"3501\"},\"major_label_text_color\":\"#E0E0E0\",\"major_label_text_font\":\"Helvetica\",\"major_label_text_font_size\":\"1.025em\",\"major_tick_line_alpha\":0,\"major_tick_line_color\":\"#E0E0E0\",\"minor_tick_line_alpha\":0,\"minor_tick_line_color\":\"#E0E0E0\",\"ticker\":{\"id\":\"3342\"}},\"id\":\"3341\",\"type\":\"LinearAxis\"},{\"attributes\":{},\"id\":\"3346\",\"type\":\"WheelZoomTool\"},{\"attributes\":{},\"id\":\"3505\",\"type\":\"UnionRenderers\"},{\"attributes\":{\"axis_label_standoff\":10,\"axis_label_text_color\":\"#E0E0E0\",\"axis_label_text_font\":\"Helvetica\",\"axis_label_text_font_size\":\"1.25em\",\"axis_label_text_font_style\":\"normal\",\"axis_line_alpha\":0,\"axis_line_color\":\"#E0E0E0\",\"coordinates\":null,\"formatter\":{\"id\":\"3503\"},\"group\":null,\"major_label_policy\":{\"id\":\"3504\"},\"major_label_text_color\":\"#E0E0E0\",\"major_label_text_font\":\"Helvetica\",\"major_label_text_font_size\":\"1.025em\",\"major_tick_line_alpha\":0,\"major_tick_line_color\":\"#E0E0E0\",\"minor_tick_line_alpha\":0,\"minor_tick_line_color\":\"#E0E0E0\",\"ticker\":{\"id\":\"3338\"}},\"id\":\"3337\",\"type\":\"LinearAxis\"},{\"attributes\":{},\"id\":\"3338\",\"type\":\"BasicTicker\"},{\"attributes\":{},\"id\":\"3345\",\"type\":\"PanTool\"},{\"attributes\":{\"overlay\":{\"id\":\"3351\"}},\"id\":\"3347\",\"type\":\"BoxZoomTool\"},{\"attributes\":{},\"id\":\"3348\",\"type\":\"SaveTool\"},{\"attributes\":{},\"id\":\"3349\",\"type\":\"ResetTool\"},{\"attributes\":{\"tools\":[{\"id\":\"3345\"},{\"id\":\"3346\"},{\"id\":\"3347\"},{\"id\":\"3348\"},{\"id\":\"3349\"},{\"id\":\"3350\"}]},\"id\":\"3352\",\"type\":\"Toolbar\"},{\"attributes\":{},\"id\":\"3503\",\"type\":\"BasicTickFormatter\"},{\"attributes\":{\"fill_alpha\":{\"value\":0.1},\"fill_color\":{\"value\":\"#1f77b4\"},\"hatch_alpha\":{\"value\":0.1},\"line_alpha\":{\"value\":0.1},\"line_color\":{\"value\":\"#1f77b4\"},\"size\":{\"value\":8},\"x\":{\"field\":\"x\"},\"y\":{\"field\":\"y\"}},\"id\":\"3361\",\"type\":\"Circle\"},{\"attributes\":{\"data\":{\"x\":[1,2,3,4,5],\"y\":[4,5,5,7,2]},\"selected\":{\"id\":\"3506\"},\"selection_policy\":{\"id\":\"3505\"}},\"id\":\"3359\",\"type\":\"ColumnDataSource\"},{\"attributes\":{\"source\":{\"id\":\"3359\"}},\"id\":\"3364\",\"type\":\"CDSView\"},{\"attributes\":{\"axis\":{\"id\":\"3341\"},\"coordinates\":null,\"dimension\":1,\"grid_line_alpha\":0.25,\"grid_line_color\":\"#E0E0E0\",\"group\":null,\"ticker\":null},\"id\":\"3344\",\"type\":\"Grid\"},{\"attributes\":{},\"id\":\"3342\",\"type\":\"BasicTicker\"},{\"attributes\":{\"fill_alpha\":{\"value\":0.2},\"fill_color\":{\"value\":\"#1f77b4\"},\"hatch_alpha\":{\"value\":0.2},\"line_alpha\":{\"value\":0.2},\"line_color\":{\"value\":\"#1f77b4\"},\"size\":{\"value\":8},\"x\":{\"field\":\"x\"},\"y\":{\"field\":\"y\"}},\"id\":\"3362\",\"type\":\"Circle\"},{\"attributes\":{\"coordinates\":null,\"data_source\":{\"id\":\"3359\"},\"glyph\":{\"id\":\"3360\"},\"group\":null,\"hover_glyph\":null,\"muted_glyph\":{\"id\":\"3362\"},\"nonselection_glyph\":{\"id\":\"3361\"},\"view\":{\"id\":\"3364\"}},\"id\":\"3363\",\"type\":\"GlyphRenderer\"},{\"attributes\":{},\"id\":\"3350\",\"type\":\"HelpTool\"},{\"attributes\":{},\"id\":\"3333\",\"type\":\"LinearScale\"},{\"attributes\":{\"fill_color\":{\"value\":\"#1f77b4\"},\"line_color\":{\"value\":\"#1f77b4\"},\"size\":{\"value\":8},\"x\":{\"field\":\"x\"},\"y\":{\"field\":\"y\"}},\"id\":\"3360\",\"type\":\"Circle\"},{\"attributes\":{},\"id\":\"3500\",\"type\":\"BasicTickFormatter\"},{\"attributes\":{\"end\":20},\"id\":\"3331\",\"type\":\"Range1d\"},{\"attributes\":{},\"id\":\"3504\",\"type\":\"AllLabels\"},{\"attributes\":{},\"id\":\"3329\",\"type\":\"DataRange1d\"},{\"attributes\":{},\"id\":\"3501\",\"type\":\"AllLabels\"},{\"attributes\":{\"bottom_units\":\"screen\",\"coordinates\":null,\"fill_alpha\":0.5,\"fill_color\":\"lightgrey\",\"group\":null,\"left_units\":\"screen\",\"level\":\"overlay\",\"line_alpha\":1.0,\"line_color\":\"black\",\"line_dash\":[4,4],\"line_width\":2,\"right_units\":\"screen\",\"syncable\":false,\"top_units\":\"screen\"},\"id\":\"3351\",\"type\":\"BoxAnnotation\"},{\"attributes\":{},\"id\":\"3506\",\"type\":\"Selection\"},{\"attributes\":{\"axis\":{\"id\":\"3337\"},\"coordinates\":null,\"grid_line_alpha\":0.25,\"grid_line_color\":\"#E0E0E0\",\"group\":null,\"ticker\":null},\"id\":\"3340\",\"type\":\"Grid\"},{\"attributes\":{\"coordinates\":null,\"group\":null,\"text\":\"Axis Range\",\"text_color\":\"#E0E0E0\",\"text_font\":\"Helvetica\",\"text_font_size\":\"1.15em\"},\"id\":\"3327\",\"type\":\"Title\"},{\"attributes\":{},\"id\":\"3335\",\"type\":\"LinearScale\"}],\"root_ids\":[\"3326\"]},\"title\":\"Bokeh Application\",\"version\":\"2.4.3\"}};\n",
       "  const render_items = [{\"docid\":\"316e7330-9356-4045-bbdf-00bc73e0b9cc\",\"root_ids\":[\"3326\"],\"roots\":{\"3326\":\"75122125-99ca-4eff-9ed9-59d822c0ace7\"}}];\n",
       "  root.Bokeh.embed.embed_items_notebook(docs_json, render_items);\n",
       "  }\n",
       "  if (root.Bokeh !== undefined) {\n",
       "    embed_document(root);\n",
       "  } else {\n",
       "    let attempts = 0;\n",
       "    const timer = setInterval(function(root) {\n",
       "      if (root.Bokeh !== undefined) {\n",
       "        clearInterval(timer);\n",
       "        embed_document(root);\n",
       "      } else {\n",
       "        attempts++;\n",
       "        if (attempts > 100) {\n",
       "          clearInterval(timer);\n",
       "          console.log(\"Bokeh: ERROR: Unable to run BokehJS code because BokehJS library is missing\");\n",
       "        }\n",
       "      }\n",
       "    }, 10, root)\n",
       "  }\n",
       "})(window);"
      ],
      "application/vnd.bokehjs_exec.v0+json": ""
     },
     "metadata": {
      "application/vnd.bokehjs_exec.v0+json": {
       "id": "3326"
      }
     },
     "output_type": "display_data"
    }
   ],
   "source": [
    "x = [1, 2, 3, 4, 5]\n",
    "y = [4, 5, 5, 7, 2]\n",
    "\n",
    "# create a new plot with responsive width\n",
    "p = figure(y_range=(0, 20), title=\"Axis Range\", sizing_mode=\"stretch_width\", max_width=500, height=250)\n",
    "\n",
    "# add circle renderer with additional arguments\n",
    "circle = p.circle(x, y, size=8)\n",
    "\n",
    "# show the results\n",
    "show(p)"
   ]
  },
  {
   "cell_type": "markdown",
   "id": "e23eeed7",
   "metadata": {},
   "source": [
    "# Format Axis Ticks"
   ]
  },
  {
   "cell_type": "code",
   "execution_count": 31,
   "id": "89f9ce8e",
   "metadata": {},
   "outputs": [
    {
     "data": {
      "text/html": [
       "\n",
       "  <div class=\"bk-root\" id=\"03819634-0130-4276-91eb-d534924a0c93\" data-root-id=\"3558\"></div>\n"
      ]
     },
     "metadata": {},
     "output_type": "display_data"
    },
    {
     "data": {
      "application/javascript": [
       "(function(root) {\n",
       "  function embed_document(root) {\n",
       "  const docs_json = {\"00e3365f-c436-4599-a701-d971d541cad6\":{\"defs\":[],\"roots\":{\"references\":[{\"attributes\":{\"background_fill_color\":\"#20262B\",\"below\":[{\"id\":\"3569\"}],\"border_fill_color\":\"#15191C\",\"center\":[{\"id\":\"3572\"},{\"id\":\"3576\"}],\"height\":250,\"left\":[{\"id\":\"3573\"}],\"max_width\":500,\"outline_line_alpha\":0.25,\"outline_line_color\":\"#E0E0E0\",\"renderers\":[{\"id\":\"3597\"},{\"id\":\"3603\"}],\"sizing_mode\":\"stretch_width\",\"title\":{\"id\":\"3559\"},\"toolbar\":{\"id\":\"3584\"},\"x_range\":{\"id\":\"3561\"},\"x_scale\":{\"id\":\"3565\"},\"y_range\":{\"id\":\"3563\"},\"y_scale\":{\"id\":\"3567\"}},\"id\":\"3558\",\"subtype\":\"Figure\",\"type\":\"Plot\"},{\"attributes\":{\"source\":{\"id\":\"3599\"}},\"id\":\"3604\",\"type\":\"CDSView\"},{\"attributes\":{},\"id\":\"3752\",\"type\":\"BasicTickFormatter\"},{\"attributes\":{},\"id\":\"3582\",\"type\":\"HelpTool\"},{\"attributes\":{\"fill_color\":{\"value\":\"#1f77b4\"},\"line_color\":{\"value\":\"#1f77b4\"},\"size\":{\"value\":8},\"x\":{\"field\":\"x\"},\"y\":{\"field\":\"y\"}},\"id\":\"3594\",\"type\":\"Circle\"},{\"attributes\":{},\"id\":\"3753\",\"type\":\"AllLabels\"},{\"attributes\":{\"coordinates\":null,\"group\":null,\"text\":\"Tick formatter\",\"text_color\":\"#E0E0E0\",\"text_font\":\"Helvetica\",\"text_font_size\":\"1.15em\"},\"id\":\"3559\",\"type\":\"Title\"},{\"attributes\":{\"axis_label_standoff\":10,\"axis_label_text_color\":\"#E0E0E0\",\"axis_label_text_font\":\"Helvetica\",\"axis_label_text_font_size\":\"1.25em\",\"axis_label_text_font_style\":\"normal\",\"axis_line_alpha\":0,\"axis_line_color\":\"#E0E0E0\",\"coordinates\":null,\"formatter\":{\"id\":\"3591\"},\"group\":null,\"major_label_policy\":{\"id\":\"3750\"},\"major_label_text_color\":\"#E0E0E0\",\"major_label_text_font\":\"Helvetica\",\"major_label_text_font_size\":\"1.025em\",\"major_tick_line_alpha\":0,\"major_tick_line_color\":\"#E0E0E0\",\"minor_tick_line_alpha\":0,\"minor_tick_line_color\":\"#E0E0E0\",\"ticker\":{\"id\":\"3574\"}},\"id\":\"3573\",\"type\":\"LinearAxis\"},{\"attributes\":{\"data\":{\"x\":[1,2,3,4,5],\"y\":[4,5,5,7,2]},\"selected\":{\"id\":\"3757\"},\"selection_policy\":{\"id\":\"3756\"}},\"id\":\"3599\",\"type\":\"ColumnDataSource\"},{\"attributes\":{\"axis_label_standoff\":10,\"axis_label_text_color\":\"#E0E0E0\",\"axis_label_text_font\":\"Helvetica\",\"axis_label_text_font_size\":\"1.25em\",\"axis_label_text_font_style\":\"normal\",\"axis_line_alpha\":0,\"axis_line_color\":\"#E0E0E0\",\"coordinates\":null,\"formatter\":{\"id\":\"3752\"},\"group\":null,\"major_label_policy\":{\"id\":\"3753\"},\"major_label_text_color\":\"#E0E0E0\",\"major_label_text_font\":\"Helvetica\",\"major_label_text_font_size\":\"1.025em\",\"major_tick_line_alpha\":0,\"major_tick_line_color\":\"#E0E0E0\",\"minor_tick_line_alpha\":0,\"minor_tick_line_color\":\"#E0E0E0\",\"ticker\":{\"id\":\"3570\"}},\"id\":\"3569\",\"type\":\"LinearAxis\"},{\"attributes\":{},\"id\":\"3561\",\"type\":\"DataRange1d\"},{\"attributes\":{\"tools\":[{\"id\":\"3577\"},{\"id\":\"3578\"},{\"id\":\"3579\"},{\"id\":\"3580\"},{\"id\":\"3581\"},{\"id\":\"3582\"}]},\"id\":\"3584\",\"type\":\"Toolbar\"},{\"attributes\":{\"bottom_units\":\"screen\",\"coordinates\":null,\"fill_alpha\":0.5,\"fill_color\":\"lightgrey\",\"group\":null,\"left_units\":\"screen\",\"level\":\"overlay\",\"line_alpha\":1.0,\"line_color\":\"black\",\"line_dash\":[4,4],\"line_width\":2,\"right_units\":\"screen\",\"syncable\":false,\"top_units\":\"screen\"},\"id\":\"3583\",\"type\":\"BoxAnnotation\"},{\"attributes\":{\"line_color\":\"azure\",\"line_width\":1.5,\"x\":{\"field\":\"x\"},\"y\":{\"field\":\"y\"}},\"id\":\"3600\",\"type\":\"Line\"},{\"attributes\":{\"coordinates\":null,\"data_source\":{\"id\":\"3593\"},\"glyph\":{\"id\":\"3594\"},\"group\":null,\"hover_glyph\":null,\"muted_glyph\":{\"id\":\"3596\"},\"nonselection_glyph\":{\"id\":\"3595\"},\"view\":{\"id\":\"3598\"}},\"id\":\"3597\",\"type\":\"GlyphRenderer\"},{\"attributes\":{},\"id\":\"3581\",\"type\":\"ResetTool\"},{\"attributes\":{\"fill_alpha\":{\"value\":0.1},\"fill_color\":{\"value\":\"#1f77b4\"},\"hatch_alpha\":{\"value\":0.1},\"line_alpha\":{\"value\":0.1},\"line_color\":{\"value\":\"#1f77b4\"},\"size\":{\"value\":8},\"x\":{\"field\":\"x\"},\"y\":{\"field\":\"y\"}},\"id\":\"3595\",\"type\":\"Circle\"},{\"attributes\":{},\"id\":\"3580\",\"type\":\"SaveTool\"},{\"attributes\":{\"source\":{\"id\":\"3593\"}},\"id\":\"3598\",\"type\":\"CDSView\"},{\"attributes\":{\"overlay\":{\"id\":\"3583\"}},\"id\":\"3579\",\"type\":\"BoxZoomTool\"},{\"attributes\":{},\"id\":\"3755\",\"type\":\"Selection\"},{\"attributes\":{\"coordinates\":null,\"data_source\":{\"id\":\"3599\"},\"glyph\":{\"id\":\"3600\"},\"group\":null,\"hover_glyph\":null,\"muted_glyph\":{\"id\":\"3602\"},\"nonselection_glyph\":{\"id\":\"3601\"},\"view\":{\"id\":\"3604\"}},\"id\":\"3603\",\"type\":\"GlyphRenderer\"},{\"attributes\":{},\"id\":\"3577\",\"type\":\"PanTool\"},{\"attributes\":{},\"id\":\"3754\",\"type\":\"UnionRenderers\"},{\"attributes\":{},\"id\":\"3578\",\"type\":\"WheelZoomTool\"},{\"attributes\":{\"fill_alpha\":{\"value\":0.2},\"fill_color\":{\"value\":\"#1f77b4\"},\"hatch_alpha\":{\"value\":0.2},\"line_alpha\":{\"value\":0.2},\"line_color\":{\"value\":\"#1f77b4\"},\"size\":{\"value\":8},\"x\":{\"field\":\"x\"},\"y\":{\"field\":\"y\"}},\"id\":\"3596\",\"type\":\"Circle\"},{\"attributes\":{\"data\":{\"x\":[1,2,3,4,5],\"y\":[4,5,5,7,2]},\"selected\":{\"id\":\"3755\"},\"selection_policy\":{\"id\":\"3754\"}},\"id\":\"3593\",\"type\":\"ColumnDataSource\"},{\"attributes\":{},\"id\":\"3574\",\"type\":\"BasicTicker\"},{\"attributes\":{},\"id\":\"3750\",\"type\":\"AllLabels\"},{\"attributes\":{\"axis\":{\"id\":\"3573\"},\"coordinates\":null,\"dimension\":1,\"grid_line_alpha\":0.25,\"grid_line_color\":\"#E0E0E0\",\"group\":null,\"ticker\":null},\"id\":\"3576\",\"type\":\"Grid\"},{\"attributes\":{\"axis\":{\"id\":\"3569\"},\"coordinates\":null,\"grid_line_alpha\":0.25,\"grid_line_color\":\"#E0E0E0\",\"group\":null,\"ticker\":null},\"id\":\"3572\",\"type\":\"Grid\"},{\"attributes\":{},\"id\":\"3567\",\"type\":\"LinearScale\"},{\"attributes\":{},\"id\":\"3570\",\"type\":\"BasicTicker\"},{\"attributes\":{},\"id\":\"3756\",\"type\":\"UnionRenderers\"},{\"attributes\":{},\"id\":\"3757\",\"type\":\"Selection\"},{\"attributes\":{\"line_alpha\":0.1,\"line_color\":\"azure\",\"line_width\":1.5,\"x\":{\"field\":\"x\"},\"y\":{\"field\":\"y\"}},\"id\":\"3601\",\"type\":\"Line\"},{\"attributes\":{\"line_alpha\":0.2,\"line_color\":\"azure\",\"line_width\":1.5,\"x\":{\"field\":\"x\"},\"y\":{\"field\":\"y\"}},\"id\":\"3602\",\"type\":\"Line\"},{\"attributes\":{},\"id\":\"3563\",\"type\":\"DataRange1d\"},{\"attributes\":{},\"id\":\"3565\",\"type\":\"LinearScale\"},{\"attributes\":{\"format\":\"$0.00\"},\"id\":\"3591\",\"type\":\"NumeralTickFormatter\"}],\"root_ids\":[\"3558\"]},\"title\":\"Bokeh Application\",\"version\":\"2.4.3\"}};\n",
       "  const render_items = [{\"docid\":\"00e3365f-c436-4599-a701-d971d541cad6\",\"root_ids\":[\"3558\"],\"roots\":{\"3558\":\"03819634-0130-4276-91eb-d534924a0c93\"}}];\n",
       "  root.Bokeh.embed.embed_items_notebook(docs_json, render_items);\n",
       "  }\n",
       "  if (root.Bokeh !== undefined) {\n",
       "    embed_document(root);\n",
       "  } else {\n",
       "    let attempts = 0;\n",
       "    const timer = setInterval(function(root) {\n",
       "      if (root.Bokeh !== undefined) {\n",
       "        clearInterval(timer);\n",
       "        embed_document(root);\n",
       "      } else {\n",
       "        attempts++;\n",
       "        if (attempts > 100) {\n",
       "          clearInterval(timer);\n",
       "          console.log(\"Bokeh: ERROR: Unable to run BokehJS code because BokehJS library is missing\");\n",
       "        }\n",
       "      }\n",
       "    }, 10, root)\n",
       "  }\n",
       "})(window);"
      ],
      "application/vnd.bokehjs_exec.v0+json": ""
     },
     "metadata": {
      "application/vnd.bokehjs_exec.v0+json": {
       "id": "3558"
      }
     },
     "output_type": "display_data"
    }
   ],
   "source": [
    "x = [1, 2, 3, 4, 5]\n",
    "y = [4, 5, 5, 7, 2]\n",
    "\n",
    "# create new plot\n",
    "p = figure(title=\"Tick formatter\", sizing_mode=\"stretch_width\", max_width=500, height=250)\n",
    "\n",
    "# format axes ticks\n",
    "p.yaxis[0].formatter = NumeralTickFormatter(format=\"$0.00\")\n",
    "\n",
    "# add renderers\n",
    "p.circle(x, y, size=8)\n",
    "p.line(x, y, color=\"azure\", line_width=1.5)\n",
    "\n",
    "# show the results\n",
    "show(p)"
   ]
  },
  {
   "cell_type": "markdown",
   "id": "5a6712b5",
   "metadata": {},
   "source": [
    "# Logarithm axes"
   ]
  },
  {
   "cell_type": "code",
   "execution_count": 32,
   "id": "cfdf77e9",
   "metadata": {},
   "outputs": [
    {
     "data": {
      "text/html": [
       "\n",
       "  <div class=\"bk-root\" id=\"9749084c-e080-433a-887b-875ec22621da\" data-root-id=\"3814\"></div>\n"
      ]
     },
     "metadata": {},
     "output_type": "display_data"
    },
    {
     "data": {
      "application/javascript": [
       "(function(root) {\n",
       "  function embed_document(root) {\n",
       "  const docs_json = {\"b76e4045-bedb-43fa-a75f-d492c22063e5\":{\"defs\":[],\"roots\":{\"references\":[{\"attributes\":{\"background_fill_color\":\"#20262B\",\"below\":[{\"id\":\"3825\"}],\"border_fill_color\":\"#15191C\",\"center\":[{\"id\":\"3828\"},{\"id\":\"3832\"},{\"id\":\"3863\"}],\"height\":300,\"left\":[{\"id\":\"3829\"}],\"max_width\":500,\"outline_line_alpha\":0.25,\"outline_line_color\":\"#E0E0E0\",\"renderers\":[{\"id\":\"3851\"},{\"id\":\"3869\"},{\"id\":\"3887\"},{\"id\":\"3908\"},{\"id\":\"3931\"},{\"id\":\"3955\"}],\"sizing_mode\":\"stretch_width\",\"title\":{\"id\":\"3815\"},\"toolbar\":{\"id\":\"3840\"},\"x_range\":{\"id\":\"3817\"},\"x_scale\":{\"id\":\"3821\"},\"y_range\":{\"id\":\"3819\"},\"y_scale\":{\"id\":\"3823\"}},\"id\":\"3814\",\"subtype\":\"Figure\",\"type\":\"Plot\"},{\"attributes\":{},\"id\":\"3881\",\"type\":\"Selection\"},{\"attributes\":{},\"id\":\"3880\",\"type\":\"UnionRenderers\"},{\"attributes\":{\"coordinates\":null,\"data_source\":{\"id\":\"3904\"},\"glyph\":{\"id\":\"3905\"},\"group\":null,\"hover_glyph\":null,\"muted_glyph\":{\"id\":\"3907\"},\"nonselection_glyph\":{\"id\":\"3906\"},\"view\":{\"id\":\"3909\"}},\"id\":\"3908\",\"type\":\"GlyphRenderer\"},{\"attributes\":{\"source\":{\"id\":\"3865\"}},\"id\":\"3870\",\"type\":\"CDSView\"},{\"attributes\":{\"source\":{\"id\":\"3904\"}},\"id\":\"3909\",\"type\":\"CDSView\"},{\"attributes\":{\"fill_alpha\":{\"value\":0.1},\"fill_color\":{\"value\":\"white\"},\"hatch_alpha\":{\"value\":0.1},\"line_alpha\":{\"value\":0.1},\"line_color\":{\"value\":\"#1f77b4\"},\"size\":{\"value\":8},\"x\":{\"field\":\"x\"},\"y\":{\"field\":\"y\"}},\"id\":\"3867\",\"type\":\"Circle\"},{\"attributes\":{\"data\":{\"x\":[0.1,0.5,1.0,1.5,2.0,2.5,3.0],\"y\":[0.010000000000000002,0.25,1.0,2.25,4.0,6.25,9.0]},\"selected\":{\"id\":\"3901\"},\"selection_policy\":{\"id\":\"3900\"}},\"id\":\"3883\",\"type\":\"ColumnDataSource\"},{\"attributes\":{\"fill_color\":{\"value\":\"red\"},\"line_color\":{\"value\":\"red\"},\"size\":{\"value\":6},\"x\":{\"field\":\"x\"},\"y\":{\"field\":\"y\"}},\"id\":\"3928\",\"type\":\"Circle\"},{\"attributes\":{\"coordinates\":null,\"data_source\":{\"id\":\"3865\"},\"glyph\":{\"id\":\"3866\"},\"group\":null,\"hover_glyph\":null,\"muted_glyph\":{\"id\":\"3868\"},\"nonselection_glyph\":{\"id\":\"3867\"},\"view\":{\"id\":\"3870\"}},\"id\":\"3869\",\"type\":\"GlyphRenderer\"},{\"attributes\":{\"data\":{\"x\":[0.1,0.5,1.0,1.5,2.0,2.5,3.0],\"y\":[1.2589254117941673,3.1622776601683795,10.0,31.622776601683793,100.0,316.22776601683796,1000.0]},\"selected\":{\"id\":\"3924\"},\"selection_policy\":{\"id\":\"3923\"}},\"id\":\"3904\",\"type\":\"ColumnDataSource\"},{\"attributes\":{},\"id\":\"3949\",\"type\":\"Selection\"},{\"attributes\":{\"line_alpha\":0.2,\"line_color\":\"red\",\"x\":{\"field\":\"x\"},\"y\":{\"field\":\"y\"}},\"id\":\"3907\",\"type\":\"Line\"},{\"attributes\":{\"label\":{\"value\":\"y=x\"},\"renderers\":[{\"id\":\"3851\"},{\"id\":\"3869\"}]},\"id\":\"3864\",\"type\":\"LegendItem\"},{\"attributes\":{},\"id\":\"3924\",\"type\":\"Selection\"},{\"attributes\":{\"fill_alpha\":{\"value\":0.2},\"fill_color\":{\"value\":\"white\"},\"hatch_alpha\":{\"value\":0.2},\"line_alpha\":{\"value\":0.2},\"line_color\":{\"value\":\"#1f77b4\"},\"size\":{\"value\":8},\"x\":{\"field\":\"x\"},\"y\":{\"field\":\"y\"}},\"id\":\"3868\",\"type\":\"Circle\"},{\"attributes\":{\"line_alpha\":0.1,\"line_color\":\"red\",\"x\":{\"field\":\"x\"},\"y\":{\"field\":\"y\"}},\"id\":\"3906\",\"type\":\"Line\"},{\"attributes\":{\"line_color\":\"red\",\"x\":{\"field\":\"x\"},\"y\":{\"field\":\"y\"}},\"id\":\"3905\",\"type\":\"Line\"},{\"attributes\":{\"label\":{\"value\":\"y=10^x\"},\"renderers\":[{\"id\":\"3908\"},{\"id\":\"3931\"}]},\"id\":\"3926\",\"type\":\"LegendItem\"},{\"attributes\":{\"data\":{\"x\":[0.1,0.5,1.0,1.5,2.0,2.5,3.0],\"y\":[0.1,0.5,1.0,1.5,2.0,2.5,3.0]},\"selected\":{\"id\":\"3881\"},\"selection_policy\":{\"id\":\"3880\"}},\"id\":\"3865\",\"type\":\"ColumnDataSource\"},{\"attributes\":{},\"id\":\"3821\",\"type\":\"LinearScale\"},{\"attributes\":{\"axis_label\":\"sections\",\"axis_label_standoff\":10,\"axis_label_text_color\":\"#E0E0E0\",\"axis_label_text_font\":\"Helvetica\",\"axis_label_text_font_size\":\"1.25em\",\"axis_label_text_font_style\":\"normal\",\"axis_line_alpha\":0,\"axis_line_color\":\"#E0E0E0\",\"coordinates\":null,\"formatter\":{\"id\":\"3858\"},\"group\":null,\"major_label_policy\":{\"id\":\"3859\"},\"major_label_text_color\":\"#E0E0E0\",\"major_label_text_font\":\"Helvetica\",\"major_label_text_font_size\":\"1.025em\",\"major_tick_line_alpha\":0,\"major_tick_line_color\":\"#E0E0E0\",\"minor_tick_line_alpha\":0,\"minor_tick_line_color\":\"#E0E0E0\",\"ticker\":{\"id\":\"3826\"}},\"id\":\"3825\",\"type\":\"LinearAxis\"},{\"attributes\":{\"coordinates\":null,\"group\":null,\"text\":\"Logarithmic Axis\",\"text_color\":\"#E0E0E0\",\"text_font\":\"Helvetica\",\"text_font_size\":\"1.15em\"},\"id\":\"3815\",\"type\":\"Title\"},{\"attributes\":{\"coordinates\":null,\"data_source\":{\"id\":\"3927\"},\"glyph\":{\"id\":\"3928\"},\"group\":null,\"hover_glyph\":null,\"muted_glyph\":{\"id\":\"3930\"},\"nonselection_glyph\":{\"id\":\"3929\"},\"view\":{\"id\":\"3932\"}},\"id\":\"3931\",\"type\":\"GlyphRenderer\"},{\"attributes\":{\"line_color\":\"orange\",\"line_dash\":[4,4],\"x\":{\"field\":\"x\"},\"y\":{\"field\":\"y\"}},\"id\":\"3952\",\"type\":\"Line\"},{\"attributes\":{\"fill_alpha\":{\"value\":0.2},\"fill_color\":{\"value\":\"red\"},\"hatch_alpha\":{\"value\":0.2},\"line_alpha\":{\"value\":0.2},\"line_color\":{\"value\":\"red\"},\"size\":{\"value\":6},\"x\":{\"field\":\"x\"},\"y\":{\"field\":\"y\"}},\"id\":\"3930\",\"type\":\"Circle\"},{\"attributes\":{\"source\":{\"id\":\"3951\"}},\"id\":\"3956\",\"type\":\"CDSView\"},{\"attributes\":{\"data\":{\"x\":[0.1,0.5,1.0,1.5,2.0,2.5,3.0],\"y\":[1.023292992280754,1.7782794100389228,10.0,177.82794100389228,10000.0,1778279.410038923,1000000000.0]},\"selected\":{\"id\":\"3975\"},\"selection_policy\":{\"id\":\"3974\"}},\"id\":\"3951\",\"type\":\"ColumnDataSource\"},{\"attributes\":{\"line_color\":\"#1f77b4\",\"x\":{\"field\":\"x\"},\"y\":{\"field\":\"y\"}},\"id\":\"3848\",\"type\":\"Line\"},{\"attributes\":{\"line_alpha\":0.1,\"line_color\":\"#1f77b4\",\"x\":{\"field\":\"x\"},\"y\":{\"field\":\"y\"}},\"id\":\"3849\",\"type\":\"Line\"},{\"attributes\":{\"line_alpha\":0.2,\"line_color\":\"#1f77b4\",\"x\":{\"field\":\"x\"},\"y\":{\"field\":\"y\"}},\"id\":\"3850\",\"type\":\"Line\"},{\"attributes\":{\"line_color\":\"#1f77b4\",\"line_width\":2,\"x\":{\"field\":\"x\"},\"y\":{\"field\":\"y\"}},\"id\":\"3884\",\"type\":\"Line\"},{\"attributes\":{\"fill_alpha\":{\"value\":0.1},\"fill_color\":{\"value\":\"red\"},\"hatch_alpha\":{\"value\":0.1},\"line_alpha\":{\"value\":0.1},\"line_color\":{\"value\":\"red\"},\"size\":{\"value\":6},\"x\":{\"field\":\"x\"},\"y\":{\"field\":\"y\"}},\"id\":\"3929\",\"type\":\"Circle\"},{\"attributes\":{\"source\":{\"id\":\"3847\"}},\"id\":\"3852\",\"type\":\"CDSView\"},{\"attributes\":{\"source\":{\"id\":\"3927\"}},\"id\":\"3932\",\"type\":\"CDSView\"},{\"attributes\":{},\"id\":\"3859\",\"type\":\"AllLabels\"},{\"attributes\":{\"coordinates\":null,\"data_source\":{\"id\":\"3847\"},\"glyph\":{\"id\":\"3848\"},\"group\":null,\"hover_glyph\":null,\"muted_glyph\":{\"id\":\"3850\"},\"nonselection_glyph\":{\"id\":\"3849\"},\"view\":{\"id\":\"3852\"}},\"id\":\"3851\",\"type\":\"GlyphRenderer\"},{\"attributes\":{},\"id\":\"3948\",\"type\":\"UnionRenderers\"},{\"attributes\":{\"axis\":{\"id\":\"3825\"},\"coordinates\":null,\"grid_line_alpha\":0.25,\"grid_line_color\":\"#E0E0E0\",\"group\":null,\"ticker\":null},\"id\":\"3828\",\"type\":\"Grid\"},{\"attributes\":{\"axis\":{\"id\":\"3829\"},\"coordinates\":null,\"dimension\":1,\"grid_line_alpha\":0.25,\"grid_line_color\":\"#E0E0E0\",\"group\":null,\"ticker\":null},\"id\":\"3832\",\"type\":\"Grid\"},{\"attributes\":{},\"id\":\"3858\",\"type\":\"BasicTickFormatter\"},{\"attributes\":{\"num_minor_ticks\":10},\"id\":\"3830\",\"type\":\"LogTicker\"},{\"attributes\":{\"axis_label\":\"particles\",\"axis_label_standoff\":10,\"axis_label_text_color\":\"#E0E0E0\",\"axis_label_text_font\":\"Helvetica\",\"axis_label_text_font_size\":\"1.25em\",\"axis_label_text_font_style\":\"normal\",\"axis_line_alpha\":0,\"axis_line_color\":\"#E0E0E0\",\"coordinates\":null,\"formatter\":{\"id\":\"3855\"},\"group\":null,\"major_label_policy\":{\"id\":\"3856\"},\"major_label_text_color\":\"#E0E0E0\",\"major_label_text_font\":\"Helvetica\",\"major_label_text_font_size\":\"1.025em\",\"major_tick_line_alpha\":0,\"major_tick_line_color\":\"#E0E0E0\",\"minor_tick_line_alpha\":0,\"minor_tick_line_color\":\"#E0E0E0\",\"ticker\":{\"id\":\"3830\"}},\"id\":\"3829\",\"type\":\"LogAxis\"},{\"attributes\":{},\"id\":\"3826\",\"type\":\"BasicTicker\"},{\"attributes\":{},\"id\":\"3838\",\"type\":\"HelpTool\"},{\"attributes\":{},\"id\":\"3860\",\"type\":\"UnionRenderers\"},{\"attributes\":{},\"id\":\"3861\",\"type\":\"Selection\"},{\"attributes\":{\"fill_color\":{\"value\":\"white\"},\"line_color\":{\"value\":\"#1f77b4\"},\"size\":{\"value\":8},\"x\":{\"field\":\"x\"},\"y\":{\"field\":\"y\"}},\"id\":\"3866\",\"type\":\"Circle\"},{\"attributes\":{},\"id\":\"3974\",\"type\":\"UnionRenderers\"},{\"attributes\":{\"ticker\":null},\"id\":\"3855\",\"type\":\"LogTickFormatter\"},{\"attributes\":{\"coordinates\":null,\"data_source\":{\"id\":\"3951\"},\"glyph\":{\"id\":\"3952\"},\"group\":null,\"hover_glyph\":null,\"muted_glyph\":{\"id\":\"3954\"},\"nonselection_glyph\":{\"id\":\"3953\"},\"view\":{\"id\":\"3956\"}},\"id\":\"3955\",\"type\":\"GlyphRenderer\"},{\"attributes\":{\"label\":{\"value\":\"y=10^x^2\"},\"renderers\":[{\"id\":\"3955\"}]},\"id\":\"3977\",\"type\":\"LegendItem\"},{\"attributes\":{\"line_alpha\":0.2,\"line_color\":\"orange\",\"line_dash\":[4,4],\"x\":{\"field\":\"x\"},\"y\":{\"field\":\"y\"}},\"id\":\"3954\",\"type\":\"Line\"},{\"attributes\":{\"line_alpha\":0.1,\"line_color\":\"orange\",\"line_dash\":[4,4],\"x\":{\"field\":\"x\"},\"y\":{\"field\":\"y\"}},\"id\":\"3953\",\"type\":\"Line\"},{\"attributes\":{},\"id\":\"3817\",\"type\":\"DataRange1d\"},{\"attributes\":{},\"id\":\"3856\",\"type\":\"AllLabels\"},{\"attributes\":{},\"id\":\"3975\",\"type\":\"Selection\"},{\"attributes\":{\"background_fill_alpha\":0.25,\"background_fill_color\":\"#20262B\",\"border_line_alpha\":0,\"coordinates\":null,\"glyph_width\":15,\"group\":null,\"items\":[{\"id\":\"3864\"},{\"id\":\"3903\"},{\"id\":\"3926\"},{\"id\":\"3977\"}],\"label_standoff\":8,\"label_text_color\":\"#E0E0E0\",\"label_text_font\":\"Helvetica\",\"label_text_font_size\":\"1.025em\",\"spacing\":8},\"id\":\"3863\",\"type\":\"Legend\"},{\"attributes\":{\"end\":100000000000,\"start\":0.001},\"id\":\"3819\",\"type\":\"Range1d\"},{\"attributes\":{\"tools\":[{\"id\":\"3833\"},{\"id\":\"3834\"},{\"id\":\"3835\"},{\"id\":\"3836\"},{\"id\":\"3837\"},{\"id\":\"3838\"}]},\"id\":\"3840\",\"type\":\"Toolbar\"},{\"attributes\":{},\"id\":\"3823\",\"type\":\"LogScale\"},{\"attributes\":{\"data\":{\"x\":[0.1,0.5,1.0,1.5,2.0,2.5,3.0],\"y\":[0.1,0.5,1.0,1.5,2.0,2.5,3.0]},\"selected\":{\"id\":\"3861\"},\"selection_policy\":{\"id\":\"3860\"}},\"id\":\"3847\",\"type\":\"ColumnDataSource\"},{\"attributes\":{},\"id\":\"3834\",\"type\":\"WheelZoomTool\"},{\"attributes\":{},\"id\":\"3833\",\"type\":\"PanTool\"},{\"attributes\":{\"data\":{\"x\":[0.1,0.5,1.0,1.5,2.0,2.5,3.0],\"y\":[1.2589254117941673,3.1622776601683795,10.0,31.622776601683793,100.0,316.22776601683796,1000.0]},\"selected\":{\"id\":\"3949\"},\"selection_policy\":{\"id\":\"3948\"}},\"id\":\"3927\",\"type\":\"ColumnDataSource\"},{\"attributes\":{},\"id\":\"3923\",\"type\":\"UnionRenderers\"},{\"attributes\":{\"overlay\":{\"id\":\"3839\"}},\"id\":\"3835\",\"type\":\"BoxZoomTool\"},{\"attributes\":{},\"id\":\"3836\",\"type\":\"SaveTool\"},{\"attributes\":{},\"id\":\"3837\",\"type\":\"ResetTool\"},{\"attributes\":{\"source\":{\"id\":\"3883\"}},\"id\":\"3888\",\"type\":\"CDSView\"},{\"attributes\":{\"coordinates\":null,\"data_source\":{\"id\":\"3883\"},\"glyph\":{\"id\":\"3884\"},\"group\":null,\"hover_glyph\":null,\"muted_glyph\":{\"id\":\"3886\"},\"nonselection_glyph\":{\"id\":\"3885\"},\"view\":{\"id\":\"3888\"}},\"id\":\"3887\",\"type\":\"GlyphRenderer\"},{\"attributes\":{\"label\":{\"value\":\"y=x^2\"},\"renderers\":[{\"id\":\"3887\"}]},\"id\":\"3903\",\"type\":\"LegendItem\"},{\"attributes\":{\"line_alpha\":0.2,\"line_color\":\"#1f77b4\",\"line_width\":2,\"x\":{\"field\":\"x\"},\"y\":{\"field\":\"y\"}},\"id\":\"3886\",\"type\":\"Line\"},{\"attributes\":{\"line_alpha\":0.1,\"line_color\":\"#1f77b4\",\"line_width\":2,\"x\":{\"field\":\"x\"},\"y\":{\"field\":\"y\"}},\"id\":\"3885\",\"type\":\"Line\"},{\"attributes\":{},\"id\":\"3901\",\"type\":\"Selection\"},{\"attributes\":{\"bottom_units\":\"screen\",\"coordinates\":null,\"fill_alpha\":0.5,\"fill_color\":\"lightgrey\",\"group\":null,\"left_units\":\"screen\",\"level\":\"overlay\",\"line_alpha\":1.0,\"line_color\":\"black\",\"line_dash\":[4,4],\"line_width\":2,\"right_units\":\"screen\",\"syncable\":false,\"top_units\":\"screen\"},\"id\":\"3839\",\"type\":\"BoxAnnotation\"},{\"attributes\":{},\"id\":\"3900\",\"type\":\"UnionRenderers\"}],\"root_ids\":[\"3814\"]},\"title\":\"Bokeh Application\",\"version\":\"2.4.3\"}};\n",
       "  const render_items = [{\"docid\":\"b76e4045-bedb-43fa-a75f-d492c22063e5\",\"root_ids\":[\"3814\"],\"roots\":{\"3814\":\"9749084c-e080-433a-887b-875ec22621da\"}}];\n",
       "  root.Bokeh.embed.embed_items_notebook(docs_json, render_items);\n",
       "  }\n",
       "  if (root.Bokeh !== undefined) {\n",
       "    embed_document(root);\n",
       "  } else {\n",
       "    let attempts = 0;\n",
       "    const timer = setInterval(function(root) {\n",
       "      if (root.Bokeh !== undefined) {\n",
       "        clearInterval(timer);\n",
       "        embed_document(root);\n",
       "      } else {\n",
       "        attempts++;\n",
       "        if (attempts > 100) {\n",
       "          clearInterval(timer);\n",
       "          console.log(\"Bokeh: ERROR: Unable to run BokehJS code because BokehJS library is missing\");\n",
       "        }\n",
       "      }\n",
       "    }, 10, root)\n",
       "  }\n",
       "})(window);"
      ],
      "application/vnd.bokehjs_exec.v0+json": ""
     },
     "metadata": {
      "application/vnd.bokehjs_exec.v0+json": {
       "id": "3814"
      }
     },
     "output_type": "display_data"
    }
   ],
   "source": [
    "x = [0.1, 0.5, 1.0, 1.5, 2.0, 2.5, 3.0]\n",
    "y0 = [i**2 for i in x]\n",
    "y1 = [10**i for i in x]\n",
    "y2 = [10**(i**2) for i in x]\n",
    "\n",
    "# create a new plot with a logarithmic axis type\n",
    "p = figure(title=\"Logarithmic Axis\", sizing_mode=\"stretch_width\", height=300, max_width=500, y_axis_type=\"log\",\n",
    "           y_range=[0.001, 10 ** 11], x_axis_label=\"sections\", y_axis_label=\"particles\")\n",
    "\n",
    "# add some renderers\n",
    "p.line(x, x, legend_label=\"y=x\")\n",
    "p.circle(x, x, legend_label=\"y=x\", fill_color=\"white\", size=8)\n",
    "p.line(x, y0, legend_label=\"y=x^2\", line_width=2)\n",
    "p.line(x, y1, legend_label=\"y=10^x\", line_color=\"red\")\n",
    "p.circle(x, y1, legend_label=\"y=10^x\", fill_color=\"red\", line_color=\"red\", size=6)\n",
    "p.line(x, y2, legend_label=\"y=10^x^2\", line_color=\"orange\", line_dash=\"4 4\")\n",
    "\n",
    "# show the results\n",
    "show(p)"
   ]
  },
  {
   "cell_type": "markdown",
   "id": "ffca6693",
   "metadata": {},
   "source": [
    "# Datetime axis"
   ]
  },
  {
   "cell_type": "code",
   "execution_count": 33,
   "id": "7373195c",
   "metadata": {},
   "outputs": [
    {
     "data": {
      "text/html": [
       "\n",
       "  <div class=\"bk-root\" id=\"8f23c7d3-9a24-4ae6-96fb-d620ee29fe24\" data-root-id=\"4252\"></div>\n"
      ]
     },
     "metadata": {},
     "output_type": "display_data"
    },
    {
     "data": {
      "application/javascript": [
       "(function(root) {\n",
       "  function embed_document(root) {\n",
       "  const docs_json = {\"3ebf6969-e261-47cb-8815-d03916619bf9\":{\"defs\":[],\"roots\":{\"references\":[{\"attributes\":{\"background_fill_color\":\"#20262B\",\"below\":[{\"id\":\"4263\"}],\"border_fill_color\":\"#15191C\",\"center\":[{\"id\":\"4266\"},{\"id\":\"4270\"}],\"height\":250,\"left\":[{\"id\":\"4267\"}],\"max_width\":500,\"outline_line_alpha\":0.25,\"outline_line_color\":\"#E0E0E0\",\"renderers\":[{\"id\":\"4289\"},{\"id\":\"4295\"}],\"sizing_mode\":\"stretch_width\",\"title\":{\"id\":\"4253\"},\"toolbar\":{\"id\":\"4278\"},\"x_range\":{\"id\":\"4255\"},\"x_scale\":{\"id\":\"4259\"},\"y_range\":{\"id\":\"4257\"},\"y_scale\":{\"id\":\"4261\"}},\"id\":\"4252\",\"subtype\":\"Figure\",\"type\":\"Plot\"},{\"attributes\":{},\"id\":\"4271\",\"type\":\"PanTool\"},{\"attributes\":{},\"id\":\"4275\",\"type\":\"ResetTool\"},{\"attributes\":{},\"id\":\"4480\",\"type\":\"UnionRenderers\"},{\"attributes\":{},\"id\":\"4481\",\"type\":\"Selection\"},{\"attributes\":{\"fill_alpha\":{\"value\":0.2},\"fill_color\":{\"value\":\"#1f77b4\"},\"hatch_alpha\":{\"value\":0.2},\"line_alpha\":{\"value\":0.2},\"line_color\":{\"value\":\"#1f77b4\"},\"size\":{\"value\":8},\"x\":{\"field\":\"x\"},\"y\":{\"field\":\"y\"}},\"id\":\"4288\",\"type\":\"Circle\"},{\"attributes\":{\"mantissas\":[1,2,5],\"max_interval\":500.0,\"num_minor_ticks\":0},\"id\":\"4485\",\"type\":\"AdaptiveTicker\"},{\"attributes\":{\"base\":60,\"mantissas\":[1,2,5,10,15,20,30],\"max_interval\":1800000.0,\"min_interval\":1000.0,\"num_minor_ticks\":0},\"id\":\"4486\",\"type\":\"AdaptiveTicker\"},{\"attributes\":{\"coordinates\":null,\"data_source\":{\"id\":\"4285\"},\"glyph\":{\"id\":\"4286\"},\"group\":null,\"hover_glyph\":null,\"muted_glyph\":{\"id\":\"4288\"},\"nonselection_glyph\":{\"id\":\"4287\"},\"view\":{\"id\":\"4290\"}},\"id\":\"4289\",\"type\":\"GlyphRenderer\"},{\"attributes\":{\"months\":[0,1,2,3,4,5,6,7,8,9,10,11]},\"id\":\"4492\",\"type\":\"MonthsTicker\"},{\"attributes\":{\"days\":[1,8,15,22]},\"id\":\"4490\",\"type\":\"DaysTicker\"},{\"attributes\":{\"fill_alpha\":{\"value\":0.1},\"fill_color\":{\"value\":\"#1f77b4\"},\"hatch_alpha\":{\"value\":0.1},\"line_alpha\":{\"value\":0.1},\"line_color\":{\"value\":\"#1f77b4\"},\"size\":{\"value\":8},\"x\":{\"field\":\"x\"},\"y\":{\"field\":\"y\"}},\"id\":\"4287\",\"type\":\"Circle\"},{\"attributes\":{},\"id\":\"4496\",\"type\":\"YearsTicker\"},{\"attributes\":{},\"id\":\"4259\",\"type\":\"LinearScale\"},{\"attributes\":{\"source\":{\"id\":\"4285\"}},\"id\":\"4290\",\"type\":\"CDSView\"},{\"attributes\":{\"base\":24,\"mantissas\":[1,2,4,6,8,12],\"max_interval\":43200000.0,\"min_interval\":3600000.0,\"num_minor_ticks\":0},\"id\":\"4487\",\"type\":\"AdaptiveTicker\"},{\"attributes\":{\"coordinates\":null,\"data_source\":{\"id\":\"4291\"},\"glyph\":{\"id\":\"4292\"},\"group\":null,\"hover_glyph\":null,\"muted_glyph\":{\"id\":\"4294\"},\"nonselection_glyph\":{\"id\":\"4293\"},\"view\":{\"id\":\"4296\"}},\"id\":\"4295\",\"type\":\"GlyphRenderer\"},{\"attributes\":{\"days\":[1,2,3,4,5,6,7,8,9,10,11,12,13,14,15,16,17,18,19,20,21,22,23,24,25,26,27,28,29,30,31]},\"id\":\"4488\",\"type\":\"DaysTicker\"},{\"attributes\":{\"months\":[\"%b %Y\"]},\"id\":\"4299\",\"type\":\"DatetimeTickFormatter\"},{\"attributes\":{\"days\":[1,4,7,10,13,16,19,22,25,28]},\"id\":\"4489\",\"type\":\"DaysTicker\"},{\"attributes\":{\"days\":[1,15]},\"id\":\"4491\",\"type\":\"DaysTicker\"},{\"attributes\":{\"num_minor_ticks\":5,\"tickers\":[{\"id\":\"4485\"},{\"id\":\"4486\"},{\"id\":\"4487\"},{\"id\":\"4488\"},{\"id\":\"4489\"},{\"id\":\"4490\"},{\"id\":\"4491\"},{\"id\":\"4492\"},{\"id\":\"4493\"},{\"id\":\"4494\"},{\"id\":\"4495\"},{\"id\":\"4496\"}]},\"id\":\"4264\",\"type\":\"DatetimeTicker\"},{\"attributes\":{\"line_alpha\":0.2,\"line_color\":\"azure\",\"x\":{\"field\":\"x\"},\"y\":{\"field\":\"y\"}},\"id\":\"4294\",\"type\":\"Line\"},{\"attributes\":{\"months\":[0,6]},\"id\":\"4495\",\"type\":\"MonthsTicker\"},{\"attributes\":{},\"id\":\"4261\",\"type\":\"LinearScale\"},{\"attributes\":{\"line_alpha\":0.1,\"line_color\":\"azure\",\"x\":{\"field\":\"x\"},\"y\":{\"field\":\"y\"}},\"id\":\"4293\",\"type\":\"Line\"},{\"attributes\":{\"months\":[0,2,4,6,8,10]},\"id\":\"4493\",\"type\":\"MonthsTicker\"},{\"attributes\":{\"axis\":{\"id\":\"4263\"},\"coordinates\":null,\"grid_line_alpha\":0.25,\"grid_line_color\":\"#E0E0E0\",\"group\":null,\"ticker\":null},\"id\":\"4266\",\"type\":\"Grid\"},{\"attributes\":{\"axis_label_standoff\":10,\"axis_label_text_color\":\"#E0E0E0\",\"axis_label_text_font\":\"Helvetica\",\"axis_label_text_font_size\":\"1.25em\",\"axis_label_text_font_style\":\"normal\",\"axis_line_alpha\":0,\"axis_line_color\":\"#E0E0E0\",\"coordinates\":null,\"formatter\":{\"id\":\"4297\"},\"group\":null,\"major_label_policy\":{\"id\":\"4477\"},\"major_label_text_color\":\"#E0E0E0\",\"major_label_text_font\":\"Helvetica\",\"major_label_text_font_size\":\"1.025em\",\"major_tick_line_alpha\":0,\"major_tick_line_color\":\"#E0E0E0\",\"minor_tick_line_alpha\":0,\"minor_tick_line_color\":\"#E0E0E0\",\"ticker\":{\"id\":\"4268\"}},\"id\":\"4267\",\"type\":\"LinearAxis\"},{\"attributes\":{\"source\":{\"id\":\"4291\"}},\"id\":\"4296\",\"type\":\"CDSView\"},{\"attributes\":{\"overlay\":{\"id\":\"4277\"}},\"id\":\"4273\",\"type\":\"BoxZoomTool\"},{\"attributes\":{\"months\":[0,4,8]},\"id\":\"4494\",\"type\":\"MonthsTicker\"},{\"attributes\":{},\"id\":\"4482\",\"type\":\"UnionRenderers\"},{\"attributes\":{\"axis\":{\"id\":\"4267\"},\"coordinates\":null,\"dimension\":1,\"grid_line_alpha\":0.25,\"grid_line_color\":\"#E0E0E0\",\"group\":null,\"ticker\":null},\"id\":\"4270\",\"type\":\"Grid\"},{\"attributes\":{},\"id\":\"4483\",\"type\":\"Selection\"},{\"attributes\":{},\"id\":\"4477\",\"type\":\"AllLabels\"},{\"attributes\":{\"bottom_units\":\"screen\",\"coordinates\":null,\"fill_alpha\":0.5,\"fill_color\":\"lightgrey\",\"group\":null,\"left_units\":\"screen\",\"level\":\"overlay\",\"line_alpha\":1.0,\"line_color\":\"black\",\"line_dash\":[4,4],\"line_width\":2,\"right_units\":\"screen\",\"syncable\":false,\"top_units\":\"screen\"},\"id\":\"4277\",\"type\":\"BoxAnnotation\"},{\"attributes\":{\"tools\":[{\"id\":\"4271\"},{\"id\":\"4272\"},{\"id\":\"4273\"},{\"id\":\"4274\"},{\"id\":\"4275\"},{\"id\":\"4276\"}]},\"id\":\"4278\",\"type\":\"Toolbar\"},{\"attributes\":{\"axis_label_standoff\":10,\"axis_label_text_color\":\"#E0E0E0\",\"axis_label_text_font\":\"Helvetica\",\"axis_label_text_font_size\":\"1.25em\",\"axis_label_text_font_style\":\"normal\",\"axis_line_alpha\":0,\"axis_line_color\":\"#E0E0E0\",\"coordinates\":null,\"formatter\":{\"id\":\"4299\"},\"group\":null,\"major_label_policy\":{\"id\":\"4479\"},\"major_label_text_color\":\"#E0E0E0\",\"major_label_text_font\":\"Helvetica\",\"major_label_text_font_size\":\"1.025em\",\"major_tick_line_alpha\":0,\"major_tick_line_color\":\"#E0E0E0\",\"minor_tick_line_alpha\":0,\"minor_tick_line_color\":\"#E0E0E0\",\"ticker\":{\"id\":\"4264\"}},\"id\":\"4263\",\"type\":\"DatetimeAxis\"},{\"attributes\":{\"coordinates\":null,\"group\":null,\"text\":\"datetime axis\",\"text_color\":\"#E0E0E0\",\"text_font\":\"Helvetica\",\"text_font_size\":\"1.15em\"},\"id\":\"4253\",\"type\":\"Title\"},{\"attributes\":{},\"id\":\"4479\",\"type\":\"AllLabels\"},{\"attributes\":{\"format\":\"$0.00\"},\"id\":\"4297\",\"type\":\"NumeralTickFormatter\"},{\"attributes\":{},\"id\":\"4257\",\"type\":\"DataRange1d\"},{\"attributes\":{\"line_color\":\"azure\",\"x\":{\"field\":\"x\"},\"y\":{\"field\":\"y\"}},\"id\":\"4292\",\"type\":\"Line\"},{\"attributes\":{},\"id\":\"4268\",\"type\":\"BasicTicker\"},{\"attributes\":{\"fill_color\":{\"value\":\"#1f77b4\"},\"line_color\":{\"value\":\"#1f77b4\"},\"size\":{\"value\":8},\"x\":{\"field\":\"x\"},\"y\":{\"field\":\"y\"}},\"id\":\"4286\",\"type\":\"Circle\"},{\"attributes\":{\"data\":{\"x\":[1696847899479.798,1697452699479.798,1698057499479.798,1698662299479.798,1699267099479.798,1699871899479.798,1700476699479.798,1701081499479.798,1701686299479.798,1702291099479.798,1702895899479.798,1703500699479.798,1704105499479.798,1704710299479.798,1705315099479.798,1705919899479.798,1706524699479.798,1707129499479.798,1707734299479.798,1708339099479.798,1708943899479.798,1709548699479.798,1710153499479.798,1710758299479.798,1711363099479.798,1711967899479.798],\"y\":[8,11,20,29,46,21,93,95,82,10,19,53,49,4,0,3,65,98,75,28,44,31,67,13,83,70]},\"selected\":{\"id\":\"4481\"},\"selection_policy\":{\"id\":\"4480\"}},\"id\":\"4285\",\"type\":\"ColumnDataSource\"},{\"attributes\":{\"data\":{\"x\":[1696847899479.798,1697452699479.798,1698057499479.798,1698662299479.798,1699267099479.798,1699871899479.798,1700476699479.798,1701081499479.798,1701686299479.798,1702291099479.798,1702895899479.798,1703500699479.798,1704105499479.798,1704710299479.798,1705315099479.798,1705919899479.798,1706524699479.798,1707129499479.798,1707734299479.798,1708339099479.798,1708943899479.798,1709548699479.798,1710153499479.798,1710758299479.798,1711363099479.798,1711967899479.798],\"y\":[8,11,20,29,46,21,93,95,82,10,19,53,49,4,0,3,65,98,75,28,44,31,67,13,83,70]},\"selected\":{\"id\":\"4483\"},\"selection_policy\":{\"id\":\"4482\"}},\"id\":\"4291\",\"type\":\"ColumnDataSource\"},{\"attributes\":{},\"id\":\"4276\",\"type\":\"HelpTool\"},{\"attributes\":{},\"id\":\"4274\",\"type\":\"SaveTool\"},{\"attributes\":{},\"id\":\"4255\",\"type\":\"DataRange1d\"},{\"attributes\":{},\"id\":\"4272\",\"type\":\"WheelZoomTool\"}],\"root_ids\":[\"4252\"]},\"title\":\"Bokeh Application\",\"version\":\"2.4.3\"}};\n",
       "  const render_items = [{\"docid\":\"3ebf6969-e261-47cb-8815-d03916619bf9\",\"root_ids\":[\"4252\"],\"roots\":{\"4252\":\"8f23c7d3-9a24-4ae6-96fb-d620ee29fe24\"}}];\n",
       "  root.Bokeh.embed.embed_items_notebook(docs_json, render_items);\n",
       "  }\n",
       "  if (root.Bokeh !== undefined) {\n",
       "    embed_document(root);\n",
       "  } else {\n",
       "    let attempts = 0;\n",
       "    const timer = setInterval(function(root) {\n",
       "      if (root.Bokeh !== undefined) {\n",
       "        clearInterval(timer);\n",
       "        embed_document(root);\n",
       "      } else {\n",
       "        attempts++;\n",
       "        if (attempts > 100) {\n",
       "          clearInterval(timer);\n",
       "          console.log(\"Bokeh: ERROR: Unable to run BokehJS code because BokehJS library is missing\");\n",
       "        }\n",
       "      }\n",
       "    }, 10, root)\n",
       "  }\n",
       "})(window);"
      ],
      "application/vnd.bokehjs_exec.v0+json": ""
     },
     "metadata": {
      "application/vnd.bokehjs_exec.v0+json": {
       "id": "4252"
      }
     },
     "output_type": "display_data"
    }
   ],
   "source": [
    "# generate list of dates (today's date in subsequent weeks)\n",
    "dates = [(datetime.now() + timedelta(day * 7)) for day in range(0, 26)]\n",
    "\n",
    "# generate 25 random data points\n",
    "y = random.sample(range(0, 100), 26)\n",
    "\n",
    "# create new plot\n",
    "p = figure(title=\"datetime axis\", x_axis_type=\"datetime\", sizing_mode=\"stretch_width\", max_width=500, height=250)\n",
    "\n",
    "# add renderers\n",
    "p.circle(dates, y, size=8)\n",
    "p.line(dates, y, color=\"azure\", line_width=1)\n",
    "\n",
    "# format axes ticks\n",
    "p.yaxis[0].formatter = NumeralTickFormatter(format=\"$0.00\")\n",
    "p.xaxis[0].formatter = DatetimeTickFormatter(months=\"%b %Y\")\n",
    "\n",
    "# show the results\n",
    "show(p)"
   ]
  },
  {
   "cell_type": "markdown",
   "id": "eabd86f3",
   "metadata": {},
   "source": [
    "# Customize Grid"
   ]
  },
  {
   "cell_type": "code",
   "execution_count": 34,
   "id": "83d09a44",
   "metadata": {},
   "outputs": [
    {
     "data": {
      "text/html": [
       "\n",
       "  <div class=\"bk-root\" id=\"e7dea249-c3bd-4b8c-9710-a12694ca991c\" data-root-id=\"4607\"></div>\n"
      ]
     },
     "metadata": {},
     "output_type": "display_data"
    },
    {
     "data": {
      "application/javascript": [
       "(function(root) {\n",
       "  function embed_document(root) {\n",
       "  const docs_json = {\"01b5ca36-e835-4cde-ab9f-d30605ec9e5b\":{\"defs\":[],\"roots\":{\"references\":[{\"attributes\":{\"background_fill_color\":\"#20262B\",\"below\":[{\"id\":\"4618\"}],\"border_fill_color\":\"#15191C\",\"center\":[{\"id\":\"4621\"},{\"id\":\"4625\"}],\"height\":250,\"left\":[{\"id\":\"4622\"}],\"max_width\":500,\"outline_line_alpha\":0.25,\"outline_line_color\":\"#E0E0E0\",\"renderers\":[{\"id\":\"4644\"}],\"sizing_mode\":\"stretch_width\",\"title\":{\"id\":\"4608\"},\"toolbar\":{\"id\":\"4633\"},\"x_range\":{\"id\":\"4610\"},\"x_scale\":{\"id\":\"4614\"},\"y_range\":{\"id\":\"4612\"},\"y_scale\":{\"id\":\"4616\"}},\"id\":\"4607\",\"subtype\":\"Figure\",\"type\":\"Plot\"},{\"attributes\":{\"bottom_units\":\"screen\",\"coordinates\":null,\"fill_alpha\":0.5,\"fill_color\":\"lightgrey\",\"group\":null,\"left_units\":\"screen\",\"level\":\"overlay\",\"line_alpha\":1.0,\"line_color\":\"black\",\"line_dash\":[4,4],\"line_width\":2,\"right_units\":\"screen\",\"syncable\":false,\"top_units\":\"screen\"},\"id\":\"4632\",\"type\":\"BoxAnnotation\"},{\"attributes\":{},\"id\":\"4610\",\"type\":\"DataRange1d\"},{\"attributes\":{\"line_color\":\"red\",\"line_width\":2,\"x\":{\"field\":\"x\"},\"y\":{\"field\":\"y\"}},\"id\":\"4641\",\"type\":\"Line\"},{\"attributes\":{\"coordinates\":null,\"group\":null,\"text\":\"Customized grid lines\",\"text_color\":\"#E0E0E0\",\"text_font\":\"Helvetica\",\"text_font_size\":\"1.15em\"},\"id\":\"4608\",\"type\":\"Title\"},{\"attributes\":{},\"id\":\"4848\",\"type\":\"AllLabels\"},{\"attributes\":{},\"id\":\"4630\",\"type\":\"ResetTool\"},{\"attributes\":{},\"id\":\"4845\",\"type\":\"AllLabels\"},{\"attributes\":{\"source\":{\"id\":\"4640\"}},\"id\":\"4645\",\"type\":\"CDSView\"},{\"attributes\":{\"axis\":{\"id\":\"4618\"},\"coordinates\":null,\"grid_line_alpha\":0.25,\"grid_line_color\":\"blue\",\"group\":null,\"ticker\":null},\"id\":\"4621\",\"type\":\"Grid\"},{\"attributes\":{},\"id\":\"4623\",\"type\":\"BasicTicker\"},{\"attributes\":{\"axis\":{\"id\":\"4622\"},\"coordinates\":null,\"dimension\":1,\"grid_line_alpha\":0.25,\"grid_line_color\":\"#E0E0E0\",\"grid_line_dash\":[6,4],\"group\":null,\"ticker\":null},\"id\":\"4625\",\"type\":\"Grid\"},{\"attributes\":{},\"id\":\"4631\",\"type\":\"HelpTool\"},{\"attributes\":{\"axis_label_standoff\":10,\"axis_label_text_color\":\"#E0E0E0\",\"axis_label_text_font\":\"Helvetica\",\"axis_label_text_font_size\":\"1.25em\",\"axis_label_text_font_style\":\"normal\",\"axis_line_alpha\":0,\"axis_line_color\":\"#E0E0E0\",\"coordinates\":null,\"formatter\":{\"id\":\"4844\"},\"group\":null,\"major_label_policy\":{\"id\":\"4845\"},\"major_label_text_color\":\"#E0E0E0\",\"major_label_text_font\":\"Helvetica\",\"major_label_text_font_size\":\"1.025em\",\"major_tick_line_alpha\":0,\"major_tick_line_color\":\"#E0E0E0\",\"minor_tick_line_alpha\":0,\"minor_tick_line_color\":\"#E0E0E0\",\"ticker\":{\"id\":\"4623\"}},\"id\":\"4622\",\"type\":\"LinearAxis\"},{\"attributes\":{\"overlay\":{\"id\":\"4632\"}},\"id\":\"4628\",\"type\":\"BoxZoomTool\"},{\"attributes\":{},\"id\":\"4629\",\"type\":\"SaveTool\"},{\"attributes\":{},\"id\":\"4844\",\"type\":\"BasicTickFormatter\"},{\"attributes\":{},\"id\":\"4627\",\"type\":\"WheelZoomTool\"},{\"attributes\":{\"line_alpha\":0.1,\"line_color\":\"red\",\"line_width\":2,\"x\":{\"field\":\"x\"},\"y\":{\"field\":\"y\"}},\"id\":\"4642\",\"type\":\"Line\"},{\"attributes\":{},\"id\":\"4626\",\"type\":\"PanTool\"},{\"attributes\":{},\"id\":\"4612\",\"type\":\"DataRange1d\"},{\"attributes\":{},\"id\":\"4850\",\"type\":\"Selection\"},{\"attributes\":{\"tools\":[{\"id\":\"4626\"},{\"id\":\"4627\"},{\"id\":\"4628\"},{\"id\":\"4629\"},{\"id\":\"4630\"},{\"id\":\"4631\"}]},\"id\":\"4633\",\"type\":\"Toolbar\"},{\"attributes\":{},\"id\":\"4619\",\"type\":\"BasicTicker\"},{\"attributes\":{},\"id\":\"4616\",\"type\":\"LinearScale\"},{\"attributes\":{},\"id\":\"4849\",\"type\":\"UnionRenderers\"},{\"attributes\":{\"coordinates\":null,\"data_source\":{\"id\":\"4640\"},\"glyph\":{\"id\":\"4641\"},\"group\":null,\"hover_glyph\":null,\"muted_glyph\":{\"id\":\"4643\"},\"nonselection_glyph\":{\"id\":\"4642\"},\"view\":{\"id\":\"4645\"}},\"id\":\"4644\",\"type\":\"GlyphRenderer\"},{\"attributes\":{},\"id\":\"4614\",\"type\":\"LinearScale\"},{\"attributes\":{\"line_alpha\":0.2,\"line_color\":\"red\",\"line_width\":2,\"x\":{\"field\":\"x\"},\"y\":{\"field\":\"y\"}},\"id\":\"4643\",\"type\":\"Line\"},{\"attributes\":{},\"id\":\"4847\",\"type\":\"BasicTickFormatter\"},{\"attributes\":{\"data\":{\"x\":[1,2,3,4,5],\"y\":[4,5,5,7,2]},\"selected\":{\"id\":\"4850\"},\"selection_policy\":{\"id\":\"4849\"}},\"id\":\"4640\",\"type\":\"ColumnDataSource\"},{\"attributes\":{\"axis_label_standoff\":10,\"axis_label_text_color\":\"#E0E0E0\",\"axis_label_text_font\":\"Helvetica\",\"axis_label_text_font_size\":\"1.25em\",\"axis_label_text_font_style\":\"normal\",\"axis_line_alpha\":0,\"axis_line_color\":\"#E0E0E0\",\"coordinates\":null,\"formatter\":{\"id\":\"4847\"},\"group\":null,\"major_label_policy\":{\"id\":\"4848\"},\"major_label_text_color\":\"#E0E0E0\",\"major_label_text_font\":\"Helvetica\",\"major_label_text_font_size\":\"1.025em\",\"major_tick_line_alpha\":0,\"major_tick_line_color\":\"#E0E0E0\",\"minor_tick_line_alpha\":0,\"minor_tick_line_color\":\"#E0E0E0\",\"ticker\":{\"id\":\"4619\"}},\"id\":\"4618\",\"type\":\"LinearAxis\"}],\"root_ids\":[\"4607\"]},\"title\":\"Bokeh Application\",\"version\":\"2.4.3\"}};\n",
       "  const render_items = [{\"docid\":\"01b5ca36-e835-4cde-ab9f-d30605ec9e5b\",\"root_ids\":[\"4607\"],\"roots\":{\"4607\":\"e7dea249-c3bd-4b8c-9710-a12694ca991c\"}}];\n",
       "  root.Bokeh.embed.embed_items_notebook(docs_json, render_items);\n",
       "  }\n",
       "  if (root.Bokeh !== undefined) {\n",
       "    embed_document(root);\n",
       "  } else {\n",
       "    let attempts = 0;\n",
       "    const timer = setInterval(function(root) {\n",
       "      if (root.Bokeh !== undefined) {\n",
       "        clearInterval(timer);\n",
       "        embed_document(root);\n",
       "      } else {\n",
       "        attempts++;\n",
       "        if (attempts > 100) {\n",
       "          clearInterval(timer);\n",
       "          console.log(\"Bokeh: ERROR: Unable to run BokehJS code because BokehJS library is missing\");\n",
       "        }\n",
       "      }\n",
       "    }, 10, root)\n",
       "  }\n",
       "})(window);"
      ],
      "application/vnd.bokehjs_exec.v0+json": ""
     },
     "metadata": {
      "application/vnd.bokehjs_exec.v0+json": {
       "id": "4607"
      }
     },
     "output_type": "display_data"
    }
   ],
   "source": [
    "x = [1, 2, 3, 4, 5]\n",
    "y = [4, 5, 5, 7, 2]\n",
    "\n",
    "# create a plot\n",
    "p = figure(title=\"Customized grid lines\", sizing_mode=\"stretch_width\", max_width=500, height=250)\n",
    "\n",
    "# add a renderer\n",
    "p.line(x, y, line_color=\"red\", line_width=2)\n",
    "\n",
    "# change things only on the x-grid\n",
    "p.xgrid.grid_line_color = \"blue\"\n",
    "\n",
    "# change things only on the y-grid\n",
    "p.ygrid.grid_line_alpha = 1\n",
    "p.ygrid.grid_line_dash = [6, 4]\n",
    "\n",
    "# show the results\n",
    "show(p)"
   ]
  },
  {
   "cell_type": "markdown",
   "id": "b508be5d",
   "metadata": {},
   "source": [
    "# Bands and Bounds"
   ]
  },
  {
   "cell_type": "code",
   "execution_count": 35,
   "id": "ac94d9f3",
   "metadata": {},
   "outputs": [
    {
     "data": {
      "text/html": [
       "\n",
       "  <div class=\"bk-root\" id=\"c4a0cbbd-55e5-4274-af8e-1344246661c9\" data-root-id=\"4902\"></div>\n"
      ]
     },
     "metadata": {},
     "output_type": "display_data"
    },
    {
     "data": {
      "application/javascript": [
       "(function(root) {\n",
       "  function embed_document(root) {\n",
       "  const docs_json = {\"27305ce7-110b-41cf-b4ce-51dcc7afe3a9\":{\"defs\":[],\"roots\":{\"references\":[{\"attributes\":{\"background_fill_color\":\"#20262B\",\"below\":[{\"id\":\"4913\"}],\"border_fill_color\":\"#15191C\",\"center\":[{\"id\":\"4916\"},{\"id\":\"4920\"}],\"height\":250,\"left\":[{\"id\":\"4917\"}],\"max_width\":500,\"outline_line_alpha\":0.25,\"outline_line_color\":\"#E0E0E0\",\"renderers\":[{\"id\":\"4939\"}],\"sizing_mode\":\"stretch_width\",\"title\":{\"id\":\"4903\"},\"toolbar\":{\"id\":\"4928\"},\"x_range\":{\"id\":\"4905\"},\"x_scale\":{\"id\":\"4909\"},\"y_range\":{\"id\":\"4907\"},\"y_scale\":{\"id\":\"4911\"}},\"id\":\"4902\",\"subtype\":\"Figure\",\"type\":\"Plot\"},{\"attributes\":{},\"id\":\"4926\",\"type\":\"HelpTool\"},{\"attributes\":{},\"id\":\"5155\",\"type\":\"Selection\"},{\"attributes\":{\"bottom_units\":\"screen\",\"coordinates\":null,\"fill_alpha\":0.5,\"fill_color\":\"lightgrey\",\"group\":null,\"left_units\":\"screen\",\"level\":\"overlay\",\"line_alpha\":1.0,\"line_color\":\"black\",\"line_dash\":[4,4],\"line_width\":2,\"right_units\":\"screen\",\"syncable\":false,\"top_units\":\"screen\"},\"id\":\"4927\",\"type\":\"BoxAnnotation\"},{\"attributes\":{\"source\":{\"id\":\"4935\"}},\"id\":\"4940\",\"type\":\"CDSView\"},{\"attributes\":{},\"id\":\"4922\",\"type\":\"WheelZoomTool\"},{\"attributes\":{},\"id\":\"4918\",\"type\":\"BasicTicker\"},{\"attributes\":{},\"id\":\"5153\",\"type\":\"AllLabels\"},{\"attributes\":{\"axis_label_standoff\":10,\"axis_label_text_color\":\"#E0E0E0\",\"axis_label_text_font\":\"Helvetica\",\"axis_label_text_font_size\":\"1.25em\",\"axis_label_text_font_style\":\"normal\",\"axis_line_alpha\":0,\"axis_line_color\":\"#E0E0E0\",\"coordinates\":null,\"formatter\":{\"id\":\"5149\"},\"group\":null,\"major_label_policy\":{\"id\":\"5150\"},\"major_label_text_color\":\"#E0E0E0\",\"major_label_text_font\":\"Helvetica\",\"major_label_text_font_size\":\"1.025em\",\"major_tick_line_alpha\":0,\"major_tick_line_color\":\"#E0E0E0\",\"minor_tick_line_alpha\":0,\"minor_tick_line_color\":\"#E0E0E0\",\"ticker\":{\"id\":\"4918\"}},\"id\":\"4917\",\"type\":\"LinearAxis\"},{\"attributes\":{},\"id\":\"5154\",\"type\":\"UnionRenderers\"},{\"attributes\":{},\"id\":\"4921\",\"type\":\"PanTool\"},{\"attributes\":{},\"id\":\"5152\",\"type\":\"BasicTickFormatter\"},{\"attributes\":{},\"id\":\"4925\",\"type\":\"ResetTool\"},{\"attributes\":{\"tools\":[{\"id\":\"4921\"},{\"id\":\"4922\"},{\"id\":\"4923\"},{\"id\":\"4924\"},{\"id\":\"4925\"},{\"id\":\"4926\"}]},\"id\":\"4928\",\"type\":\"Toolbar\"},{\"attributes\":{},\"id\":\"4909\",\"type\":\"LinearScale\"},{\"attributes\":{},\"id\":\"4924\",\"type\":\"SaveTool\"},{\"attributes\":{},\"id\":\"5150\",\"type\":\"AllLabels\"},{\"attributes\":{\"axis\":{\"id\":\"4913\"},\"bounds\":[2,4],\"coordinates\":null,\"grid_line_alpha\":0.25,\"grid_line_color\":\"#E0E0E0\",\"group\":null,\"ticker\":null},\"id\":\"4916\",\"type\":\"Grid\"},{\"attributes\":{\"coordinates\":null,\"data_source\":{\"id\":\"4935\"},\"glyph\":{\"id\":\"4936\"},\"group\":null,\"hover_glyph\":null,\"muted_glyph\":{\"id\":\"4938\"},\"nonselection_glyph\":{\"id\":\"4937\"},\"view\":{\"id\":\"4940\"}},\"id\":\"4939\",\"type\":\"GlyphRenderer\"},{\"attributes\":{\"line_color\":\"green\",\"line_width\":2,\"x\":{\"field\":\"x\"},\"y\":{\"field\":\"y\"}},\"id\":\"4936\",\"type\":\"Line\"},{\"attributes\":{\"coordinates\":null,\"group\":null,\"text\":\"Bands and bonds example\",\"text_color\":\"#E0E0E0\",\"text_font\":\"Helvetica\",\"text_font_size\":\"1.15em\"},\"id\":\"4903\",\"type\":\"Title\"},{\"attributes\":{},\"id\":\"4905\",\"type\":\"DataRange1d\"},{\"attributes\":{},\"id\":\"5149\",\"type\":\"BasicTickFormatter\"},{\"attributes\":{\"data\":{\"x\":[1,2,3,4,5],\"y\":[4,5,5,7,2]},\"selected\":{\"id\":\"5155\"},\"selection_policy\":{\"id\":\"5154\"}},\"id\":\"4935\",\"type\":\"ColumnDataSource\"},{\"attributes\":{\"line_alpha\":0.1,\"line_color\":\"green\",\"line_width\":2,\"x\":{\"field\":\"x\"},\"y\":{\"field\":\"y\"}},\"id\":\"4937\",\"type\":\"Line\"},{\"attributes\":{},\"id\":\"4907\",\"type\":\"DataRange1d\"},{\"attributes\":{\"overlay\":{\"id\":\"4927\"}},\"id\":\"4923\",\"type\":\"BoxZoomTool\"},{\"attributes\":{\"line_alpha\":0.2,\"line_color\":\"green\",\"line_width\":2,\"x\":{\"field\":\"x\"},\"y\":{\"field\":\"y\"}},\"id\":\"4938\",\"type\":\"Line\"},{\"attributes\":{},\"id\":\"4911\",\"type\":\"LinearScale\"},{\"attributes\":{\"axis\":{\"id\":\"4917\"},\"band_fill_alpha\":0.1,\"band_fill_color\":\"olive\",\"coordinates\":null,\"dimension\":1,\"grid_line_alpha\":0.25,\"grid_line_color\":\"#E0E0E0\",\"group\":null,\"ticker\":null},\"id\":\"4920\",\"type\":\"Grid\"},{\"attributes\":{},\"id\":\"4914\",\"type\":\"BasicTicker\"},{\"attributes\":{\"axis_label_standoff\":10,\"axis_label_text_color\":\"#E0E0E0\",\"axis_label_text_font\":\"Helvetica\",\"axis_label_text_font_size\":\"1.25em\",\"axis_label_text_font_style\":\"normal\",\"axis_line_alpha\":0,\"axis_line_color\":\"#E0E0E0\",\"coordinates\":null,\"formatter\":{\"id\":\"5152\"},\"group\":null,\"major_label_policy\":{\"id\":\"5153\"},\"major_label_text_color\":\"#E0E0E0\",\"major_label_text_font\":\"Helvetica\",\"major_label_text_font_size\":\"1.025em\",\"major_tick_line_alpha\":0,\"major_tick_line_color\":\"#E0E0E0\",\"minor_tick_line_alpha\":0,\"minor_tick_line_color\":\"#E0E0E0\",\"ticker\":{\"id\":\"4914\"}},\"id\":\"4913\",\"type\":\"LinearAxis\"}],\"root_ids\":[\"4902\"]},\"title\":\"Bokeh Application\",\"version\":\"2.4.3\"}};\n",
       "  const render_items = [{\"docid\":\"27305ce7-110b-41cf-b4ce-51dcc7afe3a9\",\"root_ids\":[\"4902\"],\"roots\":{\"4902\":\"c4a0cbbd-55e5-4274-af8e-1344246661c9\"}}];\n",
       "  root.Bokeh.embed.embed_items_notebook(docs_json, render_items);\n",
       "  }\n",
       "  if (root.Bokeh !== undefined) {\n",
       "    embed_document(root);\n",
       "  } else {\n",
       "    let attempts = 0;\n",
       "    const timer = setInterval(function(root) {\n",
       "      if (root.Bokeh !== undefined) {\n",
       "        clearInterval(timer);\n",
       "        embed_document(root);\n",
       "      } else {\n",
       "        attempts++;\n",
       "        if (attempts > 100) {\n",
       "          clearInterval(timer);\n",
       "          console.log(\"Bokeh: ERROR: Unable to run BokehJS code because BokehJS library is missing\");\n",
       "        }\n",
       "      }\n",
       "    }, 10, root)\n",
       "  }\n",
       "})(window);"
      ],
      "application/vnd.bokehjs_exec.v0+json": ""
     },
     "metadata": {
      "application/vnd.bokehjs_exec.v0+json": {
       "id": "4902"
      }
     },
     "output_type": "display_data"
    }
   ],
   "source": [
    "x = [1, 2, 3, 4, 5]\n",
    "y = [4, 5, 5, 7, 2]\n",
    "\n",
    "# create a plot\n",
    "p = figure(title=\"Bands and bonds example\", sizing_mode=\"stretch_width\", max_width=500, height=250)\n",
    "\n",
    "# add a renderer\n",
    "p.line(x, y, line_color=\"green\", line_width=2)\n",
    "\n",
    "# add bands to the y-grid\n",
    "p.ygrid.band_fill_color = \"olive\"\n",
    "p.ygrid.band_fill_alpha = 0.1\n",
    "\n",
    "# define vertical bounds\n",
    "p.xgrid.bounds = (2, 4)\n",
    "\n",
    "# show the results\n",
    "show(p)\n"
   ]
  },
  {
   "cell_type": "markdown",
   "id": "3dec3e7d",
   "metadata": {},
   "source": [
    "# Background Color"
   ]
  },
  {
   "cell_type": "code",
   "execution_count": 36,
   "id": "751efb9a",
   "metadata": {},
   "outputs": [
    {
     "data": {
      "text/html": [
       "\n",
       "  <div class=\"bk-root\" id=\"2e5b8126-01aa-4ec0-8db4-cee593a8e66a\" data-root-id=\"5207\"></div>\n"
      ]
     },
     "metadata": {},
     "output_type": "display_data"
    },
    {
     "data": {
      "application/javascript": [
       "(function(root) {\n",
       "  function embed_document(root) {\n",
       "  const docs_json = {\"b1f0a72b-3b03-4ff7-930d-0915be2ed706\":{\"defs\":[],\"roots\":{\"references\":[{\"attributes\":{\"background_fill_color\":\"rgb(234, 255, 255)\",\"below\":[{\"id\":\"5218\"}],\"border_fill_color\":\"rgb(122, 244, 255)\",\"center\":[{\"id\":\"5221\"},{\"id\":\"5225\"}],\"height\":250,\"left\":[{\"id\":\"5222\"}],\"max_width\":500,\"outline_line_alpha\":0.25,\"outline_line_color\":\"rgb(0, 0, 255)\",\"renderers\":[{\"id\":\"5244\"}],\"sizing_mode\":\"stretch_width\",\"title\":{\"id\":\"5208\"},\"toolbar\":{\"id\":\"5233\"},\"x_range\":{\"id\":\"5210\"},\"x_scale\":{\"id\":\"5214\"},\"y_range\":{\"id\":\"5212\"},\"y_scale\":{\"id\":\"5216\"}},\"id\":\"5207\",\"subtype\":\"Figure\",\"type\":\"Plot\"},{\"attributes\":{},\"id\":\"5465\",\"type\":\"AllLabels\"},{\"attributes\":{\"axis\":{\"id\":\"5222\"},\"coordinates\":null,\"dimension\":1,\"grid_line_alpha\":0.25,\"grid_line_color\":\"#E0E0E0\",\"group\":null,\"ticker\":null},\"id\":\"5225\",\"type\":\"Grid\"},{\"attributes\":{\"axis\":{\"id\":\"5218\"},\"coordinates\":null,\"grid_line_alpha\":0.25,\"grid_line_color\":\"#E0E0E0\",\"group\":null,\"ticker\":null},\"id\":\"5221\",\"type\":\"Grid\"},{\"attributes\":{},\"id\":\"5216\",\"type\":\"LinearScale\"},{\"attributes\":{},\"id\":\"5214\",\"type\":\"LinearScale\"},{\"attributes\":{\"line_color\":\"green\",\"line_width\":2,\"x\":{\"field\":\"x\"},\"y\":{\"field\":\"y\"}},\"id\":\"5241\",\"type\":\"Line\"},{\"attributes\":{\"axis_label_standoff\":10,\"axis_label_text_color\":\"#E0E0E0\",\"axis_label_text_font\":\"Helvetica\",\"axis_label_text_font_size\":\"1.25em\",\"axis_label_text_font_style\":\"normal\",\"axis_line_alpha\":0,\"axis_line_color\":\"#E0E0E0\",\"coordinates\":null,\"formatter\":{\"id\":\"5467\"},\"group\":null,\"major_label_policy\":{\"id\":\"5468\"},\"major_label_text_color\":\"#E0E0E0\",\"major_label_text_font\":\"Helvetica\",\"major_label_text_font_size\":\"1.025em\",\"major_tick_line_alpha\":0,\"major_tick_line_color\":\"#E0E0E0\",\"minor_tick_line_alpha\":0,\"minor_tick_line_color\":\"#E0E0E0\",\"ticker\":{\"id\":\"5219\"}},\"id\":\"5218\",\"type\":\"LinearAxis\"},{\"attributes\":{\"axis_label_standoff\":10,\"axis_label_text_color\":\"#E0E0E0\",\"axis_label_text_font\":\"Helvetica\",\"axis_label_text_font_size\":\"1.25em\",\"axis_label_text_font_style\":\"normal\",\"axis_line_alpha\":0,\"axis_line_color\":\"#E0E0E0\",\"coordinates\":null,\"formatter\":{\"id\":\"5464\"},\"group\":null,\"major_label_policy\":{\"id\":\"5465\"},\"major_label_text_color\":\"#E0E0E0\",\"major_label_text_font\":\"Helvetica\",\"major_label_text_font_size\":\"1.025em\",\"major_tick_line_alpha\":0,\"major_tick_line_color\":\"#E0E0E0\",\"minor_tick_line_alpha\":0,\"minor_tick_line_color\":\"#E0E0E0\",\"ticker\":{\"id\":\"5223\"}},\"id\":\"5222\",\"type\":\"LinearAxis\"},{\"attributes\":{},\"id\":\"5210\",\"type\":\"DataRange1d\"},{\"attributes\":{\"line_alpha\":0.2,\"line_color\":\"green\",\"line_width\":2,\"x\":{\"field\":\"x\"},\"y\":{\"field\":\"y\"}},\"id\":\"5243\",\"type\":\"Line\"},{\"attributes\":{\"data\":{\"x\":[1,2,3,4,5],\"y\":[4,5,5,7,2]},\"selected\":{\"id\":\"5470\"},\"selection_policy\":{\"id\":\"5469\"}},\"id\":\"5240\",\"type\":\"ColumnDataSource\"},{\"attributes\":{\"source\":{\"id\":\"5240\"}},\"id\":\"5245\",\"type\":\"CDSView\"},{\"attributes\":{\"tools\":[{\"id\":\"5226\"},{\"id\":\"5227\"},{\"id\":\"5228\"},{\"id\":\"5229\"},{\"id\":\"5230\"},{\"id\":\"5231\"}]},\"id\":\"5233\",\"type\":\"Toolbar\"},{\"attributes\":{},\"id\":\"5231\",\"type\":\"HelpTool\"},{\"attributes\":{\"line_alpha\":0.1,\"line_color\":\"green\",\"line_width\":2,\"x\":{\"field\":\"x\"},\"y\":{\"field\":\"y\"}},\"id\":\"5242\",\"type\":\"Line\"},{\"attributes\":{\"coordinates\":null,\"group\":null,\"text\":\"Background colors\",\"text_color\":\"#E0E0E0\",\"text_font\":\"Helvetica\",\"text_font_size\":\"1.15em\"},\"id\":\"5208\",\"type\":\"Title\"},{\"attributes\":{},\"id\":\"5467\",\"type\":\"BasicTickFormatter\"},{\"attributes\":{},\"id\":\"5469\",\"type\":\"UnionRenderers\"},{\"attributes\":{},\"id\":\"5219\",\"type\":\"BasicTicker\"},{\"attributes\":{},\"id\":\"5470\",\"type\":\"Selection\"},{\"attributes\":{\"bottom_units\":\"screen\",\"coordinates\":null,\"fill_alpha\":0.5,\"fill_color\":\"lightgrey\",\"group\":null,\"left_units\":\"screen\",\"level\":\"overlay\",\"line_alpha\":1.0,\"line_color\":\"black\",\"line_dash\":[4,4],\"line_width\":2,\"right_units\":\"screen\",\"syncable\":false,\"top_units\":\"screen\"},\"id\":\"5232\",\"type\":\"BoxAnnotation\"},{\"attributes\":{},\"id\":\"5212\",\"type\":\"DataRange1d\"},{\"attributes\":{\"coordinates\":null,\"data_source\":{\"id\":\"5240\"},\"glyph\":{\"id\":\"5241\"},\"group\":null,\"hover_glyph\":null,\"muted_glyph\":{\"id\":\"5243\"},\"nonselection_glyph\":{\"id\":\"5242\"},\"view\":{\"id\":\"5245\"}},\"id\":\"5244\",\"type\":\"GlyphRenderer\"},{\"attributes\":{},\"id\":\"5468\",\"type\":\"AllLabels\"},{\"attributes\":{},\"id\":\"5230\",\"type\":\"ResetTool\"},{\"attributes\":{},\"id\":\"5229\",\"type\":\"SaveTool\"},{\"attributes\":{\"overlay\":{\"id\":\"5232\"}},\"id\":\"5228\",\"type\":\"BoxZoomTool\"},{\"attributes\":{},\"id\":\"5226\",\"type\":\"PanTool\"},{\"attributes\":{},\"id\":\"5227\",\"type\":\"WheelZoomTool\"},{\"attributes\":{},\"id\":\"5464\",\"type\":\"BasicTickFormatter\"},{\"attributes\":{},\"id\":\"5223\",\"type\":\"BasicTicker\"}],\"root_ids\":[\"5207\"]},\"title\":\"Bokeh Application\",\"version\":\"2.4.3\"}};\n",
       "  const render_items = [{\"docid\":\"b1f0a72b-3b03-4ff7-930d-0915be2ed706\",\"root_ids\":[\"5207\"],\"roots\":{\"5207\":\"2e5b8126-01aa-4ec0-8db4-cee593a8e66a\"}}];\n",
       "  root.Bokeh.embed.embed_items_notebook(docs_json, render_items);\n",
       "  }\n",
       "  if (root.Bokeh !== undefined) {\n",
       "    embed_document(root);\n",
       "  } else {\n",
       "    let attempts = 0;\n",
       "    const timer = setInterval(function(root) {\n",
       "      if (root.Bokeh !== undefined) {\n",
       "        clearInterval(timer);\n",
       "        embed_document(root);\n",
       "      } else {\n",
       "        attempts++;\n",
       "        if (attempts > 100) {\n",
       "          clearInterval(timer);\n",
       "          console.log(\"Bokeh: ERROR: Unable to run BokehJS code because BokehJS library is missing\");\n",
       "        }\n",
       "      }\n",
       "    }, 10, root)\n",
       "  }\n",
       "})(window);"
      ],
      "application/vnd.bokehjs_exec.v0+json": ""
     },
     "metadata": {
      "application/vnd.bokehjs_exec.v0+json": {
       "id": "5207"
      }
     },
     "output_type": "display_data"
    }
   ],
   "source": [
    "x = [1, 2, 3, 4, 5]\n",
    "y = [4, 5, 5, 7, 2]\n",
    "\n",
    "# create a plot\n",
    "p = figure(title=\"Background colors\", sizing_mode=\"stretch_width\", max_width=500, height=250)\n",
    "\n",
    "# add a renderer\n",
    "p.line(x, y, line_color=\"green\", line_width=2)\n",
    "\n",
    "# change the fill colors\n",
    "p.background_fill_color = (234, 255, 255)\n",
    "p.border_fill_color = (122, 244, 255)\n",
    "p.outline_line_color = (0, 0, 255)\n",
    "\n",
    "# show the results\n",
    "show(p)"
   ]
  },
  {
   "cell_type": "markdown",
   "id": "7fde12e8",
   "metadata": {},
   "source": [
    "# Positioning Toolbar "
   ]
  },
  {
   "cell_type": "code",
   "execution_count": 37,
   "id": "12f96d7b",
   "metadata": {},
   "outputs": [
    {
     "data": {
      "text/html": [
       "\n",
       "  <div class=\"bk-root\" id=\"b6207f66-799d-4546-aaf2-bbb3d970ca03\" data-root-id=\"5522\"></div>\n"
      ]
     },
     "metadata": {},
     "output_type": "display_data"
    },
    {
     "data": {
      "application/javascript": [
       "(function(root) {\n",
       "  function embed_document(root) {\n",
       "  const docs_json = {\"ae1cecef-8de3-4ded-ac7d-50d519051097\":{\"defs\":[],\"roots\":{\"references\":[{\"attributes\":{\"background_fill_color\":\"rgb(234, 255, 255)\",\"below\":[{\"id\":\"5533\"}],\"border_fill_color\":\"rgb(122, 244, 255)\",\"center\":[{\"id\":\"5536\"},{\"id\":\"5540\"}],\"height\":250,\"left\":[{\"id\":\"5537\"}],\"max_width\":500,\"outline_line_alpha\":0.25,\"outline_line_color\":\"rgb(0, 0, 255)\",\"renderers\":[{\"id\":\"5559\"}],\"sizing_mode\":\"stretch_width\",\"title\":{\"id\":\"5523\"},\"toolbar\":{\"id\":\"5548\"},\"toolbar_location\":\"below\",\"x_range\":{\"id\":\"5525\"},\"x_scale\":{\"id\":\"5529\"},\"y_range\":{\"id\":\"5527\"},\"y_scale\":{\"id\":\"5531\"}},\"id\":\"5522\",\"subtype\":\"Figure\",\"type\":\"Plot\"},{\"attributes\":{},\"id\":\"5527\",\"type\":\"DataRange1d\"},{\"attributes\":{},\"id\":\"5529\",\"type\":\"LinearScale\"},{\"attributes\":{},\"id\":\"5792\",\"type\":\"BasicTickFormatter\"},{\"attributes\":{},\"id\":\"5789\",\"type\":\"BasicTickFormatter\"},{\"attributes\":{\"axis_label_standoff\":10,\"axis_label_text_color\":\"#E0E0E0\",\"axis_label_text_font\":\"Helvetica\",\"axis_label_text_font_size\":\"1.25em\",\"axis_label_text_font_style\":\"normal\",\"axis_line_alpha\":0,\"axis_line_color\":\"#E0E0E0\",\"coordinates\":null,\"formatter\":{\"id\":\"5792\"},\"group\":null,\"major_label_policy\":{\"id\":\"5793\"},\"major_label_text_color\":\"#E0E0E0\",\"major_label_text_font\":\"Helvetica\",\"major_label_text_font_size\":\"1.025em\",\"major_tick_line_alpha\":0,\"major_tick_line_color\":\"#E0E0E0\",\"minor_tick_line_alpha\":0,\"minor_tick_line_color\":\"#E0E0E0\",\"ticker\":{\"id\":\"5534\"}},\"id\":\"5533\",\"type\":\"LinearAxis\"},{\"attributes\":{},\"id\":\"5544\",\"type\":\"SaveTool\"},{\"attributes\":{},\"id\":\"5541\",\"type\":\"PanTool\"},{\"attributes\":{\"coordinates\":null,\"data_source\":{\"id\":\"5555\"},\"glyph\":{\"id\":\"5556\"},\"group\":null,\"hover_glyph\":null,\"muted_glyph\":{\"id\":\"5558\"},\"nonselection_glyph\":{\"id\":\"5557\"},\"view\":{\"id\":\"5560\"}},\"id\":\"5559\",\"type\":\"GlyphRenderer\"},{\"attributes\":{\"overlay\":{\"id\":\"5547\"}},\"id\":\"5543\",\"type\":\"BoxZoomTool\"},{\"attributes\":{},\"id\":\"5790\",\"type\":\"AllLabels\"},{\"attributes\":{\"line_alpha\":0.2,\"line_color\":\"green\",\"line_width\":2,\"x\":{\"field\":\"x\"},\"y\":{\"field\":\"y\"}},\"id\":\"5558\",\"type\":\"Line\"},{\"attributes\":{},\"id\":\"5538\",\"type\":\"BasicTicker\"},{\"attributes\":{},\"id\":\"5545\",\"type\":\"ResetTool\"},{\"attributes\":{\"data\":{\"x\":[1,2,3,4,5],\"y\":[4,5,5,7,2]},\"selected\":{\"id\":\"5795\"},\"selection_policy\":{\"id\":\"5794\"}},\"id\":\"5555\",\"type\":\"ColumnDataSource\"},{\"attributes\":{\"source\":{\"id\":\"5555\"}},\"id\":\"5560\",\"type\":\"CDSView\"},{\"attributes\":{},\"id\":\"5525\",\"type\":\"DataRange1d\"},{\"attributes\":{},\"id\":\"5793\",\"type\":\"AllLabels\"},{\"attributes\":{\"line_alpha\":0.1,\"line_color\":\"green\",\"line_width\":2,\"x\":{\"field\":\"x\"},\"y\":{\"field\":\"y\"}},\"id\":\"5557\",\"type\":\"Line\"},{\"attributes\":{\"bottom_units\":\"screen\",\"coordinates\":null,\"fill_alpha\":0.5,\"fill_color\":\"lightgrey\",\"group\":null,\"left_units\":\"screen\",\"level\":\"overlay\",\"line_alpha\":1.0,\"line_color\":\"black\",\"line_dash\":[4,4],\"line_width\":2,\"right_units\":\"screen\",\"syncable\":false,\"top_units\":\"screen\"},\"id\":\"5547\",\"type\":\"BoxAnnotation\"},{\"attributes\":{},\"id\":\"5542\",\"type\":\"WheelZoomTool\"},{\"attributes\":{\"tools\":[{\"id\":\"5541\"},{\"id\":\"5542\"},{\"id\":\"5543\"},{\"id\":\"5544\"},{\"id\":\"5545\"},{\"id\":\"5546\"}]},\"id\":\"5548\",\"type\":\"Toolbar\"},{\"attributes\":{\"line_color\":\"green\",\"line_width\":2,\"x\":{\"field\":\"x\"},\"y\":{\"field\":\"y\"}},\"id\":\"5556\",\"type\":\"Line\"},{\"attributes\":{\"axis\":{\"id\":\"5537\"},\"coordinates\":null,\"dimension\":1,\"grid_line_alpha\":0.25,\"grid_line_color\":\"#E0E0E0\",\"group\":null,\"ticker\":null},\"id\":\"5540\",\"type\":\"Grid\"},{\"attributes\":{\"coordinates\":null,\"group\":null,\"text\":\"Background colors\",\"text_color\":\"#E0E0E0\",\"text_font\":\"Helvetica\",\"text_font_size\":\"1.15em\"},\"id\":\"5523\",\"type\":\"Title\"},{\"attributes\":{\"axis\":{\"id\":\"5533\"},\"coordinates\":null,\"grid_line_alpha\":0.25,\"grid_line_color\":\"#E0E0E0\",\"group\":null,\"ticker\":null},\"id\":\"5536\",\"type\":\"Grid\"},{\"attributes\":{},\"id\":\"5531\",\"type\":\"LinearScale\"},{\"attributes\":{},\"id\":\"5794\",\"type\":\"UnionRenderers\"},{\"attributes\":{},\"id\":\"5534\",\"type\":\"BasicTicker\"},{\"attributes\":{},\"id\":\"5546\",\"type\":\"HelpTool\"},{\"attributes\":{\"axis_label_standoff\":10,\"axis_label_text_color\":\"#E0E0E0\",\"axis_label_text_font\":\"Helvetica\",\"axis_label_text_font_size\":\"1.25em\",\"axis_label_text_font_style\":\"normal\",\"axis_line_alpha\":0,\"axis_line_color\":\"#E0E0E0\",\"coordinates\":null,\"formatter\":{\"id\":\"5789\"},\"group\":null,\"major_label_policy\":{\"id\":\"5790\"},\"major_label_text_color\":\"#E0E0E0\",\"major_label_text_font\":\"Helvetica\",\"major_label_text_font_size\":\"1.025em\",\"major_tick_line_alpha\":0,\"major_tick_line_color\":\"#E0E0E0\",\"minor_tick_line_alpha\":0,\"minor_tick_line_color\":\"#E0E0E0\",\"ticker\":{\"id\":\"5538\"}},\"id\":\"5537\",\"type\":\"LinearAxis\"},{\"attributes\":{},\"id\":\"5795\",\"type\":\"Selection\"}],\"root_ids\":[\"5522\"]},\"title\":\"Bokeh Application\",\"version\":\"2.4.3\"}};\n",
       "  const render_items = [{\"docid\":\"ae1cecef-8de3-4ded-ac7d-50d519051097\",\"root_ids\":[\"5522\"],\"roots\":{\"5522\":\"b6207f66-799d-4546-aaf2-bbb3d970ca03\"}}];\n",
       "  root.Bokeh.embed.embed_items_notebook(docs_json, render_items);\n",
       "  }\n",
       "  if (root.Bokeh !== undefined) {\n",
       "    embed_document(root);\n",
       "  } else {\n",
       "    let attempts = 0;\n",
       "    const timer = setInterval(function(root) {\n",
       "      if (root.Bokeh !== undefined) {\n",
       "        clearInterval(timer);\n",
       "        embed_document(root);\n",
       "      } else {\n",
       "        attempts++;\n",
       "        if (attempts > 100) {\n",
       "          clearInterval(timer);\n",
       "          console.log(\"Bokeh: ERROR: Unable to run BokehJS code because BokehJS library is missing\");\n",
       "        }\n",
       "      }\n",
       "    }, 10, root)\n",
       "  }\n",
       "})(window);"
      ],
      "application/vnd.bokehjs_exec.v0+json": ""
     },
     "metadata": {
      "application/vnd.bokehjs_exec.v0+json": {
       "id": "5522"
      }
     },
     "output_type": "display_data"
    }
   ],
   "source": [
    "x = [1, 2, 3, 4, 5]\n",
    "y = [4, 5, 5, 7, 2]\n",
    "\n",
    "# create a plot\n",
    "p = figure(title=\"Background colors\", sizing_mode=\"stretch_width\", max_width=500, height=250)\n",
    "p.toolbar_location = \"below\"\n",
    "\n",
    "# add a renderer\n",
    "p.line(x, y, line_color=\"green\", line_width=2)\n",
    "\n",
    "# change the fill colors\n",
    "p.background_fill_color = (234, 255, 255)\n",
    "p.border_fill_color = (122, 244, 255)\n",
    "p.outline_line_color = (0, 0, 255)\n",
    "\n",
    "# show the results\n",
    "show(p)"
   ]
  },
  {
   "cell_type": "markdown",
   "id": "51e15c90",
   "metadata": {},
   "source": [
    "# Deactivating and Hiding Toolbar"
   ]
  },
  {
   "cell_type": "code",
   "execution_count": 38,
   "id": "38a8e21d",
   "metadata": {},
   "outputs": [
    {
     "data": {
      "text/html": [
       "\n",
       "  <div class=\"bk-root\" id=\"7afa484e-4c82-4c7c-92e5-ae534c7389c5\" data-root-id=\"5847\"></div>\n"
      ]
     },
     "metadata": {},
     "output_type": "display_data"
    },
    {
     "data": {
      "application/javascript": [
       "(function(root) {\n",
       "  function embed_document(root) {\n",
       "  const docs_json = {\"f8e3abb7-b2c8-4c30-a0a9-1373a4809a16\":{\"defs\":[],\"roots\":{\"references\":[{\"attributes\":{\"background_fill_color\":\"#20262B\",\"below\":[{\"id\":\"5858\"}],\"border_fill_color\":\"#15191C\",\"center\":[{\"id\":\"5861\"},{\"id\":\"5865\"}],\"height\":250,\"left\":[{\"id\":\"5862\"}],\"max_width\":500,\"outline_line_alpha\":0.25,\"outline_line_color\":\"#E0E0E0\",\"renderers\":[{\"id\":\"5885\"}],\"sizing_mode\":\"stretch_width\",\"title\":{\"id\":\"5848\"},\"toolbar\":{\"id\":\"5873\"},\"toolbar_location\":\"above\",\"x_range\":{\"id\":\"5850\"},\"x_scale\":{\"id\":\"5854\"},\"y_range\":{\"id\":\"5852\"},\"y_scale\":{\"id\":\"5856\"}},\"id\":\"5847\",\"subtype\":\"Figure\",\"type\":\"Plot\"},{\"attributes\":{},\"id\":\"6130\",\"type\":\"UnionRenderers\"},{\"attributes\":{},\"id\":\"5856\",\"type\":\"LinearScale\"},{\"attributes\":{\"line_alpha\":0.2,\"line_color\":\"#1f77b4\",\"x\":{\"field\":\"x\"},\"y\":{\"field\":\"y\"}},\"id\":\"5884\",\"type\":\"Line\"},{\"attributes\":{\"coordinates\":null,\"data_source\":{\"id\":\"5881\"},\"glyph\":{\"id\":\"5882\"},\"group\":null,\"hover_glyph\":null,\"muted_glyph\":{\"id\":\"5884\"},\"nonselection_glyph\":{\"id\":\"5883\"},\"view\":{\"id\":\"5886\"}},\"id\":\"5885\",\"type\":\"GlyphRenderer\"},{\"attributes\":{\"line_alpha\":0.1,\"line_color\":\"#1f77b4\",\"x\":{\"field\":\"x\"},\"y\":{\"field\":\"y\"}},\"id\":\"5883\",\"type\":\"Line\"},{\"attributes\":{\"axis_label_standoff\":10,\"axis_label_text_color\":\"#E0E0E0\",\"axis_label_text_font\":\"Helvetica\",\"axis_label_text_font_size\":\"1.25em\",\"axis_label_text_font_style\":\"normal\",\"axis_line_alpha\":0,\"axis_line_color\":\"#E0E0E0\",\"coordinates\":null,\"formatter\":{\"id\":\"6125\"},\"group\":null,\"major_label_policy\":{\"id\":\"6126\"},\"major_label_text_color\":\"#E0E0E0\",\"major_label_text_font\":\"Helvetica\",\"major_label_text_font_size\":\"1.025em\",\"major_tick_line_alpha\":0,\"major_tick_line_color\":\"#E0E0E0\",\"minor_tick_line_alpha\":0,\"minor_tick_line_color\":\"#E0E0E0\",\"ticker\":{\"id\":\"5863\"}},\"id\":\"5862\",\"type\":\"LinearAxis\"},{\"attributes\":{},\"id\":\"5854\",\"type\":\"LinearScale\"},{\"attributes\":{\"bottom_units\":\"screen\",\"coordinates\":null,\"fill_alpha\":0.5,\"fill_color\":\"lightgrey\",\"group\":null,\"left_units\":\"screen\",\"level\":\"overlay\",\"line_alpha\":1.0,\"line_color\":\"black\",\"line_dash\":[4,4],\"line_width\":2,\"right_units\":\"screen\",\"syncable\":false,\"top_units\":\"screen\"},\"id\":\"5872\",\"type\":\"BoxAnnotation\"},{\"attributes\":{},\"id\":\"5850\",\"type\":\"DataRange1d\"},{\"attributes\":{\"line_color\":\"#1f77b4\",\"x\":{\"field\":\"x\"},\"y\":{\"field\":\"y\"}},\"id\":\"5882\",\"type\":\"Line\"},{\"attributes\":{},\"id\":\"5870\",\"type\":\"ResetTool\"},{\"attributes\":{},\"id\":\"5869\",\"type\":\"SaveTool\"},{\"attributes\":{\"overlay\":{\"id\":\"5872\"}},\"id\":\"5868\",\"type\":\"BoxZoomTool\"},{\"attributes\":{},\"id\":\"6129\",\"type\":\"AllLabels\"},{\"attributes\":{\"axis_label_standoff\":10,\"axis_label_text_color\":\"#E0E0E0\",\"axis_label_text_font\":\"Helvetica\",\"axis_label_text_font_size\":\"1.25em\",\"axis_label_text_font_style\":\"normal\",\"axis_line_alpha\":0,\"axis_line_color\":\"#E0E0E0\",\"coordinates\":null,\"formatter\":{\"id\":\"6128\"},\"group\":null,\"major_label_policy\":{\"id\":\"6129\"},\"major_label_text_color\":\"#E0E0E0\",\"major_label_text_font\":\"Helvetica\",\"major_label_text_font_size\":\"1.025em\",\"major_tick_line_alpha\":0,\"major_tick_line_color\":\"#E0E0E0\",\"minor_tick_line_alpha\":0,\"minor_tick_line_color\":\"#E0E0E0\",\"ticker\":{\"id\":\"5859\"}},\"id\":\"5858\",\"type\":\"LinearAxis\"},{\"attributes\":{},\"id\":\"5866\",\"type\":\"PanTool\"},{\"attributes\":{},\"id\":\"6131\",\"type\":\"Selection\"},{\"attributes\":{},\"id\":\"5867\",\"type\":\"WheelZoomTool\"},{\"attributes\":{},\"id\":\"6128\",\"type\":\"BasicTickFormatter\"},{\"attributes\":{\"coordinates\":null,\"group\":null,\"text\":\"Toolbar autohide\",\"text_color\":\"#E0E0E0\",\"text_font\":\"Helvetica\",\"text_font_size\":\"1.15em\"},\"id\":\"5848\",\"type\":\"Title\"},{\"attributes\":{},\"id\":\"5871\",\"type\":\"HelpTool\"},{\"attributes\":{\"source\":{\"id\":\"5881\"}},\"id\":\"5886\",\"type\":\"CDSView\"},{\"attributes\":{\"data\":{\"x\":[1,2,3,4,5],\"y\":[4,5,5,7,2]},\"selected\":{\"id\":\"6131\"},\"selection_policy\":{\"id\":\"6130\"}},\"id\":\"5881\",\"type\":\"ColumnDataSource\"},{\"attributes\":{},\"id\":\"5859\",\"type\":\"BasicTicker\"},{\"attributes\":{},\"id\":\"6126\",\"type\":\"AllLabels\"},{\"attributes\":{\"axis\":{\"id\":\"5858\"},\"coordinates\":null,\"grid_line_alpha\":0.25,\"grid_line_color\":\"#E0E0E0\",\"group\":null,\"ticker\":null},\"id\":\"5861\",\"type\":\"Grid\"},{\"attributes\":{},\"id\":\"6125\",\"type\":\"BasicTickFormatter\"},{\"attributes\":{\"autohide\":true,\"tools\":[{\"id\":\"5866\"},{\"id\":\"5867\"},{\"id\":\"5868\"},{\"id\":\"5869\"},{\"id\":\"5870\"},{\"id\":\"5871\"}]},\"id\":\"5873\",\"type\":\"Toolbar\"},{\"attributes\":{},\"id\":\"5863\",\"type\":\"BasicTicker\"},{\"attributes\":{\"axis\":{\"id\":\"5862\"},\"coordinates\":null,\"dimension\":1,\"grid_line_alpha\":0.25,\"grid_line_color\":\"#E0E0E0\",\"group\":null,\"ticker\":null},\"id\":\"5865\",\"type\":\"Grid\"},{\"attributes\":{},\"id\":\"5852\",\"type\":\"DataRange1d\"}],\"root_ids\":[\"5847\"]},\"title\":\"Bokeh Application\",\"version\":\"2.4.3\"}};\n",
       "  const render_items = [{\"docid\":\"f8e3abb7-b2c8-4c30-a0a9-1373a4809a16\",\"root_ids\":[\"5847\"],\"roots\":{\"5847\":\"7afa484e-4c82-4c7c-92e5-ae534c7389c5\"}}];\n",
       "  root.Bokeh.embed.embed_items_notebook(docs_json, render_items);\n",
       "  }\n",
       "  if (root.Bokeh !== undefined) {\n",
       "    embed_document(root);\n",
       "  } else {\n",
       "    let attempts = 0;\n",
       "    const timer = setInterval(function(root) {\n",
       "      if (root.Bokeh !== undefined) {\n",
       "        clearInterval(timer);\n",
       "        embed_document(root);\n",
       "      } else {\n",
       "        attempts++;\n",
       "        if (attempts > 100) {\n",
       "          clearInterval(timer);\n",
       "          console.log(\"Bokeh: ERROR: Unable to run BokehJS code because BokehJS library is missing\");\n",
       "        }\n",
       "      }\n",
       "    }, 10, root)\n",
       "  }\n",
       "})(window);"
      ],
      "application/vnd.bokehjs_exec.v0+json": ""
     },
     "metadata": {
      "application/vnd.bokehjs_exec.v0+json": {
       "id": "5847"
      }
     },
     "output_type": "display_data"
    }
   ],
   "source": [
    "x = [1, 2, 3, 4, 5]\n",
    "y = [4, 5, 5, 7, 2]\n",
    "\n",
    "# create a plot\n",
    "p = figure(title=\"Toolbar autohide\", sizing_mode=\"stretch_width\", max_width=500, height=250)\n",
    "p.toolbar_location= 'above'\n",
    "# activate toolbar autohide\n",
    "p.toolbar.autohide = True\n",
    "\n",
    "# add a renderer\n",
    "p.line(x, y)\n",
    "\n",
    "# show the results\n",
    "show(p)"
   ]
  },
  {
   "cell_type": "markdown",
   "id": "7c30bbe3",
   "metadata": {},
   "source": [
    "# Customize Tools"
   ]
  },
  {
   "cell_type": "code",
   "execution_count": 39,
   "id": "0b36db73",
   "metadata": {},
   "outputs": [
    {
     "data": {
      "text/html": [
       "\n",
       "  <div class=\"bk-root\" id=\"ef2516f4-6a29-49c7-9ebf-a7838492b2b3\" data-root-id=\"6185\"></div>\n"
      ]
     },
     "metadata": {},
     "output_type": "display_data"
    },
    {
     "data": {
      "application/javascript": [
       "(function(root) {\n",
       "  function embed_document(root) {\n",
       "  const docs_json = {\"63e2b18c-5f75-4339-9ed8-44e068055faa\":{\"defs\":[],\"roots\":{\"references\":[{\"attributes\":{\"background_fill_color\":\"#20262B\",\"below\":[{\"id\":\"6196\"}],\"border_fill_color\":\"#15191C\",\"center\":[{\"id\":\"6199\"},{\"id\":\"6203\"}],\"height\":250,\"left\":[{\"id\":\"6200\"}],\"max_width\":500,\"outline_line_alpha\":0.25,\"outline_line_color\":\"#E0E0E0\",\"renderers\":[{\"id\":\"6216\"}],\"sizing_mode\":\"stretch_width\",\"title\":{\"id\":\"6186\"},\"toolbar\":{\"id\":\"6205\"},\"x_range\":{\"id\":\"6188\"},\"x_scale\":{\"id\":\"6192\"},\"y_range\":{\"id\":\"6190\"},\"y_scale\":{\"id\":\"6194\"}},\"id\":\"6185\",\"subtype\":\"Figure\",\"type\":\"Plot\"},{\"attributes\":{},\"id\":\"6184\",\"type\":\"ResetTool\"},{\"attributes\":{\"overlay\":{\"id\":\"6204\"}},\"id\":\"6183\",\"type\":\"BoxZoomTool\"},{\"attributes\":{\"axis\":{\"id\":\"6200\"},\"coordinates\":null,\"dimension\":1,\"grid_line_alpha\":0.25,\"grid_line_color\":\"#E0E0E0\",\"group\":null,\"ticker\":null},\"id\":\"6203\",\"type\":\"Grid\"},{\"attributes\":{},\"id\":\"6466\",\"type\":\"BasicTickFormatter\"},{\"attributes\":{},\"id\":\"6471\",\"type\":\"UnionRenderers\"},{\"attributes\":{},\"id\":\"6472\",\"type\":\"Selection\"},{\"attributes\":{\"bottom_units\":\"screen\",\"coordinates\":null,\"fill_alpha\":0.5,\"fill_color\":\"lightgrey\",\"group\":null,\"left_units\":\"screen\",\"level\":\"overlay\",\"line_alpha\":1.0,\"line_color\":\"black\",\"line_dash\":[4,4],\"line_width\":2,\"right_units\":\"screen\",\"syncable\":false,\"top_units\":\"screen\"},\"id\":\"6204\",\"type\":\"BoxAnnotation\"},{\"attributes\":{},\"id\":\"6469\",\"type\":\"BasicTickFormatter\"},{\"attributes\":{\"coordinates\":null,\"data_source\":{\"id\":\"6212\"},\"glyph\":{\"id\":\"6213\"},\"group\":null,\"hover_glyph\":null,\"muted_glyph\":{\"id\":\"6215\"},\"nonselection_glyph\":{\"id\":\"6214\"},\"view\":{\"id\":\"6217\"}},\"id\":\"6216\",\"type\":\"GlyphRenderer\"},{\"attributes\":{\"source\":{\"id\":\"6212\"}},\"id\":\"6217\",\"type\":\"CDSView\"},{\"attributes\":{},\"id\":\"6470\",\"type\":\"AllLabels\"},{\"attributes\":{},\"id\":\"6194\",\"type\":\"LinearScale\"},{\"attributes\":{\"tools\":[{\"id\":\"6183\"},{\"id\":\"6184\"},{\"id\":\"6208\"},{\"id\":\"6210\"}]},\"id\":\"6205\",\"type\":\"Toolbar\"},{\"attributes\":{\"dimensions\":\"width\"},\"id\":\"6208\",\"type\":\"PanTool\"},{\"attributes\":{\"axis\":{\"id\":\"6196\"},\"coordinates\":null,\"grid_line_alpha\":0.25,\"grid_line_color\":\"#E0E0E0\",\"group\":null,\"ticker\":null},\"id\":\"6199\",\"type\":\"Grid\"},{\"attributes\":{},\"id\":\"6467\",\"type\":\"AllLabels\"},{\"attributes\":{\"dimensions\":\"width\",\"overlay\":{\"id\":\"6474\"}},\"id\":\"6210\",\"type\":\"BoxSelectTool\"},{\"attributes\":{\"fill_alpha\":{\"value\":0.1},\"fill_color\":{\"value\":\"#1f77b4\"},\"hatch_alpha\":{\"value\":0.1},\"line_alpha\":{\"value\":0.1},\"line_color\":{\"value\":\"#1f77b4\"},\"size\":{\"value\":10},\"x\":{\"field\":\"x\"},\"y\":{\"field\":\"y\"}},\"id\":\"6214\",\"type\":\"Circle\"},{\"attributes\":{},\"id\":\"6197\",\"type\":\"BasicTicker\"},{\"attributes\":{\"fill_color\":{\"value\":\"#1f77b4\"},\"line_color\":{\"value\":\"#1f77b4\"},\"size\":{\"value\":10},\"x\":{\"field\":\"x\"},\"y\":{\"field\":\"y\"}},\"id\":\"6213\",\"type\":\"Circle\"},{\"attributes\":{\"bottom_units\":\"screen\",\"coordinates\":null,\"fill_alpha\":0.5,\"fill_color\":\"lightgrey\",\"group\":null,\"left_units\":\"screen\",\"level\":\"overlay\",\"line_alpha\":1.0,\"line_color\":\"black\",\"line_dash\":[4,4],\"line_width\":2,\"right_units\":\"screen\",\"syncable\":false,\"top_units\":\"screen\"},\"id\":\"6474\",\"type\":\"BoxAnnotation\"},{\"attributes\":{},\"id\":\"6188\",\"type\":\"DataRange1d\"},{\"attributes\":{},\"id\":\"6201\",\"type\":\"BasicTicker\"},{\"attributes\":{\"axis_label_standoff\":10,\"axis_label_text_color\":\"#E0E0E0\",\"axis_label_text_font\":\"Helvetica\",\"axis_label_text_font_size\":\"1.25em\",\"axis_label_text_font_style\":\"normal\",\"axis_line_alpha\":0,\"axis_line_color\":\"#E0E0E0\",\"coordinates\":null,\"formatter\":{\"id\":\"6469\"},\"group\":null,\"major_label_policy\":{\"id\":\"6470\"},\"major_label_text_color\":\"#E0E0E0\",\"major_label_text_font\":\"Helvetica\",\"major_label_text_font_size\":\"1.025em\",\"major_tick_line_alpha\":0,\"major_tick_line_color\":\"#E0E0E0\",\"minor_tick_line_alpha\":0,\"minor_tick_line_color\":\"#E0E0E0\",\"ticker\":{\"id\":\"6197\"}},\"id\":\"6196\",\"type\":\"LinearAxis\"},{\"attributes\":{},\"id\":\"6192\",\"type\":\"LinearScale\"},{\"attributes\":{\"data\":{\"x\":[1,2,3,4,5],\"y\":[4,5,5,7,2]},\"selected\":{\"id\":\"6472\"},\"selection_policy\":{\"id\":\"6471\"}},\"id\":\"6212\",\"type\":\"ColumnDataSource\"},{\"attributes\":{},\"id\":\"6190\",\"type\":\"DataRange1d\"},{\"attributes\":{\"axis_label_standoff\":10,\"axis_label_text_color\":\"#E0E0E0\",\"axis_label_text_font\":\"Helvetica\",\"axis_label_text_font_size\":\"1.25em\",\"axis_label_text_font_style\":\"normal\",\"axis_line_alpha\":0,\"axis_line_color\":\"#E0E0E0\",\"coordinates\":null,\"formatter\":{\"id\":\"6466\"},\"group\":null,\"major_label_policy\":{\"id\":\"6467\"},\"major_label_text_color\":\"#E0E0E0\",\"major_label_text_font\":\"Helvetica\",\"major_label_text_font_size\":\"1.025em\",\"major_tick_line_alpha\":0,\"major_tick_line_color\":\"#E0E0E0\",\"minor_tick_line_alpha\":0,\"minor_tick_line_color\":\"#E0E0E0\",\"ticker\":{\"id\":\"6201\"}},\"id\":\"6200\",\"type\":\"LinearAxis\"},{\"attributes\":{\"coordinates\":null,\"group\":null,\"text\":\"Modifying tools\",\"text_color\":\"#E0E0E0\",\"text_font\":\"Helvetica\",\"text_font_size\":\"1.15em\"},\"id\":\"6186\",\"type\":\"Title\"},{\"attributes\":{\"fill_alpha\":{\"value\":0.2},\"fill_color\":{\"value\":\"#1f77b4\"},\"hatch_alpha\":{\"value\":0.2},\"line_alpha\":{\"value\":0.2},\"line_color\":{\"value\":\"#1f77b4\"},\"size\":{\"value\":10},\"x\":{\"field\":\"x\"},\"y\":{\"field\":\"y\"}},\"id\":\"6215\",\"type\":\"Circle\"}],\"root_ids\":[\"6185\"]},\"title\":\"Bokeh Application\",\"version\":\"2.4.3\"}};\n",
       "  const render_items = [{\"docid\":\"63e2b18c-5f75-4339-9ed8-44e068055faa\",\"root_ids\":[\"6185\"],\"roots\":{\"6185\":\"ef2516f4-6a29-49c7-9ebf-a7838492b2b3\"}}];\n",
       "  root.Bokeh.embed.embed_items_notebook(docs_json, render_items);\n",
       "  }\n",
       "  if (root.Bokeh !== undefined) {\n",
       "    embed_document(root);\n",
       "  } else {\n",
       "    let attempts = 0;\n",
       "    const timer = setInterval(function(root) {\n",
       "      if (root.Bokeh !== undefined) {\n",
       "        clearInterval(timer);\n",
       "        embed_document(root);\n",
       "      } else {\n",
       "        attempts++;\n",
       "        if (attempts > 100) {\n",
       "          clearInterval(timer);\n",
       "          console.log(\"Bokeh: ERROR: Unable to run BokehJS code because BokehJS library is missing\");\n",
       "        }\n",
       "      }\n",
       "    }, 10, root)\n",
       "  }\n",
       "})(window);"
      ],
      "application/vnd.bokehjs_exec.v0+json": ""
     },
     "metadata": {
      "application/vnd.bokehjs_exec.v0+json": {
       "id": "6185"
      }
     },
     "output_type": "display_data"
    }
   ],
   "source": [
    "x = [1, 2, 3, 4, 5]\n",
    "y = [4, 5, 5, 7, 2]\n",
    "\n",
    "# create a plot\n",
    "p = figure(title=\"Modifying tools\", tools=[BoxZoomTool(), ResetTool()], sizing_mode=\"stretch_width\", max_width=500, height=250)\n",
    "\n",
    "# add an additional pan tool\n",
    "p.add_tools(PanTool(dimensions=\"width\"))\n",
    "p.add_tools(BoxSelectTool(dimensions=\"width\"))\n",
    "# add a renderer\n",
    "p.circle(x, y, size=10)\n",
    "\n",
    "# show the results\n",
    "show(p)"
   ]
  },
  {
   "cell_type": "markdown",
   "id": "56680176",
   "metadata": {},
   "source": [
    "# Adding Tooltips"
   ]
  },
  {
   "cell_type": "code",
   "execution_count": 40,
   "id": "c99cbf2d",
   "metadata": {},
   "outputs": [
    {
     "data": {
      "text/html": [
       "\n",
       "  <div class=\"bk-root\" id=\"c8e79024-1c43-49b9-9a83-8cc7e6cb3b33\" data-root-id=\"6531\"></div>\n"
      ]
     },
     "metadata": {},
     "output_type": "display_data"
    },
    {
     "data": {
      "application/javascript": [
       "(function(root) {\n",
       "  function embed_document(root) {\n",
       "  const docs_json = {\"583f6d7b-1176-4bac-9b50-3bde3cf9bb31\":{\"defs\":[],\"roots\":{\"references\":[{\"attributes\":{\"background_fill_color\":\"#20262B\",\"below\":[{\"id\":\"6540\"}],\"border_fill_color\":\"#15191C\",\"center\":[{\"id\":\"6543\"},{\"id\":\"6547\"}],\"height\":250,\"left\":[{\"id\":\"6544\"}],\"max_width\":500,\"outline_line_alpha\":0.25,\"outline_line_color\":\"#E0E0E0\",\"renderers\":[{\"id\":\"6554\"},{\"id\":\"6560\"}],\"sizing_mode\":\"stretch_width\",\"title\":{\"id\":\"6819\"},\"toolbar\":{\"id\":\"6548\"},\"toolbar_location\":null,\"x_range\":{\"id\":\"6532\"},\"x_scale\":{\"id\":\"6536\"},\"y_range\":{\"id\":\"6534\"},\"y_scale\":{\"id\":\"6538\"}},\"id\":\"6531\",\"subtype\":\"Figure\",\"type\":\"Plot\"},{\"attributes\":{},\"id\":\"6823\",\"type\":\"AllLabels\"},{\"attributes\":{\"axis_label_standoff\":10,\"axis_label_text_color\":\"#E0E0E0\",\"axis_label_text_font\":\"Helvetica\",\"axis_label_text_font_size\":\"1.25em\",\"axis_label_text_font_style\":\"normal\",\"axis_line_alpha\":0,\"axis_line_color\":\"#E0E0E0\",\"coordinates\":null,\"formatter\":{\"id\":\"6825\"},\"group\":null,\"major_label_policy\":{\"id\":\"6826\"},\"major_label_text_color\":\"#E0E0E0\",\"major_label_text_font\":\"Helvetica\",\"major_label_text_font_size\":\"1.025em\",\"major_tick_line_alpha\":0,\"major_tick_line_color\":\"#E0E0E0\",\"minor_tick_line_alpha\":0,\"minor_tick_line_color\":\"#E0E0E0\",\"ticker\":{\"id\":\"6541\"}},\"id\":\"6540\",\"type\":\"LinearAxis\"},{\"attributes\":{},\"id\":\"6536\",\"type\":\"LinearScale\"},{\"attributes\":{\"end\":10},\"id\":\"6534\",\"type\":\"Range1d\"},{\"attributes\":{},\"id\":\"6541\",\"type\":\"BasicTicker\"},{\"attributes\":{},\"id\":\"6822\",\"type\":\"BasicTickFormatter\"},{\"attributes\":{\"fill_color\":{\"value\":\"#1f77b4\"},\"line_color\":{\"value\":\"#1f77b4\"},\"size\":{\"value\":10},\"x\":{\"field\":\"x\"},\"y\":{\"field\":\"y\"}},\"id\":\"6551\",\"type\":\"Circle\"},{\"attributes\":{},\"id\":\"6532\",\"type\":\"DataRange1d\"},{\"attributes\":{\"axis_label_standoff\":10,\"axis_label_text_color\":\"#E0E0E0\",\"axis_label_text_font\":\"Helvetica\",\"axis_label_text_font_size\":\"1.25em\",\"axis_label_text_font_style\":\"normal\",\"axis_line_alpha\":0,\"axis_line_color\":\"#E0E0E0\",\"coordinates\":null,\"formatter\":{\"id\":\"6822\"},\"group\":null,\"major_label_policy\":{\"id\":\"6823\"},\"major_label_text_color\":\"#E0E0E0\",\"major_label_text_font\":\"Helvetica\",\"major_label_text_font_size\":\"1.025em\",\"major_tick_line_alpha\":0,\"major_tick_line_color\":\"#E0E0E0\",\"minor_tick_line_alpha\":0,\"minor_tick_line_color\":\"#E0E0E0\",\"ticker\":{\"id\":\"6545\"}},\"id\":\"6544\",\"type\":\"LinearAxis\"},{\"attributes\":{},\"id\":\"6538\",\"type\":\"LinearScale\"},{\"attributes\":{\"callback\":null,\"tooltips\":\"Data point @x has the value @y\"},\"id\":\"6530\",\"type\":\"HoverTool\"},{\"attributes\":{\"data\":{\"x\":[1,2,3,4,5],\"y\":[4,5,5,7,2]},\"selected\":{\"id\":\"6830\"},\"selection_policy\":{\"id\":\"6829\"}},\"id\":\"6556\",\"type\":\"ColumnDataSource\"},{\"attributes\":{},\"id\":\"6827\",\"type\":\"UnionRenderers\"},{\"attributes\":{\"coordinates\":null,\"data_source\":{\"id\":\"6550\"},\"glyph\":{\"id\":\"6551\"},\"group\":null,\"hover_glyph\":null,\"muted_glyph\":{\"id\":\"6553\"},\"nonselection_glyph\":{\"id\":\"6552\"},\"view\":{\"id\":\"6555\"}},\"id\":\"6554\",\"type\":\"GlyphRenderer\"},{\"attributes\":{\"fill_alpha\":{\"value\":0.2},\"fill_color\":{\"value\":\"#1f77b4\"},\"hatch_alpha\":{\"value\":0.2},\"line_alpha\":{\"value\":0.2},\"line_color\":{\"value\":\"#1f77b4\"},\"size\":{\"value\":10},\"x\":{\"field\":\"x\"},\"y\":{\"field\":\"y\"}},\"id\":\"6553\",\"type\":\"Circle\"},{\"attributes\":{\"line_alpha\":0.1,\"line_color\":\"#1f77b4\",\"line_width\":2,\"x\":{\"field\":\"x\"},\"y\":{\"field\":\"y\"}},\"id\":\"6558\",\"type\":\"Line\"},{\"attributes\":{\"coordinates\":null,\"data_source\":{\"id\":\"6556\"},\"glyph\":{\"id\":\"6557\"},\"group\":null,\"hover_glyph\":null,\"muted_glyph\":{\"id\":\"6559\"},\"nonselection_glyph\":{\"id\":\"6558\"},\"view\":{\"id\":\"6561\"}},\"id\":\"6560\",\"type\":\"GlyphRenderer\"},{\"attributes\":{\"line_alpha\":0.2,\"line_color\":\"#1f77b4\",\"line_width\":2,\"x\":{\"field\":\"x\"},\"y\":{\"field\":\"y\"}},\"id\":\"6559\",\"type\":\"Line\"},{\"attributes\":{},\"id\":\"6829\",\"type\":\"UnionRenderers\"},{\"attributes\":{\"coordinates\":null,\"group\":null,\"text_color\":\"#E0E0E0\",\"text_font\":\"Helvetica\",\"text_font_size\":\"1.15em\"},\"id\":\"6819\",\"type\":\"Title\"},{\"attributes\":{},\"id\":\"6830\",\"type\":\"Selection\"},{\"attributes\":{},\"id\":\"6828\",\"type\":\"Selection\"},{\"attributes\":{\"tools\":[{\"id\":\"6530\"}]},\"id\":\"6548\",\"type\":\"Toolbar\"},{\"attributes\":{\"line_color\":\"#1f77b4\",\"line_width\":2,\"x\":{\"field\":\"x\"},\"y\":{\"field\":\"y\"}},\"id\":\"6557\",\"type\":\"Line\"},{\"attributes\":{\"data\":{\"x\":[1,2,3,4,5],\"y\":[4,5,5,7,2]},\"selected\":{\"id\":\"6828\"},\"selection_policy\":{\"id\":\"6827\"}},\"id\":\"6550\",\"type\":\"ColumnDataSource\"},{\"attributes\":{},\"id\":\"6545\",\"type\":\"BasicTicker\"},{\"attributes\":{\"axis\":{\"id\":\"6544\"},\"coordinates\":null,\"dimension\":1,\"grid_line_alpha\":0.25,\"grid_line_color\":\"#E0E0E0\",\"group\":null,\"ticker\":null},\"id\":\"6547\",\"type\":\"Grid\"},{\"attributes\":{\"source\":{\"id\":\"6556\"}},\"id\":\"6561\",\"type\":\"CDSView\"},{\"attributes\":{\"fill_alpha\":{\"value\":0.1},\"fill_color\":{\"value\":\"#1f77b4\"},\"hatch_alpha\":{\"value\":0.1},\"line_alpha\":{\"value\":0.1},\"line_color\":{\"value\":\"#1f77b4\"},\"size\":{\"value\":10},\"x\":{\"field\":\"x\"},\"y\":{\"field\":\"y\"}},\"id\":\"6552\",\"type\":\"Circle\"},{\"attributes\":{},\"id\":\"6826\",\"type\":\"AllLabels\"},{\"attributes\":{\"source\":{\"id\":\"6550\"}},\"id\":\"6555\",\"type\":\"CDSView\"},{\"attributes\":{},\"id\":\"6825\",\"type\":\"BasicTickFormatter\"},{\"attributes\":{\"axis\":{\"id\":\"6540\"},\"coordinates\":null,\"grid_line_alpha\":0.25,\"grid_line_color\":\"#E0E0E0\",\"group\":null,\"ticker\":null},\"id\":\"6543\",\"type\":\"Grid\"}],\"root_ids\":[\"6531\"]},\"title\":\"Bokeh Application\",\"version\":\"2.4.3\"}};\n",
       "  const render_items = [{\"docid\":\"583f6d7b-1176-4bac-9b50-3bde3cf9bb31\",\"root_ids\":[\"6531\"],\"roots\":{\"6531\":\"c8e79024-1c43-49b9-9a83-8cc7e6cb3b33\"}}];\n",
       "  root.Bokeh.embed.embed_items_notebook(docs_json, render_items);\n",
       "  }\n",
       "  if (root.Bokeh !== undefined) {\n",
       "    embed_document(root);\n",
       "  } else {\n",
       "    let attempts = 0;\n",
       "    const timer = setInterval(function(root) {\n",
       "      if (root.Bokeh !== undefined) {\n",
       "        clearInterval(timer);\n",
       "        embed_document(root);\n",
       "      } else {\n",
       "        attempts++;\n",
       "        if (attempts > 100) {\n",
       "          clearInterval(timer);\n",
       "          console.log(\"Bokeh: ERROR: Unable to run BokehJS code because BokehJS library is missing\");\n",
       "        }\n",
       "      }\n",
       "    }, 10, root)\n",
       "  }\n",
       "})(window);"
      ],
      "application/vnd.bokehjs_exec.v0+json": ""
     },
     "metadata": {
      "application/vnd.bokehjs_exec.v0+json": {
       "id": "6531"
      }
     },
     "output_type": "display_data"
    }
   ],
   "source": [
    "x = [1, 2, 3, 4, 5]\n",
    "y = [4, 5, 5, 7, 2]\n",
    "\n",
    "p = figure(y_range=(0, 10), toolbar_location=None, tools=[HoverTool()], tooltips=\"Data point @x has the value @y\",\n",
    "           sizing_mode=\"stretch_width\", max_width=500, height=250)\n",
    "\n",
    "# add renderers\n",
    "p.circle(x, y, size=10)\n",
    "p.line(x, y, line_width=2)\n",
    "\n",
    "# show the results\n",
    "show(p)"
   ]
  },
  {
   "cell_type": "markdown",
   "id": "8eaa8340",
   "metadata": {},
   "source": [
    "# Vectorizing Glyph Properties"
   ]
  },
  {
   "cell_type": "markdown",
   "id": "256222e7",
   "metadata": {},
   "source": [
    "### Vectorizing colors and size"
   ]
  },
  {
   "cell_type": "code",
   "execution_count": 41,
   "id": "fe42d1d6",
   "metadata": {},
   "outputs": [
    {
     "data": {
      "text/html": [
       "\n",
       "  <div class=\"bk-root\" id=\"da40a9d6-741a-4dc2-ba8a-7021982c34c9\" data-root-id=\"6891\"></div>\n"
      ]
     },
     "metadata": {},
     "output_type": "display_data"
    },
    {
     "data": {
      "application/javascript": [
       "(function(root) {\n",
       "  function embed_document(root) {\n",
       "  const docs_json = {\"14f2c106-d291-4378-aaf2-e95e7425bcd2\":{\"defs\":[],\"roots\":{\"references\":[{\"attributes\":{\"background_fill_color\":\"#20262B\",\"below\":[{\"id\":\"6902\"}],\"border_fill_color\":\"#15191C\",\"center\":[{\"id\":\"6905\"},{\"id\":\"6909\"}],\"height\":250,\"left\":[{\"id\":\"6906\"}],\"max_width\":500,\"outline_line_alpha\":0.25,\"outline_line_color\":\"#E0E0E0\",\"renderers\":[{\"id\":\"6928\"},{\"id\":\"6934\"}],\"sizing_mode\":\"stretch_width\",\"title\":{\"id\":\"6892\"},\"toolbar\":{\"id\":\"6917\"},\"x_range\":{\"id\":\"6894\"},\"x_scale\":{\"id\":\"6898\"},\"y_range\":{\"id\":\"6896\"},\"y_scale\":{\"id\":\"6900\"}},\"id\":\"6891\",\"subtype\":\"Figure\",\"type\":\"Plot\"},{\"attributes\":{\"data\":{\"fill_color\":[\"#ff89ff\",\"#ffe0ff\",\"#ff51ff\",\"#ff3dff\",\"#ffa0ff\",\"#ffc1ff\",\"#ff30ff\",\"#ff05ff\",\"#ffd1ff\",\"#ff0aff\",\"#ffa5ff\",\"#ff21ff\",\"#ff6bff\",\"#ff2dff\",\"#ffddff\",\"#ff35ff\",\"#ffd8ff\",\"#ff3fff\",\"#ff16ff\",\"#ffa3ff\",\"#fff2ff\",\"#ff4fff\",\"#ff00ff\",\"#ff7cff\",\"#ff02ff\",\"#ffe8ff\"],\"x\":[0,1,2,3,4,5,6,7,8,9,10,11,12,13,14,15,16,17,18,19,20,21,22,23,24,25],\"y\":[54,88,32,24,63,76,19,2,82,4,65,13,42,18,87,21,85,25,9,64,95,31,0,49,1,91]},\"selected\":{\"id\":\"7215\"},\"selection_policy\":{\"id\":\"7214\"}},\"id\":\"6930\",\"type\":\"ColumnDataSource\"},{\"attributes\":{},\"id\":\"6898\",\"type\":\"LinearScale\"},{\"attributes\":{\"fill_color\":{\"field\":\"fill_color\"},\"line_color\":{\"value\":\"red\"},\"size\":{\"value\":15},\"x\":{\"field\":\"x\"},\"y\":{\"field\":\"y\"}},\"id\":\"6931\",\"type\":\"Circle\"},{\"attributes\":{\"axis_label_standoff\":10,\"axis_label_text_color\":\"#E0E0E0\",\"axis_label_text_font\":\"Helvetica\",\"axis_label_text_font_size\":\"1.25em\",\"axis_label_text_font_style\":\"normal\",\"axis_line_alpha\":0,\"axis_line_color\":\"#E0E0E0\",\"coordinates\":null,\"formatter\":{\"id\":\"7207\"},\"group\":null,\"major_label_policy\":{\"id\":\"7208\"},\"major_label_text_color\":\"#E0E0E0\",\"major_label_text_font\":\"Helvetica\",\"major_label_text_font_size\":\"1.025em\",\"major_tick_line_alpha\":0,\"major_tick_line_color\":\"#E0E0E0\",\"minor_tick_line_alpha\":0,\"minor_tick_line_color\":\"#E0E0E0\",\"ticker\":{\"id\":\"6907\"}},\"id\":\"6906\",\"type\":\"LinearAxis\"},{\"attributes\":{\"axis_label_standoff\":10,\"axis_label_text_color\":\"#E0E0E0\",\"axis_label_text_font\":\"Helvetica\",\"axis_label_text_font_size\":\"1.25em\",\"axis_label_text_font_style\":\"normal\",\"axis_line_alpha\":0,\"axis_line_color\":\"#E0E0E0\",\"coordinates\":null,\"formatter\":{\"id\":\"7210\"},\"group\":null,\"major_label_policy\":{\"id\":\"7211\"},\"major_label_text_color\":\"#E0E0E0\",\"major_label_text_font\":\"Helvetica\",\"major_label_text_font_size\":\"1.025em\",\"major_tick_line_alpha\":0,\"major_tick_line_color\":\"#E0E0E0\",\"minor_tick_line_alpha\":0,\"minor_tick_line_color\":\"#E0E0E0\",\"ticker\":{\"id\":\"6903\"}},\"id\":\"6902\",\"type\":\"LinearAxis\"},{\"attributes\":{\"data\":{\"x\":[0,1,2,3,4,5,6,7,8,9,10,11,12,13,14,15,16,17,18,19,20,21,22,23,24,25],\"y\":[54,88,32,24,63,76,19,2,82,4,65,13,42,18,87,21,85,25,9,64,95,31,0,49,1,91]},\"selected\":{\"id\":\"7213\"},\"selection_policy\":{\"id\":\"7212\"}},\"id\":\"6924\",\"type\":\"ColumnDataSource\"},{\"attributes\":{},\"id\":\"6913\",\"type\":\"SaveTool\"},{\"attributes\":{\"source\":{\"id\":\"6924\"}},\"id\":\"6929\",\"type\":\"CDSView\"},{\"attributes\":{\"overlay\":{\"id\":\"6916\"}},\"id\":\"6912\",\"type\":\"BoxZoomTool\"},{\"attributes\":{\"bottom_units\":\"screen\",\"coordinates\":null,\"fill_alpha\":0.5,\"fill_color\":\"lightgrey\",\"group\":null,\"left_units\":\"screen\",\"level\":\"overlay\",\"line_alpha\":1.0,\"line_color\":\"black\",\"line_dash\":[4,4],\"line_width\":2,\"right_units\":\"screen\",\"syncable\":false,\"top_units\":\"screen\"},\"id\":\"6916\",\"type\":\"BoxAnnotation\"},{\"attributes\":{},\"id\":\"6894\",\"type\":\"DataRange1d\"},{\"attributes\":{},\"id\":\"6910\",\"type\":\"PanTool\"},{\"attributes\":{},\"id\":\"7214\",\"type\":\"UnionRenderers\"},{\"attributes\":{\"line_alpha\":0.2,\"line_color\":\"blue\",\"x\":{\"field\":\"x\"},\"y\":{\"field\":\"y\"}},\"id\":\"6927\",\"type\":\"Line\"},{\"attributes\":{},\"id\":\"6911\",\"type\":\"WheelZoomTool\"},{\"attributes\":{},\"id\":\"6896\",\"type\":\"DataRange1d\"},{\"attributes\":{\"line_alpha\":0.1,\"line_color\":\"blue\",\"x\":{\"field\":\"x\"},\"y\":{\"field\":\"y\"}},\"id\":\"6926\",\"type\":\"Line\"},{\"attributes\":{\"coordinates\":null,\"group\":null,\"text\":\"Vectorized colors\",\"text_color\":\"#E0E0E0\",\"text_font\":\"Helvetica\",\"text_font_size\":\"1.15em\"},\"id\":\"6892\",\"type\":\"Title\"},{\"attributes\":{},\"id\":\"7215\",\"type\":\"Selection\"},{\"attributes\":{},\"id\":\"6915\",\"type\":\"HelpTool\"},{\"attributes\":{},\"id\":\"7207\",\"type\":\"BasicTickFormatter\"},{\"attributes\":{},\"id\":\"6914\",\"type\":\"ResetTool\"},{\"attributes\":{\"tools\":[{\"id\":\"6910\"},{\"id\":\"6911\"},{\"id\":\"6912\"},{\"id\":\"6913\"},{\"id\":\"6914\"},{\"id\":\"6915\"}]},\"id\":\"6917\",\"type\":\"Toolbar\"},{\"attributes\":{},\"id\":\"7208\",\"type\":\"AllLabels\"},{\"attributes\":{},\"id\":\"7210\",\"type\":\"BasicTickFormatter\"},{\"attributes\":{\"coordinates\":null,\"data_source\":{\"id\":\"6924\"},\"glyph\":{\"id\":\"6925\"},\"group\":null,\"hover_glyph\":null,\"muted_glyph\":{\"id\":\"6927\"},\"nonselection_glyph\":{\"id\":\"6926\"},\"view\":{\"id\":\"6929\"}},\"id\":\"6928\",\"type\":\"GlyphRenderer\"},{\"attributes\":{},\"id\":\"7211\",\"type\":\"AllLabels\"},{\"attributes\":{\"axis\":{\"id\":\"6906\"},\"coordinates\":null,\"dimension\":1,\"grid_line_alpha\":0.25,\"grid_line_color\":\"#E0E0E0\",\"group\":null,\"ticker\":null},\"id\":\"6909\",\"type\":\"Grid\"},{\"attributes\":{\"line_color\":\"blue\",\"x\":{\"field\":\"x\"},\"y\":{\"field\":\"y\"}},\"id\":\"6925\",\"type\":\"Line\"},{\"attributes\":{},\"id\":\"6907\",\"type\":\"BasicTicker\"},{\"attributes\":{\"source\":{\"id\":\"6930\"}},\"id\":\"6935\",\"type\":\"CDSView\"},{\"attributes\":{\"fill_alpha\":{\"value\":0.2},\"fill_color\":{\"field\":\"fill_color\"},\"hatch_alpha\":{\"value\":0.2},\"line_alpha\":{\"value\":0.2},\"line_color\":{\"value\":\"red\"},\"size\":{\"value\":15},\"x\":{\"field\":\"x\"},\"y\":{\"field\":\"y\"}},\"id\":\"6933\",\"type\":\"Circle\"},{\"attributes\":{},\"id\":\"6900\",\"type\":\"LinearScale\"},{\"attributes\":{\"coordinates\":null,\"data_source\":{\"id\":\"6930\"},\"glyph\":{\"id\":\"6931\"},\"group\":null,\"hover_glyph\":null,\"muted_glyph\":{\"id\":\"6933\"},\"nonselection_glyph\":{\"id\":\"6932\"},\"view\":{\"id\":\"6935\"}},\"id\":\"6934\",\"type\":\"GlyphRenderer\"},{\"attributes\":{},\"id\":\"6903\",\"type\":\"BasicTicker\"},{\"attributes\":{\"fill_alpha\":{\"value\":0.1},\"fill_color\":{\"field\":\"fill_color\"},\"hatch_alpha\":{\"value\":0.1},\"line_alpha\":{\"value\":0.1},\"line_color\":{\"value\":\"red\"},\"size\":{\"value\":15},\"x\":{\"field\":\"x\"},\"y\":{\"field\":\"y\"}},\"id\":\"6932\",\"type\":\"Circle\"},{\"attributes\":{},\"id\":\"7212\",\"type\":\"UnionRenderers\"},{\"attributes\":{\"axis\":{\"id\":\"6902\"},\"coordinates\":null,\"grid_line_alpha\":0.25,\"grid_line_color\":\"#E0E0E0\",\"group\":null,\"ticker\":null},\"id\":\"6905\",\"type\":\"Grid\"},{\"attributes\":{},\"id\":\"7213\",\"type\":\"Selection\"}],\"root_ids\":[\"6891\"]},\"title\":\"Bokeh Application\",\"version\":\"2.4.3\"}};\n",
       "  const render_items = [{\"docid\":\"14f2c106-d291-4378-aaf2-e95e7425bcd2\",\"root_ids\":[\"6891\"],\"roots\":{\"6891\":\"da40a9d6-741a-4dc2-ba8a-7021982c34c9\"}}];\n",
       "  root.Bokeh.embed.embed_items_notebook(docs_json, render_items);\n",
       "  }\n",
       "  if (root.Bokeh !== undefined) {\n",
       "    embed_document(root);\n",
       "  } else {\n",
       "    let attempts = 0;\n",
       "    const timer = setInterval(function(root) {\n",
       "      if (root.Bokeh !== undefined) {\n",
       "        clearInterval(timer);\n",
       "        embed_document(root);\n",
       "      } else {\n",
       "        attempts++;\n",
       "        if (attempts > 100) {\n",
       "          clearInterval(timer);\n",
       "          console.log(\"Bokeh: ERROR: Unable to run BokehJS code because BokehJS library is missing\");\n",
       "        }\n",
       "      }\n",
       "    }, 10, root)\n",
       "  }\n",
       "})(window);"
      ],
      "application/vnd.bokehjs_exec.v0+json": ""
     },
     "metadata": {
      "application/vnd.bokehjs_exec.v0+json": {
       "id": "6891"
      }
     },
     "output_type": "display_data"
    }
   ],
   "source": [
    "# generate some data (1-10 for x, random values for y) the number of values for x and y must be the same\n",
    "x = list(range(0, 26))\n",
    "y = random.sample(range(0, 100), 26)\n",
    "\n",
    "# generate list of rgb hex colors in relation to y\n",
    "colors = [f\"#{255:02x}{int((value * 255) / 100):02x}{255:02x}\" for value in y]\n",
    "\n",
    "# create new plot\n",
    "p = figure(title=\"Vectorized colors\", sizing_mode=\"stretch_width\", max_width=500,height=250) \n",
    "\n",
    "# add circle and line renderers\n",
    "line = p.line(x, y, line_color=\"blue\", line_width=1)\n",
    "circle = p.circle(x, y, fill_color=colors, line_color=\"red\", size=15)\n",
    "\n",
    "# show the results\n",
    "show(p)"
   ]
  },
  {
   "cell_type": "code",
   "execution_count": 42,
   "id": "59398baf",
   "metadata": {},
   "outputs": [
    {
     "data": {
      "text/html": [
       "\n",
       "  <div class=\"bk-root\" id=\"2a2db79e-56f1-4e80-9a52-be9da5aeb757\" data-root-id=\"7277\"></div>\n"
      ]
     },
     "metadata": {},
     "output_type": "display_data"
    },
    {
     "data": {
      "application/javascript": [
       "(function(root) {\n",
       "  function embed_document(root) {\n",
       "  const docs_json = {\"6703c34b-0f11-4d5c-a879-6c222530aa50\":{\"defs\":[],\"roots\":{\"references\":[{\"attributes\":{\"background_fill_color\":\"#20262B\",\"below\":[{\"id\":\"7288\"}],\"border_fill_color\":\"#15191C\",\"center\":[{\"id\":\"7291\"},{\"id\":\"7295\"}],\"height\":250,\"left\":[{\"id\":\"7292\"}],\"max_width\":500,\"outline_line_alpha\":0.25,\"outline_line_color\":\"#E0E0E0\",\"renderers\":[{\"id\":\"7314\"}],\"sizing_mode\":\"stretch_width\",\"title\":{\"id\":\"7278\"},\"toolbar\":{\"id\":\"7303\"},\"x_range\":{\"id\":\"7280\"},\"x_scale\":{\"id\":\"7284\"},\"y_range\":{\"id\":\"7282\"},\"y_scale\":{\"id\":\"7286\"}},\"id\":\"7277\",\"subtype\":\"Figure\",\"type\":\"Plot\"},{\"attributes\":{\"data\":{\"fill_color\":[\"#ffd5ff\",\"#ffd8ff\",\"#ff47ff\",\"#ff88ff\",\"#ff27ff\",\"#ffb0ff\",\"#fffcff\",\"#ff85ff\",\"#ff76ff\",\"#ff0cff\",\"#ff7eff\",\"#ff38ff\",\"#ff4fff\",\"#ffe7ff\",\"#ff75ff\",\"#ffa5ff\",\"#ff67ff\",\"#ff2aff\",\"#ffd1ff\",\"#ff98ff\",\"#ffecff\",\"#ff26ff\",\"#ffcfff\",\"#ff45ff\",\"#ff0bff\",\"#ff66ff\",\"#ff49ff\",\"#fff1ff\",\"#ff3dff\",\"#ffacff\",\"#ff7cff\",\"#ffd1ff\",\"#ff1eff\",\"#ff6aff\",\"#ff86ff\",\"#ffccff\",\"#ff1cff\",\"#ffc0ff\",\"#ffc6ff\",\"#ff0dff\",\"#ffc8ff\",\"#ff07ff\",\"#ffa1ff\",\"#ff33ff\",\"#ff04ff\",\"#ffe1ff\",\"#ff2cff\",\"#ffaaff\",\"#ffa0ff\",\"#ff9aff\",\"#ff30ff\",\"#ff44ff\",\"#ffe3ff\",\"#ffd5ff\",\"#ff82ff\",\"#ff14ff\",\"#ff34ff\",\"#ff6fff\",\"#ff5fff\",\"#ffddff\",\"#ff30ff\",\"#ff28ff\",\"#fffaff\",\"#ffc8ff\",\"#ff90ff\",\"#ff36ff\",\"#ff3fff\",\"#ffdcff\",\"#ffb4ff\",\"#ff6cff\",\"#ffe9ff\",\"#ff84ff\",\"#ff25ff\",\"#ffedff\",\"#ff72ff\",\"#ff93ff\",\"#ff28ff\",\"#ffd0ff\",\"#ff6aff\",\"#ff5bff\",\"#ffd3ff\",\"#ff81ff\",\"#ff27ff\",\"#ff13ff\",\"#ff5fff\",\"#ffebff\",\"#ff77ff\",\"#ffeeff\",\"#ff5aff\",\"#ffd4ff\",\"#ffd1ff\",\"#ff6cff\",\"#ffbbff\",\"#ff45ff\",\"#ffc9ff\",\"#ffeeff\",\"#ffebff\",\"#ff6fff\",\"#ff55ff\",\"#ffe4ff\",\"#ff25ff\",\"#fffdff\",\"#ffb9ff\",\"#ffe2ff\",\"#ff80ff\",\"#ff14ff\",\"#ff8eff\",\"#ff4bff\",\"#ff2bff\",\"#ff8dff\",\"#fffaff\",\"#ff47ff\",\"#ff94ff\",\"#ffa7ff\",\"#ff11ff\",\"#ff2cff\",\"#ffb6ff\",\"#ffadff\",\"#ffd9ff\",\"#ff9aff\",\"#ff5fff\",\"#fff1ff\",\"#ff73ff\",\"#ff1eff\",\"#ff24ff\",\"#ffa4ff\",\"#ffbeff\",\"#ff49ff\",\"#ff90ff\",\"#ffe2ff\",\"#ffaaff\",\"#ff07ff\",\"#ff0dff\",\"#ff1fff\",\"#ff0eff\",\"#ff49ff\",\"#ffe3ff\",\"#ffa0ff\",\"#ff2cff\",\"#ff3fff\",\"#ffc8ff\",\"#ffdaff\",\"#ff89ff\",\"#ffcfff\",\"#ff8fff\",\"#ffd8ff\",\"#ff60ff\",\"#ffd9ff\",\"#ff25ff\",\"#ffe0ff\",\"#ffa0ff\",\"#ff4aff\",\"#ff05ff\",\"#ff3dff\",\"#ff6eff\",\"#ffa6ff\",\"#ff1dff\",\"#ff66ff\",\"#ff1fff\",\"#ff11ff\",\"#ff07ff\",\"#ff33ff\",\"#ff5cff\",\"#ff4eff\",\"#ffb2ff\",\"#ffecff\",\"#ffb5ff\",\"#ffa9ff\",\"#ff24ff\",\"#ff3dff\",\"#ff12ff\",\"#ffe4ff\",\"#ffacff\",\"#ffa2ff\",\"#ff5eff\",\"#ffbbff\",\"#ff03ff\",\"#ff38ff\",\"#ffcbff\",\"#fff1ff\",\"#ffb8ff\",\"#ff47ff\",\"#ff81ff\",\"#ff16ff\",\"#ff7fff\",\"#ff3eff\",\"#ff5eff\",\"#ffc4ff\",\"#fff6ff\",\"#fff9ff\",\"#ff28ff\",\"#ff04ff\",\"#fff5ff\",\"#ffedff\",\"#ff75ff\",\"#ff07ff\",\"#ff74ff\",\"#ffeaff\",\"#ffcbff\",\"#ffbeff\",\"#ff5dff\",\"#fffaff\",\"#ff92ff\",\"#ff54ff\",\"#ffd0ff\",\"#ffbaff\",\"#ffabff\",\"#ff30ff\",\"#ffdeff\",\"#ff10ff\",\"#ff65ff\",\"#ff31ff\",\"#fffcff\",\"#ffc3ff\",\"#ff59ff\",\"#ffddff\",\"#ff35ff\",\"#ff89ff\",\"#ff29ff\",\"#ff94ff\",\"#ffcbff\",\"#ff6eff\",\"#ff9aff\",\"#ff3eff\",\"#ff9fff\",\"#fff8ff\",\"#ff8cff\",\"#ff75ff\",\"#ff3cff\",\"#ff1aff\",\"#ffb6ff\",\"#ffa0ff\",\"#ff36ff\",\"#ff86ff\",\"#ff47ff\",\"#ffacff\",\"#ff27ff\",\"#ff5aff\",\"#ff58ff\",\"#ff88ff\",\"#fff6ff\",\"#ffadff\",\"#ffbaff\",\"#ff42ff\",\"#ff35ff\",\"#ff38ff\",\"#ff5dff\",\"#ffd7ff\",\"#ffcaff\",\"#ff5dff\",\"#ff66ff\",\"#ff21ff\",\"#ff0bff\",\"#ff0fff\",\"#ff9cff\",\"#ff45ff\",\"#ffabff\",\"#ffc4ff\",\"#ff9aff\",\"#ff3aff\",\"#fff8ff\",\"#ff99ff\",\"#ff98ff\",\"#fffcff\",\"#ffe1ff\",\"#ff33ff\",\"#ffa1ff\",\"#ff7eff\",\"#ffb8ff\",\"#ffbcff\",\"#ffe0ff\",\"#ffb9ff\",\"#ffd8ff\",\"#ff40ff\",\"#ffb7ff\",\"#ff70ff\",\"#ffe6ff\",\"#ff6fff\",\"#ff48ff\",\"#ff61ff\",\"#ff29ff\",\"#ffc1ff\",\"#ffeeff\",\"#ff0cff\",\"#fffaff\",\"#ff12ff\",\"#ff4cff\",\"#ff35ff\",\"#ff9dff\",\"#ff30ff\",\"#ff40ff\",\"#ffb4ff\",\"#ffe3ff\",\"#ff22ff\",\"#ff61ff\",\"#ffd2ff\",\"#ffc1ff\",\"#ff6eff\",\"#ff23ff\",\"#ffdcff\",\"#ff3aff\",\"#ff64ff\",\"#ffcdff\",\"#fffaff\",\"#ffb1ff\",\"#ff9bff\",\"#ff10ff\",\"#fffaff\",\"#ff27ff\",\"#ff99ff\",\"#ff3bff\",\"#fff7ff\",\"#ff22ff\",\"#ff23ff\",\"#ffeeff\",\"#ff1cff\",\"#ff14ff\",\"#fff4ff\",\"#ff89ff\",\"#ffb9ff\",\"#ff04ff\",\"#ffa9ff\",\"#ffe9ff\",\"#ff23ff\",\"#ff32ff\",\"#fff1ff\",\"#ff4eff\",\"#ffa1ff\",\"#ffe8ff\",\"#ff50ff\",\"#ff52ff\",\"#ff29ff\",\"#ffa1ff\",\"#ffeeff\",\"#ff17ff\",\"#ffb6ff\",\"#ffe8ff\",\"#ff03ff\",\"#ff8cff\",\"#ffc6ff\",\"#ffb8ff\",\"#ff17ff\",\"#ffb6ff\",\"#ff30ff\",\"#ffebff\",\"#ffacff\",\"#ffeaff\",\"#ff8bff\",\"#ff90ff\",\"#ff06ff\",\"#ffdaff\",\"#ff7bff\",\"#ff11ff\",\"#ff88ff\",\"#ff86ff\",\"#ffb3ff\",\"#ff84ff\",\"#ff41ff\",\"#ff07ff\",\"#ff5dff\",\"#fff6ff\",\"#ff7dff\",\"#ffe6ff\",\"#ff10ff\",\"#ff6dff\",\"#ffc1ff\",\"#ff3bff\",\"#ff04ff\",\"#ff6dff\",\"#ff26ff\",\"#ffb3ff\",\"#fffbff\",\"#ffe2ff\",\"#fff1ff\",\"#ff45ff\",\"#fffaff\",\"#ffc7ff\",\"#ffdfff\",\"#ff3bff\",\"#ff30ff\",\"#ff26ff\",\"#ff88ff\",\"#ff7cff\",\"#ff59ff\",\"#ffbbff\",\"#ff35ff\",\"#ff21ff\",\"#ff4bff\",\"#ff95ff\",\"#ff68ff\",\"#ff73ff\",\"#ff27ff\",\"#ffa7ff\",\"#ff50ff\",\"#ffaaff\",\"#ff54ff\",\"#ff56ff\",\"#ff39ff\",\"#fff9ff\",\"#ffa3ff\",\"#ffceff\",\"#ffa4ff\",\"#ff03ff\",\"#fff8ff\",\"#ffb5ff\",\"#ff8cff\",\"#ffd4ff\",\"#ff05ff\",\"#ffd9ff\",\"#ff7bff\",\"#ffa1ff\",\"#ffb3ff\",\"#ff0dff\",\"#ff65ff\",\"#ff9bff\",\"#ff23ff\",\"#ffceff\",\"#ffbeff\",\"#ff96ff\",\"#ffdbff\",\"#ffacff\",\"#ffd6ff\",\"#ff1eff\",\"#ff01ff\",\"#ff36ff\",\"#ff84ff\",\"#ff39ff\",\"#ffd0ff\",\"#ff7eff\",\"#ffebff\",\"#ffb9ff\",\"#ff22ff\",\"#ff68ff\",\"#ff8fff\",\"#ff6bff\",\"#ff66ff\",\"#ffdfff\",\"#ff79ff\",\"#ff60ff\",\"#ffb4ff\",\"#ff09ff\",\"#ff23ff\",\"#ffc1ff\",\"#ff37ff\",\"#ffb6ff\",\"#ff72ff\",\"#ff11ff\",\"#ff0fff\",\"#ff66ff\",\"#ff40ff\",\"#ff13ff\",\"#ffaaff\",\"#ff84ff\",\"#ffddff\",\"#ff75ff\",\"#ff44ff\",\"#ff15ff\",\"#ffb0ff\",\"#ffc7ff\",\"#ff8aff\",\"#ffb9ff\",\"#ffc3ff\",\"#ff59ff\",\"#ff5cff\",\"#ff11ff\",\"#ff3eff\",\"#ff41ff\",\"#ff64ff\",\"#ff8bff\",\"#ff38ff\",\"#ff87ff\",\"#ffcfff\",\"#ffe7ff\",\"#ff44ff\",\"#ff08ff\",\"#ff8fff\",\"#ff01ff\",\"#ffebff\",\"#ff4cff\",\"#ffe4ff\",\"#ff07ff\",\"#ff22ff\",\"#ff9fff\",\"#ffa4ff\",\"#ff22ff\",\"#ffd9ff\",\"#ff43ff\",\"#ffbbff\",\"#ff98ff\",\"#ffadff\",\"#ff57ff\",\"#ff2cff\",\"#ff20ff\",\"#ffe8ff\",\"#ff6bff\",\"#ff8eff\",\"#ff15ff\",\"#ff4dff\",\"#ff27ff\",\"#ff2fff\",\"#ffc3ff\",\"#ff32ff\",\"#ff33ff\",\"#ffeaff\",\"#ff11ff\",\"#ff1eff\",\"#ff9dff\",\"#fff1ff\",\"#ffd9ff\",\"#ff1fff\",\"#ff16ff\",\"#ffc5ff\",\"#ff8dff\",\"#ffe4ff\",\"#ff88ff\",\"#ffdaff\",\"#ff4fff\",\"#ff08ff\",\"#ff02ff\",\"#ff87ff\",\"#ff4eff\",\"#ff7fff\",\"#ff88ff\",\"#ff01ff\",\"#ff36ff\",\"#ff00ff\",\"#ff97ff\",\"#ffb5ff\",\"#ffd4ff\",\"#ff76ff\",\"#ff1fff\",\"#ff66ff\",\"#ff6dff\",\"#ff23ff\",\"#ff42ff\",\"#ff71ff\",\"#ffcdff\",\"#ff1fff\",\"#ff74ff\",\"#ff15ff\",\"#ffb5ff\",\"#ff7fff\",\"#ff1eff\",\"#ffbaff\",\"#ff91ff\",\"#ff1bff\",\"#ff08ff\",\"#ff98ff\",\"#ffc5ff\",\"#ff79ff\",\"#ff05ff\",\"#ff48ff\",\"#ffa3ff\",\"#ff99ff\",\"#ff96ff\",\"#fffdff\",\"#ff97ff\",\"#ffe8ff\",\"#fff8ff\",\"#ff26ff\",\"#ffdcff\",\"#ff13ff\",\"#ffbbff\",\"#fffbff\",\"#ffb4ff\",\"#ffd5ff\",\"#ffd8ff\",\"#ff2bff\",\"#ff0fff\",\"#ff31ff\",\"#ff8eff\",\"#ff2aff\",\"#ff3dff\",\"#ff3aff\",\"#ffebff\",\"#ffdfff\",\"#ff3dff\",\"#ff2eff\",\"#ff87ff\",\"#ff3dff\",\"#ff66ff\",\"#ff9eff\",\"#ff49ff\",\"#ff9cff\",\"#ff02ff\",\"#ff4aff\",\"#ffdfff\",\"#ff37ff\",\"#ffb8ff\",\"#ffdeff\",\"#ff08ff\",\"#ffeaff\",\"#ff0aff\",\"#ff53ff\",\"#ffecff\",\"#ff8aff\",\"#ff6aff\",\"#ff64ff\",\"#ffcaff\",\"#ff00ff\",\"#ff5dff\",\"#ff16ff\",\"#ffb2ff\",\"#ffbaff\",\"#ffa2ff\",\"#ff32ff\",\"#ff6eff\",\"#ff1bff\",\"#ff9aff\",\"#ff51ff\",\"#ffb5ff\",\"#ff68ff\",\"#ff32ff\",\"#ff2bff\",\"#ffe6ff\",\"#ff1cff\",\"#ff76ff\",\"#ffa7ff\",\"#ff01ff\",\"#ff72ff\",\"#ffa6ff\",\"#ff16ff\",\"#ff51ff\",\"#ff35ff\",\"#ff47ff\",\"#ffe3ff\",\"#ff46ff\",\"#ffa9ff\",\"#ff15ff\",\"#ff15ff\",\"#ff53ff\",\"#ffb2ff\",\"#ff74ff\",\"#ffa9ff\",\"#ff09ff\",\"#ff4fff\",\"#ffd4ff\",\"#ffcbff\",\"#ff29ff\",\"#ff57ff\",\"#ff05ff\",\"#ff84ff\",\"#ff42ff\",\"#ff99ff\",\"#ff80ff\",\"#ff84ff\",\"#ffafff\",\"#ff9dff\",\"#ffe8ff\",\"#ffdfff\",\"#ff43ff\",\"#ff7eff\",\"#ff4aff\",\"#ff61ff\",\"#ff68ff\",\"#ff32ff\",\"#ff85ff\",\"#ff34ff\",\"#ff9eff\",\"#ff65ff\",\"#ffefff\",\"#ff13ff\",\"#ff01ff\",\"#ffcdff\",\"#ffcbff\",\"#ff51ff\",\"#ff81ff\",\"#ff3eff\",\"#ff46ff\",\"#ff48ff\",\"#ffefff\",\"#ffc2ff\",\"#ff77ff\",\"#ff17ff\",\"#ffa7ff\",\"#ff06ff\",\"#ffccff\",\"#ff8fff\",\"#ff63ff\",\"#ff96ff\",\"#ffeaff\",\"#fff5ff\",\"#ffd6ff\",\"#ffcfff\",\"#ff8aff\",\"#ff38ff\",\"#ffc4ff\",\"#ff63ff\",\"#ffbfff\",\"#ffa2ff\",\"#ffadff\",\"#ffa5ff\",\"#ff39ff\",\"#ff13ff\",\"#ffdcff\",\"#ff1bff\",\"#ff37ff\",\"#ffaeff\",\"#ff7fff\",\"#ff97ff\",\"#ff9eff\",\"#ff7eff\",\"#ffb3ff\",\"#ffcbff\",\"#ff60ff\",\"#ffc6ff\",\"#ff85ff\",\"#ff14ff\",\"#ffe3ff\",\"#ff55ff\",\"#ffe9ff\",\"#ff1eff\",\"#ff1fff\",\"#ffeeff\",\"#ffdaff\",\"#ff40ff\",\"#ff14ff\",\"#ff6fff\",\"#ffdbff\",\"#ff70ff\",\"#ffa3ff\",\"#ff3eff\",\"#ffe2ff\",\"#ff76ff\",\"#ffb5ff\",\"#ff2aff\",\"#ffd1ff\",\"#ffe9ff\",\"#fff4ff\",\"#ff82ff\",\"#ff95ff\",\"#ffefff\",\"#ff06ff\",\"#ff58ff\",\"#ff77ff\",\"#ff71ff\",\"#ff85ff\",\"#ffb9ff\",\"#ff79ff\",\"#ffa3ff\",\"#ff78ff\",\"#ff8aff\",\"#ff2cff\",\"#ff8dff\",\"#ff9eff\",\"#ff5dff\",\"#ff96ff\",\"#ff2cff\",\"#ffa2ff\",\"#ff21ff\",\"#ff14ff\",\"#ffb9ff\",\"#ff77ff\",\"#ff2eff\",\"#ff94ff\",\"#ff36ff\",\"#ffbcff\",\"#ff67ff\",\"#ffd7ff\",\"#ffc3ff\",\"#ffb4ff\",\"#ff10ff\",\"#ff12ff\",\"#ffc2ff\",\"#ff3bff\",\"#ff4bff\",\"#ff4fff\",\"#ff3cff\",\"#ff2aff\",\"#fffcff\",\"#ff35ff\",\"#ff53ff\",\"#ffdcff\",\"#ff2bff\",\"#fffbff\",\"#ff02ff\",\"#ff6dff\",\"#ff35ff\",\"#ff61ff\",\"#ff6dff\",\"#ffb4ff\",\"#ffe3ff\",\"#ff21ff\",\"#ffc6ff\",\"#ffcbff\",\"#ffdaff\",\"#ff71ff\",\"#ffafff\",\"#ff39ff\",\"#ffe7ff\",\"#ff7cff\",\"#ff44ff\",\"#ff6bff\",\"#ff4cff\",\"#ffb5ff\",\"#ff5eff\",\"#ffdfff\",\"#ff8cff\",\"#ffbbff\",\"#ff99ff\",\"#ffb2ff\",\"#ff4fff\",\"#ffe5ff\",\"#ffe8ff\",\"#ff5eff\",\"#ff2cff\",\"#ff61ff\",\"#ff72ff\",\"#ff6eff\",\"#ff6bff\",\"#ff65ff\",\"#ff52ff\",\"#ff36ff\",\"#ffb0ff\",\"#ffc4ff\",\"#ffc1ff\",\"#ff28ff\",\"#ff41ff\",\"#ffbcff\",\"#ff3fff\",\"#ffecff\",\"#ffc9ff\",\"#ff5bff\",\"#ffc5ff\",\"#ff6fff\",\"#ff51ff\",\"#ffdbff\",\"#ff57ff\",\"#ffcdff\",\"#ffd6ff\",\"#ffccff\",\"#fff7ff\",\"#ffa2ff\",\"#ffeaff\",\"#ff72ff\",\"#ff53ff\",\"#ff45ff\",\"#ff5eff\",\"#ff85ff\",\"#ff6dff\",\"#ff67ff\",\"#fff1ff\",\"#ff9eff\",\"#ff75ff\",\"#ff50ff\",\"#ff1cff\",\"#ffcdff\",\"#ff5fff\",\"#ff33ff\",\"#ff45ff\",\"#ff69ff\",\"#ffa2ff\",\"#ffa0ff\",\"#ffeeff\",\"#ff0cff\",\"#ffc5ff\",\"#ffaaff\",\"#ffc8ff\",\"#ff69ff\",\"#ffdcff\",\"#ffabff\",\"#ff95ff\",\"#ff20ff\",\"#ff83ff\",\"#ff3dff\",\"#ffd2ff\",\"#ff41ff\",\"#ffa8ff\",\"#ffebff\",\"#ff4dff\",\"#ff5bff\",\"#ffb6ff\",\"#ffb0ff\",\"#ffddff\",\"#ffbfff\",\"#ff45ff\",\"#ff72ff\",\"#ffcbff\",\"#ffdbff\",\"#fff9ff\",\"#ffedff\",\"#ff6eff\",\"#ff34ff\",\"#ff94ff\",\"#ff07ff\",\"#ff44ff\",\"#ff28ff\",\"#ff08ff\",\"#ffc6ff\",\"#ff4aff\",\"#fff5ff\",\"#ffdaff\",\"#ff04ff\",\"#ff44ff\",\"#ff6aff\",\"#ff54ff\",\"#ffd2ff\",\"#ffe9ff\",\"#ff32ff\",\"#ff19ff\",\"#ff07ff\",\"#ff28ff\",\"#ff31ff\",\"#ffedff\",\"#ff74ff\",\"#fffbff\",\"#ff98ff\",\"#ff92ff\",\"#ff70ff\",\"#ff05ff\",\"#ff30ff\",\"#ff36ff\",\"#ff08ff\",\"#ff80ff\",\"#ff85ff\",\"#ffe0ff\",\"#ff30ff\",\"#ffd4ff\",\"#ff34ff\",\"#ff9aff\",\"#ff81ff\",\"#ffd7ff\",\"#ff67ff\",\"#ff5fff\",\"#ff03ff\",\"#ffd0ff\",\"#ffe7ff\",\"#ff61ff\",\"#ff09ff\",\"#ff25ff\",\"#ff6fff\",\"#ffddff\",\"#ff52ff\",\"#ffb8ff\",\"#ff3fff\",\"#ffa4ff\",\"#ffecff\",\"#ff16ff\",\"#ffb6ff\",\"#ff13ff\",\"#ff29ff\",\"#ffc2ff\",\"#ff83ff\",\"#ffc9ff\",\"#ffe4ff\",\"#ff2eff\",\"#ffd1ff\",\"#ffccff\",\"#ffbcff\",\"#fff4ff\",\"#ffacff\",\"#ff25ff\",\"#ff20ff\",\"#ff8dff\",\"#ff6dff\",\"#ffbbff\",\"#ff77ff\",\"#ff3dff\",\"#ff1bff\",\"#ff55ff\",\"#ff33ff\",\"#ff4dff\",\"#ff04ff\",\"#ff13ff\",\"#ffb0ff\",\"#ff95ff\",\"#ff7aff\",\"#ff0bff\",\"#fff0ff\",\"#fffaff\",\"#ff94ff\",\"#ff81ff\",\"#ff1aff\",\"#ff6cff\",\"#ffd5ff\",\"#ffb5ff\",\"#ffeeff\",\"#ff70ff\",\"#ff2cff\",\"#ff75ff\",\"#ffe5ff\",\"#ff2dff\",\"#ffc6ff\",\"#fff9ff\",\"#ff04ff\",\"#ff7eff\",\"#ff27ff\",\"#ff9aff\",\"#ff70ff\",\"#ffe8ff\",\"#ff89ff\",\"#ff63ff\",\"#ffdeff\",\"#ff0bff\",\"#ffe9ff\",\"#ff4bff\",\"#ffd5ff\",\"#ffe4ff\",\"#ff40ff\",\"#ffe4ff\"],\"radius\":{\"__ndarray__\":\"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\",\"dtype\":\"float64\",\"order\":\"little\",\"shape\":[1000]},\"x\":{\"__ndarray__\":\"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\",\"dtype\":\"float64\",\"order\":\"little\",\"shape\":[1000]},\"y\":{\"__ndarray__\":\"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\",\"dtype\":\"float64\",\"order\":\"little\",\"shape\":[1000]}},\"selected\":{\"id\":\"7605\"},\"selection_policy\":{\"id\":\"7604\"}},\"id\":\"7310\",\"type\":\"ColumnDataSource\"},{\"attributes\":{},\"id\":\"7293\",\"type\":\"BasicTicker\"},{\"attributes\":{},\"id\":\"7605\",\"type\":\"Selection\"},{\"attributes\":{},\"id\":\"7280\",\"type\":\"DataRange1d\"},{\"attributes\":{\"source\":{\"id\":\"7310\"}},\"id\":\"7315\",\"type\":\"CDSView\"},{\"attributes\":{},\"id\":\"7599\",\"type\":\"BasicTickFormatter\"},{\"attributes\":{\"tools\":[{\"id\":\"7296\"},{\"id\":\"7297\"},{\"id\":\"7298\"},{\"id\":\"7299\"},{\"id\":\"7300\"},{\"id\":\"7301\"}]},\"id\":\"7303\",\"type\":\"Toolbar\"},{\"attributes\":{},\"id\":\"7296\",\"type\":\"PanTool\"},{\"attributes\":{\"fill_alpha\":{\"value\":0.1},\"fill_color\":{\"field\":\"fill_color\"},\"hatch_alpha\":{\"value\":0.1},\"line_alpha\":{\"value\":0.1},\"line_color\":{\"value\":\"darkgrey\"},\"radius\":{\"field\":\"radius\"},\"x\":{\"field\":\"x\"},\"y\":{\"field\":\"y\"}},\"id\":\"7312\",\"type\":\"Circle\"},{\"attributes\":{},\"id\":\"7604\",\"type\":\"UnionRenderers\"},{\"attributes\":{},\"id\":\"7297\",\"type\":\"WheelZoomTool\"},{\"attributes\":{},\"id\":\"7289\",\"type\":\"BasicTicker\"},{\"attributes\":{\"axis\":{\"id\":\"7292\"},\"coordinates\":null,\"dimension\":1,\"grid_line_alpha\":0.25,\"grid_line_color\":\"#E0E0E0\",\"group\":null,\"ticker\":null},\"id\":\"7295\",\"type\":\"Grid\"},{\"attributes\":{},\"id\":\"7286\",\"type\":\"LinearScale\"},{\"attributes\":{\"bottom_units\":\"screen\",\"coordinates\":null,\"fill_alpha\":0.5,\"fill_color\":\"lightgrey\",\"group\":null,\"left_units\":\"screen\",\"level\":\"overlay\",\"line_alpha\":1.0,\"line_color\":\"black\",\"line_dash\":[4,4],\"line_width\":2,\"right_units\":\"screen\",\"syncable\":false,\"top_units\":\"screen\"},\"id\":\"7302\",\"type\":\"BoxAnnotation\"},{\"attributes\":{\"overlay\":{\"id\":\"7302\"}},\"id\":\"7298\",\"type\":\"BoxZoomTool\"},{\"attributes\":{},\"id\":\"7299\",\"type\":\"SaveTool\"},{\"attributes\":{},\"id\":\"7300\",\"type\":\"ResetTool\"},{\"attributes\":{},\"id\":\"7603\",\"type\":\"AllLabels\"},{\"attributes\":{},\"id\":\"7600\",\"type\":\"AllLabels\"},{\"attributes\":{\"coordinates\":null,\"data_source\":{\"id\":\"7310\"},\"glyph\":{\"id\":\"7311\"},\"group\":null,\"hover_glyph\":null,\"muted_glyph\":{\"id\":\"7313\"},\"nonselection_glyph\":{\"id\":\"7312\"},\"view\":{\"id\":\"7315\"}},\"id\":\"7314\",\"type\":\"GlyphRenderer\"},{\"attributes\":{\"axis\":{\"id\":\"7288\"},\"coordinates\":null,\"grid_line_alpha\":0.25,\"grid_line_color\":\"#E0E0E0\",\"group\":null,\"ticker\":null},\"id\":\"7291\",\"type\":\"Grid\"},{\"attributes\":{},\"id\":\"7602\",\"type\":\"BasicTickFormatter\"},{\"attributes\":{\"coordinates\":null,\"group\":null,\"text\":\"Vectorized colors and radii\",\"text_color\":\"#E0E0E0\",\"text_font\":\"Helvetica\",\"text_font_size\":\"1.15em\"},\"id\":\"7278\",\"type\":\"Title\"},{\"attributes\":{},\"id\":\"7282\",\"type\":\"DataRange1d\"},{\"attributes\":{},\"id\":\"7301\",\"type\":\"HelpTool\"},{\"attributes\":{\"axis_label_standoff\":10,\"axis_label_text_color\":\"#E0E0E0\",\"axis_label_text_font\":\"Helvetica\",\"axis_label_text_font_size\":\"1.25em\",\"axis_label_text_font_style\":\"normal\",\"axis_line_alpha\":0,\"axis_line_color\":\"#E0E0E0\",\"coordinates\":null,\"formatter\":{\"id\":\"7599\"},\"group\":null,\"major_label_policy\":{\"id\":\"7600\"},\"major_label_text_color\":\"#E0E0E0\",\"major_label_text_font\":\"Helvetica\",\"major_label_text_font_size\":\"1.025em\",\"major_tick_line_alpha\":0,\"major_tick_line_color\":\"#E0E0E0\",\"minor_tick_line_alpha\":0,\"minor_tick_line_color\":\"#E0E0E0\",\"ticker\":{\"id\":\"7293\"}},\"id\":\"7292\",\"type\":\"LinearAxis\"},{\"attributes\":{\"fill_alpha\":{\"value\":0.2},\"fill_color\":{\"field\":\"fill_color\"},\"hatch_alpha\":{\"value\":0.2},\"line_alpha\":{\"value\":0.2},\"line_color\":{\"value\":\"darkgrey\"},\"radius\":{\"field\":\"radius\"},\"x\":{\"field\":\"x\"},\"y\":{\"field\":\"y\"}},\"id\":\"7313\",\"type\":\"Circle\"},{\"attributes\":{\"axis_label_standoff\":10,\"axis_label_text_color\":\"#E0E0E0\",\"axis_label_text_font\":\"Helvetica\",\"axis_label_text_font_size\":\"1.25em\",\"axis_label_text_font_style\":\"normal\",\"axis_line_alpha\":0,\"axis_line_color\":\"#E0E0E0\",\"coordinates\":null,\"formatter\":{\"id\":\"7602\"},\"group\":null,\"major_label_policy\":{\"id\":\"7603\"},\"major_label_text_color\":\"#E0E0E0\",\"major_label_text_font\":\"Helvetica\",\"major_label_text_font_size\":\"1.025em\",\"major_tick_line_alpha\":0,\"major_tick_line_color\":\"#E0E0E0\",\"minor_tick_line_alpha\":0,\"minor_tick_line_color\":\"#E0E0E0\",\"ticker\":{\"id\":\"7289\"}},\"id\":\"7288\",\"type\":\"LinearAxis\"},{\"attributes\":{\"fill_alpha\":{\"value\":0.6},\"fill_color\":{\"field\":\"fill_color\"},\"line_color\":{\"value\":\"darkgrey\"},\"radius\":{\"field\":\"radius\"},\"x\":{\"field\":\"x\"},\"y\":{\"field\":\"y\"}},\"id\":\"7311\",\"type\":\"Circle\"},{\"attributes\":{},\"id\":\"7284\",\"type\":\"LinearScale\"}],\"root_ids\":[\"7277\"]},\"title\":\"Bokeh Application\",\"version\":\"2.4.3\"}};\n",
       "  const render_items = [{\"docid\":\"6703c34b-0f11-4d5c-a879-6c222530aa50\",\"root_ids\":[\"7277\"],\"roots\":{\"7277\":\"2a2db79e-56f1-4e80-9a52-be9da5aeb757\"}}];\n",
       "  root.Bokeh.embed.embed_items_notebook(docs_json, render_items);\n",
       "  }\n",
       "  if (root.Bokeh !== undefined) {\n",
       "    embed_document(root);\n",
       "  } else {\n",
       "    let attempts = 0;\n",
       "    const timer = setInterval(function(root) {\n",
       "      if (root.Bokeh !== undefined) {\n",
       "        clearInterval(timer);\n",
       "        embed_document(root);\n",
       "      } else {\n",
       "        attempts++;\n",
       "        if (attempts > 100) {\n",
       "          clearInterval(timer);\n",
       "          console.log(\"Bokeh: ERROR: Unable to run BokehJS code because BokehJS library is missing\");\n",
       "        }\n",
       "      }\n",
       "    }, 10, root)\n",
       "  }\n",
       "})(window);"
      ],
      "application/vnd.bokehjs_exec.v0+json": ""
     },
     "metadata": {
      "application/vnd.bokehjs_exec.v0+json": {
       "id": "7277"
      }
     },
     "output_type": "display_data"
    }
   ],
   "source": [
    "# generate some data\n",
    "N = 1000\n",
    "x = np.random.random(size=N) * 100\n",
    "y = np.random.random(size=N) * 100\n",
    "\n",
    "# generate radii and colors based on data\n",
    "radii = y / 100 * 2\n",
    "colors = [f\"#{255:02x}{int((value * 255) / 100):02x}{255:02x}\" for value in y]\n",
    "\n",
    "# create a new plot with a specific size\n",
    "p = figure(title=\"Vectorized colors and radii\", sizing_mode=\"stretch_width\", max_width=500, height=250)\n",
    "\n",
    "# add circle renderer\n",
    "p.circle(x, y, radius=radii, fill_color= colors, fill_alpha=0.6, line_color='darkgrey')\n",
    "\n",
    "show(p)"
   ]
  },
  {
   "cell_type": "markdown",
   "id": "20554d09",
   "metadata": {},
   "source": [
    "# Color mapping with palettes"
   ]
  },
  {
   "cell_type": "code",
   "execution_count": 43,
   "id": "97b95650",
   "metadata": {},
   "outputs": [
    {
     "data": {
      "text/html": [
       "\n",
       "  <div class=\"bk-root\" id=\"0e81b0e6-c9d1-49e7-9e87-fa5dcb52a1d5\" data-root-id=\"7658\"></div>\n"
      ]
     },
     "metadata": {},
     "output_type": "display_data"
    },
    {
     "data": {
      "application/javascript": [
       "(function(root) {\n",
       "  function embed_document(root) {\n",
       "  const docs_json = {\"59dcea30-1bde-4754-9d9a-ec8dd19e0d7d\":{\"defs\":[],\"roots\":{\"references\":[{\"attributes\":{\"background_fill_color\":\"#20262B\",\"below\":[{\"id\":\"7667\"}],\"border_fill_color\":\"#15191C\",\"center\":[{\"id\":\"7670\"},{\"id\":\"7674\"}],\"height\":250,\"left\":[{\"id\":\"7671\"}],\"outline_line_alpha\":0.25,\"outline_line_color\":\"#E0E0E0\",\"renderers\":[{\"id\":\"7693\"}],\"title\":{\"id\":\"7986\"},\"toolbar\":{\"id\":\"7682\"},\"width\":500,\"x_range\":{\"id\":\"7659\"},\"x_scale\":{\"id\":\"7663\"},\"y_range\":{\"id\":\"7661\"},\"y_scale\":{\"id\":\"7665\"}},\"id\":\"7658\",\"subtype\":\"Figure\",\"type\":\"Plot\"},{\"attributes\":{},\"id\":\"7994\",\"type\":\"UnionRenderers\"},{\"attributes\":{\"coordinates\":null,\"group\":null,\"text_color\":\"#E0E0E0\",\"text_font\":\"Helvetica\",\"text_font_size\":\"1.15em\"},\"id\":\"7986\",\"type\":\"Title\"},{\"attributes\":{\"bottom_units\":\"screen\",\"coordinates\":null,\"fill_alpha\":0.5,\"fill_color\":\"lightgrey\",\"group\":null,\"left_units\":\"screen\",\"level\":\"overlay\",\"line_alpha\":1.0,\"line_color\":\"black\",\"line_dash\":[4,4],\"line_width\":2,\"right_units\":\"screen\",\"syncable\":false,\"top_units\":\"screen\"},\"id\":\"7681\",\"type\":\"BoxAnnotation\"},{\"attributes\":{},\"id\":\"7995\",\"type\":\"Selection\"},{\"attributes\":{},\"id\":\"7659\",\"type\":\"DataRange1d\"},{\"attributes\":{\"coordinates\":null,\"data_source\":{\"id\":\"7689\"},\"glyph\":{\"id\":\"7690\"},\"group\":null,\"hover_glyph\":null,\"muted_glyph\":{\"id\":\"7692\"},\"nonselection_glyph\":{\"id\":\"7691\"},\"view\":{\"id\":\"7694\"}},\"id\":\"7693\",\"type\":\"GlyphRenderer\"},{\"attributes\":{},\"id\":\"7679\",\"type\":\"ResetTool\"},{\"attributes\":{},\"id\":\"7678\",\"type\":\"SaveTool\"},{\"attributes\":{},\"id\":\"7663\",\"type\":\"LinearScale\"},{\"attributes\":{\"data\":{\"x\":[-32,-31,-30,-29,-28,-27,-26,-25,-24,-23,-22,-21,-20,-19,-18,-17,-16,-15,-14,-13,-12,-11,-10,-9,-8,-7,-6,-5,-4,-3,-2,-1,0,1,2,3,4,5,6,7,8,9,10,11,12,13,14,15,16,17,18,19,20,21,22,23,24,25,26,27,28,29,30,31,32],\"y\":[1024,961,900,841,784,729,676,625,576,529,484,441,400,361,324,289,256,225,196,169,144,121,100,81,64,49,36,25,16,9,4,1,0,1,4,9,16,25,36,49,64,81,100,121,144,169,196,225,256,289,324,361,400,441,484,529,576,625,676,729,784,841,900,961,1024]},\"selected\":{\"id\":\"7995\"},\"selection_policy\":{\"id\":\"7994\"}},\"id\":\"7689\",\"type\":\"ColumnDataSource\"},{\"attributes\":{},\"id\":\"7665\",\"type\":\"LinearScale\"},{\"attributes\":{\"axis_label_standoff\":10,\"axis_label_text_color\":\"#E0E0E0\",\"axis_label_text_font\":\"Helvetica\",\"axis_label_text_font_size\":\"1.25em\",\"axis_label_text_font_style\":\"normal\",\"axis_line_alpha\":0,\"axis_line_color\":\"#E0E0E0\",\"coordinates\":null,\"formatter\":{\"id\":\"7989\"},\"group\":null,\"major_label_policy\":{\"id\":\"7990\"},\"major_label_text_color\":\"#E0E0E0\",\"major_label_text_font\":\"Helvetica\",\"major_label_text_font_size\":\"1.025em\",\"major_tick_line_alpha\":0,\"major_tick_line_color\":\"#E0E0E0\",\"minor_tick_line_alpha\":0,\"minor_tick_line_color\":\"#E0E0E0\",\"ticker\":{\"id\":\"7672\"}},\"id\":\"7671\",\"type\":\"LinearAxis\"},{\"attributes\":{\"fill_alpha\":{\"value\":0.2},\"fill_color\":{\"field\":\"y\",\"transform\":{\"id\":\"7657\"}},\"hatch_alpha\":{\"value\":0.2},\"hatch_color\":{\"field\":\"y\",\"transform\":{\"id\":\"7657\"}},\"line_alpha\":{\"value\":0.2},\"line_color\":{\"field\":\"y\",\"transform\":{\"id\":\"7657\"}},\"size\":{\"value\":10},\"x\":{\"field\":\"x\"},\"y\":{\"field\":\"y\"}},\"id\":\"7692\",\"type\":\"Circle\"},{\"attributes\":{},\"id\":\"7680\",\"type\":\"HelpTool\"},{\"attributes\":{},\"id\":\"7992\",\"type\":\"BasicTickFormatter\"},{\"attributes\":{},\"id\":\"7661\",\"type\":\"DataRange1d\"},{\"attributes\":{\"axis\":{\"id\":\"7671\"},\"coordinates\":null,\"dimension\":1,\"grid_line_alpha\":0.25,\"grid_line_color\":\"#E0E0E0\",\"group\":null,\"ticker\":null},\"id\":\"7674\",\"type\":\"Grid\"},{\"attributes\":{\"source\":{\"id\":\"7689\"}},\"id\":\"7694\",\"type\":\"CDSView\"},{\"attributes\":{},\"id\":\"7672\",\"type\":\"BasicTicker\"},{\"attributes\":{\"high\":1024,\"low\":0,\"palette\":[\"#30123b\",\"#311542\",\"#32184a\",\"#341b51\",\"#351e58\",\"#36215f\",\"#372365\",\"#38266c\",\"#392972\",\"#3a2c79\",\"#3b2f7f\",\"#3c3285\",\"#3c358b\",\"#3d3791\",\"#3e3a96\",\"#3f3d9c\",\"#4040a1\",\"#4043a6\",\"#4145ab\",\"#4148b0\",\"#424bb5\",\"#434eba\",\"#4350be\",\"#4353c2\",\"#4456c7\",\"#4458cb\",\"#455bce\",\"#455ed2\",\"#4560d6\",\"#4563d9\",\"#4666dd\",\"#4668e0\",\"#466be3\",\"#466de6\",\"#4670e8\",\"#4673eb\",\"#4675ed\",\"#4678f0\",\"#467af2\",\"#467df4\",\"#467ff6\",\"#4682f8\",\"#4584f9\",\"#4587fb\",\"#4589fc\",\"#448cfd\",\"#438efd\",\"#4291fe\",\"#4193fe\",\"#4096fe\",\"#3f98fe\",\"#3e9bfe\",\"#3c9dfd\",\"#3ba0fc\",\"#39a2fc\",\"#38a5fb\",\"#36a8f9\",\"#34aaf8\",\"#33acf6\",\"#31aff5\",\"#2fb1f3\",\"#2db4f1\",\"#2bb6ef\",\"#2ab9ed\",\"#28bbeb\",\"#26bde9\",\"#25c0e6\",\"#23c2e4\",\"#21c4e1\",\"#20c6df\",\"#1ec9dc\",\"#1dcbda\",\"#1ccdd7\",\"#1bcfd4\",\"#1ad1d2\",\"#19d3cf\",\"#18d5cc\",\"#18d7ca\",\"#17d9c7\",\"#17dac4\",\"#17dcc2\",\"#17debf\",\"#18e0bd\",\"#18e1ba\",\"#19e3b8\",\"#1ae4b6\",\"#1be5b4\",\"#1de7b1\",\"#1ee8af\",\"#20e9ac\",\"#22eba9\",\"#24eca6\",\"#27eda3\",\"#29eea0\",\"#2cef9d\",\"#2ff09a\",\"#32f197\",\"#35f394\",\"#38f491\",\"#3bf48d\",\"#3ff58a\",\"#42f687\",\"#46f783\",\"#4af880\",\"#4df97c\",\"#51f979\",\"#55fa76\",\"#59fb72\",\"#5dfb6f\",\"#61fc6c\",\"#65fc68\",\"#69fd65\",\"#6dfd62\",\"#71fd5f\",\"#74fe5c\",\"#78fe59\",\"#7cfe56\",\"#80fe53\",\"#84fe50\",\"#87fe4d\",\"#8bfe4b\",\"#8efe48\",\"#92fe46\",\"#95fe44\",\"#98fe42\",\"#9bfd40\",\"#9efd3e\",\"#a1fc3d\",\"#a4fc3b\",\"#a6fb3a\",\"#a9fb39\",\"#acfa37\",\"#aef937\",\"#b1f836\",\"#b3f835\",\"#b6f735\",\"#b9f534\",\"#bbf434\",\"#bef334\",\"#c0f233\",\"#c3f133\",\"#c5ef33\",\"#c8ee33\",\"#caed33\",\"#cdeb34\",\"#cfea34\",\"#d1e834\",\"#d4e735\",\"#d6e535\",\"#d8e335\",\"#dae236\",\"#dde036\",\"#dfde36\",\"#e1dc37\",\"#e3da37\",\"#e5d838\",\"#e7d738\",\"#e8d538\",\"#ead339\",\"#ecd139\",\"#edcf39\",\"#efcd39\",\"#f0cb3a\",\"#f2c83a\",\"#f3c63a\",\"#f4c43a\",\"#f6c23a\",\"#f7c039\",\"#f8be39\",\"#f9bc39\",\"#f9ba38\",\"#fab737\",\"#fbb537\",\"#fbb336\",\"#fcb035\",\"#fcae34\",\"#fdab33\",\"#fda932\",\"#fda631\",\"#fda330\",\"#fea12f\",\"#fe9e2e\",\"#fe9b2d\",\"#fe982c\",\"#fd952b\",\"#fd9229\",\"#fd8f28\",\"#fd8c27\",\"#fc8926\",\"#fc8624\",\"#fb8323\",\"#fb8022\",\"#fa7d20\",\"#fa7a1f\",\"#f9771e\",\"#f8741c\",\"#f7711b\",\"#f76e1a\",\"#f66b18\",\"#f56817\",\"#f46516\",\"#f36315\",\"#f26014\",\"#f15d13\",\"#ef5a11\",\"#ee5810\",\"#ed550f\",\"#ec520e\",\"#ea500d\",\"#e94d0d\",\"#e84b0c\",\"#e6490b\",\"#e5460a\",\"#e3440a\",\"#e24209\",\"#e04008\",\"#de3e08\",\"#dd3c07\",\"#db3a07\",\"#d93806\",\"#d73606\",\"#d63405\",\"#d43205\",\"#d23005\",\"#d02f04\",\"#ce2d04\",\"#cb2b03\",\"#c92903\",\"#c72803\",\"#c52602\",\"#c32402\",\"#c02302\",\"#be2102\",\"#bb1f01\",\"#b91e01\",\"#b61c01\",\"#b41b01\",\"#b11901\",\"#ae1801\",\"#ac1601\",\"#a91501\",\"#a61401\",\"#a31201\",\"#a01101\",\"#9d1001\",\"#9a0e01\",\"#970d01\",\"#940c01\",\"#910b01\",\"#8e0a01\",\"#8b0901\",\"#870801\",\"#840701\",\"#810602\",\"#7d0502\",\"#7a0402\"]},\"id\":\"7657\",\"type\":\"LinearColorMapper\"},{\"attributes\":{},\"id\":\"7676\",\"type\":\"WheelZoomTool\"},{\"attributes\":{},\"id\":\"7675\",\"type\":\"PanTool\"},{\"attributes\":{\"overlay\":{\"id\":\"7681\"}},\"id\":\"7677\",\"type\":\"BoxZoomTool\"},{\"attributes\":{},\"id\":\"7990\",\"type\":\"AllLabels\"},{\"attributes\":{\"tools\":[{\"id\":\"7675\"},{\"id\":\"7676\"},{\"id\":\"7677\"},{\"id\":\"7678\"},{\"id\":\"7679\"},{\"id\":\"7680\"}]},\"id\":\"7682\",\"type\":\"Toolbar\"},{\"attributes\":{},\"id\":\"7989\",\"type\":\"BasicTickFormatter\"},{\"attributes\":{},\"id\":\"7668\",\"type\":\"BasicTicker\"},{\"attributes\":{\"axis\":{\"id\":\"7667\"},\"coordinates\":null,\"grid_line_alpha\":0.25,\"grid_line_color\":\"#E0E0E0\",\"group\":null,\"ticker\":null},\"id\":\"7670\",\"type\":\"Grid\"},{\"attributes\":{\"fill_color\":{\"field\":\"y\",\"transform\":{\"id\":\"7657\"}},\"hatch_color\":{\"field\":\"y\",\"transform\":{\"id\":\"7657\"}},\"line_color\":{\"field\":\"y\",\"transform\":{\"id\":\"7657\"}},\"size\":{\"value\":10},\"x\":{\"field\":\"x\"},\"y\":{\"field\":\"y\"}},\"id\":\"7690\",\"type\":\"Circle\"},{\"attributes\":{\"axis_label_standoff\":10,\"axis_label_text_color\":\"#E0E0E0\",\"axis_label_text_font\":\"Helvetica\",\"axis_label_text_font_size\":\"1.25em\",\"axis_label_text_font_style\":\"normal\",\"axis_line_alpha\":0,\"axis_line_color\":\"#E0E0E0\",\"coordinates\":null,\"formatter\":{\"id\":\"7992\"},\"group\":null,\"major_label_policy\":{\"id\":\"7993\"},\"major_label_text_color\":\"#E0E0E0\",\"major_label_text_font\":\"Helvetica\",\"major_label_text_font_size\":\"1.025em\",\"major_tick_line_alpha\":0,\"major_tick_line_color\":\"#E0E0E0\",\"minor_tick_line_alpha\":0,\"minor_tick_line_color\":\"#E0E0E0\",\"ticker\":{\"id\":\"7668\"}},\"id\":\"7667\",\"type\":\"LinearAxis\"},{\"attributes\":{},\"id\":\"7993\",\"type\":\"AllLabels\"},{\"attributes\":{\"fill_alpha\":{\"value\":0.1},\"fill_color\":{\"field\":\"y\",\"transform\":{\"id\":\"7657\"}},\"hatch_alpha\":{\"value\":0.1},\"hatch_color\":{\"field\":\"y\",\"transform\":{\"id\":\"7657\"}},\"line_alpha\":{\"value\":0.1},\"line_color\":{\"field\":\"y\",\"transform\":{\"id\":\"7657\"}},\"size\":{\"value\":10},\"x\":{\"field\":\"x\"},\"y\":{\"field\":\"y\"}},\"id\":\"7691\",\"type\":\"Circle\"}],\"root_ids\":[\"7658\"]},\"title\":\"Bokeh Application\",\"version\":\"2.4.3\"}};\n",
       "  const render_items = [{\"docid\":\"59dcea30-1bde-4754-9d9a-ec8dd19e0d7d\",\"root_ids\":[\"7658\"],\"roots\":{\"7658\":\"0e81b0e6-c9d1-49e7-9e87-fa5dcb52a1d5\"}}];\n",
       "  root.Bokeh.embed.embed_items_notebook(docs_json, render_items);\n",
       "  }\n",
       "  if (root.Bokeh !== undefined) {\n",
       "    embed_document(root);\n",
       "  } else {\n",
       "    let attempts = 0;\n",
       "    const timer = setInterval(function(root) {\n",
       "      if (root.Bokeh !== undefined) {\n",
       "        clearInterval(timer);\n",
       "        embed_document(root);\n",
       "      } else {\n",
       "        attempts++;\n",
       "        if (attempts > 100) {\n",
       "          clearInterval(timer);\n",
       "          console.log(\"Bokeh: ERROR: Unable to run BokehJS code because BokehJS library is missing\");\n",
       "        }\n",
       "      }\n",
       "    }, 10, root)\n",
       "  }\n",
       "})(window);"
      ],
      "application/vnd.bokehjs_exec.v0+json": ""
     },
     "metadata": {
      "application/vnd.bokehjs_exec.v0+json": {
       "id": "7658"
      }
     },
     "output_type": "display_data"
    }
   ],
   "source": [
    "# generate data\n",
    "x = list(range(-32, 33))\n",
    "y = [i**2 for i in x]\n",
    "\n",
    "# create linear color mapper\n",
    "mapper = linear_cmap(field_name=\"y\", palette=Turbo256, low=min(y), high=max(y))\n",
    "\n",
    "# create plot\n",
    "p = figure(width=500, height=250)\n",
    "\n",
    "# create circle renderer with color mapper\n",
    "p.circle(x, y, color=mapper, size=10)\n",
    "\n",
    "show(p)"
   ]
  },
  {
   "cell_type": "markdown",
   "id": "53547e15",
   "metadata": {},
   "source": [
    "# Combining Plots"
   ]
  },
  {
   "cell_type": "code",
   "execution_count": 44,
   "id": "8fe882e3",
   "metadata": {},
   "outputs": [
    {
     "data": {
      "text/html": [
       "\n",
       "  <div class=\"bk-root\" id=\"8119a759-7dac-4b4f-a67f-8169da3ac163\" data-root-id=\"8163\"></div>\n"
      ]
     },
     "metadata": {},
     "output_type": "display_data"
    },
    {
     "data": {
      "application/javascript": [
       "(function(root) {\n",
       "  function embed_document(root) {\n",
       "  const docs_json = {\"4a56921f-3fe3-402b-9172-79f25399e96d\":{\"defs\":[],\"roots\":{\"references\":[{\"attributes\":{\"children\":[{\"id\":\"8052\"},{\"id\":\"8089\"},{\"id\":\"8126\"}]},\"id\":\"8163\",\"type\":\"Row\"},{\"attributes\":{\"tools\":[{\"id\":\"8143\"},{\"id\":\"8144\"},{\"id\":\"8145\"},{\"id\":\"8146\"},{\"id\":\"8147\"},{\"id\":\"8148\"}]},\"id\":\"8150\",\"type\":\"Toolbar\"},{\"attributes\":{\"data\":{\"x\":[0,1,2,3,4,5,6,7,8,9,10],\"y\":[0,1,2,3,4,5,6,7,8,9,10]},\"selected\":{\"id\":\"8491\"},\"selection_policy\":{\"id\":\"8490\"}},\"id\":\"8083\",\"type\":\"ColumnDataSource\"},{\"attributes\":{\"fill_alpha\":{\"value\":0.1},\"fill_color\":{\"value\":\"#2E2D88\"},\"hatch_alpha\":{\"value\":0.1},\"hatch_color\":{\"value\":\"#2E2D88\"},\"line_alpha\":{\"value\":0.1},\"line_color\":{\"value\":\"#2E2D88\"},\"marker\":{\"value\":\"triangle\"},\"size\":{\"value\":12},\"x\":{\"field\":\"x\"},\"y\":{\"field\":\"y\"}},\"id\":\"8122\",\"type\":\"Scatter\"},{\"attributes\":{},\"id\":\"8140\",\"type\":\"BasicTicker\"},{\"attributes\":{\"axis_label_standoff\":10,\"axis_label_text_color\":\"#E0E0E0\",\"axis_label_text_font\":\"Helvetica\",\"axis_label_text_font_size\":\"1.25em\",\"axis_label_text_font_style\":\"normal\",\"axis_line_alpha\":0,\"axis_line_color\":\"#E0E0E0\",\"coordinates\":null,\"formatter\":{\"id\":\"8485\"},\"group\":null,\"major_label_policy\":{\"id\":\"8486\"},\"major_label_text_color\":\"#E0E0E0\",\"major_label_text_font\":\"Helvetica\",\"major_label_text_font_size\":\"1.025em\",\"major_tick_line_alpha\":0,\"major_tick_line_color\":\"#E0E0E0\",\"minor_tick_line_alpha\":0,\"minor_tick_line_color\":\"#E0E0E0\",\"ticker\":{\"id\":\"8140\"}},\"id\":\"8139\",\"type\":\"LinearAxis\"},{\"attributes\":{},\"id\":\"8473\",\"type\":\"BasicTickFormatter\"},{\"attributes\":{\"fill_alpha\":{\"value\":0.2},\"fill_color\":{\"value\":\"#5D3954\"},\"hatch_alpha\":{\"value\":0.2},\"hatch_color\":{\"value\":\"#5D3954\"},\"line_alpha\":{\"value\":0.2},\"line_color\":{\"value\":\"#5D3954\"},\"marker\":{\"value\":\"square\"},\"size\":{\"value\":12},\"x\":{\"field\":\"x\"},\"y\":{\"field\":\"y\"}},\"id\":\"8160\",\"type\":\"Scatter\"},{\"attributes\":{},\"id\":\"8474\",\"type\":\"AllLabels\"},{\"attributes\":{},\"id\":\"8476\",\"type\":\"BasicTickFormatter\"},{\"attributes\":{},\"id\":\"8144\",\"type\":\"WheelZoomTool\"},{\"attributes\":{},\"id\":\"8477\",\"type\":\"AllLabels\"},{\"attributes\":{},\"id\":\"8496\",\"type\":\"UnionRenderers\"},{\"attributes\":{},\"id\":\"8143\",\"type\":\"PanTool\"},{\"attributes\":{\"overlay\":{\"id\":\"8149\"}},\"id\":\"8145\",\"type\":\"BoxZoomTool\"},{\"attributes\":{},\"id\":\"8497\",\"type\":\"Selection\"},{\"attributes\":{},\"id\":\"8146\",\"type\":\"SaveTool\"},{\"attributes\":{\"bottom_units\":\"screen\",\"coordinates\":null,\"fill_alpha\":0.5,\"fill_color\":\"lightgrey\",\"group\":null,\"left_units\":\"screen\",\"level\":\"overlay\",\"line_alpha\":1.0,\"line_color\":\"black\",\"line_dash\":[4,4],\"line_width\":2,\"right_units\":\"screen\",\"syncable\":false,\"top_units\":\"screen\"},\"id\":\"8149\",\"type\":\"BoxAnnotation\"},{\"attributes\":{\"coordinates\":null,\"data_source\":{\"id\":\"8083\"},\"glyph\":{\"id\":\"8084\"},\"group\":null,\"hover_glyph\":null,\"muted_glyph\":{\"id\":\"8086\"},\"nonselection_glyph\":{\"id\":\"8085\"},\"view\":{\"id\":\"8088\"}},\"id\":\"8087\",\"type\":\"GlyphRenderer\"},{\"attributes\":{\"fill_alpha\":{\"value\":0.8},\"fill_color\":{\"value\":\"#5D3954\"},\"hatch_alpha\":{\"value\":0.8},\"hatch_color\":{\"value\":\"#5D3954\"},\"line_alpha\":{\"value\":0.8},\"line_color\":{\"value\":\"#5D3954\"},\"marker\":{\"value\":\"square\"},\"size\":{\"value\":12},\"x\":{\"field\":\"x\"},\"y\":{\"field\":\"y\"}},\"id\":\"8158\",\"type\":\"Scatter\"},{\"attributes\":{},\"id\":\"8147\",\"type\":\"ResetTool\"},{\"attributes\":{\"axis\":{\"id\":\"8139\"},\"coordinates\":null,\"dimension\":1,\"grid_line_alpha\":0.25,\"grid_line_color\":\"#E0E0E0\",\"group\":null,\"ticker\":null},\"id\":\"8142\",\"type\":\"Grid\"},{\"attributes\":{\"fill_alpha\":{\"value\":0.2},\"fill_color\":{\"value\":\"#2E2D88\"},\"hatch_alpha\":{\"value\":0.2},\"hatch_color\":{\"value\":\"#2E2D88\"},\"line_alpha\":{\"value\":0.2},\"line_color\":{\"value\":\"#2E2D88\"},\"marker\":{\"value\":\"triangle\"},\"size\":{\"value\":12},\"x\":{\"field\":\"x\"},\"y\":{\"field\":\"y\"}},\"id\":\"8123\",\"type\":\"Scatter\"},{\"attributes\":{},\"id\":\"8479\",\"type\":\"BasicTickFormatter\"},{\"attributes\":{},\"id\":\"8480\",\"type\":\"AllLabels\"},{\"attributes\":{},\"id\":\"8482\",\"type\":\"BasicTickFormatter\"},{\"attributes\":{\"coordinates\":null,\"data_source\":{\"id\":\"8157\"},\"glyph\":{\"id\":\"8158\"},\"group\":null,\"hover_glyph\":null,\"muted_glyph\":{\"id\":\"8160\"},\"nonselection_glyph\":{\"id\":\"8159\"},\"view\":{\"id\":\"8162\"}},\"id\":\"8161\",\"type\":\"GlyphRenderer\"},{\"attributes\":{},\"id\":\"8483\",\"type\":\"AllLabels\"},{\"attributes\":{},\"id\":\"8059\",\"type\":\"LinearScale\"},{\"attributes\":{\"axis\":{\"id\":\"8135\"},\"coordinates\":null,\"grid_line_alpha\":0.25,\"grid_line_color\":\"#E0E0E0\",\"group\":null,\"ticker\":null},\"id\":\"8138\",\"type\":\"Grid\"},{\"attributes\":{\"coordinates\":null,\"data_source\":{\"id\":\"8120\"},\"glyph\":{\"id\":\"8121\"},\"group\":null,\"hover_glyph\":null,\"muted_glyph\":{\"id\":\"8123\"},\"nonselection_glyph\":{\"id\":\"8122\"},\"view\":{\"id\":\"8125\"}},\"id\":\"8124\",\"type\":\"GlyphRenderer\"},{\"attributes\":{},\"id\":\"8053\",\"type\":\"DataRange1d\"},{\"attributes\":{\"background_fill_color\":\"#fafafa\",\"below\":[{\"id\":\"8061\"}],\"border_fill_color\":\"#15191C\",\"center\":[{\"id\":\"8064\"},{\"id\":\"8068\"}],\"height\":250,\"left\":[{\"id\":\"8065\"}],\"outline_line_alpha\":0.25,\"outline_line_color\":\"#E0E0E0\",\"renderers\":[{\"id\":\"8087\"}],\"title\":{\"id\":\"8466\"},\"toolbar\":{\"id\":\"8076\"},\"width\":250,\"x_range\":{\"id\":\"8053\"},\"x_scale\":{\"id\":\"8057\"},\"y_range\":{\"id\":\"8055\"},\"y_scale\":{\"id\":\"8059\"}},\"id\":\"8052\",\"subtype\":\"Figure\",\"type\":\"Plot\"},{\"attributes\":{\"fill_alpha\":{\"value\":0.8},\"fill_color\":{\"value\":\"#2E2D88\"},\"hatch_alpha\":{\"value\":0.8},\"hatch_color\":{\"value\":\"#2E2D88\"},\"line_alpha\":{\"value\":0.8},\"line_color\":{\"value\":\"#2E2D88\"},\"marker\":{\"value\":\"triangle\"},\"size\":{\"value\":12},\"x\":{\"field\":\"x\"},\"y\":{\"field\":\"y\"}},\"id\":\"8121\",\"type\":\"Scatter\"},{\"attributes\":{\"bottom_units\":\"screen\",\"coordinates\":null,\"fill_alpha\":0.5,\"fill_color\":\"lightgrey\",\"group\":null,\"left_units\":\"screen\",\"level\":\"overlay\",\"line_alpha\":1.0,\"line_color\":\"black\",\"line_dash\":[4,4],\"line_width\":2,\"right_units\":\"screen\",\"syncable\":false,\"top_units\":\"screen\"},\"id\":\"8112\",\"type\":\"BoxAnnotation\"},{\"attributes\":{\"coordinates\":null,\"group\":null,\"text_color\":\"#E0E0E0\",\"text_font\":\"Helvetica\",\"text_font_size\":\"1.15em\"},\"id\":\"8468\",\"type\":\"Title\"},{\"attributes\":{\"tools\":[{\"id\":\"8106\"},{\"id\":\"8107\"},{\"id\":\"8108\"},{\"id\":\"8109\"},{\"id\":\"8110\"},{\"id\":\"8111\"}]},\"id\":\"8113\",\"type\":\"Toolbar\"},{\"attributes\":{\"axis_label_standoff\":10,\"axis_label_text_color\":\"#E0E0E0\",\"axis_label_text_font\":\"Helvetica\",\"axis_label_text_font_size\":\"1.25em\",\"axis_label_text_font_style\":\"normal\",\"axis_line_alpha\":0,\"axis_line_color\":\"#E0E0E0\",\"coordinates\":null,\"formatter\":{\"id\":\"8488\"},\"group\":null,\"major_label_policy\":{\"id\":\"8489\"},\"major_label_text_color\":\"#E0E0E0\",\"major_label_text_font\":\"Helvetica\",\"major_label_text_font_size\":\"1.025em\",\"major_tick_line_alpha\":0,\"major_tick_line_color\":\"#E0E0E0\",\"minor_tick_line_alpha\":0,\"minor_tick_line_color\":\"#E0E0E0\",\"ticker\":{\"id\":\"8136\"}},\"id\":\"8135\",\"type\":\"LinearAxis\"},{\"attributes\":{},\"id\":\"8127\",\"type\":\"DataRange1d\"},{\"attributes\":{},\"id\":\"8485\",\"type\":\"BasicTickFormatter\"},{\"attributes\":{\"source\":{\"id\":\"8157\"}},\"id\":\"8162\",\"type\":\"CDSView\"},{\"attributes\":{},\"id\":\"8486\",\"type\":\"AllLabels\"},{\"attributes\":{},\"id\":\"8129\",\"type\":\"DataRange1d\"},{\"attributes\":{},\"id\":\"8148\",\"type\":\"HelpTool\"},{\"attributes\":{\"background_fill_color\":\"#fafafa\",\"below\":[{\"id\":\"8098\"}],\"border_fill_color\":\"#15191C\",\"center\":[{\"id\":\"8101\"},{\"id\":\"8105\"}],\"height\":250,\"left\":[{\"id\":\"8102\"}],\"outline_line_alpha\":0.25,\"outline_line_color\":\"#E0E0E0\",\"renderers\":[{\"id\":\"8124\"}],\"title\":{\"id\":\"8468\"},\"toolbar\":{\"id\":\"8113\"},\"width\":250,\"x_range\":{\"id\":\"8090\"},\"x_scale\":{\"id\":\"8094\"},\"y_range\":{\"id\":\"8092\"},\"y_scale\":{\"id\":\"8096\"}},\"id\":\"8089\",\"subtype\":\"Figure\",\"type\":\"Plot\"},{\"attributes\":{},\"id\":\"8066\",\"type\":\"BasicTicker\"},{\"attributes\":{},\"id\":\"8488\",\"type\":\"BasicTickFormatter\"},{\"attributes\":{\"axis\":{\"id\":\"8065\"},\"coordinates\":null,\"dimension\":1,\"grid_line_alpha\":0.25,\"grid_line_color\":\"#E0E0E0\",\"group\":null,\"ticker\":null},\"id\":\"8068\",\"type\":\"Grid\"},{\"attributes\":{},\"id\":\"8131\",\"type\":\"LinearScale\"},{\"attributes\":{},\"id\":\"8489\",\"type\":\"AllLabels\"},{\"attributes\":{\"axis\":{\"id\":\"8061\"},\"coordinates\":null,\"grid_line_alpha\":0.25,\"grid_line_color\":\"#E0E0E0\",\"group\":null,\"ticker\":null},\"id\":\"8064\",\"type\":\"Grid\"},{\"attributes\":{},\"id\":\"8074\",\"type\":\"HelpTool\"},{\"attributes\":{},\"id\":\"8096\",\"type\":\"LinearScale\"},{\"attributes\":{},\"id\":\"8062\",\"type\":\"BasicTicker\"},{\"attributes\":{},\"id\":\"8092\",\"type\":\"DataRange1d\"},{\"attributes\":{\"source\":{\"id\":\"8120\"}},\"id\":\"8125\",\"type\":\"CDSView\"},{\"attributes\":{},\"id\":\"8055\",\"type\":\"DataRange1d\"},{\"attributes\":{\"data\":{\"x\":[0,1,2,3,4,5,6,7,8,9,10],\"y\":[5,4,3,2,1,0,1,2,3,4,5]},\"selected\":{\"id\":\"8497\"},\"selection_policy\":{\"id\":\"8496\"}},\"id\":\"8157\",\"type\":\"ColumnDataSource\"},{\"attributes\":{\"source\":{\"id\":\"8083\"}},\"id\":\"8088\",\"type\":\"CDSView\"},{\"attributes\":{},\"id\":\"8070\",\"type\":\"WheelZoomTool\"},{\"attributes\":{},\"id\":\"8069\",\"type\":\"PanTool\"},{\"attributes\":{},\"id\":\"8133\",\"type\":\"LinearScale\"},{\"attributes\":{\"overlay\":{\"id\":\"8075\"}},\"id\":\"8071\",\"type\":\"BoxZoomTool\"},{\"attributes\":{},\"id\":\"8490\",\"type\":\"UnionRenderers\"},{\"attributes\":{},\"id\":\"8072\",\"type\":\"SaveTool\"},{\"attributes\":{},\"id\":\"8073\",\"type\":\"ResetTool\"},{\"attributes\":{},\"id\":\"8491\",\"type\":\"Selection\"},{\"attributes\":{\"bottom_units\":\"screen\",\"coordinates\":null,\"fill_alpha\":0.5,\"fill_color\":\"lightgrey\",\"group\":null,\"left_units\":\"screen\",\"level\":\"overlay\",\"line_alpha\":1.0,\"line_color\":\"black\",\"line_dash\":[4,4],\"line_width\":2,\"right_units\":\"screen\",\"syncable\":false,\"top_units\":\"screen\"},\"id\":\"8075\",\"type\":\"BoxAnnotation\"},{\"attributes\":{},\"id\":\"8090\",\"type\":\"DataRange1d\"},{\"attributes\":{},\"id\":\"8136\",\"type\":\"BasicTicker\"},{\"attributes\":{\"fill_alpha\":{\"value\":0.1},\"fill_color\":{\"value\":\"#5D3954\"},\"hatch_alpha\":{\"value\":0.1},\"hatch_color\":{\"value\":\"#5D3954\"},\"line_alpha\":{\"value\":0.1},\"line_color\":{\"value\":\"#5D3954\"},\"marker\":{\"value\":\"square\"},\"size\":{\"value\":12},\"x\":{\"field\":\"x\"},\"y\":{\"field\":\"y\"}},\"id\":\"8159\",\"type\":\"Scatter\"},{\"attributes\":{\"background_fill_color\":\"#fafafa\",\"below\":[{\"id\":\"8135\"}],\"border_fill_color\":\"#15191C\",\"center\":[{\"id\":\"8138\"},{\"id\":\"8142\"}],\"height\":250,\"left\":[{\"id\":\"8139\"}],\"outline_line_alpha\":0.25,\"outline_line_color\":\"#E0E0E0\",\"renderers\":[{\"id\":\"8161\"}],\"title\":{\"id\":\"8470\"},\"toolbar\":{\"id\":\"8150\"},\"width\":250,\"x_range\":{\"id\":\"8127\"},\"x_scale\":{\"id\":\"8131\"},\"y_range\":{\"id\":\"8129\"},\"y_scale\":{\"id\":\"8133\"}},\"id\":\"8126\",\"subtype\":\"Figure\",\"type\":\"Plot\"},{\"attributes\":{\"axis_label_standoff\":10,\"axis_label_text_color\":\"#E0E0E0\",\"axis_label_text_font\":\"Helvetica\",\"axis_label_text_font_size\":\"1.25em\",\"axis_label_text_font_style\":\"normal\",\"axis_line_alpha\":0,\"axis_line_color\":\"#E0E0E0\",\"coordinates\":null,\"formatter\":{\"id\":\"8482\"},\"group\":null,\"major_label_policy\":{\"id\":\"8483\"},\"major_label_text_color\":\"#E0E0E0\",\"major_label_text_font\":\"Helvetica\",\"major_label_text_font_size\":\"1.025em\",\"major_tick_line_alpha\":0,\"major_tick_line_color\":\"#E0E0E0\",\"minor_tick_line_alpha\":0,\"minor_tick_line_color\":\"#E0E0E0\",\"ticker\":{\"id\":\"8099\"}},\"id\":\"8098\",\"type\":\"LinearAxis\"},{\"attributes\":{},\"id\":\"8099\",\"type\":\"BasicTicker\"},{\"attributes\":{},\"id\":\"8111\",\"type\":\"HelpTool\"},{\"attributes\":{\"axis_label_standoff\":10,\"axis_label_text_color\":\"#E0E0E0\",\"axis_label_text_font\":\"Helvetica\",\"axis_label_text_font_size\":\"1.25em\",\"axis_label_text_font_style\":\"normal\",\"axis_line_alpha\":0,\"axis_line_color\":\"#E0E0E0\",\"coordinates\":null,\"formatter\":{\"id\":\"8479\"},\"group\":null,\"major_label_policy\":{\"id\":\"8480\"},\"major_label_text_color\":\"#E0E0E0\",\"major_label_text_font\":\"Helvetica\",\"major_label_text_font_size\":\"1.025em\",\"major_tick_line_alpha\":0,\"major_tick_line_color\":\"#E0E0E0\",\"minor_tick_line_alpha\":0,\"minor_tick_line_color\":\"#E0E0E0\",\"ticker\":{\"id\":\"8103\"}},\"id\":\"8102\",\"type\":\"LinearAxis\"},{\"attributes\":{\"fill_alpha\":{\"value\":0.1},\"fill_color\":{\"value\":\"#F56FA1\"},\"hatch_alpha\":{\"value\":0.1},\"hatch_color\":{\"value\":\"#F56FA1\"},\"line_alpha\":{\"value\":0.1},\"line_color\":{\"value\":\"#F56FA1\"},\"size\":{\"value\":12},\"x\":{\"field\":\"x\"},\"y\":{\"field\":\"y\"}},\"id\":\"8085\",\"type\":\"Circle\"},{\"attributes\":{},\"id\":\"8094\",\"type\":\"LinearScale\"},{\"attributes\":{\"data\":{\"x\":[0,1,2,3,4,5,6,7,8,9,10],\"y\":[10,9,8,7,6,5,4,3,2,1,0]},\"selected\":{\"id\":\"8494\"},\"selection_policy\":{\"id\":\"8493\"}},\"id\":\"8120\",\"type\":\"ColumnDataSource\"},{\"attributes\":{\"fill_alpha\":{\"value\":0.2},\"fill_color\":{\"value\":\"#F56FA1\"},\"hatch_alpha\":{\"value\":0.2},\"hatch_color\":{\"value\":\"#F56FA1\"},\"line_alpha\":{\"value\":0.2},\"line_color\":{\"value\":\"#F56FA1\"},\"size\":{\"value\":12},\"x\":{\"field\":\"x\"},\"y\":{\"field\":\"y\"}},\"id\":\"8086\",\"type\":\"Circle\"},{\"attributes\":{\"fill_alpha\":{\"value\":0.8},\"fill_color\":{\"value\":\"#F56FA1\"},\"hatch_alpha\":{\"value\":0.8},\"hatch_color\":{\"value\":\"#F56FA1\"},\"line_alpha\":{\"value\":0.8},\"line_color\":{\"value\":\"#F56FA1\"},\"size\":{\"value\":12},\"x\":{\"field\":\"x\"},\"y\":{\"field\":\"y\"}},\"id\":\"8084\",\"type\":\"Circle\"},{\"attributes\":{\"tools\":[{\"id\":\"8069\"},{\"id\":\"8070\"},{\"id\":\"8071\"},{\"id\":\"8072\"},{\"id\":\"8073\"},{\"id\":\"8074\"}]},\"id\":\"8076\",\"type\":\"Toolbar\"},{\"attributes\":{},\"id\":\"8493\",\"type\":\"UnionRenderers\"},{\"attributes\":{\"axis_label_standoff\":10,\"axis_label_text_color\":\"#E0E0E0\",\"axis_label_text_font\":\"Helvetica\",\"axis_label_text_font_size\":\"1.25em\",\"axis_label_text_font_style\":\"normal\",\"axis_line_alpha\":0,\"axis_line_color\":\"#E0E0E0\",\"coordinates\":null,\"formatter\":{\"id\":\"8476\"},\"group\":null,\"major_label_policy\":{\"id\":\"8477\"},\"major_label_text_color\":\"#E0E0E0\",\"major_label_text_font\":\"Helvetica\",\"major_label_text_font_size\":\"1.025em\",\"major_tick_line_alpha\":0,\"major_tick_line_color\":\"#E0E0E0\",\"minor_tick_line_alpha\":0,\"minor_tick_line_color\":\"#E0E0E0\",\"ticker\":{\"id\":\"8062\"}},\"id\":\"8061\",\"type\":\"LinearAxis\"},{\"attributes\":{},\"id\":\"8494\",\"type\":\"Selection\"},{\"attributes\":{\"axis_label_standoff\":10,\"axis_label_text_color\":\"#E0E0E0\",\"axis_label_text_font\":\"Helvetica\",\"axis_label_text_font_size\":\"1.25em\",\"axis_label_text_font_style\":\"normal\",\"axis_line_alpha\":0,\"axis_line_color\":\"#E0E0E0\",\"coordinates\":null,\"formatter\":{\"id\":\"8473\"},\"group\":null,\"major_label_policy\":{\"id\":\"8474\"},\"major_label_text_color\":\"#E0E0E0\",\"major_label_text_font\":\"Helvetica\",\"major_label_text_font_size\":\"1.025em\",\"major_tick_line_alpha\":0,\"major_tick_line_color\":\"#E0E0E0\",\"minor_tick_line_alpha\":0,\"minor_tick_line_color\":\"#E0E0E0\",\"ticker\":{\"id\":\"8066\"}},\"id\":\"8065\",\"type\":\"LinearAxis\"},{\"attributes\":{\"coordinates\":null,\"group\":null,\"text_color\":\"#E0E0E0\",\"text_font\":\"Helvetica\",\"text_font_size\":\"1.15em\"},\"id\":\"8466\",\"type\":\"Title\"},{\"attributes\":{},\"id\":\"8057\",\"type\":\"LinearScale\"},{\"attributes\":{},\"id\":\"8110\",\"type\":\"ResetTool\"},{\"attributes\":{},\"id\":\"8109\",\"type\":\"SaveTool\"},{\"attributes\":{\"overlay\":{\"id\":\"8112\"}},\"id\":\"8108\",\"type\":\"BoxZoomTool\"},{\"attributes\":{},\"id\":\"8106\",\"type\":\"PanTool\"},{\"attributes\":{},\"id\":\"8107\",\"type\":\"WheelZoomTool\"},{\"attributes\":{},\"id\":\"8103\",\"type\":\"BasicTicker\"},{\"attributes\":{\"coordinates\":null,\"group\":null,\"text_color\":\"#E0E0E0\",\"text_font\":\"Helvetica\",\"text_font_size\":\"1.15em\"},\"id\":\"8470\",\"type\":\"Title\"},{\"attributes\":{\"axis\":{\"id\":\"8102\"},\"coordinates\":null,\"dimension\":1,\"grid_line_alpha\":0.25,\"grid_line_color\":\"#E0E0E0\",\"group\":null,\"ticker\":null},\"id\":\"8105\",\"type\":\"Grid\"},{\"attributes\":{\"axis\":{\"id\":\"8098\"},\"coordinates\":null,\"grid_line_alpha\":0.25,\"grid_line_color\":\"#E0E0E0\",\"group\":null,\"ticker\":null},\"id\":\"8101\",\"type\":\"Grid\"}],\"root_ids\":[\"8163\"]},\"title\":\"Bokeh Application\",\"version\":\"2.4.3\"}};\n",
       "  const render_items = [{\"docid\":\"4a56921f-3fe3-402b-9172-79f25399e96d\",\"root_ids\":[\"8163\"],\"roots\":{\"8163\":\"8119a759-7dac-4b4f-a67f-8169da3ac163\"}}];\n",
       "  root.Bokeh.embed.embed_items_notebook(docs_json, render_items);\n",
       "  }\n",
       "  if (root.Bokeh !== undefined) {\n",
       "    embed_document(root);\n",
       "  } else {\n",
       "    let attempts = 0;\n",
       "    const timer = setInterval(function(root) {\n",
       "      if (root.Bokeh !== undefined) {\n",
       "        clearInterval(timer);\n",
       "        embed_document(root);\n",
       "      } else {\n",
       "        attempts++;\n",
       "        if (attempts > 100) {\n",
       "          clearInterval(timer);\n",
       "          console.log(\"Bokeh: ERROR: Unable to run BokehJS code because BokehJS library is missing\");\n",
       "        }\n",
       "      }\n",
       "    }, 10, root)\n",
       "  }\n",
       "})(window);"
      ],
      "application/vnd.bokehjs_exec.v0+json": ""
     },
     "metadata": {
      "application/vnd.bokehjs_exec.v0+json": {
       "id": "8163"
      }
     },
     "output_type": "display_data"
    },
    {
     "data": {
      "text/html": [
       "\n",
       "  <div class=\"bk-root\" id=\"d40fefb4-db3e-41ce-a8c8-f2f51a458fb5\" data-root-id=\"8664\"></div>\n"
      ]
     },
     "metadata": {},
     "output_type": "display_data"
    },
    {
     "data": {
      "application/javascript": [
       "(function(root) {\n",
       "  function embed_document(root) {\n",
       "  const docs_json = {\"2ccdf9cf-582c-45fa-b6bf-8625474eba53\":{\"defs\":[],\"roots\":{\"references\":[{\"attributes\":{\"children\":[{\"id\":\"8052\"},{\"id\":\"8089\"},{\"id\":\"8126\"}]},\"id\":\"8664\",\"type\":\"Column\"},{\"attributes\":{\"tools\":[{\"id\":\"8143\"},{\"id\":\"8144\"},{\"id\":\"8145\"},{\"id\":\"8146\"},{\"id\":\"8147\"},{\"id\":\"8148\"}]},\"id\":\"8150\",\"type\":\"Toolbar\"},{\"attributes\":{\"data\":{\"x\":[0,1,2,3,4,5,6,7,8,9,10],\"y\":[0,1,2,3,4,5,6,7,8,9,10]},\"selected\":{\"id\":\"8491\"},\"selection_policy\":{\"id\":\"8490\"}},\"id\":\"8083\",\"type\":\"ColumnDataSource\"},{\"attributes\":{\"fill_alpha\":{\"value\":0.1},\"fill_color\":{\"value\":\"#2E2D88\"},\"hatch_alpha\":{\"value\":0.1},\"hatch_color\":{\"value\":\"#2E2D88\"},\"line_alpha\":{\"value\":0.1},\"line_color\":{\"value\":\"#2E2D88\"},\"marker\":{\"value\":\"triangle\"},\"size\":{\"value\":12},\"x\":{\"field\":\"x\"},\"y\":{\"field\":\"y\"}},\"id\":\"8122\",\"type\":\"Scatter\"},{\"attributes\":{},\"id\":\"8140\",\"type\":\"BasicTicker\"},{\"attributes\":{\"axis_label_standoff\":10,\"axis_label_text_color\":\"#E0E0E0\",\"axis_label_text_font\":\"Helvetica\",\"axis_label_text_font_size\":\"1.25em\",\"axis_label_text_font_style\":\"normal\",\"axis_line_alpha\":0,\"axis_line_color\":\"#E0E0E0\",\"coordinates\":null,\"formatter\":{\"id\":\"8485\"},\"group\":null,\"major_label_policy\":{\"id\":\"8486\"},\"major_label_text_color\":\"#E0E0E0\",\"major_label_text_font\":\"Helvetica\",\"major_label_text_font_size\":\"1.025em\",\"major_tick_line_alpha\":0,\"major_tick_line_color\":\"#E0E0E0\",\"minor_tick_line_alpha\":0,\"minor_tick_line_color\":\"#E0E0E0\",\"ticker\":{\"id\":\"8140\"}},\"id\":\"8139\",\"type\":\"LinearAxis\"},{\"attributes\":{},\"id\":\"8473\",\"type\":\"BasicTickFormatter\"},{\"attributes\":{\"fill_alpha\":{\"value\":0.2},\"fill_color\":{\"value\":\"#5D3954\"},\"hatch_alpha\":{\"value\":0.2},\"hatch_color\":{\"value\":\"#5D3954\"},\"line_alpha\":{\"value\":0.2},\"line_color\":{\"value\":\"#5D3954\"},\"marker\":{\"value\":\"square\"},\"size\":{\"value\":12},\"x\":{\"field\":\"x\"},\"y\":{\"field\":\"y\"}},\"id\":\"8160\",\"type\":\"Scatter\"},{\"attributes\":{},\"id\":\"8474\",\"type\":\"AllLabels\"},{\"attributes\":{},\"id\":\"8476\",\"type\":\"BasicTickFormatter\"},{\"attributes\":{},\"id\":\"8144\",\"type\":\"WheelZoomTool\"},{\"attributes\":{},\"id\":\"8477\",\"type\":\"AllLabels\"},{\"attributes\":{},\"id\":\"8496\",\"type\":\"UnionRenderers\"},{\"attributes\":{},\"id\":\"8143\",\"type\":\"PanTool\"},{\"attributes\":{\"overlay\":{\"id\":\"8149\"}},\"id\":\"8145\",\"type\":\"BoxZoomTool\"},{\"attributes\":{},\"id\":\"8497\",\"type\":\"Selection\"},{\"attributes\":{},\"id\":\"8146\",\"type\":\"SaveTool\"},{\"attributes\":{\"bottom_units\":\"screen\",\"coordinates\":null,\"fill_alpha\":0.5,\"fill_color\":\"lightgrey\",\"group\":null,\"left_units\":\"screen\",\"level\":\"overlay\",\"line_alpha\":1.0,\"line_color\":\"black\",\"line_dash\":[4,4],\"line_width\":2,\"right_units\":\"screen\",\"syncable\":false,\"top_units\":\"screen\"},\"id\":\"8149\",\"type\":\"BoxAnnotation\"},{\"attributes\":{\"coordinates\":null,\"data_source\":{\"id\":\"8083\"},\"glyph\":{\"id\":\"8084\"},\"group\":null,\"hover_glyph\":null,\"muted_glyph\":{\"id\":\"8086\"},\"nonselection_glyph\":{\"id\":\"8085\"},\"view\":{\"id\":\"8088\"}},\"id\":\"8087\",\"type\":\"GlyphRenderer\"},{\"attributes\":{\"fill_alpha\":{\"value\":0.8},\"fill_color\":{\"value\":\"#5D3954\"},\"hatch_alpha\":{\"value\":0.8},\"hatch_color\":{\"value\":\"#5D3954\"},\"line_alpha\":{\"value\":0.8},\"line_color\":{\"value\":\"#5D3954\"},\"marker\":{\"value\":\"square\"},\"size\":{\"value\":12},\"x\":{\"field\":\"x\"},\"y\":{\"field\":\"y\"}},\"id\":\"8158\",\"type\":\"Scatter\"},{\"attributes\":{},\"id\":\"8147\",\"type\":\"ResetTool\"},{\"attributes\":{\"axis\":{\"id\":\"8139\"},\"coordinates\":null,\"dimension\":1,\"grid_line_alpha\":0.25,\"grid_line_color\":\"#E0E0E0\",\"group\":null,\"ticker\":null},\"id\":\"8142\",\"type\":\"Grid\"},{\"attributes\":{\"fill_alpha\":{\"value\":0.2},\"fill_color\":{\"value\":\"#2E2D88\"},\"hatch_alpha\":{\"value\":0.2},\"hatch_color\":{\"value\":\"#2E2D88\"},\"line_alpha\":{\"value\":0.2},\"line_color\":{\"value\":\"#2E2D88\"},\"marker\":{\"value\":\"triangle\"},\"size\":{\"value\":12},\"x\":{\"field\":\"x\"},\"y\":{\"field\":\"y\"}},\"id\":\"8123\",\"type\":\"Scatter\"},{\"attributes\":{},\"id\":\"8479\",\"type\":\"BasicTickFormatter\"},{\"attributes\":{},\"id\":\"8480\",\"type\":\"AllLabels\"},{\"attributes\":{},\"id\":\"8482\",\"type\":\"BasicTickFormatter\"},{\"attributes\":{\"coordinates\":null,\"data_source\":{\"id\":\"8157\"},\"glyph\":{\"id\":\"8158\"},\"group\":null,\"hover_glyph\":null,\"muted_glyph\":{\"id\":\"8160\"},\"nonselection_glyph\":{\"id\":\"8159\"},\"view\":{\"id\":\"8162\"}},\"id\":\"8161\",\"type\":\"GlyphRenderer\"},{\"attributes\":{},\"id\":\"8483\",\"type\":\"AllLabels\"},{\"attributes\":{},\"id\":\"8059\",\"type\":\"LinearScale\"},{\"attributes\":{\"axis\":{\"id\":\"8135\"},\"coordinates\":null,\"grid_line_alpha\":0.25,\"grid_line_color\":\"#E0E0E0\",\"group\":null,\"ticker\":null},\"id\":\"8138\",\"type\":\"Grid\"},{\"attributes\":{\"coordinates\":null,\"data_source\":{\"id\":\"8120\"},\"glyph\":{\"id\":\"8121\"},\"group\":null,\"hover_glyph\":null,\"muted_glyph\":{\"id\":\"8123\"},\"nonselection_glyph\":{\"id\":\"8122\"},\"view\":{\"id\":\"8125\"}},\"id\":\"8124\",\"type\":\"GlyphRenderer\"},{\"attributes\":{},\"id\":\"8053\",\"type\":\"DataRange1d\"},{\"attributes\":{\"background_fill_color\":\"#fafafa\",\"below\":[{\"id\":\"8061\"}],\"border_fill_color\":\"#15191C\",\"center\":[{\"id\":\"8064\"},{\"id\":\"8068\"}],\"height\":250,\"left\":[{\"id\":\"8065\"}],\"outline_line_alpha\":0.25,\"outline_line_color\":\"#E0E0E0\",\"renderers\":[{\"id\":\"8087\"}],\"title\":{\"id\":\"8466\"},\"toolbar\":{\"id\":\"8076\"},\"width\":250,\"x_range\":{\"id\":\"8053\"},\"x_scale\":{\"id\":\"8057\"},\"y_range\":{\"id\":\"8055\"},\"y_scale\":{\"id\":\"8059\"}},\"id\":\"8052\",\"subtype\":\"Figure\",\"type\":\"Plot\"},{\"attributes\":{\"fill_alpha\":{\"value\":0.8},\"fill_color\":{\"value\":\"#2E2D88\"},\"hatch_alpha\":{\"value\":0.8},\"hatch_color\":{\"value\":\"#2E2D88\"},\"line_alpha\":{\"value\":0.8},\"line_color\":{\"value\":\"#2E2D88\"},\"marker\":{\"value\":\"triangle\"},\"size\":{\"value\":12},\"x\":{\"field\":\"x\"},\"y\":{\"field\":\"y\"}},\"id\":\"8121\",\"type\":\"Scatter\"},{\"attributes\":{\"bottom_units\":\"screen\",\"coordinates\":null,\"fill_alpha\":0.5,\"fill_color\":\"lightgrey\",\"group\":null,\"left_units\":\"screen\",\"level\":\"overlay\",\"line_alpha\":1.0,\"line_color\":\"black\",\"line_dash\":[4,4],\"line_width\":2,\"right_units\":\"screen\",\"syncable\":false,\"top_units\":\"screen\"},\"id\":\"8112\",\"type\":\"BoxAnnotation\"},{\"attributes\":{\"coordinates\":null,\"group\":null,\"text_color\":\"#E0E0E0\",\"text_font\":\"Helvetica\",\"text_font_size\":\"1.15em\"},\"id\":\"8468\",\"type\":\"Title\"},{\"attributes\":{\"tools\":[{\"id\":\"8106\"},{\"id\":\"8107\"},{\"id\":\"8108\"},{\"id\":\"8109\"},{\"id\":\"8110\"},{\"id\":\"8111\"}]},\"id\":\"8113\",\"type\":\"Toolbar\"},{\"attributes\":{\"axis_label_standoff\":10,\"axis_label_text_color\":\"#E0E0E0\",\"axis_label_text_font\":\"Helvetica\",\"axis_label_text_font_size\":\"1.25em\",\"axis_label_text_font_style\":\"normal\",\"axis_line_alpha\":0,\"axis_line_color\":\"#E0E0E0\",\"coordinates\":null,\"formatter\":{\"id\":\"8488\"},\"group\":null,\"major_label_policy\":{\"id\":\"8489\"},\"major_label_text_color\":\"#E0E0E0\",\"major_label_text_font\":\"Helvetica\",\"major_label_text_font_size\":\"1.025em\",\"major_tick_line_alpha\":0,\"major_tick_line_color\":\"#E0E0E0\",\"minor_tick_line_alpha\":0,\"minor_tick_line_color\":\"#E0E0E0\",\"ticker\":{\"id\":\"8136\"}},\"id\":\"8135\",\"type\":\"LinearAxis\"},{\"attributes\":{},\"id\":\"8127\",\"type\":\"DataRange1d\"},{\"attributes\":{},\"id\":\"8485\",\"type\":\"BasicTickFormatter\"},{\"attributes\":{\"source\":{\"id\":\"8157\"}},\"id\":\"8162\",\"type\":\"CDSView\"},{\"attributes\":{},\"id\":\"8486\",\"type\":\"AllLabels\"},{\"attributes\":{},\"id\":\"8129\",\"type\":\"DataRange1d\"},{\"attributes\":{},\"id\":\"8148\",\"type\":\"HelpTool\"},{\"attributes\":{\"background_fill_color\":\"#fafafa\",\"below\":[{\"id\":\"8098\"}],\"border_fill_color\":\"#15191C\",\"center\":[{\"id\":\"8101\"},{\"id\":\"8105\"}],\"height\":250,\"left\":[{\"id\":\"8102\"}],\"outline_line_alpha\":0.25,\"outline_line_color\":\"#E0E0E0\",\"renderers\":[{\"id\":\"8124\"}],\"title\":{\"id\":\"8468\"},\"toolbar\":{\"id\":\"8113\"},\"width\":250,\"x_range\":{\"id\":\"8090\"},\"x_scale\":{\"id\":\"8094\"},\"y_range\":{\"id\":\"8092\"},\"y_scale\":{\"id\":\"8096\"}},\"id\":\"8089\",\"subtype\":\"Figure\",\"type\":\"Plot\"},{\"attributes\":{},\"id\":\"8066\",\"type\":\"BasicTicker\"},{\"attributes\":{},\"id\":\"8488\",\"type\":\"BasicTickFormatter\"},{\"attributes\":{\"axis\":{\"id\":\"8065\"},\"coordinates\":null,\"dimension\":1,\"grid_line_alpha\":0.25,\"grid_line_color\":\"#E0E0E0\",\"group\":null,\"ticker\":null},\"id\":\"8068\",\"type\":\"Grid\"},{\"attributes\":{},\"id\":\"8131\",\"type\":\"LinearScale\"},{\"attributes\":{},\"id\":\"8489\",\"type\":\"AllLabels\"},{\"attributes\":{\"axis\":{\"id\":\"8061\"},\"coordinates\":null,\"grid_line_alpha\":0.25,\"grid_line_color\":\"#E0E0E0\",\"group\":null,\"ticker\":null},\"id\":\"8064\",\"type\":\"Grid\"},{\"attributes\":{},\"id\":\"8074\",\"type\":\"HelpTool\"},{\"attributes\":{},\"id\":\"8096\",\"type\":\"LinearScale\"},{\"attributes\":{},\"id\":\"8062\",\"type\":\"BasicTicker\"},{\"attributes\":{},\"id\":\"8092\",\"type\":\"DataRange1d\"},{\"attributes\":{\"source\":{\"id\":\"8120\"}},\"id\":\"8125\",\"type\":\"CDSView\"},{\"attributes\":{},\"id\":\"8055\",\"type\":\"DataRange1d\"},{\"attributes\":{\"data\":{\"x\":[0,1,2,3,4,5,6,7,8,9,10],\"y\":[5,4,3,2,1,0,1,2,3,4,5]},\"selected\":{\"id\":\"8497\"},\"selection_policy\":{\"id\":\"8496\"}},\"id\":\"8157\",\"type\":\"ColumnDataSource\"},{\"attributes\":{\"source\":{\"id\":\"8083\"}},\"id\":\"8088\",\"type\":\"CDSView\"},{\"attributes\":{},\"id\":\"8070\",\"type\":\"WheelZoomTool\"},{\"attributes\":{},\"id\":\"8069\",\"type\":\"PanTool\"},{\"attributes\":{},\"id\":\"8133\",\"type\":\"LinearScale\"},{\"attributes\":{\"overlay\":{\"id\":\"8075\"}},\"id\":\"8071\",\"type\":\"BoxZoomTool\"},{\"attributes\":{},\"id\":\"8490\",\"type\":\"UnionRenderers\"},{\"attributes\":{},\"id\":\"8072\",\"type\":\"SaveTool\"},{\"attributes\":{},\"id\":\"8073\",\"type\":\"ResetTool\"},{\"attributes\":{},\"id\":\"8491\",\"type\":\"Selection\"},{\"attributes\":{\"bottom_units\":\"screen\",\"coordinates\":null,\"fill_alpha\":0.5,\"fill_color\":\"lightgrey\",\"group\":null,\"left_units\":\"screen\",\"level\":\"overlay\",\"line_alpha\":1.0,\"line_color\":\"black\",\"line_dash\":[4,4],\"line_width\":2,\"right_units\":\"screen\",\"syncable\":false,\"top_units\":\"screen\"},\"id\":\"8075\",\"type\":\"BoxAnnotation\"},{\"attributes\":{},\"id\":\"8090\",\"type\":\"DataRange1d\"},{\"attributes\":{},\"id\":\"8136\",\"type\":\"BasicTicker\"},{\"attributes\":{\"fill_alpha\":{\"value\":0.1},\"fill_color\":{\"value\":\"#5D3954\"},\"hatch_alpha\":{\"value\":0.1},\"hatch_color\":{\"value\":\"#5D3954\"},\"line_alpha\":{\"value\":0.1},\"line_color\":{\"value\":\"#5D3954\"},\"marker\":{\"value\":\"square\"},\"size\":{\"value\":12},\"x\":{\"field\":\"x\"},\"y\":{\"field\":\"y\"}},\"id\":\"8159\",\"type\":\"Scatter\"},{\"attributes\":{\"background_fill_color\":\"#fafafa\",\"below\":[{\"id\":\"8135\"}],\"border_fill_color\":\"#15191C\",\"center\":[{\"id\":\"8138\"},{\"id\":\"8142\"}],\"height\":250,\"left\":[{\"id\":\"8139\"}],\"outline_line_alpha\":0.25,\"outline_line_color\":\"#E0E0E0\",\"renderers\":[{\"id\":\"8161\"}],\"title\":{\"id\":\"8470\"},\"toolbar\":{\"id\":\"8150\"},\"width\":250,\"x_range\":{\"id\":\"8127\"},\"x_scale\":{\"id\":\"8131\"},\"y_range\":{\"id\":\"8129\"},\"y_scale\":{\"id\":\"8133\"}},\"id\":\"8126\",\"subtype\":\"Figure\",\"type\":\"Plot\"},{\"attributes\":{\"axis_label_standoff\":10,\"axis_label_text_color\":\"#E0E0E0\",\"axis_label_text_font\":\"Helvetica\",\"axis_label_text_font_size\":\"1.25em\",\"axis_label_text_font_style\":\"normal\",\"axis_line_alpha\":0,\"axis_line_color\":\"#E0E0E0\",\"coordinates\":null,\"formatter\":{\"id\":\"8482\"},\"group\":null,\"major_label_policy\":{\"id\":\"8483\"},\"major_label_text_color\":\"#E0E0E0\",\"major_label_text_font\":\"Helvetica\",\"major_label_text_font_size\":\"1.025em\",\"major_tick_line_alpha\":0,\"major_tick_line_color\":\"#E0E0E0\",\"minor_tick_line_alpha\":0,\"minor_tick_line_color\":\"#E0E0E0\",\"ticker\":{\"id\":\"8099\"}},\"id\":\"8098\",\"type\":\"LinearAxis\"},{\"attributes\":{},\"id\":\"8099\",\"type\":\"BasicTicker\"},{\"attributes\":{},\"id\":\"8111\",\"type\":\"HelpTool\"},{\"attributes\":{\"axis_label_standoff\":10,\"axis_label_text_color\":\"#E0E0E0\",\"axis_label_text_font\":\"Helvetica\",\"axis_label_text_font_size\":\"1.25em\",\"axis_label_text_font_style\":\"normal\",\"axis_line_alpha\":0,\"axis_line_color\":\"#E0E0E0\",\"coordinates\":null,\"formatter\":{\"id\":\"8479\"},\"group\":null,\"major_label_policy\":{\"id\":\"8480\"},\"major_label_text_color\":\"#E0E0E0\",\"major_label_text_font\":\"Helvetica\",\"major_label_text_font_size\":\"1.025em\",\"major_tick_line_alpha\":0,\"major_tick_line_color\":\"#E0E0E0\",\"minor_tick_line_alpha\":0,\"minor_tick_line_color\":\"#E0E0E0\",\"ticker\":{\"id\":\"8103\"}},\"id\":\"8102\",\"type\":\"LinearAxis\"},{\"attributes\":{\"fill_alpha\":{\"value\":0.1},\"fill_color\":{\"value\":\"#F56FA1\"},\"hatch_alpha\":{\"value\":0.1},\"hatch_color\":{\"value\":\"#F56FA1\"},\"line_alpha\":{\"value\":0.1},\"line_color\":{\"value\":\"#F56FA1\"},\"size\":{\"value\":12},\"x\":{\"field\":\"x\"},\"y\":{\"field\":\"y\"}},\"id\":\"8085\",\"type\":\"Circle\"},{\"attributes\":{},\"id\":\"8094\",\"type\":\"LinearScale\"},{\"attributes\":{\"data\":{\"x\":[0,1,2,3,4,5,6,7,8,9,10],\"y\":[10,9,8,7,6,5,4,3,2,1,0]},\"selected\":{\"id\":\"8494\"},\"selection_policy\":{\"id\":\"8493\"}},\"id\":\"8120\",\"type\":\"ColumnDataSource\"},{\"attributes\":{\"fill_alpha\":{\"value\":0.2},\"fill_color\":{\"value\":\"#F56FA1\"},\"hatch_alpha\":{\"value\":0.2},\"hatch_color\":{\"value\":\"#F56FA1\"},\"line_alpha\":{\"value\":0.2},\"line_color\":{\"value\":\"#F56FA1\"},\"size\":{\"value\":12},\"x\":{\"field\":\"x\"},\"y\":{\"field\":\"y\"}},\"id\":\"8086\",\"type\":\"Circle\"},{\"attributes\":{\"fill_alpha\":{\"value\":0.8},\"fill_color\":{\"value\":\"#F56FA1\"},\"hatch_alpha\":{\"value\":0.8},\"hatch_color\":{\"value\":\"#F56FA1\"},\"line_alpha\":{\"value\":0.8},\"line_color\":{\"value\":\"#F56FA1\"},\"size\":{\"value\":12},\"x\":{\"field\":\"x\"},\"y\":{\"field\":\"y\"}},\"id\":\"8084\",\"type\":\"Circle\"},{\"attributes\":{\"tools\":[{\"id\":\"8069\"},{\"id\":\"8070\"},{\"id\":\"8071\"},{\"id\":\"8072\"},{\"id\":\"8073\"},{\"id\":\"8074\"}]},\"id\":\"8076\",\"type\":\"Toolbar\"},{\"attributes\":{},\"id\":\"8493\",\"type\":\"UnionRenderers\"},{\"attributes\":{\"axis_label_standoff\":10,\"axis_label_text_color\":\"#E0E0E0\",\"axis_label_text_font\":\"Helvetica\",\"axis_label_text_font_size\":\"1.25em\",\"axis_label_text_font_style\":\"normal\",\"axis_line_alpha\":0,\"axis_line_color\":\"#E0E0E0\",\"coordinates\":null,\"formatter\":{\"id\":\"8476\"},\"group\":null,\"major_label_policy\":{\"id\":\"8477\"},\"major_label_text_color\":\"#E0E0E0\",\"major_label_text_font\":\"Helvetica\",\"major_label_text_font_size\":\"1.025em\",\"major_tick_line_alpha\":0,\"major_tick_line_color\":\"#E0E0E0\",\"minor_tick_line_alpha\":0,\"minor_tick_line_color\":\"#E0E0E0\",\"ticker\":{\"id\":\"8062\"}},\"id\":\"8061\",\"type\":\"LinearAxis\"},{\"attributes\":{},\"id\":\"8494\",\"type\":\"Selection\"},{\"attributes\":{\"axis_label_standoff\":10,\"axis_label_text_color\":\"#E0E0E0\",\"axis_label_text_font\":\"Helvetica\",\"axis_label_text_font_size\":\"1.25em\",\"axis_label_text_font_style\":\"normal\",\"axis_line_alpha\":0,\"axis_line_color\":\"#E0E0E0\",\"coordinates\":null,\"formatter\":{\"id\":\"8473\"},\"group\":null,\"major_label_policy\":{\"id\":\"8474\"},\"major_label_text_color\":\"#E0E0E0\",\"major_label_text_font\":\"Helvetica\",\"major_label_text_font_size\":\"1.025em\",\"major_tick_line_alpha\":0,\"major_tick_line_color\":\"#E0E0E0\",\"minor_tick_line_alpha\":0,\"minor_tick_line_color\":\"#E0E0E0\",\"ticker\":{\"id\":\"8066\"}},\"id\":\"8065\",\"type\":\"LinearAxis\"},{\"attributes\":{\"coordinates\":null,\"group\":null,\"text_color\":\"#E0E0E0\",\"text_font\":\"Helvetica\",\"text_font_size\":\"1.15em\"},\"id\":\"8466\",\"type\":\"Title\"},{\"attributes\":{},\"id\":\"8057\",\"type\":\"LinearScale\"},{\"attributes\":{},\"id\":\"8110\",\"type\":\"ResetTool\"},{\"attributes\":{},\"id\":\"8109\",\"type\":\"SaveTool\"},{\"attributes\":{\"overlay\":{\"id\":\"8112\"}},\"id\":\"8108\",\"type\":\"BoxZoomTool\"},{\"attributes\":{},\"id\":\"8106\",\"type\":\"PanTool\"},{\"attributes\":{},\"id\":\"8107\",\"type\":\"WheelZoomTool\"},{\"attributes\":{},\"id\":\"8103\",\"type\":\"BasicTicker\"},{\"attributes\":{\"coordinates\":null,\"group\":null,\"text_color\":\"#E0E0E0\",\"text_font\":\"Helvetica\",\"text_font_size\":\"1.15em\"},\"id\":\"8470\",\"type\":\"Title\"},{\"attributes\":{\"axis\":{\"id\":\"8102\"},\"coordinates\":null,\"dimension\":1,\"grid_line_alpha\":0.25,\"grid_line_color\":\"#E0E0E0\",\"group\":null,\"ticker\":null},\"id\":\"8105\",\"type\":\"Grid\"},{\"attributes\":{\"axis\":{\"id\":\"8098\"},\"coordinates\":null,\"grid_line_alpha\":0.25,\"grid_line_color\":\"#E0E0E0\",\"group\":null,\"ticker\":null},\"id\":\"8101\",\"type\":\"Grid\"}],\"root_ids\":[\"8664\"]},\"title\":\"Bokeh Application\",\"version\":\"2.4.3\"}};\n",
       "  const render_items = [{\"docid\":\"2ccdf9cf-582c-45fa-b6bf-8625474eba53\",\"root_ids\":[\"8664\"],\"roots\":{\"8664\":\"d40fefb4-db3e-41ce-a8c8-f2f51a458fb5\"}}];\n",
       "  root.Bokeh.embed.embed_items_notebook(docs_json, render_items);\n",
       "  }\n",
       "  if (root.Bokeh !== undefined) {\n",
       "    embed_document(root);\n",
       "  } else {\n",
       "    let attempts = 0;\n",
       "    const timer = setInterval(function(root) {\n",
       "      if (root.Bokeh !== undefined) {\n",
       "        clearInterval(timer);\n",
       "        embed_document(root);\n",
       "      } else {\n",
       "        attempts++;\n",
       "        if (attempts > 100) {\n",
       "          clearInterval(timer);\n",
       "          console.log(\"Bokeh: ERROR: Unable to run BokehJS code because BokehJS library is missing\");\n",
       "        }\n",
       "      }\n",
       "    }, 10, root)\n",
       "  }\n",
       "})(window);"
      ],
      "application/vnd.bokehjs_exec.v0+json": ""
     },
     "metadata": {
      "application/vnd.bokehjs_exec.v0+json": {
       "id": "8664"
      }
     },
     "output_type": "display_data"
    },
    {
     "data": {
      "text/html": [
       "\n",
       "  <div class=\"bk-root\" id=\"480df658-839a-400a-82a4-f62d44383b62\" data-root-id=\"9237\"></div>\n"
      ]
     },
     "metadata": {},
     "output_type": "display_data"
    },
    {
     "data": {
      "application/javascript": [
       "(function(root) {\n",
       "  function embed_document(root) {\n",
       "  const docs_json = {\"7ff8e8c4-0610-4c3b-b818-afabcd042f50\":{\"defs\":[],\"roots\":{\"references\":[{\"attributes\":{\"children\":[{\"id\":\"9236\"},{\"id\":\"9234\"}]},\"id\":\"9237\",\"type\":\"Column\"},{\"attributes\":{\"tools\":[{\"id\":\"8143\"},{\"id\":\"8144\"},{\"id\":\"8145\"},{\"id\":\"8146\"},{\"id\":\"8147\"},{\"id\":\"8148\"}]},\"id\":\"8150\",\"type\":\"Toolbar\"},{\"attributes\":{\"data\":{\"x\":[0,1,2,3,4,5,6,7,8,9,10],\"y\":[0,1,2,3,4,5,6,7,8,9,10]},\"selected\":{\"id\":\"8491\"},\"selection_policy\":{\"id\":\"8490\"}},\"id\":\"8083\",\"type\":\"ColumnDataSource\"},{\"attributes\":{\"fill_alpha\":{\"value\":0.1},\"fill_color\":{\"value\":\"#2E2D88\"},\"hatch_alpha\":{\"value\":0.1},\"hatch_color\":{\"value\":\"#2E2D88\"},\"line_alpha\":{\"value\":0.1},\"line_color\":{\"value\":\"#2E2D88\"},\"marker\":{\"value\":\"triangle\"},\"size\":{\"value\":12},\"x\":{\"field\":\"x\"},\"y\":{\"field\":\"y\"}},\"id\":\"8122\",\"type\":\"Scatter\"},{\"attributes\":{},\"id\":\"8140\",\"type\":\"BasicTicker\"},{\"attributes\":{\"axis_label_standoff\":10,\"axis_label_text_color\":\"#E0E0E0\",\"axis_label_text_font\":\"Helvetica\",\"axis_label_text_font_size\":\"1.25em\",\"axis_label_text_font_style\":\"normal\",\"axis_line_alpha\":0,\"axis_line_color\":\"#E0E0E0\",\"coordinates\":null,\"formatter\":{\"id\":\"8485\"},\"group\":null,\"major_label_policy\":{\"id\":\"8486\"},\"major_label_text_color\":\"#E0E0E0\",\"major_label_text_font\":\"Helvetica\",\"major_label_text_font_size\":\"1.025em\",\"major_tick_line_alpha\":0,\"major_tick_line_color\":\"#E0E0E0\",\"minor_tick_line_alpha\":0,\"minor_tick_line_color\":\"#E0E0E0\",\"ticker\":{\"id\":\"8140\"}},\"id\":\"8139\",\"type\":\"LinearAxis\"},{\"attributes\":{},\"id\":\"8473\",\"type\":\"BasicTickFormatter\"},{\"attributes\":{\"fill_alpha\":{\"value\":0.2},\"fill_color\":{\"value\":\"#5D3954\"},\"hatch_alpha\":{\"value\":0.2},\"hatch_color\":{\"value\":\"#5D3954\"},\"line_alpha\":{\"value\":0.2},\"line_color\":{\"value\":\"#5D3954\"},\"marker\":{\"value\":\"square\"},\"size\":{\"value\":12},\"x\":{\"field\":\"x\"},\"y\":{\"field\":\"y\"}},\"id\":\"8160\",\"type\":\"Scatter\"},{\"attributes\":{},\"id\":\"8474\",\"type\":\"AllLabels\"},{\"attributes\":{},\"id\":\"8476\",\"type\":\"BasicTickFormatter\"},{\"attributes\":{},\"id\":\"8144\",\"type\":\"WheelZoomTool\"},{\"attributes\":{},\"id\":\"8477\",\"type\":\"AllLabels\"},{\"attributes\":{},\"id\":\"8496\",\"type\":\"UnionRenderers\"},{\"attributes\":{},\"id\":\"8143\",\"type\":\"PanTool\"},{\"attributes\":{\"overlay\":{\"id\":\"8149\"}},\"id\":\"8145\",\"type\":\"BoxZoomTool\"},{\"attributes\":{},\"id\":\"8497\",\"type\":\"Selection\"},{\"attributes\":{},\"id\":\"8146\",\"type\":\"SaveTool\"},{\"attributes\":{\"bottom_units\":\"screen\",\"coordinates\":null,\"fill_alpha\":0.5,\"fill_color\":\"lightgrey\",\"group\":null,\"left_units\":\"screen\",\"level\":\"overlay\",\"line_alpha\":1.0,\"line_color\":\"black\",\"line_dash\":[4,4],\"line_width\":2,\"right_units\":\"screen\",\"syncable\":false,\"top_units\":\"screen\"},\"id\":\"8149\",\"type\":\"BoxAnnotation\"},{\"attributes\":{\"coordinates\":null,\"data_source\":{\"id\":\"8083\"},\"glyph\":{\"id\":\"8084\"},\"group\":null,\"hover_glyph\":null,\"muted_glyph\":{\"id\":\"8086\"},\"nonselection_glyph\":{\"id\":\"8085\"},\"view\":{\"id\":\"8088\"}},\"id\":\"8087\",\"type\":\"GlyphRenderer\"},{\"attributes\":{\"fill_alpha\":{\"value\":0.8},\"fill_color\":{\"value\":\"#5D3954\"},\"hatch_alpha\":{\"value\":0.8},\"hatch_color\":{\"value\":\"#5D3954\"},\"line_alpha\":{\"value\":0.8},\"line_color\":{\"value\":\"#5D3954\"},\"marker\":{\"value\":\"square\"},\"size\":{\"value\":12},\"x\":{\"field\":\"x\"},\"y\":{\"field\":\"y\"}},\"id\":\"8158\",\"type\":\"Scatter\"},{\"attributes\":{},\"id\":\"8147\",\"type\":\"ResetTool\"},{\"attributes\":{\"axis\":{\"id\":\"8139\"},\"coordinates\":null,\"dimension\":1,\"grid_line_alpha\":0.25,\"grid_line_color\":\"#E0E0E0\",\"group\":null,\"ticker\":null},\"id\":\"8142\",\"type\":\"Grid\"},{\"attributes\":{\"fill_alpha\":{\"value\":0.2},\"fill_color\":{\"value\":\"#2E2D88\"},\"hatch_alpha\":{\"value\":0.2},\"hatch_color\":{\"value\":\"#2E2D88\"},\"line_alpha\":{\"value\":0.2},\"line_color\":{\"value\":\"#2E2D88\"},\"marker\":{\"value\":\"triangle\"},\"size\":{\"value\":12},\"x\":{\"field\":\"x\"},\"y\":{\"field\":\"y\"}},\"id\":\"8123\",\"type\":\"Scatter\"},{\"attributes\":{},\"id\":\"8479\",\"type\":\"BasicTickFormatter\"},{\"attributes\":{},\"id\":\"8480\",\"type\":\"AllLabels\"},{\"attributes\":{},\"id\":\"8482\",\"type\":\"BasicTickFormatter\"},{\"attributes\":{\"coordinates\":null,\"data_source\":{\"id\":\"8157\"},\"glyph\":{\"id\":\"8158\"},\"group\":null,\"hover_glyph\":null,\"muted_glyph\":{\"id\":\"8160\"},\"nonselection_glyph\":{\"id\":\"8159\"},\"view\":{\"id\":\"8162\"}},\"id\":\"8161\",\"type\":\"GlyphRenderer\"},{\"attributes\":{},\"id\":\"8483\",\"type\":\"AllLabels\"},{\"attributes\":{},\"id\":\"8059\",\"type\":\"LinearScale\"},{\"attributes\":{\"axis\":{\"id\":\"8135\"},\"coordinates\":null,\"grid_line_alpha\":0.25,\"grid_line_color\":\"#E0E0E0\",\"group\":null,\"ticker\":null},\"id\":\"8138\",\"type\":\"Grid\"},{\"attributes\":{\"coordinates\":null,\"data_source\":{\"id\":\"8120\"},\"glyph\":{\"id\":\"8121\"},\"group\":null,\"hover_glyph\":null,\"muted_glyph\":{\"id\":\"8123\"},\"nonselection_glyph\":{\"id\":\"8122\"},\"view\":{\"id\":\"8125\"}},\"id\":\"8124\",\"type\":\"GlyphRenderer\"},{\"attributes\":{\"background_fill_color\":\"#fafafa\",\"below\":[{\"id\":\"8061\"}],\"border_fill_color\":\"#15191C\",\"center\":[{\"id\":\"8064\"},{\"id\":\"8068\"}],\"height\":250,\"left\":[{\"id\":\"8065\"}],\"outline_line_alpha\":0.25,\"outline_line_color\":\"#E0E0E0\",\"renderers\":[{\"id\":\"8087\"}],\"title\":{\"id\":\"8466\"},\"toolbar\":{\"id\":\"8076\"},\"toolbar_location\":null,\"width\":250,\"x_range\":{\"id\":\"8053\"},\"x_scale\":{\"id\":\"8057\"},\"y_range\":{\"id\":\"8055\"},\"y_scale\":{\"id\":\"8059\"}},\"id\":\"8052\",\"subtype\":\"Figure\",\"type\":\"Plot\"},{\"attributes\":{},\"id\":\"8053\",\"type\":\"DataRange1d\"},{\"attributes\":{\"fill_alpha\":{\"value\":0.8},\"fill_color\":{\"value\":\"#2E2D88\"},\"hatch_alpha\":{\"value\":0.8},\"hatch_color\":{\"value\":\"#2E2D88\"},\"line_alpha\":{\"value\":0.8},\"line_color\":{\"value\":\"#2E2D88\"},\"marker\":{\"value\":\"triangle\"},\"size\":{\"value\":12},\"x\":{\"field\":\"x\"},\"y\":{\"field\":\"y\"}},\"id\":\"8121\",\"type\":\"Scatter\"},{\"attributes\":{\"bottom_units\":\"screen\",\"coordinates\":null,\"fill_alpha\":0.5,\"fill_color\":\"lightgrey\",\"group\":null,\"left_units\":\"screen\",\"level\":\"overlay\",\"line_alpha\":1.0,\"line_color\":\"black\",\"line_dash\":[4,4],\"line_width\":2,\"right_units\":\"screen\",\"syncable\":false,\"top_units\":\"screen\"},\"id\":\"8112\",\"type\":\"BoxAnnotation\"},{\"attributes\":{\"coordinates\":null,\"group\":null,\"text_color\":\"#E0E0E0\",\"text_font\":\"Helvetica\",\"text_font_size\":\"1.15em\"},\"id\":\"8468\",\"type\":\"Title\"},{\"attributes\":{\"tools\":[{\"id\":\"8106\"},{\"id\":\"8107\"},{\"id\":\"8108\"},{\"id\":\"8109\"},{\"id\":\"8110\"},{\"id\":\"8111\"}]},\"id\":\"8113\",\"type\":\"Toolbar\"},{\"attributes\":{\"axis_label_standoff\":10,\"axis_label_text_color\":\"#E0E0E0\",\"axis_label_text_font\":\"Helvetica\",\"axis_label_text_font_size\":\"1.25em\",\"axis_label_text_font_style\":\"normal\",\"axis_line_alpha\":0,\"axis_line_color\":\"#E0E0E0\",\"coordinates\":null,\"formatter\":{\"id\":\"8488\"},\"group\":null,\"major_label_policy\":{\"id\":\"8489\"},\"major_label_text_color\":\"#E0E0E0\",\"major_label_text_font\":\"Helvetica\",\"major_label_text_font_size\":\"1.025em\",\"major_tick_line_alpha\":0,\"major_tick_line_color\":\"#E0E0E0\",\"minor_tick_line_alpha\":0,\"minor_tick_line_color\":\"#E0E0E0\",\"ticker\":{\"id\":\"8136\"}},\"id\":\"8135\",\"type\":\"LinearAxis\"},{\"attributes\":{},\"id\":\"8127\",\"type\":\"DataRange1d\"},{\"attributes\":{},\"id\":\"8485\",\"type\":\"BasicTickFormatter\"},{\"attributes\":{\"source\":{\"id\":\"8157\"}},\"id\":\"8162\",\"type\":\"CDSView\"},{\"attributes\":{},\"id\":\"8486\",\"type\":\"AllLabels\"},{\"attributes\":{},\"id\":\"8129\",\"type\":\"DataRange1d\"},{\"attributes\":{},\"id\":\"8148\",\"type\":\"HelpTool\"},{\"attributes\":{\"background_fill_color\":\"#fafafa\",\"below\":[{\"id\":\"8098\"}],\"border_fill_color\":\"#15191C\",\"center\":[{\"id\":\"8101\"},{\"id\":\"8105\"}],\"height\":250,\"left\":[{\"id\":\"8102\"}],\"outline_line_alpha\":0.25,\"outline_line_color\":\"#E0E0E0\",\"renderers\":[{\"id\":\"8124\"}],\"title\":{\"id\":\"8468\"},\"toolbar\":{\"id\":\"8113\"},\"toolbar_location\":null,\"width\":250,\"x_range\":{\"id\":\"8090\"},\"x_scale\":{\"id\":\"8094\"},\"y_range\":{\"id\":\"8092\"},\"y_scale\":{\"id\":\"8096\"}},\"id\":\"8089\",\"subtype\":\"Figure\",\"type\":\"Plot\"},{\"attributes\":{},\"id\":\"8066\",\"type\":\"BasicTicker\"},{\"attributes\":{},\"id\":\"8488\",\"type\":\"BasicTickFormatter\"},{\"attributes\":{\"axis\":{\"id\":\"8065\"},\"coordinates\":null,\"dimension\":1,\"grid_line_alpha\":0.25,\"grid_line_color\":\"#E0E0E0\",\"group\":null,\"ticker\":null},\"id\":\"8068\",\"type\":\"Grid\"},{\"attributes\":{\"toolbar\":{\"id\":\"9235\"},\"toolbar_location\":\"above\"},\"id\":\"9236\",\"type\":\"ToolbarBox\"},{\"attributes\":{},\"id\":\"8131\",\"type\":\"LinearScale\"},{\"attributes\":{},\"id\":\"8489\",\"type\":\"AllLabels\"},{\"attributes\":{\"axis\":{\"id\":\"8061\"},\"coordinates\":null,\"grid_line_alpha\":0.25,\"grid_line_color\":\"#E0E0E0\",\"group\":null,\"ticker\":null},\"id\":\"8064\",\"type\":\"Grid\"},{\"attributes\":{\"children\":[[{\"id\":\"8052\"},0,0],[{\"id\":\"8089\"},0,1],[{\"id\":\"8126\"},0,2]]},\"id\":\"9234\",\"type\":\"GridBox\"},{\"attributes\":{},\"id\":\"8074\",\"type\":\"HelpTool\"},{\"attributes\":{},\"id\":\"8096\",\"type\":\"LinearScale\"},{\"attributes\":{},\"id\":\"8062\",\"type\":\"BasicTicker\"},{\"attributes\":{},\"id\":\"8092\",\"type\":\"DataRange1d\"},{\"attributes\":{\"source\":{\"id\":\"8120\"}},\"id\":\"8125\",\"type\":\"CDSView\"},{\"attributes\":{},\"id\":\"8055\",\"type\":\"DataRange1d\"},{\"attributes\":{\"data\":{\"x\":[0,1,2,3,4,5,6,7,8,9,10],\"y\":[5,4,3,2,1,0,1,2,3,4,5]},\"selected\":{\"id\":\"8497\"},\"selection_policy\":{\"id\":\"8496\"}},\"id\":\"8157\",\"type\":\"ColumnDataSource\"},{\"attributes\":{\"source\":{\"id\":\"8083\"}},\"id\":\"8088\",\"type\":\"CDSView\"},{\"attributes\":{},\"id\":\"8070\",\"type\":\"WheelZoomTool\"},{\"attributes\":{},\"id\":\"8069\",\"type\":\"PanTool\"},{\"attributes\":{},\"id\":\"8133\",\"type\":\"LinearScale\"},{\"attributes\":{\"overlay\":{\"id\":\"8075\"}},\"id\":\"8071\",\"type\":\"BoxZoomTool\"},{\"attributes\":{},\"id\":\"8490\",\"type\":\"UnionRenderers\"},{\"attributes\":{},\"id\":\"8072\",\"type\":\"SaveTool\"},{\"attributes\":{},\"id\":\"8073\",\"type\":\"ResetTool\"},{\"attributes\":{},\"id\":\"8491\",\"type\":\"Selection\"},{\"attributes\":{\"bottom_units\":\"screen\",\"coordinates\":null,\"fill_alpha\":0.5,\"fill_color\":\"lightgrey\",\"group\":null,\"left_units\":\"screen\",\"level\":\"overlay\",\"line_alpha\":1.0,\"line_color\":\"black\",\"line_dash\":[4,4],\"line_width\":2,\"right_units\":\"screen\",\"syncable\":false,\"top_units\":\"screen\"},\"id\":\"8075\",\"type\":\"BoxAnnotation\"},{\"attributes\":{},\"id\":\"8090\",\"type\":\"DataRange1d\"},{\"attributes\":{},\"id\":\"8136\",\"type\":\"BasicTicker\"},{\"attributes\":{\"fill_alpha\":{\"value\":0.1},\"fill_color\":{\"value\":\"#5D3954\"},\"hatch_alpha\":{\"value\":0.1},\"hatch_color\":{\"value\":\"#5D3954\"},\"line_alpha\":{\"value\":0.1},\"line_color\":{\"value\":\"#5D3954\"},\"marker\":{\"value\":\"square\"},\"size\":{\"value\":12},\"x\":{\"field\":\"x\"},\"y\":{\"field\":\"y\"}},\"id\":\"8159\",\"type\":\"Scatter\"},{\"attributes\":{\"background_fill_color\":\"#fafafa\",\"below\":[{\"id\":\"8135\"}],\"border_fill_color\":\"#15191C\",\"center\":[{\"id\":\"8138\"},{\"id\":\"8142\"}],\"height\":250,\"left\":[{\"id\":\"8139\"}],\"outline_line_alpha\":0.25,\"outline_line_color\":\"#E0E0E0\",\"renderers\":[{\"id\":\"8161\"}],\"title\":{\"id\":\"8470\"},\"toolbar\":{\"id\":\"8150\"},\"toolbar_location\":null,\"width\":250,\"x_range\":{\"id\":\"8127\"},\"x_scale\":{\"id\":\"8131\"},\"y_range\":{\"id\":\"8129\"},\"y_scale\":{\"id\":\"8133\"}},\"id\":\"8126\",\"subtype\":\"Figure\",\"type\":\"Plot\"},{\"attributes\":{\"axis_label_standoff\":10,\"axis_label_text_color\":\"#E0E0E0\",\"axis_label_text_font\":\"Helvetica\",\"axis_label_text_font_size\":\"1.25em\",\"axis_label_text_font_style\":\"normal\",\"axis_line_alpha\":0,\"axis_line_color\":\"#E0E0E0\",\"coordinates\":null,\"formatter\":{\"id\":\"8482\"},\"group\":null,\"major_label_policy\":{\"id\":\"8483\"},\"major_label_text_color\":\"#E0E0E0\",\"major_label_text_font\":\"Helvetica\",\"major_label_text_font_size\":\"1.025em\",\"major_tick_line_alpha\":0,\"major_tick_line_color\":\"#E0E0E0\",\"minor_tick_line_alpha\":0,\"minor_tick_line_color\":\"#E0E0E0\",\"ticker\":{\"id\":\"8099\"}},\"id\":\"8098\",\"type\":\"LinearAxis\"},{\"attributes\":{},\"id\":\"8099\",\"type\":\"BasicTicker\"},{\"attributes\":{},\"id\":\"8111\",\"type\":\"HelpTool\"},{\"attributes\":{\"axis_label_standoff\":10,\"axis_label_text_color\":\"#E0E0E0\",\"axis_label_text_font\":\"Helvetica\",\"axis_label_text_font_size\":\"1.25em\",\"axis_label_text_font_style\":\"normal\",\"axis_line_alpha\":0,\"axis_line_color\":\"#E0E0E0\",\"coordinates\":null,\"formatter\":{\"id\":\"8479\"},\"group\":null,\"major_label_policy\":{\"id\":\"8480\"},\"major_label_text_color\":\"#E0E0E0\",\"major_label_text_font\":\"Helvetica\",\"major_label_text_font_size\":\"1.025em\",\"major_tick_line_alpha\":0,\"major_tick_line_color\":\"#E0E0E0\",\"minor_tick_line_alpha\":0,\"minor_tick_line_color\":\"#E0E0E0\",\"ticker\":{\"id\":\"8103\"}},\"id\":\"8102\",\"type\":\"LinearAxis\"},{\"attributes\":{\"fill_alpha\":{\"value\":0.1},\"fill_color\":{\"value\":\"#F56FA1\"},\"hatch_alpha\":{\"value\":0.1},\"hatch_color\":{\"value\":\"#F56FA1\"},\"line_alpha\":{\"value\":0.1},\"line_color\":{\"value\":\"#F56FA1\"},\"size\":{\"value\":12},\"x\":{\"field\":\"x\"},\"y\":{\"field\":\"y\"}},\"id\":\"8085\",\"type\":\"Circle\"},{\"attributes\":{},\"id\":\"8094\",\"type\":\"LinearScale\"},{\"attributes\":{\"data\":{\"x\":[0,1,2,3,4,5,6,7,8,9,10],\"y\":[10,9,8,7,6,5,4,3,2,1,0]},\"selected\":{\"id\":\"8494\"},\"selection_policy\":{\"id\":\"8493\"}},\"id\":\"8120\",\"type\":\"ColumnDataSource\"},{\"attributes\":{\"fill_alpha\":{\"value\":0.2},\"fill_color\":{\"value\":\"#F56FA1\"},\"hatch_alpha\":{\"value\":0.2},\"hatch_color\":{\"value\":\"#F56FA1\"},\"line_alpha\":{\"value\":0.2},\"line_color\":{\"value\":\"#F56FA1\"},\"size\":{\"value\":12},\"x\":{\"field\":\"x\"},\"y\":{\"field\":\"y\"}},\"id\":\"8086\",\"type\":\"Circle\"},{\"attributes\":{\"fill_alpha\":{\"value\":0.8},\"fill_color\":{\"value\":\"#F56FA1\"},\"hatch_alpha\":{\"value\":0.8},\"hatch_color\":{\"value\":\"#F56FA1\"},\"line_alpha\":{\"value\":0.8},\"line_color\":{\"value\":\"#F56FA1\"},\"size\":{\"value\":12},\"x\":{\"field\":\"x\"},\"y\":{\"field\":\"y\"}},\"id\":\"8084\",\"type\":\"Circle\"},{\"attributes\":{\"tools\":[{\"id\":\"8069\"},{\"id\":\"8070\"},{\"id\":\"8071\"},{\"id\":\"8072\"},{\"id\":\"8073\"},{\"id\":\"8074\"}]},\"id\":\"8076\",\"type\":\"Toolbar\"},{\"attributes\":{},\"id\":\"8493\",\"type\":\"UnionRenderers\"},{\"attributes\":{\"axis_label_standoff\":10,\"axis_label_text_color\":\"#E0E0E0\",\"axis_label_text_font\":\"Helvetica\",\"axis_label_text_font_size\":\"1.25em\",\"axis_label_text_font_style\":\"normal\",\"axis_line_alpha\":0,\"axis_line_color\":\"#E0E0E0\",\"coordinates\":null,\"formatter\":{\"id\":\"8476\"},\"group\":null,\"major_label_policy\":{\"id\":\"8477\"},\"major_label_text_color\":\"#E0E0E0\",\"major_label_text_font\":\"Helvetica\",\"major_label_text_font_size\":\"1.025em\",\"major_tick_line_alpha\":0,\"major_tick_line_color\":\"#E0E0E0\",\"minor_tick_line_alpha\":0,\"minor_tick_line_color\":\"#E0E0E0\",\"ticker\":{\"id\":\"8062\"}},\"id\":\"8061\",\"type\":\"LinearAxis\"},{\"attributes\":{},\"id\":\"8494\",\"type\":\"Selection\"},{\"attributes\":{\"axis_label_standoff\":10,\"axis_label_text_color\":\"#E0E0E0\",\"axis_label_text_font\":\"Helvetica\",\"axis_label_text_font_size\":\"1.25em\",\"axis_label_text_font_style\":\"normal\",\"axis_line_alpha\":0,\"axis_line_color\":\"#E0E0E0\",\"coordinates\":null,\"formatter\":{\"id\":\"8473\"},\"group\":null,\"major_label_policy\":{\"id\":\"8474\"},\"major_label_text_color\":\"#E0E0E0\",\"major_label_text_font\":\"Helvetica\",\"major_label_text_font_size\":\"1.025em\",\"major_tick_line_alpha\":0,\"major_tick_line_color\":\"#E0E0E0\",\"minor_tick_line_alpha\":0,\"minor_tick_line_color\":\"#E0E0E0\",\"ticker\":{\"id\":\"8066\"}},\"id\":\"8065\",\"type\":\"LinearAxis\"},{\"attributes\":{\"coordinates\":null,\"group\":null,\"text_color\":\"#E0E0E0\",\"text_font\":\"Helvetica\",\"text_font_size\":\"1.15em\"},\"id\":\"8466\",\"type\":\"Title\"},{\"attributes\":{},\"id\":\"8057\",\"type\":\"LinearScale\"},{\"attributes\":{\"toolbars\":[{\"id\":\"8076\"},{\"id\":\"8113\"},{\"id\":\"8150\"}],\"tools\":[{\"id\":\"8069\"},{\"id\":\"8070\"},{\"id\":\"8071\"},{\"id\":\"8072\"},{\"id\":\"8073\"},{\"id\":\"8074\"},{\"id\":\"8106\"},{\"id\":\"8107\"},{\"id\":\"8108\"},{\"id\":\"8109\"},{\"id\":\"8110\"},{\"id\":\"8111\"},{\"id\":\"8143\"},{\"id\":\"8144\"},{\"id\":\"8145\"},{\"id\":\"8146\"},{\"id\":\"8147\"},{\"id\":\"8148\"}]},\"id\":\"9235\",\"type\":\"ProxyToolbar\"},{\"attributes\":{},\"id\":\"8110\",\"type\":\"ResetTool\"},{\"attributes\":{},\"id\":\"8109\",\"type\":\"SaveTool\"},{\"attributes\":{\"overlay\":{\"id\":\"8112\"}},\"id\":\"8108\",\"type\":\"BoxZoomTool\"},{\"attributes\":{},\"id\":\"8106\",\"type\":\"PanTool\"},{\"attributes\":{},\"id\":\"8107\",\"type\":\"WheelZoomTool\"},{\"attributes\":{},\"id\":\"8103\",\"type\":\"BasicTicker\"},{\"attributes\":{\"coordinates\":null,\"group\":null,\"text_color\":\"#E0E0E0\",\"text_font\":\"Helvetica\",\"text_font_size\":\"1.15em\"},\"id\":\"8470\",\"type\":\"Title\"},{\"attributes\":{\"axis\":{\"id\":\"8102\"},\"coordinates\":null,\"dimension\":1,\"grid_line_alpha\":0.25,\"grid_line_color\":\"#E0E0E0\",\"group\":null,\"ticker\":null},\"id\":\"8105\",\"type\":\"Grid\"},{\"attributes\":{\"axis\":{\"id\":\"8098\"},\"coordinates\":null,\"grid_line_alpha\":0.25,\"grid_line_color\":\"#E0E0E0\",\"group\":null,\"ticker\":null},\"id\":\"8101\",\"type\":\"Grid\"}],\"root_ids\":[\"9237\"]},\"title\":\"Bokeh Application\",\"version\":\"2.4.3\"}};\n",
       "  const render_items = [{\"docid\":\"7ff8e8c4-0610-4c3b-b818-afabcd042f50\",\"root_ids\":[\"9237\"],\"roots\":{\"9237\":\"480df658-839a-400a-82a4-f62d44383b62\"}}];\n",
       "  root.Bokeh.embed.embed_items_notebook(docs_json, render_items);\n",
       "  }\n",
       "  if (root.Bokeh !== undefined) {\n",
       "    embed_document(root);\n",
       "  } else {\n",
       "    let attempts = 0;\n",
       "    const timer = setInterval(function(root) {\n",
       "      if (root.Bokeh !== undefined) {\n",
       "        clearInterval(timer);\n",
       "        embed_document(root);\n",
       "      } else {\n",
       "        attempts++;\n",
       "        if (attempts > 100) {\n",
       "          clearInterval(timer);\n",
       "          console.log(\"Bokeh: ERROR: Unable to run BokehJS code because BokehJS library is missing\");\n",
       "        }\n",
       "      }\n",
       "    }, 10, root)\n",
       "  }\n",
       "})(window);"
      ],
      "application/vnd.bokehjs_exec.v0+json": ""
     },
     "metadata": {
      "application/vnd.bokehjs_exec.v0+json": {
       "id": "9237"
      }
     },
     "output_type": "display_data"
    }
   ],
   "source": [
    "# prepare some data\n",
    "x = list(range(11))\n",
    "y0 = x\n",
    "y1 = [10 - i for i in x]\n",
    "y2 = [abs(i - 5) for i in x]\n",
    "\n",
    "# create three plots with one renderer each\n",
    "s1 = figure(width=250, height=250, background_fill_color=\"#fafafa\")\n",
    "s1.circle(x, y0, size=12, color=\"#F56FA1\", alpha=0.8)\n",
    "\n",
    "s2 = figure(width=250, height=250, background_fill_color=\"#fafafa\")\n",
    "s2.triangle(x, y1, size=12, color=\"#2E2D88\", alpha=0.8)\n",
    "\n",
    "s3 = figure(width=250, height=250, background_fill_color=\"#fafafa\")\n",
    "s3.square(x, y2, size=12, color=\"#5D3954\", alpha=0.8)\n",
    "\n",
    "# put the results in a row, column, gridplot and show\n",
    "show(row(s1, s2, s3))\n",
    "show(column(s1, s2, s3))\n",
    "show(gridplot([[s1,s2,s3]]))"
   ]
  },
  {
   "cell_type": "markdown",
   "id": "cedb928d",
   "metadata": {},
   "source": [
    "# Defining sizing behaviour"
   ]
  },
  {
   "cell_type": "code",
   "execution_count": 45,
   "id": "7861c373",
   "metadata": {},
   "outputs": [
    {
     "data": {
      "text/html": [
       "\n",
       "  <div class=\"bk-root\" id=\"96574f52-6297-4c33-8302-befee58048f4\" data-root-id=\"9915\"></div>\n"
      ]
     },
     "metadata": {},
     "output_type": "display_data"
    },
    {
     "data": {
      "application/javascript": [
       "(function(root) {\n",
       "  function embed_document(root) {\n",
       "  const docs_json = {\"9f736f81-b485-4376-8d25-8a922390f57a\":{\"defs\":[],\"roots\":{\"references\":[{\"attributes\":{\"children\":[{\"id\":\"9804\"},{\"id\":\"9841\"},{\"id\":\"9878\"}],\"sizing_mode\":\"scale_width\"},\"id\":\"9915\",\"type\":\"Row\"},{\"attributes\":{},\"id\":\"9861\",\"type\":\"SaveTool\"},{\"attributes\":{},\"id\":\"9862\",\"type\":\"ResetTool\"},{\"attributes\":{},\"id\":\"10324\",\"type\":\"BasicTickFormatter\"},{\"attributes\":{\"bottom_units\":\"screen\",\"coordinates\":null,\"fill_alpha\":0.5,\"fill_color\":\"lightgrey\",\"group\":null,\"left_units\":\"screen\",\"level\":\"overlay\",\"line_alpha\":1.0,\"line_color\":\"black\",\"line_dash\":[4,4],\"line_width\":2,\"right_units\":\"screen\",\"syncable\":false,\"top_units\":\"screen\"},\"id\":\"9864\",\"type\":\"BoxAnnotation\"},{\"attributes\":{\"fill_alpha\":{\"value\":0.8},\"fill_color\":{\"value\":\"blue\"},\"hatch_alpha\":{\"value\":0.8},\"hatch_color\":{\"value\":\"blue\"},\"line_alpha\":{\"value\":0.8},\"line_color\":{\"value\":\"blue\"},\"marker\":{\"value\":\"square\"},\"size\":{\"value\":12},\"x\":{\"field\":\"x\"},\"y\":{\"field\":\"y\"}},\"id\":\"9910\",\"type\":\"Scatter\"},{\"attributes\":{\"fill_alpha\":{\"value\":0.2},\"fill_color\":{\"value\":\"blue\"},\"hatch_alpha\":{\"value\":0.2},\"hatch_color\":{\"value\":\"blue\"},\"line_alpha\":{\"value\":0.2},\"line_color\":{\"value\":\"blue\"},\"marker\":{\"value\":\"square\"},\"size\":{\"value\":12},\"x\":{\"field\":\"x\"},\"y\":{\"field\":\"y\"}},\"id\":\"9912\",\"type\":\"Scatter\"},{\"attributes\":{},\"id\":\"9844\",\"type\":\"DataRange1d\"},{\"attributes\":{},\"id\":\"10347\",\"type\":\"UnionRenderers\"},{\"attributes\":{\"source\":{\"id\":\"9872\"}},\"id\":\"9877\",\"type\":\"CDSView\"},{\"attributes\":{},\"id\":\"9842\",\"type\":\"DataRange1d\"},{\"attributes\":{\"axis\":{\"id\":\"9891\"},\"coordinates\":null,\"dimension\":1,\"grid_line_alpha\":0.25,\"grid_line_color\":\"#E0E0E0\",\"group\":null,\"ticker\":null},\"id\":\"9894\",\"type\":\"Grid\"},{\"attributes\":{},\"id\":\"10348\",\"type\":\"Selection\"},{\"attributes\":{},\"id\":\"9892\",\"type\":\"BasicTicker\"},{\"attributes\":{\"coordinates\":null,\"group\":null,\"text_color\":\"#E0E0E0\",\"text_font\":\"Helvetica\",\"text_font_size\":\"1.15em\"},\"id\":\"10317\",\"type\":\"Title\"},{\"attributes\":{\"coordinates\":null,\"group\":null,\"text_color\":\"#E0E0E0\",\"text_font\":\"Helvetica\",\"text_font_size\":\"1.15em\"},\"id\":\"10319\",\"type\":\"Title\"},{\"attributes\":{\"fill_alpha\":{\"value\":0.2},\"fill_color\":{\"value\":\"green\"},\"hatch_alpha\":{\"value\":0.2},\"hatch_color\":{\"value\":\"green\"},\"line_alpha\":{\"value\":0.2},\"line_color\":{\"value\":\"green\"},\"marker\":{\"value\":\"triangle\"},\"size\":{\"value\":12},\"x\":{\"field\":\"x\"},\"y\":{\"field\":\"y\"}},\"id\":\"9875\",\"type\":\"Scatter\"},{\"attributes\":{\"axis_label_standoff\":10,\"axis_label_text_color\":\"#E0E0E0\",\"axis_label_text_font\":\"Helvetica\",\"axis_label_text_font_size\":\"1.25em\",\"axis_label_text_font_style\":\"normal\",\"axis_line_alpha\":0,\"axis_line_color\":\"#E0E0E0\",\"coordinates\":null,\"formatter\":{\"id\":\"10339\"},\"group\":null,\"major_label_policy\":{\"id\":\"10340\"},\"major_label_text_color\":\"#E0E0E0\",\"major_label_text_font\":\"Helvetica\",\"major_label_text_font_size\":\"1.025em\",\"major_tick_line_alpha\":0,\"major_tick_line_color\":\"#E0E0E0\",\"minor_tick_line_alpha\":0,\"minor_tick_line_color\":\"#E0E0E0\",\"ticker\":{\"id\":\"9888\"}},\"id\":\"9887\",\"type\":\"LinearAxis\"},{\"attributes\":{\"axis_label_standoff\":10,\"axis_label_text_color\":\"#E0E0E0\",\"axis_label_text_font\":\"Helvetica\",\"axis_label_text_font_size\":\"1.25em\",\"axis_label_text_font_style\":\"normal\",\"axis_line_alpha\":0,\"axis_line_color\":\"#E0E0E0\",\"coordinates\":null,\"formatter\":{\"id\":\"10336\"},\"group\":null,\"major_label_policy\":{\"id\":\"10337\"},\"major_label_text_color\":\"#E0E0E0\",\"major_label_text_font\":\"Helvetica\",\"major_label_text_font_size\":\"1.025em\",\"major_tick_line_alpha\":0,\"major_tick_line_color\":\"#E0E0E0\",\"minor_tick_line_alpha\":0,\"minor_tick_line_color\":\"#E0E0E0\",\"ticker\":{\"id\":\"9892\"}},\"id\":\"9891\",\"type\":\"LinearAxis\"},{\"attributes\":{\"fill_alpha\":{\"value\":0.1},\"fill_color\":{\"value\":\"green\"},\"hatch_alpha\":{\"value\":0.1},\"hatch_color\":{\"value\":\"green\"},\"line_alpha\":{\"value\":0.1},\"line_color\":{\"value\":\"green\"},\"marker\":{\"value\":\"triangle\"},\"size\":{\"value\":12},\"x\":{\"field\":\"x\"},\"y\":{\"field\":\"y\"}},\"id\":\"9874\",\"type\":\"Scatter\"},{\"attributes\":{},\"id\":\"9883\",\"type\":\"LinearScale\"},{\"attributes\":{},\"id\":\"9900\",\"type\":\"HelpTool\"},{\"attributes\":{},\"id\":\"9888\",\"type\":\"BasicTicker\"},{\"attributes\":{\"axis\":{\"id\":\"9887\"},\"coordinates\":null,\"grid_line_alpha\":0.25,\"grid_line_color\":\"#E0E0E0\",\"group\":null,\"ticker\":null},\"id\":\"9890\",\"type\":\"Grid\"},{\"attributes\":{},\"id\":\"9863\",\"type\":\"HelpTool\"},{\"attributes\":{},\"id\":\"10330\",\"type\":\"BasicTickFormatter\"},{\"attributes\":{},\"id\":\"9846\",\"type\":\"LinearScale\"},{\"attributes\":{\"axis_label_standoff\":10,\"axis_label_text_color\":\"#E0E0E0\",\"axis_label_text_font\":\"Helvetica\",\"axis_label_text_font_size\":\"1.25em\",\"axis_label_text_font_style\":\"normal\",\"axis_line_alpha\":0,\"axis_line_color\":\"#E0E0E0\",\"coordinates\":null,\"formatter\":{\"id\":\"10330\"},\"group\":null,\"major_label_policy\":{\"id\":\"10331\"},\"major_label_text_color\":\"#E0E0E0\",\"major_label_text_font\":\"Helvetica\",\"major_label_text_font_size\":\"1.025em\",\"major_tick_line_alpha\":0,\"major_tick_line_color\":\"#E0E0E0\",\"minor_tick_line_alpha\":0,\"minor_tick_line_color\":\"#E0E0E0\",\"ticker\":{\"id\":\"9855\"}},\"id\":\"9854\",\"type\":\"LinearAxis\"},{\"attributes\":{},\"id\":\"10331\",\"type\":\"AllLabels\"},{\"attributes\":{\"bottom_units\":\"screen\",\"coordinates\":null,\"fill_alpha\":0.5,\"fill_color\":\"lightgrey\",\"group\":null,\"left_units\":\"screen\",\"level\":\"overlay\",\"line_alpha\":1.0,\"line_color\":\"black\",\"line_dash\":[4,4],\"line_width\":2,\"right_units\":\"screen\",\"syncable\":false,\"top_units\":\"screen\"},\"id\":\"9901\",\"type\":\"BoxAnnotation\"},{\"attributes\":{\"data\":{\"x\":[0,1,2,3,4,5,6,7,8,9,10],\"y\":[10,9,8,7,6,5,4,3,2,1,0]},\"selected\":{\"id\":\"10345\"},\"selection_policy\":{\"id\":\"10344\"}},\"id\":\"9872\",\"type\":\"ColumnDataSource\"},{\"attributes\":{\"axis_label_standoff\":10,\"axis_label_text_color\":\"#E0E0E0\",\"axis_label_text_font\":\"Helvetica\",\"axis_label_text_font_size\":\"1.25em\",\"axis_label_text_font_style\":\"normal\",\"axis_line_alpha\":0,\"axis_line_color\":\"#E0E0E0\",\"coordinates\":null,\"formatter\":{\"id\":\"10333\"},\"group\":null,\"major_label_policy\":{\"id\":\"10334\"},\"major_label_text_color\":\"#E0E0E0\",\"major_label_text_font\":\"Helvetica\",\"major_label_text_font_size\":\"1.025em\",\"major_tick_line_alpha\":0,\"major_tick_line_color\":\"#E0E0E0\",\"minor_tick_line_alpha\":0,\"minor_tick_line_color\":\"#E0E0E0\",\"ticker\":{\"id\":\"9851\"}},\"id\":\"9850\",\"type\":\"LinearAxis\"},{\"attributes\":{},\"id\":\"10333\",\"type\":\"BasicTickFormatter\"},{\"attributes\":{},\"id\":\"9848\",\"type\":\"LinearScale\"},{\"attributes\":{\"data\":{\"x\":[0,1,2,3,4,5,6,7,8,9,10],\"y\":[5,4,3,2,1,0,1,2,3,4,5]},\"selected\":{\"id\":\"10348\"},\"selection_policy\":{\"id\":\"10347\"}},\"id\":\"9909\",\"type\":\"ColumnDataSource\"},{\"attributes\":{},\"id\":\"9896\",\"type\":\"WheelZoomTool\"},{\"attributes\":{},\"id\":\"10334\",\"type\":\"AllLabels\"},{\"attributes\":{},\"id\":\"9895\",\"type\":\"PanTool\"},{\"attributes\":{\"overlay\":{\"id\":\"9901\"}},\"id\":\"9897\",\"type\":\"BoxZoomTool\"},{\"attributes\":{},\"id\":\"9898\",\"type\":\"SaveTool\"},{\"attributes\":{},\"id\":\"9899\",\"type\":\"ResetTool\"},{\"attributes\":{\"background_fill_color\":\"#fafafa\",\"below\":[{\"id\":\"9887\"}],\"border_fill_color\":\"#15191C\",\"center\":[{\"id\":\"9890\"},{\"id\":\"9894\"}],\"height\":250,\"left\":[{\"id\":\"9891\"}],\"outline_line_alpha\":0.25,\"outline_line_color\":\"#E0E0E0\",\"renderers\":[{\"id\":\"9913\"}],\"sizing_mode\":\"scale_width\",\"title\":{\"id\":\"10321\"},\"toolbar\":{\"id\":\"9902\"},\"width\":250,\"x_range\":{\"id\":\"9879\"},\"x_scale\":{\"id\":\"9883\"},\"y_range\":{\"id\":\"9881\"},\"y_scale\":{\"id\":\"9885\"}},\"id\":\"9878\",\"subtype\":\"Figure\",\"type\":\"Plot\"},{\"attributes\":{},\"id\":\"9851\",\"type\":\"BasicTicker\"},{\"attributes\":{\"axis\":{\"id\":\"9850\"},\"coordinates\":null,\"grid_line_alpha\":0.25,\"grid_line_color\":\"#E0E0E0\",\"group\":null,\"ticker\":null},\"id\":\"9853\",\"type\":\"Grid\"},{\"attributes\":{\"axis\":{\"id\":\"9854\"},\"coordinates\":null,\"dimension\":1,\"grid_line_alpha\":0.25,\"grid_line_color\":\"#E0E0E0\",\"group\":null,\"ticker\":null},\"id\":\"9857\",\"type\":\"Grid\"},{\"attributes\":{},\"id\":\"9855\",\"type\":\"BasicTicker\"},{\"attributes\":{},\"id\":\"9859\",\"type\":\"WheelZoomTool\"},{\"attributes\":{},\"id\":\"9858\",\"type\":\"PanTool\"},{\"attributes\":{\"overlay\":{\"id\":\"9864\"}},\"id\":\"9860\",\"type\":\"BoxZoomTool\"},{\"attributes\":{},\"id\":\"10336\",\"type\":\"BasicTickFormatter\"},{\"attributes\":{},\"id\":\"10337\",\"type\":\"AllLabels\"},{\"attributes\":{\"coordinates\":null,\"data_source\":{\"id\":\"9872\"},\"glyph\":{\"id\":\"9873\"},\"group\":null,\"hover_glyph\":null,\"muted_glyph\":{\"id\":\"9875\"},\"nonselection_glyph\":{\"id\":\"9874\"},\"view\":{\"id\":\"9877\"}},\"id\":\"9876\",\"type\":\"GlyphRenderer\"},{\"attributes\":{},\"id\":\"10339\",\"type\":\"BasicTickFormatter\"},{\"attributes\":{},\"id\":\"10340\",\"type\":\"AllLabels\"},{\"attributes\":{\"tools\":[{\"id\":\"9895\"},{\"id\":\"9896\"},{\"id\":\"9897\"},{\"id\":\"9898\"},{\"id\":\"9899\"},{\"id\":\"9900\"}]},\"id\":\"9902\",\"type\":\"Toolbar\"},{\"attributes\":{\"coordinates\":null,\"group\":null,\"text_color\":\"#E0E0E0\",\"text_font\":\"Helvetica\",\"text_font_size\":\"1.15em\"},\"id\":\"10321\",\"type\":\"Title\"},{\"attributes\":{},\"id\":\"10341\",\"type\":\"UnionRenderers\"},{\"attributes\":{},\"id\":\"10342\",\"type\":\"Selection\"},{\"attributes\":{\"tools\":[{\"id\":\"9858\"},{\"id\":\"9859\"},{\"id\":\"9860\"},{\"id\":\"9861\"},{\"id\":\"9862\"},{\"id\":\"9863\"}]},\"id\":\"9865\",\"type\":\"Toolbar\"},{\"attributes\":{\"background_fill_color\":\"#fafafa\",\"below\":[{\"id\":\"9850\"}],\"border_fill_color\":\"#15191C\",\"center\":[{\"id\":\"9853\"},{\"id\":\"9857\"}],\"height\":250,\"left\":[{\"id\":\"9854\"}],\"outline_line_alpha\":0.25,\"outline_line_color\":\"#E0E0E0\",\"renderers\":[{\"id\":\"9876\"}],\"sizing_mode\":\"scale_width\",\"title\":{\"id\":\"10319\"},\"toolbar\":{\"id\":\"9865\"},\"width\":250,\"x_range\":{\"id\":\"9842\"},\"x_scale\":{\"id\":\"9846\"},\"y_range\":{\"id\":\"9844\"},\"y_scale\":{\"id\":\"9848\"}},\"id\":\"9841\",\"subtype\":\"Figure\",\"type\":\"Plot\"},{\"attributes\":{},\"id\":\"9879\",\"type\":\"DataRange1d\"},{\"attributes\":{},\"id\":\"9805\",\"type\":\"DataRange1d\"},{\"attributes\":{\"source\":{\"id\":\"9909\"}},\"id\":\"9914\",\"type\":\"CDSView\"},{\"attributes\":{},\"id\":\"9881\",\"type\":\"DataRange1d\"},{\"attributes\":{\"fill_alpha\":{\"value\":0.8},\"fill_color\":{\"value\":\"green\"},\"hatch_alpha\":{\"value\":0.8},\"hatch_color\":{\"value\":\"green\"},\"line_alpha\":{\"value\":0.8},\"line_color\":{\"value\":\"green\"},\"marker\":{\"value\":\"triangle\"},\"size\":{\"value\":12},\"x\":{\"field\":\"x\"},\"y\":{\"field\":\"y\"}},\"id\":\"9873\",\"type\":\"Scatter\"},{\"attributes\":{},\"id\":\"9885\",\"type\":\"LinearScale\"},{\"attributes\":{},\"id\":\"9807\",\"type\":\"DataRange1d\"},{\"attributes\":{},\"id\":\"10328\",\"type\":\"AllLabels\"},{\"attributes\":{},\"id\":\"9811\",\"type\":\"LinearScale\"},{\"attributes\":{},\"id\":\"9809\",\"type\":\"LinearScale\"},{\"attributes\":{\"axis_label_standoff\":10,\"axis_label_text_color\":\"#E0E0E0\",\"axis_label_text_font\":\"Helvetica\",\"axis_label_text_font_size\":\"1.25em\",\"axis_label_text_font_style\":\"normal\",\"axis_line_alpha\":0,\"axis_line_color\":\"#E0E0E0\",\"coordinates\":null,\"formatter\":{\"id\":\"10327\"},\"group\":null,\"major_label_policy\":{\"id\":\"10328\"},\"major_label_text_color\":\"#E0E0E0\",\"major_label_text_font\":\"Helvetica\",\"major_label_text_font_size\":\"1.025em\",\"major_tick_line_alpha\":0,\"major_tick_line_color\":\"#E0E0E0\",\"minor_tick_line_alpha\":0,\"minor_tick_line_color\":\"#E0E0E0\",\"ticker\":{\"id\":\"9814\"}},\"id\":\"9813\",\"type\":\"LinearAxis\"},{\"attributes\":{\"axis_label_standoff\":10,\"axis_label_text_color\":\"#E0E0E0\",\"axis_label_text_font\":\"Helvetica\",\"axis_label_text_font_size\":\"1.25em\",\"axis_label_text_font_style\":\"normal\",\"axis_line_alpha\":0,\"axis_line_color\":\"#E0E0E0\",\"coordinates\":null,\"formatter\":{\"id\":\"10324\"},\"group\":null,\"major_label_policy\":{\"id\":\"10325\"},\"major_label_text_color\":\"#E0E0E0\",\"major_label_text_font\":\"Helvetica\",\"major_label_text_font_size\":\"1.025em\",\"major_tick_line_alpha\":0,\"major_tick_line_color\":\"#E0E0E0\",\"minor_tick_line_alpha\":0,\"minor_tick_line_color\":\"#E0E0E0\",\"ticker\":{\"id\":\"9818\"}},\"id\":\"9817\",\"type\":\"LinearAxis\"},{\"attributes\":{},\"id\":\"9826\",\"type\":\"HelpTool\"},{\"attributes\":{},\"id\":\"9814\",\"type\":\"BasicTicker\"},{\"attributes\":{\"axis\":{\"id\":\"9813\"},\"coordinates\":null,\"grid_line_alpha\":0.25,\"grid_line_color\":\"#E0E0E0\",\"group\":null,\"ticker\":null},\"id\":\"9816\",\"type\":\"Grid\"},{\"attributes\":{\"coordinates\":null,\"data_source\":{\"id\":\"9909\"},\"glyph\":{\"id\":\"9910\"},\"group\":null,\"hover_glyph\":null,\"muted_glyph\":{\"id\":\"9912\"},\"nonselection_glyph\":{\"id\":\"9911\"},\"view\":{\"id\":\"9914\"}},\"id\":\"9913\",\"type\":\"GlyphRenderer\"},{\"attributes\":{\"background_fill_color\":\"#fafafa\",\"below\":[{\"id\":\"9813\"}],\"border_fill_color\":\"#15191C\",\"center\":[{\"id\":\"9816\"},{\"id\":\"9820\"}],\"height\":250,\"left\":[{\"id\":\"9817\"}],\"outline_line_alpha\":0.25,\"outline_line_color\":\"#E0E0E0\",\"renderers\":[{\"id\":\"9839\"}],\"sizing_mode\":\"scale_width\",\"title\":{\"id\":\"10317\"},\"toolbar\":{\"id\":\"9828\"},\"width\":250,\"x_range\":{\"id\":\"9805\"},\"x_scale\":{\"id\":\"9809\"},\"y_range\":{\"id\":\"9807\"},\"y_scale\":{\"id\":\"9811\"}},\"id\":\"9804\",\"subtype\":\"Figure\",\"type\":\"Plot\"},{\"attributes\":{\"fill_alpha\":{\"value\":0.1},\"fill_color\":{\"value\":\"red\"},\"hatch_alpha\":{\"value\":0.1},\"hatch_color\":{\"value\":\"red\"},\"line_alpha\":{\"value\":0.1},\"line_color\":{\"value\":\"red\"},\"size\":{\"value\":12},\"x\":{\"field\":\"x\"},\"y\":{\"field\":\"y\"}},\"id\":\"9837\",\"type\":\"Circle\"},{\"attributes\":{},\"id\":\"10344\",\"type\":\"UnionRenderers\"},{\"attributes\":{\"data\":{\"x\":[0,1,2,3,4,5,6,7,8,9,10],\"y\":[0,1,2,3,4,5,6,7,8,9,10]},\"selected\":{\"id\":\"10342\"},\"selection_policy\":{\"id\":\"10341\"}},\"id\":\"9835\",\"type\":\"ColumnDataSource\"},{\"attributes\":{\"source\":{\"id\":\"9835\"}},\"id\":\"9840\",\"type\":\"CDSView\"},{\"attributes\":{},\"id\":\"10345\",\"type\":\"Selection\"},{\"attributes\":{\"fill_alpha\":{\"value\":0.1},\"fill_color\":{\"value\":\"blue\"},\"hatch_alpha\":{\"value\":0.1},\"hatch_color\":{\"value\":\"blue\"},\"line_alpha\":{\"value\":0.1},\"line_color\":{\"value\":\"blue\"},\"marker\":{\"value\":\"square\"},\"size\":{\"value\":12},\"x\":{\"field\":\"x\"},\"y\":{\"field\":\"y\"}},\"id\":\"9911\",\"type\":\"Scatter\"},{\"attributes\":{\"fill_alpha\":{\"value\":0.8},\"fill_color\":{\"value\":\"red\"},\"hatch_alpha\":{\"value\":0.8},\"hatch_color\":{\"value\":\"red\"},\"line_alpha\":{\"value\":0.8},\"line_color\":{\"value\":\"red\"},\"size\":{\"value\":12},\"x\":{\"field\":\"x\"},\"y\":{\"field\":\"y\"}},\"id\":\"9836\",\"type\":\"Circle\"},{\"attributes\":{\"coordinates\":null,\"data_source\":{\"id\":\"9835\"},\"glyph\":{\"id\":\"9836\"},\"group\":null,\"hover_glyph\":null,\"muted_glyph\":{\"id\":\"9838\"},\"nonselection_glyph\":{\"id\":\"9837\"},\"view\":{\"id\":\"9840\"}},\"id\":\"9839\",\"type\":\"GlyphRenderer\"},{\"attributes\":{\"fill_alpha\":{\"value\":0.2},\"fill_color\":{\"value\":\"red\"},\"hatch_alpha\":{\"value\":0.2},\"hatch_color\":{\"value\":\"red\"},\"line_alpha\":{\"value\":0.2},\"line_color\":{\"value\":\"red\"},\"size\":{\"value\":12},\"x\":{\"field\":\"x\"},\"y\":{\"field\":\"y\"}},\"id\":\"9838\",\"type\":\"Circle\"},{\"attributes\":{},\"id\":\"9825\",\"type\":\"ResetTool\"},{\"attributes\":{},\"id\":\"9824\",\"type\":\"SaveTool\"},{\"attributes\":{},\"id\":\"10327\",\"type\":\"BasicTickFormatter\"},{\"attributes\":{\"overlay\":{\"id\":\"9827\"}},\"id\":\"9823\",\"type\":\"BoxZoomTool\"},{\"attributes\":{},\"id\":\"9821\",\"type\":\"PanTool\"},{\"attributes\":{},\"id\":\"9822\",\"type\":\"WheelZoomTool\"},{\"attributes\":{\"bottom_units\":\"screen\",\"coordinates\":null,\"fill_alpha\":0.5,\"fill_color\":\"lightgrey\",\"group\":null,\"left_units\":\"screen\",\"level\":\"overlay\",\"line_alpha\":1.0,\"line_color\":\"black\",\"line_dash\":[4,4],\"line_width\":2,\"right_units\":\"screen\",\"syncable\":false,\"top_units\":\"screen\"},\"id\":\"9827\",\"type\":\"BoxAnnotation\"},{\"attributes\":{\"tools\":[{\"id\":\"9821\"},{\"id\":\"9822\"},{\"id\":\"9823\"},{\"id\":\"9824\"},{\"id\":\"9825\"},{\"id\":\"9826\"}]},\"id\":\"9828\",\"type\":\"Toolbar\"},{\"attributes\":{},\"id\":\"9818\",\"type\":\"BasicTicker\"},{\"attributes\":{},\"id\":\"10325\",\"type\":\"AllLabels\"},{\"attributes\":{\"axis\":{\"id\":\"9817\"},\"coordinates\":null,\"dimension\":1,\"grid_line_alpha\":0.25,\"grid_line_color\":\"#E0E0E0\",\"group\":null,\"ticker\":null},\"id\":\"9820\",\"type\":\"Grid\"}],\"root_ids\":[\"9915\"]},\"title\":\"Bokeh Application\",\"version\":\"2.4.3\"}};\n",
       "  const render_items = [{\"docid\":\"9f736f81-b485-4376-8d25-8a922390f57a\",\"root_ids\":[\"9915\"],\"roots\":{\"9915\":\"96574f52-6297-4c33-8302-befee58048f4\"}}];\n",
       "  root.Bokeh.embed.embed_items_notebook(docs_json, render_items);\n",
       "  }\n",
       "  if (root.Bokeh !== undefined) {\n",
       "    embed_document(root);\n",
       "  } else {\n",
       "    let attempts = 0;\n",
       "    const timer = setInterval(function(root) {\n",
       "      if (root.Bokeh !== undefined) {\n",
       "        clearInterval(timer);\n",
       "        embed_document(root);\n",
       "      } else {\n",
       "        attempts++;\n",
       "        if (attempts > 100) {\n",
       "          clearInterval(timer);\n",
       "          console.log(\"Bokeh: ERROR: Unable to run BokehJS code because BokehJS library is missing\");\n",
       "        }\n",
       "      }\n",
       "    }, 10, root)\n",
       "  }\n",
       "})(window);"
      ],
      "application/vnd.bokehjs_exec.v0+json": ""
     },
     "metadata": {
      "application/vnd.bokehjs_exec.v0+json": {
       "id": "9915"
      }
     },
     "output_type": "display_data"
    }
   ],
   "source": [
    "# prepare some data\n",
    "x = list(range(11))\n",
    "y0 = x\n",
    "y1 = [10 - i for i in x]\n",
    "y2 = [abs(i - 5) for i in x]\n",
    "\n",
    "# create three plots with one renderer each\n",
    "s1 = figure(width=250, height=250, background_fill_color=\"#fafafa\")\n",
    "s1.circle(x, y0, size=12, color=\"red\", alpha=0.8)\n",
    "\n",
    "s2 = figure(width=250, height=250, background_fill_color=\"#fafafa\")\n",
    "s2.triangle(x, y1, size=12, color=\"green\", alpha=0.8)\n",
    "\n",
    "s3 = figure(width=250, height=250, background_fill_color=\"#fafafa\")\n",
    "s3.square(x, y2, size=12, color=\"blue\", alpha=0.8)\n",
    "\n",
    "# put the results in a row that automatically adjusts\n",
    "# to the browser window's width\n",
    "show(row(children=[s1, s2, s3], sizing_mode=\"scale_width\"))"
   ]
  },
  {
   "cell_type": "markdown",
   "id": "4a9c2734",
   "metadata": {},
   "source": [
    "# Creating a standalone HTML file"
   ]
  },
  {
   "cell_type": "code",
   "execution_count": 46,
   "id": "d74c260c",
   "metadata": {},
   "outputs": [
    {
     "data": {
      "text/plain": [
       "'C:\\\\Users\\\\ITProdigies\\\\Documents\\\\standalone_filename.html'"
      ]
     },
     "execution_count": 46,
     "metadata": {},
     "output_type": "execute_result"
    }
   ],
   "source": [
    "# prepare some data\n",
    "x = [1, 2, 3, 4, 5]\n",
    "y = [4, 5, 5, 7, 2]\n",
    "\n",
    "# set output to static HTML file\n",
    "output_file(filename=\"standalone_filename.html\", title=\"Static HTML file\")\n",
    "\n",
    "# create a new plot with a specific size\n",
    "p = figure(sizing_mode=\"stretch_width\", max_width=500, height=250)\n",
    "\n",
    "# add a circle renderer\n",
    "circle = p.circle(x, y, fill_color=\"red\", size=15)\n",
    "\n",
    "# save the results to a file\n",
    "save(p)"
   ]
  },
  {
   "cell_type": "markdown",
   "id": "10c4ec17",
   "metadata": {},
   "source": [
    "# Displaying in Jupyter notebook"
   ]
  },
  {
   "cell_type": "code",
   "execution_count": 47,
   "id": "f8eb15d6",
   "metadata": {},
   "outputs": [],
   "source": [
    "N = 4000\n",
    "x = np.random.random(size=N)*100\n",
    "y = np.random.random(size=N)*100\n",
    "radii = np.random.random(size=N)*1.5\n",
    "colors = ['#%02x%02x%02x' % (int(r), int(g), 150) for r, g in zip(np.floor(50+2*x), np.floor(30+2*y))]"
   ]
  },
  {
   "cell_type": "code",
   "execution_count": 48,
   "id": "67a9ee45",
   "metadata": {},
   "outputs": [
    {
     "data": {
      "text/html": [
       "<div class=\"bk-root\">\n",
       "        <a href=\"https://bokeh.org\" target=\"_blank\" class=\"bk-logo bk-logo-small bk-logo-notebook\"></a>\n",
       "        <span id=\"10696\">Loading BokehJS ...</span>\n",
       "    </div>\n"
      ]
     },
     "metadata": {},
     "output_type": "display_data"
    },
    {
     "data": {
      "application/javascript": [
       "(function(root) {\n",
       "  function now() {\n",
       "    return new Date();\n",
       "  }\n",
       "\n",
       "  const force = true;\n",
       "\n",
       "  if (typeof root._bokeh_onload_callbacks === \"undefined\" || force === true) {\n",
       "    root._bokeh_onload_callbacks = [];\n",
       "    root._bokeh_is_loading = undefined;\n",
       "  }\n",
       "\n",
       "const JS_MIME_TYPE = 'application/javascript';\n",
       "  const HTML_MIME_TYPE = 'text/html';\n",
       "  const EXEC_MIME_TYPE = 'application/vnd.bokehjs_exec.v0+json';\n",
       "  const CLASS_NAME = 'output_bokeh rendered_html';\n",
       "\n",
       "  /**\n",
       "   * Render data to the DOM node\n",
       "   */\n",
       "  function render(props, node) {\n",
       "    const script = document.createElement(\"script\");\n",
       "    node.appendChild(script);\n",
       "  }\n",
       "\n",
       "  /**\n",
       "   * Handle when an output is cleared or removed\n",
       "   */\n",
       "  function handleClearOutput(event, handle) {\n",
       "    const cell = handle.cell;\n",
       "\n",
       "    const id = cell.output_area._bokeh_element_id;\n",
       "    const server_id = cell.output_area._bokeh_server_id;\n",
       "    // Clean up Bokeh references\n",
       "    if (id != null && id in Bokeh.index) {\n",
       "      Bokeh.index[id].model.document.clear();\n",
       "      delete Bokeh.index[id];\n",
       "    }\n",
       "\n",
       "    if (server_id !== undefined) {\n",
       "      // Clean up Bokeh references\n",
       "      const cmd_clean = \"from bokeh.io.state import curstate; print(curstate().uuid_to_server['\" + server_id + \"'].get_sessions()[0].document.roots[0]._id)\";\n",
       "      cell.notebook.kernel.execute(cmd_clean, {\n",
       "        iopub: {\n",
       "          output: function(msg) {\n",
       "            const id = msg.content.text.trim();\n",
       "            if (id in Bokeh.index) {\n",
       "              Bokeh.index[id].model.document.clear();\n",
       "              delete Bokeh.index[id];\n",
       "            }\n",
       "          }\n",
       "        }\n",
       "      });\n",
       "      // Destroy server and session\n",
       "      const cmd_destroy = \"import bokeh.io.notebook as ion; ion.destroy_server('\" + server_id + \"')\";\n",
       "      cell.notebook.kernel.execute(cmd_destroy);\n",
       "    }\n",
       "  }\n",
       "\n",
       "  /**\n",
       "   * Handle when a new output is added\n",
       "   */\n",
       "  function handleAddOutput(event, handle) {\n",
       "    const output_area = handle.output_area;\n",
       "    const output = handle.output;\n",
       "\n",
       "    // limit handleAddOutput to display_data with EXEC_MIME_TYPE content only\n",
       "    if ((output.output_type != \"display_data\") || (!Object.prototype.hasOwnProperty.call(output.data, EXEC_MIME_TYPE))) {\n",
       "      return\n",
       "    }\n",
       "\n",
       "    const toinsert = output_area.element.find(\".\" + CLASS_NAME.split(' ')[0]);\n",
       "\n",
       "    if (output.metadata[EXEC_MIME_TYPE][\"id\"] !== undefined) {\n",
       "      toinsert[toinsert.length - 1].firstChild.textContent = output.data[JS_MIME_TYPE];\n",
       "      // store reference to embed id on output_area\n",
       "      output_area._bokeh_element_id = output.metadata[EXEC_MIME_TYPE][\"id\"];\n",
       "    }\n",
       "    if (output.metadata[EXEC_MIME_TYPE][\"server_id\"] !== undefined) {\n",
       "      const bk_div = document.createElement(\"div\");\n",
       "      bk_div.innerHTML = output.data[HTML_MIME_TYPE];\n",
       "      const script_attrs = bk_div.children[0].attributes;\n",
       "      for (let i = 0; i < script_attrs.length; i++) {\n",
       "        toinsert[toinsert.length - 1].firstChild.setAttribute(script_attrs[i].name, script_attrs[i].value);\n",
       "        toinsert[toinsert.length - 1].firstChild.textContent = bk_div.children[0].textContent\n",
       "      }\n",
       "      // store reference to server id on output_area\n",
       "      output_area._bokeh_server_id = output.metadata[EXEC_MIME_TYPE][\"server_id\"];\n",
       "    }\n",
       "  }\n",
       "\n",
       "  function register_renderer(events, OutputArea) {\n",
       "\n",
       "    function append_mime(data, metadata, element) {\n",
       "      // create a DOM node to render to\n",
       "      const toinsert = this.create_output_subarea(\n",
       "        metadata,\n",
       "        CLASS_NAME,\n",
       "        EXEC_MIME_TYPE\n",
       "      );\n",
       "      this.keyboard_manager.register_events(toinsert);\n",
       "      // Render to node\n",
       "      const props = {data: data, metadata: metadata[EXEC_MIME_TYPE]};\n",
       "      render(props, toinsert[toinsert.length - 1]);\n",
       "      element.append(toinsert);\n",
       "      return toinsert\n",
       "    }\n",
       "\n",
       "    /* Handle when an output is cleared or removed */\n",
       "    events.on('clear_output.CodeCell', handleClearOutput);\n",
       "    events.on('delete.Cell', handleClearOutput);\n",
       "\n",
       "    /* Handle when a new output is added */\n",
       "    events.on('output_added.OutputArea', handleAddOutput);\n",
       "\n",
       "    /**\n",
       "     * Register the mime type and append_mime function with output_area\n",
       "     */\n",
       "    OutputArea.prototype.register_mime_type(EXEC_MIME_TYPE, append_mime, {\n",
       "      /* Is output safe? */\n",
       "      safe: true,\n",
       "      /* Index of renderer in `output_area.display_order` */\n",
       "      index: 0\n",
       "    });\n",
       "  }\n",
       "\n",
       "  // register the mime type if in Jupyter Notebook environment and previously unregistered\n",
       "  if (root.Jupyter !== undefined) {\n",
       "    const events = require('base/js/events');\n",
       "    const OutputArea = require('notebook/js/outputarea').OutputArea;\n",
       "\n",
       "    if (OutputArea.prototype.mime_types().indexOf(EXEC_MIME_TYPE) == -1) {\n",
       "      register_renderer(events, OutputArea);\n",
       "    }\n",
       "  }\n",
       "  if (typeof (root._bokeh_timeout) === \"undefined\" || force === true) {\n",
       "    root._bokeh_timeout = Date.now() + 5000;\n",
       "    root._bokeh_failed_load = false;\n",
       "  }\n",
       "\n",
       "  const NB_LOAD_WARNING = {'data': {'text/html':\n",
       "     \"<div style='background-color: #fdd'>\\n\"+\n",
       "     \"<p>\\n\"+\n",
       "     \"BokehJS does not appear to have successfully loaded. If loading BokehJS from CDN, this \\n\"+\n",
       "     \"may be due to a slow or bad network connection. Possible fixes:\\n\"+\n",
       "     \"</p>\\n\"+\n",
       "     \"<ul>\\n\"+\n",
       "     \"<li>re-rerun `output_notebook()` to attempt to load from CDN again, or</li>\\n\"+\n",
       "     \"<li>use INLINE resources instead, as so:</li>\\n\"+\n",
       "     \"</ul>\\n\"+\n",
       "     \"<code>\\n\"+\n",
       "     \"from bokeh.resources import INLINE\\n\"+\n",
       "     \"output_notebook(resources=INLINE)\\n\"+\n",
       "     \"</code>\\n\"+\n",
       "     \"</div>\"}};\n",
       "\n",
       "  function display_loaded() {\n",
       "    const el = document.getElementById(\"10696\");\n",
       "    if (el != null) {\n",
       "      el.textContent = \"BokehJS is loading...\";\n",
       "    }\n",
       "    if (root.Bokeh !== undefined) {\n",
       "      if (el != null) {\n",
       "        el.textContent = \"BokehJS \" + root.Bokeh.version + \" successfully loaded.\";\n",
       "      }\n",
       "    } else if (Date.now() < root._bokeh_timeout) {\n",
       "      setTimeout(display_loaded, 100)\n",
       "    }\n",
       "  }\n",
       "\n",
       "  function run_callbacks() {\n",
       "    try {\n",
       "      root._bokeh_onload_callbacks.forEach(function(callback) {\n",
       "        if (callback != null)\n",
       "          callback();\n",
       "      });\n",
       "    } finally {\n",
       "      delete root._bokeh_onload_callbacks\n",
       "    }\n",
       "    console.debug(\"Bokeh: all callbacks have finished\");\n",
       "  }\n",
       "\n",
       "  function load_libs(css_urls, js_urls, callback) {\n",
       "    if (css_urls == null) css_urls = [];\n",
       "    if (js_urls == null) js_urls = [];\n",
       "\n",
       "    root._bokeh_onload_callbacks.push(callback);\n",
       "    if (root._bokeh_is_loading > 0) {\n",
       "      console.debug(\"Bokeh: BokehJS is being loaded, scheduling callback at\", now());\n",
       "      return null;\n",
       "    }\n",
       "    if (js_urls == null || js_urls.length === 0) {\n",
       "      run_callbacks();\n",
       "      return null;\n",
       "    }\n",
       "    console.debug(\"Bokeh: BokehJS not loaded, scheduling load and callback at\", now());\n",
       "    root._bokeh_is_loading = css_urls.length + js_urls.length;\n",
       "\n",
       "    function on_load() {\n",
       "      root._bokeh_is_loading--;\n",
       "      if (root._bokeh_is_loading === 0) {\n",
       "        console.debug(\"Bokeh: all BokehJS libraries/stylesheets loaded\");\n",
       "        run_callbacks()\n",
       "      }\n",
       "    }\n",
       "\n",
       "    function on_error(url) {\n",
       "      console.error(\"failed to load \" + url);\n",
       "    }\n",
       "\n",
       "    for (let i = 0; i < css_urls.length; i++) {\n",
       "      const url = css_urls[i];\n",
       "      const element = document.createElement(\"link\");\n",
       "      element.onload = on_load;\n",
       "      element.onerror = on_error.bind(null, url);\n",
       "      element.rel = \"stylesheet\";\n",
       "      element.type = \"text/css\";\n",
       "      element.href = url;\n",
       "      console.debug(\"Bokeh: injecting link tag for BokehJS stylesheet: \", url);\n",
       "      document.body.appendChild(element);\n",
       "    }\n",
       "\n",
       "    for (let i = 0; i < js_urls.length; i++) {\n",
       "      const url = js_urls[i];\n",
       "      const element = document.createElement('script');\n",
       "      element.onload = on_load;\n",
       "      element.onerror = on_error.bind(null, url);\n",
       "      element.async = false;\n",
       "      element.src = url;\n",
       "      console.debug(\"Bokeh: injecting script tag for BokehJS library: \", url);\n",
       "      document.head.appendChild(element);\n",
       "    }\n",
       "  };\n",
       "\n",
       "  function inject_raw_css(css) {\n",
       "    const element = document.createElement(\"style\");\n",
       "    element.appendChild(document.createTextNode(css));\n",
       "    document.body.appendChild(element);\n",
       "  }\n",
       "\n",
       "  const js_urls = [\"https://cdn.bokeh.org/bokeh/release/bokeh-2.4.3.min.js\", \"https://cdn.bokeh.org/bokeh/release/bokeh-gl-2.4.3.min.js\", \"https://cdn.bokeh.org/bokeh/release/bokeh-widgets-2.4.3.min.js\", \"https://cdn.bokeh.org/bokeh/release/bokeh-tables-2.4.3.min.js\", \"https://cdn.bokeh.org/bokeh/release/bokeh-mathjax-2.4.3.min.js\"];\n",
       "  const css_urls = [];\n",
       "\n",
       "  const inline_js = [    function(Bokeh) {\n",
       "      Bokeh.set_log_level(\"info\");\n",
       "    },\n",
       "function(Bokeh) {\n",
       "    }\n",
       "  ];\n",
       "\n",
       "  function run_inline_js() {\n",
       "    if (root.Bokeh !== undefined || force === true) {\n",
       "          for (let i = 0; i < inline_js.length; i++) {\n",
       "      inline_js[i].call(root, root.Bokeh);\n",
       "    }\n",
       "if (force === true) {\n",
       "        display_loaded();\n",
       "      }} else if (Date.now() < root._bokeh_timeout) {\n",
       "      setTimeout(run_inline_js, 100);\n",
       "    } else if (!root._bokeh_failed_load) {\n",
       "      console.log(\"Bokeh: BokehJS failed to load within specified timeout.\");\n",
       "      root._bokeh_failed_load = true;\n",
       "    } else if (force !== true) {\n",
       "      const cell = $(document.getElementById(\"10696\")).parents('.cell').data().cell;\n",
       "      cell.output_area.append_execute_result(NB_LOAD_WARNING)\n",
       "    }\n",
       "  }\n",
       "\n",
       "  if (root._bokeh_is_loading === 0) {\n",
       "    console.debug(\"Bokeh: BokehJS loaded, going straight to plotting\");\n",
       "    run_inline_js();\n",
       "  } else {\n",
       "    load_libs(css_urls, js_urls, function() {\n",
       "      console.debug(\"Bokeh: BokehJS plotting callback run at\", now());\n",
       "      run_inline_js();\n",
       "    });\n",
       "  }\n",
       "}(window));"
      ],
      "application/vnd.bokehjs_load.v0+json": "(function(root) {\n  function now() {\n    return new Date();\n  }\n\n  const force = true;\n\n  if (typeof root._bokeh_onload_callbacks === \"undefined\" || force === true) {\n    root._bokeh_onload_callbacks = [];\n    root._bokeh_is_loading = undefined;\n  }\n\n\n  if (typeof (root._bokeh_timeout) === \"undefined\" || force === true) {\n    root._bokeh_timeout = Date.now() + 5000;\n    root._bokeh_failed_load = false;\n  }\n\n  const NB_LOAD_WARNING = {'data': {'text/html':\n     \"<div style='background-color: #fdd'>\\n\"+\n     \"<p>\\n\"+\n     \"BokehJS does not appear to have successfully loaded. If loading BokehJS from CDN, this \\n\"+\n     \"may be due to a slow or bad network connection. Possible fixes:\\n\"+\n     \"</p>\\n\"+\n     \"<ul>\\n\"+\n     \"<li>re-rerun `output_notebook()` to attempt to load from CDN again, or</li>\\n\"+\n     \"<li>use INLINE resources instead, as so:</li>\\n\"+\n     \"</ul>\\n\"+\n     \"<code>\\n\"+\n     \"from bokeh.resources import INLINE\\n\"+\n     \"output_notebook(resources=INLINE)\\n\"+\n     \"</code>\\n\"+\n     \"</div>\"}};\n\n  function display_loaded() {\n    const el = document.getElementById(\"10696\");\n    if (el != null) {\n      el.textContent = \"BokehJS is loading...\";\n    }\n    if (root.Bokeh !== undefined) {\n      if (el != null) {\n        el.textContent = \"BokehJS \" + root.Bokeh.version + \" successfully loaded.\";\n      }\n    } else if (Date.now() < root._bokeh_timeout) {\n      setTimeout(display_loaded, 100)\n    }\n  }\n\n  function run_callbacks() {\n    try {\n      root._bokeh_onload_callbacks.forEach(function(callback) {\n        if (callback != null)\n          callback();\n      });\n    } finally {\n      delete root._bokeh_onload_callbacks\n    }\n    console.debug(\"Bokeh: all callbacks have finished\");\n  }\n\n  function load_libs(css_urls, js_urls, callback) {\n    if (css_urls == null) css_urls = [];\n    if (js_urls == null) js_urls = [];\n\n    root._bokeh_onload_callbacks.push(callback);\n    if (root._bokeh_is_loading > 0) {\n      console.debug(\"Bokeh: BokehJS is being loaded, scheduling callback at\", now());\n      return null;\n    }\n    if (js_urls == null || js_urls.length === 0) {\n      run_callbacks();\n      return null;\n    }\n    console.debug(\"Bokeh: BokehJS not loaded, scheduling load and callback at\", now());\n    root._bokeh_is_loading = css_urls.length + js_urls.length;\n\n    function on_load() {\n      root._bokeh_is_loading--;\n      if (root._bokeh_is_loading === 0) {\n        console.debug(\"Bokeh: all BokehJS libraries/stylesheets loaded\");\n        run_callbacks()\n      }\n    }\n\n    function on_error(url) {\n      console.error(\"failed to load \" + url);\n    }\n\n    for (let i = 0; i < css_urls.length; i++) {\n      const url = css_urls[i];\n      const element = document.createElement(\"link\");\n      element.onload = on_load;\n      element.onerror = on_error.bind(null, url);\n      element.rel = \"stylesheet\";\n      element.type = \"text/css\";\n      element.href = url;\n      console.debug(\"Bokeh: injecting link tag for BokehJS stylesheet: \", url);\n      document.body.appendChild(element);\n    }\n\n    for (let i = 0; i < js_urls.length; i++) {\n      const url = js_urls[i];\n      const element = document.createElement('script');\n      element.onload = on_load;\n      element.onerror = on_error.bind(null, url);\n      element.async = false;\n      element.src = url;\n      console.debug(\"Bokeh: injecting script tag for BokehJS library: \", url);\n      document.head.appendChild(element);\n    }\n  };\n\n  function inject_raw_css(css) {\n    const element = document.createElement(\"style\");\n    element.appendChild(document.createTextNode(css));\n    document.body.appendChild(element);\n  }\n\n  const js_urls = [\"https://cdn.bokeh.org/bokeh/release/bokeh-2.4.3.min.js\", \"https://cdn.bokeh.org/bokeh/release/bokeh-gl-2.4.3.min.js\", \"https://cdn.bokeh.org/bokeh/release/bokeh-widgets-2.4.3.min.js\", \"https://cdn.bokeh.org/bokeh/release/bokeh-tables-2.4.3.min.js\", \"https://cdn.bokeh.org/bokeh/release/bokeh-mathjax-2.4.3.min.js\"];\n  const css_urls = [];\n\n  const inline_js = [    function(Bokeh) {\n      Bokeh.set_log_level(\"info\");\n    },\nfunction(Bokeh) {\n    }\n  ];\n\n  function run_inline_js() {\n    if (root.Bokeh !== undefined || force === true) {\n          for (let i = 0; i < inline_js.length; i++) {\n      inline_js[i].call(root, root.Bokeh);\n    }\nif (force === true) {\n        display_loaded();\n      }} else if (Date.now() < root._bokeh_timeout) {\n      setTimeout(run_inline_js, 100);\n    } else if (!root._bokeh_failed_load) {\n      console.log(\"Bokeh: BokehJS failed to load within specified timeout.\");\n      root._bokeh_failed_load = true;\n    } else if (force !== true) {\n      const cell = $(document.getElementById(\"10696\")).parents('.cell').data().cell;\n      cell.output_area.append_execute_result(NB_LOAD_WARNING)\n    }\n  }\n\n  if (root._bokeh_is_loading === 0) {\n    console.debug(\"Bokeh: BokehJS loaded, going straight to plotting\");\n    run_inline_js();\n  } else {\n    load_libs(css_urls, js_urls, function() {\n      console.debug(\"Bokeh: BokehJS plotting callback run at\", now());\n      run_inline_js();\n    });\n  }\n}(window));"
     },
     "metadata": {},
     "output_type": "display_data"
    }
   ],
   "source": [
    "output_notebook()"
   ]
  },
  {
   "cell_type": "code",
   "execution_count": 49,
   "id": "f23ad704",
   "metadata": {},
   "outputs": [
    {
     "data": {
      "text/html": [
       "<div style=\"display: table;\"><div style=\"display: table-row;\"><div style=\"display: table-cell;\"><b title=\"bokeh.models.renderers.GlyphRenderer\">GlyphRenderer</b>(</div><div style=\"display: table-cell;\">id&nbsp;=&nbsp;'10732', <span id=\"10735\" style=\"cursor: pointer;\">&hellip;)</span></div></div><div class=\"10734\" style=\"display: none;\"><div style=\"display: table-cell;\"></div><div style=\"display: table-cell;\">coordinates&nbsp;=&nbsp;None,</div></div><div class=\"10734\" style=\"display: none;\"><div style=\"display: table-cell;\"></div><div style=\"display: table-cell;\">data_source&nbsp;=&nbsp;ColumnDataSource(id='10728', ...),</div></div><div class=\"10734\" style=\"display: none;\"><div style=\"display: table-cell;\"></div><div style=\"display: table-cell;\">glyph&nbsp;=&nbsp;Circle(id='10729', ...),</div></div><div class=\"10734\" style=\"display: none;\"><div style=\"display: table-cell;\"></div><div style=\"display: table-cell;\">group&nbsp;=&nbsp;None,</div></div><div class=\"10734\" style=\"display: none;\"><div style=\"display: table-cell;\"></div><div style=\"display: table-cell;\">hover_glyph&nbsp;=&nbsp;None,</div></div><div class=\"10734\" style=\"display: none;\"><div style=\"display: table-cell;\"></div><div style=\"display: table-cell;\">js_event_callbacks&nbsp;=&nbsp;{},</div></div><div class=\"10734\" style=\"display: none;\"><div style=\"display: table-cell;\"></div><div style=\"display: table-cell;\">js_property_callbacks&nbsp;=&nbsp;{},</div></div><div class=\"10734\" style=\"display: none;\"><div style=\"display: table-cell;\"></div><div style=\"display: table-cell;\">level&nbsp;=&nbsp;'glyph',</div></div><div class=\"10734\" style=\"display: none;\"><div style=\"display: table-cell;\"></div><div style=\"display: table-cell;\">muted&nbsp;=&nbsp;False,</div></div><div class=\"10734\" style=\"display: none;\"><div style=\"display: table-cell;\"></div><div style=\"display: table-cell;\">muted_glyph&nbsp;=&nbsp;Circle(id='10731', ...),</div></div><div class=\"10734\" style=\"display: none;\"><div style=\"display: table-cell;\"></div><div style=\"display: table-cell;\">name&nbsp;=&nbsp;None,</div></div><div class=\"10734\" style=\"display: none;\"><div style=\"display: table-cell;\"></div><div style=\"display: table-cell;\">nonselection_glyph&nbsp;=&nbsp;Circle(id='10730', ...),</div></div><div class=\"10734\" style=\"display: none;\"><div style=\"display: table-cell;\"></div><div style=\"display: table-cell;\">selection_glyph&nbsp;=&nbsp;'auto',</div></div><div class=\"10734\" style=\"display: none;\"><div style=\"display: table-cell;\"></div><div style=\"display: table-cell;\">subscribed_events&nbsp;=&nbsp;[],</div></div><div class=\"10734\" style=\"display: none;\"><div style=\"display: table-cell;\"></div><div style=\"display: table-cell;\">syncable&nbsp;=&nbsp;True,</div></div><div class=\"10734\" style=\"display: none;\"><div style=\"display: table-cell;\"></div><div style=\"display: table-cell;\">tags&nbsp;=&nbsp;[],</div></div><div class=\"10734\" style=\"display: none;\"><div style=\"display: table-cell;\"></div><div style=\"display: table-cell;\">view&nbsp;=&nbsp;CDSView(id='10733', ...),</div></div><div class=\"10734\" style=\"display: none;\"><div style=\"display: table-cell;\"></div><div style=\"display: table-cell;\">visible&nbsp;=&nbsp;True,</div></div><div class=\"10734\" style=\"display: none;\"><div style=\"display: table-cell;\"></div><div style=\"display: table-cell;\">x_range_name&nbsp;=&nbsp;'default',</div></div><div class=\"10734\" style=\"display: none;\"><div style=\"display: table-cell;\"></div><div style=\"display: table-cell;\">y_range_name&nbsp;=&nbsp;'default')</div></div></div>\n",
       "<script>\n",
       "(function() {\n",
       "  let expanded = false;\n",
       "  const ellipsis = document.getElementById(\"10735\");\n",
       "  ellipsis.addEventListener(\"click\", function() {\n",
       "    const rows = document.getElementsByClassName(\"10734\");\n",
       "    for (let i = 0; i < rows.length; i++) {\n",
       "      const el = rows[i];\n",
       "      el.style.display = expanded ? \"none\" : \"table-row\";\n",
       "    }\n",
       "    ellipsis.innerHTML = expanded ? \"&hellip;)\" : \"&lsaquo;&lsaquo;&lsaquo;\";\n",
       "    expanded = !expanded;\n",
       "  });\n",
       "})();\n",
       "</script>\n"
      ],
      "text/plain": [
       "GlyphRenderer(id='10732', ...)"
      ]
     },
     "execution_count": 49,
     "metadata": {},
     "output_type": "execute_result"
    }
   ],
   "source": [
    "p = figure()\n",
    "p.circle(x, y, radius=radii, fill_color= colors, fill_alpha=0.6, line_color=None)"
   ]
  },
  {
   "cell_type": "code",
   "execution_count": 50,
   "id": "32d299b3",
   "metadata": {},
   "outputs": [
    {
     "data": {
      "text/html": [
       "\n",
       "  <div class=\"bk-root\" id=\"abb931ef-f564-4f1e-98bf-38827cc54ecd\" data-root-id=\"10697\"></div>\n"
      ]
     },
     "metadata": {},
     "output_type": "display_data"
    },
    {
     "data": {
      "application/javascript": [
       "(function(root) {\n",
       "  function embed_document(root) {\n",
       "  const docs_json = {\"c8cc4b3c-f898-4857-a089-4765d60411df\":{\"defs\":[],\"roots\":{\"references\":[{\"attributes\":{\"background_fill_color\":\"#20262B\",\"below\":[{\"id\":\"10706\"}],\"border_fill_color\":\"#15191C\",\"center\":[{\"id\":\"10709\"},{\"id\":\"10713\"}],\"left\":[{\"id\":\"10710\"}],\"outline_line_alpha\":0.25,\"outline_line_color\":\"#E0E0E0\",\"renderers\":[{\"id\":\"10732\"}],\"title\":{\"id\":\"11170\"},\"toolbar\":{\"id\":\"10721\"},\"x_range\":{\"id\":\"10698\"},\"x_scale\":{\"id\":\"10702\"},\"y_range\":{\"id\":\"10700\"},\"y_scale\":{\"id\":\"10704\"}},\"id\":\"10697\",\"subtype\":\"Figure\",\"type\":\"Plot\"},{\"attributes\":{},\"id\":\"11177\",\"type\":\"AllLabels\"},{\"attributes\":{\"data\":{\"fill_color\":[\"#bb9696\",\"#de6c96\",\"#b77596\",\"#db3396\",\"#9cc996\",\"#e08796\",\"#6c4796\",\"#b29596\",\"#4d9b96\",\"#72b196\",\"#ea8396\",\"#4c7496\",\"#c36d96\",\"#8f3096\",\"#5d8996\",\"#6bb796\",\"#979e96\",\"#769996\",\"#c69796\",\"#cb7c96\",\"#e47a96\",\"#b35096\",\"#d5d196\",\"#a2ab96\",\"#3a2b96\",\"#587996\",\"#833b96\",\"#909896\",\"#417296\",\"#97e296\",\"#518596\",\"#da5f96\",\"#386d96\",\"#e6d296\",\"#4db496\",\"#498296\",\"#7a8496\",\"#9d3696\",\"#ddd496\",\"#6d2096\",\"#d74396\",\"#81d796\",\"#d43f96\",\"#dd4b96\",\"#cf2c96\",\"#e7c996\",\"#665a96\",\"#bca196\",\"#3e4096\",\"#f59796\",\"#a03796\",\"#b66596\",\"#ac6896\",\"#c97296\",\"#47b096\",\"#a84596\",\"#6c5d96\",\"#883d96\",\"#7e8e96\",\"#ed2096\",\"#7ba696\",\"#f79f96\",\"#d4bc96\",\"#803496\",\"#896596\",\"#c97796\",\"#666496\",\"#8a7996\",\"#526196\",\"#b1e496\",\"#ee4496\",\"#873696\",\"#323796\",\"#91db96\",\"#69bb96\",\"#51e296\",\"#ce9c96\",\"#3c2f96\",\"#81a596\",\"#ca2e96\",\"#8b4796\",\"#763896\",\"#8a9e96\",\"#7e3196\",\"#96d696\",\"#e4b896\",\"#63bf96\",\"#672296\",\"#d09796\",\"#e56596\",\"#68cd96\",\"#416f96\",\"#70c196\",\"#635296\",\"#ed7496\",\"#c45796\",\"#565996\",\"#baaf96\",\"#e0d696\",\"#d77c96\",\"#ac8f96\",\"#94b896\",\"#e5c596\",\"#c1c196\",\"#608f96\",\"#942d96\",\"#824d96\",\"#b86e96\",\"#66ce96\",\"#5cb196\",\"#99cb96\",\"#b27396\",\"#642f96\",\"#af6196\",\"#756996\",\"#8d5196\",\"#a8a596\",\"#ba4096\",\"#ca6296\",\"#e27396\",\"#c97396\",\"#742596\",\"#bda396\",\"#ac3296\",\"#636496\",\"#3adf96\",\"#648796\",\"#4c8696\",\"#978996\",\"#6ed496\",\"#443d96\",\"#9c5c96\",\"#bf6896\",\"#e85096\",\"#59a196\",\"#df4096\",\"#625696\",\"#902896\",\"#76e096\",\"#b03e96\",\"#9de496\",\"#d57d96\",\"#a44296\",\"#492196\",\"#c0c296\",\"#7a6d96\",\"#559c96\",\"#9a1e96\",\"#3dd196\",\"#a4a096\",\"#cc8396\",\"#64ca96\",\"#a6e196\",\"#5e4e96\",\"#5cad96\",\"#40c296\",\"#65af96\",\"#9fb096\",\"#67e496\",\"#4ba796\",\"#d42796\",\"#853c96\",\"#897196\",\"#703096\",\"#a76696\",\"#367696\",\"#df7f96\",\"#f61f96\",\"#54a296\",\"#38a996\",\"#5fa596\",\"#c92a96\",\"#76a096\",\"#f2d996\",\"#ea6a96\",\"#cdc096\",\"#7a8496\",\"#e77f96\",\"#469a96\",\"#91db96\",\"#8a6c96\",\"#3e9996\",\"#954e96\",\"#7ba596\",\"#e9d796\",\"#f49696\",\"#ba9796\",\"#e47296\",\"#3fdd96\",\"#347c96\",\"#7a8b96\",\"#343d96\",\"#df7896\",\"#72d996\",\"#cb4996\",\"#6ce596\",\"#c64496\",\"#caad96\",\"#9c2196\",\"#624c96\",\"#623d96\",\"#607496\",\"#364796\",\"#e32596\",\"#8d9796\",\"#738c96\",\"#9eca96\",\"#462c96\",\"#3c4f96\",\"#f82096\",\"#d34696\",\"#786e96\",\"#4b2d96\",\"#e67e96\",\"#3b3a96\",\"#666696\",\"#60cb96\",\"#e24796\",\"#b84f96\",\"#d69596\",\"#58de96\",\"#64dc96\",\"#baac96\",\"#4e5996\",\"#dd5696\",\"#6c6396\",\"#99b896\",\"#a23696\",\"#bbc296\",\"#8e7696\",\"#e34296\",\"#736596\",\"#676196\",\"#cc3196\",\"#4cc796\",\"#f69296\",\"#943596\",\"#67b096\",\"#58af96\",\"#4d4096\",\"#387996\",\"#c9e596\",\"#8b5196\",\"#587396\",\"#9c7196\",\"#ead196\",\"#53e596\",\"#e66596\",\"#438096\",\"#457f96\",\"#a35496\",\"#a5e196\",\"#a62796\",\"#c24696\",\"#4e3796\",\"#cd9596\",\"#a13596\",\"#586e96\",\"#8d3796\",\"#5d9896\",\"#4de596\",\"#67e096\",\"#428a96\",\"#e24596\",\"#d87a96\",\"#c83496\",\"#ec3896\",\"#8faf96\",\"#f9b896\",\"#9ac696\",\"#db3396\",\"#dc8f96\",\"#843796\",\"#b5b096\",\"#664796\",\"#dbb196\",\"#a4b596\",\"#947296\",\"#3e9196\",\"#727396\",\"#af3796\",\"#589f96\",\"#e85596\",\"#479f96\",\"#69b296\",\"#b08496\",\"#a08496\",\"#aecf96\",\"#af4796\",\"#32a696\",\"#a3e096\",\"#7dbf96\",\"#7bcc96\",\"#eabe96\",\"#43a796\",\"#a16696\",\"#329996\",\"#ac8b96\",\"#438b96\",\"#e27696\",\"#6ba296\",\"#8d7d96\",\"#4a4896\",\"#4fbf96\",\"#6d3196\",\"#eb7f96\",\"#aeb096\",\"#966596\",\"#821e96\",\"#4fb396\",\"#e35396\",\"#6d9d96\",\"#b05696\",\"#e8de96\",\"#b73f96\",\"#60d996\",\"#f18296\",\"#5b7e96\",\"#3eda96\",\"#d7a996\",\"#8c9f96\",\"#e98396\",\"#68ab96\",\"#c96f96\",\"#637b96\",\"#f28d96\",\"#aea096\",\"#c93a96\",\"#854496\",\"#aa8396\",\"#a7ca96\",\"#48a396\",\"#f9a096\",\"#d66c96\",\"#54d896\",\"#a95096\",\"#3cbb96\",\"#5e7f96\",\"#412d96\",\"#539e96\",\"#b68a96\",\"#8c2196\",\"#d37896\",\"#946f96\",\"#3d5896\",\"#ad2996\",\"#33c996\",\"#768b96\",\"#c86196\",\"#3b2b96\",\"#8c4496\",\"#d69a96\",\"#3a5196\",\"#f92e96\",\"#acbe96\",\"#c23896\",\"#eeae96\",\"#f98e96\",\"#667496\",\"#3bd896\",\"#8daa96\",\"#8da996\",\"#9da496\",\"#84a496\",\"#9a4796\",\"#edae96\",\"#cbce96\",\"#7c4d96\",\"#78c996\",\"#d76c96\",\"#e72196\",\"#4a3e96\",\"#76e396\",\"#524996\",\"#5b3d96\",\"#e9db96\",\"#afad96\",\"#f6ca96\",\"#72a896\",\"#82a896\",\"#377896\",\"#587b96\",\"#70af96\",\"#d93496\",\"#3fdc96\",\"#89b096\",\"#8ddf96\",\"#515796\",\"#f06596\",\"#7ca096\",\"#988196\",\"#8ce096\",\"#8b8e96\",\"#85d696\",\"#bf3a96\",\"#937c96\",\"#aac396\",\"#3d4e96\",\"#5dd596\",\"#9cbd96\",\"#f4aa96\",\"#f43e96\",\"#5f5596\",\"#d3b396\",\"#7b8096\",\"#a7c696\",\"#d3e296\",\"#a55c96\",\"#3edb96\",\"#6de196\",\"#e6c396\",\"#a69d96\",\"#6fc496\",\"#99b196\",\"#7ddf96\",\"#424e96\",\"#672696\",\"#dca896\",\"#57e296\",\"#908096\",\"#c12b96\",\"#67e596\",\"#aa6696\",\"#9eb196\",\"#71ba96\",\"#342796\",\"#af9696\",\"#bd9396\",\"#e4ad96\",\"#9d4a96\",\"#936896\",\"#c17796\",\"#df7796\",\"#bf9e96\",\"#f1b596\",\"#613f96\",\"#c34896\",\"#89bc96\",\"#b18b96\",\"#808796\",\"#5da296\",\"#e74296\",\"#893096\",\"#42b296\",\"#508c96\",\"#357396\",\"#ec4996\",\"#972c96\",\"#a13296\",\"#6db996\",\"#ed7096\",\"#5f9e96\",\"#4e8496\",\"#bc8596\",\"#5e5d96\",\"#a08696\",\"#a04c96\",\"#a94496\",\"#b3bd96\",\"#849696\",\"#f98a96\",\"#3e3596\",\"#5d4296\",\"#ad5196\",\"#369396\",\"#5a5896\",\"#e82996\",\"#97d896\",\"#bbb696\",\"#d86196\",\"#e26096\",\"#be7996\",\"#a26096\",\"#af4996\",\"#d94296\",\"#7ba996\",\"#8ad196\",\"#4b4996\",\"#594a96\",\"#d1bd96\",\"#97c296\",\"#883696\",\"#ab2e96\",\"#a09f96\",\"#5e3596\",\"#c7c196\",\"#4ed196\",\"#c8c896\",\"#784696\",\"#f88596\",\"#327796\",\"#9fc696\",\"#3b3896\",\"#594896\",\"#a77c96\",\"#ef3a96\",\"#3d8e96\",\"#73cc96\",\"#bb2096\",\"#909296\",\"#f67b96\",\"#c8e596\",\"#8e5296\",\"#ba4396\",\"#e7c196\",\"#db3c96\",\"#8ecf96\",\"#878f96\",\"#c2bf96\",\"#656896\",\"#d49a96\",\"#cbc696\",\"#f44b96\",\"#d69e96\",\"#353b96\",\"#859096\",\"#6f9896\",\"#e66e96\",\"#f92c96\",\"#54b296\",\"#b6de96\",\"#a39896\",\"#7a7f96\",\"#a46696\",\"#b73296\",\"#8ee196\",\"#975b96\",\"#da4696\",\"#704896\",\"#6f6196\",\"#844296\",\"#bf6096\",\"#595096\",\"#aeb996\",\"#5f8e96\",\"#918f96\",\"#caa596\",\"#a86396\",\"#d73e96\",\"#757896\",\"#c52696\",\"#4ca496\",\"#578396\",\"#e7d796\",\"#c23496\",\"#b89496\",\"#3c4796\",\"#91c696\",\"#7c8d96\",\"#d55396\",\"#8a8c96\",\"#84a596\",\"#358c96\",\"#bf9496\",\"#f37d96\",\"#83e096\",\"#f05896\",\"#e85996\",\"#85ba96\",\"#ae5396\",\"#d18c96\",\"#559f96\",\"#af7b96\",\"#347496\",\"#e39496\",\"#53a896\",\"#438096\",\"#a61e96\",\"#cd3d96\",\"#794096\",\"#da6396\",\"#d17196\",\"#675b96\",\"#b2c096\",\"#aa9496\",\"#d3d196\",\"#69c896\",\"#892f96\",\"#8a7c96\",\"#3f6796\",\"#372b96\",\"#d9e596\",\"#e67096\",\"#e96796\",\"#88b596\",\"#ed9d96\",\"#908396\",\"#425896\",\"#a99696\",\"#642996\",\"#6cae96\",\"#b18396\",\"#90a396\",\"#3b2e96\",\"#8d4696\",\"#3cb596\",\"#cb9d96\",\"#402596\",\"#81b496\",\"#669a96\",\"#7fa796\",\"#ae9d96\",\"#91b296\",\"#948296\",\"#8a7996\",\"#356196\",\"#85d396\",\"#c7de96\",\"#92b896\",\"#71e296\",\"#396196\",\"#a49796\",\"#5dcd96\",\"#83b596\",\"#7bbb96\",\"#437e96\",\"#6c3496\",\"#6a5596\",\"#f7a196\",\"#328596\",\"#9d2596\",\"#8cd396\",\"#7c3496\",\"#6c5c96\",\"#d07496\",\"#d25096\",\"#ab5296\",\"#d32f96\",\"#62bd96\",\"#948996\",\"#922796\",\"#a3a096\",\"#994396\",\"#45de96\",\"#4dcd96\",\"#4bb596\",\"#b82396\",\"#a53f96\",\"#df4c96\",\"#805a96\",\"#d46d96\",\"#e7e496\",\"#58b296\",\"#afcc96\",\"#326c96\",\"#5ab496\",\"#d8a596\",\"#beb796\",\"#375496\",\"#dc3596\",\"#6a3d96\",\"#a65e96\",\"#babb96\",\"#ebbf96\",\"#6a8596\",\"#cfa796\",\"#673596\",\"#f7b796\",\"#e83396\",\"#8f1f96\",\"#e48196\",\"#486c96\",\"#894a96\",\"#c63296\",\"#793e96\",\"#67d396\",\"#bd5796\",\"#48db96\",\"#6dc896\",\"#c93b96\",\"#87d596\",\"#dccd96\",\"#86ca96\",\"#97b096\",\"#ea6296\",\"#df8996\",\"#88d296\",\"#909e96\",\"#4e9c96\",\"#559e96\",\"#756f96\",\"#329996\",\"#56d396\",\"#8ae196\",\"#493696\",\"#588d96\",\"#7e4496\",\"#e87296\",\"#674a96\",\"#a12a96\",\"#357796\",\"#a07b96\",\"#50ab96\",\"#512996\",\"#b29596\",\"#769796\",\"#e27c96\",\"#bc3396\",\"#50b796\",\"#898396\",\"#b99c96\",\"#96aa96\",\"#958296\",\"#a6bd96\",\"#3ce596\",\"#b95a96\",\"#32bb96\",\"#c95596\",\"#a66996\",\"#3d5e96\",\"#cfe296\",\"#76a896\",\"#35c896\",\"#6a7f96\",\"#e8b896\",\"#3aa196\",\"#7b4996\",\"#e57a96\",\"#7f7496\",\"#787796\",\"#3caa96\",\"#5eab96\",\"#a5a196\",\"#dfd796\",\"#406596\",\"#add196\",\"#9a2196\",\"#978196\",\"#3c8f96\",\"#b28596\",\"#81d596\",\"#686296\",\"#8fb296\",\"#714796\",\"#a2bc96\",\"#336996\",\"#3d6996\",\"#975796\",\"#6b2296\",\"#38a696\",\"#c5ca96\",\"#afc496\",\"#7d7b96\",\"#5b7596\",\"#5b2396\",\"#ae9696\",\"#37a996\",\"#619f96\",\"#489396\",\"#845c96\",\"#db6096\",\"#f17896\",\"#808096\",\"#943d96\",\"#845196\",\"#e0bd96\",\"#3fe496\",\"#ce8596\",\"#b15996\",\"#a8c196\",\"#ef9996\",\"#537896\",\"#b07696\",\"#5e6896\",\"#93c796\",\"#d56c96\",\"#aeb696\",\"#7cd896\",\"#952796\",\"#507196\",\"#bcc196\",\"#f85096\",\"#f13396\",\"#bc3d96\",\"#e17296\",\"#3ed796\",\"#42db96\",\"#a66296\",\"#a73c96\",\"#d13d96\",\"#b83596\",\"#3dc396\",\"#b83d96\",\"#513396\",\"#7b2d96\",\"#932e96\",\"#733596\",\"#c15c96\",\"#596896\",\"#80be96\",\"#8e3996\",\"#d68096\",\"#b58e96\",\"#3c8d96\",\"#df8a96\",\"#f0bc96\",\"#517096\",\"#c75996\",\"#d84996\",\"#e7b296\",\"#be8d96\",\"#e94f96\",\"#8a4c96\",\"#cc2696\",\"#b6cf96\",\"#d7c096\",\"#e84e96\",\"#7b7696\",\"#5d6396\",\"#8b3b96\",\"#785e96\",\"#f32c96\",\"#4b4b96\",\"#80ad96\",\"#c79996\",\"#32bf96\",\"#50dc96\",\"#e8cd96\",\"#eb3b96\",\"#41d196\",\"#84b296\",\"#434196\",\"#452296\",\"#54ce96\",\"#ada496\",\"#579596\",\"#667096\",\"#7eac96\",\"#d46996\",\"#492196\",\"#363a96\",\"#bfa696\",\"#949e96\",\"#eb2b96\",\"#c89b96\",\"#5d7996\",\"#80bc96\",\"#667796\",\"#32de96\",\"#5d3496\",\"#63a596\",\"#773796\",\"#6ead96\",\"#9a7996\",\"#efc596\",\"#a58596\",\"#ec9296\",\"#4ce296\",\"#7f3296\",\"#428c96\",\"#85e196\",\"#41a596\",\"#937b96\",\"#8bde96\",\"#b55096\",\"#5c9296\",\"#683196\",\"#8a4f96\",\"#f9b496\",\"#646296\",\"#32aa96\",\"#5f7b96\",\"#458496\",\"#533996\",\"#894196\",\"#9e5896\",\"#c06296\",\"#db4796\",\"#f4b396\",\"#dedc96\",\"#942596\",\"#cf8596\",\"#724d96\",\"#75b696\",\"#812096\",\"#899996\",\"#b47596\",\"#7bd696\",\"#6b6596\",\"#e6ba96\",\"#ef2b96\",\"#673596\",\"#d87396\",\"#ee8d96\",\"#e7e396\",\"#f05d96\",\"#33d296\",\"#803e96\",\"#826096\",\"#67e096\",\"#db9696\",\"#79e296\",\"#41c796\",\"#72d496\",\"#737a96\",\"#7a5996\",\"#6e4896\",\"#e85a96\",\"#73ce96\",\"#4dd796\",\"#7bdd96\",\"#ac6396\",\"#56c696\",\"#4fca96\",\"#998096\",\"#e06796\",\"#963a96\",\"#a4a296\",\"#ee9f96\",\"#408096\",\"#851f96\",\"#68b496\",\"#e12b96\",\"#519796\",\"#4a3b96\",\"#a72a96\",\"#b24a96\",\"#a43b96\",\"#ad2396\",\"#5f8396\",\"#c39796\",\"#5b4496\",\"#ece496\",\"#848996\",\"#6f2496\",\"#ed9396\",\"#be7196\",\"#f22496\",\"#935096\",\"#777396\",\"#c2ae96\",\"#465396\",\"#ea5b96\",\"#81a596\",\"#77cb96\",\"#a95a96\",\"#d5da96\",\"#de3096\",\"#e0c996\",\"#f87b96\",\"#837796\",\"#d43396\",\"#436296\",\"#8b7f96\",\"#c2da96\",\"#3e2896\",\"#328796\",\"#b49096\",\"#d2c396\",\"#c88496\",\"#8a8a96\",\"#5d4a96\",\"#6b2d96\",\"#803c96\",\"#e94d96\",\"#6e6596\",\"#d96696\",\"#819c96\",\"#779b96\",\"#cd4596\",\"#e93a96\",\"#aac596\",\"#336996\",\"#97bc96\",\"#88d296\",\"#e1dd96\",\"#56a496\",\"#d27596\",\"#daa196\",\"#a06b96\",\"#d8b796\",\"#ea4996\",\"#4a6c96\",\"#3f9496\",\"#91b196\",\"#6acd96\",\"#e77596\",\"#4eb096\",\"#f5d796\",\"#5a4d96\",\"#5f6e96\",\"#939896\",\"#562596\",\"#769596\",\"#958496\",\"#8f4096\",\"#e06c96\",\"#6dcd96\",\"#e36d96\",\"#f28096\",\"#b47a96\",\"#7ba296\",\"#6fa296\",\"#6e3b96\",\"#874a96\",\"#d4c196\",\"#ccd196\",\"#be9496\",\"#c18496\",\"#bac096\",\"#b96b96\",\"#4fd696\",\"#da8296\",\"#987e96\",\"#3e8596\",\"#cfd796\",\"#4e8996\",\"#7d9096\",\"#635496\",\"#773696\",\"#738896\",\"#f52896\",\"#553096\",\"#b72796\",\"#514396\",\"#3cb096\",\"#66c896\",\"#a5aa96\",\"#a29396\",\"#9c2196\",\"#61c796\",\"#a22696\",\"#599f96\",\"#739596\",\"#453196\",\"#854b96\",\"#7d5396\",\"#f1b096\",\"#5fb096\",\"#8a3496\",\"#c49396\",\"#75a196\",\"#e0a996\",\"#87a996\",\"#412596\",\"#9fe596\",\"#d8a596\",\"#39c896\",\"#7f8e96\",\"#5c6a96\",\"#46be96\",\"#e59f96\",\"#5d8e96\",\"#ea5096\",\"#d4b396\",\"#528a96\",\"#682f96\",\"#3a8996\",\"#733e96\",\"#a6b196\",\"#92a496\",\"#7a5096\",\"#689196\",\"#872a96\",\"#9f5896\",\"#739196\",\"#35df96\",\"#965896\",\"#f38a96\",\"#744696\",\"#b0ba96\",\"#887f96\",\"#899f96\",\"#812296\",\"#db2f96\",\"#328d96\",\"#924696\",\"#9eb596\",\"#6ca396\",\"#9c3896\",\"#559096\",\"#81d796\",\"#c31f96\",\"#f48796\",\"#aeae96\",\"#e52096\",\"#40ab96\",\"#ca9996\",\"#d85596\",\"#bf7396\",\"#36a296\",\"#7ccb96\",\"#e27296\",\"#6f6e96\",\"#ec2396\",\"#6bd896\",\"#d46e96\",\"#455096\",\"#536796\",\"#9e9796\",\"#aec896\",\"#748996\",\"#8f6196\",\"#a24f96\",\"#a5af96\",\"#aa2696\",\"#9c8f96\",\"#bdc396\",\"#329396\",\"#ebe296\",\"#60c196\",\"#e14996\",\"#d55b96\",\"#466e96\",\"#9d3096\",\"#552b96\",\"#615d96\",\"#3d9996\",\"#d89096\",\"#dba196\",\"#9f8096\",\"#49b296\",\"#efd296\",\"#55c896\",\"#b32096\",\"#a04796\",\"#5fce96\",\"#9aa796\",\"#7f2296\",\"#e7c696\",\"#bf3f96\",\"#339f96\",\"#5e4d96\",\"#d85896\",\"#af4f96\",\"#b79f96\",\"#ed2696\",\"#b85396\",\"#653596\",\"#778796\",\"#577496\",\"#e64696\",\"#b74f96\",\"#dd3196\",\"#e3b896\",\"#614796\",\"#354e96\",\"#a26496\",\"#439e96\",\"#f1b996\",\"#46aa96\",\"#8f9e96\",\"#9a2e96\",\"#7bb296\",\"#378696\",\"#53e296\",\"#9b4396\",\"#9dc396\",\"#4f6396\",\"#f96c96\",\"#52d496\",\"#519996\",\"#34a396\",\"#e1cb96\",\"#392696\",\"#549396\",\"#dc4696\",\"#c55b96\",\"#8b5796\",\"#f63b96\",\"#469996\",\"#ac6a96\",\"#6f9596\",\"#758a96\",\"#f9a496\",\"#abb596\",\"#8f4796\",\"#aa7996\",\"#6c6896\",\"#b65196\",\"#d8b896\",\"#afbe96\",\"#d5bc96\",\"#39e396\",\"#adca96\",\"#519a96\",\"#9c6796\",\"#73b996\",\"#dcc196\",\"#403796\",\"#f88796\",\"#42d996\",\"#cb6d96\",\"#785496\",\"#79c896\",\"#494196\",\"#d97b96\",\"#65c696\",\"#7c3796\",\"#8b4396\",\"#554a96\",\"#b65a96\",\"#e2bc96\",\"#4c7996\",\"#e64396\",\"#cec296\",\"#a2c296\",\"#d0bb96\",\"#69d096\",\"#55dc96\",\"#b05396\",\"#6fcf96\",\"#f52796\",\"#6a4896\",\"#ee2e96\",\"#ee7696\",\"#b8e196\",\"#4a5996\",\"#4d9196\",\"#767196\",\"#d23196\",\"#556a96\",\"#88a596\",\"#a35696\",\"#f0bc96\",\"#5d9896\",\"#c69996\",\"#ad3e96\",\"#6f7796\",\"#bc5e96\",\"#56d296\",\"#44dd96\",\"#6ab796\",\"#eece96\",\"#da6d96\",\"#c1dc96\",\"#793b96\",\"#c79c96\",\"#7b8496\",\"#845c96\",\"#325696\",\"#559596\",\"#337696\",\"#45ce96\",\"#efbf96\",\"#d37296\",\"#798896\",\"#e9a496\",\"#e07296\",\"#407d96\",\"#356c96\",\"#6d3396\",\"#ab8096\",\"#cc8a96\",\"#77ca96\",\"#7e8196\",\"#d9df96\",\"#844096\",\"#9edc96\",\"#e54396\",\"#89c296\",\"#59d896\",\"#9ad096\",\"#96c496\",\"#56b196\",\"#50bf96\",\"#a44696\",\"#942b96\",\"#e48296\",\"#5f5e96\",\"#577296\",\"#58bf96\",\"#485196\",\"#dacc96\",\"#ea4e96\",\"#869f96\",\"#677d96\",\"#473096\",\"#b77696\",\"#64db96\",\"#81c496\",\"#8a7196\",\"#ad8d96\",\"#a4e396\",\"#7cc296\",\"#edc296\",\"#602696\",\"#dddd96\",\"#e8ca96\",\"#5dd496\",\"#bde596\",\"#b28396\",\"#c87296\",\"#98a696\",\"#ad8a96\",\"#a56c96\",\"#f17d96\",\"#adc596\",\"#f4d996\",\"#b56196\",\"#abc796\",\"#d28596\",\"#e29b96\",\"#40be96\",\"#753b96\",\"#ceae96\",\"#83d596\",\"#776796\",\"#e0d596\",\"#839696\",\"#f09796\",\"#96a796\",\"#5dd496\",\"#e09d96\",\"#cc4f96\",\"#588096\",\"#45bf96\",\"#4bdf96\",\"#57d496\",\"#ce6d96\",\"#424e96\",\"#5f1e96\",\"#64bd96\",\"#495296\",\"#352d96\",\"#7bdf96\",\"#5ed596\",\"#b39e96\",\"#3e4596\",\"#3bd496\",\"#f09896\",\"#c5a696\",\"#717896\",\"#328b96\",\"#3d3796\",\"#5bdd96\",\"#55e396\",\"#9be496\",\"#406b96\",\"#3a8696\",\"#794296\",\"#ceb196\",\"#3e4296\",\"#c67596\",\"#4fca96\",\"#aed796\",\"#5ba796\",\"#5f6596\",\"#55e196\",\"#601e96\",\"#615696\",\"#a17d96\",\"#85cf96\",\"#3a6396\",\"#82b996\",\"#919996\",\"#55d996\",\"#827696\",\"#dd5c96\",\"#942f96\",\"#e0c096\",\"#d7e496\",\"#794d96\",\"#515496\",\"#ab3a96\",\"#ea3696\",\"#ea5196\",\"#504c96\",\"#e53796\",\"#75c096\",\"#a47f96\",\"#3c4896\",\"#da7a96\",\"#a04896\",\"#bc5396\",\"#85ad96\",\"#b2b896\",\"#b92696\",\"#ddc796\",\"#9b6996\",\"#5a5996\",\"#533196\",\"#657396\",\"#9c9796\",\"#62cb96\",\"#369a96\",\"#966596\",\"#e32096\",\"#9f7b96\",\"#556a96\",\"#646096\",\"#867196\",\"#964396\",\"#845e96\",\"#965f96\",\"#592996\",\"#ce4496\",\"#4ac196\",\"#d88d96\",\"#813696\",\"#c94c96\",\"#4a2c96\",\"#4c7196\",\"#9f6b96\",\"#a66996\",\"#ecb996\",\"#ee5696\",\"#57d996\",\"#75db96\",\"#59c496\",\"#8e2296\",\"#692896\",\"#cd9896\",\"#50bd96\",\"#7d2596\",\"#664b96\",\"#b6c196\",\"#d17d96\",\"#d57c96\",\"#4b6996\",\"#b49f96\",\"#e37296\",\"#738996\",\"#564996\",\"#b4ae96\",\"#e86896\",\"#4f2696\",\"#934596\",\"#9c5496\",\"#ba3e96\",\"#6dbf96\",\"#585596\",\"#a46196\",\"#46ab96\",\"#f43a96\",\"#44c396\",\"#ecaf96\",\"#d89496\",\"#67b796\",\"#4bc096\",\"#91c196\",\"#81b396\",\"#333096\",\"#eca096\",\"#a85f96\",\"#f23896\",\"#86d596\",\"#cf3c96\",\"#987296\",\"#eb5096\",\"#a9be96\",\"#c38796\",\"#f77696\",\"#d81e96\",\"#769b96\",\"#bb4296\",\"#dc9596\",\"#f6c196\",\"#decf96\",\"#d76d96\",\"#a27496\",\"#d23096\",\"#583e96\",\"#df1e96\",\"#755c96\",\"#b32596\",\"#3f3b96\",\"#cf8996\",\"#a8ba96\",\"#984e96\",\"#51b496\",\"#eeb396\",\"#d53496\",\"#9a4496\",\"#e88896\",\"#66b996\",\"#ae8696\",\"#528d96\",\"#ee2d96\",\"#d89c96\",\"#ed5296\",\"#d2da96\",\"#dbb096\",\"#c17d96\",\"#9a6496\",\"#8d7e96\",\"#4a4896\",\"#adb796\",\"#542a96\",\"#49d496\",\"#e2cf96\",\"#60b396\",\"#cea296\",\"#6a7096\",\"#7f9196\",\"#e14f96\",\"#f83e96\",\"#a75d96\",\"#8ce496\",\"#4be196\",\"#648496\",\"#75b996\",\"#848496\",\"#e14596\",\"#67da96\",\"#cd9b96\",\"#f88d96\",\"#ccbe96\",\"#519996\",\"#de9896\",\"#399196\",\"#561f96\",\"#a56d96\",\"#b75596\",\"#6fe196\",\"#61e296\",\"#a57a96\",\"#a0c196\",\"#5ae296\",\"#93e396\",\"#756e96\",\"#b2ab96\",\"#912e96\",\"#a03796\",\"#4f3c96\",\"#832496\",\"#cd8296\",\"#75c396\",\"#d04996\",\"#c7ab96\",\"#f63996\",\"#bd4596\",\"#f0cb96\",\"#a47396\",\"#a54396\",\"#998c96\",\"#3cac96\",\"#bea396\",\"#43d596\",\"#444696\",\"#99cd96\",\"#aae396\",\"#81cf96\",\"#695e96\",\"#cdce96\",\"#b26596\",\"#5e4a96\",\"#50c896\",\"#de5796\",\"#ee1f96\",\"#ad5b96\",\"#77d796\",\"#b7cf96\",\"#dbe296\",\"#8d8696\",\"#336196\",\"#579e96\",\"#a38b96\",\"#f34796\",\"#e8df96\",\"#cb5c96\",\"#344f96\",\"#3dbe96\",\"#ba7b96\",\"#f15096\",\"#e26796\",\"#874196\",\"#d55c96\",\"#c24696\",\"#3fd496\",\"#6c7c96\",\"#5a3396\",\"#f87b96\",\"#993e96\",\"#65b396\",\"#d72e96\",\"#ca9996\",\"#e35b96\",\"#603696\",\"#6d3796\",\"#4d9196\",\"#714896\",\"#5e8c96\",\"#5f9296\",\"#99bc96\",\"#f2c396\",\"#f5c496\",\"#97ae96\",\"#685296\",\"#357e96\",\"#a85996\",\"#af8d96\",\"#404596\",\"#d3e596\",\"#a98796\",\"#352296\",\"#54cb96\",\"#9f7496\",\"#385a96\",\"#d27896\",\"#33b796\",\"#ae6a96\",\"#f6a596\",\"#683496\",\"#831e96\",\"#b7b296\",\"#5d7496\",\"#b63996\",\"#83ae96\",\"#39b196\",\"#4e9a96\",\"#338496\",\"#903796\",\"#e87196\",\"#928296\",\"#a89e96\",\"#844c96\",\"#c4c696\",\"#498d96\",\"#a3d996\",\"#829896\",\"#4cd796\",\"#a5e196\",\"#88b796\",\"#3fda96\",\"#776996\",\"#ccc496\",\"#d28296\",\"#d23f96\",\"#9aa796\",\"#616296\",\"#bc7f96\",\"#6a1f96\",\"#5d8096\",\"#84ab96\",\"#79d796\",\"#3d5596\",\"#446196\",\"#62d296\",\"#929096\",\"#f29b96\",\"#dd2796\",\"#a26f96\",\"#f87196\",\"#b16496\",\"#f25096\",\"#629b96\",\"#eec996\",\"#997d96\",\"#388996\",\"#d09596\",\"#b22a96\",\"#e75196\",\"#44e096\",\"#ce9296\",\"#7dac96\",\"#396f96\",\"#9e3196\",\"#f36196\",\"#c76e96\",\"#4cde96\",\"#345f96\",\"#8da996\",\"#a0b196\",\"#815d96\",\"#73c296\",\"#bf8296\",\"#848796\",\"#bd5d96\",\"#72af96\",\"#f4b396\",\"#907d96\",\"#b76896\",\"#732996\",\"#a19696\",\"#de7b96\",\"#359896\",\"#c0be96\",\"#448896\",\"#e24b96\",\"#e26696\",\"#879696\",\"#d4bb96\",\"#a63c96\",\"#dc5796\",\"#d0bc96\",\"#b7b096\",\"#906b96\",\"#75e496\",\"#989196\",\"#867d96\",\"#e73b96\",\"#e8e596\",\"#d94396\",\"#b38c96\",\"#812096\",\"#f46a96\",\"#b37e96\",\"#8e5b96\",\"#96da96\",\"#b42496\",\"#842796\",\"#f17f96\",\"#6c2396\",\"#876496\",\"#ca6096\",\"#ba9c96\",\"#7f9996\",\"#3a8496\",\"#744b96\",\"#5a9896\",\"#5b5796\",\"#e8e296\",\"#406596\",\"#b53696\",\"#e0e596\",\"#a37996\",\"#4d9c96\",\"#65c996\",\"#513f96\",\"#e1e296\",\"#565696\",\"#e53196\",\"#6a8a96\",\"#c2cb96\",\"#72b996\",\"#6d6896\",\"#3c4d96\",\"#4ea796\",\"#d05696\",\"#c6e396\",\"#e9e296\",\"#615496\",\"#462a96\",\"#3b9396\",\"#e02d96\",\"#402a96\",\"#c62f96\",\"#84c796\",\"#659096\",\"#cd2e96\",\"#8ec896\",\"#bf3796\",\"#abc696\",\"#d68096\",\"#94a496\",\"#b82596\",\"#862696\",\"#6b1e96\",\"#dcc396\",\"#875d96\",\"#346b96\",\"#d48396\",\"#ecb896\",\"#d7d796\",\"#544b96\",\"#6d6896\",\"#eed196\",\"#e4a096\",\"#a0bd96\",\"#cca796\",\"#cb6e96\",\"#6fb996\",\"#bce296\",\"#4ca796\",\"#b82a96\",\"#818696\",\"#bf6596\",\"#945996\",\"#504996\",\"#e6a596\",\"#c2d296\",\"#c0b796\",\"#4e3c96\",\"#e5c096\",\"#af7996\",\"#d92396\",\"#57c896\",\"#f69396\",\"#744796\",\"#a66796\",\"#774096\",\"#e32596\",\"#c45d96\",\"#b2ae96\",\"#f2ab96\",\"#bdce96\",\"#98b896\",\"#3bb396\",\"#879296\",\"#852b96\",\"#832d96\",\"#f7dc96\",\"#3c4b96\",\"#b06b96\",\"#a23796\",\"#4a8996\",\"#6ad896\",\"#925196\",\"#9eab96\",\"#70c596\",\"#da6a96\",\"#563c96\",\"#a25596\",\"#e48396\",\"#373e96\",\"#e35d96\",\"#ebba96\",\"#bdcc96\",\"#5a4c96\",\"#632796\",\"#593996\",\"#de5996\",\"#8fd496\",\"#8be496\",\"#3a5996\",\"#b3a196\",\"#a5ba96\",\"#925996\",\"#832696\",\"#5ec896\",\"#d05f96\",\"#4b9996\",\"#dc6d96\",\"#ed8f96\",\"#f46996\",\"#7c9b96\",\"#44b296\",\"#426796\",\"#6de596\",\"#4a4596\",\"#7d2d96\",\"#a35296\",\"#70ca96\",\"#97cb96\",\"#bfbf96\",\"#ba4b96\",\"#a8c296\",\"#33d996\",\"#b42696\",\"#69c996\",\"#3bca96\",\"#8dd696\",\"#aaa096\",\"#82be96\",\"#7d7396\",\"#d43596\",\"#84c396\",\"#649596\",\"#f68396\",\"#49c896\",\"#999596\",\"#dfc796\",\"#ab5596\",\"#77c896\",\"#53d196\",\"#9ab596\",\"#5bbe96\",\"#b0b596\",\"#41bb96\",\"#462f96\",\"#974f96\",\"#485e96\",\"#eb7f96\",\"#5c5e96\",\"#b44396\",\"#8bcb96\",\"#b4df96\",\"#af9896\",\"#6b2196\",\"#bfa096\",\"#7ed296\",\"#f2be96\",\"#71bc96\",\"#a86996\",\"#9a3b96\",\"#e29e96\",\"#65b296\",\"#ce7696\",\"#3f2596\",\"#d25996\",\"#d59f96\",\"#f83196\",\"#f65e96\",\"#c17a96\",\"#683f96\",\"#6ca896\",\"#4c9b96\",\"#4eb196\",\"#8b6e96\",\"#833996\",\"#bba696\",\"#9b3f96\",\"#4f4f96\",\"#475196\",\"#cb6d96\",\"#552e96\",\"#6b4d96\",\"#589096\",\"#e7c196\",\"#8f9d96\",\"#a4d296\",\"#c0b596\",\"#a36096\",\"#799496\",\"#5b2496\",\"#ca7196\",\"#7c3296\",\"#c21f96\",\"#86d596\",\"#789296\",\"#b2a996\",\"#5e6e96\",\"#dd2496\",\"#ed5696\",\"#54a996\",\"#51e596\",\"#68d396\",\"#72a196\",\"#d13a96\",\"#537396\",\"#5a6696\",\"#df8b96\",\"#be4396\",\"#898996\",\"#ed3596\",\"#8ca196\",\"#aeac96\",\"#d98396\",\"#505496\",\"#36ac96\",\"#5e1f96\",\"#611e96\",\"#a09a96\",\"#ce3096\",\"#be9896\",\"#547196\",\"#75e296\",\"#875696\",\"#938096\",\"#a24296\",\"#e5ad96\",\"#379e96\",\"#8ece96\",\"#345a96\",\"#a9b596\",\"#777796\",\"#e0d196\",\"#802496\",\"#3fc196\",\"#c1ba96\",\"#682596\",\"#6ed896\",\"#673796\",\"#e88096\",\"#343c96\",\"#a14396\",\"#f47a96\",\"#a1db96\",\"#5ada96\",\"#4dd596\",\"#5d2c96\",\"#962e96\",\"#f03096\",\"#5c9396\",\"#6cb696\",\"#7c1e96\",\"#ee3096\",\"#995096\",\"#6fa396\",\"#d04796\",\"#584596\",\"#77d896\",\"#494596\",\"#928196\",\"#a8ac96\",\"#d53896\",\"#799496\",\"#d65796\",\"#e67c96\",\"#405396\",\"#78a096\",\"#a7a296\",\"#3a9796\",\"#a82696\",\"#c3b896\",\"#464b96\",\"#bba196\",\"#f79d96\",\"#574c96\",\"#b23696\",\"#7be296\",\"#e94396\",\"#879f96\",\"#836b96\",\"#e68696\",\"#52b096\",\"#bcd296\",\"#e33a96\",\"#f5a596\",\"#3ca096\",\"#8bdf96\",\"#a8df96\",\"#6a6496\",\"#c0a396\",\"#82c396\",\"#bfaa96\",\"#76d396\",\"#a49896\",\"#b14696\",\"#828296\",\"#a2df96\",\"#509c96\",\"#b3b296\",\"#ee4896\",\"#df5e96\",\"#d67196\",\"#bbcf96\",\"#d7e296\",\"#aa6596\",\"#6dad96\",\"#dbb396\",\"#a88496\",\"#394796\",\"#8a2d96\",\"#f52396\",\"#a34d96\",\"#a6d196\",\"#7c4396\",\"#81b396\",\"#bedd96\",\"#f9bd96\",\"#3f9296\",\"#c4d696\",\"#c1a496\",\"#369996\",\"#8a8896\",\"#5e2596\",\"#c11e96\",\"#db3396\",\"#8e2696\",\"#505f96\",\"#a93596\",\"#779296\",\"#bbd096\",\"#a69096\",\"#d0d696\",\"#962a96\",\"#b7e496\",\"#71bf96\",\"#8e9796\",\"#795396\",\"#a7da96\",\"#4b9996\",\"#998796\",\"#a1d596\",\"#34ab96\",\"#684596\",\"#ea6896\",\"#4d8096\",\"#847e96\",\"#652e96\",\"#dac596\",\"#8a4596\",\"#329596\",\"#655a96\",\"#e3b896\",\"#f09496\",\"#cfb696\",\"#926e96\",\"#c86c96\",\"#b6e496\",\"#c54e96\",\"#b97796\",\"#a5d096\",\"#e37996\",\"#926096\",\"#876b96\",\"#9dd796\",\"#b15496\",\"#bab196\",\"#472a96\",\"#d42496\",\"#838e96\",\"#8a2796\",\"#342896\",\"#41d296\",\"#878e96\",\"#d48a96\",\"#87df96\",\"#437696\",\"#781f96\",\"#dab396\",\"#98d396\",\"#984296\",\"#9bc396\",\"#a3a296\",\"#f6a496\",\"#bc7996\",\"#3b2c96\",\"#e43696\",\"#bf7496\",\"#4f6f96\",\"#64ca96\",\"#dd8296\",\"#676e96\",\"#876a96\",\"#a83696\",\"#a32296\",\"#8cce96\",\"#f66796\",\"#346b96\",\"#7f2096\",\"#b97c96\",\"#577e96\",\"#3dc096\",\"#edb696\",\"#984b96\",\"#e5bb96\",\"#c93896\",\"#b24a96\",\"#576196\",\"#c9b396\",\"#572e96\",\"#929d96\",\"#859396\",\"#785f96\",\"#c0a296\",\"#adc696\",\"#6ac196\",\"#a78b96\",\"#749f96\",\"#e66b96\",\"#eab696\",\"#557c96\",\"#f48796\",\"#675396\",\"#b17196\",\"#8e6196\",\"#399396\",\"#ba4696\",\"#aa6396\",\"#dc2e96\",\"#88b396\",\"#82ad96\",\"#c4b096\",\"#6ed296\",\"#ecdd96\",\"#589196\",\"#ea9496\",\"#ad1e96\",\"#cb4796\",\"#322396\",\"#75b596\",\"#c2dd96\",\"#7f1e96\",\"#80d096\",\"#8f2196\",\"#369d96\",\"#f2d496\",\"#547296\",\"#e46196\",\"#5e2b96\",\"#e7ca96\",\"#922e96\",\"#376c96\",\"#f42696\",\"#f27096\",\"#d38296\",\"#3b2f96\",\"#b44396\",\"#404e96\",\"#933996\",\"#6d7796\",\"#a99696\",\"#ee4696\",\"#81c096\",\"#83bc96\",\"#384c96\",\"#e57c96\",\"#3e4596\",\"#34a096\",\"#439596\",\"#999e96\",\"#61e596\",\"#914796\",\"#a23c96\",\"#9c8a96\",\"#e22096\",\"#af5b96\",\"#c47296\",\"#aa9096\",\"#568896\",\"#c8cf96\",\"#873196\",\"#41b096\",\"#6fb996\",\"#657696\",\"#df9c96\",\"#e46b96\",\"#9d4b96\",\"#a6d596\",\"#684196\",\"#e02796\",\"#912396\",\"#8a4196\",\"#dae596\",\"#46dc96\",\"#ea6a96\",\"#8de396\",\"#679296\",\"#422e96\",\"#adb896\",\"#d27496\",\"#d98896\",\"#87d296\",\"#3f5496\",\"#9bde96\",\"#613596\",\"#925b96\",\"#d75696\",\"#91c696\",\"#eae096\",\"#9f7d96\",\"#f1c396\",\"#7f8d96\",\"#645096\",\"#5a8c96\",\"#ef2396\",\"#745b96\",\"#e6a996\",\"#4e7496\",\"#705e96\",\"#586196\",\"#c27096\",\"#67b396\",\"#ee8296\",\"#aabb96\",\"#732a96\",\"#666a96\",\"#513d96\",\"#557b96\",\"#713696\",\"#8d2a96\",\"#ed2a96\",\"#e36a96\",\"#6d3096\",\"#6fb996\",\"#a69296\",\"#508e96\",\"#734396\",\"#357e96\",\"#44b396\",\"#e04696\",\"#3f2b96\",\"#632196\",\"#748e96\",\"#94c996\",\"#f4c196\",\"#ef3f96\",\"#67cd96\",\"#652e96\",\"#dc6b96\",\"#cd4a96\",\"#f96096\",\"#b5c796\",\"#7dd096\",\"#572696\",\"#e7ab96\",\"#e9db96\",\"#d92796\",\"#54b996\",\"#6ebb96\",\"#938b96\",\"#497596\",\"#e68896\",\"#956696\",\"#9a8696\",\"#40b496\",\"#bc4d96\",\"#a5e596\",\"#4e4096\",\"#ba8d96\",\"#527296\",\"#562d96\",\"#858496\",\"#c36196\",\"#442a96\",\"#99cb96\",\"#cae096\",\"#714596\",\"#f82096\",\"#748996\",\"#7c6496\",\"#346696\",\"#b1a496\",\"#875096\",\"#8ddf96\",\"#b32596\",\"#b15b96\",\"#4bb696\",\"#557c96\",\"#907496\",\"#412596\",\"#f62496\",\"#e26596\",\"#74e596\",\"#b16496\",\"#858996\",\"#d6d596\",\"#552496\",\"#6d3496\",\"#9f1f96\",\"#c8a196\",\"#35af96\",\"#ed9c96\",\"#5d3b96\",\"#8c3a96\",\"#7a6596\",\"#d16596\",\"#b4b196\",\"#de8a96\",\"#d1b996\",\"#628196\",\"#e04096\",\"#9b5a96\",\"#d37f96\",\"#8be596\",\"#e76196\",\"#e89096\",\"#b74796\",\"#4a5696\",\"#df5296\",\"#536196\",\"#465396\",\"#f75e96\",\"#9fbd96\",\"#8c7596\",\"#884d96\",\"#5c2596\",\"#7fd096\",\"#a05e96\",\"#9eb596\",\"#6b7496\",\"#d05796\",\"#923196\",\"#ad4796\",\"#8d5a96\",\"#d22996\",\"#f13496\",\"#6fc796\",\"#634596\",\"#9ccb96\",\"#9fbb96\",\"#d55096\",\"#c69a96\",\"#85bd96\",\"#3d7496\",\"#af4996\",\"#63e096\",\"#d1c096\",\"#8e2b96\",\"#8bc396\",\"#5b7e96\",\"#dc7696\",\"#dce296\",\"#702396\",\"#5c2096\",\"#edd296\",\"#996a96\",\"#34b196\",\"#ad5e96\",\"#66b596\",\"#c35c96\",\"#a82d96\",\"#c8c096\",\"#af9c96\",\"#b0dd96\",\"#4d8496\",\"#dfa396\",\"#cead96\",\"#dea796\",\"#b57096\",\"#e29196\",\"#d68196\",\"#91c796\",\"#744296\",\"#4fbc96\",\"#909c96\",\"#6eb496\",\"#9e4d96\",\"#702396\",\"#ae8096\",\"#362e96\",\"#894396\",\"#6be396\",\"#3de096\",\"#39b996\",\"#6e5896\",\"#c1e596\",\"#d57696\",\"#6fda96\",\"#ee5c96\",\"#8f5d96\",\"#6eae96\",\"#98cb96\",\"#b34c96\",\"#c7a596\",\"#98c796\",\"#b6ab96\",\"#925996\",\"#64d496\",\"#486596\",\"#8d6c96\",\"#d53e96\",\"#685796\",\"#b78696\",\"#f47c96\",\"#f8a796\",\"#b45b96\",\"#cabe96\",\"#e71e96\",\"#7bad96\",\"#6b2196\",\"#804d96\",\"#37aa96\",\"#348396\",\"#98d896\",\"#6f8a96\",\"#f99496\",\"#77df96\",\"#6ee096\",\"#c99396\",\"#947b96\",\"#654d96\",\"#773d96\",\"#3ebf96\",\"#4a6596\",\"#e56a96\",\"#dabe96\",\"#e4c096\",\"#ae5896\",\"#655a96\",\"#9ac096\",\"#c07096\",\"#599496\",\"#e06396\",\"#61b296\",\"#453f96\",\"#d3cc96\",\"#697096\",\"#779396\",\"#d2ad96\",\"#5fd696\",\"#4da996\",\"#8dcf96\",\"#a44896\",\"#344c96\",\"#622696\",\"#738096\",\"#bdba96\",\"#982896\",\"#f5c596\",\"#9b8e96\",\"#504896\",\"#469796\",\"#942596\",\"#b2d296\",\"#3ed496\",\"#488496\",\"#529496\",\"#c85196\",\"#8f5296\",\"#7f6a96\",\"#57d996\",\"#f6c896\",\"#dd2996\",\"#b6be96\",\"#a3c096\",\"#d93396\",\"#7ea996\",\"#47b596\",\"#732f96\",\"#54c896\",\"#a17496\",\"#946996\",\"#39c196\",\"#8ca496\",\"#c12496\",\"#325996\",\"#63d096\",\"#7ba596\",\"#9b5c96\",\"#7a5996\",\"#f23c96\",\"#ba4596\",\"#b48e96\",\"#e5a596\",\"#aacf96\",\"#8e8696\",\"#d0ba96\",\"#5cd696\",\"#d2c196\",\"#c44b96\",\"#936896\",\"#aaa996\",\"#e5cf96\",\"#d4bb96\",\"#c93f96\",\"#9a8196\",\"#836496\",\"#a1ce96\",\"#a12a96\",\"#325596\",\"#ea4196\",\"#9baa96\",\"#ec5b96\",\"#435596\",\"#6c8f96\",\"#779796\",\"#d04c96\",\"#cfb896\",\"#e0b996\",\"#499c96\",\"#659a96\",\"#342a96\",\"#f09096\",\"#ae5396\",\"#9e4896\",\"#919096\",\"#d8c996\",\"#8d2296\",\"#4c9296\",\"#337296\",\"#4f5496\",\"#df5896\",\"#4d7096\",\"#3e6796\",\"#3c8196\",\"#cf8796\",\"#356c96\",\"#559f96\",\"#62a496\",\"#8abd96\",\"#4ed496\",\"#34a696\",\"#83df96\",\"#a54096\",\"#395b96\",\"#d5a996\",\"#3a5396\",\"#b08596\",\"#b1b296\",\"#373b96\",\"#398096\",\"#adc396\",\"#79d196\",\"#52df96\",\"#a0e496\",\"#cfd196\",\"#f2c596\",\"#cfa396\",\"#944b96\",\"#468f96\",\"#a4ab96\",\"#df9f96\",\"#489896\",\"#b64696\",\"#d38096\",\"#488396\",\"#a0c996\",\"#506c96\",\"#913396\",\"#609896\",\"#cde296\",\"#df6596\",\"#772c96\",\"#c87196\",\"#4e5796\",\"#aa4a96\",\"#459496\",\"#ef8196\",\"#99a096\",\"#7fdb96\",\"#8d3896\",\"#d62096\",\"#db9596\",\"#b2c296\",\"#bb9996\",\"#e71e96\",\"#cb3196\",\"#845896\",\"#a33e96\",\"#d56a96\",\"#38e196\",\"#706696\",\"#42ce96\",\"#ac6796\",\"#e74196\",\"#754296\",\"#df9996\",\"#e56c96\",\"#4c7b96\",\"#75c496\",\"#62a096\",\"#eb7496\",\"#7e8196\",\"#6e8196\",\"#bad796\",\"#853e96\",\"#bdb096\",\"#351e96\",\"#788296\",\"#c4a296\",\"#eb2496\",\"#3e4a96\",\"#c99a96\",\"#d73d96\",\"#91bd96\",\"#ec9196\",\"#f1aa96\",\"#e5b896\",\"#bd6796\",\"#6c4096\",\"#37a496\",\"#672d96\",\"#aab896\",\"#c07b96\",\"#6b9396\",\"#34b596\",\"#d3c396\",\"#f94e96\",\"#758396\",\"#6ec396\",\"#d35996\",\"#5e5696\",\"#4e9b96\",\"#686f96\",\"#a6c996\",\"#5f9a96\",\"#698d96\",\"#7b3096\",\"#b5da96\",\"#7dcb96\",\"#915b96\",\"#59ac96\",\"#642596\",\"#616996\",\"#d74996\",\"#c1d696\",\"#7f7c96\",\"#48e296\",\"#d53996\",\"#5fab96\",\"#77a796\",\"#412d96\",\"#8d4396\",\"#355f96\",\"#368596\",\"#4b4b96\",\"#352896\",\"#d85596\",\"#392796\",\"#c13f96\",\"#d6c696\",\"#c1d096\",\"#7fcd96\",\"#992396\",\"#61af96\",\"#cdda96\",\"#852096\",\"#4c2796\",\"#cbcf96\",\"#9a5896\",\"#ebb796\",\"#43dc96\",\"#39d096\",\"#985a96\",\"#925396\",\"#e1c096\",\"#323c96\",\"#adb796\",\"#ce6696\",\"#977e96\",\"#b26896\",\"#bebc96\",\"#c7b996\",\"#6b7596\",\"#508196\",\"#ee5c96\",\"#bdb896\",\"#7c6696\",\"#8eb996\",\"#ccbf96\",\"#c79f96\",\"#93d996\",\"#34de96\",\"#4fb996\",\"#926a96\",\"#7d2d96\",\"#6a9396\",\"#49b096\",\"#a26796\",\"#384496\",\"#467f96\",\"#d26e96\",\"#dad596\",\"#b72c96\",\"#d75d96\",\"#e43e96\",\"#686e96\",\"#f4a296\",\"#4f4a96\",\"#aa4b96\",\"#b2a296\",\"#f1c096\",\"#777996\",\"#3e8696\",\"#3c7196\",\"#815396\",\"#b3cf96\",\"#746796\",\"#c76996\",\"#a76c96\",\"#e5b996\",\"#785e96\",\"#6a2b96\",\"#dc9196\",\"#df9296\",\"#53dc96\",\"#35b996\",\"#8b8696\",\"#e01e96\",\"#c6b096\",\"#965996\",\"#f15696\",\"#d99b96\",\"#c95196\",\"#b74396\",\"#b81f96\",\"#434296\",\"#de3396\",\"#3f2396\",\"#cf8296\",\"#50bf96\",\"#6aaa96\",\"#f75496\",\"#879796\",\"#e79796\",\"#ba7596\",\"#648596\",\"#496f96\",\"#c9ae96\",\"#a1e596\",\"#819f96\",\"#cb2196\",\"#f93696\",\"#9a5b96\",\"#f09596\",\"#f4c396\",\"#d1df96\",\"#ed3896\",\"#527196\",\"#524f96\",\"#ea5a96\",\"#5c6396\",\"#c09496\",\"#49b296\",\"#af2d96\",\"#9a3796\",\"#6d6c96\",\"#634f96\",\"#409f96\",\"#b12d96\",\"#8d4996\",\"#937296\",\"#c0bb96\",\"#cdb896\",\"#41dc96\",\"#5bcb96\",\"#994b96\",\"#864b96\",\"#b34196\",\"#98e296\",\"#583596\",\"#344e96\",\"#b1d096\",\"#eed096\",\"#c8b496\",\"#754d96\",\"#d72096\",\"#ca3796\",\"#e06196\",\"#948d96\",\"#e86096\",\"#5ba896\",\"#84cb96\",\"#536b96\",\"#c5cd96\",\"#ca6196\",\"#359996\",\"#b64d96\",\"#f79896\",\"#6f5096\",\"#7d6796\",\"#929696\",\"#f7af96\",\"#afb996\",\"#83ca96\",\"#888f96\",\"#c46e96\",\"#7b8696\",\"#51ac96\",\"#7fa996\",\"#b57896\",\"#a05e96\",\"#661e96\",\"#66b596\",\"#cec796\",\"#8e4996\",\"#5b3b96\",\"#a0a596\",\"#f5d596\",\"#a57696\",\"#a9b596\",\"#c6d796\",\"#663596\",\"#ac7c96\",\"#7dd596\",\"#8dac96\",\"#9e1e96\",\"#c54996\",\"#a18a96\",\"#445c96\",\"#984696\",\"#8cb196\",\"#7b2f96\",\"#9cdd96\",\"#a37c96\",\"#c19b96\",\"#f16596\",\"#c44096\",\"#c33196\",\"#599196\",\"#509796\",\"#6e7c96\",\"#a51e96\",\"#515996\",\"#de3796\",\"#cb9e96\",\"#33cb96\",\"#6fcd96\",\"#d08496\",\"#f14e96\",\"#938596\",\"#aa4896\",\"#812f96\",\"#493196\",\"#63c496\",\"#c63896\",\"#a37f96\",\"#c18b96\",\"#628596\",\"#be5496\",\"#614296\",\"#86b696\",\"#6c8f96\",\"#487196\",\"#547896\",\"#7cb996\",\"#46cf96\",\"#b28f96\",\"#e8d396\",\"#d08e96\",\"#5fa596\",\"#525496\",\"#c55396\",\"#7c3296\",\"#cc3996\",\"#cfa796\",\"#32a396\",\"#6c6e96\",\"#8da696\",\"#a45b96\",\"#8a7596\",\"#d72696\",\"#a39596\",\"#7e5696\",\"#563c96\",\"#7d7d96\",\"#a23a96\",\"#825896\",\"#5c9496\",\"#69b196\",\"#af8196\",\"#d04696\",\"#857896\",\"#919b96\",\"#49ce96\",\"#532396\",\"#bc9696\",\"#656496\",\"#baa796\",\"#84c896\",\"#ee7596\",\"#f42f96\",\"#dac296\",\"#66c996\",\"#5d5296\",\"#5bdd96\",\"#439596\",\"#665c96\",\"#348196\",\"#857e96\",\"#e54196\",\"#7ed296\",\"#96a496\",\"#a2ba96\",\"#e58a96\",\"#3f6696\",\"#d4ab96\",\"#7d5d96\",\"#654b96\",\"#bdda96\",\"#652e96\",\"#529c96\",\"#7c2596\",\"#957596\",\"#b17796\",\"#a85d96\",\"#70d096\",\"#b07296\",\"#8f3896\",\"#dccf96\",\"#bc6996\",\"#9e6696\",\"#815c96\",\"#744496\",\"#a4db96\",\"#77bc96\",\"#58c796\",\"#57bc96\",\"#b52c96\",\"#c12696\",\"#609e96\",\"#662096\",\"#ed6496\",\"#895496\",\"#4e2096\",\"#85d396\",\"#d7a796\",\"#c2c596\",\"#f65a96\",\"#d12c96\",\"#365c96\",\"#ac7296\",\"#455896\",\"#cb5896\",\"#bb3596\",\"#c0e096\",\"#c8d896\",\"#f75196\",\"#cf9a96\",\"#c88296\",\"#405a96\",\"#a82e96\",\"#553696\",\"#543396\",\"#434596\",\"#cf6996\",\"#38d696\",\"#b05796\",\"#e1aa96\",\"#8ca296\",\"#3ca496\",\"#f38f96\",\"#8bab96\",\"#a3d296\",\"#635296\",\"#41c796\",\"#65d396\",\"#e7c996\",\"#e55896\",\"#78e596\",\"#936e96\",\"#845e96\",\"#de3996\",\"#52b196\",\"#453c96\",\"#d44196\",\"#904396\",\"#8c3f96\",\"#857d96\",\"#805196\",\"#479296\",\"#433796\",\"#dea096\",\"#e47796\",\"#c6c096\",\"#8b7296\",\"#8e6696\",\"#809896\",\"#9c8396\",\"#a96296\",\"#949496\",\"#5a5c96\",\"#6d7a96\",\"#bf8c96\",\"#f48096\",\"#526096\",\"#676096\",\"#679c96\",\"#c26296\",\"#79d996\",\"#d99d96\",\"#df6e96\",\"#f9dd96\",\"#8b8b96\",\"#682896\",\"#91dd96\",\"#f0cd96\",\"#d84196\",\"#5ad696\",\"#9fd296\",\"#9a9496\",\"#816996\",\"#79bc96\",\"#83ba96\",\"#c53096\",\"#725196\",\"#665196\",\"#d23596\",\"#cdcb96\",\"#c35796\",\"#708696\",\"#ade496\",\"#6bbf96\",\"#474a96\",\"#bc2896\",\"#639096\",\"#575096\",\"#5bd396\",\"#a14996\",\"#f19d96\",\"#c0dd96\",\"#b98596\",\"#61bd96\",\"#c23596\",\"#767396\",\"#ef9696\",\"#91e296\",\"#615e96\",\"#a0af96\",\"#8f4d96\",\"#752596\",\"#815b96\",\"#f54496\",\"#9e8d96\",\"#99c096\",\"#d29296\",\"#928996\",\"#f8be96\",\"#b49a96\",\"#788a96\",\"#c9a696\",\"#e2db96\",\"#dda696\",\"#c6d996\",\"#6dd596\",\"#4b8796\",\"#f08996\",\"#d73296\",\"#9f6c96\",\"#c42496\",\"#d56b96\",\"#6a7196\",\"#5b9596\",\"#cb3b96\",\"#823a96\",\"#4f6896\",\"#90a896\",\"#dc7e96\",\"#463496\",\"#f67f96\",\"#848f96\",\"#43af96\",\"#df8f96\",\"#68af96\",\"#38bd96\",\"#a56596\",\"#354096\",\"#947496\",\"#ae2e96\",\"#8c7c96\",\"#a97596\",\"#a46b96\",\"#7e9a96\",\"#7c7296\",\"#8bad96\",\"#3f9396\",\"#43cd96\",\"#61db96\",\"#d63a96\",\"#949a96\",\"#617e96\",\"#972f96\",\"#a7a396\",\"#8a4b96\",\"#ccd096\",\"#37b196\",\"#e18396\",\"#436596\",\"#6d4596\",\"#793d96\",\"#a9d696\",\"#8b5196\",\"#415396\",\"#87a596\",\"#ad5596\",\"#b36996\",\"#b34996\",\"#41ab96\",\"#f7a696\",\"#f44396\",\"#70e296\",\"#3fa996\",\"#64ae96\",\"#c66a96\",\"#478896\",\"#4a6c96\",\"#8b5096\",\"#954396\",\"#3cbb96\",\"#babd96\",\"#ccbd96\",\"#358496\",\"#d93296\",\"#79a696\",\"#6fa596\",\"#e38d96\",\"#ef7096\",\"#ec6a96\",\"#357d96\",\"#eac096\",\"#d72896\",\"#df6196\",\"#a75596\",\"#e3d296\",\"#ba6e96\",\"#cc8d96\",\"#929796\",\"#e36796\",\"#728a96\",\"#3c5996\",\"#93b696\",\"#642d96\",\"#8abb96\",\"#d69496\",\"#aba996\",\"#70bd96\",\"#99a996\",\"#a86396\",\"#447096\",\"#da7696\",\"#54d296\",\"#739496\",\"#c15d96\",\"#94af96\",\"#b9a496\",\"#703196\",\"#d0e496\",\"#bcda96\",\"#d0d396\",\"#7b2f96\",\"#868096\",\"#7e6396\",\"#a6ae96\",\"#bf3c96\",\"#b8aa96\",\"#d41f96\",\"#d77f96\",\"#4e1e96\",\"#a22796\",\"#c72096\",\"#e63196\",\"#937696\",\"#75d996\",\"#e43096\",\"#dcc896\",\"#bdd596\",\"#a67396\",\"#399796\",\"#8aa796\",\"#b04996\",\"#77ad96\",\"#3a5596\",\"#cf9b96\",\"#522196\",\"#7cbc96\",\"#b8bd96\",\"#ca3796\",\"#b88496\",\"#832d96\",\"#476696\",\"#8de496\",\"#d7c696\",\"#f02796\",\"#b38096\",\"#b92596\",\"#db9d96\",\"#442e96\",\"#eb4696\",\"#463b96\",\"#4caf96\",\"#905a96\",\"#6abe96\",\"#e08396\",\"#cb3796\",\"#e19396\",\"#d67896\",\"#5e6096\",\"#593196\",\"#678a96\",\"#587b96\",\"#b77896\",\"#969096\",\"#b98796\",\"#ada296\",\"#e8ce96\",\"#a1c796\",\"#b5b196\",\"#ea7996\",\"#478196\",\"#b8d996\",\"#44bf96\",\"#4e9996\",\"#707b96\",\"#c27496\",\"#3db896\",\"#b2a396\",\"#434396\",\"#e57f96\",\"#38de96\",\"#dfb396\",\"#8b8796\",\"#4fc596\",\"#416a96\",\"#e23696\",\"#592f96\",\"#dfd196\",\"#472596\",\"#b3c696\",\"#f1ad96\",\"#a4e496\",\"#a68a96\",\"#bd9896\",\"#7ed896\",\"#47d996\",\"#516396\",\"#4d9096\",\"#74ac96\",\"#944596\",\"#7a8696\",\"#aca196\",\"#7e4396\",\"#7a7e96\",\"#952b96\",\"#ce3496\",\"#be6a96\",\"#bcc496\",\"#52ce96\",\"#bce396\",\"#7cdc96\",\"#412f96\",\"#f39d96\",\"#d92b96\",\"#764d96\",\"#e64c96\",\"#e45996\",\"#472496\",\"#e48696\",\"#5ce196\",\"#3a7596\",\"#834a96\",\"#a9c296\",\"#9d2d96\",\"#727896\",\"#e38896\",\"#b94196\",\"#f4e296\",\"#4a4f96\",\"#904f96\",\"#be5996\",\"#8e4396\",\"#819096\",\"#df9e96\",\"#c68396\",\"#d62c96\",\"#e62f96\",\"#b02e96\",\"#e28696\",\"#a5c296\",\"#6ecc96\",\"#78e096\",\"#328496\",\"#b47996\",\"#9f2e96\",\"#789496\",\"#8d9196\",\"#eeae96\",\"#c65b96\",\"#3ed996\",\"#4e7c96\",\"#c99296\",\"#4dba96\",\"#ae8a96\",\"#a2c396\",\"#9b4896\",\"#c28396\",\"#42a196\",\"#ce5f96\",\"#a17496\",\"#a83996\",\"#a33996\",\"#4a8096\",\"#3f3e96\",\"#ab9d96\",\"#ca3596\",\"#c16b96\",\"#f07196\",\"#708296\",\"#6dd296\",\"#aaa296\",\"#f65096\",\"#414396\",\"#7fbc96\",\"#d03896\",\"#875796\",\"#6b6b96\",\"#72e296\",\"#b52696\",\"#758b96\",\"#477196\",\"#4dc096\",\"#854296\",\"#3caa96\",\"#32b896\",\"#d45896\",\"#df6596\",\"#4dc596\",\"#4dd096\",\"#5b2e96\",\"#dd1e96\",\"#6fe596\",\"#c04496\",\"#f8a196\",\"#536396\",\"#5db796\",\"#7db296\",\"#3de396\",\"#616496\",\"#8e7096\",\"#c56e96\",\"#b54296\",\"#48a896\",\"#a24a96\",\"#b32e96\",\"#af4a96\",\"#8f2696\",\"#df6796\",\"#d39196\",\"#de8d96\",\"#9e6a96\",\"#ce7796\",\"#bd2296\",\"#d7e296\",\"#a99e96\",\"#783b96\",\"#a72996\",\"#8ecc96\",\"#cd5e96\",\"#d4d596\",\"#48a596\",\"#535396\",\"#cfcf96\",\"#999996\",\"#3d8696\",\"#a39a96\",\"#e27096\",\"#df9d96\",\"#b38196\",\"#845b96\",\"#efe396\",\"#544396\",\"#44cf96\",\"#5b4796\",\"#845596\",\"#629596\",\"#b36696\",\"#a96b96\",\"#a8b096\",\"#549196\",\"#a19096\",\"#cd6596\",\"#ea3096\",\"#e32596\",\"#77bf96\",\"#c3d396\",\"#d8d396\",\"#96d696\",\"#b4af96\",\"#3c5d96\",\"#d7b696\",\"#d18996\",\"#dc5b96\",\"#4f5096\",\"#e33496\",\"#9dbd96\",\"#86c996\",\"#cd5f96\",\"#7dd896\",\"#468696\",\"#a45296\",\"#e2c196\",\"#8f6d96\",\"#c2b396\",\"#50c096\",\"#556b96\",\"#a58296\",\"#866296\",\"#931e96\",\"#bec596\",\"#7a5c96\",\"#945d96\",\"#7d2d96\",\"#b36496\",\"#b93b96\",\"#855f96\",\"#af9896\",\"#f99c96\",\"#c02e96\",\"#9f4a96\",\"#e36196\",\"#337896\",\"#3f3896\",\"#516096\",\"#b4cd96\",\"#395196\",\"#d1d396\",\"#40a796\",\"#bb8696\",\"#b9e596\",\"#893a96\",\"#d05896\",\"#b09296\",\"#80bd96\",\"#4a7496\",\"#81de96\",\"#e37b96\",\"#425e96\",\"#dc7f96\",\"#b87e96\",\"#9fe496\",\"#75bd96\",\"#e0b496\",\"#545196\",\"#b88196\",\"#42e596\",\"#9f5e96\",\"#f62996\",\"#c44d96\",\"#dda296\",\"#e1bc96\",\"#dc5296\",\"#4eb696\",\"#6bd396\",\"#c35496\",\"#ce4596\",\"#da4b96\",\"#e47596\",\"#cd3996\",\"#a34596\",\"#d73696\",\"#e0e496\",\"#608796\",\"#946c96\",\"#47e196\",\"#e6a196\",\"#aeb496\",\"#5d5b96\",\"#8c3096\",\"#9ac496\",\"#c39f96\",\"#8f6e96\",\"#543596\",\"#abb696\",\"#b58796\",\"#3fca96\",\"#ec8996\",\"#936196\",\"#689696\",\"#c1e496\",\"#3b4396\",\"#d21f96\",\"#ecb296\",\"#66cc96\",\"#7b7196\",\"#909396\",\"#b78d96\",\"#f6a896\",\"#645c96\",\"#cda496\",\"#88e296\",\"#9f6396\",\"#c79b96\",\"#4fb896\",\"#e27796\",\"#3dbe96\",\"#754e96\",\"#579896\",\"#796496\",\"#6e9d96\",\"#eacb96\",\"#5a3996\",\"#5a3c96\",\"#ebaa96\",\"#575d96\",\"#f9c796\",\"#86a196\",\"#986996\",\"#79d496\",\"#d84c96\",\"#e14a96\",\"#565296\",\"#458d96\",\"#e14396\",\"#b5bf96\",\"#588b96\",\"#322396\",\"#955696\",\"#71a296\",\"#bf6e96\",\"#639e96\",\"#f7df96\",\"#4f2396\",\"#c47696\",\"#f07b96\",\"#807996\",\"#a45f96\",\"#c74e96\",\"#574196\",\"#8f4996\",\"#858796\",\"#3b1f96\",\"#f05796\",\"#6a5796\",\"#6f5396\",\"#5f2896\",\"#449696\",\"#9b8696\",\"#b82596\",\"#b72396\",\"#bbb596\",\"#c6d096\",\"#928b96\",\"#799796\",\"#eca896\",\"#7d9796\",\"#ce2896\",\"#f9b496\",\"#a68796\",\"#ad9596\",\"#677c96\",\"#ec5796\",\"#c2a696\",\"#7e8996\",\"#d09996\",\"#666696\",\"#39e596\",\"#392a96\",\"#7f3a96\",\"#addb96\",\"#b68396\",\"#3b3696\",\"#578b96\",\"#f03196\",\"#9fcd96\",\"#492396\",\"#6e5c96\",\"#a45596\",\"#b49396\",\"#937596\",\"#4e9196\",\"#4c4496\",\"#699696\",\"#7fb496\",\"#8aab96\",\"#ae6596\",\"#e2b796\",\"#e33696\",\"#4e2a96\",\"#e1c296\",\"#dc9c96\",\"#8cb396\",\"#ba5596\",\"#81b496\",\"#b68b96\",\"#853d96\",\"#5ab596\",\"#774396\",\"#37a496\",\"#b87b96\",\"#346896\",\"#42a796\",\"#703696\",\"#93d996\",\"#e86796\",\"#bc2396\",\"#4a8596\",\"#749e96\",\"#a08b96\",\"#812f96\",\"#36a796\",\"#6a9b96\",\"#774c96\",\"#7edd96\",\"#f7bb96\",\"#b3bf96\",\"#57d596\",\"#7bb796\",\"#60c696\",\"#b27e96\",\"#a02796\",\"#ab9696\",\"#834996\",\"#ddcb96\",\"#842596\",\"#edbd96\",\"#9cbb96\",\"#a43296\",\"#33a496\",\"#99c596\",\"#5f7896\",\"#f6ad96\",\"#415c96\",\"#cadd96\",\"#d24f96\",\"#bd5c96\",\"#749f96\",\"#b89a96\",\"#ef7b96\",\"#55c896\",\"#4d9f96\",\"#34b096\",\"#b3c296\",\"#a34496\",\"#659796\",\"#e17996\",\"#33b996\",\"#aedb96\",\"#f8c296\",\"#9a8896\",\"#3d7396\",\"#50e196\",\"#3bab96\",\"#f85496\",\"#585296\",\"#5bb396\",\"#6bdd96\",\"#eb4696\",\"#d06a96\",\"#4abf96\",\"#982c96\",\"#b4ab96\",\"#563396\",\"#786096\",\"#8ac896\",\"#d38a96\",\"#62a796\",\"#54c496\",\"#8bd896\",\"#acc396\",\"#d74b96\",\"#5e6a96\",\"#b57496\",\"#badc96\",\"#44aa96\",\"#867296\",\"#cf7296\",\"#553c96\",\"#52d396\",\"#c94d96\",\"#432496\",\"#bb7896\",\"#a5cc96\",\"#887a96\",\"#9b8b96\",\"#90d796\",\"#c88f96\",\"#cf6996\",\"#e05396\",\"#408296\",\"#919196\",\"#b5c996\",\"#953e96\",\"#82a896\",\"#765396\",\"#828596\",\"#e3a596\",\"#f84e96\",\"#c15f96\",\"#b88896\",\"#878396\",\"#667396\",\"#6d9c96\",\"#3b9b96\",\"#4d3896\",\"#c28696\",\"#877696\",\"#47bb96\",\"#ef4a96\",\"#8a8596\",\"#49ba96\",\"#b06996\",\"#f62e96\",\"#83a596\",\"#f69896\",\"#9f4d96\",\"#8c3696\",\"#4cb696\",\"#49a996\",\"#61dd96\",\"#c0e496\",\"#5a2696\",\"#352296\",\"#bdb596\",\"#4bc596\",\"#f8bf96\",\"#e14d96\",\"#aa8d96\",\"#d9c396\",\"#528896\",\"#f1c596\",\"#f83e96\",\"#8c4196\",\"#578696\",\"#e18a96\",\"#bf7396\",\"#9a2796\",\"#35cb96\",\"#a09a96\",\"#c13696\",\"#ab5f96\",\"#ba8296\",\"#a6aa96\",\"#738196\",\"#9c2996\",\"#d23a96\",\"#809396\",\"#7b8096\",\"#ab7c96\",\"#df4796\",\"#e8d896\",\"#ba7996\",\"#b85696\",\"#db8396\",\"#b24396\",\"#d1ca96\",\"#deb496\",\"#37be96\",\"#90e296\",\"#f9bd96\",\"#a79896\",\"#a07696\",\"#71b196\",\"#82b096\",\"#9ebb96\",\"#756596\",\"#c6a496\",\"#75d296\",\"#db7a96\",\"#364696\",\"#852096\",\"#674496\",\"#743396\",\"#77c596\",\"#809e96\",\"#f72396\",\"#5f7096\",\"#937896\",\"#a67596\",\"#389696\",\"#93cf96\",\"#af8796\",\"#67ce96\",\"#377d96\",\"#332296\",\"#b5c596\",\"#7e4296\",\"#7b3d96\",\"#c73796\",\"#965296\",\"#473f96\",\"#89bc96\",\"#b2a296\",\"#d19796\",\"#3ad396\",\"#3bdd96\",\"#c1c796\",\"#955f96\",\"#5a6596\",\"#593896\",\"#7a4096\",\"#ee5696\",\"#a49096\",\"#826a96\",\"#ced396\",\"#506c96\",\"#706596\",\"#3ecd96\",\"#db6896\",\"#997996\",\"#b59096\",\"#906c96\",\"#644a96\",\"#8ba696\",\"#407096\",\"#6ac196\",\"#628696\",\"#839b96\",\"#e3b696\",\"#85a196\",\"#7f5c96\",\"#634896\",\"#ec7896\",\"#7e3c96\",\"#626296\",\"#f8ce96\",\"#3ab496\",\"#476396\",\"#3b5296\",\"#be2f96\",\"#942b96\",\"#bb8896\",\"#566c96\",\"#615396\",\"#687796\",\"#c94d96\",\"#867996\",\"#5ae496\",\"#945396\",\"#d3b496\",\"#574196\",\"#816496\",\"#d7e396\",\"#6dba96\",\"#3ad396\",\"#88ae96\",\"#b7c996\",\"#893896\",\"#7ece96\",\"#b45396\",\"#715296\",\"#745a96\",\"#9a1f96\",\"#567996\",\"#e44596\",\"#518296\",\"#35b996\",\"#efb396\",\"#66a696\",\"#683196\",\"#353d96\",\"#787f96\",\"#769196\",\"#cb6a96\",\"#9ab396\",\"#63c696\",\"#72b996\",\"#8dbd96\",\"#4b2e96\",\"#b06896\",\"#b44096\",\"#7f4496\",\"#9dcb96\",\"#d4cc96\",\"#9de396\",\"#ba1e96\",\"#9b9796\",\"#c0bb96\",\"#887996\",\"#43cc96\",\"#93c896\",\"#a97c96\",\"#335296\",\"#e72596\",\"#76b796\",\"#942e96\",\"#80bb96\",\"#b64396\",\"#9c8c96\",\"#b36096\",\"#5d3696\",\"#6d7d96\",\"#3fa796\",\"#aac796\",\"#887c96\",\"#82bc96\",\"#828d96\",\"#516d96\",\"#ee3a96\",\"#be7796\",\"#d5d596\",\"#b19096\",\"#9b8d96\",\"#6b7496\",\"#932596\",\"#bcb696\",\"#e87a96\",\"#d1e496\",\"#d6ad96\",\"#bb7696\",\"#e6c496\",\"#6ac596\",\"#e9cd96\",\"#bad796\",\"#d6be96\",\"#6b3196\",\"#4c5d96\",\"#4b5a96\",\"#c1e096\",\"#f75f96\",\"#a36796\",\"#bc2e96\",\"#f28a96\",\"#4ea296\",\"#e9d296\",\"#bb4796\",\"#beca96\",\"#f9db96\",\"#d2db96\",\"#7ce596\",\"#a0a096\",\"#569996\",\"#5e7596\",\"#95b896\",\"#d79d96\",\"#d37296\",\"#609096\",\"#f42996\",\"#3b9996\",\"#7a9f96\",\"#573996\",\"#91ac96\",\"#c86d96\",\"#f3c396\",\"#4d6996\",\"#539c96\",\"#a2d696\",\"#a67396\",\"#8fbe96\",\"#842796\",\"#6f4696\",\"#61c796\",\"#99a996\",\"#b58b96\",\"#f96496\",\"#672696\",\"#60e396\",\"#464b96\",\"#88d796\",\"#c61e96\",\"#844c96\",\"#ca7a96\",\"#f6d096\",\"#b9aa96\",\"#a67d96\",\"#c7ab96\",\"#735496\",\"#ba7c96\",\"#d69a96\",\"#5e5296\",\"#76ce96\",\"#a5be96\",\"#b8b496\",\"#44ce96\",\"#6e2496\",\"#dfe396\",\"#ca3c96\",\"#3e5996\",\"#a92296\",\"#ae4396\",\"#f6da96\",\"#b29296\",\"#bb8096\",\"#d46996\",\"#dc9a96\",\"#d86d96\",\"#37af96\",\"#9bb996\",\"#669696\",\"#f29e96\",\"#c78796\",\"#596f96\",\"#ab5f96\",\"#93bd96\",\"#5dbd96\",\"#c0db96\",\"#99ae96\",\"#644496\"],\"radius\":{\"__ndarray__\":\"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\",\"dtype\":\"float64\",\"order\":\"little\",\"shape\":[4000]},\"x\":{\"__ndarray__\":\"3FHwNFMlUUCPNZ7n9Z1VQGU7pAUxo1BAayOr/mAjVUAPahjyS6VKQNh2bjrL01VAdejESCQ1PUCQ6CZynB5QQJJT1iCUkStAT2MumP0kQEA5VHooQRBXQPZoBPCSzSpAnK2LyXg7UkDpu/XyVGJHQIxM074rhTVAI0qlenr/PEB2oQRB7lZJQJjZTqGGDEFAWGleTT2TUkBQXe+5dS9TQPbiHW1vVFZARyNHvEk8UEB9jv8yI3NUQAZCCJ8pD0xA7ubykEfTEUDPuDDy1RIzQMKs72gnd0RAfc8kHeuFR0B09n/nhlQeQCKAiIqLTUlAsznhPme2L0COs1CScQNVQHashW+/gwhA44hVvwGSVkBfkNooY3YrQKd3uU4lvidAA+vaD/gLQkCOn6eGp9tKQEmgO5kGZVVAgU0D4pL1PUDfxwIpBqNUQPrjQmUZ40NA0l2aGiFFVEBMqHKN+39VQNy+4n2Iq1NA1G9oipKmVkCMJrRojU06QCVS2kcNRlFA9UTn4k+7GEDQuQt//H9YQCobKt77vktAxcEAQA2aUEDT9EKB6a1OQGnrVlqo51JAlP8K8G0/JUCdnXgMgKNNQIitNvrITT1AKoj8y66ZRUBFhE5ihyVDQCAorBm6aVdAdxOIGtl+QkDuXW1gfLRYQBEKjumVR1RA4HAfiAeGQ0AQw1F++dZFQHPH2qF26VJA6A5rt0IcOkDtiatwnjFGQJA71489HzBAMPMq0bznT0CbYhzv14hXQOX35hgKe0VAMP/uwyfJ0z+K23ElOvBHQC4OnO2c8DtAXOij6vveL0CGKVtekJpTQHD9g+Q7uBRAHnPantnYQ0DMFXPvuQ9TQF06uq2nckZAMAF5m54wQUAahtlnBAtGQIHTVWrUCENAztffOmoUSUAWyqZbeE1WQNAahiib9ThAfwP46wKsOkDouIop091TQAuZqtO8clZAvJljibtNO0CrpQsByHoeQImZuYZacz9Ay/4g9XaBOECg+Itp6X1XQGgJVb2UTFJAVs73l5xJMkB0+P+jOBxRQNrkWQ4t0lVAyk1KjTa4VECUwdzkeKhOQE68uBBMsEhASnKX7Hl0VkBdDPnMEPJRQNZvLiDECjdAV8BayHShSECuXgkHcjxEQF/enHZ+zlBAz+L+dn9uOkCr71B5NF81QKDFBFVQ40lAWBNl3ekRUEAABjDPhQM5QBp6UJ82eU9AX4KWRGnsQED1V9Awfu5GQP2QVpd5iU1AnBnm1aEWUUAfnnGrWgRTQIopcaqfGFZAWurwCRflUkC6h3vVfrVAQI41TA42eVFAbUK8FHaHTkBZW7gUYZ84QCRqomMOAxFAp3DiNlZvOUBBg7OY7AUqQOWXW6HSWUlAx3ZiNNY+PkAMhYh0Nd8iQIOfymHxv0pAEy9OcXWlUUCuNLTsrM1WQKleUV9BlTNAp3aaJCyzVUBb9CidP0w4QHkeCz1csUdAC3XtcgIcQUCx/1mMhKlPQGjv1LVpw0pAgz1afj9sVEB+H5G826BMQKxVFnrETCdAPcrd70HCUUAO+cA4xDpCQDJs1OLQpTFAdwdM/1AlSkCcQroJ5KoXQL9O+t2og0xAvSfxp2lHU0Bw8mNYVXs5QCTosXH6PE1AbNT46BBwNkA1uJ83Rlc1QIy7eNhZJRxA+XlBr+ydOUAHo8ydZVFLQCwWdwoN9TpATsO1nw1kKUD9gdthzVlUQEbGUyJr0kRAkQrE+eTCRUBFtkCs6wY/QORyQpnSbE1AtZI7iTEiA0CYZ1sn1qBVQHN0xgk2mFhA4LODbFs6MUAi5mT78LoIQBpFPZCs0jZAi0VCONHpUkAiB8s8TgdBQCg8g0grAlhAUr+z8cQYV0BNT4eVX3ZTQHoHTxNeFEJAblKSqqyiVkBxQa2UQskkQHZX3CkE9kdAGR83sTQsRkCcDm0t+KsZQI2xyl3y7khAoJT/dhRkQkBNdYHhD/hWQN4SvxqrQFhAbKHb7S0aUUCWZwcDyUpWQMAgCVxkRxtA2mr6Y0Ak9j8xILxJcCtCQLLmc+pwzPE/QEoY57+sVUDQeXRjPRBAQEBrXcrhIlNA/szpuYBBPUCfF+zPUIBSQNSoWqR+ClNAOtpx1rWQSkDBEN24QHs4QNJkWgHXDDhAzP/O/pxeN0D5xz8dzJ4CQFsixC2nLVZAM07jLxbbRkChqV2gHVxAQFC+5G8VM0tA1r5ZIdyiJEBgfhPNPfUUQEDl6uHBy1hAbfuzTGo0VEAzbv79daBBQDt3RPtGrilA1VbIzr+NVkDU0sHQ8LMSQEn7DXs9BzpAOgapqjlfN0Cxzv/phgpWQD/r7F5JzFBAMEsRRdqdVEDm0YO3H3szQHf+tUpOLzlAU1WcZnIJUUDQ7VlcmHksQP7qzD6IfFVAUvRUYlJxPUDRIzGJW+lJQNov/+NUHExARcem9W8nUUDVk772njVHQL7YxZkyOFZALta0nwp5QEDCDc4Kt/o6QJlRO3e5R1NAowRFdQIcKkByX2ssypBYQJFJU2MLi0hAAwHxj6fcOkCvkQjvf1ozQMb6/bNg0CtAmVDKZt9WCEByG9TQwf1SQPvZp/CpYkZAkn8MyvckM0Bep1nT+qVKQAB9XBfyE1dAntri6W7fMECjbfYs/oNWQGzGe0iyKCFAdWN/Qgk6I0AWxR8GbWxMQPDeW9xR80xAVmuj9CU3TUD6kpeeKQlSQBXdZa2JxixARBt+gUZrU0BD3VkQJe5LQPZVXikVZjNAAPWjag3jRkC6OAfK5sU1QGLaHbuDAStAomXkNXuDOkDnPL+68N0gQLsKeyZiF1ZATs5Xh6DGVEArKRysa8FSQCPNC2OjUFdAOh7tyXJuR0CCxAzX5/RYQKOPU+qCEUpApxkXqxMuVUDAxoVQQklVQJB2own2pERAzNe4SzBrUEBhRnnUxhs6QPE9Kp9XPFVADfH+ry2RTEBhU1E8u4hIQI7v3SNXExlACtEWSQ8YQEAQot95oVpPQICoij64TDNA6Ociy2rLVkAUCdlJE8QlQPctlc03gDtADu/m98a2T0A1SUctGo5LQC/DRy6QJE9Az1CquORGT0BAzxffL5vaP89YS3T4WExABpFmXersQkDyEjXxpl9CQJDSjTAuDldA8DAV+HUaIUBMclPx6vhLQBjVC/uDjdg/XXLEXRe6TkCaOMQiP2ghQM2liEjEC1ZAruTlULnOPEA8dcVGb9dGQBha9e3+OihAt2TTwYbvLUAak4vCmeE9QCXs5DxHO1dAXe7KkVwcT0A9BFL+rQBJQF9wWu8mAURAGHx+rSapLUCPk7rRYyJWQHJO/ddmsz1AtE1Ea0miT0ALJC6JjNBWQC/zkZyTplBAHdDTJbR7N0DsDthiMPVXQBvqc1A1oDRAJtzRNg3bGUAzjwz23K9UQE65HKLckkZAVUOgvfXlVkDU/IAFNwk7QGhiPWBr5lJAeJSUNqf2OECp9jwxVhFYQPuBMeO/P09A7QgLoWz6UkD9RUEHHc1EQJV6A9GZIE5ATl1h98ZsTUCtqIRZ1SwmQFojADNt/FhAR/pqV62IVEDv7S7NtAUxQIpaQH3M801ATXw5Ei8HFECsDzCzJ342QL703k2Y5x9Am5ydZD6AMEDdRPlEb5pQQO/8xi3no0ZAm/sb+bIrVEC5wrZTT41IQKbCPpWAeRZAcz1GG8XfTkBg7fgbPU7nPwdUSbCGEkFA/pNX6JreUkCRpECLeCITQEe3mfCsgkZAxFiTuAOYVED6uJwq59kRQHuGFPax5FhAoCYFXfOqTkAjmC5IvAZSQFWKUYSsm1dACHVLaQL5WEAAABg7Dlk6QGBJZVOtxhJAHC9PqEHHRkAxl+Bg+N1GQL32TcCj50pAQXqEZUa1RECTqP4iax9KQCC+j4h1ZVdAKQfAzOY/U0AI6Cq397tCQJglfV58kkFAxkDQ2sOsVEBQOaTxnbhWQPuB9JR5RShAhSQwgxQ5QUDnktZJwzcwQHyQhSq46jRAbdDSGkPvVkCVpyc0IkFPQIhLYBejmFhAqx7aETgFQEB8KO/Y8DlEQODaUC/IQgRAyGGJoQFbM0Di1UbAOyM/QD9dywO07FRAGMEa/v/7G0CW0wUJDPlFQBVkM8bx5kZAeyq4VIDvL0BurCwWqttXQP7hCV+4lUJAhiZgYXidSUBHG8ph7JhGQLDDeMvjfkZAerIARRPOREDhWAQVqLRRQCoa9V0UUEhAFvdCPYAoTkDm+fBpXJQXQF0KBobLmjVARsZHeMaPSkAAN81kmVZYQKzOTtHQVVhAosoeSJz/NkCXP849aT1UQCLXwwtBRUJAaiT56jNxTUAiOvogki5UQFSoHcBK10xA6knCuOFdGEAhOX8ShZE9QMi5I16mhVZAasBCF+o3TUATqBjfvdM+QMygn+cY/UlAcDupEInOQkB4vH4BjjwgQOhwIX6fgzpA2zuzLY1cVUADW2jjuoIyQDbyzxUIsUdAJdSfUIv2UUCQstysm6E6QGJZAdhUKU5AdgA0W5gTS0CJluBTZ68/QPxKySFs0fc/CE8hqoRHT0DYtkE5xn5RQCyDB5slX1ZAC8S2Dz36SkCYz4ALpXNIQPAFsWwk6FFAgn9zB2a1VUB5xgsv1aFRQFK1RMB9+VdAdTVv+TzON0DTyvzyVClSQD1yaXQK7EVAk2VKFJPiT0BO8/3XxY5DQMTRW2r+0TVAuBdV+bS+VkDHuLCQvc5FQP5/zySXNCBAIdxNxWPvLkC4s+gapLT5P3WY13asS1dAZLqx53ZSSUBfOF9WsPtLQO5PPvoF4D1AfcitZpxxV0DyECNuEcI2QLnL03IeoCxAqK01wKJWUUA3m7zU4HQ2QFXUKOcgjktACFE7Mf2gS0CT+gdVHtZNQLd4xeaFLlBAOUto33CPREBBXpsIieBYQIMIXbWe8BhAXJRsOM+/NUCI+N31r+1OQBRuBQuqPQJAHXgIhotTNEAlWlpvN9JWQKMs1iwxVElAaUJXUL84UUCHVb5PS99UQNRny2XFGlZAf3lUMGSAUUDY4x0KeCdMQCFoJkBuXk9ApWj2OF74VEAkzJJzQ01CQGi+sTDzO0ZADo4Fc72EKUAG9yUuYJQzQJNDDbv/7VNAEc4ZTOhtSUC1Xy2Rr6BFQJ1KNP62WU5AZsnVUBm7S0B1lMqLKWc2QLG0mYeqrlJAHi4C0OmYLECmWuHJ1NBSQFFOfVZ2tUFAbLAZo3DVWECgPQmscFPXP946fiidXEtARvp/zJLiE0BAFbQBasczQL8DfdOPUk1ACWBgO1u+V0AgIDgEQYkWQIibsdCwbEBAatlnolgzUUDfAuoC0KRHQEismgQFh1hAlBhmx4TVUkCKOURJySJHQL1TwYawBVFAfvodunaoVkAgpCVLDS9VQLAn8sZrGUdAiSNj6KNIRUBPDz9a+QNSQCCC4oXumjlAZ8jGk7JXVEAILAKEqzFTQLtQRVKCT1hAdvnBfJiHVEBkN8Xgc8z5P/I/EJlzzERAIzBaIJvHPkDEUKY27JBWQL5Nx2554lhAM4Chuy5UMUC6fJ/fOItQQKU2zY5yUExAQQFk0nc2QkCXSoY9VqdMQCbRogwzoVBAUO1kEFIJR0BrP/eyWnRJQFMdWsvUAFVARuS4ZW4BP0Cfu5TOSZQ+QBSBc26AnURAm3nMbcyiUUAugwokJukzQEbeUEzuDE9AZgctEvXpNkDzjpCY6vJHQMiw4yLpCVNA1ga4AWSkTUBErZWqZbdUQOmcXsfG2kBA8gqs0XdxUkAjAapngN4qQNfrbS7MrTJA6Hy+O8S0VkDyjWGrgQ9SQEwW4+mg21BArvgJI41vFEAnrO0MjdRHQHqIVRQCjUJA38lSWkl9VEDd56s7ATFGQH0skFFbkURA0IP38khe/z/iwmi1pqlRQC35kDhFK1hAXaoxlXlARECeShkzPNVXQNDNgc7OwVZAYu1jfp3YREBDJC3LaApPQPrITkwy61NA39kvfOvXMUB4kT6BE1pPQD4AYojt7fQ/dz2ptq4rVkBxajfTB4gwQERiAOUvsyFAQsNbo2cCTUBlvCaolG1TQJIAZciFzkFAXTRhIy4TVUA6mGsO7O5TQLmhgmZCzDpAX2j5+wkEUECbbhpgbDNOQPFTMqxKPFRAZBKS6bvnO0C6e8XYieRFQMXUIuu2NEZA7KSkSUI1GkDwD1Ep5RMEQBiJBwQk5VRAwq9RcU2WVkDBqaC3nuhWQJlWpupooEVAEZAoNdRqV0DsSW4/w7VHQNMjKin7liBAvwaOt//dTUAmj9Kuh305QGxGypKQED1AtWK9U0/fT0AuEtBHR5JHQNhiylHGMRJAvFaKdDnrRkBfVCWP9XQUQCCe2soZJFNA/JRegff7HUDcFrOax9ZDQE6ST7GORjpAvHGDz1VSQ0AgHQUxWRRPQDaWsrhQzkdAfHrFbUKeSEDYLOpwky9GQLYgmgHSV/g/55ZK3qPuREDMcFFb371SQIkFMLcpLEhA14KoO92qP0BzlKpPuiENQCY8dBaBtUxAH/BbffnfNUAAm5ovgHlEQETiYhomQUJAylfUxTsgIUBdvnikjkA9QK8VixIYIDxAnovmbea4WEAYzd5a97/fPxg0GpOk+EpAIMdBjoODRkB0j+ACOqdCQPvyBZG2ez1Ai+BS2OrCU0Deq/Q+qQxUQG8xXngKZ05AgTDEyEIsVEC9b8+3fCc4QGgDp1rfo0hAZyA0LsEWSEA6IQuSBEFMQJ6fjeIJzUlAKBJREzd9I0ARsJdmrWwrQCdhuIPdfClAzNZD0jfHUEDpP4PwG/JMQLDrVYviuFVA4Y3YIKO4Q0Dn4TS0OVRUQIJMSDgPuVZAfNtv3TFzM0A10mhTwVdPQJih0HL4K9g/QK3tItlWNEC+xKUMHN9UQDB8moyiiVFAFCAXAHWFBED1jP+2ZFZVQBsXhQySczxA6/iebEcETUBEh7m6Bh1RQJQWMDyuMldAv4z8cgsVPEAlw/z2xLRTQHSx/2xIjzpA4byfv16sWEC8RszBF85WQNtgkNECaUdAzhfdw45LVkCe1O1Ag6gmQPHEsnsAy0VAW+Ivk2GGUkAhZgKO8eJBQJCOWTdfkDpACbxeiUhyUUAgbIibtTEmQMwR451HhT1ANRuIIBrhUkBuFyWZLUFFQCpvaakuSFVApfMogws7RUBG2kziwmNJQPU9wkbVA1dAJiYMpq6rVUBmihv04b5FQOhr4IBIsUdAggMahLx9LEA6YR22cIYxQP4Ho8D73EBA8Ik1DTVa2D9KKdI6kS0yQEAX+z7dC0ZAolzAjDoJJ0DF3K408hMzQM2famO2MUNAO3NqjXzFVkBU2L0zSok6QIHPOo7g5ktAeB1LCKjP/D+4CbWrG6FLQNa6IDnNhS5AEjRPd+GtL0CaDzPDsANQQEXydsJzKEFAKoxYsMwVVkCikhq8eVhRQIjUaovF/i5A+GMT93znRUDUTEqUau5QQD1cMjItIklAgMtkNJflSED4FU8SWDVNQMiMWt3SFxVAHotN1vjvUEBAvHFKISW1P6BP8VET61JArNsxC2AATUC2rmSYPacWQL8kXuvmr1NArHYyX3oRQUCGfxj5esP9P6s5puTiGzxAQzBytPncVkDQ2BPGk0kQQODl7qkiRkJAVhF3OEdsVkC7+lxcV39DQCghArP5oUFAJFaAIOtiFEDJqLM5GQA2QNYWirj+z0xAES+/e3+4VUDdRNocT8AdQBs9Tobm9U5AHfzWLUgDSkDM4W27m39JQJiNN/cXzRRAksvn5yYVUEBwXcpe/OdDQM2sOh1cFztAttajK9dpR0DBu0XDfPQ/QKV3KyIRMUxA8KEUO+8o4D8ofgFXzxAXQKwObKl6ZklAMRynhtLpPEBoc14FVwkKQOWilRa2dlJA7PChsC9nT0Bi96bzFN5CQG6cFK92wDRAGCZR8k7TNEDX2tCz5yBPQOFdhtWIVARAymfXWKeSN0DGR01/J/wmQCV3dmcFiERADlHN+1EnVUAPphi6kvJXQGvJS1+lmkNAn+sSgQqRSEB7YSFdnrBEQHo27abD3VVAf2AVgvU2G0CBHSUG7JlTQMywOIr/+E9AN8Y+vtukTUB6i5Q7l6dXQIp/wdOlwTBA5ACD8ZqpT0DcJ3VkLys2QGQGjFs3TkhArFz3Y9ZiVECFuAHnDjlPQNvUWqNplEJAuDQulDDLSED8+wVG1j4uQDFCQUUIUVFA2x6hYG7aWEDzNDDV5v5XQPiiQ/vHTFFA8TRD/eP6VUD0Fau/Lg8ZQLk412o2XiBA77dkKBI2TUDcIu32K3dNQNu4j/ad+1NAdkk7vRTHUECLRWbCmKwWQOxkIEY6wlBAppbNUij9L0DJ9xXQIEhCQPsg5iR7d0hADnBusltHQEBKJFOEavVRQEavzMJkxDNADGof7qWJQ0C19rxDVTRHQOoZF+DZk1RA1v+7mQF0UEDgcxkwF+oVQH1KvVurvFVAH/1hIsXYV0Bu+3f6arwvQL2as48tvlJApCmgRY3QVEAdPBBNqrFWQDLsbQpPjFFAZyANi3ntVkD0/YTxzyhGQCXNwTjLWFNAwgDdM4WBUEAtjabQh7VUQNe+3Fs51lZA2EhdMiN9QkCuIBrW9LE1QNpAX+yLT0ZARTxZQYeVQUBLFTKUHSxYQJvp00kTvilATcBxD5yGQ0Dm/S/Z4adSQMBE58EoV9g/mGOByz5KLkCXpm++lMpWQK/bQGyDLVdAguc77YiQHkCBc3F9MolEQH/eDI4OSCFA8XTTRPVfI0CCkGhGHw4xQEIIpAK3+U5AIgT38ezTMkBo8TMDNxE6QAYdMMMUI0NAVPzSXIJDVEBmhPTBbdwnQG4trczjWgBAcKz6AcesUUCnAVqb3LZIQBSWGdnoMVdAGbb2rajSUkArcGhwHvM1QCqyhuQOnUNA2uBaVFlSOkDwBSd+tc/RP5q/b/bv8jVAfPJ4qWbQOEDcZps0HkpBQD4CL0tkXD5AMIfEWr8fSkA1k9oTqqRXQPgC9pcm9kxAirJj1oVYV0CbJbVKvMIqQA+4RresdkNAmNuUKBjkIEBrHz5XFfFEQAg4qMmvwh9Aj7NtuSt2SEAgASexCUdGQPJKd4yYf1BAsbVA/+5oNUB2puyi7Tg7QCSbEFw0NUZA75ulCFPoWECs7u61HCc5QGA/R8rRGd0/2ieGdkOANkDA7P6S3QEjQE5o+JIz8jBAyHN+UyDDRUApuFqKxCVLQAkLKYJG2VFAwXf3FUUhVUAwSPM0QFxYQGcxNgV2glVAaA1ojUCgSEBQxwF/H7dTQFJjYbovB0BAQGczVvj0QEAUvu9Zj+VDQCrp+dfnwEVAVxZnYRleUEDnKADF42hCQH6cH57+0zxAbphTBiScVkC4uJuD0KVXQMRvLqpK5jpAnDGgmOTfVECWpt9HBoRXQKlKet2er1ZA5NH4EZHGV0DI7ySCuVTgP0h5CtrgjkNAiMXFCqMOREC8RmfvpsE6QAyCEDR8NFVA5WxTbrLmQUBBZ4Qe4VAeQImQn8RBMEBAvohvhLJgQECDVB8vugBCQEXwyGpIUT5AWCjMwnDNVkB2LKOwpHFAQNC2ZcD7RytA0Ntp/pRVQkA4cb71HaxOQLCyBwFrOjJAJNRENEH4LUBfex63msNJQEAwaMAI01VAYGLb1i8bSUDsq5/bkIlMQGqXEih6iVdAl5FhPtPdHEAHtaAYb9dEQPNqp3KHFjtADDZLzUruVUA8+Sz2h28vQJhxrwPKmyhARM7a6+N4TUA2HxfamRNQQK5KbaWaoExAGfLZVEf5TkDqY82D69w2QHGtsH9CLlJAWpkZeEiZNEBFE/lqtENXQBQu1D+cq0RAWIQOvz/+PkBNC4UMyHBXQH79NIvGmFFAgFfU4vUEWEBEtyZykF1IQFoiyE1+X0FABMPKfP8CUkDkGRZ2DFMkQBsf1X5VGVdAtMF+pC/JQ0Baih14i3dBQB9JcQr5xk1AMiJ9e3h7VECltut/OYlVQHohJ00l0VVAlr3+ywjYWEBj6U8XGWJEQJtJycTzXFRAXaLR4me6IUBiDJMWE1VGQLRzml3gFlJAGgS6mrGBGEDQMCCJBRbCP63jvS72RlBAxmgG1xkDVEAh7hFntMdSQJsrRSyiCkZAqAutxNneNUCfiCxz3JM8QEvYdjhNrkNAQE1VJ7voVkBr/ai4eXk+QKjPG4Qf8FRA5Gvb/FzRQ0AUVHY04mRBQNNG6Ub2b1NAnEA53V/zVkBJDR9vGhxOQMzKBDRomeA/I5/IPkdkSUBgFPJ/YJZFQDe0o0Lz61VAD+S7RVVrMkCmdV+jdBRUQG76OLpCFlVAvadNWuC3S0BCzmoZVdZUQAFT+QyTFVdAGOvEFuYPKEAyeOPE+xQaQEQ9/Lqy+EdA+5YcsyQGPEAgG4aKBrJWQKK+OmpHwSxAE4cdz2djWEAvfRV0n1I0QNR818a+1jZAJKv+HehkSEC3oMU8FyoyQBiuPTEaCUFAoBUQ1lThSEDosyLRM3dHQOhGe3vz11VARunfY7yLPUCBtctXZCxWQIO8lkOPAVhAIrBXDQxeUEAlJa6soGZCQJ3+cNW/gT5ATzlKYxh9PkAbseniHF9FQG7QiJOJQlRAnCN8dkhaU0AEBRnvnJRRQESwt0Ek5VFAESiBvHUDUUCuW5NfO+lQQPQl6+J6YS1AcONBooMUVUD/31IF7qBJQIAY9Nl1RxhA1esPHBOxU0DMkE0lgp4sQC2iI8Ix8UJA300eI1ylOEBNtTqXGHFBQF6AuaGTckBAQlkt4GZ6WECaxvSAtKYxQAWKzUtirVBAeguQH4nIL0DFTlELatgVQIQEVCBWKDpATt8HCtvHTECGNyyJ/yJMQAgKBTKXlEpAQLQ+cSjxN0CwzA6kISxMQDJtMiKhoDNArRx7IB5bQEBbOBsj+OEjQOaCtnIZ7kRAmTCDfDbLQkCO67o8CfJXQJEhJkEm9zZAjggnRachRkBtP7xeHVBSQHreTA/50EBACopVzRnJVUD8AMAVa0RFQFtzn5Czyh5AkyAbP9ZiS0A91G1gKtVUQDckEiDoaAxAzDJP81xMQ0B92VFer3k1QC3UDviSOCRAj5kcyN5nVkB/J6YBPec1QLNBG7b6A1dAjTzRVApcVEBjmctnyEgwQAgVUqoRdztAp3KJbpWdEECWaeuy1ExAQAcLoMGbIk1AwPdJUM4XSEAMZCcjLhlCQOUOmdxKPjtAhup2hZlmRUAQKk0sO11LQJWIJbroa0BApvSvwMvl+j/jlG0jTQ9JQBrs3YHVLFhAxvKq8oCaQEBP+1b/EL1PQPUlnssviEVA0q9AvN7ARUDKJuRJRvhDQHOvWSWNMVVAgCAXytICsj/HQ5MnkARIQI+LvhPMKUtAJtEcS4B3PUCEj6MSjZ1KQLEz5g4a0TFA8tHNcqXMQ0DjS1dA3jJSQPsr9x/rX1hAMsE6jWMOT0DBwGjniW5WQGoIBgEoiR1AIaExaXgGU0B9fsoo1MhUQLs/KuwQvVFAjGsKeP2BAEC6jmxUG6hCQHnKKn5UClZA9LwbOfHwPkAIA8WAflFXQIBGXFsQ5jxAomUDm15FVEA4QIo4t8ojQGtCJprs6DBAqJze4O8CS0ARgnbSSClPQIKsqUYMqUBALxYnyxNXR0DlPYHfbwhMQNRK1XbF/0xA6k531Lg+TkD6n94BiJVKQB9o6bNpZlFAoAMCPqxC3j9aGfsUoyNXQKHS0cCzVjdAzqd/K2HtVUDgBGF192FUQDI30NJBgyRA98c2bGbtSkCeqALAXr0xQNQzPZXFhTdAuD1ylsetFkBky98RidBUQAWOcFWnJ1VAuNq3dhJ7S0D7lOlM0vAnQLdLPZWNvldAipWi52T+MUBMCrrZMTZQQKUB2JUOvEtADnQXs+LvNkD4UOFNtzFKQDtcpaf+akNAEJfVprCtVkDcYVP3orBRQJgJNA3xrOo/fqc1TcBzNkBFpSqvvdFUQDoGS51uTk9AYixlO6q0UEDB/ur2BXNXQLDccAtgxlBAu3MK4KPROUCnKbyk205BQFVJn8yBwjJAd73du7mBVkCWC3mx3aJQQN5thytDblVAFzv4k9sqVkA4pif8+vA3QPyjyddfrvk/RMNkgcEeTEB0v1P7pn8hQOkKsDxH+FdAEWhTLpSjJEC0UhS101RHQPINOq1XBEpAxJpMaGR4QkA2yZ5peV0HQP8YFveH+zBAedSUU3lJSkAOlMZVBeBKQLfMtOd/ti1Ad+aetJD4WEBcIjJYnGYwQMTYKxC/sC9A0npbULp98D9nCOdVYOZVQCAQo7givw5AMpYJp+EeMUAp910kZ15VQKEN29H4e1JALLhjAE9NRkB7flJaRpBYQEXxcUGE5SRAsOUzQq6NTkAMkqbjOss+QAoA4krZwEBAKtZZRzzjWEDrzmQi4W9OQBCHUHWwbEdAs6KTzMogTkCC75vS6A09QKwUsVablFBA+Wdu08TGVECJ6p6VQkZPQDJvGDvMalRAkxbxShzNDEAA2dEZGuVOQK6N8oe9Qi9AeqxiAySCSkCiHLh/YXBAQCSb2+AYQ1VAseO9Q0z2HEACi610mstYQE2KAusFXSBAUThP450/U0AMeUQBPrlBQHjsy2f8+0FArmVTeQwGJ0DeJZhQPflUQFZLODLDvjlAAnEiXIO4QkBnHCtmhGdGQM5HTS3H0DFAy0W/d4SNUEBlntxBzRZWQCNxzMBjESpAmM+2p5CCVkDzhXsi8YRTQOI7jWBJOUxAHnqvF+nMU0AuVN+b8/Y7QPi9AFri4DFAwXTzDqmrT0AmyjkQKIc+QOt8Af9kaFhAcdKPtYtKPEDAP0hJyYZXQOoFW+eggVdASkxtv27GUEC+0OIkGCgoQFv3/Vd9pStAlP6nznYYQUALMjC0zgtUQKcJf6QWyzFAuhNDZQKDRUCE7a1XdkRMQJBCORvExVdAUEw2WYWeNUBuGaoe74VSQILVXo7O8k5AJBdtHV20PkBjD8GPV19RQDLWqvg4UjJAymcz7SuaIkClAL0edww8QLBYgij/mldAVEslCYAPVUD6oBH+4fVRQLhiNvje20FA3OHCGem/UkB9lV1v9ndCQAHDbwyMnkRAaBF9pPWv2T9N24uN0ekxQAxuhdNGqu0/G7Gq1HodI0B91FyQq6dXQFTycdm1IVRAbgkIsr3KQUBtO8iJKvBWQLBQHCZIzlVAjgD5O1d1HED4mr25+OL+P5t3onBTrj1AvtMNkl9YTkAjYKFxjl5TQKnn5ih6QEFAvpYPqeALQ0B1EAH4KvZUQNKS6+AJikRAQ4oHHVgJS0COVPG/e3hWQGc4sZGZz0VA/BHE3lfRM0Dh9oJI+yBKQMB6UgQqFElAkOUJqL8dMkCV4GWSZQkuQPUAzP9np0xA8Gk7duS6SEDl6xZhhVFWQNl4iLOlrDZA0JuGKvrvMkDol62CkVIzQM/X0rNZSCZAWl2qQaoWVUAwJ3/2pRBXQMCN2AyXJ0VA1Sgm6QvQOkALlXOqiLglQPyGL5yyqlBAAvP1FiwcOUD4xjWqqtpDQB5Jo5djIkZAw5RfFTnfTkD6TX6pz55MQMyfDJW4p0JAMZSoJbVwV0CMAabW4XQ3QGxQaL09bFVA9Rnl3j/CVkDmu8zTxeQ1QIlae/Jfa1FA7+PW94EWUEDSllrz3c9SQPjxuOkHoklAh76KYg/VTkDkvY+C+NNMQE7NDdAp4ldAlcp6LGHMTkBN5pMTx1VYQAaIPDmadlBAWk/eLDpUTkAeXi0iPwJUQIVjFofLBVZAqvQIXlqBHEBM9OUDZcxAQP7dJlRNllNAlvhqcmJYRECXGm0w4mpBQIkUWN/Z1lVAtWDw1qJxREBI9sgK6dtXQAjzxmcZHElAHAnDXFb3NUDacOtpeM9VQPlPd3GAWFNAtdJYfn00M0DSVmEp544jQH/qrQ2duilAdblZ3XONMkDnKR0f4pNTQH5vPN5qGCBAkZRca0DcNkDhYH+wOw05QJhwtIkUuCdANgWKaWmY/z9D+R5m2mtCQFlENFGXfjZAwZZfl0c5UEDoVFnzxFcYQIZqwUZUYRNAlnUwSijbV0DjInh4w2BSQAtGjYLskj9AwJsESLlnyD+pWiFdfZ4WQHFJnJscoTRAwmQpAufAMUBR6q6JiFFKQMlLB4JEFRxAiQUY73meEEDdPSNw2s5BQFic6QSkilNAplkum3kwGUA80w8uP5xSQDAHxq15RC1AM+H7sNofT0B2ceJg6Ls0QKpIH7Mp9DZA6H/wZW/4MUDOnNvgjW43QNMx2WGUyTdAZTzeerHVS0CQseUJQsJEQD6GPYxVGBFA/eM5c/sTREDWTzhwWPlHQBTdSB+5wzFAIuqm10AmREAS+Wod3X5VQDCmViFemUhAtbdR7lDdVUBQxb1Thq5UQH6ygmEx1UFAdiNnqSGiL0DcXIsV6WZOQJz/HWC7HVdAj8SzbQYCV0BbVz5wlJYuQH3FSF9mclZASo8950f0QEDlkD2s1aNMQHK6KpF2LxVArUCIM3MUVUA3JRleBKJLQJoLqNloQlFAM/dYrZHaREAWrhLqbgtQQCOZ25E78FBAxem/iRF3VUCnz6M+EVtKQNei2+U7KDRAk1dLIweQMEB27Uxv6bc5QK+8q6vYiEpAIvHGC6d5OEAD2F0Ac+ADQFjH7KyuK0lAfnkSsfw5VkDbsJDbnVBLQL/+FkcegzFAsGlz7JdxOUALsDRYPiFFQN4rVd7xP0lAv5VeprO8READSoIeghNJQOM+Q/065zNAecAQjumBU0ApIQetjXUoQMoY/StZ1VRAC8KfsAPmQ0BmmW/yIulSQP8OzH2GDyhAKavhytJ0KkCy24y9IEFLQHNWyrxKO01AW7HQCBxTV0A2LfM7/4xXQD8a4ZcN8DJAscvHRrLlQEDNdDLPb60zQP6RG2HYFEdA4MUP1nndO0AqYwjnSmRTQOEqoiwfZC5AVg9K88rZQkAVCcLgHhs6QNM+li4Gj1BAjt/xRXPgU0DQBUGWS2RUQLjEg3SxDilAm8G+FbJOUECi3KRnfTlWQG9sg2VHf0BAplx1ak15MkBxrS0DMVlQQGW78Jz8zVZAtXHQkTv1LUDEV3D4d1RIQAQ6U1kErUpASma472AQUUAjpngTIus9QCpZlAWnfjNAv1uUHoK0TEBWs2fNos0kQK522nJ8QFhAzPh8H9CZIkC7latVR0VXQPtIljF0xVRAyvUix4fuOkAcxFnciRopQKO2vb/I4UdAc7PK9kb9Q0DUeO8W5rDqPzqc0VRzQldAyh2/0hiaTUBgLH44fR5YQF0szEs0DEVAd570vWusU0CJouIUZLNJQKnZEc6QOVdAYj4Jr03MTUAEXutgMCRSQBYdO3NHu1hAAxZtWHnOVECvaH5SCDpBQPq/ZcCLMFFAnC9F13tUVUBcHm1FJZNYQGaKE6HMj1VAS3aYJnSiVEC6yVGg8SJMQB9I79nRFlRAAvCwEsoPM0C8z3+K/atVQGDg/zTx20BAfAwog0k6UEDyvLpeWCYaQBz9Lq2ZsFNAiBPbx6avTUCuzIeT17tJQMLCEDSFmy9AomedWIqeV0BvpyScLn1UQFhQOWumIkpAeUMWpR/XVkBrM2Wf9Rw6QAtygxNJIU9A295XJRM9MEBz1M7VOIpXQJ4VIemAzFRA32+HRLp3V0DfDYpeQhtUQNWGS0sfNlVA9Q8MkVv4UUDVnI7n/RhKQOrBTOwf6UZAEeINdjXDKED4BkjRifpOQKDJKhdAYDFAexf9yvOxJ0Dg5KEL/ANWQCb1rxaXKzdAgOxYM7SUU0BUuv3OMwQ8QKUlfbLmVUNAKxsB2k76VUD+r3D9m81YQP0BfPTFZU1AAt5GrliHRkBqqxw7dn0pQDifVYB8LzlAed1ESVblQEA7qH5LsqdEQEq/00el8VVACsmDhP+9OkCpJv7kN3pTQOYBbpH5yVhAbZr2yF1JU0AyJdOrLX8vQEz/76y9n1VAqS4SHM93DEARd/bSzTsyQDKNvbTT5UxAct3i0vikUEDL4PnDnaQ+QI9fk0ZCgTdAwWpWvVfQTECwPFMt7olLQHP4lpcWUzRA5N9yxGlISEAe5oPFT9lAQCIihqbnD1BAhA/lCLroR0DOIByrbJlLQJEk4FBzHy1AqQCWP+h6REC3DEUxtXVTQOoolkha/EBAq2WX8AjHU0BFbGdimqxSQL7kBkjXkVhArKvFZS11UUCYwprRUsdXQKq+6oFuh0xAJRCSInDCTECgq+OJMNdJQGDhbT0kQRRA6plWWTSBUUA2y3ll9GkhQFGM17dsTyJA0uo77nvdSUBtnkuRSgVOQIo7v/qawUNAJsPMt2iCO0CEmXi6fGBTQK7eQmWWElBAE2WKkP8gNkAmAtXl93IuQHY69djpmFVAnBAVOpSdV0BTvvUqQ8ZOQECKTO5/QUFAD6GPPgK6UEBnbszTkTpVQHllYYdy90ZA1PpgjHvM7j8x8f3ncZoyQD2+2cfGR0xAi7naAeUqWEAAoSXGK9BWQDmu2QQMNFNADu8fpgro9z90jCG2wGMXQLLZThDIB1FASBMW19ngV0ATXqObOxBWQFZOzCsKW0VAdHfQMApiVEBLvjoaGBBSQK7SwofQpxtAwEr70bYKPUCs88xEuQI0QMpg9czt3lhAsOkMGD32SUDl2DFLrbU5QPCgPGOjoFRAQOzo2wAQU0DtZMjZeihWQFFcQVLYfTdAUsY4LgOzPUDg9DcSfVIrQNh+b4E37z9A3p0+3SIyNkCxudM1AJI2QJbGY52r2UlAGt7D9noZWEAygopvEGpYQOj2BJ5GZElAdcOqzbsFO0C2K73R+///P8Ml4OWij01AwvbzF1dET0A2qpVerS0cQHVHo1oXMVRAENLPoBvoTUDYutCYdPP4P6IiCcxLODFAlYn3p1pmS0Ai/Syj/FkJQEFIXrvWFlRADOUqNkTw5D+59Kmc5TVPQP8z0rI+kFhA3BmC99E/O0AXVUdx40dEQL2cCZP8plBAPrUDptn8NUDZApKk1YZQQCUugqPEXkRAU4AHLfq4DEBNq+ncT6gsQFDpk/4OA+g/C/NQ8by6R0BGrimPtt9WQIaAOYIOC0hAprEF4+ewTUDMv3imC5lEQPefFSpPUFJAwbq+u8UJJ0BxpIkTi3JMQKlu9mDjNURAXOhIpXXpKkCTc8XQXNFMQCdITxOTokVAgN3O9oLdGkDDlIe8BERBQP7sxCVpRFNARXPz3xcGVEBbZGf0pg9UQLaL8AHuKUpAMlZlF9n3N0DGT1vq+FRRQFY/GtpsDTxAtcxcWem1NUDOTJTlc45EQDUivWt8yUFAWrnPKRxCF0B2Afp8LNgiQP5qMOzmBzhAF7rj9vgRSECznQDPFAJYQBO3pUI2bVVA5pPYfdIDTEDwECvL7c5YQFy6Elst8E9ApKR7V1gLWECH/P+xXTI4QCXw3bWdnFdAO+JFGyfkSUCwQosb7OALQIgF3R1l2VNAvTfEDVEXUEALlFlqv7JWQPY9Cr8FeiJAy1g+mqmQU0ChqDSUVcxCQO49VUYgLQ1AWBpwbPEkS0BKqF4sSThYQCExP5T4r1JAaKkp3mDbKkCgxhJQqsrxPy96LIyX2EZA1Gk5XkiiS0AWyxp2DtlDQNiKTpHrXkBAwrZA+TG+UUCvpEMfLKREQEVMR/xkd1FAOUPRUEE4QEBq+FDJDlJYQI6rvb+lrkdAuqz4/AegUEAUuaWzuUdAQCb65Z7v50tATsVcR56EVUAqiUOGRfX/P6Kc6o1g3FFAOGNiU37XIkA4UVbL1BZWQCZh5BssDFZAcH0p3LZnRUB3QEw5WE9UQKmS210pCU1A7jTLOK1KVUDoQ2WJFMdTQHa6i8YBs1BAJNWBmmC+R0CYR0LRpuFAQBHY8gI3hUlAwyJ293sZRUBhOuzC4aVWQDQ3DCd0xlZAfCNkpMjgVEDLpSUbJj9QQKdN4rHf+kNA5FsXTPxFWEB+9xD7Li5QQGDOU8bdFkdAa2ieQME8SUCeF4u/l0VQQHW6FaXQgkRAtY8xLULyV0B5om9YHG49QGcAvWopfEVAEezEZcwPU0C2ASJEDwZRQFlD4++gSUNAGo2TICxcEEAUBmNMPa1AQDBqEl1YQTRARvt53m+7NEBo+UGtl8hWQPsZYin2ahxA35doXxBlUEDPY1ryA91VQPvglSW7TUxARjUwLOUuK0AhnxTyzfE5QPdn4zKqIC9Aw78ur/P+VUAGpT0cd0IyQCOJfNmof1ZAJgdmVgMWPEBKxHiVIARSQFxISeX2C0BAt7CxlBPGPUArjF4nGykVQDIBvQL0hyxAtYQ7cqbWU0BJZCD7ZJlSQDQC8ibm41ZA+aDVjnuSN0CSN8NoiNYkQI0Da196GBJAZ8+bKavMVUAHK8URXNcdQJ2447dxnVJALxWEN4WfREBz3mUrepc5QHeh4TXPf1NAFIgHhkg4R0AyK5yIGaNRQASgOgCwQ05A3kriszuMVEDWZCUKWbBIQPvHWown2VBAsEVchp4sRUDU+XQIGpE8QM9atRRVQlVApogS5XxARUDYxehtbBHwP81jjloQU1RAsnySMBhUV0DJS75vgKlUQJTQZJIOFjFABWWG/BvDPUDyIcRLl4JXQAvaMdYyTVZAxUZwWKyuS0BUMAjQ1VNTQG9pnYSdPFNAd/jjlwuyPkAUzCWRV0JRQOKPaJnHAipAqTFAdwXQUEBweh0GlshDQHp+fVqColFABEoJ5LuWSECoXFm5SZkuQCZEDTPhhVZA25xVCvQMUkAVZU/wx8lRQE027VavaCxADqnozW9qVkDwIPdlzmhPQGvhQrMi+1RA4lIlmDvEMkCeHN/rcpxYQCFgYOTKmEBATEQOZcYfTUDFaVWs4GBBQNsdFeFJNVZA4Bxo03VcUkDuhAn+zghQQOdp9b5yCFhA0NFaKZd9UUDutP7rpKJJQGh6TkXavxJA18mL119JRUCkjP/3Yt5EQGpMMldoQURAxVdYEAC1WEBQ/xhmmXsUQKNKbtePiU9AkDkqutwzTEC8wCBYFzwoQPHLoYzDETxA+YUrXKE4SEC/LfiEhBdLQOLZdo5LPD9AOZRkBPoDVUCOVo9bFD8yQFJhvPyqGkxA4ApbwUxPVkDt9aKzDdMHQPdrMKoAJ1ZAWYTTED08V0BxNmUrj3BRQPLs+OaqOTRAbngTZu3dOEAImOeouqkzQBz3IA70nVVAKM9yzGx5R0AfDLy++VZGQBIxd9wJXRFAPgxGtpQ7UEBtq/nDUMBMQE2wXhwNDUhAL6XzuipnREBnJx5CGko2QO3wslKxyFNAnTV/HwjQKUC8cxaV1FNVQND6eXJ5Y1dA3HGVkZ5LWEBxrDO8/ahCQEq1RxRupSJARGL1sE0aIEA1dqIRs/M9QPL6kT/HRihAZkWpjC31QkBbfBUipndMQNcTuScgPD9AYXvzrv5NSUDPVkUVV6RRQMgEd76cAFFAz3TmjPWDTUCECx1sNfjoP3lWYKKnUFBABxD0/X6wO0CfM6zCLGsSQEpupatV0kZAqo2v1cMSTkB6d4bArzJEQDr0cp7+40JAwgxzDcxMVEABuWiLM6FEQAQtqynkETlAxRUps8CMWECLgzgWJ9snQP9sB0Zn8klAeayzNfapVUCIJmMXmEZOQAq9FBCMdkFABwmmuG6zMEDGU1INYgBKQMNU8xAWqzRA6Y2uzoOMT0CqL53lBtUeQKJwWo8mASRAzAfQtIlySUDbFv1FPGUmQNoGnNFLPFdAcF/9llc5NUBYiY3Bn0RQQLcAs1U4d0ZAc1E7cMtcUECG8s01kkRPQIEzgulFqzxAK+ktZKezUUBVxiQxoCVDQCT35H/FDlhAotqWai3CP0DeK+gmO6ZNQHEVvB0WKkpAvoj1UwsFVkC8UsvtSZw5QGEXGSZYm1NAbjvVaE3nGkDmSGV6EA9UQJgoi53keFRAdQk4yJ3KWED1X0bq2YBYQMOiZNeF9FFA6LoJhWp8O0A1389xgUs9QMooGIpJOypAcjNSwuXRLEDWuZfSxmhGQMIyf7NufERA98z/zbs8UUB4QmI8x1hKQPYRk1wp/S1ARjgnP86hJUDWMGlmMCBTQEbNnVHX9zFAwDvSFe/XPEBhy8Ys5DMzQGPeU8/kqVZA0fAEmOd4R0C2LEW05aVMQE/A9UdzyVFA7nN1AmNzTECp5BPkN81BQC8cfNGNqDRAJPUqRvgMU0BpBCfPi7hCQNqFDKWaAlJA+rc4YUkmRUBk/UHLdrdBQA/UkpMhBFBAk8YB4GJjNkBLzREQnnFVQNqg4r7ReFdAEqn79QNuMUBCUoEULbgvQJxP+jzmYDtAfHV91Zw9QECaWZl5zf5TQFDGfWs13zBAQ4JYzSl2NECVbLDSk7FVQKRs2nGjjVFAps46AQn1RUCs4uyZpndXQPl4P9LnvUZAw7wJwIYBT0AyVgIjC+5UQPiuaWKL+C5AKBl6M3QUAEDveZlY5Sw2QFiZheuWxDdAbjePQaaES0DrX0srIoVTQJ4m5t2lj1FAEUTc6gFuMUChEmwqKe9AQGQwVdJEVkVAZdPCVw1rSEA4zR+pdxZMQMtHvgZoaFZA2ja6M92UBkCo3QWvWh9HQOx0KehQF/E/t4C/Sr7YTUA+nc48VGpBQGLttI4pwVVA/KWCFt2bQ0B7/9jwLbQaQL2GHj9T51FAPTVTUBsCO0C5eXWAK2k+QP2yWRg7mzpA9vxhhyncVkDea42pL5TwP1e6S3l64ktAgF2xqfJJWEBgfoVmhexLQBRPMg8VKjRAXx65EdELK0BHgZCSpL41QCnqG06gOklARrxZmvTPV0Af4J01Dw81QFJBc5gYGT1Aq/m396GWQkAAqq7b645XQCAxlejnzklA3HG0Qkn0PkDE8Y9j6dZTQK2b6MAKbDNA1bue18lOQUCk0K2i/GsnQE3c7XA7FUhAl92zmuCZTUAcK78s6mxUQIhrrQOB+0FAcwQTIxiWVEDoynnRgZlWQEq0UvhTWhxAWHQCH4+DQUA880KmBntNQIblLFpM6RFAR6N/pf2gTUDLAR+BAD5SQFLFodJmgyRA4BfAk708UUCbxcaQnq5YQP7neT9mtzJAl2MGHP8WUED9sgboU2JCQDpaifX39lZAEXW0tV9vRUCVJksH83ZEQJ5Fm9xIglZANjXjqw8MMEDfImWzu0pRQJXWETtfJ1ZA57EA6sFwWEB0X04BJ9wVQCwyzToJfUZA6hioaM2ITUCqcIB+lnE8QHiN2fXV1FFAWWv4SlMuREC6DMKFsKZRQK6AOUUzBkFAnyJ75huNTECW+Fc96vVPQNkEouuBPURA9ns1YCoWTEA2kW1rWmsuQKlmugt0LlBAAuRZ9PGLV0B26CLTcbNVQEqVqmd3hFRAeuzdL74vUUCJnGrO5KpUQKpPt6JTJ05Ao3RN7y7TPUBbpIu16ihVQKEfEV+Ylk1AQLL9/RvdDUCIl7f/XANGQDiADxFHaVhAycnkM0xmTEBp40pj2ghNQGPOpCyakkJAAaItbZXLQ0DQLpjvZIRRQGd8Jd0A91hA44SqZ+8NGkCgUfgjZ0tSQJCwOsD141FAMh1HyQZyA0Brz5GOSTVGQAFwnU2qEDZAXKDxjmD+UUBjIk5H8ydVQAQyNz3uLUdA5pir7UFmLkA3JLE5U+pNQIgT85n+VEFAtv9+DJ82UUDEVO9PYjdNQKexCF831lNA4jOJLEMiSUDHVqeX/6dQQAFspl/89j9A1JeuJ3gyR0D/sSCr/8VBQDUrtNQFSE1AsJj3i0BZKUARV2xADttJQKh1s03Bw0tA8vwshtSF8j+8xhoghnA7QM5ivU18FVdA95gcIFGFK0DWPbDREbNEQL00w2SNmDlA4O8w5zgOVUDZOVHkDSpGQABLOiaB55M/nrUxbCWJOUBrI0NxmjFWQBFFse7o11dA/Cw525KvU0DtuHPHsS9IQE/34Qv2xlJA5CYcupuPUEAC7lTpt3pSQG8ytgF/5FBAEK8eCO/fTEAZJVo1jidWQB+L0U4GDUhAcj8cADVqRUDu0sHgs+RKQPYCvsF4/E9AhCPzLrIDUUBq6B2ijbMlQEe4WNoyWVRAf1AZrnBVREAD2tLDxBRGQN7Q5crLjPU/S7CaAyjJH0CzhmN6SXNFQG5bP3HJTVRAXPBe3NFeRUB+Z062sW8hQDh+FCzQv0FAly6R2q0cVUA+4pNBgIFJQIkCpG6QiElAvLmOtCRESkDW8eP7WEtMQAFxh4Y4gVhAKLLl05lJUUCiqestTc8SQPef2LGyW1ZAoVPV3VyiUUDW3tvZOdYtQBne/sgfMzlAbDLXHvt5VUBJm5CV6f86QLNUq3eKdUVA/sVJ0qG2TUBcjhd4lkNMQMUF9/9gg0ZAvAxoN12dWEDGe0BvUPbyP0LA853jQENAptEaCnPpUEDzbHLr5IwyQPzhyDEXDBZAEP45Ygh4V0BnI9CYv4lJQLB8JoTRdVZAthmgqdHtUkBBF3FtigFQQM2skQxouDJAVsV14FjwUkDgcng0FvUyQJTghZT5PEhAXqimw9rnREAzVub795ZBQCOcEqmFy1FADLnte074TkB8W3TXVDk8QCJana5aTk1A0itcjH+UQEDq8fwSxo9WQFaxFu+cGFdAFkc8JJLSMUDx2ALFMlhYQO9M4AN+9zpAdPsCK23DT0Dsec4JJx5HQBdlGSgQ9g1AKuQfdEEcUUCg8Iv1nDZOQHyDSHMoSFVA7V/FbR+bRUBganwrcwxEQNhPqlcJR1JAMR/kTKdVPkCv/vgPyEFXQO66CpR9dTNAe3ITO4MDV0AMe0SFjcpOQN38Mo9qJVNAmKedTJjH2z/rg+fIsdlAQCw3A6F0DVJAQwAs7x5XQ0Bafu6z9ptDQEfjJZFpakdAcwMKcD2jAEC7b1KchA9YQBUqW7z0QzFA6ghPUcJLVkDXoHnz2EU2QLzm2gQ2o1ZAXSo75LcCSEAVihk6PCsEQNXI8XmRQVhAzQhiOHQXWEBan5f1AylUQAbTiytXFBNAvCpArS1RUEDy8Nh8L+QcQOCIFHXLTUhA+XwrIYn/PUCF17PnO9JNQG9vJJKsgldAKJhqUdDdQ0B6+ZtVzX9EQM7WBYM5SwtAPKAYcP9uVkAfuqQKOLwZQEDg1jXkRvY/sWqwEgnxIUB4+RQQ8f5JQCtWTe7ziDdAtgeOYxLxR0DTmARrRjpMQNwVcRLhs0pAoUdLcIYBVkA7surWdENPQP81YrzFWVJAWaMlsPY7TkCkYHn3Jn8yQBliRjJt1VJAZgdONyBURUAoa6/3G2seQC5WmZJD4j5APPO/XvrpOUBgKN8iSrFVQNA1yCurXVZAWZCctfrDSkBcbDUOYilNQMK4uwAPNDtAn4tBYaDHVUAzui/VquxHQLj43JT/MEZArKFrECwBVUC7yTWJF2gkQKs8ejOQEVdAjT+CL27uRkCbR/zeTtw6QJOsWIWtGyBApuNILITjTkC6TPqejwZUQMepBTb19FRAWI7DHD1BRUDD+7K7wtsaQCeYK4ITf0pAiR7KjzXuN0CpUdhgGjZIQGZuvf/ApFRAz8Y//wDjR0CdDITf7AxXQPDxE+EzdEtA9DbwwIr1V0CuTn3b3GpDQMYF7GttPjlALfHBgio2NEA6W0I/vadXQI9lMf79u0BAiL95eCeLVkAIp6ISWQgsQMNOHJqoVT9ApmLhY2AzM0BoBMemdQ9SQJE2MQSz7jpAC7//eYWOV0CvXq3QGylOQOmCosXkWEBA4Kd+IdUlOkAtRmtx7ikvQDpCmTVtsTFAX8Sb1SG1P0ANn2HbIONGQLr4lsIyeVdALjPN9gcoVkDYL1vAh4g9QEnOXY3gqT5ATZFOzYMETUADsntwx6kuQAK8rugaQkBAvrT92g9Y+j/sp1jYWwAiQG4DzjgXzlVA/RzT2qoTGkCBaCLGbYo4QCIQbVraj0BA10rfIYGjSECqmZGyDkxYQJyVXlUOo1dARkTgbPCrOkAyjYbKspc5QEIMvvsqWFVAG9ihH7lmU0DumnLs7PVYQPnHIRkPdVBAixkTtrX6QkDS8Sx03/oyQMFK4ydeuFZAptQkhlf7VkAIyrTU8ehUQJ+61UwsRDFAWJhT13ItPkAkA9/OCkFIQMRbL46y7SdAnJ0iq0SNVkANblNmjMlIQKpGEsj2AkpAlMONBErPHED9dMONL0ZRQN6kzKNXwkxAgsSxj/9JLEBHUH/yzRVRQCOSvS6GDjBAyQwv9sNgMkC14gBg5cxEQJqSZF3WIFJAgHytRoAJIkAkGwxiwdBJQGUcNxawGlNATISe47TKP0DmQ5O8PNtYQFUt8vrzuEBATBNsN8ubQkBIkD/jaV/zPxSCzLfZwU9AKcLA15NTRUDKgYiBD/tGQPY+PBRbJ1BAhLF1SzzdT0B0tRrUIMApQF4Pu57tizFAXRAhOwKgR0CU5N4MSocfQHwfMZVUj1hAlbrEsZ8PVkBOiMPpgpBAQB3o7P/Rw09ArJmu2DruRECNn5zsh5VUQNMOazs4mTFAN6dz2ayqPUDcOSW0R0ZLQDDo6q7KyVJA2i4D0vqq/D/JTkEmEnRXQBEBcozJ7DVAuMLgEDmiRkBwkE3DLSlCQLwg8m9I7lNA0WVk5jBSUECDTroGpZdVQOjdUcGf+VNAWfFZAfl9OEBVB5k+Q9VVQCA8Dxe5Z0pAnz2v004uVED6MH8yFkxGQLH2cMigoVZAFgfPwZLZVkBnv1YkI7ZQQLsU1YcooihA/Z4aGVq+VUCveeYV9acwQBwvnTX+3yRAvyioMsqzWEBsJ6fTrmpLQMVv2zjlukZAfS18YeCZRUCjm7avzHs1QF6quUQ3Y0NAZF6/xCCJS0B4CAqsAxpLQK7t5HFdyTxAm30jkVzZU0B86RXxjglIQESvnJs80U5AFIO1BnP2RkALIaZFpgtUQOv78Plh8VdAxtesiCPxPkC2ZRWqJOk4QPbsqycvh0pA0V4eIfxJS0BxA4ljMmZUQHt8/0Hrh1JAOVBqQM76REAOAJAQwWkXQJxMpUSPWk9AAqi6PM/mOEAyGYVlf/hTQDr1U4NDOEdAScGnHzFhRkCEb/3aA4Q0QJ5VJdYJUVVAA18AWORCVUCKBNaDxTs/QNMSjXsrHjVAYpevp5JkV0BS7jFu8tZJQChDq+RL0PA/uI0Sl8f/TkChHkE3ox06QH8IbHHiO1JAfC59CGWBTUAv+EP2Bt9SQKA/WNGZZU9AYokj3SW0T0CaSKtVHfwrQLizsPd3uFVAHe/yQfqUU0ACRaC5P5xVQHKXUxJTcVBAJYJT/McVVkAOTQ/JX4BUQMyJMwcf6EdAZr3P83axQEDqAjPztnktQOjhfspGqUdAtgV6N9wmPkAivOzkGjVLQCIfoGgdXz9A6vGuQcQyT0CIPYZpjLEBQKFIl3XR7UVAcMXJ8defPEBAdnhzo6kXQIUX6to9Pg1AylirJ2YCPkCLCWN7+uZRQLwSrfCScFRAOYiYfz2APkAMfQUXXZRXQEkcg5+LVEdAKwEhw0ERPkArqZtVqrJJQB9PnlvSOVBA4DJlq4GgUkDaTlOyKZ5JQPIhdpBijVBAv6g0UjE0SEBkjc2l9WU5QCicvDiITiZAbCtM9EfNRkBITNCIw2FUQN4PmDgudTtAnuXYKSyzUEB1B9JetFxYQG6eLUUy21hAR6b9iZlCUEC6/5KPjxpTQE21PIPdoFZAFeQAXbBDQkBtYTdTxY88QHfBXodGrUNA2aUJD7ffB0CiGbEFn4b3P9iVgy8ItklAmGzvFlSNPkA3+VShvOFYQDihcOVrZkFAMs6DLw5VPkD4JybecP9SQPAE9wjmoUhAaujfBXnROUAQW/rwoWBBQEJQ0x0k4RlA1OGipptSKEC584MoqndWQKjPA1CbFVVAFZR00W1QVkDOKYXtZyRPQAF6TQ9u0zlA/osTIwciSkCJ92pTnNNRQMuzD7F/0zNAD4E+WeHCVUCn9HL0YNg3QFq21yaTfSNAT9CyD8ooVEBaSdoaI707QLV3lLt7d0FA/oTQTo8HVECmNy+Z6+c2QH1F3Wj9jStAXOaP+NLGRkDw84q67q9MQIq1vb07sPI/8WYKtuQJOEDTEo0xVFhAQOw4wFrhd1FAxqKRwUyRSUASlN1ohWVYQI7iCIwAYkpArFcdLbGeLkCkOQgJfBokQCFnOSJBpEhAFMHHmuQPUEDulcm0TO0YQBZIqkZK6SZApesKTWBQMEBGQQzEVctSQO92uYqqUEdAqDp20nBwQ0BY6dP30osyQHGGrcpShFhAi6jvXz96VUBf3YYlQp5QQNj+q8f1RkxAPvGs2lbmVECbrbdIxQtDQGiCyK5EpiVAd4YqXPRJQECY4gbFbnYxQIKA2o/FyUtAyxJDx52YSEBNAL0LAwYNQHKU0bd0skZARGsqkAXqUUAwGomnB/bNP/Zpd4oHwjhAJgVR8nVdQkCRIXmPjklKQFxb6b6XIEJANOqDD4ASWEDj7aOybA1RQKTvvN88TFBA0M3ByNhrVkCblYSQljZOQEVcsWFJAUdAtlMlscrGU0AoQVyhewo1QHY7c8+LAVRAlAoJ7qBKUkCshEsoYUlIQCqQL3iWHU5AeLwcfZRuVkCnsc0Uy0VUQKqMvNFm5VJAHs0Bq+sVSkBaumOzsFBEQGF2r/LD5ktACX039mjXS0CAQNL7Y/2+P/j9i1yQB1dALe2WhetwSkC5M2Ow5lNXQPa5eaJauSFAJBULnZgaPUBytHzWLGhBQDtjiAkQwVNAJfnZqJ+mU0CwYx5n0tVVQMZ9vg5EjSdAQ27EyXiyOUC61H8eyybzP7C/ljol1FdAmQ9zgsA6T0DKzUWZgypLQIC9chsf3kdAoKLK4e7fVED1uxt3P/5GQCT2tH5EbCpAaNz69pC07z8mLgM4t74tQNJ5U8E2t1VA+LSzViYXK0BiDkpxEXIZQAJS4/3+6BRABhexlj+tU0Acfp0e76D+PyqEVpN9jTFAwx/ekG4yOEBFjMVLHT9GQJLB6bMnfixA4nxfHC6W8D/KAB0gcVhEQN6yIgTixUxAiIwFTgUkDkA3WGlBHnxUQPho9x71kxFADTam4puTT0AismOMV8NPQBu0Axa/FQVAoWhFod3LD0AK3S54G+ZOQH4Fogth60FAIChBSUZPMEASqNTBfL9LQO/Td9Xlr1NABF3afmcRWEDklh1rrK5TQOUhUnwvhUhA9ghq/0+PJEB00LSfMJZMQGrx1hIrs1VA44xXzm7PJkAWJMS3IZ9QQCHY+IsoLFRArl5a9g7eJkCk05PSy4lLQBbm/wjpmy5AMNBezpvsR0BWaG2e8Uk3QDIh8Br1bVNAvFCdwNmkVUBWLCfCj0FBQJT0N47x1FJAINHcSuzfLEDPCBj+jyhOQLoiLqXdRyNAMjKYhh61V0Dp4+W0vMpJQDvUSuF/WENAthtYxxbeRkBySiRvApJUQLUiwasmLlVAFhRvEkwTUEBDOut1CCJRQPQqtPh0r1ZADqfnPKgsU0DdqWnVZoNEQA0HzC06fkxAfTJwan5tVEAcTO0YmY8IQOQiL+O9Yj9AiAVhZRG6IEAM6EUFAIROQKTt4NsJq1ZA7PtpgGbkQEAU4xbxzKNVQAAipzlIZlZAkMKV46NpKkC1UjvMBtNAQPcKsQTsFzhAewOTYKorV0AKV1C55wFDQNmlQbp5Lz5AEjIPG+QAUUDaYuTZUMtEQDuxDQyDfVFAIDwFtxJ6+T+QK0phx4tBQD3v86vMR1JANoRoh3IvV0BQyTmSJSoYQE+v/Ozf9FJAMba7WD+1VEBMJQZCKNZHQKbNYQzhU1dALQl2Ti7gV0BiLTAigXJWQB0Y0YoOdlFAgOcTsjUBPUDOR6dexaoEQBJLm4CVwjpAcRtBr0McTkBvzKFTz8tRQLpSpdi3uzxA7lxwBUc38T+tWJ/RaiJUQDBMjyTY+FhAwpB+Ui/IQEDS+G53nXw+QF8QL2tWPFRAU2G9EbkhNkBjM1tw5XcsQPMkpFurODtAuxlu9joCTUCCR12uUcM2QCtcYGhzmDtA0aIoz2N9QkA3GKTfAG1QQIv9cYWU8EJAmfE9/IrwR0CG2WyQRs8zQCoIbG01NDlAi9PQqKDBN0AV45SKPatUQPDakGIx9FFAI73YQcVQQ0Br7alpaC8mQDWoM7nCZVRAYecEFiiVNkCzPcoz2WRBQLTVe3OyVx9AZImliJXBRkBwW5thsDX/P3Wc7z+gTwBARBvPr/aMKUCutF57HW/9P6sMC6y201RAparbwmDaDEBNEpx/JPNRQK9mSIBPm1RA5aUmIbrjUUBL63gSnENDQNskAF5O0UlAzmOYRPGgN0DRmqZQmmdTQCMvrasi/ERAzp4evh2hKkBcUMyugCVTQNeccAaZGEpAgUXaoggiV0BehdWNL5chQC0ujdpS9A1AIT9WSiGrSUDytsBQDhlIQDaeFqZh/VVAcMz8i1Ic3D9OrUvtGsROQFYxKmY9hVNAG3ecPFtjSUD7sdvUww9QQH/53Riyk1FAMD4w9WikUkAj9kf1jtU8QPYNlyDFrS5A7Ku3fPSIV0DkVdFv63RRQMfJXXUFp0JAFu4Pewg9R0B3Q7h/d15TQEPMfpTfplJAlyGL/8Z2SEB+/Uutepb1P4qCQR/Ney1AtI93prIVSEA1mvyjWu1CQDh3wSQ6IDxAZjTx/VuWJ0CAXR6GhzlMQMgoopjHbwpA6FE/83BbJEBjnjGAEAhUQEZvhzxpEFVADX0XCSK0UEAfhR0AQrhUQItQKYjhTVZAtlDHHylWO0B9dz0tJ0xYQLtO3a1Z/S1Axr8jg0w0TkB72D/e/BJQQIkKBjqz6FdAP36DdRFlQUBEJZcxhKEYQHZCBjNmShVAyEdBQFvGQ0BoPi3fPyFQQLpeeIiRnkBAid0AzPurUkDOrKZjIHtNQNOdeaGXYFZAERJLStivQUDENU97kVA8QPKArR0JSFVABUtyx4qxVUCJ5lcYI+YwQNRBGomt4fs/VvKO96RpRkAiT2usPsVVQJgeiVCrhlJA7qhUQqAaSUAAR86jwv9XQCTARmys7lRAFQNbMKToUkBQvYGLXrxQQGNmWgWq0VBA5lqz9PdjIUDvIo2gjZtVQJ6JAWnQ0xtASTs1a1ymU0AO4RNAAnYuQNJCyE1TVTxAmd9kjbO+WEBTF+Bco39FQExL/nOLrFZA14XQUKsGUUCsHAKldwI5QMnwP06u4idA63qVcVP7UkDHn4dyqexLQL1foM5a5UNAiYSdYjIsU0AOT9c1i/BYQH26DKQGBUpAQ5QwznHYV0A+tes2rl5YQB1BoHsv71NAPhgg3n1vV0BCyVgvRFcwQCqXLbt+ETBA1YHLrtgQV0AyN3LWZjc1QEIeVhDp0VFAMO1j5DAQJ0AMFxLNT39PQOe4T2RQNEpAbQPVusmcPUAINpqBS/o4QOoeCqJXTBxA2KDwFkLVT0CE7o5X8PdGQKnznDX9UkhAUqOZhu7GUUBL96WaJntTQAitP9VCzh9AlOhLiZ+7NED36DBHsvVJQGyVvXQ6OkVAnFP78N81UECdv3J1JadJQL+daaQxfjNArErom4Ii9z8ngSlV1/JPQKWUY0c3gFdAcqun2STLUkDUryjxZNtAQI2YVW5ttlRAaRXSXDwXU0CfXpLq9MVVQBixhyk4kEhAxdRuY0LSVkC8RYmJCZU0QFeEmPAJlkRAIUqIXF3kMECmyLZaxWZSQNQWM5lfDVNARjctSfRr+j89rlRA24RQQDfrNrj8oVhAyemwfh/zPkCLefSdENdCQESuN+OWB0hAkeR0g5umWEA82dgcZ2BPQEZ3YSiwaURAQcfY6wSlRUAJjX0BVEtSQN7BCSunRkJADywt5a6NL0A87g6p91BDQKxr7Jgdb1BAqtDnNdyWS0D/xIUAGB46QBXx6KqDFDpAjnLolvaAU0DNLyOnSwxHQNPuf0b0qTRA4MY31kmTS0Bc1tMPk39YQDCSaLYNxExA1xaHPjXNTUCwfu3Fi4ZSQIVRUwo3PzpA0PGixGewTkDGXgFq5udCQEh2ax3R50ZAjMS4wFU9S0A1QIa8dmFSQIKES5BK+ktAwus86747IkDH3JhGuqBJQGI6kp84nkZABEVdPBJVQkD6h9kS0IBKQF9aW2kebExA4tYCkEfiUUCPVyRyqfBXQFOceV3xQlJAScvtWk43UkBpPwgdRN8zQH99g8HU7S5AVdBg6HdAPkDtRpTO2eZMQNhs4WNF5i9AlDQdrw6XVUBKevUkFDpTQEAeNRHbD+s/I9Qbd8icPkDsDg8OENtTQC7b4yTM51dA+PXVymVhSEBcXbeN7idOQGpSEJDbyUNAAVoLMhkZJ0BIF9UZteY4QKRN5V/3iFJACAtVuNJvTEDrvOsF+etRQBEPKY5beThAiFvdDGCYUUBQ7kWEZtU3QJ00730dL0VA9vidy2BuPUB861tsrQMmQNEvb/LwNzFA+/SmRl2ZQkCSMhUOwOskQF3M1v+DClBAw+JUlCrZVkCK9Cd1XdxTQEf9ozLwjDZAGb7GveVwMEA3ZpZQiWBSQBO6BLVZmkJAJRf7totcU0CBxgt/QKRTQOBArfCy1L0/aGC2VfVsPUDgTguv/NhGQAAFr87etkxAJpABh9Q0RkDWG2JNDa1UQOr+w4BldkxAEniX3jYaQ0AyRhG6e1wyQKL+fIkh9UJA4H8Spn09TECWATjSkSdEQJaCXaesMjVA1aZh9/yPO0BrIOhfgGNPQAsM6Pp8xlNAppKZ1W7qRECqV6NweMxHQMVkW79wnCdAmjOAlzTRMEBuFGjPX0tRQELA9uenoTlAaH5zk50dUUDJFPtYsYBEQBxA5T2QgVdApUMSYBZUWECR/oG3IAdVQLbIdMYIFjpA045PoMfqNUDlduSX3Mc0QLEQrcqt7iFARU6tgvA1OkDi2TK/PzbzP9rUzGsAw0RAzEEjh8p7VkCVj+x9tCpDQG+Ols/5NklAwn9znVU6TEAi13Jy5WdWQBNv7dr1whpAgB3rdq5OVECzzWCGiNhCQEB8RPYMqDlAU3By1uFvUUBTWkju9P05QLKDLOnWLjBAkW96iSWRQkC5MCOpRPNIQOSt+rkSx09AoO3S96u0TUB7R5ilgwU/QJQRLqowq09AQizEAlhlR0D5OmWqjlhVQOrawnUFVVFAB2nR9F0wS0DhSst6NfRDQI2b3U9VuEBACdm6g7awTEA8sdgqiFVBQG7vmc6RGDNAg+3x2oCDMkBMYQH8D2FQQJZImNoW8lFA/xOa2rh0N0B/Pa5S4iY6QMIumQ+8eldAjIYK46XtRUAL1lltF84sQHjqKuVx8URAgHlrv/+wVEA7kO5UxhFSQJdmF4U0m1hAn2tMQ77iU0CjbumKYvYBQC357DqfmE5AZZXfAolJI0AK92kxdThTQHrQX+7PKVFAbE3JdznMUUDLIQbeG8JSQNCacOnov1hAuthdA+ihU0BAnbyrp8NSQP7/akL1AB1AxMBlVOuYTUDA5dvasbUxQNmggvmHODFAQNcU5SaDIUB3QKT6/7tTQIYvNyObiwlAmCvWn3unT0Dfd7GpZf1VQA1a3CtniEZAdpplEk1PFUDw/Q15QTRYQHpQ3ACWZUZA2p46f8VgTECakIdxs9A4QGbKHogbGx9AHfOxWVLyOUB52np3RrZWQHAwURFpZlZADRLkh+2aQUBO9Bg+/mBIQNYsxCU5qkRAvgQEzjCHVUAj0z8SB0UwQLCjAbLIbiNAYh3CiaJfVECAjq2vc45HQM46vExnukZAwaxpjCvNREDf3UbTwp9DQCT9strBGyVA5gRlKRzjIUDbyN3i0otVQBOAZLAhVlZA0Ny19yacUkCXXcYJgkpGQFbr7Bn7GkdAVlky89maQ0A1XPDNCrhKQEiSxiPp901AJ3NBRKqqSEDJx4gc8S40QPrtT3bUlD1AUM9F6kShUUB/KvdoN0pYQPmu89ECUDBAFJkDJ8P1OkDa8S4gTb06QD503OfqDVJA6aC7+b/AQUBHTR21cvlUQKbjfkknrlVAIGeE38zjWEAol11N1llGQHauj3nGVDtAJJs3jnTYR0DhSyD5utJXQK/BsItKxFRAzYNR+I5fNECJEbKrQXNLQDm0kKUMOkpAx7xqgITJQ0BemrX/I/FBQJlx3Y3qe0RAfHvIBppmUkCFzi6rEi5AQE0ihGLrUDpAiBz/fegIVEBmwCxBZHhTQFim7/jzMVJAS5SoeyVyP0AVfFmbvN1OQBW0sc27+TxAlJvDw4FIJUA6mrgAlV9RQFFliSGMozhAxZqAcePrMkC/dgMt8ps0QOqJdngC2UtAk116tF3/V0DU8e/cfMhRQGQgQQ7n+FBA2kV60AvPN0DIW7SC+B5SQAUjYTASFEFATvwyWRWmV0AO/4Sou8ZHQHwiMHgiwjdAYwHo2lW8S0ANPwhMQ0pHQMJmv5lm10BA0vi3hzr0Q0DqH3AWrG1YQKvqXqkqJUtAJZZc/qrDSUC3985BPAdUQDGRNdPqMkhAsY9mCOzJWEDP8owhFkBQQHxiaKnciUFAisPkTOjqUkC2C0kURBhWQDcDuh+ZYlVA9P7BjV2YUkBY/bjFb5c9QPNqm0bt1SlAb1SDlrXUV0DuyJk7HalUQD47nW+xektAoN4sxDtWUkA/S1BOa2NUQO2GhBk3GTxACP8jKcK6NECfFN5uZjxTQE8TfuG9IkRAVyy0rxxSLUCKdWqsP4FHQIbHumNcUVVAzmBHHniCJEBTSCESfZVYQEmiMY17pURAYm2+tE5YIUAtgAgdPrhVQBVH+vGDQTtAA5QN1WlhCkCPB6DQBtZMQB7msY0DRf4/7tfQJhSLSEAzXtQq2zFPQAsw7AQuuUZAgw8Q/J7jTUDeKR5KO5RMQPzodAAICUNAzbXg2Pu+QkAw1H1Bz0hGQKI+Bep+xRtAap0OmAZFIUAgVvSeYOA3QKbiu8SUhlRAR6btO7GuSEBa1JASENA3QBLRe23nU0lArUUEGCFtTUB3MpdKMCBGQHBTLnCQUVNAHnsr+61tBUAN0zk2p+5VQHa2j9k/fiFAhMWBYLbCPUCwdSFGxvxBQInWX8KtzE1A+Znby6J1RkDGO8qtzM8eQJSYQK9rVkVAWrDiW+PyTkAFr79ByDRQQCHBauUNP1BA/yrr0LSRHkA1BVslg6NYQPCqQalBX1hAyvLJ0coBP0Db8CjQaTgbQLAAaZOZBDlAOulL3BCKUkDxefd4T1YlQNRFkSe8+yhAowwhvvF8RkDGbLtLPO5IQEx97itw0RRAcXU3PP0cUUDaeC/EAlpTQDD2lApczvk/ii4YUY77VECCRWFcl+9BQNsqkzXd0T5AKrVv+zQsVkBTcFjBXr1XQJbmhO1qQVdAOCvQWq9z/D9jjIy64BJXQHT94kJKtVRAvWCxWUqwVUCR74FSKXlNQMSQFuw5LlZA5nhc6ZAIUUC5HNApTVhTQPUwC+STHEhAA4rilnkrVkDLl7GZHxhAQOhdEkj3QhRAPtfedORxSECUdJwmOQE5QM/3+hy7DEZAmuaVjwCDVEBq5OKiTmlOQDiC/36HcT9AbbXFZfb1SUDc5mCsbqFNQCJew6ljYSJAyzmSmswLVUAQCgK2xQcxQFtZ9vyRc0BA8c3rbXfsUUANzHz36a5IQCfFRS8o/lBA7rztPbZmP0ARFO3gpMtTQBhrt3hGVVFAi5YnhMrfU0AmFQ884kZCQOgHIH01DUVAkF2wfYk3Q0B2kYQerANNQCaKN1fas1FAKv8VFXzcUEAEEY56hFNUQN+Z4+NfulRAZkk2pEzFLEDa9poMhA5MQK7M8GhsvVJAHXWbZuaOVkDctL+g32BIQBlhOT1/7kBAJrcRETBKVkBUk3LVPFFVQIiy5hfdZ1FAYznOlnYTTUACn3JTx/cPQGxtKEoZDUZAawGhkfqmT0CDD2x613xBQEp3PA7ndhBABKSdEj6xU0AcejO8/VEwQOE4k215hEJAvVzNNTDOUEC798WFXQZTQB1qaNMtxVBAewHnMQtyREB8Z1E73vclQOfklPAo0UZATv8seiWzVECLOeIj39NXQBlqmNRgIlBAZ2fymkXkUECCVZEksDZVQNmPPu5hFSJAj76KSCU+V0D6v2wlHjEkQMOYMVPV5CpAPVUU+4myR0DMGGTlOA08QB5XLGJ+zFVAg+nAf6c0U0B0L6va8uJVQOq9KRibg1RA4+XIsM94NkArV2PBoqQzQEoAR643ljpAO0+L3bZVM0BppxCImaxQQOFNv1GeEklAuKWRoT73UED+buc7wtZOQD5hMWE3wlZA07U10/bgS0DPXMbZP25QQKh8kF7fGldAVnCLBLTnJUCBsMKo0MlQQGxRpn1HXiJAU5011Ti4LEDJB2H2NU0/QMK2DbAKGFJAEk0Mi/HpFkBo7Kp4HglQQD6LZuv0KCFAnQ0VixJ4VkCH80RkmncKQHTz2ZXsolVAp+kLqSZ6RkDWCKljrj0tQAq+pVdyJh9ATiLi8Q4OVkADBiH8NdkzQAZRTYM4t1VAkriUdQCiJUC1D5kqDDFQQETh6pkl4VdAoraDYk6+TEBzRFBjpyhNQO2V8HzVYVFAx/+a4egIQ0DUAyvi6QAlQB3NTV1Roy9ARGWXTjy3K0AArkWwHrxAQB8heFPrgkhA2VGDbXQpQkDFASY3wL5OQHnk+k5ROUNAWyazm4wEQkDSOsjqZe9IQGtrE+8qjVNAcfwL0s2JUUB7etYb+1ZRQEylL2pAczBA7AQgeVNBUUAp94aKNYdCQIg9Pa7k+h5ABE857AIxWEBbPtINcftUQFPf5+pzNkFADh2OCKCWVkCeirWhylBWQMKDk1aS3iVAeps7P9FSVkAgGneerAk1QFSqYwEKERFAAuecQiJyREA6Q58rw/pNQComa0fC0UpAVzUuy64NQEDQBxUQ6jZWQGmbS+VV5lBAYapU8yFPWEAWITBK3QgoQB+tRHf2sUdAC975PF6YUUCqLeVU0z1HQH7pkKLAx0NAlujRCva7VUAm/7rtsoRSQEucUxmamVRAhMhBJdqHVkAbiGDzfqRPQB6fevoBG1ZAuwVjFW/TTECJ7fztxy4+QLXBfAdUjkFAuGb8OdsU1T8+qUV5u0dQQGKLaJlZQ0tAHT+bVo+gQUD3BEBlRfpGQGz39PfpgldAqsRVYE2BUkBwO4V07+oZQNzLHb3IJixAWCvElujuUkCDb+xEbSsrQHXWpzywA09AdHwpTZw/TEC0vdqqFGFKQKkDFZn8HFJAvaeg0KoFIEA+jri4DIJTQNsFOspZ00tAj2D2Mr6sTUDckcToc3ZMQNZHd/DhgihAvXi/nYKIG0Cqv7bh60tOQMvRxfpjDVNAs4aygXfyUUAQAs4kE8JXQA6KEaamVz9AS1m4j/OhPUDdM+LXCDZOQCXm0EzdmlhA/O3XL+POH0BYkLvYhnFDQKgp14Hqw1NA2at92IBgRUDXF1LAge08QA1Qc3ojB0BAW9028hh0UED9SNQ0K8hAQJJUW46KFiVAlKxLC1kZK0BZGa23aNdEQAgEDfDm8hVA4B1R6xw4tj9QMb23oUlUQIyhEZEltVVAPjwQqmuaK0AmXcB15o0rQJLAcwC08DRA9e6/KchyVUCw82lJBac+QBhSSCvnxFFATybqgOLXWEBGlLak86cwQBAdiy9PljVALsdfmjvgQkDL+sRhzJQWQNqFe1lI+DdAhDRD/8ADR0AvwXMRcn5SQOLiqG7gY1BA7ju6b6JyJkAXUc8jrxNMQOnXn8rtJlBA8vQ04Zh0T0ANAI5nwElHQB/aD8wqu1VA1skQKrYvVEAoopiOE49VQGGM7EM9IEtAkUZ1uvmPU0B13ypT5mJRQN13onfIo1RAPo6VHpjLTUBqWLZfNrpBQCky4kW3a01AQYoNmH0vR0CUlRiPjXlTQDZ0fdNKV1RA7OCQ4i0xJkAn8Ajg2fkwQP8gx2x9vlNAm3P0xTXZSUAwWWdCbEIWQPV6a24SdkxAy4ob5HMSVkDNl1lO5KRVQOnnF2AHMVBAt/HFOP+bREDvMsALVLRXQLDgF4eOFDFAVihZ9sHrIkBZX9OcZcc0QExZTykGlkRA58PlQPJ5OEAT44oYwypQQNEUTKtY801ALpoAP2qZTUBvjpNd2ScxQHgptiaC40tAFEYfHEl2U0Cy4H2aNxNXQPxwqZLSJVZAlDOge8dSQUAZIZTLqjpSQENrU9X5y1RASLAmpsIISUBvb2/2uVlQQAE9464kARRA1TBAj920VECwiBbtGOZTQI/LFwoYRVVAIpLe2YapLUBavyHWAytWQFl3ivHW2kpAvZ3XirATRUDyazFDxm1TQFXu6PO+90JAMfv3p4utJEAfsfVHd6JMQGzwXNeUHVZAag0/8cBFR0AHCZlTrANSQJNn90gMHC5ALH/X0/6zMUB7uGVKycZMQD98j55+KEVAg7WiKiplSEBOIzdDSI9RQJr0HlyGFUJAWmAtFiybSEBOTDZdQOpCQDCLaC9sIlBARCsr2gzvUEDs34ZhnuJEQLzWlrdPSk9AaH3hiQrtWEAr237+MtpRQAq3I2U9UUtAwhdZF2cqVkCcD6nZIUPnP1Zo/frzaBtAxlNZY6YTL0AWJM3fbURQQJ3yhWTrMgxApXTg98D/U0AYm9EAFuwdQOMVFaqFNVFACHnkrv7iUEC07CNDB9NFQAAsJhSN3lNA/3PxOyaHT0BUIUraTpNDQEp6ZSLkLChAKZ+pkdTMQ0D+iFV7EyFWQDZJuzwm3iBAovZHjxBEVUDLYX/oJM5QQBk0GLLOU0tAWlQvowL2QED1RLg7GtlVQE7LlGc0RzFA9iY+og7eUEAaDwqCPdMgQCC0lsRFd0tAqgqRL9adWEBxHtLSeFJSQAFYwZuPf1VA3wdwz3L8VUAq1w0w+VVVQCB1ED0w+ixAFV6NCMP7PEDcxxOcHSFSQOz4QtJPnFNAsYOoh/cLVUDiZBtvvFVWQMR+U9FpcFNApW1utQZDTECtwZ0WoKpUQNWJKApOx1VALDi1QZoUN0DXJWkuoYVIQFf15/bTviVARJxpf+uTVkAzCn0CVSlPQLu4xyWLlTVAfyrXfp6HRkAiibMPSQxKQPCYByMsLlJAjGAlDolQR0AqoEuEymUxQCyFMKf3RU5Ap+HBOupzUECKfbTj6VkaQH/zWlhXTFdAXYgP4ZdZSECfsgLh0W07QOAvzbGn/lFAVlGqfU6cE0AUAKy+GxxUQDg+oB0QWldANDRLy291OkAly/dqsW5CQPVztvnYmUdAhUdCRDy9UED4wv7N+5lYQDCdorZaATlAIQUwvtJ6U0CazKdZ84RFQAvuiLFxRktAtRN723KzUkCEKdzXwB8tQLVXJhl7EVZAdtUm/Q+gF0CvXSksHdRAQElFqqCHnzJAayPjACfXQUCmlkQOVDg+QPu2JfHPF1dAn4oNQz5uNEBYgw0iu0A0QJqyj741PVdALpKJNxnHMkDBHtn7fPhYQCiC2E69AkVAhEdKFe6TSUCNiZqMuMFBQFRmyYXy3FRAkJsL+WXtVUD89cf7/nAyQGPo8RFFKiNAMnCKomrqVUCH7GwYO2lQQEXEuftaejNA8EhPUTfU0D+KNPM+a8BIQKpkHuJMjD9AE4Hf2a2uUUB+x9n/yPc4QFPOTGgNsVhACHaPIA5dLUBUT2cukUtSQAP/umaM1ldA12iHb32OQ0AI+pJwlo5MQJMhib/HpVJAw2SYOM/PMkDKamxobmdHQG1yi1W57kRAuafc9GC+EkBafB1ZVcVXQFkfFaSuDjxABo78tOfkPkDcn12OQo02QFAdl8yS6yJAwE7feGlZSkCTl678/NZQQKt1CdSwrVBAUKA+Yb86UUCzlq1gTopSQJoGE64HD0hAk3L/i5vFQUB5eX8OFElXQGIW7n0q0kJAOm6FJuKQU0AYSRknQ+dYQG8KV718Ek1AbaC+yfLFTkBJJqE6c/g6QPpuz/LEXVdAiaETvJYFUkDz4V4IkjNDQPfTTVJ92VNAtZkbjrU7OkDnA07SNPgMQEv65JBnyQ1A59u4vcVXQ0Bj+pg4g/5OQGZZ8hkGk1BAZSTDlxyRE0D3R2S/9IUyQF2f7q5S21dAtFJVm4xJS0AI1lIfj68nQOf4QbuQez5Aw9PCCKqqTEDG7mWqc0xQQNU0txXaYEhA3APjLjDLLEDNkGrmVV4qQHLE8l4+rjtAIBtoXLh7Q0CRMxC/4BpGQFyQBijtDU9ABx7GTlkGVkDnak+06itWQH1A/22wVCxASMMN4H/iVUBHy4JyZlpVQBRXIb++s0ZAD9T2V0ATUUBdZuCNl+pDQLdVY6kshFBAuug0BHznREBGSJ7AvzM0QGHSbqdvVkFA3uafvivsBEAoEjW35tlQQMLq6fGF2/A/8oyfKE92IEDX7eJKbhY/QF0PGB53eUhAuLhkthPdVkCZPF7gjElRQFF3nALrIihALyilzTuZQECjWqQuhLJLQBcwF5al/ENAMlgLauloAkDUWb3Z4X48QCnuVv0kf0FADlPjkzsYQ0C3z7ThQqdYQI+1vXCBKFBAGibUb/6VMkDouAXPOX5CQIoCFsQYQzdA3po6SDwUUEAoTbUbXaNLQG2b8dTxUE5AnL/Mb1RYRECKKsvUdnhVQPywZNg+ukRAuxlUpopwV0CFI5Qf5phKQJtB7B3ylExAAP5q/DNZ7D+WUDSjvfNJQLLRGHkpozZAdi3tkHqQWECZK3E0lyAfQIoP4MuCD1NA2YQrT+EVVEAh4MZyj21RQLhudSBWrEBALLBXEG3NUEB75gDNrqhXQENSVJ2+vDFAJ8KwsQIsK0A6Z/Lk3pzwP8FtDTKTJFBACHqKNF9vTEBHcAAAVYM5QPnRLkim61VAYIkqG58M6z9zN4LxfitPQKPqnDw3ylhAyooIqa8GSkCYXbv1TZIXQOiPouTtFy5Arl7xadFOE0Cj07RJ0NhYQAku5+WtSDNAgQyFphGWNECE23rQO7c8QHJF8dsdOldAcYhgqw/DU0ABPbGecxgoQDyGtQRPmUlAMepcA+teUEDYrlW4qGcyQHpWQqt8rkFA0lprRUkoRkBzqtXRmCdUQExb6P6HEThA+JwYDhJJMUBAxs43HVlGQIeT58eem05ADhAqg1OtVEAuggdcCS02QNwL4xv+blBAEhFBypYfUUBVkN0Xc/4iQIa4CNs/DEVAprH78mKlU0AAQk0sEb8xQNaaU43rTjBA1YvnWDTzUkCtcSPK0ichQKEjdDDXJlFAJjXhfSTWTECSHF+ClqhFQN9MWxfHdUpAH+puoFqfR0D8enn0IsxSQDDIJ8QOvlNAqWfneUvQVUB88pQrbL8dQGUsitOu4EdAZp1DvsF9UEDWBRbdx+NIQPLSub8PMURAu2qmPTAqQUAwXAwjZiNEQEOFfKc7I1ZAHr4j7ArQWEBkJ9NOz/hRQCXoauOsxVBAnwRy8n9rRUC2lobxg2E6QJj1Cm7bnT1A3mWVULv6E0DolcoseGgrQOKCz3K7DlJAAI6UtmBpRUBTIlHdMYklQDB/fa49vVdA6pmApdAZRkDMpQ2N0+gnQOnuDhPihE9AG7dk8qiOWEBTLiovfm1EQAWYL08wmFhAXMnaO9pJS0BINIYWk7lGQFauqtnVcCpAUbr9wPsIJ0CmVgkR2sI3QPum97pBzlFAqo/QFIlvNEBwVjp8DXP7PzU+i+3wY1FA4JA4jjwnKUBTOXvkUM1YQBcCobfy8FVAVTsfjMc5TkB3fU04TuRUQNAdk3BFAjBAq2w7y57vV0DEezKD49JYQFbnLZ5+hUZAdgcJMlnjMkCyge/ZJu1VQKS46hu6p1FAPurEH5YzSkAeBQYHRFv8P9f++ZhHl0tA2Yrhvvr+UUDhwK88EHxOQE7EmiOYElFAc65JKmsqTUBH33Q9WkNAQHliZnB/qEpA1XW6VwocVEDE0Lz2C7xDQNGcaxMbekJAdNibFI1kTkB6aFVqnbtVQDmh0g9Fx1ZAA4Cmr+gCUUBUZB/8X9FQQOUMiMpUKVVAMRrtTHcZUECkVzOxDfdTQLbi9UlomVVA6ThoQjDSB0C9ryNuHJJHQNxicdpt/1hAFSlhZN5FTUCpDZArqIJLQEbjPklxxD9AOKfXavEcREDtzhZuwQxLQEDTCjWE40BAjNK+qHmYUkBGtoqHkP5AQNyzB1JUNlVAxhR8L/dBA0BWGprK+MdEQD5AUsG43jpAgA+OksG7QECGThEZNUxBQJHSuWBolUNAr8ZX9EC7WEDA0jVKU482QM66WM0zf0hAFCqHPvkETUBRHl/zHawJQF8NXU91SUhAt86V25ZVT0CHC7Igw5M6QC4sihuVewdA/HblfD/o5j9Mc/YVgHZQQKf/H73BK0NALirKuCVaQkA72FxeXrZSQBZo4OZ/JklAWmgfFbqMJUD9118CCMpFQFI/a/OzBVBAtuK8RHT5U0D0ErJJFFEQQPq3qocVbxJAHbJdUybrUUAuaLsS/95IQMxwtCyfbTRA/EwkEUj4M0ASI9OnDSBCQNzw4A+ij1dAOYnz2haFTEAasSmYSSVEQJme2WtkjlNAoDyVymybLkAmmkOIWC8/QNq/6NJHYBlAAdu6QXsxVUDXYnmm3sBJQLAL3aF+aVBAlXCGq2SzR0Aqser3Z3g5QEVo9Ezuf0ZAZres9ShdHED/uw9jm3g8QEoAwVsOHzhAT6cfycJKREC/GRmwPj5WQNF18bLj00RArfVymvxIQ0DQ77W9GJE4QDA2x1Z/UldAJz34RdYuQ0B0wFkjhmg4QI8gbPOY31hAZAx/lE/KEUDmFMxW9rYlQLaLFQriNBJASeaw8GSJUUAK8MRqa7xIQPsvqDmRNVFAbq8cX4FsMkDZPPG7NeI3QMQW/CplTDtAooOhPc/4UkCsugwULQ5FQLkMp45CMjRASJNFRwCHSECeIeDGYCJUQK8N5P2JljJADG0y4grrQ0Ac0Y6Av6hUQLMmnas+7j1Anp3ljHrjEUChfCTIsolFQNgx/wnJuVBAtUuG62vyRUC4ML8lExBDQNAhq9N4TVBAgPA2sqefP0DGvvaRMaNAQKkcQd7VHEpAuyYmkINuMkAT+zLaDEpWQOgaoYRlCS9A4iJ8e3EK/j/ispGPpatXQF7VE46EIDpAG53piPJJO0DgLJCwJp/+P4FrXZOcs0FAdEBGcoM6QUCj8m4q1S5TQDOWkSZiCkpAGGUhotyBOEAO2nJJxAVAQL0aEoFz3UZAhbBP+F4AKUAJOppugZtPQIF0GHMfSlBA4GiwZHNgQ0BBPLeTd/lKQPB1copuWlRAc77a2GfTSkCY4HALwgdRQFXsgXObX0pAFhkDs5LFUUCyvaho8q1FQCqG7biURCFA0UbLqEdKSEC1i3vo8vpNQJgN105is+Q/i6Oa8dO3VkDbUV3l0AtBQOKkNz56pEhAiQhG2IinQ0D1PfDhf5dQQDNh9oRGg0pA5F+dq+I4UEB335X2Jqk1QJF+HJAu9z1A0h3q0YhiGkBjdnlPJx5OQPSYSvLEmkVAOs8lBH0yREBeUjPc0CBEQHDXH8JEZS9A1736SW2KV0DFW5deE4hRQDYizfCZblRAVf3xzUzoT0DjstDg439KQDHdojZS2TxA4NgQ4zdnSEDDq68+EUtRQK4GG1QZyVZAv3SkU2H0U0BD6BKfHYpUQIWEntl2O1FA0nxl/j6QVkAR/JQ8z3M8QCdfPOIu71ZAUgmU4l0BUUCoc1A1TYtUQEyc+NA2mDxAngyhniImKkAaanBly9cpQDxL7J1K9lFAUiQqDmS3WEA0RBaON3dMQOux/CAuVFFAu+aCpFMPWECI0sV+BF4sQCtULmTP5VZALQ4A5u45UUB38K9YKI9RQBj8DP1l61hAE9vJTvAAVEAfsVF66pBCQMr4PaKBn0tADsZAK2N3MkBCtjrebRY2QB4QyDYI4UhA8zvRTLSxVEDwOmWjajFUQCX5dqUcOjdAouz+J7FAWEC6gKgaL0QTQPJgHAa+N0JATG77yJifMkDQJlPaFt5HQFoxzZjuwFJAIZ+QypQzWED2OeUsQN0rQDZWXK+a0jBAkm8zrL4UTEBvsLmmmgRNQHaVj6z8WEdAbqq0MzCYREDsSSQnWZQ+QO0RU08/nTdAjAiZTDzbSUB4B/COKnNQQHC1Z3TQ7lhA0oNz5IaxOkB6cIJUQWI3QO2mC7nAnyRAxhbFltm4RUBX8uIo7oNSQGi3/NQXgERAbzazrdcPU0DyFRC/mo9YQOBjwR8B8VBA4ZPBJUQgTUB1ocU9OLlSQDag2PbqQ0BAMdoIZJYHUUDcMpNjcIpUQAQlPI2JGDZAJYMtfSYlQUCG/LJR6cBMQL63l4/1zlBAzQktCLVaIkCa/TGPnSE+QD5+dyZzsFVADvavZI8EU0DS+FeWoqgZQOG3oZb+101ADP7WuIo8T0DGKaoWt4dYQMBAsKwxFlBAe8OKCAE3UUD+yBacI1ZUQNubGYA/WlVAxKGCpRLFVECneQcCjAEGQAFyK4c4QEpACMMMW1IiOkBcGQ3QvwVYQKU222ckuVJA6twMSwPXM0Cdrjz2FGFOQALX1eZnV0hAFtw6/6fbNUBFn6haLtNRQM96LhME3ElA3QUaaM89OUA=\",\"dtype\":\"float64\",\"order\":\"little\",\"shape\":[4000]},\"y\":{\"__ndarray__\":\"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\",\"dtype\":\"float64\",\"order\":\"little\",\"shape\":[4000]}},\"selected\":{\"id\":\"11179\"},\"selection_policy\":{\"id\":\"11178\"}},\"id\":\"10728\",\"type\":\"ColumnDataSource\"},{\"attributes\":{\"fill_alpha\":{\"value\":0.2},\"fill_color\":{\"field\":\"fill_color\"},\"hatch_alpha\":{\"value\":0.2},\"line_alpha\":{\"value\":0.2},\"line_color\":{\"value\":null},\"radius\":{\"field\":\"radius\"},\"x\":{\"field\":\"x\"},\"y\":{\"field\":\"y\"}},\"id\":\"10731\",\"type\":\"Circle\"},{\"attributes\":{\"axis_label_standoff\":10,\"axis_label_text_color\":\"#E0E0E0\",\"axis_label_text_font\":\"Helvetica\",\"axis_label_text_font_size\":\"1.25em\",\"axis_label_text_font_style\":\"normal\",\"axis_line_alpha\":0,\"axis_line_color\":\"#E0E0E0\",\"coordinates\":null,\"formatter\":{\"id\":\"11173\"},\"group\":null,\"major_label_policy\":{\"id\":\"11174\"},\"major_label_text_color\":\"#E0E0E0\",\"major_label_text_font\":\"Helvetica\",\"major_label_text_font_size\":\"1.025em\",\"major_tick_line_alpha\":0,\"major_tick_line_color\":\"#E0E0E0\",\"minor_tick_line_alpha\":0,\"minor_tick_line_color\":\"#E0E0E0\",\"ticker\":{\"id\":\"10711\"}},\"id\":\"10710\",\"type\":\"LinearAxis\"},{\"attributes\":{},\"id\":\"10702\",\"type\":\"LinearScale\"},{\"attributes\":{\"axis_label_standoff\":10,\"axis_label_text_color\":\"#E0E0E0\",\"axis_label_text_font\":\"Helvetica\",\"axis_label_text_font_size\":\"1.25em\",\"axis_label_text_font_style\":\"normal\",\"axis_line_alpha\":0,\"axis_line_color\":\"#E0E0E0\",\"coordinates\":null,\"formatter\":{\"id\":\"11176\"},\"group\":null,\"major_label_policy\":{\"id\":\"11177\"},\"major_label_text_color\":\"#E0E0E0\",\"major_label_text_font\":\"Helvetica\",\"major_label_text_font_size\":\"1.025em\",\"major_tick_line_alpha\":0,\"major_tick_line_color\":\"#E0E0E0\",\"minor_tick_line_alpha\":0,\"minor_tick_line_color\":\"#E0E0E0\",\"ticker\":{\"id\":\"10707\"}},\"id\":\"10706\",\"type\":\"LinearAxis\"},{\"attributes\":{},\"id\":\"11176\",\"type\":\"BasicTickFormatter\"},{\"attributes\":{},\"id\":\"10711\",\"type\":\"BasicTicker\"},{\"attributes\":{},\"id\":\"11174\",\"type\":\"AllLabels\"},{\"attributes\":{},\"id\":\"11173\",\"type\":\"BasicTickFormatter\"},{\"attributes\":{\"fill_alpha\":{\"value\":0.6},\"fill_color\":{\"field\":\"fill_color\"},\"line_color\":{\"value\":null},\"radius\":{\"field\":\"radius\"},\"x\":{\"field\":\"x\"},\"y\":{\"field\":\"y\"}},\"id\":\"10729\",\"type\":\"Circle\"},{\"attributes\":{},\"id\":\"10715\",\"type\":\"WheelZoomTool\"},{\"attributes\":{},\"id\":\"10719\",\"type\":\"HelpTool\"},{\"attributes\":{\"coordinates\":null,\"group\":null,\"text_color\":\"#E0E0E0\",\"text_font\":\"Helvetica\",\"text_font_size\":\"1.15em\"},\"id\":\"11170\",\"type\":\"Title\"},{\"attributes\":{},\"id\":\"10707\",\"type\":\"BasicTicker\"},{\"attributes\":{},\"id\":\"11179\",\"type\":\"Selection\"},{\"attributes\":{},\"id\":\"11178\",\"type\":\"UnionRenderers\"},{\"attributes\":{\"axis\":{\"id\":\"10710\"},\"coordinates\":null,\"dimension\":1,\"grid_line_alpha\":0.25,\"grid_line_color\":\"#E0E0E0\",\"group\":null,\"ticker\":null},\"id\":\"10713\",\"type\":\"Grid\"},{\"attributes\":{},\"id\":\"10700\",\"type\":\"DataRange1d\"},{\"attributes\":{\"bottom_units\":\"screen\",\"coordinates\":null,\"fill_alpha\":0.5,\"fill_color\":\"lightgrey\",\"group\":null,\"left_units\":\"screen\",\"level\":\"overlay\",\"line_alpha\":1.0,\"line_color\":\"black\",\"line_dash\":[4,4],\"line_width\":2,\"right_units\":\"screen\",\"syncable\":false,\"top_units\":\"screen\"},\"id\":\"10720\",\"type\":\"BoxAnnotation\"},{\"attributes\":{\"axis\":{\"id\":\"10706\"},\"coordinates\":null,\"grid_line_alpha\":0.25,\"grid_line_color\":\"#E0E0E0\",\"group\":null,\"ticker\":null},\"id\":\"10709\",\"type\":\"Grid\"},{\"attributes\":{\"fill_alpha\":{\"value\":0.1},\"fill_color\":{\"field\":\"fill_color\"},\"hatch_alpha\":{\"value\":0.1},\"line_alpha\":{\"value\":0.1},\"line_color\":{\"value\":null},\"radius\":{\"field\":\"radius\"},\"x\":{\"field\":\"x\"},\"y\":{\"field\":\"y\"}},\"id\":\"10730\",\"type\":\"Circle\"},{\"attributes\":{},\"id\":\"10718\",\"type\":\"ResetTool\"},{\"attributes\":{\"coordinates\":null,\"data_source\":{\"id\":\"10728\"},\"glyph\":{\"id\":\"10729\"},\"group\":null,\"hover_glyph\":null,\"muted_glyph\":{\"id\":\"10731\"},\"nonselection_glyph\":{\"id\":\"10730\"},\"view\":{\"id\":\"10733\"}},\"id\":\"10732\",\"type\":\"GlyphRenderer\"},{\"attributes\":{},\"id\":\"10717\",\"type\":\"SaveTool\"},{\"attributes\":{\"source\":{\"id\":\"10728\"}},\"id\":\"10733\",\"type\":\"CDSView\"},{\"attributes\":{\"overlay\":{\"id\":\"10720\"}},\"id\":\"10716\",\"type\":\"BoxZoomTool\"},{\"attributes\":{},\"id\":\"10714\",\"type\":\"PanTool\"},{\"attributes\":{},\"id\":\"10704\",\"type\":\"LinearScale\"},{\"attributes\":{},\"id\":\"10698\",\"type\":\"DataRange1d\"},{\"attributes\":{\"tools\":[{\"id\":\"10714\"},{\"id\":\"10715\"},{\"id\":\"10716\"},{\"id\":\"10717\"},{\"id\":\"10718\"},{\"id\":\"10719\"}]},\"id\":\"10721\",\"type\":\"Toolbar\"}],\"root_ids\":[\"10697\"]},\"title\":\"Bokeh Application\",\"version\":\"2.4.3\"}};\n",
       "  const render_items = [{\"docid\":\"c8cc4b3c-f898-4857-a089-4765d60411df\",\"root_ids\":[\"10697\"],\"roots\":{\"10697\":\"abb931ef-f564-4f1e-98bf-38827cc54ecd\"}}];\n",
       "  root.Bokeh.embed.embed_items_notebook(docs_json, render_items);\n",
       "  }\n",
       "  if (root.Bokeh !== undefined) {\n",
       "    embed_document(root);\n",
       "  } else {\n",
       "    let attempts = 0;\n",
       "    const timer = setInterval(function(root) {\n",
       "      if (root.Bokeh !== undefined) {\n",
       "        clearInterval(timer);\n",
       "        embed_document(root);\n",
       "      } else {\n",
       "        attempts++;\n",
       "        if (attempts > 100) {\n",
       "          clearInterval(timer);\n",
       "          console.log(\"Bokeh: ERROR: Unable to run BokehJS code because BokehJS library is missing\");\n",
       "        }\n",
       "      }\n",
       "    }, 10, root)\n",
       "  }\n",
       "})(window);"
      ],
      "application/vnd.bokehjs_exec.v0+json": ""
     },
     "metadata": {
      "application/vnd.bokehjs_exec.v0+json": {
       "id": "10697"
      }
     },
     "output_type": "display_data"
    }
   ],
   "source": [
    "show(p)"
   ]
  },
  {
   "cell_type": "code",
   "execution_count": 51,
   "id": "3204bd27",
   "metadata": {},
   "outputs": [
    {
     "data": {
      "text/plain": [
       "'C:\\\\Users\\\\ITProdigies\\\\Documents\\\\plot.png'"
      ]
     },
     "execution_count": 51,
     "metadata": {},
     "output_type": "execute_result"
    }
   ],
   "source": [
    "x = [1, 2, 3, 4, 5]\n",
    "y = [4, 5, 5, 7, 2]\n",
    "\n",
    "# create a new plot with fixed dimensions\n",
    "p = figure(width=350, height=250)\n",
    "\n",
    "# add a circle renderer\n",
    "circle = p.circle(x, y, fill_color=\"red\", size=15)\n",
    "\n",
    "# save the results to a file\n",
    "export_png(p, filename=\"plot.png\")"
   ]
  },
  {
   "cell_type": "markdown",
   "id": "44655061",
   "metadata": {},
   "source": [
    "# Column data source"
   ]
  },
  {
   "cell_type": "code",
   "execution_count": 52,
   "id": "d15e6679",
   "metadata": {},
   "outputs": [
    {
     "data": {
      "text/html": [
       "\n",
       "  <div class=\"bk-root\" id=\"7bb8ab22-09aa-4702-afc6-b3838788213c\" data-root-id=\"11584\"></div>\n"
      ]
     },
     "metadata": {},
     "output_type": "display_data"
    },
    {
     "data": {
      "application/javascript": [
       "(function(root) {\n",
       "  function embed_document(root) {\n",
       "  const docs_json = {\"51409cfd-6656-4713-97a4-927ee38a2155\":{\"defs\":[],\"roots\":{\"references\":[{\"attributes\":{\"background_fill_color\":\"#20262B\",\"below\":[{\"id\":\"11593\"}],\"border_fill_color\":\"#15191C\",\"center\":[{\"id\":\"11596\"},{\"id\":\"11600\"}],\"height\":250,\"left\":[{\"id\":\"11597\"}],\"outline_line_alpha\":0.25,\"outline_line_color\":\"#E0E0E0\",\"renderers\":[{\"id\":\"11619\"}],\"title\":{\"id\":\"12066\"},\"toolbar\":{\"id\":\"11608\"},\"x_range\":{\"id\":\"11585\"},\"x_scale\":{\"id\":\"11589\"},\"y_range\":{\"id\":\"11587\"},\"y_scale\":{\"id\":\"11591\"}},\"id\":\"11584\",\"subtype\":\"Figure\",\"type\":\"Plot\"},{\"attributes\":{\"fill_alpha\":{\"value\":0.1},\"fill_color\":{\"value\":\"#1f77b4\"},\"hatch_alpha\":{\"value\":0.1},\"line_alpha\":{\"value\":0.1},\"line_color\":{\"value\":\"#1f77b4\"},\"size\":{\"value\":20},\"x\":{\"field\":\"x_values\"},\"y\":{\"field\":\"y_values\"}},\"id\":\"11617\",\"type\":\"Circle\"},{\"attributes\":{},\"id\":\"11606\",\"type\":\"HelpTool\"},{\"attributes\":{\"axis_label_standoff\":10,\"axis_label_text_color\":\"#E0E0E0\",\"axis_label_text_font\":\"Helvetica\",\"axis_label_text_font_size\":\"1.25em\",\"axis_label_text_font_style\":\"normal\",\"axis_line_alpha\":0,\"axis_line_color\":\"#E0E0E0\",\"coordinates\":null,\"formatter\":{\"id\":\"12069\"},\"group\":null,\"major_label_policy\":{\"id\":\"12070\"},\"major_label_text_color\":\"#E0E0E0\",\"major_label_text_font\":\"Helvetica\",\"major_label_text_font_size\":\"1.025em\",\"major_tick_line_alpha\":0,\"major_tick_line_color\":\"#E0E0E0\",\"minor_tick_line_alpha\":0,\"minor_tick_line_color\":\"#E0E0E0\",\"ticker\":{\"id\":\"11598\"}},\"id\":\"11597\",\"type\":\"LinearAxis\"},{\"attributes\":{},\"id\":\"11589\",\"type\":\"LinearScale\"},{\"attributes\":{\"axis_label_standoff\":10,\"axis_label_text_color\":\"#E0E0E0\",\"axis_label_text_font\":\"Helvetica\",\"axis_label_text_font_size\":\"1.25em\",\"axis_label_text_font_style\":\"normal\",\"axis_line_alpha\":0,\"axis_line_color\":\"#E0E0E0\",\"coordinates\":null,\"formatter\":{\"id\":\"12072\"},\"group\":null,\"major_label_policy\":{\"id\":\"12073\"},\"major_label_text_color\":\"#E0E0E0\",\"major_label_text_font\":\"Helvetica\",\"major_label_text_font_size\":\"1.025em\",\"major_tick_line_alpha\":0,\"major_tick_line_color\":\"#E0E0E0\",\"minor_tick_line_alpha\":0,\"minor_tick_line_color\":\"#E0E0E0\",\"ticker\":{\"id\":\"11594\"}},\"id\":\"11593\",\"type\":\"LinearAxis\"},{\"attributes\":{\"axis\":{\"id\":\"11593\"},\"coordinates\":null,\"grid_line_alpha\":0.25,\"grid_line_color\":\"#E0E0E0\",\"group\":null,\"ticker\":null},\"id\":\"11596\",\"type\":\"Grid\"},{\"attributes\":{},\"id\":\"12072\",\"type\":\"BasicTickFormatter\"},{\"attributes\":{},\"id\":\"11585\",\"type\":\"DataRange1d\"},{\"attributes\":{\"fill_color\":{\"value\":\"#1f77b4\"},\"line_color\":{\"value\":\"#1f77b4\"},\"size\":{\"value\":20},\"x\":{\"field\":\"x_values\"},\"y\":{\"field\":\"y_values\"}},\"id\":\"11616\",\"type\":\"Circle\"},{\"attributes\":{},\"id\":\"12070\",\"type\":\"AllLabels\"},{\"attributes\":{},\"id\":\"11591\",\"type\":\"LinearScale\"},{\"attributes\":{},\"id\":\"12069\",\"type\":\"BasicTickFormatter\"},{\"attributes\":{\"data\":{\"x_values\":[1,2,3,4,5],\"y_values\":[6,7,2,3,6]},\"selected\":{\"id\":\"12075\"},\"selection_policy\":{\"id\":\"12074\"}},\"id\":\"11583\",\"type\":\"ColumnDataSource\"},{\"attributes\":{\"coordinates\":null,\"data_source\":{\"id\":\"11583\"},\"glyph\":{\"id\":\"11616\"},\"group\":null,\"hover_glyph\":null,\"muted_glyph\":{\"id\":\"11618\"},\"nonselection_glyph\":{\"id\":\"11617\"},\"view\":{\"id\":\"11620\"}},\"id\":\"11619\",\"type\":\"GlyphRenderer\"},{\"attributes\":{},\"id\":\"12074\",\"type\":\"UnionRenderers\"},{\"attributes\":{\"bottom_units\":\"screen\",\"coordinates\":null,\"fill_alpha\":0.5,\"fill_color\":\"lightgrey\",\"group\":null,\"left_units\":\"screen\",\"level\":\"overlay\",\"line_alpha\":1.0,\"line_color\":\"black\",\"line_dash\":[4,4],\"line_width\":2,\"right_units\":\"screen\",\"syncable\":false,\"top_units\":\"screen\"},\"id\":\"11607\",\"type\":\"BoxAnnotation\"},{\"attributes\":{\"coordinates\":null,\"group\":null,\"text_color\":\"#E0E0E0\",\"text_font\":\"Helvetica\",\"text_font_size\":\"1.15em\"},\"id\":\"12066\",\"type\":\"Title\"},{\"attributes\":{},\"id\":\"11594\",\"type\":\"BasicTicker\"},{\"attributes\":{},\"id\":\"11605\",\"type\":\"ResetTool\"},{\"attributes\":{},\"id\":\"11604\",\"type\":\"SaveTool\"},{\"attributes\":{\"overlay\":{\"id\":\"11607\"}},\"id\":\"11603\",\"type\":\"BoxZoomTool\"},{\"attributes\":{},\"id\":\"11601\",\"type\":\"PanTool\"},{\"attributes\":{},\"id\":\"12073\",\"type\":\"AllLabels\"},{\"attributes\":{},\"id\":\"11602\",\"type\":\"WheelZoomTool\"},{\"attributes\":{},\"id\":\"11598\",\"type\":\"BasicTicker\"},{\"attributes\":{},\"id\":\"12075\",\"type\":\"Selection\"},{\"attributes\":{\"fill_alpha\":{\"value\":0.2},\"fill_color\":{\"value\":\"#1f77b4\"},\"hatch_alpha\":{\"value\":0.2},\"line_alpha\":{\"value\":0.2},\"line_color\":{\"value\":\"#1f77b4\"},\"size\":{\"value\":20},\"x\":{\"field\":\"x_values\"},\"y\":{\"field\":\"y_values\"}},\"id\":\"11618\",\"type\":\"Circle\"},{\"attributes\":{\"tools\":[{\"id\":\"11601\"},{\"id\":\"11602\"},{\"id\":\"11603\"},{\"id\":\"11604\"},{\"id\":\"11605\"},{\"id\":\"11606\"}]},\"id\":\"11608\",\"type\":\"Toolbar\"},{\"attributes\":{\"source\":{\"id\":\"11583\"}},\"id\":\"11620\",\"type\":\"CDSView\"},{\"attributes\":{\"axis\":{\"id\":\"11597\"},\"coordinates\":null,\"dimension\":1,\"grid_line_alpha\":0.25,\"grid_line_color\":\"#E0E0E0\",\"group\":null,\"ticker\":null},\"id\":\"11600\",\"type\":\"Grid\"},{\"attributes\":{},\"id\":\"11587\",\"type\":\"DataRange1d\"}],\"root_ids\":[\"11584\"]},\"title\":\"Bokeh Application\",\"version\":\"2.4.3\"}};\n",
       "  const render_items = [{\"docid\":\"51409cfd-6656-4713-97a4-927ee38a2155\",\"root_ids\":[\"11584\"],\"roots\":{\"11584\":\"7bb8ab22-09aa-4702-afc6-b3838788213c\"}}];\n",
       "  root.Bokeh.embed.embed_items_notebook(docs_json, render_items);\n",
       "  }\n",
       "  if (root.Bokeh !== undefined) {\n",
       "    embed_document(root);\n",
       "  } else {\n",
       "    let attempts = 0;\n",
       "    const timer = setInterval(function(root) {\n",
       "      if (root.Bokeh !== undefined) {\n",
       "        clearInterval(timer);\n",
       "        embed_document(root);\n",
       "      } else {\n",
       "        attempts++;\n",
       "        if (attempts > 100) {\n",
       "          clearInterval(timer);\n",
       "          console.log(\"Bokeh: ERROR: Unable to run BokehJS code because BokehJS library is missing\");\n",
       "        }\n",
       "      }\n",
       "    }, 10, root)\n",
       "  }\n",
       "})(window);"
      ],
      "application/vnd.bokehjs_exec.v0+json": ""
     },
     "metadata": {
      "application/vnd.bokehjs_exec.v0+json": {
       "id": "11584"
      }
     },
     "output_type": "display_data"
    }
   ],
   "source": [
    "# create dict as basis for ColumnDataSource\n",
    "data = {'x_values': [1, 2, 3, 4, 5],\n",
    "        'y_values': [6, 7, 2, 3, 6]}\n",
    "\n",
    "# create ColumnDataSource based on dict\n",
    "source = ColumnDataSource(data=data)\n",
    "\n",
    "# create a plot and renderer with ColumnDataSource data\n",
    "p = figure(height=250)\n",
    "p.circle(x='x_values', y='y_values', size=20, source=source)\n",
    "show(p)"
   ]
  },
  {
   "cell_type": "code",
   "execution_count": 53,
   "id": "ff02408d",
   "metadata": {},
   "outputs": [
    {
     "data": {
      "text/html": [
       "\n",
       "  <div class=\"bk-root\" id=\"4846deed-5c43-4b65-ad08-c170d3c019c2\" data-root-id=\"12380\"></div>\n"
      ]
     },
     "metadata": {},
     "output_type": "display_data"
    },
    {
     "data": {
      "application/javascript": [
       "(function(root) {\n",
       "  function embed_document(root) {\n",
       "  const docs_json = {\"19526dea-b584-4586-a43d-6056071254d2\":{\"defs\":[],\"roots\":{\"references\":[{\"attributes\":{\"children\":[{\"id\":\"12379\"},{\"id\":\"12377\"}]},\"id\":\"12380\",\"type\":\"Column\"},{\"attributes\":{\"coordinates\":null,\"data_source\":{\"id\":\"12287\"},\"glyph\":{\"id\":\"12316\"},\"group\":null,\"hover_glyph\":{\"id\":\"12318\"},\"muted_glyph\":{\"id\":\"12319\"},\"nonselection_glyph\":{\"id\":\"12317\"},\"view\":{\"id\":\"12321\"}},\"id\":\"12320\",\"type\":\"GlyphRenderer\"},{\"attributes\":{\"fill_color\":{\"value\":\"red\"},\"hatch_color\":{\"value\":\"red\"},\"line_color\":{\"value\":\"red\"},\"size\":{\"value\":10},\"x\":{\"field\":\"x\"},\"y\":{\"field\":\"y\"}},\"id\":\"12350\",\"type\":\"Circle\"},{\"attributes\":{\"bottom_units\":\"screen\",\"coordinates\":null,\"fill_alpha\":0.5,\"fill_color\":\"lightgrey\",\"group\":null,\"left_units\":\"screen\",\"level\":\"overlay\",\"line_alpha\":1.0,\"line_color\":\"black\",\"line_dash\":[4,4],\"line_width\":2,\"right_units\":\"screen\",\"syncable\":false,\"top_units\":\"screen\"},\"id\":\"12310\",\"type\":\"BoxAnnotation\"},{\"attributes\":{\"data\":{\"x\":[1,2,3,4,5],\"y\":[1,2,3,4,5]},\"selected\":{\"id\":\"12362\"},\"selection_policy\":{\"id\":\"12361\"}},\"id\":\"12287\",\"type\":\"ColumnDataSource\"},{\"attributes\":{\"toolbar\":{\"id\":\"12378\"},\"toolbar_location\":\"above\"},\"id\":\"12379\",\"type\":\"ToolbarBox\"},{\"attributes\":{\"coordinates\":null,\"group\":null,\"text_color\":\"#E0E0E0\",\"text_font\":\"Helvetica\",\"text_font_size\":\"1.15em\"},\"id\":\"12365\",\"type\":\"Title\"},{\"attributes\":{\"coordinates\":null,\"group\":null,\"text_color\":\"#E0E0E0\",\"text_font\":\"Helvetica\",\"text_font_size\":\"1.15em\"},\"id\":\"12353\",\"type\":\"Title\"},{\"attributes\":{\"fill_alpha\":{\"value\":0.2},\"fill_color\":{\"value\":\"#1f77b4\"},\"hatch_alpha\":{\"value\":0.2},\"line_alpha\":{\"value\":0.2},\"line_color\":{\"value\":\"#1f77b4\"},\"size\":{\"value\":10},\"x\":{\"field\":\"x\"},\"y\":{\"field\":\"y\"}},\"id\":\"12351\",\"type\":\"Circle\"},{\"attributes\":{\"children\":[[{\"id\":\"12290\"},0,0],[{\"id\":\"12322\"},0,1]]},\"id\":\"12377\",\"type\":\"GridBox\"},{\"attributes\":{\"overlay\":{\"id\":\"12342\"}},\"id\":\"12339\",\"type\":\"BoxSelectTool\"},{\"attributes\":{},\"id\":\"12360\",\"type\":\"AllLabels\"},{\"attributes\":{},\"id\":\"12341\",\"type\":\"ResetTool\"},{\"attributes\":{\"fill_color\":{\"value\":\"red\"},\"hatch_color\":{\"value\":\"red\"},\"line_color\":{\"value\":\"red\"},\"size\":{\"value\":10},\"x\":{\"field\":\"x\"},\"y\":{\"field\":\"y\"}},\"id\":\"12318\",\"type\":\"Circle\"},{\"attributes\":{\"axis_label_standoff\":10,\"axis_label_text_color\":\"#E0E0E0\",\"axis_label_text_font\":\"Helvetica\",\"axis_label_text_font_size\":\"1.25em\",\"axis_label_text_font_style\":\"normal\",\"axis_line_alpha\":0,\"axis_line_color\":\"#E0E0E0\",\"coordinates\":null,\"formatter\":{\"id\":\"12368\"},\"group\":null,\"major_label_policy\":{\"id\":\"12369\"},\"major_label_text_color\":\"#E0E0E0\",\"major_label_text_font\":\"Helvetica\",\"major_label_text_font_size\":\"1.025em\",\"major_tick_line_alpha\":0,\"major_tick_line_color\":\"#E0E0E0\",\"minor_tick_line_alpha\":0,\"minor_tick_line_color\":\"#E0E0E0\",\"ticker\":{\"id\":\"12336\"}},\"id\":\"12335\",\"type\":\"LinearAxis\"},{\"attributes\":{\"coordinates\":null,\"data_source\":{\"id\":\"12287\"},\"glyph\":{\"id\":\"12348\"},\"group\":null,\"hover_glyph\":{\"id\":\"12350\"},\"muted_glyph\":{\"id\":\"12351\"},\"nonselection_glyph\":{\"id\":\"12349\"},\"view\":{\"id\":\"12289\"}},\"id\":\"12352\",\"type\":\"GlyphRenderer\"},{\"attributes\":{\"filters\":[{\"id\":\"12288\"}],\"source\":{\"id\":\"12287\"}},\"id\":\"12289\",\"type\":\"CDSView\"},{\"attributes\":{\"callback\":null},\"id\":\"12340\",\"type\":\"HoverTool\"},{\"attributes\":{\"indices\":[0,2,4]},\"id\":\"12288\",\"type\":\"IndexFilter\"},{\"attributes\":{},\"id\":\"12327\",\"type\":\"LinearScale\"},{\"attributes\":{},\"id\":\"12336\",\"type\":\"BasicTicker\"},{\"attributes\":{\"fill_color\":{\"value\":\"#1f77b4\"},\"line_color\":{\"value\":\"#1f77b4\"},\"size\":{\"value\":10},\"x\":{\"field\":\"x\"},\"y\":{\"field\":\"y\"}},\"id\":\"12348\",\"type\":\"Circle\"},{\"attributes\":{\"axis_label_standoff\":10,\"axis_label_text_color\":\"#E0E0E0\",\"axis_label_text_font\":\"Helvetica\",\"axis_label_text_font_size\":\"1.25em\",\"axis_label_text_font_style\":\"normal\",\"axis_line_alpha\":0,\"axis_line_color\":\"#E0E0E0\",\"coordinates\":null,\"formatter\":{\"id\":\"12356\"},\"group\":null,\"major_label_policy\":{\"id\":\"12357\"},\"major_label_text_color\":\"#E0E0E0\",\"major_label_text_font\":\"Helvetica\",\"major_label_text_font_size\":\"1.025em\",\"major_tick_line_alpha\":0,\"major_tick_line_color\":\"#E0E0E0\",\"minor_tick_line_alpha\":0,\"minor_tick_line_color\":\"#E0E0E0\",\"ticker\":{\"id\":\"12304\"}},\"id\":\"12303\",\"type\":\"LinearAxis\"},{\"attributes\":{},\"id\":\"12368\",\"type\":\"BasicTickFormatter\"},{\"attributes\":{\"toolbars\":[{\"id\":\"12311\"},{\"id\":\"12343\"}],\"tools\":[{\"id\":\"12307\"},{\"id\":\"12308\"},{\"id\":\"12309\"},{\"id\":\"12339\"},{\"id\":\"12340\"},{\"id\":\"12341\"}]},\"id\":\"12378\",\"type\":\"ProxyToolbar\"},{\"attributes\":{},\"id\":\"12291\",\"type\":\"DataRange1d\"},{\"attributes\":{},\"id\":\"12369\",\"type\":\"AllLabels\"},{\"attributes\":{\"axis_label_standoff\":10,\"axis_label_text_color\":\"#E0E0E0\",\"axis_label_text_font\":\"Helvetica\",\"axis_label_text_font_size\":\"1.25em\",\"axis_label_text_font_style\":\"normal\",\"axis_line_alpha\":0,\"axis_line_color\":\"#E0E0E0\",\"coordinates\":null,\"formatter\":{\"id\":\"12359\"},\"group\":null,\"major_label_policy\":{\"id\":\"12360\"},\"major_label_text_color\":\"#E0E0E0\",\"major_label_text_font\":\"Helvetica\",\"major_label_text_font_size\":\"1.025em\",\"major_tick_line_alpha\":0,\"major_tick_line_color\":\"#E0E0E0\",\"minor_tick_line_alpha\":0,\"minor_tick_line_color\":\"#E0E0E0\",\"ticker\":{\"id\":\"12300\"}},\"id\":\"12299\",\"type\":\"LinearAxis\"},{\"attributes\":{},\"id\":\"12293\",\"type\":\"DataRange1d\"},{\"attributes\":{},\"id\":\"12297\",\"type\":\"LinearScale\"},{\"attributes\":{},\"id\":\"12371\",\"type\":\"BasicTickFormatter\"},{\"attributes\":{},\"id\":\"12300\",\"type\":\"BasicTicker\"},{\"attributes\":{\"axis\":{\"id\":\"12299\"},\"coordinates\":null,\"grid_line_alpha\":0.25,\"grid_line_color\":\"#E0E0E0\",\"group\":null,\"ticker\":null},\"id\":\"12302\",\"type\":\"Grid\"},{\"attributes\":{\"axis\":{\"id\":\"12335\"},\"coordinates\":null,\"dimension\":1,\"grid_line_alpha\":0.25,\"grid_line_color\":\"#E0E0E0\",\"group\":null,\"ticker\":null},\"id\":\"12338\",\"type\":\"Grid\"},{\"attributes\":{\"fill_alpha\":{\"value\":0.1},\"fill_color\":{\"value\":\"#1f77b4\"},\"hatch_alpha\":{\"value\":0.1},\"line_alpha\":{\"value\":0.1},\"line_color\":{\"value\":\"#1f77b4\"},\"size\":{\"value\":10},\"x\":{\"field\":\"x\"},\"y\":{\"field\":\"y\"}},\"id\":\"12317\",\"type\":\"Circle\"},{\"attributes\":{},\"id\":\"12372\",\"type\":\"AllLabels\"},{\"attributes\":{},\"id\":\"12332\",\"type\":\"BasicTicker\"},{\"attributes\":{},\"id\":\"12362\",\"type\":\"Selection\"},{\"attributes\":{\"background_fill_color\":\"#20262B\",\"below\":[{\"id\":\"12331\"}],\"border_fill_color\":\"#15191C\",\"center\":[{\"id\":\"12334\"},{\"id\":\"12338\"}],\"height\":300,\"left\":[{\"id\":\"12335\"}],\"outline_line_alpha\":0.25,\"outline_line_color\":\"#E0E0E0\",\"renderers\":[{\"id\":\"12352\"}],\"title\":{\"id\":\"12365\"},\"toolbar\":{\"id\":\"12343\"},\"toolbar_location\":null,\"width\":300,\"x_range\":{\"id\":\"12323\"},\"x_scale\":{\"id\":\"12327\"},\"y_range\":{\"id\":\"12325\"},\"y_scale\":{\"id\":\"12329\"}},\"id\":\"12322\",\"subtype\":\"Figure\",\"type\":\"Plot\"},{\"attributes\":{},\"id\":\"12356\",\"type\":\"BasicTickFormatter\"},{\"attributes\":{\"bottom_units\":\"screen\",\"coordinates\":null,\"fill_alpha\":0.5,\"fill_color\":\"lightgrey\",\"group\":null,\"left_units\":\"screen\",\"level\":\"overlay\",\"line_alpha\":1.0,\"line_color\":\"black\",\"line_dash\":[4,4],\"line_width\":2,\"right_units\":\"screen\",\"syncable\":false,\"top_units\":\"screen\"},\"id\":\"12342\",\"type\":\"BoxAnnotation\"},{\"attributes\":{\"background_fill_color\":\"#20262B\",\"below\":[{\"id\":\"12299\"}],\"border_fill_color\":\"#15191C\",\"center\":[{\"id\":\"12302\"},{\"id\":\"12306\"}],\"height\":300,\"left\":[{\"id\":\"12303\"}],\"outline_line_alpha\":0.25,\"outline_line_color\":\"#E0E0E0\",\"renderers\":[{\"id\":\"12320\"}],\"title\":{\"id\":\"12353\"},\"toolbar\":{\"id\":\"12311\"},\"toolbar_location\":null,\"width\":300,\"x_range\":{\"id\":\"12291\"},\"x_scale\":{\"id\":\"12295\"},\"y_range\":{\"id\":\"12293\"},\"y_scale\":{\"id\":\"12297\"}},\"id\":\"12290\",\"subtype\":\"Figure\",\"type\":\"Plot\"},{\"attributes\":{\"axis\":{\"id\":\"12303\"},\"coordinates\":null,\"dimension\":1,\"grid_line_alpha\":0.25,\"grid_line_color\":\"#E0E0E0\",\"group\":null,\"ticker\":null},\"id\":\"12306\",\"type\":\"Grid\"},{\"attributes\":{\"source\":{\"id\":\"12287\"}},\"id\":\"12321\",\"type\":\"CDSView\"},{\"attributes\":{},\"id\":\"12295\",\"type\":\"LinearScale\"},{\"attributes\":{},\"id\":\"12325\",\"type\":\"DataRange1d\"},{\"attributes\":{\"fill_color\":{\"value\":\"#1f77b4\"},\"line_color\":{\"value\":\"#1f77b4\"},\"size\":{\"value\":10},\"x\":{\"field\":\"x\"},\"y\":{\"field\":\"y\"}},\"id\":\"12316\",\"type\":\"Circle\"},{\"attributes\":{},\"id\":\"12323\",\"type\":\"DataRange1d\"},{\"attributes\":{\"tools\":[{\"id\":\"12307\"},{\"id\":\"12308\"},{\"id\":\"12309\"}]},\"id\":\"12311\",\"type\":\"Toolbar\"},{\"attributes\":{\"tools\":[{\"id\":\"12339\"},{\"id\":\"12340\"},{\"id\":\"12341\"}]},\"id\":\"12343\",\"type\":\"Toolbar\"},{\"attributes\":{},\"id\":\"12304\",\"type\":\"BasicTicker\"},{\"attributes\":{},\"id\":\"12309\",\"type\":\"ResetTool\"},{\"attributes\":{},\"id\":\"12357\",\"type\":\"AllLabels\"},{\"attributes\":{\"fill_alpha\":{\"value\":0.1},\"fill_color\":{\"value\":\"#1f77b4\"},\"hatch_alpha\":{\"value\":0.1},\"line_alpha\":{\"value\":0.1},\"line_color\":{\"value\":\"#1f77b4\"},\"size\":{\"value\":10},\"x\":{\"field\":\"x\"},\"y\":{\"field\":\"y\"}},\"id\":\"12349\",\"type\":\"Circle\"},{\"attributes\":{\"callback\":null},\"id\":\"12308\",\"type\":\"HoverTool\"},{\"attributes\":{},\"id\":\"12329\",\"type\":\"LinearScale\"},{\"attributes\":{},\"id\":\"12359\",\"type\":\"BasicTickFormatter\"},{\"attributes\":{\"overlay\":{\"id\":\"12310\"}},\"id\":\"12307\",\"type\":\"BoxSelectTool\"},{\"attributes\":{\"axis\":{\"id\":\"12331\"},\"coordinates\":null,\"grid_line_alpha\":0.25,\"grid_line_color\":\"#E0E0E0\",\"group\":null,\"ticker\":null},\"id\":\"12334\",\"type\":\"Grid\"},{\"attributes\":{\"axis_label_standoff\":10,\"axis_label_text_color\":\"#E0E0E0\",\"axis_label_text_font\":\"Helvetica\",\"axis_label_text_font_size\":\"1.25em\",\"axis_label_text_font_style\":\"normal\",\"axis_line_alpha\":0,\"axis_line_color\":\"#E0E0E0\",\"coordinates\":null,\"formatter\":{\"id\":\"12371\"},\"group\":null,\"major_label_policy\":{\"id\":\"12372\"},\"major_label_text_color\":\"#E0E0E0\",\"major_label_text_font\":\"Helvetica\",\"major_label_text_font_size\":\"1.025em\",\"major_tick_line_alpha\":0,\"major_tick_line_color\":\"#E0E0E0\",\"minor_tick_line_alpha\":0,\"minor_tick_line_color\":\"#E0E0E0\",\"ticker\":{\"id\":\"12332\"}},\"id\":\"12331\",\"type\":\"LinearAxis\"},{\"attributes\":{},\"id\":\"12361\",\"type\":\"UnionRenderers\"},{\"attributes\":{\"fill_alpha\":{\"value\":0.2},\"fill_color\":{\"value\":\"#1f77b4\"},\"hatch_alpha\":{\"value\":0.2},\"line_alpha\":{\"value\":0.2},\"line_color\":{\"value\":\"#1f77b4\"},\"size\":{\"value\":10},\"x\":{\"field\":\"x\"},\"y\":{\"field\":\"y\"}},\"id\":\"12319\",\"type\":\"Circle\"}],\"root_ids\":[\"12380\"]},\"title\":\"Bokeh Application\",\"version\":\"2.4.3\"}};\n",
       "  const render_items = [{\"docid\":\"19526dea-b584-4586-a43d-6056071254d2\",\"root_ids\":[\"12380\"],\"roots\":{\"12380\":\"4846deed-5c43-4b65-ad08-c170d3c019c2\"}}];\n",
       "  root.Bokeh.embed.embed_items_notebook(docs_json, render_items);\n",
       "  }\n",
       "  if (root.Bokeh !== undefined) {\n",
       "    embed_document(root);\n",
       "  } else {\n",
       "    let attempts = 0;\n",
       "    const timer = setInterval(function(root) {\n",
       "      if (root.Bokeh !== undefined) {\n",
       "        clearInterval(timer);\n",
       "        embed_document(root);\n",
       "      } else {\n",
       "        attempts++;\n",
       "        if (attempts > 100) {\n",
       "          clearInterval(timer);\n",
       "          console.log(\"Bokeh: ERROR: Unable to run BokehJS code because BokehJS library is missing\");\n",
       "        }\n",
       "      }\n",
       "    }, 10, root)\n",
       "  }\n",
       "})(window);"
      ],
      "application/vnd.bokehjs_exec.v0+json": ""
     },
     "metadata": {
      "application/vnd.bokehjs_exec.v0+json": {
       "id": "12380"
      }
     },
     "output_type": "display_data"
    }
   ],
   "source": [
    "# Create ColumnDataSource from a dict\n",
    "source = ColumnDataSource(data=dict(x=[1, 2, 3, 4, 5], y=[1, 2, 3, 4, 5]))\n",
    "\n",
    "# Create a view using an IndexFilter with the index positions [0, 2, 4]\n",
    "view = CDSView(source=source, filters=[IndexFilter([0, 2, 4])])\n",
    "\n",
    "# Setup tools\n",
    "tools = [\"box_select\", \"hover\", \"reset\"]\n",
    "\n",
    "# Create a first plot with all data in the ColumnDataSource\n",
    "p = figure(height=300, width=300, tools=tools)\n",
    "p.circle(x=\"x\", y=\"y\", size=10, hover_color=\"red\", source=source)\n",
    "\n",
    "# Create a second plot with a subset of ColumnDataSource, based on the view\n",
    "p_filtered = figure(height=300, width=300, tools=tools)\n",
    "p_filtered.circle(x=\"x\", y=\"y\", size=10, hover_color=\"red\", source=source, view=view)\n",
    "\n",
    "# Show both plots next to each other in a gridplot layout\n",
    "show(gridplot([[p, p_filtered]]))"
   ]
  },
  {
   "cell_type": "markdown",
   "id": "b0af4f79",
   "metadata": {},
   "source": [
    "# Using Widgets"
   ]
  },
  {
   "cell_type": "code",
   "execution_count": 54,
   "id": "60fc79c1",
   "metadata": {},
   "outputs": [],
   "source": [
    "x = [1, 2, 3, 4, 5, 6, 7, 8, 9, 10]\n",
    "y = [4, 5, 5, 7, 2, 6, 4, 9, 1, 3]\n",
    "\n",
    "p = figure(x_range=(1,9), width=500, height=250)\n",
    "points = p.circle(x=x, y=y, size=30, fill_color=\"#FFD300\")\n",
    "div = Div(\n",
    "    text=\"\"\"\n",
    "        <p>Select the circle's size using this control element:</p>\n",
    "        \"\"\",\n",
    "    width=200,\n",
    "    height=30,\n",
    ")\n",
    "spinner = Spinner(\n",
    "    title=\"Circle size\",  # a string to display above the widget\n",
    "    low=0,  # the lowest possible number to pick\n",
    "    high=60,  # the highest possible number to pick\n",
    "    step=2,  # the increments by which the number can be adjusted\n",
    "    value=points.glyph.size,  # the initial value to display in the widget\n",
    "    width=200,  #  the width of the widget in pixels\n",
    ")"
   ]
  },
  {
   "cell_type": "code",
   "execution_count": 55,
   "id": "503d797c",
   "metadata": {},
   "outputs": [],
   "source": [
    "spinner.js_link(\"value\", points.glyph, \"size\")"
   ]
  },
  {
   "cell_type": "code",
   "execution_count": 56,
   "id": "5c734954",
   "metadata": {},
   "outputs": [],
   "source": [
    "range_slider = RangeSlider(\n",
    "    title=\"Adjust x-axis range\", # a title to display above the slider\n",
    "    start=0,  # set the minimum value for the slider\n",
    "    end=10,  # set the maximum value for the slider\n",
    "    step=1,  # increments for the slider\n",
    "    value=(p.x_range.start, p.x_range.end),  # initial values for slider\n",
    ")"
   ]
  },
  {
   "cell_type": "code",
   "execution_count": 57,
   "id": "b8198fa7",
   "metadata": {},
   "outputs": [],
   "source": [
    "range_slider.js_link(\"value\", p.x_range, \"start\", attr_selector=0)\n",
    "range_slider.js_link(\"value\", p.x_range, \"end\", attr_selector=1)"
   ]
  },
  {
   "cell_type": "code",
   "execution_count": 58,
   "id": "87651101",
   "metadata": {},
   "outputs": [
    {
     "data": {
      "text/html": [
       "\n",
       "  <div class=\"bk-root\" id=\"8ad027b7-961a-407f-b3c6-47419fac7eb5\" data-root-id=\"13281\"></div>\n"
      ]
     },
     "metadata": {},
     "output_type": "display_data"
    },
    {
     "data": {
      "application/javascript": [
       "(function(root) {\n",
       "  function embed_document(root) {\n",
       "  const docs_json = {\"1f02f745-a235-494a-99e1-119dfff774ec\":{\"defs\":[],\"roots\":{\"references\":[{\"attributes\":{\"children\":[{\"id\":\"13275\"},{\"id\":\"13276\"},{\"id\":\"13278\"},{\"id\":\"13238\"}]},\"id\":\"13281\",\"type\":\"Column\"},{\"attributes\":{},\"id\":\"13761\",\"type\":\"BasicTickFormatter\"},{\"attributes\":{\"fill_alpha\":{\"value\":0.1},\"fill_color\":{\"value\":\"#FFD300\"},\"hatch_alpha\":{\"value\":0.1},\"line_alpha\":{\"value\":0.1},\"line_color\":{\"value\":\"#1f77b4\"},\"size\":{\"value\":30},\"x\":{\"field\":\"x\"},\"y\":{\"field\":\"y\"}},\"id\":\"13271\",\"type\":\"Circle\"},{\"attributes\":{},\"id\":\"13245\",\"type\":\"LinearScale\"},{\"attributes\":{\"axis_label_standoff\":10,\"axis_label_text_color\":\"#E0E0E0\",\"axis_label_text_font\":\"Helvetica\",\"axis_label_text_font_size\":\"1.25em\",\"axis_label_text_font_style\":\"normal\",\"axis_line_alpha\":0,\"axis_line_color\":\"#E0E0E0\",\"coordinates\":null,\"formatter\":{\"id\":\"13761\"},\"group\":null,\"major_label_policy\":{\"id\":\"13762\"},\"major_label_text_color\":\"#E0E0E0\",\"major_label_text_font\":\"Helvetica\",\"major_label_text_font_size\":\"1.025em\",\"major_tick_line_alpha\":0,\"major_tick_line_color\":\"#E0E0E0\",\"minor_tick_line_alpha\":0,\"minor_tick_line_color\":\"#E0E0E0\",\"ticker\":{\"id\":\"13252\"}},\"id\":\"13251\",\"type\":\"LinearAxis\"},{\"attributes\":{\"axis_label_standoff\":10,\"axis_label_text_color\":\"#E0E0E0\",\"axis_label_text_font\":\"Helvetica\",\"axis_label_text_font_size\":\"1.25em\",\"axis_label_text_font_style\":\"normal\",\"axis_line_alpha\":0,\"axis_line_color\":\"#E0E0E0\",\"coordinates\":null,\"formatter\":{\"id\":\"13764\"},\"group\":null,\"major_label_policy\":{\"id\":\"13765\"},\"major_label_text_color\":\"#E0E0E0\",\"major_label_text_font\":\"Helvetica\",\"major_label_text_font_size\":\"1.025em\",\"major_tick_line_alpha\":0,\"major_tick_line_color\":\"#E0E0E0\",\"minor_tick_line_alpha\":0,\"minor_tick_line_color\":\"#E0E0E0\",\"ticker\":{\"id\":\"13248\"}},\"id\":\"13247\",\"type\":\"LinearAxis\"},{\"attributes\":{},\"id\":\"13241\",\"type\":\"DataRange1d\"},{\"attributes\":{},\"id\":\"13243\",\"type\":\"LinearScale\"},{\"attributes\":{\"high\":60,\"js_property_callbacks\":{\"change:value\":[{\"id\":\"13277\"}]},\"low\":0,\"step\":2,\"title\":\"Circle size\",\"value\":30,\"value_throttled\":30,\"width\":200},\"id\":\"13276\",\"type\":\"Spinner\"},{\"attributes\":{\"source\":{\"id\":\"13269\"}},\"id\":\"13274\",\"type\":\"CDSView\"},{\"attributes\":{},\"id\":\"13255\",\"type\":\"PanTool\"},{\"attributes\":{},\"id\":\"13762\",\"type\":\"AllLabels\"},{\"attributes\":{},\"id\":\"13248\",\"type\":\"BasicTicker\"},{\"attributes\":{},\"id\":\"13765\",\"type\":\"AllLabels\"},{\"attributes\":{},\"id\":\"13766\",\"type\":\"UnionRenderers\"},{\"attributes\":{\"axis\":{\"id\":\"13247\"},\"coordinates\":null,\"grid_line_alpha\":0.25,\"grid_line_color\":\"#E0E0E0\",\"group\":null,\"ticker\":null},\"id\":\"13250\",\"type\":\"Grid\"},{\"attributes\":{},\"id\":\"13764\",\"type\":\"BasicTickFormatter\"},{\"attributes\":{\"fill_color\":{\"value\":\"#FFD300\"},\"line_color\":{\"value\":\"#1f77b4\"},\"size\":{\"value\":30},\"x\":{\"field\":\"x\"},\"y\":{\"field\":\"y\"}},\"id\":\"13270\",\"type\":\"Circle\"},{\"attributes\":{\"tools\":[{\"id\":\"13255\"},{\"id\":\"13256\"},{\"id\":\"13257\"},{\"id\":\"13258\"},{\"id\":\"13259\"},{\"id\":\"13260\"}]},\"id\":\"13262\",\"type\":\"Toolbar\"},{\"attributes\":{\"background_fill_color\":\"#20262B\",\"below\":[{\"id\":\"13247\"}],\"border_fill_color\":\"#15191C\",\"center\":[{\"id\":\"13250\"},{\"id\":\"13254\"}],\"height\":250,\"left\":[{\"id\":\"13251\"}],\"outline_line_alpha\":0.25,\"outline_line_color\":\"#E0E0E0\",\"renderers\":[{\"id\":\"13273\"}],\"title\":{\"id\":\"13758\"},\"toolbar\":{\"id\":\"13262\"},\"width\":500,\"x_range\":{\"id\":\"13239\"},\"x_scale\":{\"id\":\"13243\"},\"y_range\":{\"id\":\"13241\"},\"y_scale\":{\"id\":\"13245\"}},\"id\":\"13238\",\"subtype\":\"Figure\",\"type\":\"Plot\"},{\"attributes\":{},\"id\":\"13256\",\"type\":\"WheelZoomTool\"},{\"attributes\":{},\"id\":\"13767\",\"type\":\"Selection\"},{\"attributes\":{\"axis\":{\"id\":\"13251\"},\"coordinates\":null,\"dimension\":1,\"grid_line_alpha\":0.25,\"grid_line_color\":\"#E0E0E0\",\"group\":null,\"ticker\":null},\"id\":\"13254\",\"type\":\"Grid\"},{\"attributes\":{\"fill_alpha\":{\"value\":0.2},\"fill_color\":{\"value\":\"#FFD300\"},\"hatch_alpha\":{\"value\":0.2},\"line_alpha\":{\"value\":0.2},\"line_color\":{\"value\":\"#1f77b4\"},\"size\":{\"value\":30},\"x\":{\"field\":\"x\"},\"y\":{\"field\":\"y\"}},\"id\":\"13272\",\"type\":\"Circle\"},{\"attributes\":{},\"id\":\"13252\",\"type\":\"BasicTicker\"},{\"attributes\":{\"end\":10,\"js_property_callbacks\":{\"change:value\":[{\"id\":\"13279\"},{\"id\":\"13280\"}]},\"start\":0,\"title\":\"Adjust x-axis range\",\"value\":[1,9]},\"id\":\"13278\",\"type\":\"RangeSlider\"},{\"attributes\":{\"bottom_units\":\"screen\",\"coordinates\":null,\"fill_alpha\":0.5,\"fill_color\":\"lightgrey\",\"group\":null,\"left_units\":\"screen\",\"level\":\"overlay\",\"line_alpha\":1.0,\"line_color\":\"black\",\"line_dash\":[4,4],\"line_width\":2,\"right_units\":\"screen\",\"syncable\":false,\"top_units\":\"screen\"},\"id\":\"13261\",\"type\":\"BoxAnnotation\"},{\"attributes\":{\"args\":{\"other\":{\"id\":\"13270\"}},\"code\":\"other.size = this.value\"},\"id\":\"13277\",\"type\":\"CustomJS\"},{\"attributes\":{\"coordinates\":null,\"group\":null,\"text_color\":\"#E0E0E0\",\"text_font\":\"Helvetica\",\"text_font_size\":\"1.15em\"},\"id\":\"13758\",\"type\":\"Title\"},{\"attributes\":{\"end\":9,\"start\":1},\"id\":\"13239\",\"type\":\"Range1d\"},{\"attributes\":{\"overlay\":{\"id\":\"13261\"}},\"id\":\"13257\",\"type\":\"BoxZoomTool\"},{\"attributes\":{},\"id\":\"13259\",\"type\":\"ResetTool\"},{\"attributes\":{},\"id\":\"13260\",\"type\":\"HelpTool\"},{\"attributes\":{},\"id\":\"13258\",\"type\":\"SaveTool\"},{\"attributes\":{\"height\":30,\"text\":\"\\n        <p>Select the circle's size using this control element:</p>\\n        \",\"width\":200},\"id\":\"13275\",\"type\":\"Div\"},{\"attributes\":{\"data\":{\"x\":[1,2,3,4,5,6,7,8,9,10],\"y\":[4,5,5,7,2,6,4,9,1,3]},\"selected\":{\"id\":\"13767\"},\"selection_policy\":{\"id\":\"13766\"}},\"id\":\"13269\",\"type\":\"ColumnDataSource\"},{\"attributes\":{\"args\":{\"other\":{\"id\":\"13239\"}},\"code\":\"other.start = this.value[0]\"},\"id\":\"13279\",\"type\":\"CustomJS\"},{\"attributes\":{\"coordinates\":null,\"data_source\":{\"id\":\"13269\"},\"glyph\":{\"id\":\"13270\"},\"group\":null,\"hover_glyph\":null,\"muted_glyph\":{\"id\":\"13272\"},\"nonselection_glyph\":{\"id\":\"13271\"},\"view\":{\"id\":\"13274\"}},\"id\":\"13273\",\"type\":\"GlyphRenderer\"},{\"attributes\":{\"args\":{\"other\":{\"id\":\"13239\"}},\"code\":\"other.end = this.value[1]\"},\"id\":\"13280\",\"type\":\"CustomJS\"}],\"root_ids\":[\"13281\"]},\"title\":\"Bokeh Application\",\"version\":\"2.4.3\"}};\n",
       "  const render_items = [{\"docid\":\"1f02f745-a235-494a-99e1-119dfff774ec\",\"root_ids\":[\"13281\"],\"roots\":{\"13281\":\"8ad027b7-961a-407f-b3c6-47419fac7eb5\"}}];\n",
       "  root.Bokeh.embed.embed_items_notebook(docs_json, render_items);\n",
       "  }\n",
       "  if (root.Bokeh !== undefined) {\n",
       "    embed_document(root);\n",
       "  } else {\n",
       "    let attempts = 0;\n",
       "    const timer = setInterval(function(root) {\n",
       "      if (root.Bokeh !== undefined) {\n",
       "        clearInterval(timer);\n",
       "        embed_document(root);\n",
       "      } else {\n",
       "        attempts++;\n",
       "        if (attempts > 100) {\n",
       "          clearInterval(timer);\n",
       "          console.log(\"Bokeh: ERROR: Unable to run BokehJS code because BokehJS library is missing\");\n",
       "        }\n",
       "      }\n",
       "    }, 10, root)\n",
       "  }\n",
       "})(window);"
      ],
      "application/vnd.bokehjs_exec.v0+json": ""
     },
     "metadata": {
      "application/vnd.bokehjs_exec.v0+json": {
       "id": "13281"
      }
     },
     "output_type": "display_data"
    }
   ],
   "source": [
    "layout = column(\n",
    "    div, spinner,\n",
    "    range_slider,\n",
    "    p,\n",
    ")\n",
    "\n",
    "show(layout)"
   ]
  }
 ],
 "metadata": {
  "kernelspec": {
   "display_name": "Python 3 (ipykernel)",
   "language": "python",
   "name": "python3"
  },
  "language_info": {
   "codemirror_mode": {
    "name": "ipython",
    "version": 3
   },
   "file_extension": ".py",
   "mimetype": "text/x-python",
   "name": "python",
   "nbconvert_exporter": "python",
   "pygments_lexer": "ipython3",
   "version": "3.10.9"
  }
 },
 "nbformat": 4,
 "nbformat_minor": 5
}
